{
 "cells": [
  {
   "cell_type": "code",
   "execution_count": 1,
   "id": "4ce6f328",
   "metadata": {},
   "outputs": [],
   "source": [
    "import torch\n",
    "import numpy as np\n",
    "import matplotlib.pyplot as plt\n",
    "import scipy.integrate\n",
    "import tqdm.notebook\n",
    "\n",
    "import torchvision"
   ]
  },
  {
   "cell_type": "code",
   "execution_count": 2,
   "id": "df22d86f",
   "metadata": {},
   "outputs": [],
   "source": [
    "# Define device\n",
    "if torch.cuda.is_available():\n",
    "    DEVICE = \"cuda\"\n",
    "else:\n",
    "    DEVICE = \"cpu\""
   ]
  },
  {
   "cell_type": "markdown",
   "id": "49ead42e",
   "metadata": {},
   "source": [
    "### Define the SDE\n",
    "\n",
    "A diffusion model is defined chiefly by its underpinning stochastic differential equation (SDE):\n",
    "\n",
    "$dx = f(x, t)dt + g(x, t)d\\omega$, where $f$ is the drift coefficient, and $g$ is the diffusion coefficient.\n",
    "\n",
    "For any $x_{0}$ drawn from the original data distribution $p_{0}(x)$, running the SDE forward after time $t$ gives us a distribution of new objects, $p_{t}(x_{t}\\vert x_{0})$.\n",
    "\n",
    "In order to train and sample from a diffusion model, the SDE class needs to be implemented (in PyTorch). The SDE class must support the following methods:\n",
    "\n",
    "1. `drift_coef_func(x, t)`: this defines $f(x, t)$\n",
    "2. `diff_coef_func(x, t)`: this defines $g(x, t)$\n",
    "3. `forward(x, t, return_score)`: the SDE defines (marginal) conditional probability transitions $p_{t}(x_{t}\\vert x_{0})$, and this function runs the SDE forward by sampling noise $d\\omega$; it may also return the score of conditional probability itself, $\\nabla_{x}\\log(p_{t}(x_{t}\\vert x_{0}))$\n",
    "4. `mean_score_mag(t)`: the expected magnitude (L2 norm) of the score $\\nabla_{x}\\log(p_{t}(x_{t}\\vert x_{0}))$, normalized by the size of $x$\n",
    "5. `sample_prior(t)`: this samples from the prior distribution $\\pi(x)$ that the SDE converges to (may depend on $t$); this effectively samples from the conditional probability transitions, as $t\\rightarrow\\infty$\n",
    "\n",
    "Theoretically, one needs only to subclass and implement an SDE object in order to change the underpinning SDE. However, training details may also need to be adjusted for better results. Additionally, we refactor all SDE-related definitions here for modularity, but because the outputs of these methods will be used and combined in different ways, it may not be most efficient to separate out these functions like this."
   ]
  },
  {
   "cell_type": "code",
   "execution_count": 3,
   "id": "a834762b",
   "metadata": {},
   "outputs": [],
   "source": [
    "class SDE:\n",
    "    \n",
    "    # Base class for SDEs\n",
    "    \n",
    "    def __init__(self, input_shape, seed=None):\n",
    "        \"\"\"\n",
    "        Arguments:\n",
    "            `input_shape`: a tuple of ints which is the shape of input\n",
    "                tensors x; does not include batch dimension\n",
    "            `seed`: random seed for sampling and running the SDE\n",
    "        \"\"\"\n",
    "        self.input_shape = input_shape\n",
    "        self.rng = torch.Generator(device=DEVICE)\n",
    "        if seed:\n",
    "            self.rng.manual_seed(seed)\n",
    "            \n",
    "            \n",
    "    def _inflate_dims(self, v):\n",
    "        \"\"\"\n",
    "        Given a tensor vector `v`, appends dimensions of size 1 so that\n",
    "        it has the same number of dimensions as `self.input_shape`. For\n",
    "        example, if `self.input_shape` is (3, 50, 50), then this function\n",
    "        turns `v` from a B-tensor to a B x 1 x 1 x 1 tensor. This is\n",
    "        useful for combining the tensor with things shaped like the input\n",
    "        later.\n",
    "        Arguments:\n",
    "            `v`: a B-tensor\n",
    "        Returns a B x `self.input_shape` tensor.\n",
    "        \"\"\"\n",
    "        return v[(slice(None),) + ((None,) * len(self.input_shape))]\n",
    "\n",
    "    \n",
    "    def drift_coef_func(self, xt, t):\n",
    "        \"\"\"\n",
    "        Definition of drift coefficient f(xt, t).\n",
    "        Arguments:\n",
    "            `xt`: a B x `self.input_shape` tensor containing the data at\n",
    "                some time points\n",
    "            `t`: a B-tensor containing the time in the SDE for each input\n",
    "        Returns a B x `self.input_shape` tensor.\n",
    "        \"\"\"\n",
    "        return torch.zeros_like(xt)\n",
    "    \n",
    "    \n",
    "    def diff_coef_func(self, xt, t):\n",
    "        \"\"\"\n",
    "        Definition of diffusion coefficient g(t).\n",
    "        Arguments:\n",
    "            `xt`: a B x `self.input_shape` tensor containing the data at\n",
    "                some time points\n",
    "            `t`: a B-tensor containing the time in the SDE\n",
    "        Returns a B x `self.input_shape` tensor.\n",
    "        \"\"\"\n",
    "        return torch.zeros_like(xt)\n",
    "    \n",
    "    \n",
    "    def forward(self, x0, t, return_score=True):\n",
    "        \"\"\"\n",
    "        Runs the SDE forward given starting point `x0` and a time `t`.\n",
    "        Optional returns the score: the gradient (with respect to x) of the\n",
    "        log conditional probability, pt(xt | x0).\n",
    "        Arguments:\n",
    "            `x0`: a B x `self.input_shape` tensor containing the data at\n",
    "                some time points\n",
    "            `t`: a B-tensor containing the time in the SDE for each input\n",
    "        Returns a B x `self.input_shape` tensor to represent xt. If\n",
    "        `return_score` is True, then also returns a B x `self.input_shape`\n",
    "        tensor which is the gradient of the log conditional probability\n",
    "        (with respect to `xt`).\n",
    "        \"\"\"\n",
    "        if return_score:\n",
    "            return torch.zeros_like(x0), torch.zeros_like(x0)\n",
    "        else:\n",
    "            return torch.zeros_like(x0)\n",
    "        \n",
    "        \n",
    "    def mean_score_mag(self, t):\n",
    "        \"\"\"\n",
    "        Returns the average magnitude (squared L2 norm) of the score\n",
    "        (averaged over sampling and data distribution), divided by the\n",
    "        size of `x`. That is, this should be ||score||_2^2 / d, where d\n",
    "        is the size of `x`.\n",
    "        Arguments:\n",
    "            `t`: a B-tensor containing the time in the SDE\n",
    "        Returns a B-tensor containing the expected magnitude of the score\n",
    "        function at each time `t`.\n",
    "        \"\"\"\n",
    "        return torch.ones_like(t)\n",
    "        \n",
    "        \n",
    "    def sample_prior(self, num_samples, t):\n",
    "        \"\"\"\n",
    "        Samples from the prior distribution specified by the SDE at time `t`.\n",
    "        Arguments:\n",
    "            `num_samples`: B, the number of samples to return\n",
    "            `t`: a B-tensor containing the times in the SDE to sample for\n",
    "        Returns a B x `self.input_shape` tensor for the `xt` values that\n",
    "        are sampled.\n",
    "        \"\"\"\n",
    "        return torch.zeros(torch.Size([num_samples] + list(self.input_shape)))\n",
    "    \n",
    "    \n",
    "    def __str__(self):\n",
    "        return \"Base SDE\""
   ]
  },
  {
   "cell_type": "markdown",
   "id": "bf69f8f7",
   "metadata": {},
   "source": [
    "#### Variance-exploding SDE\n",
    "\n",
    "Let us define our SDE to be the following:\n",
    "\n",
    "$dx = \\sigma^{t}d\\omega$\n",
    "\n",
    "That is, $f(x, t) = 0$ and $g(t) = \\sigma^{t}$\n",
    "\n",
    "In this case, our conditional probability is $p_{t}(x_{t}\\vert x_{0}) = Norm(x_{0}, \\frac{\\sigma^{2t} - 1}{2\\log(\\sigma)}I)$.\n",
    "\n",
    "That is, $x_{t} = x_{0} + \\sqrt{\\frac{\\sigma^{2t} - 1}{2\\log(\\sigma)}}z$ for $z \\sim Norm(0, I)$.\n",
    "\n",
    "Our conditional probability *score* is $\\nabla_{x}\\log(p_{t}(x_{t}\\vert x_{0})) = -\\frac{z}{\\sqrt{\\frac{\\sigma^{2t} - 1}{2\\log(\\sigma)}}}$\n",
    "\n",
    "The expected magnitude of $\\Vert \\nabla_{x}\\log(p_{t}(x_{t}\\vert x_{0}))\\Vert_{2}^{2}$ is $\\frac{d}{\\frac{\\sigma^{2t} - 1}{2\\log(\\sigma)}}$, if $x \\in \\mathbb{R}^{d}$"
   ]
  },
  {
   "cell_type": "code",
   "execution_count": 4,
   "id": "50b73559",
   "metadata": {},
   "outputs": [],
   "source": [
    "class VarianceExplodingSDE(SDE):\n",
    "    \n",
    "    def __init__(self, sigma, input_shape, seed=None):\n",
    "        \"\"\"\n",
    "        Arguments:\n",
    "            `sigma`: the sigma in dx = sigma^t dw\n",
    "            `input_shape`: a tuple of ints which is the shape of input\n",
    "                tensors x; does not include batch dimension\n",
    "            `seed`: random seed for sampling and running the SDE\n",
    "        \"\"\"\n",
    "        super().__init__(input_shape, seed)\n",
    "        \n",
    "        self.sigma = torch.tensor(sigma).to(DEVICE)\n",
    "        self.string = \"Variance Exploding SDE (beta(t) = %.2f^t)\" % sigma\n",
    "    \n",
    "    \n",
    "    def drift_coef_func(self, xt, t):\n",
    "        \"\"\"\n",
    "        Definition of drift coefficient f(xt, t).\n",
    "        Arguments:\n",
    "            `xt`: a B x `self.input_shape` tensor containing the data at\n",
    "                some time points\n",
    "            `t`: a B-tensor containing the time in the SDE for each input\n",
    "        Returns a B x `self.input_shape` tensor.\n",
    "        \"\"\"\n",
    "        return torch.zeros_like(xt)\n",
    "    \n",
    "    \n",
    "    def diff_coef_func(self, xt, t):\n",
    "        \"\"\"\n",
    "        Definition of diffusion coefficient g(t).\n",
    "        Arguments:\n",
    "            `xt`: a B x `self.input_shape` tensor containing the data at\n",
    "                some time points\n",
    "            `t`: a B-tensor containing the time in the SDE\n",
    "        Returns a B x `self.input_shape` tensor.\n",
    "        \"\"\"\n",
    "        return self._inflate_dims(torch.pow(self.sigma, t))\n",
    "    \n",
    "    \n",
    "    def forward(self, x0, t, return_score=True):\n",
    "        \"\"\"\n",
    "        Runs the SDE forward given starting point `x0` and a time `t`.\n",
    "        Optional returns the score: the gradient (with respect to x) of the\n",
    "        log conditional probability, pt(xt | x0).\n",
    "        Arguments:\n",
    "            `xt`: a B x `self.input_shape` tensor containing the data at\n",
    "                some time points\n",
    "            `t`: a B-tensor containing the time in the SDE for each input\n",
    "        Returns a B x `self.input_shape` tensor to represent xt. If\n",
    "        `return_score` is True, then also returns a B x `self.input_shape`\n",
    "        tensor which is the gradient of the log conditional probability\n",
    "        (with respect to `xt`).\n",
    "        \"\"\"\n",
    "        z = torch.normal(\n",
    "            torch.zeros_like(x0), torch.ones_like(x0), generator=self.rng\n",
    "        )  # Shape: B x ...\n",
    "        \n",
    "        variance = (torch.pow(self.sigma, 2 * t) - 1) / (2 * torch.log(self.sigma))\n",
    "        std = self._inflate_dims(torch.sqrt(variance))  # Shape: B x ...        \n",
    "        xt = x0 + (std * z)\n",
    "        \n",
    "        if return_score:\n",
    "            score = -z / std\n",
    "            return xt, score\n",
    "        else:\n",
    "            return xt\n",
    "        \n",
    "\n",
    "    def mean_score_mag(self, t):\n",
    "        \"\"\"\n",
    "        Returns the average magnitude (squared L2 norm) of the score\n",
    "        (averaged over sampling and data distribution), divided by the\n",
    "        size of `x`. That is, this should be ||score||_2^2 / d, where d\n",
    "        is the size of `x`.\n",
    "        Arguments:\n",
    "            `t`: a B-tensor containing the time in the SDE\n",
    "        Returns a B-tensor containing the expected magnitude of the score\n",
    "        function at each time `t`, divided by the size of `x`.\n",
    "        \"\"\"\n",
    "        variance = (torch.pow(self.sigma, 2 * t) - 1) / (2 * torch.log(self.sigma))\n",
    "        return 1 / variance  # Shape: B\n",
    "        \n",
    "        \n",
    "    def sample_prior(self, num_samples, t):\n",
    "        \"\"\"\n",
    "        Samples from the prior distribution specified by the SDE at time `t`.\n",
    "        Arguments:\n",
    "            `num_samples`: B, the number of samples to return\n",
    "            `t`: a B-tensor containing the times in the SDE to sample for\n",
    "        Returns a B x `self.input_shape` tensor for the `xt` values that\n",
    "        are sampled.\n",
    "        \"\"\"\n",
    "        shape = torch.Size([num_samples]) + torch.Size(self.input_shape)\n",
    "        z = torch.normal(\n",
    "            torch.zeros(shape).to(DEVICE), torch.ones(shape).to(DEVICE), generator=self.rng\n",
    "        )  # Shape: B x ...\n",
    "        \n",
    "        variance = (torch.pow(self.sigma, 2 * t) - 1) / (2 * torch.log(self.sigma))\n",
    "        std = self._inflate_dims(torch.sqrt(variance))  # Shape: B x ...\n",
    "        \n",
    "        return z * std\n",
    "    \n",
    "    \n",
    "    def __str__(self):\n",
    "        return self.string"
   ]
  },
  {
   "cell_type": "markdown",
   "id": "ddd71000",
   "metadata": {},
   "source": [
    "#### Variance-preserving SDE\n",
    "\n",
    "Let us define our SDE to be the following:\n",
    "\n",
    "$dx = -\\frac{1}{2}\\beta(t)xdt + \\sqrt{\\beta(t)}d\\omega$\n",
    "\n",
    "That is, $f(x, t) = -\\frac{1}{2}\\beta(t)x$ and $g(t) = \\sqrt{\\beta(t)}$\n",
    "\n",
    "For simplicity, let us have $\\beta(t) = \\beta_{0} + \\Delta\\beta t$, where $\\Delta\\beta = \\beta_{1}-\\beta_{0}$\n",
    "\n",
    "We define $\\overline{\\beta_{t}} = \\int\\limits_{0}^{t}\\beta(s)ds = \\beta_{0}t + \\frac{1}{2}\\Delta\\beta t^{2}$\n",
    "\n",
    "In this case, our conditional probability is $p_{t}(x_{t}\\vert x_{0}) = Norm(x(0)\\exp(-\\frac{1}{2}\\overline{\\beta_{t}}), (1 - \\exp(-\\overline{\\beta_{t}}))I)$\n",
    "\n",
    "That is, $x_{t} = x_{0}\\exp(-\\frac{1}{2}\\overline{\\beta_{t}}) + \\sqrt{1 - \\exp(-\\overline{\\beta_{t}})}z$ for $z \\sim Norm(0, I)$.\n",
    "\n",
    "Our conditional probability *score* is $\\nabla_{x}\\log(p_{t}(x_{t}\\vert x_{0})) = -\\frac{z}{\\sqrt{1 - \\exp(-\\overline{\\beta_{t}})}}$\n",
    "\n",
    "The expected magnitude of $\\Vert \\nabla_{x}\\log(p_{t}(x_{t}\\vert x_{0}))\\Vert_{2}^{2}$ is $\\frac{d}{1 - \\exp(-\\overline{\\beta_{t}})}$, if $x \\in \\mathbb{R}^{d}$"
   ]
  },
  {
   "cell_type": "code",
   "execution_count": 5,
   "id": "7c9ad61e",
   "metadata": {},
   "outputs": [],
   "source": [
    "class VariancePreservingSDE(SDE):\n",
    "    \n",
    "    def __init__(self, beta_0, beta_1, input_shape, seed=None):\n",
    "        \"\"\"\n",
    "        Arguments:\n",
    "            `beta_0`: beta(0); see below\n",
    "            `beta_1`: beta(1); beta(t) will be linearly interpolated\n",
    "                between beta(0) and beta(1)\n",
    "            `input_shape`: a tuple of ints which is the shape of input\n",
    "                tensors x; does not include batch dimension\n",
    "            `seed`: random seed for sampling and running the SDE\n",
    "        \"\"\"\n",
    "        super().__init__(input_shape, seed)\n",
    "        \n",
    "        self.beta_0 = torch.tensor(beta_0).to(DEVICE)\n",
    "        self.delta_beta = torch.tensor(beta_1 - beta_0).to(DEVICE)\n",
    "        self.string = \"Variance Preserving SDE (beta(t) = %.2f + %.2ft)\" % (beta_0, beta_1 - beta_0)\n",
    "        \n",
    "    def _beta(self, t):\n",
    "        \"\"\"\n",
    "        Computes beta(t).\n",
    "        Arguments:\n",
    "            `t`: a B-tensor of times\n",
    "        Returns a B-tensor of beta values.\n",
    "        \"\"\"\n",
    "        return self.beta_0 + (self.delta_beta * t)\n",
    "        \n",
    "        \n",
    "    def _beta_bar(self, t):\n",
    "        \"\"\"\n",
    "        Computes the integral of beta(0) to beta(t).\n",
    "        Arguments:\n",
    "            `t`: a B-tensor of times\n",
    "        Returns a B-tensor of beta-bar values.\n",
    "        \"\"\"\n",
    "        return (self.beta_0 * t) + (0.5 * self.delta_beta * torch.square(t))\n",
    "        \n",
    "    \n",
    "    def drift_coef_func(self, xt, t):\n",
    "        \"\"\"\n",
    "        Definition of drift coefficient f(xt, t).\n",
    "        Arguments:\n",
    "            `xt`: a B x `self.input_shape` tensor containing the data at\n",
    "                some time points\n",
    "            `t`: a B-tensor containing the time in the SDE for each input\n",
    "        Returns a B x `self.input_shape` tensor.\n",
    "        \"\"\"\n",
    "        return -0.5 * self._inflate_dims(self._beta(t)) * xt\n",
    "    \n",
    "    \n",
    "    def diff_coef_func(self, xt, t):\n",
    "        \"\"\"\n",
    "        Definition of diffusion coefficient g(t).\n",
    "        Arguments:\n",
    "            `xt`: a B x `self.input_shape` tensor containing the data at\n",
    "                some time points\n",
    "            `t`: a B-tensor containing the time in the SDE\n",
    "        Returns a B x `self.input_shape` tensor.\n",
    "        \"\"\"\n",
    "        return self._inflate_dims(torch.sqrt(self._beta(t)))\n",
    "    \n",
    "    \n",
    "    def forward(self, x0, t, return_score=True):\n",
    "        \"\"\"\n",
    "        Runs the SDE forward given starting point `x0` and a time `t`.\n",
    "        Optional returns the score: the gradient (with respect to x) of the\n",
    "        log conditional probability, pt(xt | x0).\n",
    "        Arguments:\n",
    "            `xt`: a B x `self.input_shape` tensor containing the data at\n",
    "                some time points\n",
    "            `t`: a B-tensor containing the time in the SDE for each input\n",
    "        Returns a B x `self.input_shape` tensor to represent xt. If\n",
    "        `return_score` is True, then also returns a B x `self.input_shape`\n",
    "        tensor which is the gradient of the log conditional probability\n",
    "        (with respect to `xt`).\n",
    "        \"\"\"\n",
    "        z = torch.normal(\n",
    "            torch.zeros_like(x0), torch.ones_like(x0), generator=self.rng\n",
    "        )  # Shape: B x ...\n",
    "        \n",
    "        mean = x0 * torch.exp(-0.5 * self._inflate_dims(self._beta_bar(t)))\n",
    "        variance = 1 - torch.exp(-self._beta_bar(t))\n",
    "        std = self._inflate_dims(torch.sqrt(variance))  # Shape: B x ...\n",
    "        \n",
    "        xt = mean + (std * z)\n",
    "        \n",
    "        if return_score:\n",
    "            score = -z / std\n",
    "            return xt, score\n",
    "        else:\n",
    "            return xt\n",
    "        \n",
    "\n",
    "    def mean_score_mag(self, t):\n",
    "        \"\"\"\n",
    "        Returns the average magnitude (squared L2 norm) of the score\n",
    "        (averaged over sampling and data distribution), divided by the\n",
    "        size of `x`. That is, this should be ||score||_2^2 / d, where d\n",
    "        is the size of `x`.\n",
    "        Arguments:\n",
    "            `t`: a B-tensor containing the time in the SDE\n",
    "        Returns a B-tensor containing the expected magnitude of the score\n",
    "        function at each time `t`.\n",
    "        \"\"\"\n",
    "        variance = 1 - torch.exp(-self._beta_bar(t))\n",
    "        return 1 / variance  # Shape: B\n",
    "        \n",
    "        \n",
    "    def sample_prior(self, num_samples, t):\n",
    "        \"\"\"\n",
    "        Samples from the prior distribution specified by the SDE at time `t`.\n",
    "        Arguments:\n",
    "            `num_samples`: B, the number of samples to return\n",
    "            `t`: a B-tensor containing the times in the SDE to sample for\n",
    "        Returns a B x `self.input_shape` tensor for the `xt` values that\n",
    "        are sampled.\n",
    "        \"\"\"\n",
    "        # We will sample in the limit as t approaches infinity\n",
    "        shape = torch.Size([num_samples]) + torch.Size(self.input_shape)\n",
    "        return torch.normal(\n",
    "            torch.zeros(shape).to(DEVICE), torch.ones(shape).to(DEVICE), generator=self.rng\n",
    "        )  # Shape: B x ...\n",
    "    \n",
    "    \n",
    "    def __str__(self):\n",
    "        return self.string"
   ]
  },
  {
   "cell_type": "markdown",
   "id": "cbaee443",
   "metadata": {},
   "source": [
    "#### Hongler SDE\n",
    "\n",
    "Let us define our SDE to be the following:\n",
    "\n",
    "$dx = -\\frac{1}{2}\\tanh(x)(\\mu^{2}\\text{sech}^{2}(x) + 2)\\beta(t)dt + \\mu\\text{sech}(x)\\sqrt{\\beta(t)}d\\omega$\n",
    "\n",
    "That is, $f(x, t) = -\\frac{1}{2}\\tanh(x)(\\mu^{2}\\text{sech}^{2}(x) + 2)\\beta(t)$ and $g(t) = \\mu\\text{sech}(x)\\sqrt{\\beta(t)}$\n",
    "\n",
    "Let us have $\\beta(t) = (\\frac{t}{a})^{b}$, parameterized by $a$ (the length of time for variance to grow slowly) and $b$ (the steepness of variance growth)\n",
    "\n",
    "We define $\\overline{\\beta_{t}} = \\int\\limits_{0}^{t}\\beta(s)ds$\n",
    "\n",
    "$\\mu$ is a parameter which determines the prior distribution the SDE converges to. If $\\mu < \\sqrt{2}$, the prior is unimodal and Gaussian-like. If $\\mu = \\sqrt{2}$, it has a somewhat flat singular mode. If $\\mu > \\sqrt{2}$, the prior is bimodal, and the modes extremify for larger $\\mu$.\n",
    "\n",
    "In particular, the prior is $\\pi(x) = \\frac{cosh(x)}{\\sqrt{\\pi}\\mu}\\exp(-\\frac{\\sinh^{2}(x)}{\\mu^{2}})$\n",
    "\n",
    "In this case, our conditional probability is $p_{t}(x_{t}\\vert x_{0}) = \\sinh^{-1}(y_{t})$, where $y_{t} = Norm(y_{0}\\exp(-\\overline{\\beta_{t}}), (\\frac{1}{2}\\mu^{2}(1-\\exp(-2\\overline{\\beta_{t}})))I)$, and $y_{0} = \\sinh(x_{0})$\n",
    "\n",
    "That is, $x_{t} = \\sinh^{-1}(\\sinh(x_{0})\\exp(-\\overline{\\beta_{t}}) + \\mu\\sqrt{\\frac{1-\\exp(-2\\overline{\\beta_{t}})}{2}}z)$ for $z \\sim Norm(0, I)$.\n",
    "\n",
    "Our conditional probability *score* is $\\nabla_{x}\\log(p_{t}(x_{t}\\vert x_{0})) = \\frac{\\cosh(x_{t})}{\\mu^{2}}A + \\tanh(x_{t})$, where $A = \\sinh(x_{0})\\text{csch}(\\overline{\\beta_{t}})- \\sinh(x_{t})(\\text{coth}(\\overline{\\beta_{t}}) + 1)$\n",
    "\n",
    "The expected magnitude of $\\Vert \\nabla_{x}\\log(p_{t}(x_{t}\\vert x_{0}))\\Vert_{2}^{2}$ is ???"
   ]
  },
  {
   "cell_type": "code",
   "execution_count": 6,
   "id": "5470f7f4",
   "metadata": {},
   "outputs": [],
   "source": [
    "class HonglerSDE(SDE):\n",
    "    \n",
    "    def __init__(self, mu, a, b, input_shape, seed=None):\n",
    "        \"\"\"\n",
    "        Arguments:\n",
    "            `mu`: mu parameter of the SDE, which determines the shape\n",
    "                of the prior\n",
    "            `a`: length of time for the slow-growing variance regime\n",
    "            `b`: steepness of variance growth\n",
    "            `input_shape`: a tuple of ints which is the shape of input\n",
    "                tensors x; does not include batch dimension\n",
    "            `seed`: random seed for sampling and running the SDE\n",
    "        \"\"\"\n",
    "        super().__init__(input_shape, seed)\n",
    "        \n",
    "        self.mu = torch.tensor(mu).to(DEVICE)\n",
    "        self.a = torch.tensor(a).to(DEVICE)\n",
    "        self.b = torch.tensor(b).to(DEVICE)\n",
    "        self.string = \"Hongler SDE (mu = %.2f, beta(t) = (t / %.2f)^%.2f)\" % (mu, a, b)\n",
    "        \n",
    "        \n",
    "    def _beta(self, t):\n",
    "        \"\"\"\n",
    "        Computes beta(t).\n",
    "        Arguments:\n",
    "            `t`: a B-tensor of times\n",
    "        Returns a B-tensor of beta values.\n",
    "        \"\"\"\n",
    "        return torch.pow(t / self.a, self.b)\n",
    "        \n",
    "        \n",
    "    def _beta_bar(self, t):\n",
    "        \"\"\"\n",
    "        Computes the integral of beta(0) to beta(t).\n",
    "        Arguments:\n",
    "            `t`: a B-tensor of times\n",
    "        Returns a B-tensor of beta-bar values.\n",
    "        \"\"\"\n",
    "        return (self.a / (self.b + 1)) * torch.pow(t / self.a, self.b + 1)\n",
    "        \n",
    "    \n",
    "    def drift_coef_func(self, xt, t):\n",
    "        \"\"\"\n",
    "        Definition of drift coefficient f(xt, t).\n",
    "        Arguments:\n",
    "            `xt`: a B x `self.input_shape` tensor containing the data at\n",
    "                some time points\n",
    "            `t`: a B-tensor containing the time in the SDE for each input\n",
    "        Returns a B x `self.input_shape` tensor.\n",
    "        \"\"\"\n",
    "        beta = self._inflate_dims(self._beta(t))\n",
    "        return -0.5 * torch.tanh(xt) * ((torch.square(self.mu) * torch.square(1 / torch.cosh(xt))) + 2) * beta\n",
    "    \n",
    "    \n",
    "    def diff_coef_func(self, xt, t):\n",
    "        \"\"\"\n",
    "        Definition of diffusion coefficient g(t).\n",
    "        Arguments:\n",
    "            `xt`: a B x `self.input_shape` tensor containing the data at\n",
    "                some time points\n",
    "            `t`: a B-tensor containing the time in the SDE\n",
    "        Returns a B x `self.input_shape` tensor.\n",
    "        \"\"\"\n",
    "        beta = self._inflate_dims(self._beta(t))\n",
    "        return self.mu * torch.sqrt(beta) / torch.cosh(xt)\n",
    "    \n",
    "    \n",
    "    def forward(self, x0, t, return_score=True):\n",
    "        \"\"\"\n",
    "        Runs the SDE forward given starting point `x0` and a time `t`.\n",
    "        Optional returns the score: the gradient (with respect to x) of the\n",
    "        log conditional probability, pt(xt | x0).\n",
    "        Arguments:\n",
    "            `xt`: a B x `self.input_shape` tensor containing the data at\n",
    "                some time points\n",
    "            `t`: a B-tensor containing the time in the SDE for each input\n",
    "        Returns a B x `self.input_shape` tensor to represent xt. If\n",
    "        `return_score` is True, then also returns a B x `self.input_shape`\n",
    "        tensor which is the gradient of the log conditional probability\n",
    "        (with respect to `xt`).\n",
    "        \"\"\"\n",
    "        # Sample xt\n",
    "        z = torch.normal(\n",
    "            torch.zeros_like(x0), torch.ones_like(x0), generator=self.rng\n",
    "        )  # Shape: B x ...\n",
    "        beta_bar = self._inflate_dims(self._beta_bar(t))\n",
    "        mean = torch.exp(-beta_bar)\n",
    "        std = self.mu * torch.sqrt((1 - torch.exp(-2 * beta_bar)) / 2)\n",
    "        xt = torch.arcsinh((torch.sinh(x0) * mean) + (std * z))\n",
    "        \n",
    "        if return_score:\n",
    "            a = (torch.sinh(x0) * (1 / torch.sinh(beta_bar))) - (torch.sinh(xt) * ((1 / torch.tanh(beta_bar)) + 1))\n",
    "            score = (a * torch.cosh(xt) / torch.square(self.mu)) + torch.tanh(xt)\n",
    "            return xt, score\n",
    "        else:\n",
    "            return xt\n",
    "        \n",
    "\n",
    "    def mean_score_mag(self, t):\n",
    "        \"\"\"\n",
    "        Returns the average magnitude (squared L2 norm) of the score\n",
    "        (averaged over sampling and data distribution), divided by the\n",
    "        size of `x`. That is, this should be ||score||_2^2 / d, where d\n",
    "        is the size of `x`.\n",
    "        Arguments:\n",
    "            `t`: a B-tensor containing the time in the SDE\n",
    "        Returns a B-tensor containing the expected magnitude of the score\n",
    "        function at each time `t`.\n",
    "        \"\"\"\n",
    "        raise NotImplementedError\n",
    "        \n",
    "        \n",
    "    def sample_prior(self, num_samples, t):\n",
    "        \"\"\"\n",
    "        Samples from the prior distribution specified by the SDE at time `t`.\n",
    "        Arguments:\n",
    "            `num_samples`: B, the number of samples to return\n",
    "            `t`: a B-tensor containing the times in the SDE to sample for\n",
    "        Returns a B x `self.input_shape` tensor for the `xt` values that\n",
    "        are sampled.\n",
    "        \"\"\"\n",
    "        # We will sample in the limit as t approaches infinity\n",
    "        shape = torch.Size([num_samples]) + torch.Size(self.input_shape)\n",
    "        z = torch.normal(\n",
    "            torch.zeros(shape).to(DEVICE), torch.ones(shape).to(DEVICE), generator=self.rng\n",
    "        )  # Shape: B x ...\n",
    "        return torch.arcsinh((self.mu / torch.sqrt(torch.tensor(2)).to(DEVICE)) * z)\n",
    "    \n",
    "    \n",
    "    def __str__(self):\n",
    "        return self.string"
   ]
  },
  {
   "cell_type": "markdown",
   "id": "80ebc60a",
   "metadata": {},
   "source": [
    "### Define the score model $s_{\\theta}$\n",
    "\n",
    "We will start by defining it for image data, using a U-net architecture."
   ]
  },
  {
   "cell_type": "code",
   "execution_count": 7,
   "id": "894c8025",
   "metadata": {},
   "outputs": [],
   "source": [
    "class ScoreUNet(torch.nn.Module):\n",
    "\n",
    "    def __init__(\n",
    "        self, channels=[32, 64, 128, 256], time_embed_size=256, mean_score_mag=None,\n",
    "        data_channels=1\n",
    "    ):\n",
    "        \"\"\"\n",
    "        Initialize a time-dependent score-based U-net.\n",
    "        Arguments:\n",
    "            `channels`: the number of channels in each \"layer\" of the U-net\n",
    "            `time_embed_size`: size of the time embeddings\n",
    "            `mean_score_mag`: if given, rescales the model outputs by multiplying\n",
    "                by the average score magnitude (L2 norm); this must be a function\n",
    "                which takes in a B-tensor of time points, and returns a B-tensor\n",
    "                of expected squared L2 norms\n",
    "            `data_channels`: number of channels in input image\n",
    "        Note this architecture assumes the initial depth of the images is 1.\n",
    "        \"\"\"\n",
    "        super().__init__()\n",
    "        \n",
    "        self.mean_score_mag = mean_score_mag\n",
    "        \n",
    "        # Random embedding layer for time; the random weights are set at the\n",
    "        # start and are not trainable\n",
    "        self.time_embed_rand_weights = torch.nn.Parameter(\n",
    "            torch.randn(time_embed_size // 2) * 30, requires_grad=False\n",
    "        )\n",
    "        self.time_embed_dense = torch.nn.Linear(time_embed_size, time_embed_size)\n",
    "        \n",
    "        # Encoders: receptive field increases and depth increases\n",
    "        self.conv_e1 = torch.nn.Conv2d(data_channels, channels[0], kernel_size=3, stride=1, bias=False)\n",
    "        self.time_dense_e1 = torch.nn.Linear(time_embed_size, channels[0])\n",
    "        self.norm_e1 = torch.nn.GroupNorm(4, num_channels=channels[0])\n",
    "        \n",
    "        self.conv_e2 = torch.nn.Conv2d(channels[0], channels[1], kernel_size=3, stride=2, bias=False)\n",
    "        self.time_dense_e2 = torch.nn.Linear(time_embed_size, channels[1])\n",
    "        self.norm_e2 = torch.nn.GroupNorm(32, num_channels=channels[1])\n",
    "        \n",
    "        self.conv_e3 = torch.nn.Conv2d(channels[1], channels[2], kernel_size=3, stride=2, bias=False)\n",
    "        self.time_dense_e3 = torch.nn.Linear(time_embed_size, channels[2])\n",
    "        self.norm_e3 = torch.nn.GroupNorm(32, num_channels=channels[2])\n",
    "        \n",
    "        self.conv_e4 = torch.nn.Conv2d(channels[2], channels[3], kernel_size=3, stride=2, bias=False)\n",
    "        self.time_dense_e4 = torch.nn.Linear(time_embed_size, channels[3])\n",
    "        self.norm_e4 = torch.nn.GroupNorm(32, num_channels=channels[3])   \n",
    "\n",
    "        # Decoders: depth decreases\n",
    "        self.conv_d4 = torch.nn.ConvTranspose2d(channels[3], channels[2], 3, stride=2, bias=False)\n",
    "        self.time_dense_d4 = torch.nn.Linear(time_embed_size, channels[2])\n",
    "        self.norm_d4 = torch.nn.GroupNorm(32, num_channels=channels[2])\n",
    "        \n",
    "        self.conv_d3 = torch.nn.ConvTranspose2d(channels[2] * 2, channels[1], 3, stride=2, output_padding=1, bias=False)\n",
    "        self.time_dense_d3 = torch.nn.Linear(time_embed_size, channels[1])\n",
    "        self.norm_d3 = torch.nn.GroupNorm(32, num_channels=channels[1])\n",
    "        \n",
    "        self.conv_d2 = torch.nn.ConvTranspose2d(channels[1] * 2, channels[0], 3, stride=2, output_padding=1, bias=False)\n",
    "        self.time_dense_d2 = torch.nn.Linear(time_embed_size, channels[0])\n",
    "        self.norm_d2 = torch.nn.GroupNorm(32, num_channels=channels[0])\n",
    "        \n",
    "        self.conv_d1 = torch.nn.ConvTranspose2d(channels[0] * 2, data_channels, 3, stride=1, bias=True)\n",
    "\n",
    "        # Activation functions\n",
    "        self.swish = lambda x: x * torch.sigmoid(x)  # Swish activation: x * sigmoid(x)\n",
    "\n",
    "        \n",
    "    def forward(self, xt, t):\n",
    "        \"\"\"\n",
    "        Forward pass of the network.\n",
    "        Arguments:\n",
    "            `xt`: B x 1 x H x W tensor containing the images to train on\n",
    "            `t`: B-tensor containing the times to train the network for each\n",
    "                image\n",
    "        Returns a B x 1 x H x W tensor which consists of the (unnormalized)\n",
    "        score estimate.\n",
    "        \"\"\"\n",
    "        # Get the time embeddings for `t`\n",
    "        # We first sample vector z from some zero-mean Gaussian (of fixed variance),\n",
    "        # and then we embed the time as cos(2 * pi * t * z) and sin(2 * pi * t * z)\n",
    "        time_embed_args = t[:, None] * self.time_embed_rand_weights[None, :] * 2 * np.pi\n",
    "        # Shape: B x (E / 2)\n",
    "        time_embed = self.swish(\n",
    "            torch.cat([torch.sin(time_embed_args), torch.cos(time_embed_args)], dim=1)\n",
    "        )\n",
    "        # Shape: B x E\n",
    "        \n",
    "        # Encoding\n",
    "        enc_1_out = self.swish(self.norm_e1(\n",
    "            self.conv_e1(xt) + self.time_dense_e1(time_embed)[:, :, None, None]\n",
    "        ))\n",
    "        enc_2_out = self.swish(self.norm_e2(\n",
    "            self.conv_e2(enc_1_out) + self.time_dense_e2(time_embed)[:, :, None, None]\n",
    "        ))\n",
    "        enc_3_out = self.swish(self.norm_e3(\n",
    "            self.conv_e3(enc_2_out) + self.time_dense_e3(time_embed)[:, :, None, None]\n",
    "        ))\n",
    "        enc_4_out = self.swish(self.norm_e4(\n",
    "            self.conv_e4(enc_3_out) + self.time_dense_e4(time_embed)[:, :, None, None]\n",
    "        ))\n",
    "            \n",
    "        # Decoding\n",
    "        dec_4_out = self.swish(self.norm_d4(\n",
    "            self.conv_d4(enc_4_out) + self.time_dense_d4(time_embed)[:, :, None, None]\n",
    "        ))\n",
    "        dec_3_out = self.swish(self.norm_d3(\n",
    "            self.conv_d3(torch.cat([dec_4_out, enc_3_out], dim=1)) + self.time_dense_d3(time_embed)[:, :, None, None]\n",
    "        ))\n",
    "        dec_2_out = self.swish(self.norm_d2(\n",
    "            self.conv_d2(torch.cat([dec_3_out, enc_2_out], dim=1)) + self.time_dense_d2(time_embed)[:, :, None, None]\n",
    "        ))\n",
    "        dec_1_out = self.conv_d1(torch.cat([dec_2_out, enc_1_out], dim=1))\n",
    "        \n",
    "        if self.mean_score_mag:\n",
    "            pred = dec_1_out * torch.sqrt(self.mean_score_mag(t)[:, None, None, None])\n",
    "        else:\n",
    "            pred = dec_1_out\n",
    "        \n",
    "        return pred"
   ]
  },
  {
   "cell_type": "code",
   "execution_count": 8,
   "id": "09371896",
   "metadata": {},
   "outputs": [],
   "source": [
    "# class ScoreUNet(torch.nn.Module):\n",
    "\n",
    "#     def __init__(\n",
    "#         self, channels=[32, 64, 128, 256], time_embed_size=256, mean_score_mag=None,\n",
    "#         data_channels=1\n",
    "#     ):\n",
    "#         \"\"\"\n",
    "#         Initialize a time-dependent score-based U-net.\n",
    "#         Arguments:\n",
    "#             `channels`: the number of channels in each \"layer\" of the U-net\n",
    "#             `time_embed_size`: size of the time embeddings\n",
    "#             `mean_score_mag`: if given, rescales the model outputs by multiplying\n",
    "#                 by the average score magnitude (L2 norm); this must be a function\n",
    "#                 which takes in a B-tensor of time points, and returns a B-tensor\n",
    "#                 of expected squared L2 norms\n",
    "#             `data_channels`: number of channels in input image\n",
    "#         Note this architecture assumes the initial depth of the images is 1.\n",
    "#         \"\"\"\n",
    "#         super().__init__()\n",
    "        \n",
    "#         self.mean_score_mag = mean_score_mag\n",
    "        \n",
    "#         # Random embedding layer for time; the random weights are set at the\n",
    "#         # start and are not trainable\n",
    "#         self.time_embed_rand_weights = torch.nn.Parameter(\n",
    "#             torch.randn(time_embed_size // 2) * 30, requires_grad=False\n",
    "#         )\n",
    "#         self.time_embed_dense = torch.nn.Linear(time_embed_size, time_embed_size)\n",
    "        \n",
    "#         # Encoders: receptive field increases and depth increases\n",
    "#         self.conv_e1 = torch.nn.Conv2d(data_channels, channels[0], kernel_size=5, stride=1, bias=False)\n",
    "#         self.time_dense_e1 = torch.nn.Linear(time_embed_size, channels[0])\n",
    "#         self.norm_e1 = torch.nn.GroupNorm(4, num_channels=channels[0])\n",
    "        \n",
    "#         self.conv_e2 = torch.nn.Conv2d(channels[0], channels[1], kernel_size=5, stride=2, bias=False)\n",
    "#         self.time_dense_e2 = torch.nn.Linear(time_embed_size, channels[1])\n",
    "#         self.norm_e2 = torch.nn.GroupNorm(32, num_channels=channels[1])\n",
    "        \n",
    "#         self.conv_e3 = torch.nn.Conv2d(channels[1], channels[2], kernel_size=3, stride=2, bias=False)\n",
    "#         self.time_dense_e3 = torch.nn.Linear(time_embed_size, channels[2])\n",
    "#         self.norm_e3 = torch.nn.GroupNorm(32, num_channels=channels[2])\n",
    "        \n",
    "#         self.conv_e4 = torch.nn.Conv2d(channels[2], channels[3], kernel_size=3, stride=2, bias=False)\n",
    "#         self.time_dense_e4 = torch.nn.Linear(time_embed_size, channels[3])\n",
    "#         self.norm_e4 = torch.nn.GroupNorm(32, num_channels=channels[3])   \n",
    "\n",
    "#         # Decoders: depth decreases\n",
    "#         self.conv_d4 = torch.nn.ConvTranspose2d(channels[3], channels[2], 3, stride=2, output_padding=0, bias=False)\n",
    "#         self.time_dense_d4 = torch.nn.Linear(time_embed_size, channels[2])\n",
    "#         self.norm_d4 = torch.nn.GroupNorm(32, num_channels=channels[2])\n",
    "        \n",
    "#         self.conv_d3 = torch.nn.ConvTranspose2d(channels[2] * 2, channels[1], 3, stride=2, output_padding=1, bias=False)\n",
    "#         self.time_dense_d3 = torch.nn.Linear(time_embed_size, channels[1])\n",
    "#         self.norm_d3 = torch.nn.GroupNorm(32, num_channels=channels[1])\n",
    "        \n",
    "#         self.conv_d2 = torch.nn.ConvTranspose2d(channels[1] * 2, channels[0], 5, stride=2, output_padding=1, bias=False)\n",
    "#         self.time_dense_d2 = torch.nn.Linear(time_embed_size, channels[0])\n",
    "#         self.norm_d2 = torch.nn.GroupNorm(32, num_channels=channels[0])\n",
    "        \n",
    "#         self.conv_d1 = torch.nn.ConvTranspose2d(channels[0] * 2, data_channels, 5, stride=1, bias=True)\n",
    "\n",
    "#         # Activation functions\n",
    "#         self.swish = lambda x: x * torch.sigmoid(x)  # Swish activation: x * sigmoid(x)\n",
    "\n",
    "        \n",
    "#     def forward(self, xt, t):\n",
    "#         \"\"\"\n",
    "#         Forward pass of the network.\n",
    "#         Arguments:\n",
    "#             `xt`: B x 1 x H x W tensor containing the images to train on\n",
    "#             `t`: B-tensor containing the times to train the network for each\n",
    "#                 image\n",
    "#         Returns a B x 1 x H x W tensor which consists of the (unnormalized)\n",
    "#         score estimate.\n",
    "#         \"\"\"\n",
    "#         # Get the time embeddings for `t`\n",
    "#         # We first sample vector z from some zero-mean Gaussian (of fixed variance),\n",
    "#         # and then we embed the time as cos(2 * pi * t * z) and sin(2 * pi * t * z)\n",
    "#         time_embed_args = t[:, None] * self.time_embed_rand_weights[None, :] * 2 * np.pi\n",
    "#         # Shape: B x (E / 2)\n",
    "#         time_embed = self.swish(\n",
    "#             torch.cat([torch.sin(time_embed_args), torch.cos(time_embed_args)], dim=1)\n",
    "#         )\n",
    "#         # Shape: B x E\n",
    "        \n",
    "#         # Encoding\n",
    "#         enc_1_out = self.swish(self.norm_e1(\n",
    "#             self.conv_e1(xt) + self.time_dense_e1(time_embed)[:, :, None, None]\n",
    "#         ))\n",
    "#         enc_2_out = self.swish(self.norm_e2(\n",
    "#             self.conv_e2(enc_1_out) + self.time_dense_e2(time_embed)[:, :, None, None]\n",
    "#         ))\n",
    "#         enc_3_out = self.swish(self.norm_e3(\n",
    "#             self.conv_e3(enc_2_out) + self.time_dense_e3(time_embed)[:, :, None, None]\n",
    "#         ))\n",
    "#         enc_4_out = self.swish(self.norm_e4(\n",
    "#             self.conv_e4(enc_3_out) + self.time_dense_e4(time_embed)[:, :, None, None]\n",
    "#         ))\n",
    "            \n",
    "#         # Decoding\n",
    "#         dec_4_out = self.swish(self.norm_d4(\n",
    "#             self.conv_d4(enc_4_out) + self.time_dense_d4(time_embed)[:, :, None, None]\n",
    "#         ))\n",
    "#         dec_3_out = self.swish(self.norm_d3(\n",
    "#             self.conv_d3(torch.cat([dec_4_out, enc_3_out], dim=1)) + self.time_dense_d3(time_embed)[:, :, None, None]\n",
    "#         ))\n",
    "#         dec_2_out = self.swish(self.norm_d2(\n",
    "#             self.conv_d2(torch.cat([dec_3_out, enc_2_out], dim=1)) + self.time_dense_d2(time_embed)[:, :, None, None]\n",
    "#         ))\n",
    "#         dec_1_out = self.conv_d1(torch.cat([dec_2_out, enc_1_out], dim=1))\n",
    "        \n",
    "#         if self.mean_score_mag:\n",
    "#             pred = dec_1_out * torch.sqrt(self.mean_score_mag(t)[:, None, None, None])\n",
    "#         else:\n",
    "#             pred = dec_1_out\n",
    "        \n",
    "#         return pred"
   ]
  },
  {
   "cell_type": "markdown",
   "id": "b572a2b1",
   "metadata": {},
   "source": [
    "### Create the dataloader"
   ]
  },
  {
   "cell_type": "code",
   "execution_count": 9,
   "id": "214615a3",
   "metadata": {},
   "outputs": [],
   "source": [
    "image_to_tensor = torchvision.transforms.ToTensor()\n",
    "dataset = torchvision.datasets.MNIST(\n",
    "    '/gstore/data/resbioai/tsenga5/', train=True, transform=(lambda img: (image_to_tensor(img) * 2) - 1)\n",
    ")\n",
    "# dataset = torchvision.datasets.ImageFolder(\n",
    "#     \"/gstore/data/resbioai/tsenga5/all_cats/\", transform=(lambda img: (image_to_tensor(img) * 2) - 1)\n",
    "# )\n",
    "data_loader = torch.utils.data.DataLoader(dataset, batch_size=32, shuffle=True, num_workers=2)\n",
    "\n",
    "input_shape = next(iter(data_loader))[0].shape[1:]\n",
    "data_channels = input_shape[0]"
   ]
  },
  {
   "cell_type": "markdown",
   "id": "bdcebba8",
   "metadata": {},
   "source": [
    "### Train the model"
   ]
  },
  {
   "cell_type": "code",
   "execution_count": 10,
   "id": "e7d16fec",
   "metadata": {},
   "outputs": [],
   "source": [
    "def train_model(\n",
    "    model, sde, data_loader, num_epochs, learning_rate,\n",
    "    loss_weighting_type=\"norm\", t_limit=1\n",
    "):\n",
    "    \"\"\"\n",
    "    Trains a diffusion model using the given instantiated model and SDE\n",
    "    object.\n",
    "    Arguments:\n",
    "        `model`: an instantiated score model which takes in x, t and\n",
    "            predicts score\n",
    "        `sde`: an SDE object\n",
    "        `data_loader`: a DataLoader object that yields batches of data\n",
    "            in pairs: x, y (the y is not used)\n",
    "        `num_epochs`: number of epochs to train for\n",
    "        `learning_rate`: learning rate to use for training\n",
    "        `loss_weighting_type`: method for weighting the loss; can be\n",
    "            \"ml\" to weight by g^2, \"norm\" to weight by the mean\n",
    "            magnitude of the loss, or None to do no weighting at all\n",
    "        `t_limit`: training will occur between time 0 and `t_limit`\n",
    "    \"\"\"\n",
    "    torch.set_grad_enabled(True)\n",
    "    optim = torch.optim.Adam(model.parameters(), lr=learning_rate)\n",
    "    for epoch_num in range(num_epochs):\n",
    "        total_loss, total_inputs = 0, 0\n",
    "        t_iter = tqdm.notebook.tqdm(data_loader)\n",
    "        for x0, _ in t_iter:\n",
    "            x0 = x0.to(DEVICE)\n",
    "            \n",
    "            # Sample random times from 0 to 1\n",
    "            t = (torch.rand(x0.shape[0]) * t_limit).to(DEVICE)\n",
    "            \n",
    "            # Run SDE forward to get xt and the true score at xt\n",
    "            xt, true_score = sde.forward(x0, t)\n",
    "            \n",
    "            # Get model-predicted score\n",
    "            pred_score = model(xt, t)\n",
    "            \n",
    "            # Get weighting factor\n",
    "            if loss_weighting_type == \"ml\":\n",
    "                loss_weight = 1 / sde.diff_coef_func(xt, t)\n",
    "            elif loss_weighting_type == \"norm\":\n",
    "                try:\n",
    "                    loss_weight = sde._inflate_dims(sde.mean_score_mag(t))\n",
    "                    raise NotImplementedError\n",
    "                except NotImplementedError:\n",
    "                    loss_weight = sde._inflate_dims(\n",
    "                        torch.mean(torch.square(true_score), dim=tuple(range(1, len(x0.shape))))\n",
    "                    )\n",
    "            elif loss_weighting_type is None:\n",
    "                loss_weight = torch.ones_like(x0)\n",
    "            \n",
    "            # Compute loss as MSE\n",
    "            squared_error = torch.square(true_score - pred_score)\n",
    "            loss = torch.mean(torch.sum(\n",
    "                squared_error / loss_weight,\n",
    "                dim=tuple(range(1, len(x0.shape)))\n",
    "            ))\n",
    "#             saved_vals.append((\n",
    "#                 t.cpu().numpy(),\n",
    "#                 true_score.cpu().numpy(),\n",
    "#                 pred_score.detach().cpu().numpy(),\n",
    "#                 np.squeeze(loss_weight.cpu().numpy())\n",
    "#             ))\n",
    "            \n",
    "            optim.zero_grad()\n",
    "            loss.backward()\n",
    "            torch.nn.utils.clip_grad_norm_(model.parameters(), 1)\n",
    "            optim.step()\n",
    "            loss_val = loss.item()\n",
    "            total_loss += loss_val * x0.shape[0]\n",
    "            total_inputs += x0.shape[0]\n",
    "            \n",
    "            t_iter.set_description(\"Loss: %.2f\" % loss_val)\n",
    "        \n",
    "        print(\"Epoch %d average Loss: %.2f\" % (epoch_num + 1, total_loss / total_inputs))\n",
    "        torch.save(model.state_dict(), \"ckpt.pth\")"
   ]
  },
  {
   "cell_type": "code",
   "execution_count": 11,
   "id": "ab1a36e2",
   "metadata": {},
   "outputs": [],
   "source": [
    "# Create the SDE and model\n",
    "\n",
    "# sde = VarianceExplodingSDE(25.0, input_shape)\n",
    "# sde = VariancePreservingSDE(0.1, 20, input_shape)\n",
    "sde = HonglerSDE(5, 1.5, 2, input_shape)\n",
    "\n",
    "t_limit = 5\n",
    "model = ScoreUNet(mean_score_mag=None, data_channels=data_channels).to(DEVICE)"
   ]
  },
  {
   "cell_type": "code",
   "execution_count": 12,
   "id": "1efc4143",
   "metadata": {},
   "outputs": [
    {
     "data": {
      "image/png": "[encoded data removed]",
      "text/plain": [
       "<Figure size 1440x288 with 10 Axes>"
      ]
     },
     "metadata": {
      "needs_background": "light"
     },
     "output_type": "display_data"
    },
    {
     "data": {
      "image/png": "[encoded data removed]",
      "text/plain": [
       "<Figure size 1440x288 with 10 Axes>"
      ]
     },
     "metadata": {
      "needs_background": "light"
     },
     "output_type": "display_data"
    },
    {
     "data": {
      "image/png": "[encoded data removed]",
      "text/plain": [
       "<Figure size 1440x288 with 10 Axes>"
      ]
     },
     "metadata": {
      "needs_background": "light"
     },
     "output_type": "display_data"
    },
    {
     "data": {
      "image/png": "[encoded data removed]",
      "text/plain": [
       "<Figure size 1440x288 with 10 Axes>"
      ]
     },
     "metadata": {
      "needs_background": "light"
     },
     "output_type": "display_data"
    },
    {
     "data": {
      "image/png": "[encoded data removed]",
      "text/plain": [
       "<Figure size 1440x288 with 10 Axes>"
      ]
     },
     "metadata": {
      "needs_background": "light"
     },
     "output_type": "display_data"
    },
    {
     "data": {
      "image/png": "[encoded data removed]",
      "text/plain": [
       "<Figure size 1440x576 with 1 Axes>"
      ]
     },
     "metadata": {
      "needs_background": "light"
     },
     "output_type": "display_data"
    }
   ],
   "source": [
    "# Show some images after running the SDE forward for different times\n",
    "time_steps = 4\n",
    "\n",
    "x0, _ = next(iter(data_loader))\n",
    "\n",
    "def plot_digits(x, num_to_plot=10, title=None):\n",
    "    fig, ax = plt.subplots(ncols=num_to_plot, figsize=(20, 4))\n",
    "    for i in range(num_to_plot):\n",
    "        ax[i].imshow(x[i].permute(1, 2, 0), cmap=\"gray\")\n",
    "        ax[i].axis('off')\n",
    "    if title:\n",
    "        ax[0].set_title(title)\n",
    "    plt.show()\n",
    "    \n",
    "plot_digits(np.clip(x0, 0, 1), title=\"t = 0\")\n",
    "x0 = x0.to(DEVICE)\n",
    "for t in np.linspace(0.01, t_limit, time_steps):\n",
    "    xt, score = sde.forward(x0, torch.full(x0.shape[:1], t).to(DEVICE))\n",
    "    plot_digits(torch.clamp(xt, 0, 1).cpu(), title=(\"t = %.2f\" % t))\n",
    "    \n",
    "# Show the transformation of the distribution of data to the prior distribution\n",
    "time_steps = 30\n",
    "\n",
    "all_t = np.linspace(0, t_limit, time_steps)\n",
    "all_xt = np.empty((len(all_t),) + x0.shape)\n",
    "for t_i, t in enumerate(all_t):\n",
    "    xt, _ = sde.forward(x0, torch.ones(len(x0)).to(DEVICE) * t)\n",
    "    all_xt[t_i] = xt.cpu().numpy()\n",
    "\n",
    "fig, ax = plt.subplots(figsize=(20, 8))\n",
    "cmap = plt.get_cmap(\"magma\")\n",
    "for t_i in range(len(all_t)):\n",
    "    ax.hist(np.ravel(all_xt[t_i]), bins=60, histtype=\"step\", color=cmap(t_i / len(all_t)), alpha=0.5, density=True)\n",
    "prior = sde.sample_prior(len(x0), torch.ones(len(x0)).to(DEVICE) * t).cpu().numpy()\n",
    "ax.hist(np.ravel(prior), bins=60, histtype=\"step\", color=\"blue\", linewidth=2, density=True, label=\"Sampled prior\")\n",
    "ax.set_xlabel(\"x\")\n",
    "ax.set_ylabel(\"p(x)\")\n",
    "ax.set_title(\"Evolution of p(x) over forward SDE\")\n",
    "ax.set_ylim((0, 3))\n",
    "plt.legend()\n",
    "plt.show()"
   ]
  },
  {
   "cell_type": "code",
   "execution_count": 13,
   "id": "6fc871ea",
   "metadata": {
    "scrolled": true
   },
   "outputs": [
    {
     "data": {
      "application/vnd.jupyter.widget-view+json": {
       "model_id": "027c0999f415492d873fe311dd962a63",
       "version_major": 2,
       "version_minor": 0
      },
      "text/plain": [
       "  0%|          | 0/1875 [00:00<?, ?it/s]"
      ]
     },
     "metadata": {},
     "output_type": "display_data"
    },
    {
     "name": "stdout",
     "output_type": "stream",
     "text": [
      "Epoch 1 average Loss: 239.23\n"
     ]
    },
    {
     "data": {
      "application/vnd.jupyter.widget-view+json": {
       "model_id": "71f4134b6d3046b897e192d3b9065d49",
       "version_major": 2,
       "version_minor": 0
      },
      "text/plain": [
       "  0%|          | 0/1875 [00:00<?, ?it/s]"
      ]
     },
     "metadata": {},
     "output_type": "display_data"
    },
    {
     "name": "stdout",
     "output_type": "stream",
     "text": [
      "Epoch 2 average Loss: 98.87\n"
     ]
    },
    {
     "data": {
      "application/vnd.jupyter.widget-view+json": {
       "model_id": "72fd3db6160547c8a9746c0f5f3e4bd5",
       "version_major": 2,
       "version_minor": 0
      },
      "text/plain": [
       "  0%|          | 0/1875 [00:00<?, ?it/s]"
      ]
     },
     "metadata": {},
     "output_type": "display_data"
    },
    {
     "name": "stdout",
     "output_type": "stream",
     "text": [
      "Epoch 3 average Loss: 71.98\n"
     ]
    },
    {
     "data": {
      "application/vnd.jupyter.widget-view+json": {
       "model_id": "346f73168484441db85b663632b72d08",
       "version_major": 2,
       "version_minor": 0
      },
      "text/plain": [
       "  0%|          | 0/1875 [00:00<?, ?it/s]"
      ]
     },
     "metadata": {},
     "output_type": "display_data"
    },
    {
     "name": "stdout",
     "output_type": "stream",
     "text": [
      "Epoch 4 average Loss: 58.71\n"
     ]
    },
    {
     "data": {
      "application/vnd.jupyter.widget-view+json": {
       "model_id": "6bf711a9391d43f08a43e84e9810e648",
       "version_major": 2,
       "version_minor": 0
      },
      "text/plain": [
       "  0%|          | 0/1875 [00:00<?, ?it/s]"
      ]
     },
     "metadata": {},
     "output_type": "display_data"
    },
    {
     "name": "stdout",
     "output_type": "stream",
     "text": [
      "Epoch 5 average Loss: 53.68\n"
     ]
    },
    {
     "data": {
      "application/vnd.jupyter.widget-view+json": {
       "model_id": "00614e37bc5a4847a0560c4c9c809659",
       "version_major": 2,
       "version_minor": 0
      },
      "text/plain": [
       "  0%|          | 0/1875 [00:00<?, ?it/s]"
      ]
     },
     "metadata": {},
     "output_type": "display_data"
    },
    {
     "name": "stdout",
     "output_type": "stream",
     "text": [
      "Epoch 6 average Loss: 49.75\n"
     ]
    },
    {
     "data": {
      "application/vnd.jupyter.widget-view+json": {
       "model_id": "2ecdab0a89d34e1ba393f5b0dadde1aa",
       "version_major": 2,
       "version_minor": 0
      },
      "text/plain": [
       "  0%|          | 0/1875 [00:00<?, ?it/s]"
      ]
     },
     "metadata": {},
     "output_type": "display_data"
    },
    {
     "name": "stdout",
     "output_type": "stream",
     "text": [
      "Epoch 7 average Loss: 47.16\n"
     ]
    },
    {
     "data": {
      "application/vnd.jupyter.widget-view+json": {
       "model_id": "3bceab7050ad483a91a01b8e4465c9e3",
       "version_major": 2,
       "version_minor": 0
      },
      "text/plain": [
       "  0%|          | 0/1875 [00:00<?, ?it/s]"
      ]
     },
     "metadata": {},
     "output_type": "display_data"
    },
    {
     "name": "stdout",
     "output_type": "stream",
     "text": [
      "Epoch 8 average Loss: 45.80\n"
     ]
    },
    {
     "data": {
      "application/vnd.jupyter.widget-view+json": {
       "model_id": "9e4774061f0c4f0c9b1f2243dd6b271a",
       "version_major": 2,
       "version_minor": 0
      },
      "text/plain": [
       "  0%|          | 0/1875 [00:00<?, ?it/s]"
      ]
     },
     "metadata": {},
     "output_type": "display_data"
    },
    {
     "name": "stdout",
     "output_type": "stream",
     "text": [
      "Epoch 9 average Loss: 43.53\n"
     ]
    },
    {
     "data": {
      "application/vnd.jupyter.widget-view+json": {
       "model_id": "934f9478f58142e0bac70aa7fb482b7c",
       "version_major": 2,
       "version_minor": 0
      },
      "text/plain": [
       "  0%|          | 0/1875 [00:00<?, ?it/s]"
      ]
     },
     "metadata": {},
     "output_type": "display_data"
    },
    {
     "name": "stdout",
     "output_type": "stream",
     "text": [
      "Epoch 10 average Loss: 42.57\n"
     ]
    },
    {
     "data": {
      "application/vnd.jupyter.widget-view+json": {
       "model_id": "e92bf0a860a043e58ec97fa4fb088dd7",
       "version_major": 2,
       "version_minor": 0
      },
      "text/plain": [
       "  0%|          | 0/1875 [00:00<?, ?it/s]"
      ]
     },
     "metadata": {},
     "output_type": "display_data"
    },
    {
     "name": "stdout",
     "output_type": "stream",
     "text": [
      "Epoch 11 average Loss: 41.52\n"
     ]
    },
    {
     "data": {
      "application/vnd.jupyter.widget-view+json": {
       "model_id": "523fefc7c2e443f49f2c9c8abeec0637",
       "version_major": 2,
       "version_minor": 0
      },
      "text/plain": [
       "  0%|          | 0/1875 [00:00<?, ?it/s]"
      ]
     },
     "metadata": {},
     "output_type": "display_data"
    },
    {
     "name": "stdout",
     "output_type": "stream",
     "text": [
      "Epoch 12 average Loss: 40.11\n"
     ]
    },
    {
     "data": {
      "application/vnd.jupyter.widget-view+json": {
       "model_id": "d77c2ead53b645f4bc12fe68dc799307",
       "version_major": 2,
       "version_minor": 0
      },
      "text/plain": [
       "  0%|          | 0/1875 [00:00<?, ?it/s]"
      ]
     },
     "metadata": {},
     "output_type": "display_data"
    },
    {
     "name": "stdout",
     "output_type": "stream",
     "text": [
      "Epoch 13 average Loss: 39.34\n"
     ]
    },
    {
     "data": {
      "application/vnd.jupyter.widget-view+json": {
       "model_id": "fb95ee34ff7d42e59bb3a979b9681b88",
       "version_major": 2,
       "version_minor": 0
      },
      "text/plain": [
       "  0%|          | 0/1875 [00:00<?, ?it/s]"
      ]
     },
     "metadata": {},
     "output_type": "display_data"
    },
    {
     "name": "stdout",
     "output_type": "stream",
     "text": [
      "Epoch 14 average Loss: 38.44\n"
     ]
    },
    {
     "data": {
      "application/vnd.jupyter.widget-view+json": {
       "model_id": "3cb822ffc4a24408b415e140dde3f47e",
       "version_major": 2,
       "version_minor": 0
      },
      "text/plain": [
       "  0%|          | 0/1875 [00:00<?, ?it/s]"
      ]
     },
     "metadata": {},
     "output_type": "display_data"
    },
    {
     "name": "stdout",
     "output_type": "stream",
     "text": [
      "Epoch 15 average Loss: 37.63\n"
     ]
    },
    {
     "data": {
      "application/vnd.jupyter.widget-view+json": {
       "model_id": "1b1683ebfe954a2b8f980cba751b7164",
       "version_major": 2,
       "version_minor": 0
      },
      "text/plain": [
       "  0%|          | 0/1875 [00:00<?, ?it/s]"
      ]
     },
     "metadata": {},
     "output_type": "display_data"
    },
    {
     "name": "stdout",
     "output_type": "stream",
     "text": [
      "Epoch 16 average Loss: 36.84\n"
     ]
    },
    {
     "data": {
      "application/vnd.jupyter.widget-view+json": {
       "model_id": "9eb398767dd348eeb2c3f15341e04b23",
       "version_major": 2,
       "version_minor": 0
      },
      "text/plain": [
       "  0%|          | 0/1875 [00:00<?, ?it/s]"
      ]
     },
     "metadata": {},
     "output_type": "display_data"
    },
    {
     "name": "stdout",
     "output_type": "stream",
     "text": [
      "Epoch 17 average Loss: 37.06\n"
     ]
    },
    {
     "data": {
      "application/vnd.jupyter.widget-view+json": {
       "model_id": "5efdd0b708e84377928c454c5434f388",
       "version_major": 2,
       "version_minor": 0
      },
      "text/plain": [
       "  0%|          | 0/1875 [00:00<?, ?it/s]"
      ]
     },
     "metadata": {},
     "output_type": "display_data"
    },
    {
     "name": "stdout",
     "output_type": "stream",
     "text": [
      "Epoch 18 average Loss: 36.57\n"
     ]
    },
    {
     "data": {
      "application/vnd.jupyter.widget-view+json": {
       "model_id": "168623d778c642be83f2d49854b06211",
       "version_major": 2,
       "version_minor": 0
      },
      "text/plain": [
       "  0%|          | 0/1875 [00:00<?, ?it/s]"
      ]
     },
     "metadata": {},
     "output_type": "display_data"
    },
    {
     "name": "stderr",
     "output_type": "stream",
     "text": [
      "\n",
      "KeyboardInterrupt\n",
      "\n"
     ]
    }
   ],
   "source": [
    "saved_vals = []\n",
    "train_model(\n",
    "    model, sde, data_loader, num_epochs=30, learning_rate=0.001,\n",
    "    loss_weighting_type=\"norm\", t_limit=t_limit\n",
    ")"
   ]
  },
  {
   "cell_type": "code",
   "execution_count": null,
   "id": "54297ff9",
   "metadata": {},
   "outputs": [],
   "source": [
    "# save_path = \"\".join(str(sde)[:str(sde).index(\"SDE\")].strip().split()).lower() + \"_first_epoch_stats.npz\"\n",
    "# np.savez(\n",
    "#     save_path,\n",
    "#     times=np.concatenate([tup[0] for tup in saved_vals]),\n",
    "#     true_scores=np.concatenate([tup[1] for tup in saved_vals]),\n",
    "#     pred_scores=np.concatenate([tup[2] for tup in saved_vals])\n",
    "# )"
   ]
  },
  {
   "cell_type": "markdown",
   "id": "adc9aa1d",
   "metadata": {},
   "source": [
    "### Sample from the trained model\n",
    "\n",
    "The three strategies for sampling from the trained model are:\n",
    "\n",
    "1. Euler-Maruyama: We take the corresponding reverse SDE and step through it backwards through time\n",
    "2. Predictor-Corrector: Like Euler-Maruyama, but in each step we also run a round of Langevin dynamics to better align the step with the score function\n",
    "3. ODE: We take the corresponding ODE of the reverse SDE (which has the same transitional probabilities) and step through it backwards through time using an ODE solver"
   ]
  },
  {
   "cell_type": "code",
   "execution_count": 14,
   "id": "2895d655",
   "metadata": {},
   "outputs": [],
   "source": [
    "def generate_samples(\n",
    "    model, sde, sampler=\"em\", num_samples=64, num_steps=500, epsilon=0.001,\n",
    "    t_limit=1\n",
    "):\n",
    "    \"\"\"\n",
    "    Generates samples from a trained score model and SDE. This first\n",
    "    generates a sample from the SDE's prior distribution a t = 1, then\n",
    "    steps backward through time to generate new data points.\n",
    "    Arguments:\n",
    "        `model`: a trained score model which takes in x, t and\n",
    "            predicts score\n",
    "        `sde`: an SDE object\n",
    "        `sampler`: one of \"em\", \"pc\", or \"ode\" for Euler-Maruyama,\n",
    "            predictor-corrector, or ordinary differential equation,\n",
    "            respectively\n",
    "        `num_samples`: number of objects to return\n",
    "        `num_steps`: number of steps to take for Euler-Maruyama and\n",
    "            predictor-corrector algorithms\n",
    "        `epsilon`: last time step to stop at before hitting 0\n",
    "        `t_limit`: the time step to start generating at\n",
    "    Returns a tensor of size `num_samples` x ...\n",
    "    \"\"\"\n",
    "    # First, sample from the prior distribution at some late time t\n",
    "    t = (torch.ones(num_samples) * t_limit).to(DEVICE)\n",
    "    xt = sde.sample_prior(num_samples, t)\n",
    "    \n",
    "    # Disable gradient computation in model\n",
    "    torch.set_grad_enabled(False)\n",
    "    \n",
    "    if sampler == \"em\":\n",
    "        # Euler-Maruyama\n",
    "        time_steps = torch.linspace(t_limit, epsilon, num_steps).to(DEVICE)  # Descending order\n",
    "        step_size = time_steps[0] - time_steps[1]\n",
    "        \n",
    "        # Step backward through time starting at xt, simulating the reverse SDE\n",
    "        x = xt\n",
    "        for time_step in tqdm.notebook.tqdm(time_steps):\n",
    "            t = torch.ones(num_samples).to(DEVICE) * time_step\n",
    "            f = sde.drift_coef_func(x, t)\n",
    "            g = sde.diff_coef_func(x, t)\n",
    "            dw = torch.randn_like(x)\n",
    "            \n",
    "            drift = (f - (torch.square(g) * model(x, t))) * step_size\n",
    "            diff = g * torch.sqrt(step_size) * dw\n",
    "            \n",
    "            mean_x = x - drift  # Subtract here because step size is really negative\n",
    "            x = mean_x + diff\n",
    "        return mean_x  # In the last step, don't include the diffusion/randomized term\n",
    "    \n",
    "    elif sampler == \"pc\":\n",
    "        # Predictor-Corrector\n",
    "        time_steps = torch.linspace(t_limit, epsilon, num_steps).to(DEVICE)  # Descending order\n",
    "        step_size = time_steps[0] - time_steps[1]\n",
    "        \n",
    "        # Step backward through time starting at xt\n",
    "        x = xt\n",
    "        for time_step in tqdm.notebook.tqdm(time_steps):\n",
    "            t = torch.ones(num_samples).to(DEVICE) * time_step\n",
    "            \n",
    "            # Take Langevin MCMC step\n",
    "            score = model(x, t)\n",
    "            \n",
    "            snr = 0.1\n",
    "            score_norm = torch.mean(torch.norm(score.reshape(score.shape[0], -1), dim=-1))\n",
    "            alpha = snr * (torch.prod(torch.tensor(x.shape[1:])) / torch.square(score_norm))\n",
    "            \n",
    "            x = x + ((alpha / 2) * score) + (torch.sqrt(alpha) * torch.randn_like(x))\n",
    "            \n",
    "            # Take SDE step\n",
    "            f = sde.drift_coef_func(x, t)\n",
    "            g = sde.diff_coef_func(x, t)\n",
    "            dw = torch.randn_like(x)\n",
    "            \n",
    "            drift = (f - (torch.square(g) * model(x, t))) * step_size\n",
    "            diff = g * torch.sqrt(step_size) * dw\n",
    "            \n",
    "            mean_x = x - drift  # Subtract here because step size is really negative\n",
    "            x = mean_x + diff\n",
    "            \n",
    "        return mean_x  # In the last step, don't include the diffusion/randomized term\n",
    "    \n",
    "    elif sampler == \"ode\":\n",
    "        # ODE\n",
    "        t = torch.ones(num_samples).to(DEVICE)\n",
    "        x_shape = tuple(torch.tensor(xt.shape).numpy())\n",
    "        \n",
    "        # Define function used by ODE solver:\n",
    "        def ode_func(t, x):\n",
    "            # t is a scalar; x is a 1D NumPy array\n",
    "            x_tens = torch.tensor(x).float().to(DEVICE).view(x_shape)\n",
    "            t_tens = torch.ones(num_samples).to(DEVICE) * t\n",
    "            \n",
    "            score_tens = model(x_tens, t_tens)\n",
    "            f_tens = sde.drift_coef_func(x_tens, t_tens)\n",
    "            g_tens = sde.diff_coef_func(x_tens, t_tens)\n",
    "            \n",
    "            step_tens = f_tens - (0.5 * torch.square(g_tens) * score_tens)\n",
    "            return step_tens.reshape(-1).cpu().numpy().astype(np.float64)\n",
    "        \n",
    "        # Run the ODE solver\n",
    "        result = scipy.integrate.solve_ivp(\n",
    "            ode_func, (t_limit, epsilon),\n",
    "            xt.reshape(-1).cpu().numpy(),\n",
    "            rtol=0.00001, atol=0.00001,\n",
    "            method=\"RK45\"\n",
    "        )\n",
    "        print(\"Number of ODE function evaluations: %d\" % result.nfev)\n",
    "        return torch.tensor(result.y[:, -1]).to(DEVICE).reshape(x_shape)"
   ]
  },
  {
   "cell_type": "code",
   "execution_count": 15,
   "id": "ecdf391b",
   "metadata": {},
   "outputs": [
    {
     "data": {
      "text/plain": [
       "<All keys matched successfully>"
      ]
     },
     "execution_count": 15,
     "metadata": {},
     "output_type": "execute_result"
    }
   ],
   "source": [
    "weights = torch.load(\"ckpt.pth\")\n",
    "model.load_state_dict(weights)"
   ]
  },
  {
   "cell_type": "code",
   "execution_count": 16,
   "id": "c05e3c7c",
   "metadata": {},
   "outputs": [
    {
     "data": {
      "application/vnd.jupyter.widget-view+json": {
       "model_id": "1e35dfe69e4448708a3ed6b1460539c9",
       "version_major": 2,
       "version_minor": 0
      },
      "text/plain": [
       "  0%|          | 0/500 [00:00<?, ?it/s]"
      ]
     },
     "metadata": {},
     "output_type": "display_data"
    },
    {
     "data": {
      "image/png": "[encoded data removed]",
      "text/plain": [
       "<Figure size 1440x288 with 10 Axes>"
      ]
     },
     "metadata": {
      "needs_background": "light"
     },
     "output_type": "display_data"
    },
    {
     "data": {
      "application/vnd.jupyter.widget-view+json": {
       "model_id": "0aa61bd74745416582369631a6a44f53",
       "version_major": 2,
       "version_minor": 0
      },
      "text/plain": [
       "  0%|          | 0/500 [00:00<?, ?it/s]"
      ]
     },
     "metadata": {},
     "output_type": "display_data"
    },
    {
     "data": {
      "image/png": "[encoded data removed]",
      "text/plain": [
       "<Figure size 1440x288 with 10 Axes>"
      ]
     },
     "metadata": {
      "needs_background": "light"
     },
     "output_type": "display_data"
    },
    {
     "name": "stdout",
     "output_type": "stream",
     "text": [
      "Number of ODE function evaluations: 224\n"
     ]
    },
    {
     "data": {
      "image/png": "[encoded data removed]",
      "text/plain": [
       "<Figure size 1440x288 with 10 Axes>"
      ]
     },
     "metadata": {
      "needs_background": "light"
     },
     "output_type": "display_data"
    }
   ],
   "source": [
    "for sampler in (\"em\", \"pc\", \"ode\"):\n",
    "    samples = generate_samples(model, sde, sampler=sampler, t_limit=1)\n",
    "    plot_digits(torch.clamp(samples, 0, 1).cpu(), title=sampler.upper())"
   ]
  }
 ],
 "metadata": {
  "kernelspec": {
   "display_name": "Python 3 (ipykernel)",
   "language": "python",
   "name": "python3"
  },
  "language_info": {
   "codemirror_mode": {
    "name": "ipython",
    "version": 3
   },
   "file_extension": ".py",
   "mimetype": "text/x-python",
   "name": "python",
   "nbconvert_exporter": "python",
   "pygments_lexer": "ipython3",
   "version": "3.9.12"
  }
 },
 "nbformat": 4,
 "nbformat_minor": 5
}
