{
 "cells": [
  {
   "cell_type": "code",
   "execution_count": 1,
   "id": "4ce6f328",
   "metadata": {},
   "outputs": [],
   "source": [
    "import torch\n",
    "import numpy as np\n",
    "import matplotlib.pyplot as plt\n",
    "import scipy.integrate\n",
    "import tqdm.notebook\n",
    "import os\n",
    "\n",
    "import torchvision"
   ]
  },
  {
   "cell_type": "code",
   "execution_count": 2,
   "id": "df22d86f",
   "metadata": {},
   "outputs": [],
   "source": [
    "# Define device\n",
    "if torch.cuda.is_available():\n",
    "    DEVICE = \"cuda\"\n",
    "else:\n",
    "    DEVICE = \"cpu\""
   ]
  },
  {
   "cell_type": "code",
   "execution_count": 3,
   "id": "7c9ad61e",
   "metadata": {},
   "outputs": [],
   "source": [
    "class VariancePreservingSDE:\n",
    "    \n",
    "    def __init__(self, beta_0, beta_1, input_shape, seed=None):\n",
    "        \"\"\"\n",
    "        Arguments:\n",
    "            `beta_0`: beta(0); see below\n",
    "            `beta_1`: beta(1); beta(t) will be linearly interpolated\n",
    "                between beta(0) and beta(1)\n",
    "            `input_shape`: a tuple of ints which is the shape of input\n",
    "                tensors x; does not include batch dimension\n",
    "            `seed`: random seed for sampling and running the SDE\n",
    "        \"\"\"\n",
    "        self.input_shape = input_shape\n",
    "        self.rng = torch.Generator(device=DEVICE)\n",
    "        if seed:\n",
    "            self.rng.manual_seed(seed)\n",
    "        \n",
    "        self.beta_0 = torch.tensor(beta_0).to(DEVICE)\n",
    "        self.delta_beta = torch.tensor(beta_1 - beta_0).to(DEVICE)\n",
    "        self.string = \"Variance Preserving SDE (beta(t) = %.2f + %.2ft)\" % (beta_0, beta_1 - beta_0)\n",
    "        \n",
    "        \n",
    "    def _inflate_dims(self, v):\n",
    "        \"\"\"\n",
    "        Given a tensor vector `v`, appends dimensions of size 1 so that\n",
    "        it has the same number of dimensions as `self.input_shape`. For\n",
    "        example, if `self.input_shape` is (3, 50, 50), then this function\n",
    "        turns `v` from a B-tensor to a B x 1 x 1 x 1 tensor. This is\n",
    "        useful for combining the tensor with things shaped like the input\n",
    "        later.\n",
    "        Arguments:\n",
    "            `v`: a B-tensor\n",
    "        Returns a B x `self.input_shape` tensor.\n",
    "        \"\"\"\n",
    "        return v[(slice(None),) + ((None,) * len(self.input_shape))]\n",
    "        \n",
    "    \n",
    "    def _beta(self, t):\n",
    "        \"\"\"\n",
    "        Computes beta(t).\n",
    "        Arguments:\n",
    "            `t`: a B-tensor of times\n",
    "        Returns a B-tensor of beta values.\n",
    "        \"\"\"\n",
    "        return self.beta_0 + (self.delta_beta * t)\n",
    "        \n",
    "        \n",
    "    def _beta_bar(self, t):\n",
    "        \"\"\"\n",
    "        Computes the integral of beta(0) to beta(t).\n",
    "        Arguments:\n",
    "            `t`: a B-tensor of times\n",
    "        Returns a B-tensor of beta-bar values.\n",
    "        \"\"\"\n",
    "        return (self.beta_0 * t) + (0.5 * self.delta_beta * torch.square(t))\n",
    "        \n",
    "    \n",
    "    def drift_coef_func(self, xt, t):\n",
    "        \"\"\"\n",
    "        Definition of drift coefficient f(xt, t).\n",
    "        Arguments:\n",
    "            `xt`: a B x `self.input_shape` tensor containing the data at\n",
    "                some time points\n",
    "            `t`: a B-tensor containing the time in the SDE for each input\n",
    "        Returns a B x `self.input_shape` tensor.\n",
    "        \"\"\"\n",
    "        return -0.5 * self._inflate_dims(self._beta(t)) * xt\n",
    "    \n",
    "    \n",
    "    def diff_coef_func(self, xt, t):\n",
    "        \"\"\"\n",
    "        Definition of diffusion coefficient g(t).\n",
    "        Arguments:\n",
    "            `xt`: a B x `self.input_shape` tensor containing the data at\n",
    "                some time points\n",
    "            `t`: a B-tensor containing the time in the SDE\n",
    "        Returns a B x `self.input_shape` tensor.\n",
    "        \"\"\"\n",
    "        return self._inflate_dims(torch.sqrt(self._beta(t)))\n",
    "    \n",
    "    \n",
    "    def forward(self, x0, t, return_score=True):\n",
    "        \"\"\"\n",
    "        Runs the SDE forward given starting point `x0` and a time `t`.\n",
    "        Optional returns the score: the gradient (with respect to x) of the\n",
    "        log conditional probability, pt(xt | x0).\n",
    "        Arguments:\n",
    "            `xt`: a B x `self.input_shape` tensor containing the data at\n",
    "                some time points\n",
    "            `t`: a B-tensor containing the time in the SDE for each input\n",
    "        Returns a B x `self.input_shape` tensor to represent xt. If\n",
    "        `return_score` is True, then also returns a B x `self.input_shape`\n",
    "        tensor which is the gradient of the log conditional probability\n",
    "        (with respect to `xt`).\n",
    "        \"\"\"\n",
    "        z = torch.normal(\n",
    "            torch.zeros_like(x0), torch.ones_like(x0), generator=self.rng\n",
    "        )  # Shape: B x ...\n",
    "        \n",
    "        mean = x0 * torch.exp(-0.5 * self._inflate_dims(self._beta_bar(t)))\n",
    "        variance = 1 - torch.exp(-self._beta_bar(t))\n",
    "        std = self._inflate_dims(torch.sqrt(variance))  # Shape: B x ...\n",
    "        \n",
    "        xt = mean + (std * z)\n",
    "        \n",
    "        if return_score:\n",
    "            score = -z / std\n",
    "            return xt, score\n",
    "        else:\n",
    "            return xt\n",
    "        \n",
    "\n",
    "    def mean_score_mag(self, t):\n",
    "        \"\"\"\n",
    "        Returns the average magnitude (squared L2 norm) of the score\n",
    "        (averaged over sampling and data distribution), divided by the\n",
    "        size of `x`. That is, this should be ||score||_2^2 / d, where d\n",
    "        is the size of `x`.\n",
    "        Arguments:\n",
    "            `t`: a B-tensor containing the time in the SDE\n",
    "        Returns a B-tensor containing the expected magnitude of the score\n",
    "        function at each time `t`.\n",
    "        \"\"\"\n",
    "        variance = 1 - torch.exp(-self._beta_bar(t))\n",
    "        return 1 / variance  # Shape: B\n",
    "        \n",
    "        \n",
    "    def sample_prior(self, num_samples, t):\n",
    "        \"\"\"\n",
    "        Samples from the prior distribution specified by the SDE at time `t`.\n",
    "        Arguments:\n",
    "            `num_samples`: B, the number of samples to return\n",
    "            `t`: a B-tensor containing the times in the SDE to sample for\n",
    "        Returns a B x `self.input_shape` tensor for the `xt` values that\n",
    "        are sampled.\n",
    "        \"\"\"\n",
    "        # We will sample in the limit as t approaches infinity\n",
    "        shape = torch.Size([num_samples]) + torch.Size(self.input_shape)\n",
    "        return torch.normal(\n",
    "            torch.zeros(shape).to(DEVICE), torch.ones(shape).to(DEVICE), generator=self.rng\n",
    "        )  # Shape: B x ...\n",
    "    \n",
    "    \n",
    "    def __str__(self):\n",
    "        return self.string"
   ]
  },
  {
   "cell_type": "markdown",
   "id": "80ebc60a",
   "metadata": {},
   "source": [
    "### Define the score model $s_{\\theta}$\n",
    "\n",
    "We will start by defining it for image data, using a U-net architecture."
   ]
  },
  {
   "cell_type": "code",
   "execution_count": 4,
   "id": "894c8025",
   "metadata": {},
   "outputs": [],
   "source": [
    "class ScoreUNet(torch.nn.Module):\n",
    "\n",
    "    def __init__(\n",
    "        self, t_limit=1, channels=[32, 64, 128, 256], time_embed_size=256, mean_score_mag=None,\n",
    "        data_channels=1\n",
    "    ):\n",
    "        \"\"\"\n",
    "        Initialize a time-dependent score-based U-net.\n",
    "        Arguments:\n",
    "            `t_limit`: maximum time horizon\n",
    "            `channels`: the number of channels in each \"layer\" of the U-net\n",
    "            `time_embed_size`: size of the time embeddings\n",
    "            `mean_score_mag`: if given, rescales the model outputs by multiplying\n",
    "                by the average score magnitude (L2 norm); this must be a function\n",
    "                which takes in a B-tensor of time points, and returns a B-tensor\n",
    "                of expected squared L2 norms\n",
    "            `data_channels`: number of channels in input image\n",
    "        Note this architecture assumes the initial depth of the images is 1.\n",
    "        \"\"\"\n",
    "        super().__init__()\n",
    "        \n",
    "        self.t_limit = t_limit\n",
    "        self.mean_score_mag = mean_score_mag\n",
    "        \n",
    "        # Random embedding layer for time; the random weights are set at the\n",
    "        # start and are not trainable\n",
    "        self.time_embed_rand_weights = torch.nn.Parameter(\n",
    "            torch.randn(time_embed_size // 2) * 30, requires_grad=False\n",
    "        )\n",
    "        self.time_embed_dense = torch.nn.Linear(time_embed_size, time_embed_size)\n",
    "        \n",
    "        # Encoders: receptive field increases and depth increases\n",
    "        self.conv_e1 = torch.nn.Conv2d(data_channels, channels[0], kernel_size=3, stride=1, bias=False)\n",
    "        self.time_dense_e1 = torch.nn.Linear(time_embed_size, channels[0])\n",
    "        self.norm_e1 = torch.nn.GroupNorm(4, num_channels=channels[0])\n",
    "        \n",
    "        self.conv_e2 = torch.nn.Conv2d(channels[0], channels[1], kernel_size=3, stride=2, bias=False)\n",
    "        self.time_dense_e2 = torch.nn.Linear(time_embed_size, channels[1])\n",
    "        self.norm_e2 = torch.nn.GroupNorm(32, num_channels=channels[1])\n",
    "        \n",
    "        self.conv_e3 = torch.nn.Conv2d(channels[1], channels[2], kernel_size=3, stride=2, bias=False)\n",
    "        self.time_dense_e3 = torch.nn.Linear(time_embed_size, channels[2])\n",
    "        self.norm_e3 = torch.nn.GroupNorm(32, num_channels=channels[2])\n",
    "        \n",
    "        self.conv_e4 = torch.nn.Conv2d(channels[2], channels[3], kernel_size=3, stride=2, bias=False)\n",
    "        self.time_dense_e4 = torch.nn.Linear(time_embed_size, channels[3])\n",
    "        self.norm_e4 = torch.nn.GroupNorm(32, num_channels=channels[3])   \n",
    "\n",
    "        # Decoders: depth decreases\n",
    "        self.conv_d4 = torch.nn.ConvTranspose2d(channels[3], channels[2], 3, stride=2, bias=False)\n",
    "        self.time_dense_d4 = torch.nn.Linear(time_embed_size, channels[2])\n",
    "        self.norm_d4 = torch.nn.GroupNorm(32, num_channels=channels[2])\n",
    "        \n",
    "        self.conv_d3 = torch.nn.ConvTranspose2d(channels[2] * 2, channels[1], 3, stride=2, output_padding=1, bias=False)\n",
    "        self.time_dense_d3 = torch.nn.Linear(time_embed_size, channels[1])\n",
    "        self.norm_d3 = torch.nn.GroupNorm(32, num_channels=channels[1])\n",
    "        \n",
    "        self.conv_d2 = torch.nn.ConvTranspose2d(channels[1] * 2, channels[0], 3, stride=2, output_padding=1, bias=False)\n",
    "        self.time_dense_d2 = torch.nn.Linear(time_embed_size, channels[0])\n",
    "        self.norm_d2 = torch.nn.GroupNorm(32, num_channels=channels[0])\n",
    "        \n",
    "        self.conv_d1 = torch.nn.ConvTranspose2d(channels[0] * 2, data_channels, 3, stride=1, bias=True)\n",
    "\n",
    "        # Activation functions\n",
    "        self.swish = lambda x: x * torch.sigmoid(x)  # Swish activation: x * sigmoid(x)\n",
    "\n",
    "        \n",
    "    def forward(self, xt, t):\n",
    "        \"\"\"\n",
    "        Forward pass of the network.\n",
    "        Arguments:\n",
    "            `xt`: B x 1 x H x W tensor containing the images to train on\n",
    "            `t`: B-tensor containing the times to train the network for each\n",
    "                image\n",
    "        Returns a B x 1 x H x W tensor which consists of the (unnormalized)\n",
    "        score estimate.\n",
    "        \"\"\"\n",
    "        # Get the time embeddings for `t`\n",
    "        # We first sample vector z from some zero-mean Gaussian (of fixed variance),\n",
    "        # and then we embed the time as cos(2 * pi * t * z) and sin(2 * pi * t * z)\n",
    "        time_embed_args = t[:, None] * self.time_embed_rand_weights[None, :] * 2 * np.pi / t_limit\n",
    "        # Shape: B x (E / 2)\n",
    "        time_embed = self.swish(\n",
    "            torch.cat([torch.sin(time_embed_args), torch.cos(time_embed_args)], dim=1)\n",
    "        )\n",
    "        # Shape: B x E\n",
    "        \n",
    "        # Encoding\n",
    "        enc_1_out = self.swish(self.norm_e1(\n",
    "            self.conv_e1(xt) + self.time_dense_e1(time_embed)[:, :, None, None]\n",
    "        ))\n",
    "        enc_2_out = self.swish(self.norm_e2(\n",
    "            self.conv_e2(enc_1_out) + self.time_dense_e2(time_embed)[:, :, None, None]\n",
    "        ))\n",
    "        enc_3_out = self.swish(self.norm_e3(\n",
    "            self.conv_e3(enc_2_out) + self.time_dense_e3(time_embed)[:, :, None, None]\n",
    "        ))\n",
    "        enc_4_out = self.swish(self.norm_e4(\n",
    "            self.conv_e4(enc_3_out) + self.time_dense_e4(time_embed)[:, :, None, None]\n",
    "        ))\n",
    "            \n",
    "        # Decoding\n",
    "        dec_4_out = self.swish(self.norm_d4(\n",
    "            self.conv_d4(enc_4_out) + self.time_dense_d4(time_embed)[:, :, None, None]\n",
    "        ))\n",
    "        dec_3_out = self.swish(self.norm_d3(\n",
    "            self.conv_d3(torch.cat([dec_4_out, enc_3_out], dim=1)) + self.time_dense_d3(time_embed)[:, :, None, None]\n",
    "        ))\n",
    "        dec_2_out = self.swish(self.norm_d2(\n",
    "            self.conv_d2(torch.cat([dec_3_out, enc_2_out], dim=1)) + self.time_dense_d2(time_embed)[:, :, None, None]\n",
    "        ))\n",
    "        dec_1_out = self.conv_d1(torch.cat([dec_2_out, enc_1_out], dim=1))\n",
    "        \n",
    "        if self.mean_score_mag:\n",
    "            pred = dec_1_out * torch.sqrt(self.mean_score_mag(t)[:, None, None, None])\n",
    "        else:\n",
    "            pred = dec_1_out\n",
    "        \n",
    "        return pred\n",
    "\n",
    "    \n",
    "class MultitaskScoreUNet(torch.nn.Module):\n",
    "    def __init__(\n",
    "        self, num_branches, **kwargs\n",
    "    ):\n",
    "        \"\"\"\n",
    "        Initialize a multi-task time-dependent score-based U-net.\n",
    "        Arguments:\n",
    "            `num_branches`: number of branches to create in the score\n",
    "                model; this is the number of independent parameter sets\n",
    "                created\n",
    "            `kwargs`: keyword arguments passed directly to ScoreUNet\n",
    "        \"\"\"\n",
    "        super().__init__()\n",
    "        \n",
    "        self.branch_models = torch.nn.ModuleList([\n",
    "            ScoreUNet(**kwargs) for _ in range(num_branches)\n",
    "        ])\n",
    "        \n",
    "    \n",
    "    def forward(self, xt, t, branch_index):\n",
    "        \"\"\"\n",
    "        Forward pass of the network.\n",
    "        Arguments:\n",
    "            `xt`: B x 1 x H x W tensor containing the images to train on\n",
    "            `t`: B-tensor containing the times to train the network for each\n",
    "                image\n",
    "            `branch_index`: scalar index of which branch to train\n",
    "        Returns a B x 1 x H x W tensor which consists of the (unnormalized)\n",
    "        score estimate.\n",
    "        \"\"\"\n",
    "        return self.branch_models[branch_index](xt, t)"
   ]
  },
  {
   "cell_type": "markdown",
   "id": "b572a2b1",
   "metadata": {},
   "source": [
    "### Define the dataloader"
   ]
  },
  {
   "cell_type": "code",
   "execution_count": 5,
   "id": "d5128f19",
   "metadata": {},
   "outputs": [],
   "source": [
    "import codecs, sys\n",
    "def get_int(b: bytes) -> int:\n",
    "    return int(codecs.encode(b, \"hex\"), 16)\n",
    "\n",
    "\n",
    "SN3_PASCALVINCENT_TYPEMAP = {\n",
    "    8: torch.uint8,\n",
    "    9: torch.int8,\n",
    "    11: torch.int16,\n",
    "    12: torch.int32,\n",
    "    13: torch.float32,\n",
    "    14: torch.float64,\n",
    "}\n",
    "\n",
    "\n",
    "def read_sn3_pascalvincent_tensor(path: str, strict: bool = True) -> torch.Tensor:\n",
    "    \"\"\"Read a SN3 file in \"Pascal Vincent\" format (Lush file 'libidx/idx-io.lsh').\n",
    "    Argument may be a filename, compressed filename, or file object.\n",
    "    \"\"\"\n",
    "    # read\n",
    "    with open(path, \"rb\") as f:\n",
    "        data = f.read()\n",
    "    # parse\n",
    "    magic = get_int(data[0:4])\n",
    "    nd = magic % 256\n",
    "    ty = magic // 256\n",
    "    assert 1 <= nd <= 3\n",
    "    assert 8 <= ty <= 14\n",
    "    torch_type = SN3_PASCALVINCENT_TYPEMAP[ty]\n",
    "    s = [get_int(data[4 * (i + 1) : 4 * (i + 2)]) for i in range(nd)]\n",
    "\n",
    "    num_bytes_per_value = torch.iinfo(torch_type).bits // 8\n",
    "    # The MNIST format uses the big endian byte order. If the system uses little endian byte order by default,\n",
    "    # we need to reverse the bytes before we can read them with torch.frombuffer().\n",
    "    needs_byte_reversal = sys.byteorder == \"little\" and num_bytes_per_value > 1\n",
    "    parsed = torch.frombuffer(bytearray(data), dtype=torch_type, offset=(4 * (nd + 1)))\n",
    "    if needs_byte_reversal:\n",
    "        parsed = parsed.flip(0)\n",
    "\n",
    "    assert parsed.shape[0] == np.prod(s) or not strict\n",
    "    return parsed.view(*s)\n",
    "\n",
    "\n",
    "def read_label_file(path: str) -> torch.Tensor:\n",
    "    x = read_sn3_pascalvincent_tensor(path, strict=False)\n",
    "    if x.dtype != torch.uint8:\n",
    "        raise TypeError(f\"x should be of dtype torch.uint8 instead of {x.dtype}\")\n",
    "    if x.ndimension() != 1:\n",
    "        raise ValueError(f\"x should have 1 dimension instead of {x.ndimension()}\")\n",
    "    return x.long()\n",
    "\n",
    "\n",
    "def read_image_file(path: str) -> torch.Tensor:\n",
    "    x = read_sn3_pascalvincent_tensor(path, strict=False)\n",
    "    if x.dtype != torch.uint8:\n",
    "        raise TypeError(f\"x should be of dtype torch.uint8 instead of {x.dtype}\")\n",
    "    if x.ndimension() != 3:\n",
    "        raise ValueError(f\"x should have 3 dimension instead of {x.ndimension()}\")\n",
    "    return x\n",
    "\n",
    "\n",
    "class BranchedMNISTDataset(torch.utils.data.IterableDataset):\n",
    "    def __init__(self, classes, branch_defs, data_path, batch_size=32):\n",
    "        \"\"\"\n",
    "        Creates a dataset which yields batches of digits of certain\n",
    "        subsets, time intervals, and branch indices.\n",
    "        Arguments:\n",
    "            `classes`: digit classes to include; a list of integers\n",
    "            `branch_defs`: definitions of branches in the tree of\n",
    "                classes; a list of pairs, where each pair is a\n",
    "                branch of the form:\n",
    "                ((tuple of classes), start time, end time)\n",
    "            `data_path`: path to downloaded data\n",
    "            `batch_size`: number of things to return per batch, B\n",
    "        \"\"\"\n",
    "        self.branch_defs = branch_defs\n",
    "        self.batch_size = batch_size\n",
    "        \n",
    "        # Import all images and labels\n",
    "        all_images = read_image_file(os.path.join(data_path, \"train-images-idx3-ubyte\")).numpy()\n",
    "        all_labels = read_label_file(os.path.join(data_path, \"train-labels-idx1-ubyte\")).numpy()\n",
    "        \n",
    "        # Create dictionary mapping each class to its images\n",
    "        self.images_by_class = {}\n",
    "        for c in classes:\n",
    "            mask = all_labels == c\n",
    "            self.images_by_class[c] = all_images[mask]\n",
    "            \n",
    "        # Precompute the branch index for each batch, based on the total number\n",
    "        # of batches and the relative branch lengths\n",
    "        total_branch_length = sum(bd[2] - bd[1] for bd in branch_defs)\n",
    "        batch_total = int(np.ceil(len(all_images) / batch_size))\n",
    "        branch_indices = []\n",
    "        for i, bd in enumerate(branch_defs):\n",
    "            branch_indices.extend([i] * max(1, int((bd[2] - bd[1]) / total_branch_length * batch_total)))\n",
    "        self.branch_indices = np.array(branch_indices)\n",
    "        self.num_batches = len(branch_indices)\n",
    "            \n",
    "    def get_batch(self, i):\n",
    "        \"\"\"\n",
    "        Returns a batch of data. Batch generation will loop through the branch\n",
    "        indices (which are a weighted sampling of the branches), and draw random\n",
    "        images from the corresponding classes.\n",
    "        Returns a B x 1 x 28 x 28 array of images, a B-array of labels, a\n",
    "        branch index, a start time, and an end time.\n",
    "        \"\"\"\n",
    "        branch_index = self.branch_indices[i]\n",
    "        classes, t_start, t_end = self.branch_defs[branch_index]\n",
    "        num_classes = len(classes)\n",
    "        shard_size = int(np.ceil(self.batch_size / num_classes))\n",
    "        \n",
    "        images, labels = [], []\n",
    "        for i in range(num_classes):\n",
    "            num_to_pick = min(shard_size, self.batch_size - (i * shard_size))\n",
    "            class_images = self.images_by_class[classes[i]]\n",
    "            inds = np.random.choice(len(class_images), size=num_to_pick, replace=False)\n",
    "            images.append(class_images[inds])\n",
    "            labels.append(np.tile(classes[i], num_to_pick))\n",
    "        \n",
    "        images = np.concatenate(images)\n",
    "        images = (images / 256 * 2) - 1\n",
    "        images = np.expand_dims(images, axis=1)  # Go from B x 28 x 28 to B x 1 x 28 x 28\n",
    "        return images, np.concatenate(labels), branch_index, t_start, t_end\n",
    "    \n",
    "    def __iter__(self):\n",
    "        \"\"\"\n",
    "        Returns an iterator over the batches. If the dataset iterator is called\n",
    "        from multiple workers, each worker will be give a shard of the full\n",
    "        range.\n",
    "        \"\"\"\n",
    "        worker_info = torch.utils.data.get_worker_info()\n",
    "        if worker_info is None:\n",
    "            # In single-processing mode\n",
    "            start, end = 0, self.num_batches\n",
    "        else:\n",
    "            worker_id = worker_info.id\n",
    "            num_workers = worker_info.num_workers\n",
    "            shard_size = int(np.ceil(self.num_batches / num_workers))\n",
    "            start = shard_size * worker_id\n",
    "            end = min(start + shard_size, self.num_batches)\n",
    "        return (self.get_batch(i) for i in range(start, end))\n",
    "\n",
    "    def __len__(self):\n",
    "        return self.num_batches\n",
    "    \n",
    "    def on_epoch_start(self):\n",
    "        np.random.shuffle(self.branch_indices)"
   ]
  },
  {
   "cell_type": "code",
   "execution_count": 6,
   "id": "2325130b",
   "metadata": {},
   "outputs": [],
   "source": [
    "def class_and_time_to_branch_index(c, t, branch_defs):\n",
    "    \"\"\"\n",
    "    Given a class and a time (both scalars), return the\n",
    "    corresponding branch index.\n",
    "    \"\"\"\n",
    "    # This is currently rather inefficient\n",
    "    for i, branch_def in enumerate(branch_defs):\n",
    "        if c in branch_def[0] and t >= branch_def[1] and t <= branch_def[2]:\n",
    "            return i"
   ]
  },
  {
   "cell_type": "markdown",
   "id": "e8b433c3",
   "metadata": {},
   "source": [
    "### Create the data loader"
   ]
  },
  {
   "cell_type": "code",
   "execution_count": 7,
   "id": "e395da27",
   "metadata": {},
   "outputs": [],
   "source": [
    "classes = [0, 4, 9]\n",
    "branch_defs = [\n",
    "    ((0, 4, 9), 0.5, 1),\n",
    "    ((0,), 0, 0.5),\n",
    "    ((4, 9), 0.3, 0.5),\n",
    "    ((4,), 0, 0.3),\n",
    "    ((9,), 0, 0.3)\n",
    "]\n",
    "\n",
    "# classes = [0]\n",
    "# branch_defs = [\n",
    "#     ((0,), 0, 1)\n",
    "# ]\n",
    "\n",
    "dataset = BranchedMNISTDataset(\n",
    "    classes, branch_defs, \"/gstore/data/resbioai/tsenga5/MNIST/raw\"\n",
    ")\n",
    "\n",
    "data_loader = torch.utils.data.DataLoader(dataset, batch_size=None, num_workers=2, collate_fn=lambda x: x)\n",
    "data_loader.dataset.on_epoch_start()\n",
    "\n",
    "input_shape = next(iter(data_loader))[0].shape[1:]\n",
    "data_channels = input_shape[0]"
   ]
  },
  {
   "cell_type": "markdown",
   "id": "bdcebba8",
   "metadata": {},
   "source": [
    "### Train the model"
   ]
  },
  {
   "cell_type": "code",
   "execution_count": 8,
   "id": "e7d16fec",
   "metadata": {},
   "outputs": [],
   "source": [
    "def train_model(\n",
    "    model, sde, data_loader, num_epochs, learning_rate,\n",
    "    loss_weighting_type=\"norm\", t_limit=1\n",
    "):\n",
    "    \"\"\"\n",
    "    Trains a diffusion model using the given instantiated model and SDE\n",
    "    object.\n",
    "    Arguments:\n",
    "        `model`: an instantiated score model which takes in x, t and\n",
    "            predicts score\n",
    "        `sde`: an SDE object\n",
    "        `data_loader`: a DataLoader object that yields batches of data\n",
    "            in pairs: x, y (the y is not used)\n",
    "        `num_epochs`: number of epochs to train for\n",
    "        `learning_rate`: learning rate to use for training\n",
    "        `loss_weighting_type`: method for weighting the loss; can be\n",
    "            \"ml\" to weight by g^2, \"norm\" to weight by the mean\n",
    "            magnitude of the loss, or None to do no weighting at all\n",
    "        `t_limit`: training will occur between time 0 and `t_limit`\n",
    "    \"\"\"\n",
    "    torch.set_grad_enabled(True)\n",
    "    optim = torch.optim.Adam(model.parameters(), lr=learning_rate)\n",
    "    for epoch_num in range(num_epochs):\n",
    "        total_loss, total_inputs = 0, 0\n",
    "        data_loader.dataset.on_epoch_start()\n",
    "        t_iter = tqdm.notebook.tqdm(data_loader)\n",
    "        for x0, classes, branch_index, t_start, t_end in t_iter:\n",
    "            x0 = torch.tensor(x0).float().to(DEVICE)\n",
    "            \n",
    "            # Sample random times from t_start to t_end\n",
    "            t = (torch.rand(x0.shape[0], device=DEVICE) * (t_end - t_start)) + t_start\n",
    "            \n",
    "            # Run SDE forward to get xt and the true score at xt\n",
    "            xt, true_score = sde.forward(x0, t)\n",
    "                        \n",
    "            # Get model-predicted score\n",
    "            pred_score = model(xt, t, branch_index)\n",
    "                        \n",
    "            # Get weighting factor\n",
    "            if loss_weighting_type == \"ml\":\n",
    "                loss_weight = 1 / sde.diff_coef_func(xt, t)\n",
    "            elif loss_weighting_type == \"norm\":\n",
    "                try:\n",
    "                    loss_weight = sde._inflate_dims(sde.mean_score_mag(t))\n",
    "                    raise NotImplementedError\n",
    "                except NotImplementedError:\n",
    "                    loss_weight = sde._inflate_dims(\n",
    "                        torch.mean(torch.square(true_score), dim=tuple(range(1, len(x0.shape))))\n",
    "                    )\n",
    "            elif loss_weighting_type is None:\n",
    "                loss_weight = torch.ones_like(x0)\n",
    "            \n",
    "            # Compute loss as MSE\n",
    "            squared_error = torch.square(true_score - pred_score)\n",
    "            loss = torch.mean(torch.sum(\n",
    "                squared_error / loss_weight,\n",
    "                dim=tuple(range(1, len(x0.shape)))\n",
    "            ))\n",
    "            \n",
    "            optim.zero_grad()\n",
    "            loss.backward()\n",
    "            torch.nn.utils.clip_grad_norm_(model.parameters(), 1)\n",
    "            optim.step()\n",
    "            loss_val = loss.item()\n",
    "            if np.isnan(loss_val):\n",
    "                continue\n",
    "            total_loss += loss_val * x0.shape[0]\n",
    "            total_inputs += x0.shape[0]\n",
    "            \n",
    "            t_iter.set_description(\"Loss: %.2f\" % loss_val)\n",
    "        \n",
    "        print(\"Epoch %d average Loss: %.2f\" % (epoch_num + 1, total_loss / total_inputs))\n",
    "        torch.save(model.state_dict(), \"ckpt.pth\")"
   ]
  },
  {
   "cell_type": "code",
   "execution_count": 9,
   "id": "ab1a36e2",
   "metadata": {},
   "outputs": [],
   "source": [
    "# Create the SDE and model\n",
    "sde = VariancePreservingSDE(0.1, 20, input_shape)\n",
    "\n",
    "t_limit = 1\n",
    "model = MultitaskScoreUNet(\n",
    "    num_branches=len(branch_defs), t_limit=t_limit, mean_score_mag=None, data_channels=data_channels\n",
    ").to(DEVICE)"
   ]
  },
  {
   "cell_type": "code",
   "execution_count": 10,
   "id": "ccdb71bb",
   "metadata": {},
   "outputs": [],
   "source": [
    "def plot_digits(x, num_to_plot=10, title=None):\n",
    "    fig, ax = plt.subplots(ncols=num_to_plot, figsize=(20, 4))\n",
    "    for i in range(num_to_plot):\n",
    "        ax[i].imshow(np.transpose(x[i], axes=(1, 2, 0)), cmap=\"gray\")\n",
    "        ax[i].axis('off')\n",
    "    if title:\n",
    "        ax[0].set_title(title)\n",
    "    plt.show()"
   ]
  },
  {
   "cell_type": "code",
   "execution_count": 11,
   "id": "1efc4143",
   "metadata": {},
   "outputs": [
    {
     "data": {
      "image/png": "[encoded data removed]",
      "text/plain": [
       "<Figure size 1440x288 with 10 Axes>"
      ]
     },
     "metadata": {
      "needs_background": "light"
     },
     "output_type": "display_data"
    },
    {
     "data": {
      "image/png": "[encoded data removed]",
      "text/plain": [
       "<Figure size 1440x288 with 10 Axes>"
      ]
     },
     "metadata": {
      "needs_background": "light"
     },
     "output_type": "display_data"
    },
    {
     "data": {
      "image/png": "[encoded data removed]",
      "text/plain": [
       "<Figure size 1440x288 with 10 Axes>"
      ]
     },
     "metadata": {
      "needs_background": "light"
     },
     "output_type": "display_data"
    },
    {
     "data": {
      "image/png": "[encoded data removed]",
      "text/plain": [
       "<Figure size 1440x288 with 10 Axes>"
      ]
     },
     "metadata": {
      "needs_background": "light"
     },
     "output_type": "display_data"
    },
    {
     "data": {
      "image/png": "[encoded data removed]",
      "text/plain": [
       "<Figure size 1440x288 with 10 Axes>"
      ]
     },
     "metadata": {
      "needs_background": "light"
     },
     "output_type": "display_data"
    },
    {
     "data": {
      "image/png": "[encoded data removed]",
      "text/plain": [
       "<Figure size 1440x576 with 1 Axes>"
      ]
     },
     "metadata": {
      "needs_background": "light"
     },
     "output_type": "display_data"
    }
   ],
   "source": [
    "# Show some images after running the SDE forward for different times\n",
    "time_steps = 4\n",
    "\n",
    "x0, _, _, _, _ = next(iter(data_loader))\n",
    "    \n",
    "plot_digits(np.clip(x0, 0, 1), title=\"t = 0\")\n",
    "x0 = torch.tensor(x0).to(DEVICE)\n",
    "for t in np.linspace(0.01, t_limit, time_steps):\n",
    "    xt, score = sde.forward(x0, torch.full(x0.shape[:1], t).to(DEVICE))\n",
    "    plot_digits(torch.clamp(xt, 0, 1).cpu().numpy(), title=(\"t = %.2f\" % t))\n",
    "    \n",
    "# Show the transformation of the distribution of data to the prior distribution\n",
    "time_steps = 30\n",
    "\n",
    "all_t = np.linspace(0, t_limit, time_steps)\n",
    "all_xt = np.empty((len(all_t),) + x0.shape)\n",
    "for t_i, t in enumerate(all_t):\n",
    "    xt, _ = sde.forward(x0, torch.ones(len(x0)).to(DEVICE) * t)\n",
    "    all_xt[t_i] = xt.cpu().numpy()\n",
    "\n",
    "fig, ax = plt.subplots(figsize=(20, 8))\n",
    "cmap = plt.get_cmap(\"magma\")\n",
    "for t_i in range(len(all_t)):\n",
    "    ax.hist(np.ravel(all_xt[t_i]), bins=60, histtype=\"step\", color=cmap(t_i / len(all_t)), alpha=0.5, density=True)\n",
    "prior = sde.sample_prior(len(x0), torch.ones(len(x0)).to(DEVICE) * t).cpu().numpy()\n",
    "ax.hist(np.ravel(prior), bins=60, histtype=\"step\", color=\"blue\", linewidth=2, density=True, label=\"Sampled prior\")\n",
    "ax.set_xlabel(\"x\")\n",
    "ax.set_ylabel(\"p(x)\")\n",
    "ax.set_title(\"Evolution of p(x) over forward SDE\")\n",
    "ax.set_ylim((0, 3))\n",
    "plt.legend()\n",
    "plt.show()"
   ]
  },
  {
   "cell_type": "code",
   "execution_count": 12,
   "id": "6fc871ea",
   "metadata": {
    "scrolled": true
   },
   "outputs": [
    {
     "data": {
      "application/vnd.jupyter.widget-view+json": {
       "model_id": "31f509e966e14b188ba8f28ba358628b",
       "version_major": 2,
       "version_minor": 0
      },
      "text/plain": [
       "  0%|          | 0/1872 [00:00<?, ?it/s]"
      ]
     },
     "metadata": {},
     "output_type": "display_data"
    },
    {
     "name": "stdout",
     "output_type": "stream",
     "text": [
      "Epoch 1 average Loss: 243.65\n"
     ]
    },
    {
     "data": {
      "application/vnd.jupyter.widget-view+json": {
       "model_id": "5e703fcc54754932849327020083f1c2",
       "version_major": 2,
       "version_minor": 0
      },
      "text/plain": [
       "  0%|          | 0/1872 [00:00<?, ?it/s]"
      ]
     },
     "metadata": {},
     "output_type": "display_data"
    },
    {
     "name": "stdout",
     "output_type": "stream",
     "text": [
      "Epoch 2 average Loss: 100.47\n"
     ]
    },
    {
     "data": {
      "application/vnd.jupyter.widget-view+json": {
       "model_id": "8fd37844b8dc47c7a58771faa4b879d8",
       "version_major": 2,
       "version_minor": 0
      },
      "text/plain": [
       "  0%|          | 0/1872 [00:00<?, ?it/s]"
      ]
     },
     "metadata": {},
     "output_type": "display_data"
    },
    {
     "name": "stdout",
     "output_type": "stream",
     "text": [
      "Epoch 3 average Loss: 88.15\n"
     ]
    },
    {
     "data": {
      "application/vnd.jupyter.widget-view+json": {
       "model_id": "85a9eaa267294807bf811eb61019a764",
       "version_major": 2,
       "version_minor": 0
      },
      "text/plain": [
       "  0%|          | 0/1872 [00:00<?, ?it/s]"
      ]
     },
     "metadata": {},
     "output_type": "display_data"
    },
    {
     "name": "stdout",
     "output_type": "stream",
     "text": [
      "Epoch 4 average Loss: 81.10\n"
     ]
    },
    {
     "data": {
      "application/vnd.jupyter.widget-view+json": {
       "model_id": "a68bed0b81ca48f793a3380f04c5f903",
       "version_major": 2,
       "version_minor": 0
      },
      "text/plain": [
       "  0%|          | 0/1872 [00:00<?, ?it/s]"
      ]
     },
     "metadata": {},
     "output_type": "display_data"
    },
    {
     "name": "stdout",
     "output_type": "stream",
     "text": [
      "Epoch 5 average Loss: 74.03\n"
     ]
    },
    {
     "data": {
      "application/vnd.jupyter.widget-view+json": {
       "model_id": "771fe94345434dbb8b6f469bff5f2817",
       "version_major": 2,
       "version_minor": 0
      },
      "text/plain": [
       "  0%|          | 0/1872 [00:00<?, ?it/s]"
      ]
     },
     "metadata": {},
     "output_type": "display_data"
    },
    {
     "name": "stdout",
     "output_type": "stream",
     "text": [
      "Epoch 6 average Loss: 70.89\n"
     ]
    },
    {
     "data": {
      "application/vnd.jupyter.widget-view+json": {
       "model_id": "cb70fc836c2e4be0b641f56edd11f6d5",
       "version_major": 2,
       "version_minor": 0
      },
      "text/plain": [
       "  0%|          | 0/1872 [00:00<?, ?it/s]"
      ]
     },
     "metadata": {},
     "output_type": "display_data"
    },
    {
     "name": "stdout",
     "output_type": "stream",
     "text": [
      "Epoch 7 average Loss: 67.53\n"
     ]
    },
    {
     "data": {
      "application/vnd.jupyter.widget-view+json": {
       "model_id": "b16fc2f0dff14d15845863dd7ca6c5af",
       "version_major": 2,
       "version_minor": 0
      },
      "text/plain": [
       "  0%|          | 0/1872 [00:00<?, ?it/s]"
      ]
     },
     "metadata": {},
     "output_type": "display_data"
    },
    {
     "name": "stdout",
     "output_type": "stream",
     "text": [
      "Epoch 8 average Loss: 64.70\n"
     ]
    },
    {
     "data": {
      "application/vnd.jupyter.widget-view+json": {
       "model_id": "c3d3e9a545e9433fbdde3ed3c93e713e",
       "version_major": 2,
       "version_minor": 0
      },
      "text/plain": [
       "  0%|          | 0/1872 [00:00<?, ?it/s]"
      ]
     },
     "metadata": {},
     "output_type": "display_data"
    },
    {
     "name": "stdout",
     "output_type": "stream",
     "text": [
      "Epoch 9 average Loss: 63.76\n"
     ]
    },
    {
     "data": {
      "application/vnd.jupyter.widget-view+json": {
       "model_id": "e4f31f4c344647d1959846311067f8be",
       "version_major": 2,
       "version_minor": 0
      },
      "text/plain": [
       "  0%|          | 0/1872 [00:00<?, ?it/s]"
      ]
     },
     "metadata": {},
     "output_type": "display_data"
    },
    {
     "name": "stdout",
     "output_type": "stream",
     "text": [
      "Epoch 10 average Loss: 60.20\n"
     ]
    }
   ],
   "source": [
    "saved_vals = []\n",
    "train_model(\n",
    "    model, sde, data_loader, num_epochs=10, learning_rate=0.001,\n",
    "    loss_weighting_type=\"norm\", t_limit=t_limit\n",
    ")"
   ]
  },
  {
   "cell_type": "markdown",
   "id": "adc9aa1d",
   "metadata": {},
   "source": [
    "### Sample from the trained model\n",
    "\n",
    "The three strategies for sampling from the trained model are:\n",
    "\n",
    "1. Euler-Maruyama: We take the corresponding reverse SDE and step through it backwards through time\n",
    "2. Predictor-Corrector: Like Euler-Maruyama, but in each step we also run a round of Langevin dynamics to better align the step with the score function\n",
    "3. ODE: We take the corresponding ODE of the reverse SDE (which has the same transitional probabilities) and step through it backwards through time using an ODE solver"
   ]
  },
  {
   "cell_type": "code",
   "execution_count": 13,
   "id": "2895d655",
   "metadata": {},
   "outputs": [],
   "source": [
    "def generate_samples(\n",
    "    model, sde, class_to_sample, sampler=\"em\", num_samples=64, num_steps=500, epsilon=0.001,\n",
    "    t_limit=1\n",
    "):\n",
    "    \"\"\"\n",
    "    Generates samples from a trained score model and SDE. This first\n",
    "    generates a sample from the SDE's prior distribution a t = 1, then\n",
    "    steps backward through time to generate new data points.\n",
    "    Arguments:\n",
    "        `model`: a trained score model which takes in x, t and\n",
    "            predicts score\n",
    "        `sde`: an SDE object\n",
    "        `class_to_sample`: the class to sample from\n",
    "        `sampler`: one of \"em\", \"pc\", or \"ode\" for Euler-Maruyama,\n",
    "            predictor-corrector, or ordinary differential equation,\n",
    "            respectively\n",
    "        `num_samples`: number of objects to return\n",
    "        `num_steps`: number of steps to take for Euler-Maruyama and\n",
    "            predictor-corrector algorithms\n",
    "        `epsilon`: last time step to stop at before hitting 0\n",
    "        `t_limit`: the time step to start generating at\n",
    "    Returns a tensor of size `num_samples` x ...\n",
    "    \"\"\"\n",
    "    # First, sample from the prior distribution at some late time t\n",
    "    t = torch.tensor(np.tile(t_limit, num_samples)).to(DEVICE)\n",
    "    xt = sde.sample_prior(num_samples, t)\n",
    "    \n",
    "    # Disable gradient computation in model\n",
    "    torch.set_grad_enabled(False)\n",
    "    \n",
    "    if sampler == \"em\":\n",
    "        # Euler-Maruyama\n",
    "        time_steps = torch.linspace(t_limit, epsilon, num_steps).to(DEVICE)  # Descending order\n",
    "        step_size = time_steps[0] - time_steps[1]\n",
    "        \n",
    "        # Step backward through time starting at xt, simulating the reverse SDE\n",
    "        x = xt\n",
    "        for time_step in tqdm.notebook.tqdm(time_steps):\n",
    "            branch_index = class_and_time_to_branch_index(class_to_sample, time_step, branch_defs)\n",
    "            t = torch.ones(num_samples).to(DEVICE) * time_step\n",
    "            f = sde.drift_coef_func(x, t)\n",
    "            g = sde.diff_coef_func(x, t)\n",
    "            dw = torch.randn_like(x)\n",
    "            \n",
    "            drift = (f - (torch.square(g) * model(x, t, branch_index))) * step_size\n",
    "            diff = g * torch.sqrt(step_size) * dw\n",
    "            \n",
    "            mean_x = x - drift  # Subtract here because step size is really negative\n",
    "            x = mean_x + diff\n",
    "        return mean_x  # In the last step, don't include the diffusion/randomized term\n",
    "    \n",
    "    elif sampler == \"pc\":\n",
    "        # Predictor-Corrector\n",
    "        time_steps = torch.linspace(t_limit, epsilon, num_steps).to(DEVICE)  # Descending order\n",
    "        step_size = time_steps[0] - time_steps[1]\n",
    "        \n",
    "        # Step backward through time starting at xt\n",
    "        x = xt\n",
    "        for time_step in tqdm.notebook.tqdm(time_steps):\n",
    "            branch_index = class_and_time_to_branch_index(class_to_sample, time_step, branch_defs)\n",
    "            t = torch.ones(num_samples).to(DEVICE) * time_step\n",
    "            \n",
    "            # Take Langevin MCMC step\n",
    "            score = model(x, t, branch_index)\n",
    "            \n",
    "            snr = 0.1\n",
    "            score_norm = torch.mean(torch.norm(score.reshape(score.shape[0], -1), dim=-1))\n",
    "            alpha = snr * (torch.prod(torch.tensor(x.shape[1:])) / torch.square(score_norm))\n",
    "            \n",
    "            x = x + ((alpha / 2) * score) + (torch.sqrt(alpha) * torch.randn_like(x))\n",
    "            \n",
    "            # Take SDE step\n",
    "            f = sde.drift_coef_func(x, t)\n",
    "            g = sde.diff_coef_func(x, t)\n",
    "            dw = torch.randn_like(x)\n",
    "            \n",
    "            drift = (f - (torch.square(g) * model(x, t, branch_index))) * step_size\n",
    "            diff = g * torch.sqrt(step_size) * dw\n",
    "            \n",
    "            mean_x = x - drift  # Subtract here because step size is really negative\n",
    "            x = mean_x + diff\n",
    "            \n",
    "        return mean_x  # In the last step, don't include the diffusion/randomized term\n",
    "    \n",
    "    elif sampler == \"ode\":\n",
    "        # ODE\n",
    "        x_shape = tuple(torch.tensor(xt.shape).numpy())\n",
    "        \n",
    "        # Define function used by ODE solver:\n",
    "        def ode_func(t, x):\n",
    "            # t is a scalar; x is a 1D NumPy array\n",
    "            branch_index = class_and_time_to_branch_index(class_to_sample, t, branch_defs)\n",
    "            x_tens = torch.tensor(x).float().to(DEVICE).view(x_shape)\n",
    "            t_tens = torch.ones(num_samples).to(DEVICE) * t\n",
    "            \n",
    "            score_tens = model(x_tens, t_tens, branch_index)\n",
    "            f_tens = sde.drift_coef_func(x_tens, t_tens)\n",
    "            g_tens = sde.diff_coef_func(x_tens, t_tens)\n",
    "            \n",
    "            step_tens = f_tens - (0.5 * torch.square(g_tens) * score_tens)\n",
    "            return step_tens.reshape(-1).cpu().numpy().astype(np.float64)\n",
    "        \n",
    "        # Run the ODE solver\n",
    "        result = scipy.integrate.solve_ivp(\n",
    "            ode_func, (t_limit, epsilon),\n",
    "            xt.reshape(-1).cpu().numpy(),\n",
    "            rtol=0.00001, atol=0.00001,\n",
    "            method=\"RK45\"\n",
    "        )\n",
    "        print(\"Number of ODE function evaluations: %d\" % result.nfev)\n",
    "        return torch.tensor(result.y[:, -1]).to(DEVICE).reshape(x_shape)"
   ]
  },
  {
   "cell_type": "code",
   "execution_count": 14,
   "id": "ecdf391b",
   "metadata": {},
   "outputs": [
    {
     "data": {
      "text/plain": [
       "<All keys matched successfully>"
      ]
     },
     "execution_count": 14,
     "metadata": {},
     "output_type": "execute_result"
    }
   ],
   "source": [
    "weights = torch.load(\"ckpt.pth\")\n",
    "model.load_state_dict(weights)"
   ]
  },
  {
   "cell_type": "code",
   "execution_count": 16,
   "id": "c05e3c7c",
   "metadata": {},
   "outputs": [
    {
     "data": {
      "application/vnd.jupyter.widget-view+json": {
       "model_id": "32802061309d4dbabf09faf5bcc8e8e3",
       "version_major": 2,
       "version_minor": 0
      },
      "text/plain": [
       "  0%|          | 0/500 [00:00<?, ?it/s]"
      ]
     },
     "metadata": {},
     "output_type": "display_data"
    },
    {
     "data": {
      "image/png": "[encoded data removed]",
      "text/plain": [
       "<Figure size 1440x288 with 10 Axes>"
      ]
     },
     "metadata": {
      "needs_background": "light"
     },
     "output_type": "display_data"
    },
    {
     "data": {
      "application/vnd.jupyter.widget-view+json": {
       "model_id": "c351f50cebd44c638ca696b91368903b",
       "version_major": 2,
       "version_minor": 0
      },
      "text/plain": [
       "  0%|          | 0/500 [00:00<?, ?it/s]"
      ]
     },
     "metadata": {},
     "output_type": "display_data"
    },
    {
     "data": {
      "image/png": "[encoded data removed]",
      "text/plain": [
       "<Figure size 1440x288 with 10 Axes>"
      ]
     },
     "metadata": {
      "needs_background": "light"
     },
     "output_type": "display_data"
    },
    {
     "name": "stdout",
     "output_type": "stream",
     "text": [
      "Number of ODE function evaluations: 470\n"
     ]
    },
    {
     "data": {
      "image/png": "[encoded data removed]",
      "text/plain": [
       "<Figure size 1440x288 with 10 Axes>"
      ]
     },
     "metadata": {
      "needs_background": "light"
     },
     "output_type": "display_data"
    },
    {
     "data": {
      "application/vnd.jupyter.widget-view+json": {
       "model_id": "83fba4d18c1143aab062d120aa86a00e",
       "version_major": 2,
       "version_minor": 0
      },
      "text/plain": [
       "  0%|          | 0/500 [00:00<?, ?it/s]"
      ]
     },
     "metadata": {},
     "output_type": "display_data"
    },
    {
     "data": {
      "image/png": "[encoded data removed]",
      "text/plain": [
       "<Figure size 1440x288 with 10 Axes>"
      ]
     },
     "metadata": {
      "needs_background": "light"
     },
     "output_type": "display_data"
    },
    {
     "data": {
      "application/vnd.jupyter.widget-view+json": {
       "model_id": "4a9cda06516440ba86790005048bf7e1",
       "version_major": 2,
       "version_minor": 0
      },
      "text/plain": [
       "  0%|          | 0/500 [00:00<?, ?it/s]"
      ]
     },
     "metadata": {},
     "output_type": "display_data"
    },
    {
     "data": {
      "image/png": "[encoded data removed]",
      "text/plain": [
       "<Figure size 1440x288 with 10 Axes>"
      ]
     },
     "metadata": {
      "needs_background": "light"
     },
     "output_type": "display_data"
    },
    {
     "name": "stdout",
     "output_type": "stream",
     "text": [
      "Number of ODE function evaluations: 494\n"
     ]
    },
    {
     "data": {
      "image/png": "[encoded data removed]",
      "text/plain": [
       "<Figure size 1440x288 with 10 Axes>"
      ]
     },
     "metadata": {
      "needs_background": "light"
     },
     "output_type": "display_data"
    },
    {
     "data": {
      "application/vnd.jupyter.widget-view+json": {
       "model_id": "3a730ba71b724ae88ebbaa930c31c8b5",
       "version_major": 2,
       "version_minor": 0
      },
      "text/plain": [
       "  0%|          | 0/500 [00:00<?, ?it/s]"
      ]
     },
     "metadata": {},
     "output_type": "display_data"
    },
    {
     "data": {
      "image/png": "[encoded data removed]",
      "text/plain": [
       "<Figure size 1440x288 with 10 Axes>"
      ]
     },
     "metadata": {
      "needs_background": "light"
     },
     "output_type": "display_data"
    },
    {
     "data": {
      "application/vnd.jupyter.widget-view+json": {
       "model_id": "cf9cd1a2645b497fac503650c2d6d3c4",
       "version_major": 2,
       "version_minor": 0
      },
      "text/plain": [
       "  0%|          | 0/500 [00:00<?, ?it/s]"
      ]
     },
     "metadata": {},
     "output_type": "display_data"
    },
    {
     "data": {
      "image/png": "[encoded data removed]",
      "text/plain": [
       "<Figure size 1440x288 with 10 Axes>"
      ]
     },
     "metadata": {
      "needs_background": "light"
     },
     "output_type": "display_data"
    },
    {
     "name": "stdout",
     "output_type": "stream",
     "text": [
      "Number of ODE function evaluations: 488\n"
     ]
    },
    {
     "data": {
      "image/png": "[encoded data removed]",
      "text/plain": [
       "<Figure size 1440x288 with 10 Axes>"
      ]
     },
     "metadata": {
      "needs_background": "light"
     },
     "output_type": "display_data"
    }
   ],
   "source": [
    "for class_to_sample in classes:\n",
    "    print(\"Sampling class: %s\" % class_to_sample)\n",
    "    for sampler in (\"em\", \"pc\", \"ode\"):\n",
    "        samples = generate_samples(model, sde, class_to_sample, sampler=sampler, t_limit=t_limit)\n",
    "        plot_digits(torch.clamp(samples, 0, 1).cpu(), title=sampler.upper())"
   ]
  }
 ],
 "metadata": {
  "kernelspec": {
   "display_name": "Python 3 (ipykernel)",
   "language": "python",
   "name": "python3"
  },
  "language_info": {
   "codemirror_mode": {
    "name": "ipython",
    "version": 3
   },
   "file_extension": ".py",
   "mimetype": "text/x-python",
   "name": "python",
   "nbconvert_exporter": "python",
   "pygments_lexer": "ipython3",
   "version": "3.9.12"
  }
 },
 "nbformat": 4,
 "nbformat_minor": 5
}
