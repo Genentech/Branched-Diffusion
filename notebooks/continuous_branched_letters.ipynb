{
 "cells": [
  {
   "cell_type": "code",
   "execution_count": 1,
   "id": "4ce6f328",
   "metadata": {},
   "outputs": [],
   "source": [
    "%load_ext autoreload\n",
    "%autoreload 2\n",
    "import sys\n",
    "sys.path.append(\"../src\")\n",
    "import model.sdes as sdes\n",
    "import model.generate as generate\n",
    "import model.util as model_util\n",
    "import torch\n",
    "import numpy as np\n",
    "import scipy.stats\n",
    "import matplotlib.pyplot as plt\n",
    "import os"
   ]
  },
  {
   "cell_type": "code",
   "execution_count": 2,
   "id": "df22d86f",
   "metadata": {},
   "outputs": [],
   "source": [
    "# Define device\n",
    "if torch.cuda.is_available():\n",
    "    DEVICE = \"cuda\"\n",
    "else:\n",
    "    DEVICE = \"cpu\""
   ]
  },
  {
   "cell_type": "markdown",
   "id": "dfe528ba",
   "metadata": {},
   "source": [
    "### Define the branches and create the data loader"
   ]
  },
  {
   "cell_type": "code",
   "execution_count": 3,
   "id": "e395da27",
   "metadata": {},
   "outputs": [],
   "source": [
    "classes = list(\"ABCDEFGHIJKLMNOPQRSTUVWXYZ\")\n",
    "# branch_defs = [\n",
    "#     ((\"X\", \"O\", \"Q\"), 0.5, 1),\n",
    "#     ((\"X\",), 0, 0.5),\n",
    "#     ((\"O\", \"Q\"), 0.35, 0.5),\n",
    "#     ((\"O\",), 0, 0.35),\n",
    "#     ((\"Q\",), 0, 0.35)\n",
    "# ]\n",
    "branch_defs = [(tuple(classes), 0, 1)]"
   ]
  },
  {
   "cell_type": "code",
   "execution_count": 4,
   "id": "951177e3",
   "metadata": {},
   "outputs": [],
   "source": [
    "class LetterDataset(torch.utils.data.Dataset):\n",
    "    def __init__(self):\n",
    "        data_path = \"/gstore/data/resbioai/tsenga5/branched_diffusion/data/letter_recognition/letter-recognition.data\"\n",
    "        \n",
    "        data = []\n",
    "        targets = []\n",
    "        with open(data_path, \"r\") as f:\n",
    "            for line in f:\n",
    "                tokens = line.strip().split(\",\")\n",
    "                targets.append(tokens[0])\n",
    "                data.append(np.array(list(map(int, tokens[1:]))))\n",
    "        self.data = np.stack(data)\n",
    "        self.targets = np.array(targets)\n",
    "        self.target_inds = np.unique(self.targets, return_inverse=True)[1]\n",
    "        \n",
    "        # Center/normalize the data\n",
    "        self.data = (self.data - np.mean(self.data, axis=0, keepdims=True)) / \\\n",
    "            np.std(self.data, axis=0, keepdims=True)\n",
    "        \n",
    "    def __getitem__(self, index):\n",
    "        return torch.tensor(self.data[index]).float(), self.targets[index]\n",
    "        \n",
    "    def __len__(self):\n",
    "        return len(self.targets)\n",
    "    \n",
    "dataset = LetterDataset()\n",
    "\n",
    "# Limit classes\n",
    "inds = np.isin(dataset.targets, classes)\n",
    "dataset.data = dataset.data[inds]\n",
    "dataset.targets = dataset.targets[inds]\n",
    "dataset.target_inds = dataset.target_inds[inds]\n",
    "\n",
    "data_loader = torch.utils.data.DataLoader(dataset, batch_size=128, shuffle=True, num_workers=2)\n",
    "input_shape = next(iter(data_loader))[0].shape[1:]"
   ]
  },
  {
   "cell_type": "code",
   "execution_count": 5,
   "id": "5b6d3f84",
   "metadata": {},
   "outputs": [],
   "source": [
    "# TODO: this is currently rather inefficient; a decision-tree-style structure\n",
    "# would be better\n",
    "\n",
    "def class_time_to_branch(c, t):\n",
    "    \"\"\"\n",
    "    Given a class and a time (both scalars), return the\n",
    "    corresponding branch index.\n",
    "    \"\"\"\n",
    "    for i, branch_def in enumerate(branch_defs):\n",
    "        if c in branch_def[0] and t >= branch_def[1] and t <= branch_def[2]:\n",
    "            return i\n",
    "    raise ValueError(\"Undefined class and time\")\n",
    "        \n",
    "def class_time_to_branch_tensor(c, t):\n",
    "    \"\"\"\n",
    "    Given tensors of classes and a times, return the\n",
    "    corresponding branch indices as a tensor.\n",
    "    \"\"\"\n",
    "    return torch.tensor([\n",
    "        class_time_to_branch(c_i, t_i) for c_i, t_i in zip(c, t)\n",
    "    ], device=DEVICE)"
   ]
  },
  {
   "cell_type": "code",
   "execution_count": 6,
   "id": "79e1c2f2",
   "metadata": {},
   "outputs": [],
   "source": [
    "class MLP(torch.nn.Module):\n",
    "    def __init__(\n",
    "        self, input_dim, num_layers=4, hidden_dims=([256] * 3), time_embed_std=30,\n",
    "        embed_size=256, t_limit=1\n",
    "    ):\n",
    "        super().__init__()\n",
    "        self.creation_args = {}\n",
    "        \n",
    "        self.t_limit = t_limit\n",
    "        assert embed_size % 2 == 0\n",
    "        \n",
    "        self.time_embed_rand_weights = torch.nn.Parameter(\n",
    "            torch.randn(embed_size // 2) * time_embed_std,\n",
    "            requires_grad=False\n",
    "        )\n",
    "        \n",
    "        self.time_dense_1 = torch.nn.Linear(embed_size, embed_size)\n",
    "        self.time_dense_2 = torch.nn.Linear(embed_size, embed_size)\n",
    "        self.input_dense = torch.nn.Linear(input_dim, embed_size)\n",
    "        \n",
    "        self.dense_layers = torch.nn.ModuleList()\n",
    "        for i in range(num_layers):\n",
    "            if i == 0:\n",
    "                dense_layer = torch.nn.Linear(embed_size, hidden_dims[i])\n",
    "            elif i < num_layers - 1:\n",
    "                dense_layer = torch.nn.Linear(hidden_dims[i - 1], hidden_dims[i])\n",
    "            else:\n",
    "                dense_layer = torch.nn.Linear(hidden_dims[i - 1], input_dim)\n",
    "            self.dense_layers.append(dense_layer)\n",
    "            \n",
    "        self.swish = lambda x: x * torch.sigmoid(x)\n",
    "        self.relu = torch.nn.ReLU()\n",
    "        self.mse = torch.nn.MSELoss()\n",
    "        \n",
    "    def forward(self, xt, t, task_inds=None):\n",
    "        time_embed_args = (t[:, None] / self.t_limit) * (2 * np.pi) * self.time_embed_rand_weights[None, :]\n",
    "        # Shape: B x E\n",
    "        time_embed = self.time_dense_2(self.swish(self.time_dense_1(\n",
    "            torch.cat([\n",
    "                torch.sin(time_embed_args), torch.cos(time_embed_args)\n",
    "            ], dim=1)\n",
    "        )))\n",
    "        # Shape: B x E\n",
    "        \n",
    "        x = self.input_dense(xt) + time_embed\n",
    "                \n",
    "        for i in range(len(self.dense_layers)):\n",
    "            x = self.dense_layers[i](x)\n",
    "            if i < len(self.dense_layers) - 1:\n",
    "                x = self.relu(x)\n",
    "                \n",
    "        return x[:, None]\n",
    "    \n",
    "    def loss(self, pred_vals, true_vals, task_inds, weights=None):\n",
    "        return self.mse(pred_vals[:, 0], true_vals)"
   ]
  },
  {
   "cell_type": "code",
   "execution_count": 7,
   "id": "ab1a36e2",
   "metadata": {},
   "outputs": [],
   "source": [
    "# Create the SDE and model\n",
    "sde = sdes.VariancePreservingSDE(0.1, 1, input_shape)\n",
    "\n",
    "t_limit = 1\n",
    "model = MLP(\n",
    "    input_shape[0], t_limit=t_limit\n",
    ").to(DEVICE)\n",
    "\n",
    "os.environ[\"MODEL_DIR\"] = \"/gstore/data/resbioai/tsenga5/branched_diffusion/models/trained_models/misc\"\n",
    "\n",
    "import model.train_continuous_model as train_continuous_model  # Import this AFTER setting environment"
   ]
  },
  {
   "cell_type": "markdown",
   "id": "3c07baf0",
   "metadata": {},
   "source": [
    "### Show the forward-diffusion process"
   ]
  },
  {
   "cell_type": "code",
   "execution_count": 8,
   "id": "1efc4143",
   "metadata": {},
   "outputs": [
    {
     "data": {
      "image/png": "[encoded data removed]",
      "text/plain": [
       "<Figure size 1440x576 with 1 Axes>"
      ]
     },
     "metadata": {
      "needs_background": "light"
     },
     "output_type": "display_data"
    }
   ],
   "source": [
    "# Show the transformation of the distribution of data to the prior distribution\n",
    "x0, _ = next(iter(data_loader))\n",
    "x0 = x0.cpu().numpy()\n",
    "x0 = torch.tensor(x0).to(DEVICE)\n",
    "\n",
    "time_steps = 30\n",
    "\n",
    "all_t = np.linspace(0, t_limit, time_steps)\n",
    "all_xt = np.empty((len(all_t),) + x0.shape)\n",
    "for t_i, t in enumerate(all_t):\n",
    "    xt, _ = sde.forward(x0, torch.ones(len(x0)).to(DEVICE) * t)\n",
    "    all_xt[t_i] = xt.cpu().numpy()\n",
    "\n",
    "fig, ax = plt.subplots(figsize=(20, 8))\n",
    "cmap = plt.get_cmap(\"magma\")\n",
    "for t_i in range(len(all_t)):\n",
    "    ax.hist(np.ravel(all_xt[t_i]), bins=60, histtype=\"step\", color=cmap(t_i / len(all_t)), alpha=0.5, density=True)\n",
    "prior = sde.sample_prior(len(x0), torch.ones(len(x0)).to(DEVICE) * t).cpu().numpy()\n",
    "ax.hist(np.ravel(prior), bins=60, histtype=\"step\", color=\"blue\", linewidth=2, density=True, label=\"Sampled prior\")\n",
    "ax.set_xlabel(\"x\")\n",
    "ax.set_ylabel(\"p(x)\")\n",
    "ax.set_title(\"Evolution of p(x) over forward SDE\")\n",
    "ax.set_ylim((0, 3))\n",
    "plt.legend()\n",
    "plt.show()"
   ]
  },
  {
   "cell_type": "markdown",
   "id": "7f19ff6b",
   "metadata": {},
   "source": [
    "### Train the model"
   ]
  },
  {
   "cell_type": "code",
   "execution_count": 9,
   "id": "77f13f9c",
   "metadata": {
    "scrolled": true
   },
   "outputs": [
    {
     "name": "stderr",
     "output_type": "stream",
     "text": [
      "WARNING - root - Added new config entry: \"class_time_to_branch_index\"\n",
      "WARNING - root - Added new config entry: \"data_loader\"\n",
      "WARNING - root - Added new config entry: \"loss_weighting_type\"\n",
      "WARNING - root - Added new config entry: \"model\"\n",
      "WARNING - root - Added new config entry: \"sde\"\n",
      "WARNING - root - Added new config entry: \"t_limit\"\n",
      "INFO - train - Running command 'train_branched_model'\n",
      "INFO - train - Started run with ID \"27\"\n",
      "Loss: 17.24: 100%|███████████████████████████████████████████████████████████████████████████████████████████████████████| 157/157 [00:02<00:00, 57.50it/s]\n"
     ]
    },
    {
     "name": "stdout",
     "output_type": "stream",
     "text": [
      "Epoch 1 average Loss: 82.14\n"
     ]
    },
    {
     "name": "stderr",
     "output_type": "stream",
     "text": [
      "Loss: 41.33: 100%|███████████████████████████████████████████████████████████████████████████████████████████████████████| 157/157 [00:02<00:00, 65.30it/s]\n"
     ]
    },
    {
     "name": "stdout",
     "output_type": "stream",
     "text": [
      "Epoch 2 average Loss: 70.32\n"
     ]
    },
    {
     "name": "stderr",
     "output_type": "stream",
     "text": [
      "Loss: 188.51: 100%|██████████████████████████████████████████████████████████████████████████████████████████████████████| 157/157 [00:02<00:00, 63.36it/s]\n"
     ]
    },
    {
     "name": "stdout",
     "output_type": "stream",
     "text": [
      "Epoch 3 average Loss: 179.94\n"
     ]
    },
    {
     "name": "stderr",
     "output_type": "stream",
     "text": [
      "Loss: 11.16: 100%|███████████████████████████████████████████████████████████████████████████████████████████████████████| 157/157 [00:02<00:00, 64.79it/s]\n"
     ]
    },
    {
     "name": "stdout",
     "output_type": "stream",
     "text": [
      "Epoch 4 average Loss: 91.55\n"
     ]
    },
    {
     "name": "stderr",
     "output_type": "stream",
     "text": [
      "Loss: 51.29: 100%|███████████████████████████████████████████████████████████████████████████████████████████████████████| 157/157 [00:02<00:00, 66.08it/s]\n"
     ]
    },
    {
     "name": "stdout",
     "output_type": "stream",
     "text": [
      "Epoch 5 average Loss: 72.13\n"
     ]
    },
    {
     "name": "stderr",
     "output_type": "stream",
     "text": [
      "Loss: 22.60: 100%|███████████████████████████████████████████████████████████████████████████████████████████████████████| 157/157 [00:02<00:00, 63.95it/s]\n"
     ]
    },
    {
     "name": "stdout",
     "output_type": "stream",
     "text": [
      "Epoch 6 average Loss: 194.19\n"
     ]
    },
    {
     "name": "stderr",
     "output_type": "stream",
     "text": [
      "Loss: 8.70: 100%|████████████████████████████████████████████████████████████████████████████████████████████████████████| 157/157 [00:02<00:00, 65.85it/s]\n"
     ]
    },
    {
     "name": "stdout",
     "output_type": "stream",
     "text": [
      "Epoch 7 average Loss: 117.81\n"
     ]
    },
    {
     "name": "stderr",
     "output_type": "stream",
     "text": [
      "Loss: 85.44: 100%|███████████████████████████████████████████████████████████████████████████████████████████████████████| 157/157 [00:02<00:00, 65.11it/s]\n"
     ]
    },
    {
     "name": "stdout",
     "output_type": "stream",
     "text": [
      "Epoch 8 average Loss: 59.30\n"
     ]
    },
    {
     "name": "stderr",
     "output_type": "stream",
     "text": [
      "Loss: 24.34: 100%|███████████████████████████████████████████████████████████████████████████████████████████████████████| 157/157 [00:02<00:00, 64.60it/s]\n"
     ]
    },
    {
     "name": "stdout",
     "output_type": "stream",
     "text": [
      "Epoch 9 average Loss: 173.80\n"
     ]
    },
    {
     "name": "stderr",
     "output_type": "stream",
     "text": [
      "Loss: 19.22: 100%|███████████████████████████████████████████████████████████████████████████████████████████████████████| 157/157 [00:02<00:00, 66.70it/s]\n"
     ]
    },
    {
     "name": "stdout",
     "output_type": "stream",
     "text": [
      "Epoch 10 average Loss: 93.59\n"
     ]
    },
    {
     "name": "stderr",
     "output_type": "stream",
     "text": [
      "Loss: 10.31: 100%|███████████████████████████████████████████████████████████████████████████████████████████████████████| 157/157 [00:02<00:00, 65.33it/s]\n"
     ]
    },
    {
     "name": "stdout",
     "output_type": "stream",
     "text": [
      "Epoch 11 average Loss: 67.64\n"
     ]
    },
    {
     "name": "stderr",
     "output_type": "stream",
     "text": [
      "Loss: 39.53: 100%|███████████████████████████████████████████████████████████████████████████████████████████████████████| 157/157 [00:02<00:00, 66.80it/s]\n"
     ]
    },
    {
     "name": "stdout",
     "output_type": "stream",
     "text": [
      "Epoch 12 average Loss: 93.69\n"
     ]
    },
    {
     "name": "stderr",
     "output_type": "stream",
     "text": [
      "Loss: 30.08: 100%|███████████████████████████████████████████████████████████████████████████████████████████████████████| 157/157 [00:02<00:00, 64.55it/s]\n"
     ]
    },
    {
     "name": "stdout",
     "output_type": "stream",
     "text": [
      "Epoch 13 average Loss: 110.63\n"
     ]
    },
    {
     "name": "stderr",
     "output_type": "stream",
     "text": [
      "Loss: 40.41: 100%|███████████████████████████████████████████████████████████████████████████████████████████████████████| 157/157 [00:02<00:00, 66.17it/s]\n"
     ]
    },
    {
     "name": "stdout",
     "output_type": "stream",
     "text": [
      "Epoch 14 average Loss: 73.29\n"
     ]
    },
    {
     "name": "stderr",
     "output_type": "stream",
     "text": [
      "Loss: 61.50: 100%|███████████████████████████████████████████████████████████████████████████████████████████████████████| 157/157 [00:02<00:00, 65.09it/s]\n"
     ]
    },
    {
     "name": "stdout",
     "output_type": "stream",
     "text": [
      "Epoch 15 average Loss: 75.59\n"
     ]
    },
    {
     "name": "stderr",
     "output_type": "stream",
     "text": [
      "Loss: 17.81: 100%|███████████████████████████████████████████████████████████████████████████████████████████████████████| 157/157 [00:02<00:00, 64.78it/s]\n"
     ]
    },
    {
     "name": "stdout",
     "output_type": "stream",
     "text": [
      "Epoch 16 average Loss: 100.27\n"
     ]
    },
    {
     "name": "stderr",
     "output_type": "stream",
     "text": [
      "Loss: 122.75: 100%|██████████████████████████████████████████████████████████████████████████████████████████████████████| 157/157 [00:02<00:00, 63.77it/s]\n"
     ]
    },
    {
     "name": "stdout",
     "output_type": "stream",
     "text": [
      "Epoch 17 average Loss: 92.26\n"
     ]
    },
    {
     "name": "stderr",
     "output_type": "stream",
     "text": [
      "Loss: 43.16: 100%|███████████████████████████████████████████████████████████████████████████████████████████████████████| 157/157 [00:02<00:00, 64.82it/s]\n"
     ]
    },
    {
     "name": "stdout",
     "output_type": "stream",
     "text": [
      "Epoch 18 average Loss: 105.17\n"
     ]
    },
    {
     "name": "stderr",
     "output_type": "stream",
     "text": [
      "Loss: 38.46: 100%|███████████████████████████████████████████████████████████████████████████████████████████████████████| 157/157 [00:02<00:00, 64.17it/s]\n"
     ]
    },
    {
     "name": "stdout",
     "output_type": "stream",
     "text": [
      "Epoch 19 average Loss: 78.35\n"
     ]
    },
    {
     "name": "stderr",
     "output_type": "stream",
     "text": [
      "Loss: 18.07: 100%|███████████████████████████████████████████████████████████████████████████████████████████████████████| 157/157 [00:02<00:00, 65.36it/s]\n"
     ]
    },
    {
     "name": "stdout",
     "output_type": "stream",
     "text": [
      "Epoch 20 average Loss: 124.58\n"
     ]
    },
    {
     "name": "stderr",
     "output_type": "stream",
     "text": [
      "Loss: 14.57: 100%|███████████████████████████████████████████████████████████████████████████████████████████████████████| 157/157 [00:02<00:00, 64.53it/s]\n"
     ]
    },
    {
     "name": "stdout",
     "output_type": "stream",
     "text": [
      "Epoch 21 average Loss: 249.11\n"
     ]
    },
    {
     "name": "stderr",
     "output_type": "stream",
     "text": [
      "Loss: 53.44: 100%|███████████████████████████████████████████████████████████████████████████████████████████████████████| 157/157 [00:02<00:00, 64.53it/s]\n"
     ]
    },
    {
     "name": "stdout",
     "output_type": "stream",
     "text": [
      "Epoch 22 average Loss: 77.84\n"
     ]
    },
    {
     "name": "stderr",
     "output_type": "stream",
     "text": [
      "Loss: 156.58: 100%|██████████████████████████████████████████████████████████████████████████████████████████████████████| 157/157 [00:02<00:00, 65.49it/s]\n"
     ]
    },
    {
     "name": "stdout",
     "output_type": "stream",
     "text": [
      "Epoch 23 average Loss: 72.93\n"
     ]
    },
    {
     "name": "stderr",
     "output_type": "stream",
     "text": [
      "Loss: 86.33: 100%|███████████████████████████████████████████████████████████████████████████████████████████████████████| 157/157 [00:02<00:00, 64.93it/s]\n"
     ]
    },
    {
     "name": "stdout",
     "output_type": "stream",
     "text": [
      "Epoch 24 average Loss: 86.03\n"
     ]
    },
    {
     "name": "stderr",
     "output_type": "stream",
     "text": [
      "Loss: 43.36: 100%|███████████████████████████████████████████████████████████████████████████████████████████████████████| 157/157 [00:02<00:00, 63.50it/s]\n"
     ]
    },
    {
     "name": "stdout",
     "output_type": "stream",
     "text": [
      "Epoch 25 average Loss: 124.79\n"
     ]
    },
    {
     "name": "stderr",
     "output_type": "stream",
     "text": [
      "Loss: 2305.22: 100%|█████████████████████████████████████████████████████████████████████████████████████████████████████| 157/157 [00:02<00:00, 65.40it/s]\n"
     ]
    },
    {
     "name": "stdout",
     "output_type": "stream",
     "text": [
      "Epoch 26 average Loss: 94.25\n"
     ]
    },
    {
     "name": "stderr",
     "output_type": "stream",
     "text": [
      "Loss: 93.15: 100%|███████████████████████████████████████████████████████████████████████████████████████████████████████| 157/157 [00:02<00:00, 64.92it/s]\n"
     ]
    },
    {
     "name": "stdout",
     "output_type": "stream",
     "text": [
      "Epoch 27 average Loss: 132.48\n"
     ]
    },
    {
     "name": "stderr",
     "output_type": "stream",
     "text": [
      "Loss: 36.59: 100%|███████████████████████████████████████████████████████████████████████████████████████████████████████| 157/157 [00:02<00:00, 65.00it/s]\n"
     ]
    },
    {
     "name": "stdout",
     "output_type": "stream",
     "text": [
      "Epoch 28 average Loss: 81.48\n"
     ]
    },
    {
     "name": "stderr",
     "output_type": "stream",
     "text": [
      "Loss: 30.23: 100%|███████████████████████████████████████████████████████████████████████████████████████████████████████| 157/157 [00:02<00:00, 64.18it/s]\n"
     ]
    },
    {
     "name": "stdout",
     "output_type": "stream",
     "text": [
      "Epoch 29 average Loss: 68.18\n"
     ]
    },
    {
     "name": "stderr",
     "output_type": "stream",
     "text": [
      "Loss: 23.55: 100%|███████████████████████████████████████████████████████████████████████████████████████████████████████| 157/157 [00:02<00:00, 64.18it/s]\n"
     ]
    },
    {
     "name": "stdout",
     "output_type": "stream",
     "text": [
      "Epoch 30 average Loss: 99.53\n"
     ]
    },
    {
     "name": "stderr",
     "output_type": "stream",
     "text": [
      "Loss: 57.45: 100%|███████████████████████████████████████████████████████████████████████████████████████████████████████| 157/157 [00:02<00:00, 64.91it/s]\n"
     ]
    },
    {
     "name": "stdout",
     "output_type": "stream",
     "text": [
      "Epoch 31 average Loss: 86.93\n"
     ]
    },
    {
     "name": "stderr",
     "output_type": "stream",
     "text": [
      "Loss: 75.68: 100%|███████████████████████████████████████████████████████████████████████████████████████████████████████| 157/157 [00:02<00:00, 64.49it/s]\n"
     ]
    },
    {
     "name": "stdout",
     "output_type": "stream",
     "text": [
      "Epoch 32 average Loss: 79.23\n"
     ]
    },
    {
     "name": "stderr",
     "output_type": "stream",
     "text": [
      "Loss: 71.24: 100%|███████████████████████████████████████████████████████████████████████████████████████████████████████| 157/157 [00:02<00:00, 64.34it/s]\n"
     ]
    },
    {
     "name": "stdout",
     "output_type": "stream",
     "text": [
      "Epoch 33 average Loss: 75.79\n"
     ]
    },
    {
     "name": "stderr",
     "output_type": "stream",
     "text": [
      "Loss: 7.03: 100%|████████████████████████████████████████████████████████████████████████████████████████████████████████| 157/157 [00:02<00:00, 64.63it/s]\n"
     ]
    },
    {
     "name": "stdout",
     "output_type": "stream",
     "text": [
      "Epoch 34 average Loss: 78.07\n"
     ]
    },
    {
     "name": "stderr",
     "output_type": "stream",
     "text": [
      "Loss: 21.67: 100%|███████████████████████████████████████████████████████████████████████████████████████████████████████| 157/157 [00:02<00:00, 65.34it/s]\n"
     ]
    },
    {
     "name": "stdout",
     "output_type": "stream",
     "text": [
      "Epoch 35 average Loss: 176.45\n"
     ]
    },
    {
     "name": "stderr",
     "output_type": "stream",
     "text": [
      "Loss: 72.80: 100%|███████████████████████████████████████████████████████████████████████████████████████████████████████| 157/157 [00:02<00:00, 64.38it/s]\n"
     ]
    },
    {
     "name": "stdout",
     "output_type": "stream",
     "text": [
      "Epoch 36 average Loss: 246.05\n"
     ]
    },
    {
     "name": "stderr",
     "output_type": "stream",
     "text": [
      "Loss: 21.08: 100%|███████████████████████████████████████████████████████████████████████████████████████████████████████| 157/157 [00:02<00:00, 63.65it/s]\n"
     ]
    },
    {
     "name": "stdout",
     "output_type": "stream",
     "text": [
      "Epoch 37 average Loss: 67.74\n"
     ]
    },
    {
     "name": "stderr",
     "output_type": "stream",
     "text": [
      "Loss: 14.55: 100%|███████████████████████████████████████████████████████████████████████████████████████████████████████| 157/157 [00:02<00:00, 61.87it/s]\n"
     ]
    },
    {
     "name": "stdout",
     "output_type": "stream",
     "text": [
      "Epoch 38 average Loss: 378.82\n"
     ]
    },
    {
     "name": "stderr",
     "output_type": "stream",
     "text": [
      "Loss: 22.47: 100%|███████████████████████████████████████████████████████████████████████████████████████████████████████| 157/157 [00:02<00:00, 64.66it/s]\n"
     ]
    },
    {
     "name": "stdout",
     "output_type": "stream",
     "text": [
      "Epoch 39 average Loss: 120.49\n"
     ]
    },
    {
     "name": "stderr",
     "output_type": "stream",
     "text": [
      "Loss: 53.81: 100%|███████████████████████████████████████████████████████████████████████████████████████████████████████| 157/157 [00:02<00:00, 64.69it/s]\n"
     ]
    },
    {
     "name": "stdout",
     "output_type": "stream",
     "text": [
      "Epoch 40 average Loss: 127.72\n"
     ]
    },
    {
     "name": "stderr",
     "output_type": "stream",
     "text": [
      "Loss: 86.88: 100%|███████████████████████████████████████████████████████████████████████████████████████████████████████| 157/157 [00:02<00:00, 65.00it/s]\n"
     ]
    },
    {
     "name": "stdout",
     "output_type": "stream",
     "text": [
      "Epoch 41 average Loss: 82.03\n"
     ]
    },
    {
     "name": "stderr",
     "output_type": "stream",
     "text": [
      "Loss: 40.11: 100%|███████████████████████████████████████████████████████████████████████████████████████████████████████| 157/157 [00:02<00:00, 64.35it/s]\n"
     ]
    },
    {
     "name": "stdout",
     "output_type": "stream",
     "text": [
      "Epoch 42 average Loss: 72.77\n"
     ]
    },
    {
     "name": "stderr",
     "output_type": "stream",
     "text": [
      "Loss: 28.98: 100%|███████████████████████████████████████████████████████████████████████████████████████████████████████| 157/157 [00:02<00:00, 64.24it/s]\n"
     ]
    },
    {
     "name": "stdout",
     "output_type": "stream",
     "text": [
      "Epoch 43 average Loss: 92.83\n"
     ]
    },
    {
     "name": "stderr",
     "output_type": "stream",
     "text": [
      "Loss: 8.18: 100%|████████████████████████████████████████████████████████████████████████████████████████████████████████| 157/157 [00:02<00:00, 63.76it/s]\n"
     ]
    },
    {
     "name": "stdout",
     "output_type": "stream",
     "text": [
      "Epoch 44 average Loss: 62.21\n"
     ]
    },
    {
     "name": "stderr",
     "output_type": "stream",
     "text": [
      "Loss: 34.18: 100%|███████████████████████████████████████████████████████████████████████████████████████████████████████| 157/157 [00:02<00:00, 64.79it/s]\n"
     ]
    },
    {
     "name": "stdout",
     "output_type": "stream",
     "text": [
      "Epoch 45 average Loss: 227.08\n"
     ]
    },
    {
     "name": "stderr",
     "output_type": "stream",
     "text": [
      "Loss: 98.02: 100%|███████████████████████████████████████████████████████████████████████████████████████████████████████| 157/157 [00:02<00:00, 63.09it/s]\n"
     ]
    },
    {
     "name": "stdout",
     "output_type": "stream",
     "text": [
      "Epoch 46 average Loss: 121.16\n"
     ]
    },
    {
     "name": "stderr",
     "output_type": "stream",
     "text": [
      "Loss: 54.19: 100%|███████████████████████████████████████████████████████████████████████████████████████████████████████| 157/157 [00:02<00:00, 64.47it/s]\n"
     ]
    },
    {
     "name": "stdout",
     "output_type": "stream",
     "text": [
      "Epoch 47 average Loss: 78.58\n"
     ]
    },
    {
     "name": "stderr",
     "output_type": "stream",
     "text": [
      "Loss: 22.48: 100%|███████████████████████████████████████████████████████████████████████████████████████████████████████| 157/157 [00:02<00:00, 64.81it/s]\n"
     ]
    },
    {
     "name": "stdout",
     "output_type": "stream",
     "text": [
      "Epoch 48 average Loss: 527.32\n"
     ]
    },
    {
     "name": "stderr",
     "output_type": "stream",
     "text": [
      "Loss: 36.81: 100%|███████████████████████████████████████████████████████████████████████████████████████████████████████| 157/157 [00:02<00:00, 65.30it/s]\n"
     ]
    },
    {
     "name": "stdout",
     "output_type": "stream",
     "text": [
      "Epoch 49 average Loss: 112.46\n"
     ]
    },
    {
     "name": "stderr",
     "output_type": "stream",
     "text": [
      "Loss: 18.73: 100%|███████████████████████████████████████████████████████████████████████████████████████████████████████| 157/157 [00:02<00:00, 63.36it/s]\n"
     ]
    },
    {
     "name": "stdout",
     "output_type": "stream",
     "text": [
      "Epoch 50 average Loss: 116.74\n"
     ]
    },
    {
     "name": "stderr",
     "output_type": "stream",
     "text": [
      "Loss: 80.39: 100%|███████████████████████████████████████████████████████████████████████████████████████████████████████| 157/157 [00:02<00:00, 64.24it/s]\n"
     ]
    },
    {
     "name": "stdout",
     "output_type": "stream",
     "text": [
      "Epoch 51 average Loss: 134.42\n"
     ]
    },
    {
     "name": "stderr",
     "output_type": "stream",
     "text": [
      "Loss: 8.01: 100%|████████████████████████████████████████████████████████████████████████████████████████████████████████| 157/157 [00:02<00:00, 64.40it/s]\n"
     ]
    },
    {
     "name": "stdout",
     "output_type": "stream",
     "text": [
      "Epoch 52 average Loss: 94.50\n"
     ]
    },
    {
     "name": "stderr",
     "output_type": "stream",
     "text": [
      "Loss: 39.50: 100%|███████████████████████████████████████████████████████████████████████████████████████████████████████| 157/157 [00:02<00:00, 64.13it/s]\n"
     ]
    },
    {
     "name": "stdout",
     "output_type": "stream",
     "text": [
      "Epoch 53 average Loss: 98.17\n"
     ]
    },
    {
     "name": "stderr",
     "output_type": "stream",
     "text": [
      "Loss: 13.17: 100%|███████████████████████████████████████████████████████████████████████████████████████████████████████| 157/157 [00:02<00:00, 63.78it/s]\n"
     ]
    },
    {
     "name": "stdout",
     "output_type": "stream",
     "text": [
      "Epoch 54 average Loss: 121.46\n"
     ]
    },
    {
     "name": "stderr",
     "output_type": "stream",
     "text": [
      "Loss: 146.22: 100%|██████████████████████████████████████████████████████████████████████████████████████████████████████| 157/157 [00:02<00:00, 62.90it/s]\n"
     ]
    },
    {
     "name": "stdout",
     "output_type": "stream",
     "text": [
      "Epoch 55 average Loss: 128.85\n"
     ]
    },
    {
     "name": "stderr",
     "output_type": "stream",
     "text": [
      "Loss: 29.07: 100%|███████████████████████████████████████████████████████████████████████████████████████████████████████| 157/157 [00:02<00:00, 64.30it/s]\n"
     ]
    },
    {
     "name": "stdout",
     "output_type": "stream",
     "text": [
      "Epoch 56 average Loss: 171.87\n"
     ]
    },
    {
     "name": "stderr",
     "output_type": "stream",
     "text": [
      "Loss: 116.41: 100%|██████████████████████████████████████████████████████████████████████████████████████████████████████| 157/157 [00:02<00:00, 64.61it/s]\n"
     ]
    },
    {
     "name": "stdout",
     "output_type": "stream",
     "text": [
      "Epoch 57 average Loss: 70.25\n"
     ]
    },
    {
     "name": "stderr",
     "output_type": "stream",
     "text": [
      "Loss: 24.66: 100%|███████████████████████████████████████████████████████████████████████████████████████████████████████| 157/157 [00:02<00:00, 64.08it/s]\n"
     ]
    },
    {
     "name": "stdout",
     "output_type": "stream",
     "text": [
      "Epoch 58 average Loss: 85.55\n"
     ]
    },
    {
     "name": "stderr",
     "output_type": "stream",
     "text": [
      "Loss: 196.74: 100%|██████████████████████████████████████████████████████████████████████████████████████████████████████| 157/157 [00:02<00:00, 63.72it/s]\n"
     ]
    },
    {
     "name": "stdout",
     "output_type": "stream",
     "text": [
      "Epoch 59 average Loss: 106.68\n"
     ]
    },
    {
     "name": "stderr",
     "output_type": "stream",
     "text": [
      "Loss: 19.12: 100%|███████████████████████████████████████████████████████████████████████████████████████████████████████| 157/157 [00:02<00:00, 64.84it/s]\n"
     ]
    },
    {
     "name": "stdout",
     "output_type": "stream",
     "text": [
      "Epoch 60 average Loss: 67.03\n"
     ]
    },
    {
     "name": "stderr",
     "output_type": "stream",
     "text": [
      "Loss: 73966.32: 100%|████████████████████████████████████████████████████████████████████████████████████████████████████| 157/157 [00:02<00:00, 64.09it/s]\n"
     ]
    },
    {
     "name": "stdout",
     "output_type": "stream",
     "text": [
      "Epoch 61 average Loss: 587.12\n"
     ]
    },
    {
     "name": "stderr",
     "output_type": "stream",
     "text": [
      "Loss: 479.08: 100%|██████████████████████████████████████████████████████████████████████████████████████████████████████| 157/157 [00:02<00:00, 63.68it/s]\n"
     ]
    },
    {
     "name": "stdout",
     "output_type": "stream",
     "text": [
      "Epoch 62 average Loss: 240.48\n"
     ]
    },
    {
     "name": "stderr",
     "output_type": "stream",
     "text": [
      "Loss: 51.55: 100%|███████████████████████████████████████████████████████████████████████████████████████████████████████| 157/157 [00:02<00:00, 65.05it/s]\n"
     ]
    },
    {
     "name": "stdout",
     "output_type": "stream",
     "text": [
      "Epoch 63 average Loss: 104.10\n"
     ]
    },
    {
     "name": "stderr",
     "output_type": "stream",
     "text": [
      "Loss: 28.16: 100%|███████████████████████████████████████████████████████████████████████████████████████████████████████| 157/157 [00:02<00:00, 64.67it/s]\n"
     ]
    },
    {
     "name": "stdout",
     "output_type": "stream",
     "text": [
      "Epoch 64 average Loss: 89.96\n"
     ]
    },
    {
     "name": "stderr",
     "output_type": "stream",
     "text": [
      "Loss: 27.34: 100%|███████████████████████████████████████████████████████████████████████████████████████████████████████| 157/157 [00:02<00:00, 64.43it/s]\n"
     ]
    },
    {
     "name": "stdout",
     "output_type": "stream",
     "text": [
      "Epoch 65 average Loss: 128.42\n"
     ]
    },
    {
     "name": "stderr",
     "output_type": "stream",
     "text": [
      "Loss: 8.83: 100%|████████████████████████████████████████████████████████████████████████████████████████████████████████| 157/157 [00:02<00:00, 64.43it/s]\n"
     ]
    },
    {
     "name": "stdout",
     "output_type": "stream",
     "text": [
      "Epoch 66 average Loss: 67.02\n"
     ]
    },
    {
     "name": "stderr",
     "output_type": "stream",
     "text": [
      "Loss: 32.81: 100%|███████████████████████████████████████████████████████████████████████████████████████████████████████| 157/157 [00:02<00:00, 65.49it/s]\n"
     ]
    },
    {
     "name": "stdout",
     "output_type": "stream",
     "text": [
      "Epoch 67 average Loss: 139.07\n"
     ]
    },
    {
     "name": "stderr",
     "output_type": "stream",
     "text": [
      "Loss: 32.95: 100%|███████████████████████████████████████████████████████████████████████████████████████████████████████| 157/157 [00:02<00:00, 64.85it/s]\n"
     ]
    },
    {
     "name": "stdout",
     "output_type": "stream",
     "text": [
      "Epoch 68 average Loss: 100.18\n"
     ]
    },
    {
     "name": "stderr",
     "output_type": "stream",
     "text": [
      "Loss: 48.03: 100%|███████████████████████████████████████████████████████████████████████████████████████████████████████| 157/157 [00:02<00:00, 64.59it/s]\n"
     ]
    },
    {
     "name": "stdout",
     "output_type": "stream",
     "text": [
      "Epoch 69 average Loss: 72.82\n"
     ]
    },
    {
     "name": "stderr",
     "output_type": "stream",
     "text": [
      "Loss: 21.08: 100%|███████████████████████████████████████████████████████████████████████████████████████████████████████| 157/157 [00:02<00:00, 63.31it/s]\n"
     ]
    },
    {
     "name": "stdout",
     "output_type": "stream",
     "text": [
      "Epoch 70 average Loss: 88.32\n"
     ]
    },
    {
     "name": "stderr",
     "output_type": "stream",
     "text": [
      "Loss: 18.79: 100%|███████████████████████████████████████████████████████████████████████████████████████████████████████| 157/157 [00:02<00:00, 64.26it/s]\n"
     ]
    },
    {
     "name": "stdout",
     "output_type": "stream",
     "text": [
      "Epoch 71 average Loss: 110.57\n"
     ]
    },
    {
     "name": "stderr",
     "output_type": "stream",
     "text": [
      "Loss: 63.70: 100%|███████████████████████████████████████████████████████████████████████████████████████████████████████| 157/157 [00:02<00:00, 64.69it/s]\n"
     ]
    },
    {
     "name": "stdout",
     "output_type": "stream",
     "text": [
      "Epoch 72 average Loss: 183.45\n"
     ]
    },
    {
     "name": "stderr",
     "output_type": "stream",
     "text": [
      "Loss: 13.70: 100%|███████████████████████████████████████████████████████████████████████████████████████████████████████| 157/157 [00:02<00:00, 64.27it/s]\n"
     ]
    },
    {
     "name": "stdout",
     "output_type": "stream",
     "text": [
      "Epoch 73 average Loss: 338.13\n"
     ]
    },
    {
     "name": "stderr",
     "output_type": "stream",
     "text": [
      "Loss: 93.40: 100%|███████████████████████████████████████████████████████████████████████████████████████████████████████| 157/157 [00:02<00:00, 63.72it/s]\n"
     ]
    },
    {
     "name": "stdout",
     "output_type": "stream",
     "text": [
      "Epoch 74 average Loss: 86.70\n"
     ]
    },
    {
     "name": "stderr",
     "output_type": "stream",
     "text": [
      "Loss: 22.12: 100%|███████████████████████████████████████████████████████████████████████████████████████████████████████| 157/157 [00:02<00:00, 65.09it/s]\n"
     ]
    },
    {
     "name": "stdout",
     "output_type": "stream",
     "text": [
      "Epoch 75 average Loss: 92.50\n"
     ]
    },
    {
     "name": "stderr",
     "output_type": "stream",
     "text": [
      "Loss: 10.53: 100%|███████████████████████████████████████████████████████████████████████████████████████████████████████| 157/157 [00:02<00:00, 64.69it/s]\n"
     ]
    },
    {
     "name": "stdout",
     "output_type": "stream",
     "text": [
      "Epoch 76 average Loss: 78.43\n"
     ]
    },
    {
     "name": "stderr",
     "output_type": "stream",
     "text": [
      "Loss: 9.82: 100%|████████████████████████████████████████████████████████████████████████████████████████████████████████| 157/157 [00:02<00:00, 64.20it/s]\n"
     ]
    },
    {
     "name": "stdout",
     "output_type": "stream",
     "text": [
      "Epoch 77 average Loss: 149.70\n"
     ]
    },
    {
     "name": "stderr",
     "output_type": "stream",
     "text": [
      "Loss: 30.51: 100%|███████████████████████████████████████████████████████████████████████████████████████████████████████| 157/157 [00:02<00:00, 63.17it/s]\n"
     ]
    },
    {
     "name": "stdout",
     "output_type": "stream",
     "text": [
      "Epoch 78 average Loss: 89.84\n"
     ]
    },
    {
     "name": "stderr",
     "output_type": "stream",
     "text": [
      "Loss: 144.50: 100%|██████████████████████████████████████████████████████████████████████████████████████████████████████| 157/157 [00:02<00:00, 64.11it/s]\n"
     ]
    },
    {
     "name": "stdout",
     "output_type": "stream",
     "text": [
      "Epoch 79 average Loss: 68.39\n"
     ]
    },
    {
     "name": "stderr",
     "output_type": "stream",
     "text": [
      "Loss: 12.25: 100%|███████████████████████████████████████████████████████████████████████████████████████████████████████| 157/157 [00:02<00:00, 65.23it/s]\n"
     ]
    },
    {
     "name": "stdout",
     "output_type": "stream",
     "text": [
      "Epoch 80 average Loss: 86.31\n"
     ]
    },
    {
     "name": "stderr",
     "output_type": "stream",
     "text": [
      "Loss: 15.61: 100%|███████████████████████████████████████████████████████████████████████████████████████████████████████| 157/157 [00:02<00:00, 64.45it/s]\n"
     ]
    },
    {
     "name": "stdout",
     "output_type": "stream",
     "text": [
      "Epoch 81 average Loss: 86.47\n"
     ]
    },
    {
     "name": "stderr",
     "output_type": "stream",
     "text": [
      "Loss: 13.69: 100%|███████████████████████████████████████████████████████████████████████████████████████████████████████| 157/157 [00:02<00:00, 65.17it/s]\n"
     ]
    },
    {
     "name": "stdout",
     "output_type": "stream",
     "text": [
      "Epoch 82 average Loss: 77.98\n"
     ]
    },
    {
     "name": "stderr",
     "output_type": "stream",
     "text": [
      "Loss: 269.56: 100%|██████████████████████████████████████████████████████████████████████████████████████████████████████| 157/157 [00:02<00:00, 63.15it/s]\n"
     ]
    },
    {
     "name": "stdout",
     "output_type": "stream",
     "text": [
      "Epoch 83 average Loss: 79.14\n"
     ]
    },
    {
     "name": "stderr",
     "output_type": "stream",
     "text": [
      "Loss: 173.30: 100%|██████████████████████████████████████████████████████████████████████████████████████████████████████| 157/157 [00:02<00:00, 65.54it/s]\n"
     ]
    },
    {
     "name": "stdout",
     "output_type": "stream",
     "text": [
      "Epoch 84 average Loss: 85.66\n"
     ]
    },
    {
     "name": "stderr",
     "output_type": "stream",
     "text": [
      "Loss: 18.94: 100%|███████████████████████████████████████████████████████████████████████████████████████████████████████| 157/157 [00:02<00:00, 65.30it/s]\n"
     ]
    },
    {
     "name": "stdout",
     "output_type": "stream",
     "text": [
      "Epoch 85 average Loss: 73.94\n"
     ]
    },
    {
     "name": "stderr",
     "output_type": "stream",
     "text": [
      "Loss: 39.98: 100%|███████████████████████████████████████████████████████████████████████████████████████████████████████| 157/157 [00:02<00:00, 64.29it/s]\n"
     ]
    },
    {
     "name": "stdout",
     "output_type": "stream",
     "text": [
      "Epoch 86 average Loss: 143.51\n"
     ]
    },
    {
     "name": "stderr",
     "output_type": "stream",
     "text": [
      "Loss: 34.32: 100%|███████████████████████████████████████████████████████████████████████████████████████████████████████| 157/157 [00:02<00:00, 62.73it/s]\n"
     ]
    },
    {
     "name": "stdout",
     "output_type": "stream",
     "text": [
      "Epoch 87 average Loss: 191.27\n"
     ]
    },
    {
     "name": "stderr",
     "output_type": "stream",
     "text": [
      "Loss: 21.66: 100%|███████████████████████████████████████████████████████████████████████████████████████████████████████| 157/157 [00:02<00:00, 65.75it/s]\n"
     ]
    },
    {
     "name": "stdout",
     "output_type": "stream",
     "text": [
      "Epoch 88 average Loss: 62.47\n"
     ]
    },
    {
     "name": "stderr",
     "output_type": "stream",
     "text": [
      "Loss: 10.35: 100%|███████████████████████████████████████████████████████████████████████████████████████████████████████| 157/157 [00:02<00:00, 64.62it/s]\n"
     ]
    },
    {
     "name": "stdout",
     "output_type": "stream",
     "text": [
      "Epoch 89 average Loss: 73.93\n"
     ]
    },
    {
     "name": "stderr",
     "output_type": "stream",
     "text": [
      "Loss: 33.80: 100%|███████████████████████████████████████████████████████████████████████████████████████████████████████| 157/157 [00:02<00:00, 64.96it/s]\n"
     ]
    },
    {
     "name": "stdout",
     "output_type": "stream",
     "text": [
      "Epoch 90 average Loss: 68.26\n"
     ]
    },
    {
     "name": "stderr",
     "output_type": "stream",
     "text": [
      "Loss: 52.28: 100%|███████████████████████████████████████████████████████████████████████████████████████████████████████| 157/157 [00:02<00:00, 63.59it/s]\n"
     ]
    },
    {
     "name": "stdout",
     "output_type": "stream",
     "text": [
      "Epoch 91 average Loss: 91.16\n"
     ]
    },
    {
     "name": "stderr",
     "output_type": "stream",
     "text": [
      "Loss: 26.58: 100%|███████████████████████████████████████████████████████████████████████████████████████████████████████| 157/157 [00:02<00:00, 66.12it/s]\n"
     ]
    },
    {
     "name": "stdout",
     "output_type": "stream",
     "text": [
      "Epoch 92 average Loss: 130.51\n"
     ]
    },
    {
     "name": "stderr",
     "output_type": "stream",
     "text": [
      "Loss: 19.74: 100%|███████████████████████████████████████████████████████████████████████████████████████████████████████| 157/157 [00:02<00:00, 63.50it/s]\n"
     ]
    },
    {
     "name": "stdout",
     "output_type": "stream",
     "text": [
      "Epoch 93 average Loss: 115.88\n"
     ]
    },
    {
     "name": "stderr",
     "output_type": "stream",
     "text": [
      "Loss: 25.49: 100%|███████████████████████████████████████████████████████████████████████████████████████████████████████| 157/157 [00:02<00:00, 64.69it/s]\n"
     ]
    },
    {
     "name": "stdout",
     "output_type": "stream",
     "text": [
      "Epoch 94 average Loss: 77.78\n"
     ]
    },
    {
     "name": "stderr",
     "output_type": "stream",
     "text": [
      "Loss: 28.04: 100%|███████████████████████████████████████████████████████████████████████████████████████████████████████| 157/157 [00:02<00:00, 63.14it/s]\n"
     ]
    },
    {
     "name": "stdout",
     "output_type": "stream",
     "text": [
      "Epoch 95 average Loss: 95.24\n"
     ]
    },
    {
     "name": "stderr",
     "output_type": "stream",
     "text": [
      "Loss: 25.92: 100%|███████████████████████████████████████████████████████████████████████████████████████████████████████| 157/157 [00:02<00:00, 65.61it/s]\n"
     ]
    },
    {
     "name": "stdout",
     "output_type": "stream",
     "text": [
      "Epoch 96 average Loss: 69.59\n"
     ]
    },
    {
     "name": "stderr",
     "output_type": "stream",
     "text": [
      "Loss: 10.23: 100%|███████████████████████████████████████████████████████████████████████████████████████████████████████| 157/157 [00:02<00:00, 65.16it/s]\n"
     ]
    },
    {
     "name": "stdout",
     "output_type": "stream",
     "text": [
      "Epoch 97 average Loss: 150.12\n"
     ]
    },
    {
     "name": "stderr",
     "output_type": "stream",
     "text": [
      "Loss: 13.96: 100%|███████████████████████████████████████████████████████████████████████████████████████████████████████| 157/157 [00:02<00:00, 63.93it/s]\n"
     ]
    },
    {
     "name": "stdout",
     "output_type": "stream",
     "text": [
      "Epoch 98 average Loss: 75.14\n"
     ]
    },
    {
     "name": "stderr",
     "output_type": "stream",
     "text": [
      "Loss: 323.71: 100%|██████████████████████████████████████████████████████████████████████████████████████████████████████| 157/157 [00:02<00:00, 62.13it/s]\n"
     ]
    },
    {
     "name": "stdout",
     "output_type": "stream",
     "text": [
      "Epoch 99 average Loss: 241.13\n"
     ]
    },
    {
     "name": "stderr",
     "output_type": "stream",
     "text": [
      "Loss: 48.43: 100%|███████████████████████████████████████████████████████████████████████████████████████████████████████| 157/157 [00:02<00:00, 64.92it/s]\n",
      "INFO - train - Completed after 0:04:05\n"
     ]
    },
    {
     "name": "stdout",
     "output_type": "stream",
     "text": [
      "Epoch 100 average Loss: 78.82\n"
     ]
    },
    {
     "data": {
      "text/plain": [
       "<sacred.run.Run at 0x2aab9d488f10>"
      ]
     },
     "execution_count": 9,
     "metadata": {},
     "output_type": "execute_result"
    }
   ],
   "source": [
    "train_continuous_model.train_ex.run(\n",
    "    \"train_branched_model\",\n",
    "    config_updates={\n",
    "        \"model\": model,\n",
    "        \"sde\": sde,\n",
    "        \"data_loader\": data_loader,\n",
    "        \"class_time_to_branch_index\": class_time_to_branch_tensor,\n",
    "        \"num_epochs\": 100,\n",
    "        \"learning_rate\": 1e-3,\n",
    "        \"t_limit\": t_limit,\n",
    "        \"loss_weighting_type\": \"empirical_norm\"\n",
    "    }\n",
    ")"
   ]
  },
  {
   "cell_type": "markdown",
   "id": "71f84775",
   "metadata": {},
   "source": [
    "### Show generated distributions"
   ]
  },
  {
   "cell_type": "code",
   "execution_count": 10,
   "id": "77a44ef6",
   "metadata": {},
   "outputs": [],
   "source": [
    "samples = generate.generate_continuous_branched_samples(\n",
    "    model, sde, 0, lambda x, y: torch.zeros_like(x),\n",
    "    sampler=\"pc\", t_limit=t_limit\n",
    ")\n",
    "samples = samples.cpu().numpy()"
   ]
  },
  {
   "cell_type": "code",
   "execution_count": 11,
   "id": "356904ad",
   "metadata": {},
   "outputs": [
    {
     "data": {
      "image/png": "[encoded data removed]",
      "text/plain": [
       "<Figure size 1440x1440 with 16 Axes>"
      ]
     },
     "metadata": {
      "needs_background": "light"
     },
     "output_type": "display_data"
    }
   ],
   "source": [
    "real = next(iter(data_loader))[0].numpy()\n",
    "\n",
    "num_features = input_shape[0]\n",
    "num_cols = 4\n",
    "num_rows = int(np.ceil(num_features / num_cols))\n",
    "num_bins = 20\n",
    "\n",
    "fig, ax = plt.subplots(ncols=num_cols, nrows=num_rows, figsize=(num_cols * 5, num_rows * 5))\n",
    "for i in range(num_features):\n",
    "    r, c = i // num_cols, i % num_cols\n",
    "    real_vals = real[:, i]\n",
    "    sample_vals = samples[:, i]\n",
    "    all_vals = np.concatenate([real_vals, sample_vals])\n",
    "    bins = np.linspace(np.min(all_vals), np.max(all_vals), num_bins)\n",
    "    ax[r][c].hist(real_vals, bins=bins, color=\"royalblue\", label=\"Real\", density=True, alpha=0.5)\n",
    "    ax[r][c].hist(sample_vals, bins=bins, color=\"darkorange\", label=\"Samples\", density=True, alpha=0.5)\n",
    "    ax[r][c].set_title(\"Feature %d\" % (i + 1))\n",
    "plt.show()"
   ]
  },
  {
   "cell_type": "code",
   "execution_count": 12,
   "id": "f4acd87a",
   "metadata": {},
   "outputs": [
    {
     "data": {
      "image/png": "[encoded data removed]",
      "text/plain": [
       "<Figure size 1440x720 with 3 Axes>"
      ]
     },
     "metadata": {
      "needs_background": "light"
     },
     "output_type": "display_data"
    }
   ],
   "source": [
    "real_corrs = np.empty((num_features, num_features))\n",
    "sample_corrs = np.empty_like(real_corrs)\n",
    "for i in range(num_features):\n",
    "    real_corrs[i, i] = 1\n",
    "    sample_corrs[i, i] = 1\n",
    "    for j in range(i):\n",
    "        real_corrs[i, j] = scipy.stats.pearsonr(real[:, i], real[:, j])[0]\n",
    "        real_corrs[j, i] = real_corrs[i, j]\n",
    "        sample_corrs[i, j] = scipy.stats.pearsonr(samples[:, i], samples[:, j])[0]\n",
    "        sample_corrs[j, i] = sample_corrs[i, j]\n",
    "        \n",
    "fig, ax = plt.subplots(ncols=3, figsize=(20, 10))\n",
    "ax[0].imshow(real_corrs, cmap=\"Blues\", vmin=0, vmax=1)\n",
    "ax[0].set_title(\"Real correlations\")\n",
    "ax[1].imshow(sample_corrs, cmap=\"Blues\", vmin=0, vmax=1)\n",
    "ax[1].set_title(\"Sample correlations\")\n",
    "ax[2].imshow(np.abs(real_corrs - sample_corrs), cmap=\"Blues\", vmin=0, vmax=1)\n",
    "ax[2].set_title(\"Absolute difference in correlations\")\n",
    "plt.show()"
   ]
  },
  {
   "cell_type": "markdown",
   "id": "9c4dc1e9",
   "metadata": {},
   "source": [
    "**Diffusing from one class to another**"
   ]
  },
  {
   "cell_type": "code",
   "execution_count": 13,
   "id": "87136dba",
   "metadata": {
    "scrolled": false
   },
   "outputs": [],
   "source": [
    "# orig_4 = torch.stack([\n",
    "#     torch.tensor(dataset[i][0], device=DEVICE) for i in \n",
    "#     np.random.choice(np.where(dataset.targets == 4)[0], size=32, replace=False)\n",
    "# ])\n",
    "# orig_9 = torch.stack([\n",
    "#     torch.tensor(dataset[i][0], device=DEVICE) for i in \n",
    "#     np.random.choice(np.where(dataset.targets == 9)[0], size=32, replace=False)\n",
    "# ])\n",
    "\n",
    "# time_steps = 10\n",
    "# all_t = np.linspace(0, branch_time_4_9, time_steps)\n",
    "# forward_4_to_9 = np.empty((len(all_t),) + orig_4.shape)\n",
    "# backward_4_to_9 = np.empty((len(all_t) - 1,) + orig_4.shape)\n",
    "# forward_9_to_4 = np.empty((len(all_t),) + orig_4.shape)\n",
    "# backward_9_to_4 = np.empty((len(all_t) - 1,) + orig_4.shape)\n",
    "# orig_4_tens, orig_9_tens = torch.tensor(orig_4).to(DEVICE), torch.tensor(orig_9).to(DEVICE)\n",
    "# for t_i, t in enumerate(all_t):\n",
    "#     forward_4_to_9[t_i] = sde.forward(\n",
    "#         orig_4_tens, torch.ones(len(orig_4_tens)).to(DEVICE) * t\n",
    "#     )[0].cpu().numpy()\n",
    "#     forward_9_to_4[t_i] = sde.forward(\n",
    "#         orig_9_tens, torch.ones(len(orig_9_tens)).to(DEVICE) * t\n",
    "#     )[0].cpu().numpy()\n",
    "\n",
    "# all_t_flip = np.flip(all_t)\n",
    "# last_4_to_9 = torch.tensor(forward_4_to_9[-1]).to(DEVICE).float()\n",
    "# last_9_to_4 = torch.tensor(forward_9_to_4[-1]).to(DEVICE).float()\n",
    "# for t_i in range(len(all_t_flip) - 1):\n",
    "#     last_4_to_9 = generate.generate_continuous_branched_samples(\n",
    "#         model, sde, 9, class_time_to_branch_tensor, sampler=\"pc\",\n",
    "#         t_limit=all_t_flip[t_i], t_start=all_t_flip[t_i + 1],\n",
    "#         num_samples=orig_4.shape[0], initial_samples=last_4_to_9,\n",
    "#         num_steps=50\n",
    "#     )\n",
    "#     backward_4_to_9[t_i] = last_4_to_9.cpu().numpy()\n",
    "    \n",
    "#     last_9_to_4 = generate.generate_continuous_branched_samples(\n",
    "#         model, sde, 4, class_time_to_branch_tensor, sampler=\"pc\",\n",
    "#         t_limit=all_t_flip[t_i], t_start=all_t_flip[t_i + 1],\n",
    "#         num_samples=orig_9.shape[0], initial_samples=last_9_to_4,\n",
    "#         num_steps=50\n",
    "#     )\n",
    "#     backward_9_to_4[t_i] = last_9_to_4.cpu().numpy()\n",
    "    \n",
    "# print(\"4 to 9\")\n",
    "# for t_i, t in enumerate(all_t):\n",
    "#     plot_mnist_digits(forward_4_to_9[t_i], title=(\"%.2f\" % t))\n",
    "# for t_i, t in enumerate(all_t_flip[1:]):\n",
    "#     plot_mnist_digits(backward_4_to_9[t_i], title=(\"%.2f\" % t))\n",
    "\n",
    "# print(\"9 to 4\")\n",
    "# for t_i, t in enumerate(all_t):\n",
    "#     plot_mnist_digits(forward_9_to_4[t_i], title=(\"%.2f\" % t))\n",
    "# for t_i, t in enumerate(all_t_flip[1:]):\n",
    "#     plot_mnist_digits(backward_9_to_4[t_i], title=(\"%.2f\" % t))"
   ]
  }
 ],
 "metadata": {
  "kernelspec": {
   "display_name": "Python 3 (ipykernel)",
   "language": "python",
   "name": "python3"
  },
  "language_info": {
   "codemirror_mode": {
    "name": "ipython",
    "version": 3
   },
   "file_extension": ".py",
   "mimetype": "text/x-python",
   "name": "python",
   "nbconvert_exporter": "python",
   "pygments_lexer": "ipython3",
   "version": "3.9.12"
  }
 },
 "nbformat": 4,
 "nbformat_minor": 5
}
