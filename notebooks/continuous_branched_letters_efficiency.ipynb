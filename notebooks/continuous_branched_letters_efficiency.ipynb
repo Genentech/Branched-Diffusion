{
 "cells": [
  {
   "cell_type": "code",
   "execution_count": 1,
   "id": "4ce6f328",
   "metadata": {},
   "outputs": [],
   "source": [
    "%load_ext autoreload\n",
    "%autoreload 2\n",
    "import sys\n",
    "sys.path.append(\"../src\")\n",
    "import model.sdes as sdes\n",
    "import model.generate as generate\n",
    "import model.table_dnn as table_dnn\n",
    "import model.util as model_util\n",
    "import torch\n",
    "import numpy as np\n",
    "import scipy.stats\n",
    "import matplotlib.pyplot as plt\n",
    "import os\n",
    "import time"
   ]
  },
  {
   "cell_type": "code",
   "execution_count": 2,
   "id": "df22d86f",
   "metadata": {},
   "outputs": [],
   "source": [
    "# Define device\n",
    "if torch.cuda.is_available():\n",
    "    DEVICE = \"cuda\"\n",
    "else:\n",
    "    DEVICE = \"cpu\""
   ]
  },
  {
   "cell_type": "code",
   "execution_count": 3,
   "id": "51fbc829",
   "metadata": {},
   "outputs": [],
   "source": [
    "# TODO: this is currently rather inefficient; a decision-tree-style structure\n",
    "# would be better\n",
    "\n",
    "def class_time_to_branch(c, t):\n",
    "    \"\"\"\n",
    "    Given a class and a time (both scalars), return the\n",
    "    corresponding branch index.\n",
    "    \"\"\"\n",
    "    for i, branch_def in enumerate(branch_defs):\n",
    "        if c in branch_def[0] and t >= branch_def[1] and t <= branch_def[2]:\n",
    "            return i\n",
    "    raise ValueError(\"Undefined class and time\")\n",
    "        \n",
    "def class_time_to_branch_tensor(c, t):\n",
    "    \"\"\"\n",
    "    Given tensors of classes and a times, return the\n",
    "    corresponding branch indices as a tensor.\n",
    "    \"\"\"\n",
    "    return torch.tensor([\n",
    "        class_time_to_branch(c_i, t_i) for c_i, t_i in zip(c, t)\n",
    "    ], device=DEVICE)"
   ]
  },
  {
   "cell_type": "code",
   "execution_count": 4,
   "id": "767236f1",
   "metadata": {},
   "outputs": [],
   "source": [
    "models_base_path = \"/gstore/data/resbioai/tsenga5/branched_diffusion/models/trained_models/\""
   ]
  },
  {
   "cell_type": "markdown",
   "id": "c5f55c8b",
   "metadata": {},
   "source": [
    "### Generating multiple digit classes"
   ]
  },
  {
   "cell_type": "code",
   "execution_count": 5,
   "id": "f1c6de95",
   "metadata": {},
   "outputs": [],
   "source": [
    "# Define the branches\n",
    "letters = list(\"ABCDEFGHIJKLMNOPQRSTUVWXYZ\")\n",
    "class_to_letter = dict(enumerate(letters))\n",
    "letter_to_class = {v : k for k, v in class_to_letter.items()}\n",
    "\n",
    "classes = [letter_to_class[l] for l in letters]\n",
    "branch_defs = [(('A', 'B', 'C', 'D', 'E', 'F', 'G', 'H', 'I', 'J', 'K', 'L', 'M', 'N', 'O', 'P', 'Q', 'R', 'S', 'T', 'U', 'V', 'W', 'X', 'Y', 'Z'), 0.5235235235235235, 1), (('A', 'B', 'C', 'D', 'E', 'F', 'G', 'H', 'I', 'J', 'K', 'L', 'M', 'N', 'O', 'P', 'Q', 'R', 'S', 'T', 'U', 'V', 'X', 'Y', 'Z'), 0.5165165165165165, 0.5235235235235235), (('B', 'C', 'D', 'E', 'F', 'G', 'H', 'I', 'J', 'K', 'L', 'M', 'N', 'O', 'P', 'Q', 'R', 'S', 'T', 'U', 'V', 'X', 'Y', 'Z'), 0.5115115115115115, 0.5165165165165165), (('B', 'C', 'D', 'E', 'F', 'G', 'H', 'I', 'J', 'K', 'M', 'N', 'O', 'P', 'Q', 'R', 'S', 'T', 'U', 'V', 'X', 'Y', 'Z'), 0.4944944944944945, 0.5115115115115115), (('I', 'J'), 0.4794794794794795, 0.4944944944944945), (('B', 'C', 'D', 'E', 'F', 'G', 'H', 'K', 'M', 'N', 'O', 'P', 'Q', 'R', 'S', 'T', 'U', 'V', 'X', 'Y', 'Z'), 0.4724724724724725, 0.4944944944944945), (('B', 'C', 'D', 'E', 'G', 'H', 'K', 'M', 'N', 'O', 'Q', 'R', 'S', 'U', 'X', 'Z'), 0.45645645645645644, 0.4724724724724725), (('F', 'P', 'T', 'V', 'Y'), 0.4364364364364364, 0.4724724724724725), (('B', 'C', 'D', 'E', 'G', 'H', 'K', 'N', 'O', 'Q', 'R', 'S', 'U', 'X', 'Z'), 0.4174174174174174, 0.45645645645645644), (('B', 'C', 'D', 'E', 'G', 'H', 'K', 'N', 'O', 'Q', 'R', 'S', 'X', 'Z'), 0.4134134134134134, 0.4174174174174174), (('B', 'D', 'G', 'H', 'K', 'N', 'O', 'Q', 'R', 'S', 'X', 'Z'), 0.4094094094094094, 0.4134134134134134), (('F', 'T', 'V', 'Y'), 0.4024024024024024, 0.4364364364364364), (('B', 'D', 'G', 'H', 'K', 'O', 'Q', 'R', 'S', 'X', 'Z'), 0.3863863863863864, 0.4094094094094094), (('B', 'G', 'H', 'K', 'O', 'Q', 'R', 'S', 'X', 'Z'), 0.3813813813813814, 0.3863863863863864), (('B', 'G', 'H', 'O', 'Q', 'R', 'S', 'X', 'Z'), 0.3733733733733734, 0.3813813813813814), (('F', 'T', 'Y'), 0.36036036036036034, 0.4024024024024024), (('C', 'E'), 0.3563563563563564, 0.4134134134134134), (('T', 'Y'), 0.3533533533533533, 0.36036036036036034), (('B', 'R', 'S', 'X', 'Z'), 0.35135135135135137, 0.3733733733733734), (('G', 'H', 'O', 'Q'), 0.34134134134134136, 0.3733733733733734), (('B', 'S', 'X', 'Z'), 0.32232232232232233, 0.35135135135135137), (('B', 'S', 'X'), 0.27627627627627627, 0.32232232232232233), (('G', 'H', 'O'), 0.26426426426426425, 0.34134134134134136), (('G', 'O'), 0.25725725725725723, 0.26426426426426425), (('S', 'X'), 0.15615615615615616, 0.27627627627627627), (('W',), 0, 0.5235235235235235), (('A',), 0, 0.5165165165165165), (('L',), 0, 0.5115115115115115), (('J',), 0, 0.4794794794794795), (('I',), 0, 0.4794794794794795), (('M',), 0, 0.45645645645645644), (('P',), 0, 0.4364364364364364), (('U',), 0, 0.4174174174174174), (('N',), 0, 0.4094094094094094), (('V',), 0, 0.4024024024024024), (('D',), 0, 0.3863863863863864), (('K',), 0, 0.3813813813813814), (('F',), 0, 0.36036036036036034), (('E',), 0, 0.3563563563563564), (('C',), 0, 0.3563563563563564), (('Y',), 0, 0.3533533533533533), (('T',), 0, 0.3533533533533533), (('R',), 0, 0.35135135135135137), (('Q',), 0, 0.34134134134134136), (('Z',), 0, 0.32232232232232233), (('B',), 0, 0.27627627627627627), (('H',), 0, 0.26426426426426425), (('G',), 0, 0.25725725725725723), (('O',), 0, 0.25725725725725723), (('S',), 0, 0.15615615615615616), (('X',), 0, 0.15615615615615616)]\n",
    "\n",
    "input_shape = (16,)\n",
    "\n",
    "branch_defs = [\n",
    "    (tuple(map(lambda l: letter_to_class[l], trip[0])), trip[1], trip[2])\n",
    "    for trip in branch_defs\n",
    "]"
   ]
  },
  {
   "cell_type": "code",
   "execution_count": 6,
   "id": "efedd4e4",
   "metadata": {},
   "outputs": [],
   "source": [
    "# Define the SDE and import the model\n",
    "sde = sdes.VariancePreservingSDE(0.1, 20, input_shape)\n",
    "\n",
    "t_limit = 1\n",
    "model = model_util.load_model(\n",
    "    table_dnn.MultitaskTabularNet,\n",
    "    os.path.join(models_base_path, \"letters_continuous_allletters/1/epoch_100_ckpt.pth\")\n",
    ").to(DEVICE)"
   ]
  },
  {
   "cell_type": "code",
   "execution_count": 7,
   "id": "c1e50cd6",
   "metadata": {},
   "outputs": [
    {
     "name": "stdout",
     "output_type": "stream",
     "text": [
      "Sampling class: A\n",
      "Sampling class: B\n",
      "Sampling class: C\n",
      "Sampling class: D\n",
      "Sampling class: E\n",
      "Sampling class: F\n",
      "Sampling class: G\n",
      "Sampling class: H\n",
      "Sampling class: I\n",
      "Sampling class: J\n",
      "Sampling class: K\n",
      "Sampling class: L\n",
      "Sampling class: M\n",
      "Sampling class: N\n",
      "Sampling class: O\n",
      "Sampling class: P\n",
      "Sampling class: Q\n",
      "Sampling class: R\n",
      "Sampling class: S\n",
      "Sampling class: T\n",
      "Sampling class: U\n",
      "Sampling class: V\n",
      "Sampling class: W\n",
      "Sampling class: X\n",
      "Sampling class: Y\n",
      "Sampling class: Z\n",
      "Total time taken: 115s\n"
     ]
    }
   ],
   "source": [
    "# Sample each class individually without taking advantage of branches\n",
    "letter_samples = {}\n",
    "time_a = time.time()\n",
    "for class_to_sample in classes:\n",
    "    print(\"Sampling class: %s\" % class_to_letter[class_to_sample])\n",
    "    letter_samples[class_to_sample] = generate.generate_continuous_branched_samples(\n",
    "        model, sde, class_to_sample, class_time_to_branch_tensor,\n",
    "        sampler=\"pc\", t_limit=t_limit, num_steps=1000\n",
    "    )\n",
    "time_b = time.time()\n",
    "linear_time = time_b - time_a\n",
    "print(\"Total time taken: %ds\" % linear_time)"
   ]
  },
  {
   "cell_type": "code",
   "execution_count": 8,
   "id": "0de8f9d2",
   "metadata": {},
   "outputs": [
    {
     "name": "stdout",
     "output_type": "stream",
     "text": [
      "Sampling branch 1/51\n",
      "Sampling branch 2/51\n",
      "Sampling branch 3/51\n",
      "Sampling branch 4/51\n",
      "Sampling branch 5/51\n",
      "Sampling branch 6/51\n",
      "Sampling branch 7/51\n",
      "Sampling branch 8/51\n",
      "Sampling branch 9/51\n",
      "Sampling branch 10/51\n",
      "Sampling branch 11/51\n",
      "Sampling branch 12/51\n",
      "Sampling branch 13/51\n",
      "Sampling branch 14/51\n",
      "Sampling branch 15/51\n",
      "Sampling branch 16/51\n",
      "Sampling branch 17/51\n",
      "Sampling branch 18/51\n",
      "Sampling branch 19/51\n",
      "Sampling branch 20/51\n",
      "Sampling branch 21/51\n",
      "Sampling branch 22/51\n",
      "Sampling branch 23/51\n",
      "Sampling branch 24/51\n",
      "Sampling branch 25/51\n",
      "Sampling branch 26/51\n",
      "Sampling branch 27/51\n",
      "Sampling branch 28/51\n",
      "Sampling branch 29/51\n",
      "Sampling branch 30/51\n",
      "Sampling branch 31/51\n",
      "Sampling branch 32/51\n",
      "Sampling branch 33/51\n",
      "Sampling branch 34/51\n",
      "Sampling branch 35/51\n",
      "Sampling branch 36/51\n",
      "Sampling branch 37/51\n",
      "Sampling branch 38/51\n",
      "Sampling branch 39/51\n",
      "Sampling branch 40/51\n",
      "Sampling branch 41/51\n",
      "Sampling branch 42/51\n",
      "Sampling branch 43/51\n",
      "Sampling branch 44/51\n",
      "Sampling branch 45/51\n",
      "Sampling branch 46/51\n",
      "Sampling branch 47/51\n",
      "Sampling branch 48/51\n",
      "Sampling branch 49/51\n",
      "Sampling branch 50/51\n",
      "Sampling branch 51/51\n",
      "Total time taken: 69s\n"
     ]
    }
   ],
   "source": [
    "# Sample each digit by taking advantage of branches\n",
    "\n",
    "# Sort the branches by starting time point (in reverse order), and generate along those\n",
    "# branches, caching results; this guarantees that we will always find a cached batch\n",
    "# (other than the first one)\n",
    "cache = {}\n",
    "sorted_branch_defs = sorted(branch_defs, key=(lambda t: -t[1]))\n",
    "\n",
    "time_a = time.time()\n",
    "# First branch\n",
    "print(\"Sampling branch 1/%d\" % len(sorted_branch_defs))\n",
    "branch_def = sorted_branch_defs[0]\n",
    "samples = generate.generate_continuous_branched_samples(\n",
    "    # Specify arbitrary class\n",
    "    model, sde, branch_def[0][0], class_time_to_branch_tensor,\n",
    "    sampler=\"pc\", t_limit=branch_def[2], t_start=branch_def[1],\n",
    "    num_steps=int(1000 * (branch_def[2] - branch_def[1]))\n",
    ")\n",
    "for class_i in branch_def[0]:\n",
    "    cache[class_i] = (branch_def[1], samples)\n",
    "\n",
    "for i, branch_def in enumerate(sorted_branch_defs[1:]):\n",
    "    print(\"Sampling branch %d/%d\" % (i + 2, len(sorted_branch_defs)))\n",
    "    cached_time, cached_samples = cache[branch_def[0][0]]\n",
    "    assert cached_time == branch_def[2]\n",
    "    samples = generate.generate_continuous_branched_samples(\n",
    "        model, sde, branch_def[0][0], class_time_to_branch_tensor,\n",
    "        sampler=\"pc\", t_limit=branch_def[2], t_start=branch_def[1],\n",
    "        num_steps=int(1000 * (branch_def[2] - branch_def[1])),\n",
    "        initial_samples=cached_samples\n",
    "    )\n",
    "    for class_i in branch_def[0]:\n",
    "        cache[class_i] = (branch_def[1], samples)\n",
    "    \n",
    "time_b = time.time()\n",
    "branched_time = time_b - time_a\n",
    "print(\"Total time taken: %ds\" % branched_time)"
   ]
  },
  {
   "cell_type": "code",
   "execution_count": 9,
   "id": "26111439",
   "metadata": {},
   "outputs": [
    {
     "data": {
      "image/png": "[encoded data removed]",
      "text/plain": [
       "<Figure size 576x576 with 1 Axes>"
      ]
     },
     "metadata": {
      "needs_background": "light"
     },
     "output_type": "display_data"
    }
   ],
   "source": [
    "fig, ax = plt.subplots(figsize=(8, 8))\n",
    "labels = [\"Linear\", \"Branched\"]\n",
    "times = [linear_time, branched_time]\n",
    "ax.bar(labels, times)\n",
    "ax.set_xlabel(\"Time to generate 1 batch of each class (s)\")\n",
    "plt.show()"
   ]
  }
 ],
 "metadata": {
  "kernelspec": {
   "display_name": "Python 3 (ipykernel)",
   "language": "python",
   "name": "python3"
  },
  "language_info": {
   "codemirror_mode": {
    "name": "ipython",
    "version": 3
   },
   "file_extension": ".py",
   "mimetype": "text/x-python",
   "name": "python",
   "nbconvert_exporter": "python",
   "pygments_lexer": "ipython3",
   "version": "3.9.12"
  }
 },
 "nbformat": 4,
 "nbformat_minor": 5
}
