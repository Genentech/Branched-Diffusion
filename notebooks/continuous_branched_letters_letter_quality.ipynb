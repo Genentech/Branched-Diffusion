{
 "cells": [
  {
   "cell_type": "code",
   "execution_count": 1,
   "id": "4ce6f328",
   "metadata": {},
   "outputs": [],
   "source": [
    "%load_ext autoreload\n",
    "%autoreload 2\n",
    "import sys\n",
    "sys.path.append(\"../src\")\n",
    "import model.sdes as sdes\n",
    "import model.generate as generate\n",
    "import model.table_dnn as table_dnn\n",
    "import model.util as model_util\n",
    "from plot.plot import plot_mnist_digits\n",
    "import torch\n",
    "import torchvision\n",
    "import numpy as np\n",
    "import scipy.linalg\n",
    "import matplotlib.pyplot as plt\n",
    "import os"
   ]
  },
  {
   "cell_type": "code",
   "execution_count": 2,
   "id": "df22d86f",
   "metadata": {},
   "outputs": [],
   "source": [
    "# Define device\n",
    "if torch.cuda.is_available():\n",
    "    DEVICE = \"cuda\"\n",
    "else:\n",
    "    DEVICE = \"cpu\""
   ]
  },
  {
   "cell_type": "code",
   "execution_count": 3,
   "id": "51fbc829",
   "metadata": {},
   "outputs": [],
   "source": [
    "# TODO: this is currently rather inefficient; a decision-tree-style structure\n",
    "# would be better\n",
    "\n",
    "def class_time_to_branch(c, t):\n",
    "    \"\"\"\n",
    "    Given a class and a time (both scalars), return the\n",
    "    corresponding branch index.\n",
    "    \"\"\"\n",
    "    for i, branch_def in enumerate(branch_defs):\n",
    "        if c in branch_def[0] and t >= branch_def[1] and t <= branch_def[2]:\n",
    "            return i\n",
    "    raise ValueError(\"Undefined class and time\")\n",
    "        \n",
    "def class_time_to_branch_tensor(c, t):\n",
    "    \"\"\"\n",
    "    Given tensors of classes and a times, return the\n",
    "    corresponding branch indices as a tensor.\n",
    "    \"\"\"\n",
    "    return torch.tensor([\n",
    "        class_time_to_branch(c_i, t_i) for c_i, t_i in zip(c, t)\n",
    "    ], device=DEVICE)\n",
    "\n",
    "def class_to_class_index_tensor(c):\n",
    "    \"\"\"\n",
    "    Given a tensor of classes, return the corresponding class indices\n",
    "    as a tensor.\n",
    "    \"\"\"\n",
    "    return torch.argmax(\n",
    "        (c[:, None] == torch.tensor(classes, device=c.device)).int(), dim=1\n",
    "    ).to(DEVICE)"
   ]
  },
  {
   "cell_type": "code",
   "execution_count": 4,
   "id": "b6804671",
   "metadata": {},
   "outputs": [],
   "source": [
    "models_base_path = \"/gstore/data/resbioai/tsenga5/branched_diffusion/models/trained_models/\""
   ]
  },
  {
   "cell_type": "markdown",
   "id": "4f058fa4",
   "metadata": {},
   "source": [
    "### Create data loader"
   ]
  },
  {
   "cell_type": "code",
   "execution_count": 5,
   "id": "f1c6de95",
   "metadata": {},
   "outputs": [],
   "source": [
    "# Define the branches\n",
    "letters = list(\"ABCDEFGHIJKLMNOPQRSTUVWXYZ\")\n",
    "class_to_letter = dict(enumerate(letters))\n",
    "letter_to_class = {v : k for k, v in class_to_letter.items()}\n",
    "\n",
    "# classes = [letter_to_class[l] for l in (\"A\", \"V\", \"Y\")]\n",
    "# branch_defs = [\n",
    "#     ((\"A\", \"V\", \"Y\"), 0.65, 1),\n",
    "#     ((\"A\",), 0, 0.65),\n",
    "#     ((\"V\", \"Y\"), 0.35, 0.65),\n",
    "#     ((\"V\",), 0, 0.35),\n",
    "#     ((\"Y\",), 0, 0.35)\n",
    "# ]\n",
    "\n",
    "classes = [letter_to_class[l] for l in letters]\n",
    "branch_defs = [(('A', 'B', 'C', 'D', 'E', 'F', 'G', 'H', 'I', 'J', 'K', 'L', 'M', 'N', 'O', 'P', 'Q', 'R', 'S', 'T', 'U', 'V', 'W', 'X', 'Y', 'Z'), 0.5235235235235235, 1), (('A', 'B', 'C', 'D', 'E', 'F', 'G', 'H', 'I', 'J', 'K', 'L', 'M', 'N', 'O', 'P', 'Q', 'R', 'S', 'T', 'U', 'V', 'X', 'Y', 'Z'), 0.5165165165165165, 0.5235235235235235), (('B', 'C', 'D', 'E', 'F', 'G', 'H', 'I', 'J', 'K', 'L', 'M', 'N', 'O', 'P', 'Q', 'R', 'S', 'T', 'U', 'V', 'X', 'Y', 'Z'), 0.5115115115115115, 0.5165165165165165), (('B', 'C', 'D', 'E', 'F', 'G', 'H', 'I', 'J', 'K', 'M', 'N', 'O', 'P', 'Q', 'R', 'S', 'T', 'U', 'V', 'X', 'Y', 'Z'), 0.4944944944944945, 0.5115115115115115), (('I', 'J'), 0.4794794794794795, 0.4944944944944945), (('B', 'C', 'D', 'E', 'F', 'G', 'H', 'K', 'M', 'N', 'O', 'P', 'Q', 'R', 'S', 'T', 'U', 'V', 'X', 'Y', 'Z'), 0.4724724724724725, 0.4944944944944945), (('B', 'C', 'D', 'E', 'G', 'H', 'K', 'M', 'N', 'O', 'Q', 'R', 'S', 'U', 'X', 'Z'), 0.45645645645645644, 0.4724724724724725), (('F', 'P', 'T', 'V', 'Y'), 0.4364364364364364, 0.4724724724724725), (('B', 'C', 'D', 'E', 'G', 'H', 'K', 'N', 'O', 'Q', 'R', 'S', 'U', 'X', 'Z'), 0.4174174174174174, 0.45645645645645644), (('B', 'C', 'D', 'E', 'G', 'H', 'K', 'N', 'O', 'Q', 'R', 'S', 'X', 'Z'), 0.4134134134134134, 0.4174174174174174), (('B', 'D', 'G', 'H', 'K', 'N', 'O', 'Q', 'R', 'S', 'X', 'Z'), 0.4094094094094094, 0.4134134134134134), (('F', 'T', 'V', 'Y'), 0.4024024024024024, 0.4364364364364364), (('B', 'D', 'G', 'H', 'K', 'O', 'Q', 'R', 'S', 'X', 'Z'), 0.3863863863863864, 0.4094094094094094), (('B', 'G', 'H', 'K', 'O', 'Q', 'R', 'S', 'X', 'Z'), 0.3813813813813814, 0.3863863863863864), (('B', 'G', 'H', 'O', 'Q', 'R', 'S', 'X', 'Z'), 0.3733733733733734, 0.3813813813813814), (('F', 'T', 'Y'), 0.36036036036036034, 0.4024024024024024), (('C', 'E'), 0.3563563563563564, 0.4134134134134134), (('T', 'Y'), 0.3533533533533533, 0.36036036036036034), (('B', 'R', 'S', 'X', 'Z'), 0.35135135135135137, 0.3733733733733734), (('G', 'H', 'O', 'Q'), 0.34134134134134136, 0.3733733733733734), (('B', 'S', 'X', 'Z'), 0.32232232232232233, 0.35135135135135137), (('B', 'S', 'X'), 0.27627627627627627, 0.32232232232232233), (('G', 'H', 'O'), 0.26426426426426425, 0.34134134134134136), (('G', 'O'), 0.25725725725725723, 0.26426426426426425), (('S', 'X'), 0.15615615615615616, 0.27627627627627627), (('W',), 0, 0.5235235235235235), (('A',), 0, 0.5165165165165165), (('L',), 0, 0.5115115115115115), (('J',), 0, 0.4794794794794795), (('I',), 0, 0.4794794794794795), (('M',), 0, 0.45645645645645644), (('P',), 0, 0.4364364364364364), (('U',), 0, 0.4174174174174174), (('N',), 0, 0.4094094094094094), (('V',), 0, 0.4024024024024024), (('D',), 0, 0.3863863863863864), (('K',), 0, 0.3813813813813814), (('F',), 0, 0.36036036036036034), (('E',), 0, 0.3563563563563564), (('C',), 0, 0.3563563563563564), (('Y',), 0, 0.3533533533533533), (('T',), 0, 0.3533533533533533), (('R',), 0, 0.35135135135135137), (('Q',), 0, 0.34134134134134136), (('Z',), 0, 0.32232232232232233), (('B',), 0, 0.27627627627627627), (('H',), 0, 0.26426426426426425), (('G',), 0, 0.25725725725725723), (('O',), 0, 0.25725725725725723), (('S',), 0, 0.15615615615615616), (('X',), 0, 0.15615615615615616)]\n",
    "\n",
    "branch_defs = [\n",
    "    (tuple(map(lambda l: letter_to_class[l], trip[0])), trip[1], trip[2])\n",
    "    for trip in branch_defs\n",
    "]\n",
    "\n",
    "input_shape = (1, 28, 28)"
   ]
  },
  {
   "cell_type": "code",
   "execution_count": 6,
   "id": "8ef8d5c7",
   "metadata": {},
   "outputs": [],
   "source": [
    "class LetterDataset(torch.utils.data.Dataset):\n",
    "    def __init__(self):\n",
    "        data_path = \"/gstore/data/resbioai/tsenga5/branched_diffusion/data/letter_recognition/letter-recognition.data\"\n",
    "        \n",
    "        data = []\n",
    "        targets = []\n",
    "        with open(data_path, \"r\") as f:\n",
    "            for line in f:\n",
    "                tokens = line.strip().split(\",\")\n",
    "                targets.append(tokens[0])\n",
    "                data.append(np.array(list(map(int, tokens[1:]))))\n",
    "        self.data = np.stack(data)\n",
    "        self.targets = np.array([letter_to_class[l] for l in targets])\n",
    "        \n",
    "        # Center/normalize the data\n",
    "        self.data = (self.data - np.mean(self.data, axis=0, keepdims=True)) / \\\n",
    "            np.std(self.data, axis=0, keepdims=True)\n",
    "        \n",
    "    def __getitem__(self, index):\n",
    "        return torch.tensor(self.data[index]).float(), self.targets[index]\n",
    "        \n",
    "    def __len__(self):\n",
    "        return len(self.targets)\n",
    "    \n",
    "dataset = LetterDataset()\n",
    "\n",
    "# Limit classes\n",
    "inds = np.isin(dataset.targets, classes)\n",
    "dataset.data = dataset.data[inds]\n",
    "dataset.targets = dataset.targets[inds]\n",
    "\n",
    "data_loader = torch.utils.data.DataLoader(dataset, batch_size=128, shuffle=True, num_workers=2)\n",
    "input_shape = next(iter(data_loader))[0].shape[1:]"
   ]
  },
  {
   "cell_type": "markdown",
   "id": "c5f55c8b",
   "metadata": {},
   "source": [
    "### Import models"
   ]
  },
  {
   "cell_type": "code",
   "execution_count": 7,
   "id": "efedd4e4",
   "metadata": {},
   "outputs": [],
   "source": [
    "# Define the SDE and import the branched model\n",
    "sde = sdes.VariancePreservingSDE(0.1, 20, input_shape)\n",
    "\n",
    "t_limit = 1\n",
    "branched_model = model_util.load_model(\n",
    "    table_dnn.MultitaskTabularNet,\n",
    "    os.path.join(models_base_path, \"letters_continuous_allletters/4/epoch_300_ckpt.pth\")\n",
    ").to(DEVICE)"
   ]
  },
  {
   "cell_type": "code",
   "execution_count": 8,
   "id": "e4b71b66",
   "metadata": {},
   "outputs": [],
   "source": [
    "# Import the label-guided model\n",
    "label_guided_model = model_util.load_model(\n",
    "    table_dnn.LabelGuidedTabularNet,\n",
    "    os.path.join(models_base_path, \"letters_continuous_allletters_labelguided/1/epoch_100_ckpt.pth\")\n",
    ").to(DEVICE)"
   ]
  },
  {
   "cell_type": "markdown",
   "id": "82bd65a8",
   "metadata": {},
   "source": [
    "### Sample digits"
   ]
  },
  {
   "cell_type": "code",
   "execution_count": 9,
   "id": "1f7c9fb4",
   "metadata": {},
   "outputs": [
    {
     "name": "stdout",
     "output_type": "stream",
     "text": [
      "Sampling class: 0\n",
      "Sampling class: 1\n",
      "Sampling class: 2\n",
      "Sampling class: 3\n",
      "Sampling class: 4\n",
      "Sampling class: 5\n",
      "Sampling class: 6\n",
      "Sampling class: 7\n",
      "Sampling class: 8\n",
      "Sampling class: 9\n",
      "Sampling class: 10\n",
      "Sampling class: 11\n",
      "Sampling class: 12\n",
      "Sampling class: 13\n",
      "Sampling class: 14\n",
      "Sampling class: 15\n",
      "Sampling class: 16\n",
      "Sampling class: 17\n",
      "Sampling class: 18\n",
      "Sampling class: 19\n",
      "Sampling class: 20\n",
      "Sampling class: 21\n",
      "Sampling class: 22\n",
      "Sampling class: 23\n",
      "Sampling class: 24\n",
      "Sampling class: 25\n"
     ]
    }
   ],
   "source": [
    "# Sample digits of each class from branched model\n",
    "branched_samples = {}\n",
    "for class_to_sample in classes:\n",
    "    print(\"Sampling class: %s\" % class_to_sample)\n",
    "    samples = generate.generate_continuous_branched_samples(\n",
    "        branched_model, sde, class_to_sample, class_time_to_branch_tensor,\n",
    "        sampler=\"pc\", t_limit=t_limit, num_samples=1000\n",
    "    ).cpu().numpy()\n",
    "    branched_samples[class_to_sample] = samples"
   ]
  },
  {
   "cell_type": "code",
   "execution_count": 10,
   "id": "a7395b41",
   "metadata": {},
   "outputs": [
    {
     "name": "stdout",
     "output_type": "stream",
     "text": [
      "Sampling class: 0\n",
      "Sampling class: 1\n",
      "Sampling class: 2\n",
      "Sampling class: 3\n",
      "Sampling class: 4\n",
      "Sampling class: 5\n",
      "Sampling class: 6\n",
      "Sampling class: 7\n",
      "Sampling class: 8\n",
      "Sampling class: 9\n",
      "Sampling class: 10\n",
      "Sampling class: 11\n",
      "Sampling class: 12\n",
      "Sampling class: 13\n",
      "Sampling class: 14\n",
      "Sampling class: 15\n",
      "Sampling class: 16\n",
      "Sampling class: 17\n",
      "Sampling class: 18\n",
      "Sampling class: 19\n",
      "Sampling class: 20\n",
      "Sampling class: 21\n",
      "Sampling class: 22\n",
      "Sampling class: 23\n",
      "Sampling class: 24\n",
      "Sampling class: 25\n"
     ]
    }
   ],
   "source": [
    "# Sample digits of each class from label-guided model\n",
    "label_guided_samples = {}\n",
    "for class_to_sample in classes:\n",
    "    print(\"Sampling class: %s\" % class_to_sample)\n",
    "    samples = generate.generate_continuous_label_guided_samples(\n",
    "        label_guided_model, sde, class_to_sample, class_to_class_index_tensor,\n",
    "        sampler=\"pc\", t_limit=t_limit, num_samples=1000\n",
    "    ).cpu().numpy()\n",
    "    label_guided_samples[class_to_sample] = samples"
   ]
  },
  {
   "cell_type": "code",
   "execution_count": 11,
   "id": "eb232f52",
   "metadata": {},
   "outputs": [
    {
     "name": "stdout",
     "output_type": "stream",
     "text": [
      "Sampling class: 0\n",
      "Sampling class: 1\n",
      "Sampling class: 2\n",
      "Sampling class: 3\n",
      "Sampling class: 4\n",
      "Sampling class: 5\n",
      "Sampling class: 6\n",
      "Sampling class: 7\n",
      "Sampling class: 8\n",
      "Sampling class: 9\n",
      "Sampling class: 10\n",
      "Sampling class: 11\n",
      "Sampling class: 12\n",
      "Sampling class: 13\n",
      "Sampling class: 14\n",
      "Sampling class: 15\n",
      "Sampling class: 16\n",
      "Sampling class: 17\n",
      "Sampling class: 18\n",
      "Sampling class: 19\n",
      "Sampling class: 20\n",
      "Sampling class: 21\n",
      "Sampling class: 22\n",
      "Sampling class: 23\n",
      "Sampling class: 24\n",
      "Sampling class: 25\n"
     ]
    }
   ],
   "source": [
    "# Sample digits from the original dataset\n",
    "true_samples = {}\n",
    "for class_to_sample in classes:\n",
    "    print(\"Sampling class: %s\" % class_to_sample)\n",
    "    inds = np.where(dataset.targets == class_to_sample)[0]\n",
    "    sample_inds = np.random.choice(inds, size=700, replace=False)\n",
    "    samples = dataset.data[sample_inds]\n",
    "    true_samples[class_to_sample] = samples"
   ]
  },
  {
   "cell_type": "markdown",
   "id": "5206c88c",
   "metadata": {},
   "source": [
    "### Compute FID"
   ]
  },
  {
   "cell_type": "code",
   "execution_count": 12,
   "id": "d8c333ba",
   "metadata": {},
   "outputs": [],
   "source": [
    "def compute_fid(samples_1, samples_2):\n",
    "    \"\"\"\n",
    "    Computes the Frechet inception distance between two samples of\n",
    "    objects. Although the two arrays can have any shape (number of\n",
    "    dimensions must be at least 2), they must be the same shape and\n",
    "    distance will be computed by flattening anything after the batch\n",
    "    dimension.\n",
    "    Arguments:\n",
    "        `samples_1`: a B x ... array of B samples\n",
    "        `samples_2`: a B' x ... array of B' samples, in the same shape\n",
    "            as `samples_1`\n",
    "    Returns a scalar FID score.\n",
    "    \"\"\"\n",
    "    assert samples_1.shape[1:] == samples_2.shape[1:]\n",
    "    assert len(samples_1.shape) >= 2\n",
    "    \n",
    "    samples_1 = np.reshape(samples_1, (samples_1.shape[0], -1))\n",
    "    samples_2 = np.reshape(samples_2, (samples_2.shape[0], -1))\n",
    "    # Shape: B x D\n",
    "    \n",
    "    mean_1, cov_1 = np.mean(samples_1, axis=0), np.cov(np.transpose(samples_1))\n",
    "    mean_2, cov_2 = np.mean(samples_2, axis=0), np.cov(np.transpose(samples_2))\n",
    "    # Mean shape: D; Covariance matrix shape: D x D\n",
    "    \n",
    "    mean_square_norm = np.sum(np.square(mean_1 - mean_2))\n",
    "    \n",
    "    # Compute covariance term; because covariance matrices are symmetric,\n",
    "    # the order of multiplication here doesn't matter\n",
    "    cov_mean = scipy.linalg.sqrtm(np.matmul(cov_1, cov_2))\n",
    "    if np.iscomplexobj(cov_mean):\n",
    "        # Disscard imaginary part if needed\n",
    "        cov_mean = np.real(cov_mean)\n",
    "    cov_term = np.trace(cov_1 + cov_2 - (2 * cov_mean))\n",
    "    \n",
    "    return mean_square_norm + cov_term"
   ]
  },
  {
   "cell_type": "code",
   "execution_count": 13,
   "id": "ca83ee3e",
   "metadata": {},
   "outputs": [
    {
     "name": "stdout",
     "output_type": "stream",
     "text": [
      "FID of 0\n",
      "Branched FID: 5.7800\n",
      "Label-guided FID: 2.0958\n",
      "FID of 1\n",
      "Branched FID: 3.2749\n",
      "Label-guided FID: 2.0429\n",
      "FID of 2\n",
      "Branched FID: 2.7166\n",
      "Label-guided FID: 2.6443\n",
      "FID of 3\n",
      "Branched FID: 1.4310\n",
      "Label-guided FID: 2.6376\n",
      "FID of 4\n",
      "Branched FID: 3.1240\n",
      "Label-guided FID: 2.8403\n",
      "FID of 5\n",
      "Branched FID: 2.3095\n",
      "Label-guided FID: 5.5564\n",
      "FID of 6\n",
      "Branched FID: 4.0418\n",
      "Label-guided FID: 3.1726\n",
      "FID of 7\n",
      "Branched FID: 4.0685\n",
      "Label-guided FID: 3.5111\n",
      "FID of 8\n",
      "Branched FID: 9.8645\n",
      "Label-guided FID: 8.7844\n",
      "FID of 9\n",
      "Branched FID: 5.6321\n",
      "Label-guided FID: 8.3658\n",
      "FID of 10\n",
      "Branched FID: 3.0167\n",
      "Label-guided FID: 1.5736\n",
      "FID of 11\n",
      "Branched FID: 9.3857\n",
      "Label-guided FID: 6.0188\n",
      "FID of 12\n",
      "Branched FID: 4.1434\n",
      "Label-guided FID: 21.1603\n",
      "FID of 13\n",
      "Branched FID: 3.7714\n",
      "Label-guided FID: 8.1759\n",
      "FID of 14\n",
      "Branched FID: 2.4687\n",
      "Label-guided FID: 2.4668\n",
      "FID of 15\n",
      "Branched FID: 2.7833\n",
      "Label-guided FID: 3.9140\n",
      "FID of 16\n",
      "Branched FID: 2.9457\n",
      "Label-guided FID: 6.0455\n",
      "FID of 17\n",
      "Branched FID: 3.8043\n",
      "Label-guided FID: 5.7225\n",
      "FID of 18\n",
      "Branched FID: 3.8144\n",
      "Label-guided FID: 4.9496\n",
      "FID of 19\n",
      "Branched FID: 4.3876\n",
      "Label-guided FID: 3.6714\n",
      "FID of 20\n",
      "Branched FID: 4.5700\n",
      "Label-guided FID: 5.9918\n",
      "FID of 21\n",
      "Branched FID: 10.5595\n",
      "Label-guided FID: 3.8880\n",
      "FID of 22\n",
      "Branched FID: 9.3371\n",
      "Label-guided FID: 11.0959\n",
      "FID of 23\n",
      "Branched FID: 3.5749\n",
      "Label-guided FID: 1.9569\n",
      "FID of 24\n",
      "Branched FID: 20.6371\n",
      "Label-guided FID: 5.7379\n",
      "FID of 25\n",
      "Branched FID: 3.7004\n",
      "Label-guided FID: 4.7446\n"
     ]
    }
   ],
   "source": [
    "# Compute FID scores\n",
    "fid_scores = {}\n",
    "for class_to_sample in classes:\n",
    "    print(\"FID of %d\" % class_to_sample)\n",
    "    branched = branched_samples[class_to_sample]\n",
    "    label_guided = label_guided_samples[class_to_sample]\n",
    "    true = true_samples[class_to_sample]\n",
    "    branched_fid = compute_fid(branched, true)\n",
    "    label_guided_fid = compute_fid(label_guided, true)\n",
    "    fid_scores[class_to_sample] = (branched_fid, label_guided_fid)\n",
    "    print(\"Branched FID: %.4f\" % branched_fid)\n",
    "    print(\"Label-guided FID: %.4f\" % label_guided_fid)"
   ]
  },
  {
   "cell_type": "code",
   "execution_count": 14,
   "id": "edc81176",
   "metadata": {},
   "outputs": [
    {
     "data": {
      "image/png": "[encoded data removed]",
      "text/plain": [
       "<Figure size 720x360 with 1 Axes>"
      ]
     },
     "metadata": {
      "needs_background": "light"
     },
     "output_type": "display_data"
    },
    {
     "data": {
      "image/png": "[encoded data removed]",
      "text/plain": [
       "<Figure size 360x360 with 1 Axes>"
      ]
     },
     "metadata": {
      "needs_background": "light"
     },
     "output_type": "display_data"
    }
   ],
   "source": [
    "branched_vals, linear_vals = [fid_scores[c][0] for c in classes], [fid_scores[c][1] for c in classes]\n",
    "\n",
    "fig, ax = plt.subplots(figsize=(10, 5))\n",
    "bar_width = 0.4\n",
    "x = np.arange(len(fid_scores))\n",
    "ax.bar(x, branched_vals, bar_width, label=\"Branched\")\n",
    "ax.bar(x + bar_width, linear_vals, bar_width, label=\"Label-guided (linear)\")\n",
    "ax.set_xticks(x + (bar_width / 2), labels=[class_to_letter[c] for c in classes])\n",
    "ax.set_ylabel(\"FID\")\n",
    "# ax.set_ylim((0, 25))\n",
    "ax.legend()\n",
    "plt.show()\n",
    "\n",
    "fig, ax = plt.subplots(figsize=(5, 5))\n",
    "ax.scatter(branched_vals, linear_vals)\n",
    "ax.set_xlabel(\"Branched\")\n",
    "ax.set_ylabel(\"Label-guided (linear)\")\n",
    "max_val = np.max(branched_vals + linear_vals)\n",
    "ax.plot((0, max_val), (0, max_val), \"--\")\n",
    "plt.show()"
   ]
  }
 ],
 "metadata": {
  "kernelspec": {
   "display_name": "Python 3 (ipykernel)",
   "language": "python",
   "name": "python3"
  },
  "language_info": {
   "codemirror_mode": {
    "name": "ipython",
    "version": 3
   },
   "file_extension": ".py",
   "mimetype": "text/x-python",
   "name": "python",
   "nbconvert_exporter": "python",
   "pygments_lexer": "ipython3",
   "version": "3.9.12"
  }
 },
 "nbformat": 4,
 "nbformat_minor": 5
}
