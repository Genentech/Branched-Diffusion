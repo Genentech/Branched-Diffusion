{
 "cells": [
  {
   "cell_type": "code",
   "execution_count": 1,
   "id": "4ce6f328",
   "metadata": {},
   "outputs": [],
   "source": [
    "%load_ext autoreload\n",
    "%autoreload 2\n",
    "import sys\n",
    "sys.path.append(\"../src\")\n",
    "import feature.scrna_dataset as scrna_dataset\n",
    "import model.sdes as sdes\n",
    "import model.generate as generate\n",
    "import model.scrna_ae as scrna_ae\n",
    "import model.util as model_util\n",
    "import analysis.fid as fid\n",
    "import torch\n",
    "import numpy as np\n",
    "import scipy.stats\n",
    "import matplotlib.pyplot as plt\n",
    "import os\n",
    "import h5py"
   ]
  },
  {
   "cell_type": "code",
   "execution_count": 2,
   "id": "df22d86f",
   "metadata": {},
   "outputs": [],
   "source": [
    "# Define device\n",
    "if torch.cuda.is_available():\n",
    "    DEVICE = \"cuda\"\n",
    "else:\n",
    "    DEVICE = \"cpu\""
   ]
  },
  {
   "cell_type": "markdown",
   "id": "dfe528ba",
   "metadata": {},
   "source": [
    "### Define the branches and create the data loader"
   ]
  },
  {
   "cell_type": "code",
   "execution_count": 3,
   "id": "951177e3",
   "metadata": {},
   "outputs": [],
   "source": [
    "data_file = \"/gstore/data/resbioai/tsenga5/branched_diffusion/data/scrna/covid_flu/processed/covid_flu_processed_reduced_genes.h5\"\n",
    "autoencoder_path = \"/gstore/data/resbioai/tsenga5/branched_diffusion/models/trained_models/scrna_vaes/covid_flu/covid_flu_processed_reduced_genes_ldvae_d200/\"\n",
    "models_base_path = \"/gstore/home/tsenga5/branched_diffusion/models/trained_models/scrna_covid_flu_continuous_latent_class_extension\""
   ]
  },
  {
   "cell_type": "code",
   "execution_count": 4,
   "id": "5b6d3f84",
   "metadata": {},
   "outputs": [],
   "source": [
    "# TODO: this is currently rather inefficient; a decision-tree-style structure\n",
    "# would be better\n",
    "\n",
    "def class_time_to_branch(c, t, branch_defs):\n",
    "    \"\"\"\n",
    "    Given a class and a time (both scalars), return the\n",
    "    corresponding branch index.\n",
    "    \"\"\"\n",
    "    for i, branch_def in enumerate(branch_defs):\n",
    "        if c in branch_def[0] and t >= branch_def[1] and t <= branch_def[2]:\n",
    "            return i\n",
    "    raise ValueError(\"Undefined class and time\")\n",
    "        \n",
    "def class_time_to_branch_tensor(c, t, branch_defs):\n",
    "    \"\"\"\n",
    "    Given tensors of classes and a times, return the\n",
    "    corresponding branch indices as a tensor.\n",
    "    \"\"\"\n",
    "    return torch.tensor([\n",
    "        class_time_to_branch(c_i, t_i, branch_defs) for c_i, t_i in zip(c, t)\n",
    "    ], device=DEVICE)\n",
    "\n",
    "def class_to_class_index_tensor(c, classes):\n",
    "    \"\"\"\n",
    "    Given a tensor of classes, return the corresponding class indices\n",
    "    as a tensor.\n",
    "    \"\"\"\n",
    "    return torch.argmax(\n",
    "        (c[:, None] == torch.tensor(classes, device=c.device)).int(), dim=1\n",
    "    ).to(DEVICE)"
   ]
  },
  {
   "cell_type": "code",
   "execution_count": 5,
   "id": "426efda4",
   "metadata": {},
   "outputs": [
    {
     "name": "stderr",
     "output_type": "stream",
     "text": [
      "[rank: 0] Global seed set to 0\n"
     ]
    },
    {
     "name": "stdout",
     "output_type": "stream",
     "text": [
      "\u001b[34mINFO    \u001b[0m File                                                                                                      \n",
      "         \u001b[35m/gstore/data/resbioai/tsenga5/branched_diffusion/models/trained_models/scrna_vaes/covid_flu/covid_flu_proc\u001b[0m\n",
      "         \u001b[35messed_reduced_genes_ldvae_d200/\u001b[0m\u001b[95mmodel.pt\u001b[0m already downloaded                                                \n"
     ]
    },
    {
     "name": "stderr",
     "output_type": "stream",
     "text": [
      "No GPU/TPU found, falling back to CPU. (Set TF_CPP_MIN_LOG_LEVEL=0 and rerun for more info.)\n",
      "/gstore/home/tsenga5/miniconda3/envs/scanpy/lib/python3.9/site-packages/scvi/data/fields/_layer_field.py:91: UserWarning: adata.X does not contain unnormalized count data. Are you sure this is what you want?\n",
      "  warnings.warn(\n"
     ]
    },
    {
     "name": "stdout",
     "output_type": "stream",
     "text": [
      "\u001b[34mINFO    \u001b[0m File                                                                                                      \n",
      "         \u001b[35m/gstore/data/resbioai/tsenga5/branched_diffusion/models/trained_models/scrna_vaes/covid_flu/covid_flu_proc\u001b[0m\n",
      "         \u001b[35messed_reduced_genes_ldvae_d200/\u001b[0m\u001b[95mmodel.pt\u001b[0m already downloaded                                                \n"
     ]
    },
    {
     "name": "stderr",
     "output_type": "stream",
     "text": [
      "/gstore/home/tsenga5/miniconda3/envs/scanpy/lib/python3.9/site-packages/scvi/data/fields/_layer_field.py:91: UserWarning: adata.X does not contain unnormalized count data. Are you sure this is what you want?\n",
      "  warnings.warn(\n"
     ]
    },
    {
     "name": "stdout",
     "output_type": "stream",
     "text": [
      "\u001b[34mINFO    \u001b[0m File                                                                                                      \n",
      "         \u001b[35m/gstore/data/resbioai/tsenga5/branched_diffusion/models/trained_models/scrna_vaes/covid_flu/covid_flu_proc\u001b[0m\n",
      "         \u001b[35messed_reduced_genes_ldvae_d200/\u001b[0m\u001b[95mmodel.pt\u001b[0m already downloaded                                                \n"
     ]
    },
    {
     "name": "stderr",
     "output_type": "stream",
     "text": [
      "/gstore/home/tsenga5/miniconda3/envs/scanpy/lib/python3.9/site-packages/scvi/data/fields/_layer_field.py:91: UserWarning: adata.X does not contain unnormalized count data. Are you sure this is what you want?\n",
      "  warnings.warn(\n"
     ]
    }
   ],
   "source": [
    "# Define the branches\n",
    "classes_01 = [0, 1]\n",
    "branch_defs_01 = [((0, 1), 0.5795795795795796, 1), ((0,), 0, 0.5795795795795796), ((1,), 0, 0.5795795795795796)]\n",
    "\n",
    "classes_015 = [0, 1, 5]\n",
    "branch_defs_015 = [((0, 1, 5), 6.786786786786787e-01, 1), ((0, 1), 0.5795795795795796, 0.6786786786786787), ((5,), 0, 0.6786786786786787), ((0,), 0, 0.5795795795795796), ((1,), 0, 0.5795795795795796)]\n",
    "\n",
    "classes_5 = [5]\n",
    "branch_defs_5 = [((5,), 0, 0.6786786786786787)]\n",
    "\n",
    "dataset_01 = scrna_dataset.SingleCellDataset(data_file, autoencoder_path=autoencoder_path)\n",
    "dataset_015 = scrna_dataset.SingleCellDataset(data_file, autoencoder_path=autoencoder_path)\n",
    "dataset_5 = scrna_dataset.SingleCellDataset(data_file, autoencoder_path=autoencoder_path)\n",
    "\n",
    "# Limit classes\n",
    "inds_01 = np.isin(dataset_01.cell_cluster, classes_01)\n",
    "dataset_01.data = dataset_01.data[inds_01]\n",
    "dataset_01.cell_cluster = dataset_01.cell_cluster[inds_01]\n",
    "inds_015 = np.isin(dataset_015.cell_cluster, classes_015)\n",
    "dataset_015.data = dataset_015.data[inds_015]\n",
    "dataset_015.cell_cluster = dataset_015.cell_cluster[inds_015]\n",
    "inds_5 = np.isin(dataset_5.cell_cluster, classes_5)\n",
    "dataset_5.data = dataset_5.data[inds_5]\n",
    "dataset_5.cell_cluster = dataset_5.cell_cluster[inds_5]\n",
    "\n",
    "data_loader_01 = torch.utils.data.DataLoader(dataset_01, batch_size=128, shuffle=True, num_workers=0)\n",
    "data_loader_015 = torch.utils.data.DataLoader(dataset_015, batch_size=128, shuffle=True, num_workers=0)\n",
    "data_loader_5 = torch.utils.data.DataLoader(dataset_5, batch_size=128, shuffle=True, num_workers=0)\n",
    "input_shape = next(iter(data_loader_01))[0].shape[1:]"
   ]
  },
  {
   "cell_type": "code",
   "execution_count": 6,
   "id": "ab1a36e2",
   "metadata": {},
   "outputs": [],
   "source": [
    "# Create the SDE\n",
    "sde = sdes.VariancePreservingSDE(0.1, 5, input_shape)\n",
    "\n",
    "t_limit = 1"
   ]
  },
  {
   "cell_type": "code",
   "execution_count": 7,
   "id": "f8717c75",
   "metadata": {},
   "outputs": [],
   "source": [
    "# Import gene names and marker genes\n",
    "with h5py.File(data_file, \"r\") as f:\n",
    "    gene_names = f[\"gene_names\"][:].astype(str)\n",
    "    marker_genes = {}\n",
    "    for class_i in classes_015:\n",
    "        marker_genes[class_i] = f[\"marker_genes\"][str(class_i)][:].astype(str)\n",
    "    \n",
    "genes_of_interest = np.array([\"NFKB1\", \"NFKB2\", \"IRF1\", \"CXCR3\", \"CXCL10\", \"STAT1\", \"TLR4\", \"TGFB1\", \"IL1B\", \"IFNG\", \"TLR4\", \"TNFSF4\", \"IL1R2\", \"IL1B\", \"IL7R\", \"IL32\"])"
   ]
  },
  {
   "cell_type": "code",
   "execution_count": 8,
   "id": "387aa61e",
   "metadata": {},
   "outputs": [],
   "source": [
    "os.environ[\"MODEL_DIR\"] = os.path.join(models_base_path, \"extension\")\n",
    "\n",
    "import model.train_continuous_model as train_continuous_model  # Import this AFTER setting environment"
   ]
  },
  {
   "cell_type": "markdown",
   "id": "7f19ff6b",
   "metadata": {},
   "source": [
    "#### Train extra branch on branched model"
   ]
  },
  {
   "cell_type": "code",
   "execution_count": 9,
   "id": "d8e4d145",
   "metadata": {},
   "outputs": [],
   "source": [
    "def map_branch_def(branch_def, target_branch_defs):\n",
    "    \"\"\"\n",
    "    Given a particular branch definition (i.e. a triplet), and a\n",
    "    list of branch definitions, attempts to match that branch\n",
    "    definition to the corresponding entry in the list. This\n",
    "    mapping is based on whether or not the branch would need to be\n",
    "    retrained. The query `branch_def` is matched to a target within\n",
    "    `branch_defs` if the target's class indices are all present in\n",
    "    the query, and the query time is a sub-interval of the target\n",
    "    time.\n",
    "    Arguments:\n",
    "        `branch_def`: a branch definition (i.e. triplet of class index\n",
    "            tuple, start time, and end time)\n",
    "        `target_branch_defs`: a list of branch definitions\n",
    "    Returns the index of the matched branch definition in `branch_defs`,\n",
    "    or -1 if there is no suitable match found.\n",
    "    \"\"\"\n",
    "    for i, target_branch_def in enumerate(target_branch_defs):\n",
    "        if set(branch_def[0]).issuperset(set(target_branch_def[0])) \\\n",
    "            and branch_def[1] >= target_branch_def[1] \\\n",
    "            and branch_def[2] <= target_branch_def[2]:\n",
    "            return i\n",
    "    return -1"
   ]
  },
  {
   "cell_type": "code",
   "execution_count": 10,
   "id": "701982d4",
   "metadata": {},
   "outputs": [],
   "source": [
    "branched_model_1 = model_util.load_model(\n",
    "    scrna_ae.MultitaskResNet,\n",
    "    os.path.join(models_base_path, \"branched/01/1/last_ckpt.pth\")\n",
    ").to(DEVICE)"
   ]
  },
  {
   "cell_type": "code",
   "execution_count": 11,
   "id": "88cc8341",
   "metadata": {},
   "outputs": [],
   "source": [
    "# # Create new model and copy over parameters\n",
    "# branched_model_2 = scrna_ae.MultitaskResNet(\n",
    "#     len(branch_defs_015), input_shape[0], t_limit=t_limit\n",
    "# ).to(DEVICE)\n",
    "\n",
    "# # Figure out which branches should be copied over to which ones\n",
    "# branch_map_inds = [\n",
    "#     map_branch_def(bd, branch_defs_01) for bd in branch_defs_015\n",
    "# ]\n",
    "\n",
    "# # For each submodule, copy over the weights\n",
    "# # Careful: this assumes a particular kind of architecture!\n",
    "# modules_1 = dict(branched_model_1.named_children())\n",
    "# modules_2 = dict(branched_model_2.named_children())\n",
    "\n",
    "# for module_name in [\"layers\", \"time_embedders\"]:\n",
    "#     for submodule_i, submodule in enumerate(modules_1[module_name]):\n",
    "#         if len(submodule) == 1:\n",
    "#             branched_model_2.get_submodule(module_name)[submodule_i].load_state_dict(\n",
    "#                 submodule.state_dict()\n",
    "#             )\n",
    "#         elif len(submodule) == len(branch_defs_01):\n",
    "#             target_submodule_list = branched_model_2.get_submodule(module_name)[submodule_i]\n",
    "#             for target_i, source_i in enumerate(branch_map_inds):\n",
    "#                 if source_i != -1:\n",
    "#                     target_submodule_list[target_i].load_state_dict(\n",
    "#                         submodule[source_i].state_dict()\n",
    "#                     )\n",
    "#                 else:\n",
    "#                     # Copy over some other branch for a warm start\n",
    "#                     # We'll manually set it for now (TODO)\n",
    "#                     source_i = -1  # Last branch\n",
    "#                     target_submodule_list[target_i].load_state_dict(\n",
    "#                         submodule[source_i].state_dict()\n",
    "#                     )\n",
    "#         else:\n",
    "#             raise ValueError(\"Found module list of length %d\" % len(module_list))\n",
    "\n",
    "# submodule = branched_model_1.get_submodule(\"last_linears\")\n",
    "# target_submodule_list = branched_model_2.get_submodule(\"last_linears\")\n",
    "# for target_i, source_i in enumerate(branch_map_inds):\n",
    "#     if source_i != -1:\n",
    "#         target_submodule_list[target_i].load_state_dict(\n",
    "#             submodule[source_i].state_dict()\n",
    "#         )\n",
    "#     else:\n",
    "#         # Copy over some other branch for a warm start\n",
    "#         # We'll manually set it for now (TODO)\n",
    "#         source_i = -1  # Last branch\n",
    "#         target_submodule_list[target_i].load_state_dict(\n",
    "#             submodule[source_i].state_dict()\n",
    "#         )"
   ]
  },
  {
   "cell_type": "code",
   "execution_count": 12,
   "id": "7992ca21",
   "metadata": {
    "scrolled": true
   },
   "outputs": [],
   "source": [
    "# # Train the model, for the specific branches only\n",
    "\n",
    "# # Freeze all shared layers of the model, and freeze all task-specific\n",
    "# # layers other than the ones we want to train\n",
    "# for module_name in [\"layers\", \"time_embedders\"]:\n",
    "#     for submodule in branched_model_2.get_submodule(module_name):\n",
    "#         if len(submodule) == 1:\n",
    "#             for p in submodule.parameters():\n",
    "#                 p.requires_grad = False\n",
    "#         elif len(submodule) == len(branch_defs_015):\n",
    "#             for i in range(len(submodule)):\n",
    "#                 if branch_map_inds[i] != -1:\n",
    "#                     for p in submodule[i].parameters():\n",
    "#                         p.requires_grad = False\n",
    "#                 else:\n",
    "#                     for p in submodule[i].parameters():\n",
    "#                         p.requires_grad = True\n",
    "#         else:\n",
    "#             raise ValueError(\"Found module list of length %d\" % len(submodule))\n",
    "# submodule = branched_model_2.get_submodule(\"last_linears\")\n",
    "# for i in range(len(submodule)):\n",
    "#     if branch_map_inds[i] != -1:\n",
    "#         for p in submodule[i].parameters():\n",
    "#             p.requires_grad = False\n",
    "#     else:\n",
    "#         for p in submodule[i].parameters():\n",
    "#             p.requires_grad = True\n",
    "\n",
    "# # Train\n",
    "# train_continuous_model.train_ex.run(\n",
    "#     \"train_branched_model\",\n",
    "#     config_updates={\n",
    "#         \"model\": branched_model_2,\n",
    "#         \"sde\": sde,\n",
    "#         \"data_loader\": data_loader_5,\n",
    "#         \"class_time_to_branch_index\": lambda c, t: class_time_to_branch_tensor(c, t, branch_defs_015),\n",
    "#         \"num_epochs\": 50,\n",
    "#         \"learning_rate\": 0.001,\n",
    "#         \"t_limit\": branch_defs_5[0][2],\n",
    "#         \"loss_weighting_type\": \"empirical_norm\"\n",
    "#     }\n",
    "# )"
   ]
  },
  {
   "cell_type": "code",
   "execution_count": 13,
   "id": "83ef677a",
   "metadata": {},
   "outputs": [],
   "source": [
    "branched_model_2 = model_util.load_model(\n",
    "    scrna_ae.MultitaskResNet,\n",
    "    os.path.join(models_base_path, \"extension/4/last_ckpt.pth\")\n",
    ").to(DEVICE)"
   ]
  },
  {
   "cell_type": "code",
   "execution_count": 38,
   "id": "441c00a3",
   "metadata": {},
   "outputs": [
    {
     "name": "stdout",
     "output_type": "stream",
     "text": [
      "Sampling class: 0\n",
      "Sampling class: 1\n",
      "Sampling class: 5\n"
     ]
    }
   ],
   "source": [
    "# Generate the samples\n",
    "branched_samples = {}\n",
    "for class_to_sample in classes_015:\n",
    "    print(\"Sampling class: %s\" % class_to_sample)\n",
    "    sample = generate.generate_continuous_branched_samples(\n",
    "        branched_model_2, sde, class_to_sample,\n",
    "        lambda c, t: class_time_to_branch_tensor(c, t, branch_defs_015),\n",
    "        sampler=\"pc\", t_limit=t_limit, num_samples=1000\n",
    "    )\n",
    "    # branched_samples[class_to_sample] = dataset_015.decode_batch(sample).cpu().numpy()\n",
    "    branched_samples[class_to_sample] = sample.cpu().numpy()"
   ]
  },
  {
   "cell_type": "markdown",
   "id": "6a78ad98",
   "metadata": {},
   "source": [
    "#### Train label-guided model with only new label"
   ]
  },
  {
   "cell_type": "code",
   "execution_count": 9,
   "id": "32c18892",
   "metadata": {},
   "outputs": [],
   "source": [
    "# Import the label-guided model\n",
    "label_guided_model_1 = model_util.load_model(\n",
    "    scrna_ae.LabelGuidedResNet,\n",
    "    os.path.join(models_base_path, \"labelguided/01/2/last_ckpt.pth\")\n",
    ").to(DEVICE)"
   ]
  },
  {
   "cell_type": "code",
   "execution_count": null,
   "id": "4b9a3956",
   "metadata": {
    "scrolled": true
   },
   "outputs": [
    {
     "name": "stderr",
     "output_type": "stream",
     "text": [
      "WARNING - root - Added new config entry: \"class_to_class_index\"\n",
      "WARNING - root - Added new config entry: \"data_loader\"\n",
      "WARNING - root - Added new config entry: \"loss_weighting_type\"\n",
      "WARNING - root - Added new config entry: \"model\"\n",
      "WARNING - root - Added new config entry: \"sde\"\n",
      "WARNING - root - Added new config entry: \"t_limit\"\n",
      "INFO - train - Running command 'train_label_guided_model'\n",
      "/gstore/home/tsenga5/miniconda3/envs/scanpy/lib/python3.9/site-packages/jsonpickle/ext/numpy.py:291: UserWarning: ndarray is defined by reference to an object we do not know how to serialize. A deep copy is serialized instead, breaking memory aliasing.\n",
      "  warnings.warn(msg)\n",
      "INFO - train - Started run with ID \"9\"\n",
      "Loss: 22.94: 100%|█████████████████████████████████████████| 24/24 [00:08<00:00,  2.81it/s]\n"
     ]
    },
    {
     "name": "stdout",
     "output_type": "stream",
     "text": [
      "Epoch 1 average Loss: 23.61\n"
     ]
    },
    {
     "name": "stderr",
     "output_type": "stream",
     "text": [
      "Loss: 17.10: 100%|█████████████████████████████████████████| 24/24 [00:08<00:00,  2.73it/s]\n"
     ]
    },
    {
     "name": "stdout",
     "output_type": "stream",
     "text": [
      "Epoch 2 average Loss: 18.59\n"
     ]
    },
    {
     "name": "stderr",
     "output_type": "stream",
     "text": [
      "Loss: 17.50: 100%|█████████████████████████████████████████| 24/24 [00:08<00:00,  2.88it/s]\n"
     ]
    },
    {
     "name": "stdout",
     "output_type": "stream",
     "text": [
      "Epoch 3 average Loss: 18.74\n"
     ]
    },
    {
     "name": "stderr",
     "output_type": "stream",
     "text": [
      "Loss: 16.87: 100%|█████████████████████████████████████████| 24/24 [00:08<00:00,  2.83it/s]\n"
     ]
    },
    {
     "name": "stdout",
     "output_type": "stream",
     "text": [
      "Epoch 4 average Loss: 18.21\n"
     ]
    },
    {
     "name": "stderr",
     "output_type": "stream",
     "text": [
      "Loss: 19.30: 100%|█████████████████████████████████████████| 24/24 [00:08<00:00,  2.89it/s]\n"
     ]
    },
    {
     "name": "stdout",
     "output_type": "stream",
     "text": [
      "Epoch 5 average Loss: 17.66\n"
     ]
    },
    {
     "name": "stderr",
     "output_type": "stream",
     "text": [
      "Loss: 19.93: 100%|█████████████████████████████████████████| 24/24 [00:08<00:00,  2.84it/s]\n"
     ]
    },
    {
     "name": "stdout",
     "output_type": "stream",
     "text": [
      "Epoch 6 average Loss: 17.30\n"
     ]
    },
    {
     "name": "stderr",
     "output_type": "stream",
     "text": [
      "Loss: 15.83: 100%|█████████████████████████████████████████| 24/24 [00:08<00:00,  2.82it/s]\n"
     ]
    },
    {
     "name": "stdout",
     "output_type": "stream",
     "text": [
      "Epoch 7 average Loss: 17.50\n"
     ]
    },
    {
     "name": "stderr",
     "output_type": "stream",
     "text": [
      "Loss: 17.16: 100%|█████████████████████████████████████████| 24/24 [00:08<00:00,  2.84it/s]\n"
     ]
    },
    {
     "name": "stdout",
     "output_type": "stream",
     "text": [
      "Epoch 8 average Loss: 17.07\n"
     ]
    },
    {
     "name": "stderr",
     "output_type": "stream",
     "text": [
      "Loss: 18.03: 100%|█████████████████████████████████████████| 24/24 [00:08<00:00,  2.81it/s]\n"
     ]
    },
    {
     "name": "stdout",
     "output_type": "stream",
     "text": [
      "Epoch 9 average Loss: 17.84\n"
     ]
    },
    {
     "name": "stderr",
     "output_type": "stream",
     "text": [
      "Loss: 20.83: 100%|█████████████████████████████████████████| 24/24 [00:08<00:00,  2.82it/s]\n"
     ]
    },
    {
     "name": "stdout",
     "output_type": "stream",
     "text": [
      "Epoch 10 average Loss: 17.63\n"
     ]
    },
    {
     "name": "stderr",
     "output_type": "stream",
     "text": [
      "Loss: 16.12: 100%|█████████████████████████████████████████| 24/24 [00:08<00:00,  2.86it/s]\n"
     ]
    },
    {
     "name": "stdout",
     "output_type": "stream",
     "text": [
      "Epoch 11 average Loss: 16.80\n"
     ]
    },
    {
     "name": "stderr",
     "output_type": "stream",
     "text": [
      "Loss: 19.43: 100%|█████████████████████████████████████████| 24/24 [00:08<00:00,  2.96it/s]\n"
     ]
    },
    {
     "name": "stdout",
     "output_type": "stream",
     "text": [
      "Epoch 12 average Loss: 16.72\n"
     ]
    },
    {
     "name": "stderr",
     "output_type": "stream",
     "text": [
      "Loss: 16.31: 100%|█████████████████████████████████████████| 24/24 [00:08<00:00,  2.91it/s]\n"
     ]
    },
    {
     "name": "stdout",
     "output_type": "stream",
     "text": [
      "Epoch 13 average Loss: 17.59\n"
     ]
    },
    {
     "name": "stderr",
     "output_type": "stream",
     "text": [
      "Loss: 17.82: 100%|█████████████████████████████████████████| 24/24 [00:08<00:00,  2.91it/s]\n"
     ]
    },
    {
     "name": "stdout",
     "output_type": "stream",
     "text": [
      "Epoch 14 average Loss: 17.33\n"
     ]
    },
    {
     "name": "stderr",
     "output_type": "stream",
     "text": [
      "Loss: 14.72: 100%|█████████████████████████████████████████| 24/24 [00:08<00:00,  2.92it/s]\n"
     ]
    },
    {
     "name": "stdout",
     "output_type": "stream",
     "text": [
      "Epoch 15 average Loss: 16.63\n"
     ]
    },
    {
     "name": "stderr",
     "output_type": "stream",
     "text": [
      "Loss: 18.18: 100%|█████████████████████████████████████████| 24/24 [00:08<00:00,  2.99it/s]\n"
     ]
    },
    {
     "name": "stdout",
     "output_type": "stream",
     "text": [
      "Epoch 16 average Loss: 16.92\n"
     ]
    },
    {
     "name": "stderr",
     "output_type": "stream",
     "text": [
      "Loss: 18.80: 100%|█████████████████████████████████████████| 24/24 [00:08<00:00,  2.91it/s]\n"
     ]
    },
    {
     "name": "stdout",
     "output_type": "stream",
     "text": [
      "Epoch 17 average Loss: 16.72\n"
     ]
    },
    {
     "name": "stderr",
     "output_type": "stream",
     "text": [
      "Loss: 17.24: 100%|█████████████████████████████████████████| 24/24 [00:08<00:00,  2.98it/s]\n"
     ]
    },
    {
     "name": "stdout",
     "output_type": "stream",
     "text": [
      "Epoch 18 average Loss: 16.70\n"
     ]
    },
    {
     "name": "stderr",
     "output_type": "stream",
     "text": [
      "Loss: 18.27: 100%|█████████████████████████████████████████| 24/24 [00:08<00:00,  2.91it/s]\n"
     ]
    },
    {
     "name": "stdout",
     "output_type": "stream",
     "text": [
      "Epoch 19 average Loss: 16.94\n"
     ]
    },
    {
     "name": "stderr",
     "output_type": "stream",
     "text": [
      "Loss: 15.59: 100%|█████████████████████████████████████████| 24/24 [00:08<00:00,  2.84it/s]\n"
     ]
    },
    {
     "name": "stdout",
     "output_type": "stream",
     "text": [
      "Epoch 20 average Loss: 16.56\n"
     ]
    },
    {
     "name": "stderr",
     "output_type": "stream",
     "text": [
      "Loss: 18.46: 100%|█████████████████████████████████████████| 24/24 [00:08<00:00,  2.87it/s]\n"
     ]
    },
    {
     "name": "stdout",
     "output_type": "stream",
     "text": [
      "Epoch 21 average Loss: 16.63\n"
     ]
    },
    {
     "name": "stderr",
     "output_type": "stream",
     "text": [
      "Loss: 14.99: 100%|█████████████████████████████████████████| 24/24 [00:08<00:00,  2.89it/s]\n"
     ]
    },
    {
     "name": "stdout",
     "output_type": "stream",
     "text": [
      "Epoch 22 average Loss: 16.90\n"
     ]
    },
    {
     "name": "stderr",
     "output_type": "stream",
     "text": [
      "Loss: 15.84: 100%|█████████████████████████████████████████| 24/24 [00:08<00:00,  2.99it/s]\n"
     ]
    },
    {
     "name": "stdout",
     "output_type": "stream",
     "text": [
      "Epoch 23 average Loss: 16.58\n"
     ]
    },
    {
     "name": "stderr",
     "output_type": "stream",
     "text": [
      "Loss: 17.00: 100%|█████████████████████████████████████████| 24/24 [00:08<00:00,  2.88it/s]\n"
     ]
    },
    {
     "name": "stdout",
     "output_type": "stream",
     "text": [
      "Epoch 24 average Loss: 16.62\n"
     ]
    },
    {
     "name": "stderr",
     "output_type": "stream",
     "text": [
      "Loss: 20.26: 100%|█████████████████████████████████████████| 24/24 [00:08<00:00,  2.80it/s]\n"
     ]
    },
    {
     "name": "stdout",
     "output_type": "stream",
     "text": [
      "Epoch 25 average Loss: 17.43\n"
     ]
    },
    {
     "name": "stderr",
     "output_type": "stream",
     "text": [
      "Loss: 16.05: 100%|█████████████████████████████████████████| 24/24 [00:08<00:00,  2.75it/s]\n"
     ]
    },
    {
     "name": "stdout",
     "output_type": "stream",
     "text": [
      "Epoch 26 average Loss: 16.40\n"
     ]
    },
    {
     "name": "stderr",
     "output_type": "stream",
     "text": [
      "Loss: 19.32: 100%|█████████████████████████████████████████| 24/24 [00:08<00:00,  2.86it/s]\n"
     ]
    },
    {
     "name": "stdout",
     "output_type": "stream",
     "text": [
      "Epoch 27 average Loss: 16.62\n"
     ]
    },
    {
     "name": "stderr",
     "output_type": "stream",
     "text": [
      "Loss: 16.60: 100%|█████████████████████████████████████████| 24/24 [00:08<00:00,  2.85it/s]\n"
     ]
    },
    {
     "name": "stdout",
     "output_type": "stream",
     "text": [
      "Epoch 28 average Loss: 16.17\n"
     ]
    },
    {
     "name": "stderr",
     "output_type": "stream",
     "text": [
      "Loss: 17.04: 100%|█████████████████████████████████████████| 24/24 [00:08<00:00,  2.92it/s]\n"
     ]
    },
    {
     "name": "stdout",
     "output_type": "stream",
     "text": [
      "Epoch 29 average Loss: 16.28\n"
     ]
    },
    {
     "name": "stderr",
     "output_type": "stream",
     "text": [
      "Loss: 19.52: 100%|█████████████████████████████████████████| 24/24 [00:08<00:00,  2.74it/s]\n"
     ]
    },
    {
     "name": "stdout",
     "output_type": "stream",
     "text": [
      "Epoch 30 average Loss: 16.67\n"
     ]
    },
    {
     "name": "stderr",
     "output_type": "stream",
     "text": [
      "Loss: 16.49: 100%|█████████████████████████████████████████| 24/24 [00:08<00:00,  2.82it/s]\n"
     ]
    },
    {
     "name": "stdout",
     "output_type": "stream",
     "text": [
      "Epoch 31 average Loss: 16.14\n"
     ]
    },
    {
     "name": "stderr",
     "output_type": "stream",
     "text": [
      "Loss: 17.93: 100%|█████████████████████████████████████████| 24/24 [00:08<00:00,  2.87it/s]\n"
     ]
    },
    {
     "name": "stdout",
     "output_type": "stream",
     "text": [
      "Epoch 32 average Loss: 16.41\n"
     ]
    },
    {
     "name": "stderr",
     "output_type": "stream",
     "text": [
      "Loss: 15.48: 100%|█████████████████████████████████████████| 24/24 [00:08<00:00,  2.84it/s]\n"
     ]
    },
    {
     "name": "stdout",
     "output_type": "stream",
     "text": [
      "Epoch 33 average Loss: 16.32\n"
     ]
    },
    {
     "name": "stderr",
     "output_type": "stream",
     "text": [
      "Loss: 18.01: 100%|█████████████████████████████████████████| 24/24 [00:08<00:00,  2.77it/s]\n"
     ]
    },
    {
     "name": "stdout",
     "output_type": "stream",
     "text": [
      "Epoch 34 average Loss: 16.51\n"
     ]
    },
    {
     "name": "stderr",
     "output_type": "stream",
     "text": [
      "Loss: 16.62: 100%|█████████████████████████████████████████| 24/24 [00:08<00:00,  2.79it/s]\n"
     ]
    },
    {
     "name": "stdout",
     "output_type": "stream",
     "text": [
      "Epoch 35 average Loss: 16.09\n"
     ]
    },
    {
     "name": "stderr",
     "output_type": "stream",
     "text": [
      "Loss: 15.58: 100%|█████████████████████████████████████████| 24/24 [00:08<00:00,  2.74it/s]\n"
     ]
    },
    {
     "name": "stdout",
     "output_type": "stream",
     "text": [
      "Epoch 36 average Loss: 15.87\n"
     ]
    },
    {
     "name": "stderr",
     "output_type": "stream",
     "text": [
      "Loss: 15.98: 100%|█████████████████████████████████████████| 24/24 [00:08<00:00,  2.81it/s]\n"
     ]
    },
    {
     "name": "stdout",
     "output_type": "stream",
     "text": [
      "Epoch 37 average Loss: 16.00\n"
     ]
    },
    {
     "name": "stderr",
     "output_type": "stream",
     "text": [
      "Loss: 17.53: 100%|█████████████████████████████████████████| 24/24 [00:08<00:00,  2.78it/s]\n"
     ]
    },
    {
     "name": "stdout",
     "output_type": "stream",
     "text": [
      "Epoch 38 average Loss: 16.12\n"
     ]
    },
    {
     "name": "stderr",
     "output_type": "stream",
     "text": [
      "Loss: 20.07: 100%|█████████████████████████████████████████| 24/24 [00:08<00:00,  2.88it/s]\n"
     ]
    },
    {
     "name": "stdout",
     "output_type": "stream",
     "text": [
      "Epoch 39 average Loss: 15.99\n"
     ]
    },
    {
     "name": "stderr",
     "output_type": "stream",
     "text": [
      "Loss: 18.36: 100%|█████████████████████████████████████████| 24/24 [00:08<00:00,  2.85it/s]\n"
     ]
    },
    {
     "name": "stdout",
     "output_type": "stream",
     "text": [
      "Epoch 40 average Loss: 16.51\n"
     ]
    },
    {
     "name": "stderr",
     "output_type": "stream",
     "text": [
      "Loss: 16.15: 100%|█████████████████████████████████████████| 24/24 [00:08<00:00,  2.78it/s]\n"
     ]
    },
    {
     "name": "stdout",
     "output_type": "stream",
     "text": [
      "Epoch 41 average Loss: 16.15\n"
     ]
    },
    {
     "name": "stderr",
     "output_type": "stream",
     "text": [
      "Loss: 16.36: 100%|█████████████████████████████████████████| 24/24 [00:08<00:00,  2.90it/s]\n"
     ]
    },
    {
     "name": "stdout",
     "output_type": "stream",
     "text": [
      "Epoch 42 average Loss: 15.77\n"
     ]
    },
    {
     "name": "stderr",
     "output_type": "stream",
     "text": [
      "Loss: 16.45: 100%|█████████████████████████████████████████| 24/24 [00:08<00:00,  2.98it/s]\n"
     ]
    },
    {
     "name": "stdout",
     "output_type": "stream",
     "text": [
      "Epoch 43 average Loss: 16.43\n"
     ]
    },
    {
     "name": "stderr",
     "output_type": "stream",
     "text": [
      "Loss: 15.41:  25%|██████████▌                               | 6/24 [00:02<00:06,  2.77it/s]"
     ]
    }
   ],
   "source": [
    "# Train on only new label\n",
    "train_continuous_model.train_ex.run(\n",
    "    \"train_label_guided_model\",\n",
    "    config_updates={\n",
    "        \"model\": label_guided_model_1,\n",
    "        \"sde\": sde,\n",
    "        \"data_loader\": data_loader_5,\n",
    "        \"class_to_class_index\": lambda c: class_to_class_index_tensor(c, classes_015),\n",
    "        \"num_epochs\": 50,\n",
    "        \"learning_rate\": 0.001,\n",
    "        \"t_limit\": t_limit,\n",
    "        \"loss_weighting_type\": \"empirical_norm\"\n",
    "    }\n",
    ")"
   ]
  },
  {
   "cell_type": "code",
   "execution_count": 16,
   "id": "3af73f38",
   "metadata": {},
   "outputs": [
    {
     "name": "stdout",
     "output_type": "stream",
     "text": [
      "Sampling class: 1\n",
      "Sampling class: 5\n"
     ]
    }
   ],
   "source": [
    "linear_samples_newonly = {}\n",
    "for class_to_sample in classes_015:\n",
    "    print(\"Sampling class: %s\" % class_to_sample)\n",
    "    sample = generate.generate_continuous_label_guided_samples(\n",
    "        label_guided_model_1, sde, class_to_sample,\n",
    "        lambda c: class_to_class_index_tensor(c, classes_015),\n",
    "        sampler=\"pc\", t_limit=t_limit, num_samples=1000\n",
    "    )\n",
    "    # linear_samples_newonly[class_to_sample] = dataset_015.decode_batch(sample).cpu().numpy()\n",
    "    linear_samples_newonly[class_to_sample] = sample.cpu().numpy()"
   ]
  },
  {
   "cell_type": "markdown",
   "id": "6e7e003f",
   "metadata": {},
   "source": [
    "#### Train label-guided model with all data"
   ]
  },
  {
   "cell_type": "code",
   "execution_count": 15,
   "id": "ae80f566",
   "metadata": {},
   "outputs": [],
   "source": [
    "# # Import the label-guided model\n",
    "# label_guided_model_2 = model_util.load_model(\n",
    "#     scrna_ae.LabelGuidedResNet,\n",
    "#     os.path.join(models_base_path, \"labelguided/01/2/last_ckpt.pth\")\n",
    "# ).to(DEVICE)"
   ]
  },
  {
   "cell_type": "code",
   "execution_count": 16,
   "id": "0fb65d2d",
   "metadata": {
    "scrolled": true
   },
   "outputs": [
    {
     "name": "stderr",
     "output_type": "stream",
     "text": [
      "WARNING - root - Added new config entry: \"class_to_class_index\"\n",
      "WARNING - root - Added new config entry: \"data_loader\"\n",
      "WARNING - root - Added new config entry: \"loss_weighting_type\"\n",
      "WARNING - root - Added new config entry: \"model\"\n",
      "WARNING - root - Added new config entry: \"sde\"\n",
      "WARNING - root - Added new config entry: \"t_limit\"\n",
      "INFO - train - Running command 'train_label_guided_model'\n",
      "/gstore/home/tsenga5/miniconda3/envs/scanpy/lib/python3.9/site-packages/jsonpickle/ext/numpy.py:291: UserWarning: ndarray is defined by reference to an object we do not know how to serialize. A deep copy is serialized instead, breaking memory aliasing.\n",
      "  warnings.warn(msg)\n",
      "INFO - train - Started run with ID \"6\"\n",
      "Loss: 18.18: 100%|███████████████████████████████████████████████████████████████████████████████████████████████████████| 132/132 [00:45<00:00,  2.91it/s]\n"
     ]
    },
    {
     "name": "stdout",
     "output_type": "stream",
     "text": [
      "Epoch 1 average Loss: 21.03\n"
     ]
    },
    {
     "name": "stderr",
     "output_type": "stream",
     "text": [
      "Loss: 18.02: 100%|███████████████████████████████████████████████████████████████████████████████████████████████████████| 132/132 [00:45<00:00,  2.91it/s]\n"
     ]
    },
    {
     "name": "stdout",
     "output_type": "stream",
     "text": [
      "Epoch 2 average Loss: 18.97\n"
     ]
    },
    {
     "name": "stderr",
     "output_type": "stream",
     "text": [
      "Loss: 19.17: 100%|███████████████████████████████████████████████████████████████████████████████████████████████████████| 132/132 [00:44<00:00,  2.94it/s]\n"
     ]
    },
    {
     "name": "stdout",
     "output_type": "stream",
     "text": [
      "Epoch 3 average Loss: 18.57\n"
     ]
    },
    {
     "name": "stderr",
     "output_type": "stream",
     "text": [
      "Loss: 17.08: 100%|███████████████████████████████████████████████████████████████████████████████████████████████████████| 132/132 [00:45<00:00,  2.92it/s]\n"
     ]
    },
    {
     "name": "stdout",
     "output_type": "stream",
     "text": [
      "Epoch 4 average Loss: 18.14\n"
     ]
    },
    {
     "name": "stderr",
     "output_type": "stream",
     "text": [
      "Loss: 20.54: 100%|███████████████████████████████████████████████████████████████████████████████████████████████████████| 132/132 [00:44<00:00,  2.98it/s]\n"
     ]
    },
    {
     "name": "stdout",
     "output_type": "stream",
     "text": [
      "Epoch 5 average Loss: 18.33\n"
     ]
    },
    {
     "name": "stderr",
     "output_type": "stream",
     "text": [
      "Loss: 18.32: 100%|███████████████████████████████████████████████████████████████████████████████████████████████████████| 132/132 [00:45<00:00,  2.93it/s]\n"
     ]
    },
    {
     "name": "stdout",
     "output_type": "stream",
     "text": [
      "Epoch 6 average Loss: 17.83\n"
     ]
    },
    {
     "name": "stderr",
     "output_type": "stream",
     "text": [
      "Loss: 16.66: 100%|███████████████████████████████████████████████████████████████████████████████████████████████████████| 132/132 [00:45<00:00,  2.93it/s]\n"
     ]
    },
    {
     "name": "stdout",
     "output_type": "stream",
     "text": [
      "Epoch 7 average Loss: 17.66\n"
     ]
    },
    {
     "name": "stderr",
     "output_type": "stream",
     "text": [
      "Loss: 17.50: 100%|███████████████████████████████████████████████████████████████████████████████████████████████████████| 132/132 [00:44<00:00,  2.96it/s]\n"
     ]
    },
    {
     "name": "stdout",
     "output_type": "stream",
     "text": [
      "Epoch 8 average Loss: 17.46\n"
     ]
    },
    {
     "name": "stderr",
     "output_type": "stream",
     "text": [
      "Loss: 17.39: 100%|███████████████████████████████████████████████████████████████████████████████████████████████████████| 132/132 [00:45<00:00,  2.89it/s]\n"
     ]
    },
    {
     "name": "stdout",
     "output_type": "stream",
     "text": [
      "Epoch 9 average Loss: 17.39\n"
     ]
    },
    {
     "name": "stderr",
     "output_type": "stream",
     "text": [
      "Loss: 15.76: 100%|███████████████████████████████████████████████████████████████████████████████████████████████████████| 132/132 [00:44<00:00,  2.93it/s]\n"
     ]
    },
    {
     "name": "stdout",
     "output_type": "stream",
     "text": [
      "Epoch 10 average Loss: 16.87\n"
     ]
    },
    {
     "name": "stderr",
     "output_type": "stream",
     "text": [
      "Loss: 18.34: 100%|███████████████████████████████████████████████████████████████████████████████████████████████████████| 132/132 [00:45<00:00,  2.92it/s]\n"
     ]
    },
    {
     "name": "stdout",
     "output_type": "stream",
     "text": [
      "Epoch 11 average Loss: 16.83\n"
     ]
    },
    {
     "name": "stderr",
     "output_type": "stream",
     "text": [
      "Loss: 15.29: 100%|███████████████████████████████████████████████████████████████████████████████████████████████████████| 132/132 [00:44<00:00,  2.95it/s]\n"
     ]
    },
    {
     "name": "stdout",
     "output_type": "stream",
     "text": [
      "Epoch 12 average Loss: 16.62\n"
     ]
    },
    {
     "name": "stderr",
     "output_type": "stream",
     "text": [
      "Loss: 15.76: 100%|███████████████████████████████████████████████████████████████████████████████████████████████████████| 132/132 [00:45<00:00,  2.90it/s]\n"
     ]
    },
    {
     "name": "stdout",
     "output_type": "stream",
     "text": [
      "Epoch 13 average Loss: 16.25\n"
     ]
    },
    {
     "name": "stderr",
     "output_type": "stream",
     "text": [
      "Loss: 15.44: 100%|███████████████████████████████████████████████████████████████████████████████████████████████████████| 132/132 [00:44<00:00,  2.96it/s]\n"
     ]
    },
    {
     "name": "stdout",
     "output_type": "stream",
     "text": [
      "Epoch 14 average Loss: 16.36\n"
     ]
    },
    {
     "name": "stderr",
     "output_type": "stream",
     "text": [
      "Loss: 16.54: 100%|███████████████████████████████████████████████████████████████████████████████████████████████████████| 132/132 [00:45<00:00,  2.93it/s]\n"
     ]
    },
    {
     "name": "stdout",
     "output_type": "stream",
     "text": [
      "Epoch 15 average Loss: 16.01\n"
     ]
    },
    {
     "name": "stderr",
     "output_type": "stream",
     "text": [
      "Loss: 15.48: 100%|███████████████████████████████████████████████████████████████████████████████████████████████████████| 132/132 [00:45<00:00,  2.93it/s]\n"
     ]
    },
    {
     "name": "stdout",
     "output_type": "stream",
     "text": [
      "Epoch 16 average Loss: 16.13\n"
     ]
    },
    {
     "name": "stderr",
     "output_type": "stream",
     "text": [
      "Loss: 18.14: 100%|███████████████████████████████████████████████████████████████████████████████████████████████████████| 132/132 [00:45<00:00,  2.93it/s]\n"
     ]
    },
    {
     "name": "stdout",
     "output_type": "stream",
     "text": [
      "Epoch 17 average Loss: 15.77\n"
     ]
    },
    {
     "name": "stderr",
     "output_type": "stream",
     "text": [
      "Loss: 18.70: 100%|███████████████████████████████████████████████████████████████████████████████████████████████████████| 132/132 [00:45<00:00,  2.92it/s]\n"
     ]
    },
    {
     "name": "stdout",
     "output_type": "stream",
     "text": [
      "Epoch 18 average Loss: 15.61\n"
     ]
    },
    {
     "name": "stderr",
     "output_type": "stream",
     "text": [
      "Loss: 15.44: 100%|███████████████████████████████████████████████████████████████████████████████████████████████████████| 132/132 [00:45<00:00,  2.91it/s]\n"
     ]
    },
    {
     "name": "stdout",
     "output_type": "stream",
     "text": [
      "Epoch 19 average Loss: 15.31\n"
     ]
    },
    {
     "name": "stderr",
     "output_type": "stream",
     "text": [
      "Loss: 15.82: 100%|███████████████████████████████████████████████████████████████████████████████████████████████████████| 132/132 [00:45<00:00,  2.92it/s]\n"
     ]
    },
    {
     "name": "stdout",
     "output_type": "stream",
     "text": [
      "Epoch 20 average Loss: 15.24\n"
     ]
    },
    {
     "name": "stderr",
     "output_type": "stream",
     "text": [
      "Loss: 18.29: 100%|███████████████████████████████████████████████████████████████████████████████████████████████████████| 132/132 [00:45<00:00,  2.93it/s]\n"
     ]
    },
    {
     "name": "stdout",
     "output_type": "stream",
     "text": [
      "Epoch 21 average Loss: 14.96\n"
     ]
    },
    {
     "name": "stderr",
     "output_type": "stream",
     "text": [
      "Loss: 15.03: 100%|███████████████████████████████████████████████████████████████████████████████████████████████████████| 132/132 [00:44<00:00,  2.93it/s]\n"
     ]
    },
    {
     "name": "stdout",
     "output_type": "stream",
     "text": [
      "Epoch 22 average Loss: 14.93\n"
     ]
    },
    {
     "name": "stderr",
     "output_type": "stream",
     "text": [
      "Loss: 18.78: 100%|███████████████████████████████████████████████████████████████████████████████████████████████████████| 132/132 [00:45<00:00,  2.90it/s]\n"
     ]
    },
    {
     "name": "stdout",
     "output_type": "stream",
     "text": [
      "Epoch 23 average Loss: 14.90\n"
     ]
    },
    {
     "name": "stderr",
     "output_type": "stream",
     "text": [
      "Loss: 16.40: 100%|███████████████████████████████████████████████████████████████████████████████████████████████████████| 132/132 [00:44<00:00,  2.93it/s]\n"
     ]
    },
    {
     "name": "stdout",
     "output_type": "stream",
     "text": [
      "Epoch 24 average Loss: 14.65\n"
     ]
    },
    {
     "name": "stderr",
     "output_type": "stream",
     "text": [
      "Loss: 17.50: 100%|███████████████████████████████████████████████████████████████████████████████████████████████████████| 132/132 [00:44<00:00,  2.93it/s]\n"
     ]
    },
    {
     "name": "stdout",
     "output_type": "stream",
     "text": [
      "Epoch 25 average Loss: 14.66\n"
     ]
    },
    {
     "name": "stderr",
     "output_type": "stream",
     "text": [
      "Loss: 15.35: 100%|███████████████████████████████████████████████████████████████████████████████████████████████████████| 132/132 [00:45<00:00,  2.90it/s]\n"
     ]
    },
    {
     "name": "stdout",
     "output_type": "stream",
     "text": [
      "Epoch 26 average Loss: 14.79\n"
     ]
    },
    {
     "name": "stderr",
     "output_type": "stream",
     "text": [
      "Loss: 14.18: 100%|███████████████████████████████████████████████████████████████████████████████████████████████████████| 132/132 [00:45<00:00,  2.90it/s]\n"
     ]
    },
    {
     "name": "stdout",
     "output_type": "stream",
     "text": [
      "Epoch 27 average Loss: 14.67\n"
     ]
    },
    {
     "name": "stderr",
     "output_type": "stream",
     "text": [
      "Loss: 13.88: 100%|███████████████████████████████████████████████████████████████████████████████████████████████████████| 132/132 [00:45<00:00,  2.93it/s]\n"
     ]
    },
    {
     "name": "stdout",
     "output_type": "stream",
     "text": [
      "Epoch 28 average Loss: 14.82\n"
     ]
    },
    {
     "name": "stderr",
     "output_type": "stream",
     "text": [
      "Loss: 17.76: 100%|███████████████████████████████████████████████████████████████████████████████████████████████████████| 132/132 [00:44<00:00,  2.93it/s]\n"
     ]
    },
    {
     "name": "stdout",
     "output_type": "stream",
     "text": [
      "Epoch 29 average Loss: 14.62\n"
     ]
    },
    {
     "name": "stderr",
     "output_type": "stream",
     "text": [
      "Loss: 14.46: 100%|███████████████████████████████████████████████████████████████████████████████████████████████████████| 132/132 [00:45<00:00,  2.89it/s]\n"
     ]
    },
    {
     "name": "stdout",
     "output_type": "stream",
     "text": [
      "Epoch 30 average Loss: 14.28\n"
     ]
    },
    {
     "name": "stderr",
     "output_type": "stream",
     "text": [
      "INFO - train - Completed after 0:24:10\n"
     ]
    },
    {
     "data": {
      "text/plain": [
       "<sacred.run.Run at 0x2aaab4dca940>"
      ]
     },
     "execution_count": 16,
     "metadata": {},
     "output_type": "execute_result"
    }
   ],
   "source": [
    "# # Train on all data\n",
    "# train_continuous_model.train_ex.run(\n",
    "#     \"train_label_guided_model\",\n",
    "#     config_updates={\n",
    "#         \"model\": label_guided_model_2,\n",
    "#         \"sde\": sde,\n",
    "#         \"data_loader\": data_loader_015,\n",
    "#         \"class_to_class_index\": lambda c: class_to_class_index_tensor(c, classes_015),\n",
    "#         \"num_epochs\": 30,\n",
    "#         \"learning_rate\": 0.001,\n",
    "#         \"t_limit\": t_limit,\n",
    "#         \"loss_weighting_type\": \"empirical_norm\"\n",
    "#     }\n",
    "# )"
   ]
  },
  {
   "cell_type": "code",
   "execution_count": 31,
   "id": "4a336ac8",
   "metadata": {},
   "outputs": [],
   "source": [
    "label_guided_model_2 = model_util.load_model(\n",
    "    scrna_ae.LabelGuidedResNet,\n",
    "    os.path.join(models_base_path, \"extension/6/last_ckpt.pth\")\n",
    ").to(DEVICE)"
   ]
  },
  {
   "cell_type": "code",
   "execution_count": 37,
   "id": "c22f8480",
   "metadata": {},
   "outputs": [
    {
     "name": "stdout",
     "output_type": "stream",
     "text": [
      "Sampling class: 0\n",
      "Sampling class: 1\n",
      "Sampling class: 5\n"
     ]
    }
   ],
   "source": [
    "linear_samples = {}\n",
    "for class_to_sample in classes_015:\n",
    "    print(\"Sampling class: %s\" % class_to_sample)\n",
    "    sample = generate.generate_continuous_label_guided_samples(\n",
    "        label_guided_model_2, sde, class_to_sample,\n",
    "        lambda c: class_to_class_index_tensor(c, classes_015),\n",
    "        sampler=\"pc\", t_limit=t_limit, num_samples=1000\n",
    "    )\n",
    "    # linear_samples[class_to_sample] = dataset_015.decode_batch(sample).cpu().numpy()\n",
    "    linear_samples[class_to_sample] = sample.cpu().numpy()"
   ]
  },
  {
   "cell_type": "markdown",
   "id": "77ff25fc",
   "metadata": {},
   "source": [
    "#### Compute FIDs"
   ]
  },
  {
   "cell_type": "code",
   "execution_count": 13,
   "id": "2b853d4e",
   "metadata": {},
   "outputs": [
    {
     "name": "stdout",
     "output_type": "stream",
     "text": [
      "Sampling class: 0\n",
      "Sampling class: 1\n",
      "Sampling class: 5\n"
     ]
    }
   ],
   "source": [
    "# Sample digits from the original dataset\n",
    "true_samples = {}\n",
    "for class_to_sample in classes_015:\n",
    "    print(\"Sampling class: %s\" % class_to_sample)\n",
    "    inds = np.where(dataset_015.cell_cluster == class_to_sample)[0]\n",
    "    sample_inds = np.random.choice(inds, size=1000, replace=False)\n",
    "    samples = dataset_015.encode_batch(torch.tensor(dataset_015.data[sample_inds], device=DEVICE)).cpu().numpy()\n",
    "    # samples = dataset_015.data[sample_inds]\n",
    "    true_samples[class_to_sample] = samples"
   ]
  },
  {
   "cell_type": "code",
   "execution_count": 48,
   "id": "c3e69366",
   "metadata": {},
   "outputs": [],
   "source": [
    "branched_fids = {}\n",
    "linear_fids = {}\n",
    "linear_newonly_fids = {}\n",
    "\n",
    "for c in branched_samples.keys():\n",
    "    branched_fids[c] = fid.compute_fid(branched_samples[c], true_samples[c])\n",
    "for c in linear_samples.keys():\n",
    "    linear_fids[c] = fid.compute_fid(linear_samples[c], true_samples[c])\n",
    "for c in linear_samples_newonly.keys():\n",
    "    linear_newonly_fids[c] = fid.compute_fid(linear_samples_newonly[c], true_samples[c])"
   ]
  },
  {
   "cell_type": "code",
   "execution_count": 49,
   "id": "add8ed5c",
   "metadata": {},
   "outputs": [
    {
     "name": "stdout",
     "output_type": "stream",
     "text": [
      "{0: 1332.232965549725, 1: 1455.5579325521771, 5: 837.9917418850766}\n",
      "{0: 1539.2042545417362, 1: 1501.6442270218297, 5: 1543.5487609656486}\n",
      "{0: 1904.5301412384847, 1: 1898.953339182816, 5: 1876.229466558976}\n"
     ]
    }
   ],
   "source": [
    "print(branched_fids)\n",
    "print(linear_fids)\n",
    "print(linear_newonly_fids)"
   ]
  }
 ],
 "metadata": {
  "kernelspec": {
   "display_name": "Python 3 (ipykernel)",
   "language": "python",
   "name": "python3"
  },
  "language_info": {
   "codemirror_mode": {
    "name": "ipython",
    "version": 3
   },
   "file_extension": ".py",
   "mimetype": "text/x-python",
   "name": "python",
   "nbconvert_exporter": "python",
   "pygments_lexer": "ipython3",
   "version": "3.9.12"
  }
 },
 "nbformat": 4,
 "nbformat_minor": 5
}
