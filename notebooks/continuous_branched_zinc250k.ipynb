{
 "cells": [
  {
   "cell_type": "code",
   "execution_count": 1,
   "id": "4ce6f328",
   "metadata": {},
   "outputs": [],
   "source": [
    "%load_ext autoreload\n",
    "%autoreload 2\n",
    "import sys\n",
    "sys.path.append(\"../src\")\n",
    "import feature.molecule_dataset as molecule_dataset\n",
    "import model.sdes as sdes\n",
    "import model.generate as generate\n",
    "import model.graph_net as graph_net\n",
    "import model.util as model_util\n",
    "import torch\n",
    "import numpy as np\n",
    "import scipy.stats\n",
    "import matplotlib.pyplot as plt\n",
    "import os\n",
    "import networkx as nx"
   ]
  },
  {
   "cell_type": "code",
   "execution_count": 2,
   "id": "df22d86f",
   "metadata": {},
   "outputs": [],
   "source": [
    "# Define device\n",
    "if torch.cuda.is_available():\n",
    "    DEVICE = \"cuda\"\n",
    "else:\n",
    "    DEVICE = \"cpu\""
   ]
  },
  {
   "cell_type": "markdown",
   "id": "dfe528ba",
   "metadata": {},
   "source": [
    "### Define the branches and create the data loader"
   ]
  },
  {
   "cell_type": "code",
   "execution_count": 3,
   "id": "e395da27",
   "metadata": {},
   "outputs": [],
   "source": [
    "classes = [0]\n",
    "branch_defs = [((0,), 0, 1)]"
   ]
  },
  {
   "cell_type": "code",
   "execution_count": 4,
   "id": "951177e3",
   "metadata": {},
   "outputs": [],
   "source": [
    "dataset = molecule_dataset.ZINCDataset()\n",
    "\n",
    "# Limit classes\n",
    "inds = np.isin(dataset.target, classes)\n",
    "dataset.all_smiles = dataset.all_smiles[inds]\n",
    "dataset.target = dataset.target[inds]\n",
    "\n",
    "data_loader = torch.utils.data.DataLoader(dataset, batch_size=1024, shuffle=True, num_workers=0)\n",
    "input_shape = next(iter(data_loader))[0].shape[1:]"
   ]
  },
  {
   "cell_type": "code",
   "execution_count": 5,
   "id": "5b6d3f84",
   "metadata": {},
   "outputs": [],
   "source": [
    "# TODO: this is currently rather inefficient; a decision-tree-style structure\n",
    "# would be better\n",
    "\n",
    "def class_time_to_branch(c, t):\n",
    "    \"\"\"\n",
    "    Given a class and a time (both scalars), return the\n",
    "    corresponding branch index.\n",
    "    \"\"\"\n",
    "    for i, branch_def in enumerate(branch_defs):\n",
    "        if c in branch_def[0] and t >= branch_def[1] and t <= branch_def[2]:\n",
    "            return i\n",
    "    raise ValueError(\"Undefined class and time\")\n",
    "        \n",
    "def class_time_to_branch_tensor(c, t):\n",
    "    \"\"\"\n",
    "    Given tensors of classes and a times, return the\n",
    "    corresponding branch indices as a tensor.\n",
    "    \"\"\"\n",
    "    return torch.tensor([\n",
    "        class_time_to_branch(c_i, t_i) for c_i, t_i in zip(c, t)\n",
    "    ], device=DEVICE)"
   ]
  },
  {
   "cell_type": "code",
   "execution_count": 6,
   "id": "06f75886",
   "metadata": {},
   "outputs": [],
   "source": [
    "class VarianceExplodingSDE(sdes.SDE):\n",
    "    \n",
    "    def __init__(self, sigma_min, sigma_max, input_shape):\n",
    "        super().__init__(input_shape)\n",
    "        \n",
    "        self.sigma_min = torch.tensor(sigma_min).to(DEVICE)\n",
    "        self.sigma_max = torch.tensor(sigma_max).to(DEVICE)\n",
    "        \n",
    "    def drift_coef_func(self, xt, t):\n",
    "        return torch.zeros_like(xt)\n",
    "    \n",
    "    def diff_coef_func(self, xt, t):\n",
    "        return self._inflate_dims(\n",
    "            self.sigma_min * torch.pow(self.sigma_max / self.sigma_min, t) *\n",
    "            torch.sqrt(2 * torch.log(self.sigma_max / self.sigma_min))\n",
    "        )\n",
    "\n",
    "    def forward(self, x0, t, return_score=True):\n",
    "        z = torch.normal(torch.zeros_like(x0), torch.ones_like(x0))\n",
    "        std = self.sigma_min * torch.pow(self.sigma_max / self.sigma_min, t)\n",
    "        std = self._inflate_dims(std)\n",
    "        xt = x0 + (std * z)\n",
    "        if return_score:\n",
    "            score = -z / std\n",
    "            return xt, score\n",
    "        else:\n",
    "            return xt\n",
    "        \n",
    "    def mean_score_mag(self, t):\n",
    "        variance = torch.square(self.sigma_min * torch.pow(self.sigma_max / self.sigma_min, t))\n",
    "        return 1 / variance\n",
    "        \n",
    "    def sample_prior(self, num_sample, t):\n",
    "        shape = torch.Size([num_sample]) + torch.Size(self.input_shape)\n",
    "        z = torch.normal(torch.zeros(shape).to(DEVICE), torch.ones(shape).to(DEVICE))\n",
    "        std = self.sigma_min * torch.pow(self.sigma_max / self.sigma_min, t)\n",
    "        return z * self._inflate_dims(std)"
   ]
  },
  {
   "cell_type": "code",
   "execution_count": 7,
   "id": "2fde8c8c",
   "metadata": {},
   "outputs": [],
   "source": [
    "class AXJointSDE(sdes.SDE):\n",
    "    \n",
    "    def __init__(self, vp_beta_0, vp_beta_1, ve_sigma_min, ve_sigma_max, input_shape):\n",
    "        super().__init__(input_shape)\n",
    "        \n",
    "        self.adj_shape = (input_shape[0], input_shape[0])\n",
    "        self.x_shape = (input_shape[0], input_shape[1] - input_shape[0])\n",
    "        \n",
    "        self.adj_sde = VarianceExplodingSDE(ve_sigma_min, ve_sigma_max, self.adj_shape)\n",
    "        self.x_sde = sdes.VariancePreservingSDE(vp_beta_0, vp_beta_1, self.x_shape)\n",
    "        \n",
    "    def forward(self, x0, t, return_score=True):\n",
    "        adj_x0, x_x0 = x0[:, :, :x0.shape[1]], x0[:, :, x0.shape[1]:]\n",
    "        if return_score:\n",
    "            adj_xt, adj_score = self.adj_sde.forward(adj_x0, t, True)\n",
    "            x_xt, x_score = self.x_sde.forward(x_x0, t, True)\n",
    "            xt = torch.cat([adj_xt, x_xt], dim=2)\n",
    "            score = torch.cat([adj_score, x_score], dim=2)\n",
    "            return xt, score\n",
    "        else:\n",
    "            adj_xt = self.adj_sde.forward(adj_x0, t, False)\n",
    "            x_xt = self.x_sde.forward(x_x0, t, False)\n",
    "            return torch.cat([adj_xt, x_xt], dim=2)\n",
    "        \n",
    "    def mean_score_mag(self, t):\n",
    "        adj_mag = self._inflate_dims(self.adj_sde.mean_score_mag(t))\n",
    "        x_mag = self._inflate_dims(self.x_sde.mean_score_mag(t))\n",
    "        adj_mag = torch.tile(adj_mag, (1,) + self.adj_shape)\n",
    "        x_mag = torch.tile(x_mag, (1,) + self.x_shape)\n",
    "        return torch.cat([adj_mag, x_mag], dim=2)\n",
    "        \n",
    "    def sample_prior(self, num_samples, t):\n",
    "        adj_prior = self.adj_sde.sample_prior(num_samples, t)\n",
    "        x_prior = self.x_sde.sample_prior(num_samples, t)\n",
    "        return torch.cat([adj_prior, x_prior], dim=2)"
   ]
  },
  {
   "cell_type": "code",
   "execution_count": 8,
   "id": "ab1a36e2",
   "metadata": {},
   "outputs": [],
   "source": [
    "# Create the SDE and model\n",
    "sde = AXJointSDE(0.1, 1, 0.2, 1, input_shape)\n",
    "\n",
    "t_limit = 1\n",
    "\n",
    "model = graph_net.GraphJointNetwork(len(branch_defs), t_limit).to(DEVICE)\n",
    "\n",
    "os.environ[\"MODEL_DIR\"] = \"/gstore/data/resbioai/tsenga5/branched_diffusion/models/trained_models/zinc250k_continuous_nobranch\"\n",
    "import model.train_continuous_model as train_continuous_model  # Import this AFTER setting environment"
   ]
  },
  {
   "cell_type": "markdown",
   "id": "3c07baf0",
   "metadata": {},
   "source": [
    "### Show the forward-diffusion process"
   ]
  },
  {
   "cell_type": "code",
   "execution_count": 9,
   "id": "1efc4143",
   "metadata": {},
   "outputs": [
    {
     "data": {
      "image/png": "[encoded data removed]",
      "text/plain": [
       "<Figure size 1440x576 with 1 Axes>"
      ]
     },
     "metadata": {
      "needs_background": "light"
     },
     "output_type": "display_data"
    }
   ],
   "source": [
    "# Show the transformation of the distribution of data to the prior distribution\n",
    "x0, _ = next(iter(data_loader))\n",
    "x0 = x0.cpu().numpy()\n",
    "x0 = torch.tensor(x0).to(DEVICE)\n",
    "\n",
    "time_steps = 30\n",
    "\n",
    "all_t = np.linspace(0, t_limit, time_steps)\n",
    "all_xt = np.empty((len(all_t),) + x0.shape)\n",
    "for t_i, t in enumerate(all_t):\n",
    "    xt, _ = sde.forward(x0, torch.ones(len(x0)).to(DEVICE) * t)\n",
    "    all_xt[t_i] = xt.cpu().numpy()\n",
    "\n",
    "fig, ax = plt.subplots(figsize=(20, 8))\n",
    "cmap = plt.get_cmap(\"magma\")\n",
    "for t_i in range(len(all_t)):\n",
    "    ax.hist(np.ravel(all_xt[t_i]), bins=60, histtype=\"step\", color=cmap(t_i / len(all_t)), alpha=0.5, density=True)\n",
    "prior = sde.sample_prior(len(x0), torch.ones(len(x0)).to(DEVICE) * t).cpu().numpy()\n",
    "ax.hist(np.ravel(prior), bins=60, histtype=\"step\", color=\"blue\", linewidth=2, density=True, label=\"Sampled prior\")\n",
    "ax.set_xlabel(\"x\")\n",
    "ax.set_ylabel(\"p(x)\")\n",
    "ax.set_title(\"Evolution of p(x) over forward SDE\")\n",
    "ax.set_ylim((0, 3))\n",
    "plt.legend()\n",
    "plt.show()"
   ]
  },
  {
   "cell_type": "markdown",
   "id": "7f19ff6b",
   "metadata": {},
   "source": [
    "### Train the model"
   ]
  },
  {
   "cell_type": "code",
   "execution_count": 10,
   "id": "77f13f9c",
   "metadata": {
    "scrolled": true
   },
   "outputs": [
    {
     "name": "stderr",
     "output_type": "stream",
     "text": [
      "WARNING - root - Added new config entry: \"class_time_to_branch_index\"\n",
      "WARNING - root - Added new config entry: \"data_loader\"\n",
      "WARNING - root - Added new config entry: \"loss_weighting_type\"\n",
      "WARNING - root - Added new config entry: \"model\"\n",
      "WARNING - root - Added new config entry: \"sde\"\n",
      "WARNING - root - Added new config entry: \"t_limit\"\n",
      "INFO - train - Running command 'train_branched_model'\n",
      "INFO - train - Started run with ID \"6\"\n",
      "Loss: 169.08: 100%|██████████████████████████████████| 1949/1949 [19:36<00:00,  1.66it/s]\n"
     ]
    },
    {
     "name": "stdout",
     "output_type": "stream",
     "text": [
      "Epoch 1 average Loss: 267.45\n"
     ]
    },
    {
     "name": "stderr",
     "output_type": "stream",
     "text": [
      "Loss: 133.95: 100%|██████████████████████████████████| 1949/1949 [19:36<00:00,  1.66it/s]\n"
     ]
    },
    {
     "name": "stdout",
     "output_type": "stream",
     "text": [
      "Epoch 2 average Loss: 149.99\n"
     ]
    },
    {
     "name": "stderr",
     "output_type": "stream",
     "text": [
      "Loss: 143.21: 100%|██████████████████████████████████| 1949/1949 [19:38<00:00,  1.65it/s]\n"
     ]
    },
    {
     "name": "stdout",
     "output_type": "stream",
     "text": [
      "Epoch 3 average Loss: 137.57\n"
     ]
    },
    {
     "name": "stderr",
     "output_type": "stream",
     "text": [
      "Loss: 126.67: 100%|██████████████████████████████████| 1949/1949 [19:40<00:00,  1.65it/s]\n"
     ]
    },
    {
     "name": "stdout",
     "output_type": "stream",
     "text": [
      "Epoch 4 average Loss: 131.27\n"
     ]
    },
    {
     "name": "stderr",
     "output_type": "stream",
     "text": [
      "Loss: 133.90: 100%|██████████████████████████████████| 1949/1949 [19:41<00:00,  1.65it/s]\n"
     ]
    },
    {
     "name": "stdout",
     "output_type": "stream",
     "text": [
      "Epoch 5 average Loss: 126.12\n"
     ]
    },
    {
     "name": "stderr",
     "output_type": "stream",
     "text": [
      "Loss: 124.98: 100%|██████████████████████████████████| 1949/1949 [19:40<00:00,  1.65it/s]\n"
     ]
    },
    {
     "name": "stdout",
     "output_type": "stream",
     "text": [
      "Epoch 6 average Loss: 123.67\n"
     ]
    },
    {
     "name": "stderr",
     "output_type": "stream",
     "text": [
      "Loss: 140.24: 100%|██████████████████████████████████| 1949/1949 [19:37<00:00,  1.65it/s]\n"
     ]
    },
    {
     "name": "stdout",
     "output_type": "stream",
     "text": [
      "Epoch 7 average Loss: 120.97\n"
     ]
    },
    {
     "name": "stderr",
     "output_type": "stream",
     "text": [
      "Loss: 106.73: 100%|██████████████████████████████████| 1949/1949 [19:18<00:00,  1.68it/s]\n"
     ]
    },
    {
     "name": "stdout",
     "output_type": "stream",
     "text": [
      "Epoch 8 average Loss: 119.14\n"
     ]
    },
    {
     "name": "stderr",
     "output_type": "stream",
     "text": [
      "Loss: 112.80: 100%|██████████████████████████████████| 1949/1949 [19:08<00:00,  1.70it/s]\n"
     ]
    },
    {
     "name": "stdout",
     "output_type": "stream",
     "text": [
      "Epoch 9 average Loss: 117.60\n"
     ]
    },
    {
     "name": "stderr",
     "output_type": "stream",
     "text": [
      "Loss: 119.89: 100%|██████████████████████████████████| 1949/1949 [18:42<00:00,  1.74it/s]\n"
     ]
    },
    {
     "name": "stdout",
     "output_type": "stream",
     "text": [
      "Epoch 10 average Loss: 116.23\n"
     ]
    },
    {
     "name": "stderr",
     "output_type": "stream",
     "text": [
      "Loss: 114.49: 100%|██████████████████████████████████| 1949/1949 [19:01<00:00,  1.71it/s]\n"
     ]
    },
    {
     "name": "stdout",
     "output_type": "stream",
     "text": [
      "Epoch 11 average Loss: 115.55\n"
     ]
    },
    {
     "name": "stderr",
     "output_type": "stream",
     "text": [
      "Loss: 103.70:  26%|█████████▏                         | 513/1949 [05:09<14:27,  1.66it/s]\n",
      "WARNING - train - Aborted after 3:39:00!\n"
     ]
    },
    {
     "ename": "KeyboardInterrupt",
     "evalue": "",
     "output_type": "error",
     "traceback": [
      "\u001b[0;31m---------------------------------------------------------------------------\u001b[0m",
      "\u001b[0;31mKeyboardInterrupt\u001b[0m                         Traceback (most recent call last)",
      "Input \u001b[0;32mIn [10]\u001b[0m, in \u001b[0;36m<cell line: 1>\u001b[0;34m()\u001b[0m\n\u001b[0;32m----> 1\u001b[0m \u001b[43mtrain_continuous_model\u001b[49m\u001b[38;5;241;43m.\u001b[39;49m\u001b[43mtrain_ex\u001b[49m\u001b[38;5;241;43m.\u001b[39;49m\u001b[43mrun\u001b[49m\u001b[43m(\u001b[49m\n\u001b[1;32m      2\u001b[0m \u001b[43m    \u001b[49m\u001b[38;5;124;43m\"\u001b[39;49m\u001b[38;5;124;43mtrain_branched_model\u001b[39;49m\u001b[38;5;124;43m\"\u001b[39;49m\u001b[43m,\u001b[49m\n\u001b[1;32m      3\u001b[0m \u001b[43m    \u001b[49m\u001b[43mconfig_updates\u001b[49m\u001b[38;5;241;43m=\u001b[39;49m\u001b[43m{\u001b[49m\n\u001b[1;32m      4\u001b[0m \u001b[43m        \u001b[49m\u001b[38;5;124;43m\"\u001b[39;49m\u001b[38;5;124;43mmodel\u001b[39;49m\u001b[38;5;124;43m\"\u001b[39;49m\u001b[43m:\u001b[49m\u001b[43m \u001b[49m\u001b[43mmodel\u001b[49m\u001b[43m,\u001b[49m\n\u001b[1;32m      5\u001b[0m \u001b[43m        \u001b[49m\u001b[38;5;124;43m\"\u001b[39;49m\u001b[38;5;124;43msde\u001b[39;49m\u001b[38;5;124;43m\"\u001b[39;49m\u001b[43m:\u001b[49m\u001b[43m \u001b[49m\u001b[43msde\u001b[49m\u001b[43m,\u001b[49m\n\u001b[1;32m      6\u001b[0m \u001b[43m        \u001b[49m\u001b[38;5;124;43m\"\u001b[39;49m\u001b[38;5;124;43mdata_loader\u001b[39;49m\u001b[38;5;124;43m\"\u001b[39;49m\u001b[43m:\u001b[49m\u001b[43m \u001b[49m\u001b[43mdata_loader\u001b[49m\u001b[43m,\u001b[49m\n\u001b[1;32m      7\u001b[0m \u001b[43m        \u001b[49m\u001b[38;5;124;43m\"\u001b[39;49m\u001b[38;5;124;43mclass_time_to_branch_index\u001b[39;49m\u001b[38;5;124;43m\"\u001b[39;49m\u001b[43m:\u001b[49m\u001b[43m \u001b[49m\u001b[43mclass_time_to_branch_tensor\u001b[49m\u001b[43m,\u001b[49m\n\u001b[1;32m      8\u001b[0m \u001b[43m        \u001b[49m\u001b[38;5;124;43m\"\u001b[39;49m\u001b[38;5;124;43mnum_epochs\u001b[39;49m\u001b[38;5;124;43m\"\u001b[39;49m\u001b[43m:\u001b[49m\u001b[43m \u001b[49m\u001b[38;5;241;43m50\u001b[39;49m\u001b[43m,\u001b[49m\n\u001b[1;32m      9\u001b[0m \u001b[43m        \u001b[49m\u001b[38;5;124;43m\"\u001b[39;49m\u001b[38;5;124;43mlearning_rate\u001b[39;49m\u001b[38;5;124;43m\"\u001b[39;49m\u001b[43m:\u001b[49m\u001b[43m \u001b[49m\u001b[38;5;241;43m1e-3\u001b[39;49m\u001b[43m,\u001b[49m\n\u001b[1;32m     10\u001b[0m \u001b[43m        \u001b[49m\u001b[38;5;124;43m\"\u001b[39;49m\u001b[38;5;124;43mt_limit\u001b[39;49m\u001b[38;5;124;43m\"\u001b[39;49m\u001b[43m:\u001b[49m\u001b[43m \u001b[49m\u001b[43mt_limit\u001b[49m\u001b[43m,\u001b[49m\n\u001b[1;32m     11\u001b[0m \u001b[43m        \u001b[49m\u001b[38;5;124;43m\"\u001b[39;49m\u001b[38;5;124;43mloss_weighting_type\u001b[39;49m\u001b[38;5;124;43m\"\u001b[39;49m\u001b[43m:\u001b[49m\u001b[43m \u001b[49m\u001b[38;5;124;43m\"\u001b[39;49m\u001b[38;5;124;43mempirical_norm\u001b[39;49m\u001b[38;5;124;43m\"\u001b[39;49m\n\u001b[1;32m     12\u001b[0m \u001b[43m    \u001b[49m\u001b[43m}\u001b[49m\n\u001b[1;32m     13\u001b[0m \u001b[43m)\u001b[49m\n",
      "File \u001b[0;32m~/miniconda3/envs/graph-diff/lib/python3.8/site-packages/sacred/experiment.py:276\u001b[0m, in \u001b[0;36mExperiment.run\u001b[0;34m(self, command_name, config_updates, named_configs, info, meta_info, options)\u001b[0m\n\u001b[1;32m    246\u001b[0m \u001b[38;5;124;03m\"\"\"\u001b[39;00m\n\u001b[1;32m    247\u001b[0m \u001b[38;5;124;03mRun the main function of the experiment or a given command.\u001b[39;00m\n\u001b[1;32m    248\u001b[0m \n\u001b[0;32m   (...)\u001b[0m\n\u001b[1;32m    271\u001b[0m \u001b[38;5;124;03mThe Run object corresponding to the finished run.\u001b[39;00m\n\u001b[1;32m    272\u001b[0m \u001b[38;5;124;03m\"\"\"\u001b[39;00m\n\u001b[1;32m    273\u001b[0m run \u001b[38;5;241m=\u001b[39m \u001b[38;5;28mself\u001b[39m\u001b[38;5;241m.\u001b[39m_create_run(\n\u001b[1;32m    274\u001b[0m     command_name, config_updates, named_configs, info, meta_info, options\n\u001b[1;32m    275\u001b[0m )\n\u001b[0;32m--> 276\u001b[0m \u001b[43mrun\u001b[49m\u001b[43m(\u001b[49m\u001b[43m)\u001b[49m\n\u001b[1;32m    277\u001b[0m \u001b[38;5;28;01mreturn\u001b[39;00m run\n",
      "File \u001b[0;32m~/miniconda3/envs/graph-diff/lib/python3.8/site-packages/sacred/run.py:238\u001b[0m, in \u001b[0;36mRun.__call__\u001b[0;34m(self, *args)\u001b[0m\n\u001b[1;32m    236\u001b[0m \u001b[38;5;28mself\u001b[39m\u001b[38;5;241m.\u001b[39m_start_heartbeat()\n\u001b[1;32m    237\u001b[0m \u001b[38;5;28mself\u001b[39m\u001b[38;5;241m.\u001b[39m_execute_pre_run_hooks()\n\u001b[0;32m--> 238\u001b[0m \u001b[38;5;28mself\u001b[39m\u001b[38;5;241m.\u001b[39mresult \u001b[38;5;241m=\u001b[39m \u001b[38;5;28;43mself\u001b[39;49m\u001b[38;5;241;43m.\u001b[39;49m\u001b[43mmain_function\u001b[49m\u001b[43m(\u001b[49m\u001b[38;5;241;43m*\u001b[39;49m\u001b[43margs\u001b[49m\u001b[43m)\u001b[49m\n\u001b[1;32m    239\u001b[0m \u001b[38;5;28mself\u001b[39m\u001b[38;5;241m.\u001b[39m_execute_post_run_hooks()\n\u001b[1;32m    240\u001b[0m \u001b[38;5;28;01mif\u001b[39;00m \u001b[38;5;28mself\u001b[39m\u001b[38;5;241m.\u001b[39mresult \u001b[38;5;129;01mis\u001b[39;00m \u001b[38;5;129;01mnot\u001b[39;00m \u001b[38;5;28;01mNone\u001b[39;00m:\n",
      "File \u001b[0;32m~/miniconda3/envs/graph-diff/lib/python3.8/site-packages/sacred/config/captured_function.py:42\u001b[0m, in \u001b[0;36mcaptured_function\u001b[0;34m(wrapped, instance, args, kwargs)\u001b[0m\n\u001b[1;32m     40\u001b[0m \u001b[38;5;66;03m# =================== run actual function =================================\u001b[39;00m\n\u001b[1;32m     41\u001b[0m \u001b[38;5;28;01mwith\u001b[39;00m ConfigError\u001b[38;5;241m.\u001b[39mtrack(wrapped\u001b[38;5;241m.\u001b[39mconfig, wrapped\u001b[38;5;241m.\u001b[39mprefix):\n\u001b[0;32m---> 42\u001b[0m     result \u001b[38;5;241m=\u001b[39m \u001b[43mwrapped\u001b[49m\u001b[43m(\u001b[49m\u001b[38;5;241;43m*\u001b[39;49m\u001b[43margs\u001b[49m\u001b[43m,\u001b[49m\u001b[43m \u001b[49m\u001b[38;5;241;43m*\u001b[39;49m\u001b[38;5;241;43m*\u001b[39;49m\u001b[43mkwargs\u001b[49m\u001b[43m)\u001b[49m\n\u001b[1;32m     43\u001b[0m \u001b[38;5;66;03m# =========================================================================\u001b[39;00m\n\u001b[1;32m     44\u001b[0m \u001b[38;5;28;01mif\u001b[39;00m wrapped\u001b[38;5;241m.\u001b[39mlogger \u001b[38;5;129;01mis\u001b[39;00m \u001b[38;5;129;01mnot\u001b[39;00m \u001b[38;5;28;01mNone\u001b[39;00m:\n",
      "File \u001b[0;32m~/branched_diffusion/notebooks/../src/model/train_continuous_model.py:161\u001b[0m, in \u001b[0;36mtrain_branched_model\u001b[0;34m(model, sde, data_loader, class_time_to_branch_index, num_epochs, learning_rate, _run, loss_weighting_type, t_limit)\u001b[0m\n\u001b[1;32m    153\u001b[0m \u001b[38;5;129m@train_ex\u001b[39m\u001b[38;5;241m.\u001b[39mcommand\n\u001b[1;32m    154\u001b[0m \u001b[38;5;28;01mdef\u001b[39;00m \u001b[38;5;21mtrain_branched_model\u001b[39m(\n\u001b[1;32m    155\u001b[0m \tmodel, sde, data_loader, class_time_to_branch_index, num_epochs,\n\u001b[1;32m    156\u001b[0m \tlearning_rate, _run, loss_weighting_type\u001b[38;5;241m=\u001b[39m\u001b[38;5;124m\"\u001b[39m\u001b[38;5;124mempirical_norm\u001b[39m\u001b[38;5;124m\"\u001b[39m, t_limit\u001b[38;5;241m=\u001b[39m\u001b[38;5;241m1\u001b[39m\n\u001b[1;32m    157\u001b[0m ):\n\u001b[1;32m    158\u001b[0m \t\u001b[38;5;124;03m\"\"\"\u001b[39;00m\n\u001b[1;32m    159\u001b[0m \u001b[38;5;124;03m\tWrapper for `train_model`.\u001b[39;00m\n\u001b[1;32m    160\u001b[0m \u001b[38;5;124;03m\t\"\"\"\u001b[39;00m\n\u001b[0;32m--> 161\u001b[0m \t\u001b[43mtrain_model\u001b[49m\u001b[43m(\u001b[49m\n\u001b[1;32m    162\u001b[0m \u001b[43m\t\t\u001b[49m\u001b[43mmodel\u001b[49m\u001b[43m,\u001b[49m\u001b[43m \u001b[49m\u001b[43msde\u001b[49m\u001b[43m,\u001b[49m\u001b[43m \u001b[49m\u001b[43mdata_loader\u001b[49m\u001b[43m,\u001b[49m\u001b[43m \u001b[49m\u001b[38;5;124;43m\"\u001b[39;49m\u001b[38;5;124;43mbranched\u001b[39;49m\u001b[38;5;124;43m\"\u001b[39;49m\u001b[43m,\u001b[49m\u001b[43m \u001b[49m\u001b[43mclass_time_to_branch_index\u001b[49m\u001b[43m,\u001b[49m\n\u001b[1;32m    163\u001b[0m \u001b[43m\t\t\u001b[49m\u001b[43mnum_epochs\u001b[49m\u001b[43m,\u001b[49m\u001b[43m \u001b[49m\u001b[43mlearning_rate\u001b[49m\u001b[43m,\u001b[49m\u001b[43m \u001b[49m\u001b[43m_run\u001b[49m\u001b[43m,\u001b[49m\n\u001b[1;32m    164\u001b[0m \u001b[43m\t\t\u001b[49m\u001b[43mloss_weighting_type\u001b[49m\u001b[38;5;241;43m=\u001b[39;49m\u001b[43mloss_weighting_type\u001b[49m\u001b[43m,\u001b[49m\u001b[43m \u001b[49m\u001b[43mt_limit\u001b[49m\u001b[38;5;241;43m=\u001b[39;49m\u001b[43mt_limit\u001b[49m\n\u001b[1;32m    165\u001b[0m \u001b[43m\t\u001b[49m\u001b[43m)\u001b[49m\n",
      "File \u001b[0;32m~/miniconda3/envs/graph-diff/lib/python3.8/site-packages/sacred/config/captured_function.py:42\u001b[0m, in \u001b[0;36mcaptured_function\u001b[0;34m(wrapped, instance, args, kwargs)\u001b[0m\n\u001b[1;32m     40\u001b[0m \u001b[38;5;66;03m# =================== run actual function =================================\u001b[39;00m\n\u001b[1;32m     41\u001b[0m \u001b[38;5;28;01mwith\u001b[39;00m ConfigError\u001b[38;5;241m.\u001b[39mtrack(wrapped\u001b[38;5;241m.\u001b[39mconfig, wrapped\u001b[38;5;241m.\u001b[39mprefix):\n\u001b[0;32m---> 42\u001b[0m     result \u001b[38;5;241m=\u001b[39m \u001b[43mwrapped\u001b[49m\u001b[43m(\u001b[49m\u001b[38;5;241;43m*\u001b[39;49m\u001b[43margs\u001b[49m\u001b[43m,\u001b[49m\u001b[43m \u001b[49m\u001b[38;5;241;43m*\u001b[39;49m\u001b[38;5;241;43m*\u001b[39;49m\u001b[43mkwargs\u001b[49m\u001b[43m)\u001b[49m\n\u001b[1;32m     43\u001b[0m \u001b[38;5;66;03m# =========================================================================\u001b[39;00m\n\u001b[1;32m     44\u001b[0m \u001b[38;5;28;01mif\u001b[39;00m wrapped\u001b[38;5;241m.\u001b[39mlogger \u001b[38;5;129;01mis\u001b[39;00m \u001b[38;5;129;01mnot\u001b[39;00m \u001b[38;5;28;01mNone\u001b[39;00m:\n",
      "File \u001b[0;32m~/branched_diffusion/notebooks/../src/model/train_continuous_model.py:127\u001b[0m, in \u001b[0;36mtrain_model\u001b[0;34m(model, sde, data_loader, model_type, class_mapper, num_epochs, learning_rate, _run, loss_weighting_type, weight_func, t_limit)\u001b[0m\n\u001b[1;32m    124\u001b[0m \t\u001b[38;5;28;01mcontinue\u001b[39;00m\n\u001b[1;32m    126\u001b[0m optim\u001b[38;5;241m.\u001b[39mzero_grad()\n\u001b[0;32m--> 127\u001b[0m \u001b[43mloss\u001b[49m\u001b[38;5;241;43m.\u001b[39;49m\u001b[43mbackward\u001b[49m\u001b[43m(\u001b[49m\u001b[43m)\u001b[49m\n\u001b[1;32m    128\u001b[0m torch\u001b[38;5;241m.\u001b[39mnn\u001b[38;5;241m.\u001b[39mutils\u001b[38;5;241m.\u001b[39mclip_grad_norm_(model\u001b[38;5;241m.\u001b[39mparameters(), \u001b[38;5;241m1\u001b[39m)\n\u001b[1;32m    129\u001b[0m optim\u001b[38;5;241m.\u001b[39mstep()\n",
      "File \u001b[0;32m~/miniconda3/envs/graph-diff/lib/python3.8/site-packages/torch/_tensor.py:363\u001b[0m, in \u001b[0;36mTensor.backward\u001b[0;34m(self, gradient, retain_graph, create_graph, inputs)\u001b[0m\n\u001b[1;32m    354\u001b[0m \u001b[38;5;28;01mif\u001b[39;00m has_torch_function_unary(\u001b[38;5;28mself\u001b[39m):\n\u001b[1;32m    355\u001b[0m     \u001b[38;5;28;01mreturn\u001b[39;00m handle_torch_function(\n\u001b[1;32m    356\u001b[0m         Tensor\u001b[38;5;241m.\u001b[39mbackward,\n\u001b[1;32m    357\u001b[0m         (\u001b[38;5;28mself\u001b[39m,),\n\u001b[0;32m   (...)\u001b[0m\n\u001b[1;32m    361\u001b[0m         create_graph\u001b[38;5;241m=\u001b[39mcreate_graph,\n\u001b[1;32m    362\u001b[0m         inputs\u001b[38;5;241m=\u001b[39minputs)\n\u001b[0;32m--> 363\u001b[0m \u001b[43mtorch\u001b[49m\u001b[38;5;241;43m.\u001b[39;49m\u001b[43mautograd\u001b[49m\u001b[38;5;241;43m.\u001b[39;49m\u001b[43mbackward\u001b[49m\u001b[43m(\u001b[49m\u001b[38;5;28;43mself\u001b[39;49m\u001b[43m,\u001b[49m\u001b[43m \u001b[49m\u001b[43mgradient\u001b[49m\u001b[43m,\u001b[49m\u001b[43m \u001b[49m\u001b[43mretain_graph\u001b[49m\u001b[43m,\u001b[49m\u001b[43m \u001b[49m\u001b[43mcreate_graph\u001b[49m\u001b[43m,\u001b[49m\u001b[43m \u001b[49m\u001b[43minputs\u001b[49m\u001b[38;5;241;43m=\u001b[39;49m\u001b[43minputs\u001b[49m\u001b[43m)\u001b[49m\n",
      "File \u001b[0;32m~/miniconda3/envs/graph-diff/lib/python3.8/site-packages/torch/autograd/__init__.py:173\u001b[0m, in \u001b[0;36mbackward\u001b[0;34m(tensors, grad_tensors, retain_graph, create_graph, grad_variables, inputs)\u001b[0m\n\u001b[1;32m    168\u001b[0m     retain_graph \u001b[38;5;241m=\u001b[39m create_graph\n\u001b[1;32m    170\u001b[0m \u001b[38;5;66;03m# The reason we repeat same the comment below is that\u001b[39;00m\n\u001b[1;32m    171\u001b[0m \u001b[38;5;66;03m# some Python versions print out the first line of a multi-line function\u001b[39;00m\n\u001b[1;32m    172\u001b[0m \u001b[38;5;66;03m# calls in the traceback and some print out the last line\u001b[39;00m\n\u001b[0;32m--> 173\u001b[0m \u001b[43mVariable\u001b[49m\u001b[38;5;241;43m.\u001b[39;49m\u001b[43m_execution_engine\u001b[49m\u001b[38;5;241;43m.\u001b[39;49m\u001b[43mrun_backward\u001b[49m\u001b[43m(\u001b[49m\u001b[43m  \u001b[49m\u001b[38;5;66;43;03m# Calls into the C++ engine to run the backward pass\u001b[39;49;00m\n\u001b[1;32m    174\u001b[0m \u001b[43m    \u001b[49m\u001b[43mtensors\u001b[49m\u001b[43m,\u001b[49m\u001b[43m \u001b[49m\u001b[43mgrad_tensors_\u001b[49m\u001b[43m,\u001b[49m\u001b[43m \u001b[49m\u001b[43mretain_graph\u001b[49m\u001b[43m,\u001b[49m\u001b[43m \u001b[49m\u001b[43mcreate_graph\u001b[49m\u001b[43m,\u001b[49m\u001b[43m \u001b[49m\u001b[43minputs\u001b[49m\u001b[43m,\u001b[49m\n\u001b[1;32m    175\u001b[0m \u001b[43m    \u001b[49m\u001b[43mallow_unreachable\u001b[49m\u001b[38;5;241;43m=\u001b[39;49m\u001b[38;5;28;43;01mTrue\u001b[39;49;00m\u001b[43m,\u001b[49m\u001b[43m \u001b[49m\u001b[43maccumulate_grad\u001b[49m\u001b[38;5;241;43m=\u001b[39;49m\u001b[38;5;28;43;01mTrue\u001b[39;49;00m\u001b[43m)\u001b[49m\n",
      "\u001b[0;31mKeyboardInterrupt\u001b[0m: "
     ]
    }
   ],
   "source": [
    "train_continuous_model.train_ex.run(\n",
    "    \"train_branched_model\",\n",
    "    config_updates={\n",
    "        \"model\": model,\n",
    "        \"sde\": sde,\n",
    "        \"data_loader\": data_loader,\n",
    "        \"class_time_to_branch_index\": class_time_to_branch_tensor,\n",
    "        \"num_epochs\": 50,\n",
    "        \"learning_rate\": 1e-3,\n",
    "        \"t_limit\": t_limit,\n",
    "        \"loss_weighting_type\": \"empirical_norm\"\n",
    "    }\n",
    ")"
   ]
  },
  {
   "cell_type": "markdown",
   "id": "71f84775",
   "metadata": {},
   "source": [
    "### Show generated distributions"
   ]
  },
  {
   "cell_type": "code",
   "execution_count": 11,
   "id": "38538cd4",
   "metadata": {},
   "outputs": [],
   "source": [
    "ATOM_COLORS = {\n",
    "    \"C\": \"gray\",\n",
    "    \"O\": \"lightcoral\",\n",
    "    \"N\": \"royalblue\"\n",
    "}\n",
    "ATOM_SYMBOLS = [\"C\", \"N\", \"O\", \"F\", \"S\", \"Cl\", \"Br\", \"I\", \"P\"]\n",
    "\n",
    "def plot_molecule(mol_graph):\n",
    "    colors, symbols = [], {}\n",
    "    for node in mol_graph.nodes():\n",
    "        symbol_index = np.where(mol_graph.nodes[node][\"feats\"])[0][0]\n",
    "        symbol = ATOM_SYMBOLS[symbol_index]\n",
    "        try:\n",
    "            colors.append(ATOM_COLORS[symbol])\n",
    "        except KeyError:\n",
    "            colors.append(\"violet\")\n",
    "        symbols[node] = symbol\n",
    "    nx.draw(\n",
    "        mol_graph,\n",
    "        pos=nx.nx_pydot.graphviz_layout(mol_graph),\n",
    "        labels=symbols,\n",
    "        with_labels=True,\n",
    "        node_color=colors,\n",
    "        node_size=500\n",
    "    )\n",
    "    plt.show()"
   ]
  },
  {
   "cell_type": "code",
   "execution_count": 12,
   "id": "6726f308",
   "metadata": {},
   "outputs": [
    {
     "name": "stderr",
     "output_type": "stream",
     "text": [
      "100%|████████████████████████████████████████████████| 1000/1000 [02:17<00:00,  7.30it/s]\n"
     ]
    }
   ],
   "source": [
    "samples = {}\n",
    "for class_to_sample in classes:\n",
    "    sample = generate.generate_continuous_branched_samples(\n",
    "        model, sde, class_to_sample, class_time_to_branch_tensor,\n",
    "        sampler=\"pc\", t_limit=t_limit, num_steps=1000, verbose=True\n",
    "    ).cpu().numpy()\n",
    "    samples[class_to_sample] = sample"
   ]
  },
  {
   "cell_type": "code",
   "execution_count": 13,
   "id": "4be96b21",
   "metadata": {},
   "outputs": [],
   "source": [
    "# Convert to NetworkX graphs\n",
    "graph_samples = {}\n",
    "for class_to_sample in classes:\n",
    "    samps = samples[class_to_sample]\n",
    "    s = samps.shape[1]\n",
    "    adjs, xs = samps[:, :, :s], samps[:, :, s:]\n",
    "    for i in range(len(samps)):\n",
    "        adj, x = adjs[i], xs[i]"
   ]
  },
  {
   "cell_type": "code",
   "execution_count": 14,
   "id": "43da98e2",
   "metadata": {},
   "outputs": [
    {
     "data": {
      "image/png": "[encoded data removed]",
      "text/plain": [
       "<Figure size 432x288 with 2 Axes>"
      ]
     },
     "metadata": {
      "needs_background": "light"
     },
     "output_type": "display_data"
    }
   ],
   "source": [
    "fig, ax = plt.subplots(nrows=2)\n",
    "ax[0].hist(np.ravel(adjs), bins=np.linspace(-1, 5, 50), density=True)\n",
    "ax[1].hist(np.ravel(xs), bins=50, density=True)\n",
    "ax[0].set_title(\"A\")\n",
    "ax[1].set_title(\"X\")\n",
    "fig.tight_layout()\n",
    "plt.show()"
   ]
  },
  {
   "cell_type": "code",
   "execution_count": null,
   "id": "700087ca",
   "metadata": {},
   "outputs": [],
   "source": [
    "# # Plot some randomly generated graphs\n",
    "# for i, g in enumerate(graphs[:20]):\n",
    "#     print(i)\n",
    "#     plot_molecule(g)"
   ]
  },
  {
   "cell_type": "code",
   "execution_count": 15,
   "id": "969be3fd",
   "metadata": {},
   "outputs": [],
   "source": [
    "data, y = next(iter(data_loader))\n",
    "adj, x = data[:, :, :data.shape[1]], data[:, :, data.shape[1]:]"
   ]
  },
  {
   "cell_type": "code",
   "execution_count": 21,
   "id": "7af36017",
   "metadata": {},
   "outputs": [
    {
     "data": {
      "text/plain": [
       "tensor([1., 1., 1., 1., 1., 1., 1., 1., 1., 1., 1., 1., 1., 1., 1., 1., 1., 1.,\n",
       "        1., 1., 1., 1., 1., 1., 0., 0., 0., 0., 0., 0., 0., 0., 0., 0., 0., 0.,\n",
       "        0., 0.], device='cuda:0')"
      ]
     },
     "execution_count": 21,
     "metadata": {},
     "output_type": "execute_result"
    }
   ],
   "source": [
    "graph_net.node_flags(adj)[1]"
   ]
  }
 ],
 "metadata": {
  "kernelspec": {
   "display_name": "Python 3 (ipykernel)",
   "language": "python",
   "name": "python3"
  },
  "language_info": {
   "codemirror_mode": {
    "name": "ipython",
    "version": 3
   },
   "file_extension": ".py",
   "mimetype": "text/x-python",
   "name": "python",
   "nbconvert_exporter": "python",
   "pygments_lexer": "ipython3",
   "version": "3.8.13"
  }
 },
 "nbformat": 4,
 "nbformat_minor": 5
}
