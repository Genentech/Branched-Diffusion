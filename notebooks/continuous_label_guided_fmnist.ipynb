{
 "cells": [
  {
   "cell_type": "code",
   "execution_count": null,
   "id": "4ce6f328",
   "metadata": {},
   "outputs": [],
   "source": [
    "%load_ext autoreload\n",
    "%autoreload 2\n",
    "import sys\n",
    "sys.path.append(\"../src\")\n",
    "import model.sdes as sdes\n",
    "import model.generate as generate\n",
    "import model.image_unet as image_unet\n",
    "import model.util as model_util\n",
    "from plot.plot import plot_mnist_digits\n",
    "import torch\n",
    "import torchvision\n",
    "import numpy as np\n",
    "import scipy.ndimage\n",
    "import matplotlib.pyplot as plt\n",
    "import os"
   ]
  },
  {
   "cell_type": "code",
   "execution_count": null,
   "id": "df22d86f",
   "metadata": {},
   "outputs": [],
   "source": [
    "# Define device\n",
    "if torch.cuda.is_available():\n",
    "    DEVICE = \"cuda\"\n",
    "else:\n",
    "    DEVICE = \"cpu\""
   ]
  },
  {
   "cell_type": "markdown",
   "id": "dfe528ba",
   "metadata": {},
   "source": [
    "### Define the classes and create the data loader"
   ]
  },
  {
   "cell_type": "code",
   "execution_count": null,
   "id": "e395da27",
   "metadata": {},
   "outputs": [],
   "source": [
    "classes = list(range(10))\n",
    "\n",
    "dataset = torchvision.datasets.FashionMNIST(\n",
    "    \"/gstore/data/resbioai/tsenga5/datasets\", train=True, transform=(lambda img: (np.asarray(img)[None] / 256 * 2) - 1)\n",
    ")\n",
    "\n",
    "# Limit classes\n",
    "inds = np.isin(dataset.targets, classes)\n",
    "dataset.data = dataset.data[inds]\n",
    "dataset.targets = dataset.targets[inds]\n",
    "\n",
    "data_loader = torch.utils.data.DataLoader(dataset, batch_size=128, shuffle=True, num_workers=2)\n",
    "input_shape = next(iter(data_loader))[0].shape[1:]"
   ]
  },
  {
   "cell_type": "code",
   "execution_count": null,
   "id": "a0612f24",
   "metadata": {},
   "outputs": [],
   "source": [
    "def class_to_class_index_tensor(c):\n",
    "    \"\"\"\n",
    "    Given a tensor of classes, return the corresponding class indices\n",
    "    as a tensor.\n",
    "    \"\"\"\n",
    "    return torch.argmax(\n",
    "        (c[:, None] == torch.tensor(classes, device=c.device)).int(), dim=1\n",
    "    ).to(DEVICE)"
   ]
  },
  {
   "cell_type": "markdown",
   "id": "bdcebba8",
   "metadata": {},
   "source": [
    "### Create the model"
   ]
  },
  {
   "cell_type": "code",
   "execution_count": null,
   "id": "ab1a36e2",
   "metadata": {},
   "outputs": [],
   "source": [
    "# Create the SDE and model\n",
    "sde = sdes.VariancePreservingSDE(0.1, 20, input_shape)\n",
    "\n",
    "t_limit = 1\n",
    "model = image_unet.LabelGuidedMNISTUNetTimeConcat(\n",
    "    len(classes) + 1, t_limit=t_limit\n",
    "    # Add 1 here to prepare for adding a new digit class later\n",
    ").to(DEVICE)\n",
    "\n",
    "os.environ[\"MODEL_DIR\"] = \"/gstore/data/resbioai/tsenga5/branched_diffusion/models/trained_models/fmnist_continuous_labelguided\"\n",
    "\n",
    "import model.train_continuous_model as train_continuous_model  # Import this AFTER setting environment"
   ]
  },
  {
   "cell_type": "markdown",
   "id": "3c07baf0",
   "metadata": {},
   "source": [
    "### Show the forward-diffusion process"
   ]
  },
  {
   "cell_type": "code",
   "execution_count": null,
   "id": "1efc4143",
   "metadata": {},
   "outputs": [],
   "source": [
    "# Show some images after running the SDE forward for different times\n",
    "time_steps = 4\n",
    "\n",
    "x0, _ = next(iter(data_loader))\n",
    "x0 = x0.cpu().numpy()\n",
    "\n",
    "plot_mnist_digits(x0, grid_size=(10, 1), title=\"t = 0\")\n",
    "x0 = torch.tensor(x0).to(DEVICE)\n",
    "for t in np.linspace(0.01, t_limit, time_steps):\n",
    "    xt, score = sde.forward(x0, torch.full(x0.shape[:1], t).to(DEVICE))\n",
    "    plot_mnist_digits(xt.cpu().numpy(), grid_size=(10, 1), title=(\"t = %.2f\" % t))\n",
    "    \n",
    "# Show the transformation of the distribution of data to the prior distribution\n",
    "time_steps = 30\n",
    "\n",
    "all_t = np.linspace(0, t_limit, time_steps)\n",
    "all_xt = np.empty((len(all_t),) + x0.shape)\n",
    "for t_i, t in enumerate(all_t):\n",
    "    xt, _ = sde.forward(x0, torch.ones(len(x0)).to(DEVICE) * t)\n",
    "    all_xt[t_i] = xt.cpu().numpy()\n",
    "\n",
    "fig, ax = plt.subplots(figsize=(20, 8))\n",
    "cmap = plt.get_cmap(\"magma\")\n",
    "for t_i in range(len(all_t)):\n",
    "    ax.hist(np.ravel(all_xt[t_i]), bins=60, histtype=\"step\", color=cmap(t_i / len(all_t)), alpha=0.5, density=True)\n",
    "prior = sde.sample_prior(len(x0), torch.ones(len(x0)).to(DEVICE) * t).cpu().numpy()\n",
    "ax.hist(np.ravel(prior), bins=60, histtype=\"step\", color=\"blue\", linewidth=2, density=True, label=\"Sampled prior\")\n",
    "ax.set_xlabel(\"x\")\n",
    "ax.set_ylabel(\"p(x)\")\n",
    "ax.set_title(\"Evolution of p(x) over forward SDE\")\n",
    "ax.set_ylim((0, 3))\n",
    "plt.legend()\n",
    "plt.show()"
   ]
  },
  {
   "cell_type": "markdown",
   "id": "7f19ff6b",
   "metadata": {},
   "source": [
    "### Train the model"
   ]
  },
  {
   "cell_type": "code",
   "execution_count": null,
   "id": "77f13f9c",
   "metadata": {
    "scrolled": true
   },
   "outputs": [],
   "source": [
    "train_continuous_model.train_ex.run(\n",
    "    \"train_label_guided_model\",\n",
    "    config_updates={\n",
    "        \"model\": model,\n",
    "        \"sde\": sde,\n",
    "        \"data_loader\": data_loader,\n",
    "        \"class_to_class_index\": class_to_class_index_tensor,\n",
    "        \"num_epochs\": 30,\n",
    "        \"learning_rate\": 0.001,\n",
    "        \"t_limit\": t_limit,\n",
    "        \"loss_weighting_type\": \"empirical_norm\"\n",
    "    }\n",
    ")"
   ]
  },
  {
   "cell_type": "markdown",
   "id": "71f84775",
   "metadata": {},
   "source": [
    "### Show generated digits"
   ]
  },
  {
   "cell_type": "code",
   "execution_count": null,
   "id": "c05e3c7c",
   "metadata": {},
   "outputs": [],
   "source": [
    "for class_to_sample in classes:\n",
    "    print(\"Sampling class: %s\" % class_to_sample)\n",
    "    samples = generate.generate_continuous_label_guided_samples(\n",
    "        model, sde, class_to_sample, class_to_class_index_tensor,\n",
    "        sampler=\"pc\", t_limit=t_limit\n",
    "    )\n",
    "    plot_mnist_digits(samples.cpu().numpy(), grid_size=(10, 1), title=None)"
   ]
  }
 ],
 "metadata": {
  "kernelspec": {
   "display_name": "Python 3 (ipykernel)",
   "language": "python",
   "name": "python3"
  },
  "language_info": {
   "codemirror_mode": {
    "name": "ipython",
    "version": 3
   },
   "file_extension": ".py",
   "mimetype": "text/x-python",
   "name": "python",
   "nbconvert_exporter": "python",
   "pygments_lexer": "ipython3",
   "version": "3.9.12"
  }
 },
 "nbformat": 4,
 "nbformat_minor": 5
}
