{
 "cells": [
  {
   "cell_type": "code",
   "execution_count": 1,
   "id": "4ce6f328",
   "metadata": {},
   "outputs": [],
   "source": [
    "%load_ext autoreload\n",
    "%autoreload 2\n",
    "import sys\n",
    "sys.path.append(\"../../src\")\n",
    "import model.sdes as sdes\n",
    "import model.generate as generate\n",
    "import model.table_dnn as table_dnn\n",
    "import model.util as model_util\n",
    "from plot.plot import plot_mnist_digits\n",
    "from analysis.fid import compute_fid\n",
    "import torch\n",
    "import torchvision\n",
    "import numpy as np\n",
    "import scipy.stats\n",
    "import matplotlib.pyplot as plt\n",
    "import matplotlib.font_manager as font_manager\n",
    "import os"
   ]
  },
  {
   "cell_type": "code",
   "execution_count": 2,
   "id": "e68a485d",
   "metadata": {},
   "outputs": [],
   "source": [
    "# Plotting defaults\n",
    "font_list = font_manager.findSystemFonts(fontpaths=[\"/gstore/home/tsenga5/modules/fonts\"])\n",
    "for font in font_list:\n",
    "    font_manager.fontManager.addfont(font)\n",
    "plot_params = {\n",
    "    \"figure.titlesize\": 22,\n",
    "    \"axes.titlesize\": 22,\n",
    "    \"axes.labelsize\": 20,\n",
    "    \"legend.fontsize\": 18,\n",
    "    \"font.size\": 13,\n",
    "    \"xtick.labelsize\": 16,\n",
    "    \"ytick.labelsize\": 16,\n",
    "    \"font.family\": \"Roboto\",\n",
    "    \"font.weight\": \"bold\",\n",
    "    \"svg.fonttype\": \"none\"\n",
    "}\n",
    "plt.rcParams.update(plot_params)"
   ]
  },
  {
   "cell_type": "code",
   "execution_count": 3,
   "id": "df22d86f",
   "metadata": {},
   "outputs": [],
   "source": [
    "# Define device\n",
    "if torch.cuda.is_available():\n",
    "    DEVICE = \"cuda\"\n",
    "else:\n",
    "    DEVICE = \"cpu\""
   ]
  },
  {
   "cell_type": "markdown",
   "id": "9896c40d",
   "metadata": {},
   "source": [
    "### Define constants and paths"
   ]
  },
  {
   "cell_type": "code",
   "execution_count": 4,
   "id": "7cca45dc",
   "metadata": {},
   "outputs": [],
   "source": [
    "models_base_path = \"/gstore/data/resbioai/tsenga5/branched_diffusion/models/trained_models/\"\n",
    "\n",
    "branched_model_path = os.path.join(models_base_path, \"letters_continuous_allletters/2/epoch_300_ckpt.pth\")\n",
    "label_guided_model_path = os.path.join(models_base_path, \"letters_continuous_allletters_labelguided/1/epoch_100_ckpt.pth\")"
   ]
  },
  {
   "cell_type": "code",
   "execution_count": 5,
   "id": "255b2c6b",
   "metadata": {},
   "outputs": [],
   "source": [
    "# Define the branches\n",
    "letters = list(\"ABCDEFGHIJKLMNOPQRSTUVWXYZ\")\n",
    "class_to_letter = dict(enumerate(letters))\n",
    "letter_to_class = {v : k for k, v in class_to_letter.items()}\n",
    "\n",
    "classes = [letter_to_class[l] for l in letters]\n",
    "branch_defs = [(('A', 'B', 'C', 'D', 'E', 'F', 'G', 'H', 'I', 'J', 'K', 'L', 'M', 'N', 'O', 'P', 'Q', 'R', 'S', 'T', 'U', 'V', 'W', 'X', 'Y', 'Z'), 0.5235235235235235, 1), (('A', 'B', 'C', 'D', 'E', 'F', 'G', 'H', 'I', 'J', 'K', 'L', 'M', 'N', 'O', 'P', 'Q', 'R', 'S', 'T', 'U', 'V', 'X', 'Y', 'Z'), 0.5165165165165165, 0.5235235235235235), (('B', 'C', 'D', 'E', 'F', 'G', 'H', 'I', 'J', 'K', 'L', 'M', 'N', 'O', 'P', 'Q', 'R', 'S', 'T', 'U', 'V', 'X', 'Y', 'Z'), 0.5115115115115115, 0.5165165165165165), (('B', 'C', 'D', 'E', 'F', 'G', 'H', 'I', 'J', 'K', 'M', 'N', 'O', 'P', 'Q', 'R', 'S', 'T', 'U', 'V', 'X', 'Y', 'Z'), 0.4944944944944945, 0.5115115115115115), (('I', 'J'), 0.4794794794794795, 0.4944944944944945), (('B', 'C', 'D', 'E', 'F', 'G', 'H', 'K', 'M', 'N', 'O', 'P', 'Q', 'R', 'S', 'T', 'U', 'V', 'X', 'Y', 'Z'), 0.4724724724724725, 0.4944944944944945), (('B', 'C', 'D', 'E', 'G', 'H', 'K', 'M', 'N', 'O', 'Q', 'R', 'S', 'U', 'X', 'Z'), 0.45645645645645644, 0.4724724724724725), (('F', 'P', 'T', 'V', 'Y'), 0.4364364364364364, 0.4724724724724725), (('B', 'C', 'D', 'E', 'G', 'H', 'K', 'N', 'O', 'Q', 'R', 'S', 'U', 'X', 'Z'), 0.4174174174174174, 0.45645645645645644), (('B', 'C', 'D', 'E', 'G', 'H', 'K', 'N', 'O', 'Q', 'R', 'S', 'X', 'Z'), 0.4134134134134134, 0.4174174174174174), (('B', 'D', 'G', 'H', 'K', 'N', 'O', 'Q', 'R', 'S', 'X', 'Z'), 0.4094094094094094, 0.4134134134134134), (('F', 'T', 'V', 'Y'), 0.4024024024024024, 0.4364364364364364), (('B', 'D', 'G', 'H', 'K', 'O', 'Q', 'R', 'S', 'X', 'Z'), 0.3863863863863864, 0.4094094094094094), (('B', 'G', 'H', 'K', 'O', 'Q', 'R', 'S', 'X', 'Z'), 0.3813813813813814, 0.3863863863863864), (('B', 'G', 'H', 'O', 'Q', 'R', 'S', 'X', 'Z'), 0.3733733733733734, 0.3813813813813814), (('F', 'T', 'Y'), 0.36036036036036034, 0.4024024024024024), (('C', 'E'), 0.3563563563563564, 0.4134134134134134), (('T', 'Y'), 0.3533533533533533, 0.36036036036036034), (('B', 'R', 'S', 'X', 'Z'), 0.35135135135135137, 0.3733733733733734), (('G', 'H', 'O', 'Q'), 0.34134134134134136, 0.3733733733733734), (('B', 'S', 'X', 'Z'), 0.32232232232232233, 0.35135135135135137), (('B', 'S', 'X'), 0.27627627627627627, 0.32232232232232233), (('G', 'H', 'O'), 0.26426426426426425, 0.34134134134134136), (('G', 'O'), 0.25725725725725723, 0.26426426426426425), (('S', 'X'), 0.15615615615615616, 0.27627627627627627), (('W',), 0, 0.5235235235235235), (('A',), 0, 0.5165165165165165), (('L',), 0, 0.5115115115115115), (('J',), 0, 0.4794794794794795), (('I',), 0, 0.4794794794794795), (('M',), 0, 0.45645645645645644), (('P',), 0, 0.4364364364364364), (('U',), 0, 0.4174174174174174), (('N',), 0, 0.4094094094094094), (('V',), 0, 0.4024024024024024), (('D',), 0, 0.3863863863863864), (('K',), 0, 0.3813813813813814), (('F',), 0, 0.36036036036036034), (('E',), 0, 0.3563563563563564), (('C',), 0, 0.3563563563563564), (('Y',), 0, 0.3533533533533533), (('T',), 0, 0.3533533533533533), (('R',), 0, 0.35135135135135137), (('Q',), 0, 0.34134134134134136), (('Z',), 0, 0.32232232232232233), (('B',), 0, 0.27627627627627627), (('H',), 0, 0.26426426426426425), (('G',), 0, 0.25725725725725723), (('O',), 0, 0.25725725725725723), (('S',), 0, 0.15615615615615616), (('X',), 0, 0.15615615615615616)]\n",
    "\n",
    "branch_defs = [\n",
    "    (tuple(map(lambda l: letter_to_class[l], trip[0])), trip[1], trip[2])\n",
    "    for trip in branch_defs\n",
    "]\n",
    "\n",
    "input_shape = (16,)"
   ]
  },
  {
   "cell_type": "code",
   "execution_count": 6,
   "id": "d0640440",
   "metadata": {},
   "outputs": [],
   "source": [
    "sde = sdes.VariancePreservingSDE(0.1, 20, input_shape)\n",
    "t_limit = 1"
   ]
  },
  {
   "cell_type": "code",
   "execution_count": 7,
   "id": "84e9253f",
   "metadata": {},
   "outputs": [],
   "source": [
    "out_path = \"/gstore/home/tsenga5/branched_diffusion/figures/letters_sample_quality\"\n",
    "\n",
    "os.makedirs(out_path, exist_ok=True)"
   ]
  },
  {
   "cell_type": "markdown",
   "id": "4f058fa4",
   "metadata": {},
   "source": [
    "### Create data loader"
   ]
  },
  {
   "cell_type": "code",
   "execution_count": 8,
   "id": "8ef8d5c7",
   "metadata": {},
   "outputs": [],
   "source": [
    "class LetterDataset(torch.utils.data.Dataset):\n",
    "    def __init__(self):\n",
    "        data_path = \"/gstore/data/resbioai/tsenga5/branched_diffusion/data/letter_recognition/letter-recognition.data\"\n",
    "        \n",
    "        data = []\n",
    "        targets = []\n",
    "        with open(data_path, \"r\") as f:\n",
    "            for line in f:\n",
    "                tokens = line.strip().split(\",\")\n",
    "                targets.append(tokens[0])\n",
    "                data.append(np.array(list(map(int, tokens[1:]))))\n",
    "        self.data = np.stack(data)\n",
    "        self.targets = np.array([letter_to_class[l] for l in targets])\n",
    "        \n",
    "        # Center/normalize the data\n",
    "        self.data = (self.data - np.mean(self.data, axis=0, keepdims=True)) / \\\n",
    "            np.std(self.data, axis=0, keepdims=True)\n",
    "        \n",
    "    def __getitem__(self, index):\n",
    "        return torch.tensor(self.data[index]).float(), self.targets[index]\n",
    "        \n",
    "    def __len__(self):\n",
    "        return len(self.targets)\n",
    "    \n",
    "dataset = LetterDataset()\n",
    "\n",
    "# Limit classes\n",
    "inds = np.isin(dataset.targets, classes)\n",
    "dataset.data = dataset.data[inds]\n",
    "dataset.targets = dataset.targets[inds]\n",
    "\n",
    "data_loader = torch.utils.data.DataLoader(dataset, batch_size=128, shuffle=True, num_workers=2)\n",
    "input_shape = next(iter(data_loader))[0].shape[1:]"
   ]
  },
  {
   "cell_type": "code",
   "execution_count": 9,
   "id": "51fbc829",
   "metadata": {},
   "outputs": [],
   "source": [
    "# TODO: this is currently rather inefficient; a decision-tree-style structure\n",
    "# would be better\n",
    "\n",
    "def class_time_to_branch(c, t):\n",
    "    \"\"\"\n",
    "    Given a class and a time (both scalars), return the\n",
    "    corresponding branch index.\n",
    "    \"\"\"\n",
    "    for i, branch_def in enumerate(branch_defs):\n",
    "        if c in branch_def[0] and t >= branch_def[1] and t <= branch_def[2]:\n",
    "            return i\n",
    "    raise ValueError(\"Undefined class and time\")\n",
    "        \n",
    "def class_time_to_branch_tensor(c, t):\n",
    "    \"\"\"\n",
    "    Given tensors of classes and a times, return the\n",
    "    corresponding branch indices as a tensor.\n",
    "    \"\"\"\n",
    "    return torch.tensor([\n",
    "        class_time_to_branch(c_i, t_i) for c_i, t_i in zip(c, t)\n",
    "    ], device=DEVICE)\n",
    "\n",
    "def class_to_class_index_tensor(c):\n",
    "    \"\"\"\n",
    "    Given a tensor of classes, return the corresponding class indices\n",
    "    as a tensor.\n",
    "    \"\"\"\n",
    "    return torch.argmax(\n",
    "        (c[:, None] == torch.tensor(classes, device=c.device)).int(), dim=1\n",
    "    ).to(DEVICE)"
   ]
  },
  {
   "cell_type": "markdown",
   "id": "c5f55c8b",
   "metadata": {},
   "source": [
    "### Import models"
   ]
  },
  {
   "cell_type": "code",
   "execution_count": 10,
   "id": "efedd4e4",
   "metadata": {},
   "outputs": [],
   "source": [
    "branched_model = model_util.load_model(\n",
    "    table_dnn.MultitaskTabularNet, branched_model_path\n",
    ").to(DEVICE)\n",
    "\n",
    "label_guided_model = model_util.load_model(\n",
    "    table_dnn.LabelGuidedTabularNet, label_guided_model_path\n",
    ").to(DEVICE)"
   ]
  },
  {
   "cell_type": "markdown",
   "id": "82bd65a8",
   "metadata": {},
   "source": [
    "### Sample letters"
   ]
  },
  {
   "cell_type": "code",
   "execution_count": 11,
   "id": "1f7c9fb4",
   "metadata": {},
   "outputs": [
    {
     "name": "stdout",
     "output_type": "stream",
     "text": [
      "Sampling class: 0\n",
      "Sampling class: 1\n",
      "Sampling class: 2\n",
      "Sampling class: 3\n",
      "Sampling class: 4\n",
      "Sampling class: 5\n",
      "Sampling class: 6\n",
      "Sampling class: 7\n",
      "Sampling class: 8\n",
      "Sampling class: 9\n",
      "Sampling class: 10\n",
      "Sampling class: 11\n",
      "Sampling class: 12\n",
      "Sampling class: 13\n",
      "Sampling class: 14\n",
      "Sampling class: 15\n",
      "Sampling class: 16\n",
      "Sampling class: 17\n",
      "Sampling class: 18\n",
      "Sampling class: 19\n",
      "Sampling class: 20\n",
      "Sampling class: 21\n",
      "Sampling class: 22\n",
      "Sampling class: 23\n",
      "Sampling class: 24\n",
      "Sampling class: 25\n"
     ]
    }
   ],
   "source": [
    "# Sample digits of each class from branched model\n",
    "branched_samples = {}\n",
    "for class_to_sample in classes:\n",
    "    print(\"Sampling class: %s\" % class_to_sample)\n",
    "    samples = generate.generate_continuous_branched_samples(\n",
    "        branched_model, sde, class_to_sample, class_time_to_branch_tensor,\n",
    "        sampler=\"pc\", t_limit=t_limit, num_samples=1000\n",
    "    ).cpu().numpy()\n",
    "    branched_samples[class_to_sample] = samples"
   ]
  },
  {
   "cell_type": "code",
   "execution_count": 12,
   "id": "a7395b41",
   "metadata": {},
   "outputs": [],
   "source": [
    "# # Sample digits of each class from label-guided model\n",
    "# label_guided_samples = {}\n",
    "# for class_to_sample in classes:\n",
    "#     print(\"Sampling class: %s\" % class_to_sample)\n",
    "#     samples = generate.generate_continuous_label_guided_samples(\n",
    "#         label_guided_model, sde, class_to_sample, class_to_class_index_tensor,\n",
    "#         sampler=\"pc\", t_limit=t_limit, num_samples=1000\n",
    "#     ).cpu().numpy()\n",
    "#     label_guided_samples[class_to_sample] = samples"
   ]
  },
  {
   "cell_type": "code",
   "execution_count": 19,
   "id": "eb232f52",
   "metadata": {},
   "outputs": [
    {
     "name": "stdout",
     "output_type": "stream",
     "text": [
      "Sampling class: 0\n",
      "Sampling class: 1\n",
      "Sampling class: 2\n",
      "Sampling class: 3\n",
      "Sampling class: 4\n",
      "Sampling class: 5\n",
      "Sampling class: 6\n",
      "Sampling class: 7\n",
      "Sampling class: 8\n",
      "Sampling class: 9\n",
      "Sampling class: 10\n",
      "Sampling class: 11\n",
      "Sampling class: 12\n",
      "Sampling class: 13\n",
      "Sampling class: 14\n",
      "Sampling class: 15\n",
      "Sampling class: 16\n",
      "Sampling class: 17\n",
      "Sampling class: 18\n",
      "Sampling class: 19\n",
      "Sampling class: 20\n",
      "Sampling class: 21\n",
      "Sampling class: 22\n",
      "Sampling class: 23\n",
      "Sampling class: 24\n",
      "Sampling class: 25\n"
     ]
    }
   ],
   "source": [
    "# Sample digits from the original dataset\n",
    "true_samples = {}\n",
    "for class_to_sample in classes:\n",
    "    print(\"Sampling class: %s\" % class_to_sample)\n",
    "    inds = np.where(dataset.targets == class_to_sample)[0]\n",
    "    sample_inds = np.random.choice(inds, size=700, replace=False)\n",
    "    samples = dataset.data[sample_inds]\n",
    "    true_samples[class_to_sample] = samples"
   ]
  },
  {
   "cell_type": "markdown",
   "id": "a5426e43",
   "metadata": {},
   "source": [
    "### Show true/predicted distributions"
   ]
  },
  {
   "cell_type": "code",
   "execution_count": 14,
   "id": "a81c1bab",
   "metadata": {},
   "outputs": [],
   "source": [
    "# # Plot the overall distribution of Wasserstein distance between feature distributions,\n",
    "# # both between true/predicted distributions, and between true predictions\n",
    "# num_features = input_shape[0]\n",
    "# true_pred_dists = {}\n",
    "# true_true_dists = {}\n",
    "# for i in range(num_features):\n",
    "#     for class_to_sample in classes:\n",
    "#         true = true_samples[class_to_sample][:, i]\n",
    "#         generated = branched_samples[class_to_sample][:, i]\n",
    "#         true_pred_dists[(class_to_sample, i)] = scipy.stats.wasserstein_distance(true, generated)\n",
    "    \n",
    "#     for c_i1 in range(len(classes)):\n",
    "#         for c_i2 in range(c_i1):\n",
    "#             c1, c2 = classes[c_i1], classes[c_i2]\n",
    "#             true_1, true_2 = true_samples[c1][:, i], true_samples[c2][:, i]\n",
    "#             true_true_dists[(c1, c2, i)] = scipy.stats.wasserstein_distance(true_1, true_2)\n",
    "        \n",
    "# num_bins = 30\n",
    "# fig, ax = plt.subplots(figsize=(8, 8))\n",
    "# true_pred_vals, true_true_vals = np.array(list(true_pred_dists.values())), np.array(list(true_true_dists.values()))\n",
    "# all_vals = np.concatenate([true_pred_vals, true_true_vals])\n",
    "# bins = np.linspace(np.min(all_vals), np.max(all_vals), num_bins)\n",
    "# ax.hist(true_pred_vals, bins=bins, label=\"True vs generated features\", alpha=0.5, density=True)\n",
    "# ax.hist(true_true_vals, bins=bins, label=\"True vs true features\", alpha=0.5, density=True)\n",
    "# ax.set_title(\"Distribution of Wasserstein distance between features\")\n",
    "# ax.set_xlabel(\"Wasserstein distance\")\n",
    "# plt.show()\n",
    "# fig.savefig(\n",
    "#     os.path.join(out_path, \"letters_feature_distance_all.svg\"),\n",
    "#     format=\"svg\"\n",
    "# )"
   ]
  },
  {
   "cell_type": "code",
   "execution_count": 15,
   "id": "3b2e8092",
   "metadata": {
    "scrolled": true
   },
   "outputs": [],
   "source": [
    "# # Plot some example distributions of all features for certain classes\n",
    "# mean_true_pred_dists = {c : [] for c in classes}\n",
    "# for (c, _), dist in true_pred_dists.items():\n",
    "#     mean_true_pred_dists[c].append(dist)\n",
    "# for c, vals in mean_true_pred_dists.items():\n",
    "#     mean_true_pred_dists[c] = np.mean(vals)\n",
    "    \n",
    "# num_cols = 4\n",
    "# num_rows = int(np.ceil(num_features / num_cols))\n",
    "# num_bins = 30\n",
    "    \n",
    "# for class_to_show in sorted(mean_true_pred_dists.keys(), key=lambda k: mean_true_pred_dists[k])[:3]:\n",
    "#     fig, ax = plt.subplots(ncols=num_cols, nrows=num_rows, figsize=(num_cols * 5, num_rows * 5))\n",
    "#     for i in range(num_features):\n",
    "#         r, c = i // num_cols, i % num_cols\n",
    "#         true = np.ravel(true_samples[class_to_show][:, i])\n",
    "#         generated = np.ravel(branched_samples[class_to_show][:, i])\n",
    "#         all_vals = np.concatenate([true, generated])\n",
    "#         bins = np.linspace(np.min(all_vals), np.max(all_vals), num_bins)\n",
    "#         ax[r][c].hist(true, bins=bins, color=\"royalblue\", label=\"True\", density=True, alpha=0.5)\n",
    "#         ax[r][c].hist(generated, bins=bins, color=\"darkorange\", label=\"Generated\", density=True, alpha=0.5)\n",
    "#         ax[r][c].set_title(\"Feature %d\" % (i + 1))\n",
    "#     ax[0][0].legend()\n",
    "#     fig.suptitle(\"Class %s\" % class_to_letter[class_to_show])\n",
    "#     plt.show()\n",
    "#     fig.savefig(\n",
    "#         os.path.join(out_path, \"letters_feature_distance_%s.svg\" % class_to_letter[class_to_show]),\n",
    "#         format=\"svg\"\n",
    "#     )"
   ]
  },
  {
   "cell_type": "code",
   "execution_count": 16,
   "id": "28b220fb",
   "metadata": {
    "scrolled": true
   },
   "outputs": [],
   "source": [
    "# # Plot some example distributions of specific features for multiple classes\n",
    "# num_bins = 30\n",
    "# for (c1, c2, i), t_t_val in true_true_dists.items():\n",
    "#     p_t_val_1, p_t_val_2 = true_pred_dists[(c1, i)], true_pred_dists[(c2, i)]\n",
    "#     if t_t_val > 2 and p_t_val_1 < 0.2 and p_t_val_2 < 0.2:\n",
    "#         fig, ax = plt.subplots(figsize=(8, 8))\n",
    "#         true_1 = np.ravel(true_samples[c1][:, i])\n",
    "#         generated_1 = np.ravel(branched_samples[c1][:, i])\n",
    "#         true_2 = np.ravel(true_samples[c2][:, i])\n",
    "#         generated_2 = np.ravel(branched_samples[c2][:, i])\n",
    "#         all_vals = np.concatenate([true_1, generated_1, true_2, generated_2])\n",
    "#         bins = np.linspace(np.min(all_vals), np.max(all_vals), num_bins)\n",
    "#         ax.hist(\n",
    "#             true_1, bins=bins, color=\"royalblue\", label=(\"True %s\" % class_to_letter[c1]), density=True, alpha=0.5\n",
    "#         )\n",
    "#         ax.hist(\n",
    "#             generated_1, bins=bins, color=\"blueviolet\", label=(\"Generated %s\" % class_to_letter[c1]), density=True, alpha=0.5\n",
    "#         )\n",
    "#         ax.hist(\n",
    "#             true_2, bins=bins, color=\"darkorange\", label=(\"True %s\" % class_to_letter[c2]), density=True, alpha=0.5\n",
    "#         )\n",
    "#         ax.hist(\n",
    "#             generated_2, bins=bins, color=\"goldenrod\", label=(\"Generated %s\" % class_to_letter[c2]), density=True, alpha=0.5\n",
    "#         )\n",
    "#         ax.set_title(\"Feature %d, %s vs %s\" % (i + 1, class_to_letter[c1], class_to_letter[c2]))\n",
    "#         ax.legend()\n",
    "#         plt.show()\n",
    "#         fig.savefig(\n",
    "#             os.path.join(out_path, \"letters_feature_distance_%s_%s.svg\" % (class_to_letter[c1], class_to_letter[c2])),\n",
    "#             format=\"svg\"\n",
    "#         )"
   ]
  },
  {
   "cell_type": "code",
   "execution_count": 29,
   "id": "ced5bb7f",
   "metadata": {
    "scrolled": false
   },
   "outputs": [
    {
     "data": {
      "image/png": "[encoded data removed]",
      "text/plain": [
       "<Figure size 1440x72 with 1 Axes>"
      ]
     },
     "metadata": {
      "needs_background": "light"
     },
     "output_type": "display_data"
    }
   ],
   "source": [
    "# Show true and predicted correlations between features\n",
    "# true_corrs = np.empty((len(classes), num_features, num_features))\n",
    "# generated_corrs = np.empty((len(classes), num_features, num_features))\n",
    "# for c_i, c in enumerate(classes):\n",
    "#     true = true_samples[c]\n",
    "#     generated = branched_samples[c]\n",
    "#     for i in range(num_features):\n",
    "#         true_corrs[c_i, i, i] = 1\n",
    "#         generated_corrs[c_i, i, i] = 1\n",
    "#         for j in range(i):\n",
    "#             true_corrs[c_i, i, j] = scipy.stats.pearsonr(true[:, i], true[:, j])[0]\n",
    "#             true_corrs[c_i, j, i] = true_corrs[c_i, i, j]\n",
    "#             generated_corrs[c_i, i, j] = scipy.stats.pearsonr(generated[:, i], generated[:, j])[0]\n",
    "#             generated_corrs[c_i, j, i] = generated_corrs[c_i, i, j]\n",
    "            \n",
    "# for c_i in np.argsort(np.mean(np.abs(true_corrs - generated_corrs), axis=(1, 2)))[:26]:\n",
    "#     fig, ax = plt.subplots(ncols=3, figsize=(20, 10))\n",
    "#     ax[0].imshow(true_corrs[c_i], cmap=\"Blues\", vmin=0, vmax=1)\n",
    "#     ax[0].set_title(\"Real correlations\")\n",
    "#     ax[1].imshow(generated_corrs[c_i], cmap=\"Blues\", vmin=0, vmax=1)\n",
    "#     ax[1].set_title(\"Sample correlations\")\n",
    "#     ax[2].imshow(np.abs(true_corrs[c_i] - generated_corrs[c_i]), cmap=\"Blues\", vmin=0, vmax=1)\n",
    "#     ax[2].set_title(\"Absolute difference in correlations\")\n",
    "#     fig.suptitle(\"Class %s\" % class_to_letter[classes[c_i]])\n",
    "#     plt.show()\n",
    "#     fig.savefig(\n",
    "#         os.path.join(out_path, \"letters_feature_corr_%s.svg\" % class_to_letter[classes[c_i]]),\n",
    "#         format=\"svg\"\n",
    "#     )\n",
    "\n",
    "fig, ax = plt.subplots(figsize=(20, 1))\n",
    "ax.imshow(np.vstack((np.linspace(0, 1, 256), np.linspace(0, 1, 256))), aspect=\"auto\", cmap=\"Blues\")\n",
    "ax.set_xticks(np.linspace(0, 256, 11))\n",
    "ax.set_xticklabels([round(x, 1) for x in np.linspace(0, 1, 11)])\n",
    "ax.set_yticks([])\n",
    "plt.show()\n",
    "fig.savefig(\n",
    "    os.path.join(out_path, \"letters_feature_corr_colorbar.svg\"), format=\"svg\"\n",
    ")"
   ]
  },
  {
   "cell_type": "markdown",
   "id": "5206c88c",
   "metadata": {},
   "source": [
    "### Compute FID"
   ]
  },
  {
   "cell_type": "code",
   "execution_count": null,
   "id": "ca83ee3e",
   "metadata": {},
   "outputs": [],
   "source": [
    "# Compute FID scores\n",
    "fid_scores = {}\n",
    "for class_to_sample in classes:\n",
    "    print(\"FID of %d\" % class_to_sample)\n",
    "    branched = branched_samples[class_to_sample]\n",
    "    label_guided = label_guided_samples[class_to_sample]\n",
    "    true = true_samples[class_to_sample]\n",
    "    branched_fid = compute_fid(branched, true)\n",
    "    label_guided_fid = compute_fid(label_guided, true)\n",
    "    fid_scores[class_to_sample] = (branched_fid, label_guided_fid)\n",
    "    print(\"Branched FID: %.4f\" % branched_fid)\n",
    "    print(\"Label-guided FID: %.4f\" % label_guided_fid)"
   ]
  },
  {
   "cell_type": "code",
   "execution_count": null,
   "id": "edc81176",
   "metadata": {},
   "outputs": [],
   "source": [
    "branched_vals, linear_vals = [fid_scores[c][0] for c in classes], [fid_scores[c][1] for c in classes]\n",
    "fig, ax = plt.subplots(figsize=(10, 5))\n",
    "bar_width = 0.4\n",
    "x = np.arange(len(fid_scores))\n",
    "ax.bar(\n",
    "    x, branched_vals, bar_width, label=\"Branched\", color=\"royalblue\"\n",
    ")\n",
    "ax.bar(\n",
    "    x + bar_width, linear_vals, bar_width, label=\"Label-guided (linear)\", color=\"darkorange\"\n",
    ")\n",
    "ax.set_xticks(x + (bar_width / 2), labels=[class_to_letter[c] for c in classes])\n",
    "ax.set_xlabel(\"Letter class\")\n",
    "ax.set_ylabel(\"FID\")\n",
    "ax.set_title(\"Fréchet inception distance between true and generated letters\")\n",
    "ax.legend()\n",
    "plt.show()\n",
    "fig.savefig(\n",
    "    os.path.join(out_path, \"letters_fid.svg\"),\n",
    "    format=\"svg\"\n",
    ")\n",
    "\n",
    "fig, ax = plt.subplots(figsize=(5, 5))\n",
    "ax.scatter(branched_vals, linear_vals)\n",
    "ax.set_xlabel(\"Branched\")\n",
    "ax.set_ylabel(\"Label-guided (linear)\")\n",
    "max_val = np.max(branched_vals + linear_vals)\n",
    "ax.plot((0, max_val), (0, max_val), \"--\")\n",
    "plt.show()"
   ]
  }
 ],
 "metadata": {
  "kernelspec": {
   "display_name": "Python 3 (ipykernel)",
   "language": "python",
   "name": "python3"
  },
  "language_info": {
   "codemirror_mode": {
    "name": "ipython",
    "version": 3
   },
   "file_extension": ".py",
   "mimetype": "text/x-python",
   "name": "python",
   "nbconvert_exporter": "python",
   "pygments_lexer": "ipython3",
   "version": "3.9.12"
  }
 },
 "nbformat": 4,
 "nbformat_minor": 5
}
