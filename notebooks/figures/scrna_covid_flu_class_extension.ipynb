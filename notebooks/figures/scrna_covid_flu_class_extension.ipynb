{
 "cells": [
  {
   "cell_type": "code",
   "execution_count": 1,
   "id": "4ce6f328",
   "metadata": {},
   "outputs": [],
   "source": [
    "%load_ext autoreload\n",
    "%autoreload 2\n",
    "import sys\n",
    "sys.path.append(\"../../src\")\n",
    "import feature.scrna_dataset as scrna_dataset\n",
    "import model.sdes as sdes\n",
    "import model.generate as generate\n",
    "import model.scrna_ae as scrna_ae\n",
    "import model.util as model_util\n",
    "import analysis.fid as fid\n",
    "import torch\n",
    "import numpy as np\n",
    "import matplotlib.pyplot as plt\n",
    "import matplotlib.font_manager as font_manager\n",
    "import os\n",
    "import h5py"
   ]
  },
  {
   "cell_type": "code",
   "execution_count": 2,
   "id": "5f452f18",
   "metadata": {},
   "outputs": [],
   "source": [
    "# Plotting defaults\n",
    "font_list = font_manager.findSystemFonts(fontpaths=[\"/gstore/home/tsenga5/modules/fonts\"])\n",
    "for font in font_list:\n",
    "    font_manager.fontManager.addfont(font)\n",
    "plot_params = {\n",
    "    \"figure.titlesize\": 22,\n",
    "    \"axes.titlesize\": 22,\n",
    "    \"axes.labelsize\": 20,\n",
    "    \"legend.fontsize\": 18,\n",
    "    \"font.size\": 13,\n",
    "    \"xtick.labelsize\": 16,\n",
    "    \"ytick.labelsize\": 16,\n",
    "    \"font.family\": \"Roboto\",\n",
    "    \"font.weight\": \"bold\",\n",
    "    \"svg.fonttype\": \"none\"\n",
    "}\n",
    "plt.rcParams.update(plot_params)"
   ]
  },
  {
   "cell_type": "code",
   "execution_count": 3,
   "id": "df22d86f",
   "metadata": {},
   "outputs": [],
   "source": [
    "# Define device\n",
    "if torch.cuda.is_available():\n",
    "    DEVICE = \"cuda\"\n",
    "else:\n",
    "    DEVICE = \"cpu\""
   ]
  },
  {
   "cell_type": "markdown",
   "id": "6dfb808b",
   "metadata": {},
   "source": [
    "### Define constants and paths"
   ]
  },
  {
   "cell_type": "code",
   "execution_count": 4,
   "id": "c770c048",
   "metadata": {},
   "outputs": [],
   "source": [
    "latent_space = False\n",
    "latent_dim = 200"
   ]
  },
  {
   "cell_type": "code",
   "execution_count": 5,
   "id": "d5c1a69f",
   "metadata": {},
   "outputs": [],
   "source": [
    "data_file = \"/gstore/data/resbioai/tsenga5/branched_diffusion/data/scrna/covid_flu/processed/covid_flu_processed_reduced_genes.h5\"\n",
    "autoencoder_path = \"/gstore/data/resbioai/tsenga5/branched_diffusion/models/trained_models/scrna_vaes/covid_flu/covid_flu_processed_reduced_genes_ldvae_d%d/\" % latent_dim\n",
    "\n",
    "models_base_path = \"/gstore/data/resbioai/tsenga5/branched_diffusion/models/trained_models/scrna_covid_flu_continuous_class_extension\""
   ]
  },
  {
   "cell_type": "code",
   "execution_count": 6,
   "id": "2cb7c2d0",
   "metadata": {},
   "outputs": [],
   "source": [
    "branched_before_model_path = os.path.join(models_base_path, \"scrna_covid_flu_continuous_branched_2classes/1/last_ckpt.pth\")\n",
    "branched_after_model_path = os.path.join(models_base_path, \"extension/1/last_ckpt.pth\")\n",
    "label_guided_before_model_path = os.path.join(models_base_path, \"scrna_covid_flu_continuous_labelguided_2classes/1/last_ckpt.pth\")\n",
    "label_guided_afterone_model_path = os.path.join(models_base_path, \"extension/2/last_ckpt.pth\")\n",
    "label_guided_afterall_model_path = os.path.join(models_base_path, \"extension/4/last_ckpt.pth\")"
   ]
  },
  {
   "cell_type": "code",
   "execution_count": 7,
   "id": "7ee483d6",
   "metadata": {},
   "outputs": [],
   "source": [
    "# Define the branches\n",
    "classes_01 = [0, 1]\n",
    "branch_defs_01 = [((0, 1), 0.5795795795795796, 1), ((0,), 0, 0.5795795795795796), ((1,), 0, 0.5795795795795796)]\n",
    "\n",
    "classes_012 = [0, 1, 5]\n",
    "branch_defs_012 = [((0, 1, 5), 6.786786786786787e-01, 1), ((0, 1), 0.5795795795795796, 0.6786786786786787), ((5,), 0, 0.6786786786786787), ((0,), 0, 0.5795795795795796), ((1,), 0, 0.5795795795795796)]\n",
    "\n",
    "classes_2 = [5]\n",
    "branch_defs_2 = [((5,), 0, 0.6786786786786787)]"
   ]
  },
  {
   "cell_type": "code",
   "execution_count": 8,
   "id": "0364c0a2",
   "metadata": {},
   "outputs": [],
   "source": [
    "out_path = \"/gstore/home/tsenga5/branched_diffusion/figures/scrna_covid_flu_class_extension\"\n",
    "\n",
    "os.makedirs(out_path, exist_ok=True)"
   ]
  },
  {
   "cell_type": "markdown",
   "id": "c77b6452",
   "metadata": {},
   "source": [
    "### Create data loaders"
   ]
  },
  {
   "cell_type": "code",
   "execution_count": 9,
   "id": "98285ad2",
   "metadata": {},
   "outputs": [],
   "source": [
    "dataset_01 = scrna_dataset.SingleCellDataset(data_file, autoencoder_path=(autoencoder_path if latent_space else None))\n",
    "dataset_012 = scrna_dataset.SingleCellDataset(data_file, autoencoder_path=(autoencoder_path if latent_space else None))\n",
    "dataset_2 = scrna_dataset.SingleCellDataset(data_file, autoencoder_path=(autoencoder_path if latent_space else None))\n",
    "\n",
    "# Limit classes\n",
    "inds_01 = np.isin(dataset_01.cell_cluster, classes_01)\n",
    "dataset_01.data = dataset_01.data[inds_01]\n",
    "dataset_01.cell_cluster = dataset_01.cell_cluster[inds_01]\n",
    "inds_012 = np.isin(dataset_012.cell_cluster, classes_012)\n",
    "dataset_012.data = dataset_012.data[inds_012]\n",
    "dataset_012.cell_cluster = dataset_012.cell_cluster[inds_012]\n",
    "inds_2 = np.isin(dataset_2.cell_cluster, classes_2)\n",
    "dataset_2.data = dataset_2.data[inds_2]\n",
    "dataset_2.cell_cluster = dataset_2.cell_cluster[inds_2]\n",
    "\n",
    "data_loader_01 = torch.utils.data.DataLoader(dataset_01, batch_size=128, shuffle=True, num_workers=0)\n",
    "data_loader_012 = torch.utils.data.DataLoader(dataset_012, batch_size=128, shuffle=True, num_workers=0)\n",
    "data_loader_2 = torch.utils.data.DataLoader(dataset_2, batch_size=128, shuffle=True, num_workers=0)\n",
    "input_shape = next(iter(data_loader_01))[0].shape[1:]"
   ]
  },
  {
   "cell_type": "code",
   "execution_count": 10,
   "id": "5be5f5ec",
   "metadata": {},
   "outputs": [],
   "source": [
    "sde = sdes.VariancePreservingSDE(0.1, 5, input_shape)\n",
    "t_limit = 1"
   ]
  },
  {
   "cell_type": "code",
   "execution_count": 11,
   "id": "51fbc829",
   "metadata": {},
   "outputs": [],
   "source": [
    "# TODO: this is currently rather inefficient; a decision-tree-style structure\n",
    "# would be better\n",
    "\n",
    "def class_time_to_branch(c, t, branch_defs):\n",
    "    \"\"\"\n",
    "    Given a class and a time (both scalars), return the\n",
    "    corresponding branch index.\n",
    "    \"\"\"\n",
    "    for i, branch_def in enumerate(branch_defs):\n",
    "        if c in branch_def[0] and t >= branch_def[1] and t <= branch_def[2]:\n",
    "            return i\n",
    "    raise ValueError(\"Undefined class and time\")\n",
    "        \n",
    "def class_time_to_branch_tensor(c, t, branch_defs):\n",
    "    \"\"\"\n",
    "    Given tensors of classes and a times, return the\n",
    "    corresponding branch indices as a tensor.\n",
    "    \"\"\"\n",
    "    return torch.tensor([\n",
    "        class_time_to_branch(c_i, t_i, branch_defs) for c_i, t_i in zip(c, t)\n",
    "    ], device=DEVICE)\n",
    "\n",
    "def class_to_class_index_tensor(c, classes):\n",
    "    \"\"\"\n",
    "    Given a tensor of classes, return the corresponding class indices\n",
    "    as a tensor.\n",
    "    \"\"\"\n",
    "    return torch.argmax(\n",
    "        (c[:, None] == torch.tensor(classes, device=c.device)).int(), dim=1\n",
    "    ).to(DEVICE)"
   ]
  },
  {
   "cell_type": "markdown",
   "id": "c35fc1e8",
   "metadata": {},
   "source": [
    "### Import models"
   ]
  },
  {
   "cell_type": "code",
   "execution_count": 12,
   "id": "40e98368",
   "metadata": {},
   "outputs": [],
   "source": [
    "branched_before_model = model_util.load_model(\n",
    "    scrna_ae.MultitaskResNet, branched_before_model_path\n",
    ").to(DEVICE)\n",
    "branched_after_model = model_util.load_model(\n",
    "    scrna_ae.MultitaskResNet, branched_after_model_path\n",
    ").to(DEVICE)\n",
    "\n",
    "label_guided_before_model = model_util.load_model(\n",
    "    scrna_ae.LabelGuidedResNet, label_guided_before_model_path\n",
    ").to(DEVICE)\n",
    "label_guided_afterone_model = model_util.load_model(\n",
    "    scrna_ae.LabelGuidedResNet, label_guided_afterone_model_path\n",
    ").to(DEVICE)\n",
    "label_guided_afterall_model = model_util.load_model(\n",
    "    scrna_ae.LabelGuidedResNet, label_guided_afterall_model_path\n",
    ").to(DEVICE)"
   ]
  },
  {
   "cell_type": "markdown",
   "id": "0b38e89f",
   "metadata": {},
   "source": [
    "### Introducing a new digit class"
   ]
  },
  {
   "cell_type": "markdown",
   "id": "3738e63d",
   "metadata": {},
   "source": [
    "**Fine-tune new branch on branched model**"
   ]
  },
  {
   "cell_type": "code",
   "execution_count": 13,
   "id": "4701b0f9",
   "metadata": {},
   "outputs": [
    {
     "name": "stdout",
     "output_type": "stream",
     "text": [
      "Sampling class: 0\n"
     ]
    },
    {
     "name": "stderr",
     "output_type": "stream",
     "text": [
      "100%|██████████████████████████████████████████████████████| 500/500 [00:58<00:00,  8.54it/s]\n"
     ]
    },
    {
     "name": "stdout",
     "output_type": "stream",
     "text": [
      "Sampling class: 1\n"
     ]
    },
    {
     "name": "stderr",
     "output_type": "stream",
     "text": [
      "100%|██████████████████████████████████████████████████████| 500/500 [00:58<00:00,  8.57it/s]\n"
     ]
    }
   ],
   "source": [
    "# Samples before fine-tuning\n",
    "branched_before_samples = {}\n",
    "for class_to_sample in classes_01:\n",
    "    print(\"Sampling class: %s\" % class_to_sample)\n",
    "    samples = generate.generate_continuous_branched_samples(\n",
    "        branched_before_model, sde, class_to_sample,\n",
    "        lambda c, t: class_time_to_branch_tensor(c, t, branch_defs_01),\n",
    "        sampler=\"pc\", t_limit=t_limit, num_samples=1000, verbose=True\n",
    "    ).cpu().numpy()\n",
    "    branched_before_samples[class_to_sample] = samples"
   ]
  },
  {
   "cell_type": "code",
   "execution_count": 14,
   "id": "f5283fb3",
   "metadata": {},
   "outputs": [
    {
     "name": "stdout",
     "output_type": "stream",
     "text": [
      "Sampling class: 0\n"
     ]
    },
    {
     "name": "stderr",
     "output_type": "stream",
     "text": [
      "100%|██████████████████████████████████████████████████████| 500/500 [00:58<00:00,  8.55it/s]\n"
     ]
    },
    {
     "name": "stdout",
     "output_type": "stream",
     "text": [
      "Sampling class: 1\n"
     ]
    },
    {
     "name": "stderr",
     "output_type": "stream",
     "text": [
      "100%|██████████████████████████████████████████████████████| 500/500 [00:58<00:00,  8.56it/s]\n"
     ]
    },
    {
     "name": "stdout",
     "output_type": "stream",
     "text": [
      "Sampling class: 5\n"
     ]
    },
    {
     "name": "stderr",
     "output_type": "stream",
     "text": [
      "100%|██████████████████████████████████████████████████████| 500/500 [00:58<00:00,  8.57it/s]\n"
     ]
    }
   ],
   "source": [
    "# Samples after fine-tuning\n",
    "branched_after_samples = {}\n",
    "for class_to_sample in classes_012:\n",
    "    print(\"Sampling class: %s\" % class_to_sample)\n",
    "    samples = generate.generate_continuous_branched_samples(\n",
    "        branched_after_model, sde, class_to_sample,\n",
    "        lambda c, t: class_time_to_branch_tensor(c, t, branch_defs_012),\n",
    "        sampler=\"pc\", t_limit=t_limit, num_samples=1000, verbose=True\n",
    "    ).cpu().numpy()\n",
    "    branched_after_samples[class_to_sample] = samples"
   ]
  },
  {
   "cell_type": "markdown",
   "id": "fe9b5ca7",
   "metadata": {},
   "source": [
    "#### Train additional digit on label-guided (linear) model"
   ]
  },
  {
   "cell_type": "code",
   "execution_count": 15,
   "id": "a7395b41",
   "metadata": {},
   "outputs": [
    {
     "name": "stdout",
     "output_type": "stream",
     "text": [
      "Sampling class: 0\n"
     ]
    },
    {
     "name": "stderr",
     "output_type": "stream",
     "text": [
      "100%|██████████████████████████████████████████████████████| 500/500 [00:57<00:00,  8.71it/s]\n"
     ]
    },
    {
     "name": "stdout",
     "output_type": "stream",
     "text": [
      "Sampling class: 1\n"
     ]
    },
    {
     "name": "stderr",
     "output_type": "stream",
     "text": [
      "100%|██████████████████████████████████████████████████████| 500/500 [00:57<00:00,  8.71it/s]\n"
     ]
    },
    {
     "name": "stdout",
     "output_type": "stream",
     "text": [
      "Sampling class: 5\n"
     ]
    },
    {
     "name": "stderr",
     "output_type": "stream",
     "text": [
      "100%|██████████████████████████████████████████████████████| 500/500 [00:57<00:00,  8.71it/s]\n"
     ]
    }
   ],
   "source": [
    "label_guided_before_samples = {}\n",
    "for class_to_sample in classes_012:\n",
    "    print(\"Sampling class: %s\" % class_to_sample)\n",
    "    samples = generate.generate_continuous_label_guided_samples(\n",
    "        label_guided_before_model, sde, class_to_sample,\n",
    "        lambda c: class_to_class_index_tensor(c, classes_012),\n",
    "        sampler=\"pc\", t_limit=t_limit, num_samples=1000, verbose=True\n",
    "    ).cpu().numpy()\n",
    "    label_guided_before_samples[class_to_sample] = samples"
   ]
  },
  {
   "cell_type": "code",
   "execution_count": 16,
   "id": "f5d9ec71",
   "metadata": {},
   "outputs": [
    {
     "name": "stdout",
     "output_type": "stream",
     "text": [
      "Sampling class: 0\n"
     ]
    },
    {
     "name": "stderr",
     "output_type": "stream",
     "text": [
      "100%|██████████████████████████████████████████████████████| 500/500 [00:57<00:00,  8.74it/s]\n"
     ]
    },
    {
     "name": "stdout",
     "output_type": "stream",
     "text": [
      "Sampling class: 1\n"
     ]
    },
    {
     "name": "stderr",
     "output_type": "stream",
     "text": [
      "100%|██████████████████████████████████████████████████████| 500/500 [00:57<00:00,  8.73it/s]\n"
     ]
    },
    {
     "name": "stdout",
     "output_type": "stream",
     "text": [
      "Sampling class: 5\n"
     ]
    },
    {
     "name": "stderr",
     "output_type": "stream",
     "text": [
      "100%|██████████████████████████████████████████████████████| 500/500 [00:57<00:00,  8.73it/s]\n"
     ]
    }
   ],
   "source": [
    "label_guided_afterone_samples = {}\n",
    "for class_to_sample in classes_012:\n",
    "    print(\"Sampling class: %s\" % class_to_sample)\n",
    "    samples = generate.generate_continuous_label_guided_samples(\n",
    "        label_guided_afterone_model, sde, class_to_sample,\n",
    "        lambda c: class_to_class_index_tensor(c, classes_012),\n",
    "        sampler=\"pc\", t_limit=t_limit, num_samples=1000, verbose=True\n",
    "    ).cpu().numpy()\n",
    "    label_guided_afterone_samples[class_to_sample] = samples"
   ]
  },
  {
   "cell_type": "code",
   "execution_count": 17,
   "id": "8db51bf0",
   "metadata": {},
   "outputs": [
    {
     "name": "stdout",
     "output_type": "stream",
     "text": [
      "Sampling class: 0\n"
     ]
    },
    {
     "name": "stderr",
     "output_type": "stream",
     "text": [
      "100%|██████████████████████████████████████████████████████| 500/500 [00:57<00:00,  8.73it/s]\n"
     ]
    },
    {
     "name": "stdout",
     "output_type": "stream",
     "text": [
      "Sampling class: 1\n"
     ]
    },
    {
     "name": "stderr",
     "output_type": "stream",
     "text": [
      "100%|██████████████████████████████████████████████████████| 500/500 [00:57<00:00,  8.72it/s]\n"
     ]
    },
    {
     "name": "stdout",
     "output_type": "stream",
     "text": [
      "Sampling class: 5\n"
     ]
    },
    {
     "name": "stderr",
     "output_type": "stream",
     "text": [
      "100%|██████████████████████████████████████████████████████| 500/500 [00:57<00:00,  8.72it/s]\n"
     ]
    }
   ],
   "source": [
    "label_guided_afterall_samples = {}\n",
    "for class_to_sample in classes_012:\n",
    "    print(\"Sampling class: %s\" % class_to_sample)\n",
    "    samples = generate.generate_continuous_label_guided_samples(\n",
    "        label_guided_afterall_model, sde, class_to_sample,\n",
    "        lambda c: class_to_class_index_tensor(c, classes_012),\n",
    "        sampler=\"pc\", t_limit=t_limit, num_samples=1000, verbose=True\n",
    "    ).cpu().numpy()\n",
    "    label_guided_afterall_samples[class_to_sample] = samples"
   ]
  },
  {
   "cell_type": "markdown",
   "id": "e5f431ba",
   "metadata": {},
   "source": [
    "**Compare FIDs**"
   ]
  },
  {
   "cell_type": "code",
   "execution_count": 18,
   "id": "c2b292e5",
   "metadata": {},
   "outputs": [
    {
     "name": "stdout",
     "output_type": "stream",
     "text": [
      "Sampling class: 0\n",
      "Sampling class: 1\n",
      "Sampling class: 5\n"
     ]
    }
   ],
   "source": [
    "# Sample objects from the original dataset\n",
    "true_samples = {}\n",
    "for class_to_sample in classes_012:\n",
    "    print(\"Sampling class: %s\" % class_to_sample)\n",
    "    inds = np.where(dataset_012.cell_cluster == class_to_sample)[0]\n",
    "    sample_inds = np.random.choice(inds, size=1000, replace=False)\n",
    "    true_samples[class_to_sample] = dataset_012.data[sample_inds]"
   ]
  },
  {
   "cell_type": "code",
   "execution_count": 19,
   "id": "988af0c2",
   "metadata": {},
   "outputs": [
    {
     "name": "stderr",
     "output_type": "stream",
     "text": [
      "[rank: 0] Global seed set to 0\n"
     ]
    },
    {
     "name": "stdout",
     "output_type": "stream",
     "text": [
      "\u001b[34mINFO    \u001b[0m File                                                                                                      \n",
      "         \u001b[35m/gstore/data/resbioai/tsenga5/branched_diffusion/models/trained_models/scrna_vaes/covid_flu/covid_flu_proc\u001b[0m\n",
      "         \u001b[35messed_reduced_genes_ldvae_d200/\u001b[0m\u001b[95mmodel.pt\u001b[0m already downloaded                                                \n"
     ]
    },
    {
     "name": "stderr",
     "output_type": "stream",
     "text": [
      "No GPU/TPU found, falling back to CPU. (Set TF_CPP_MIN_LOG_LEVEL=0 and rerun for more info.)\n",
      "/gstore/home/tsenga5/miniconda3/envs/scanpy/lib/python3.9/site-packages/scvi/data/fields/_layer_field.py:91: UserWarning: adata.X does not contain unnormalized count data. Are you sure this is what you want?\n",
      "  warnings.warn(\n"
     ]
    }
   ],
   "source": [
    "if not latent_space:\n",
    "    dataset_with_ae = scrna_dataset.SingleCellDataset(data_file, autoencoder_path=autoencoder_path)\n",
    "\n",
    "def compute_fid(gen_samples, true_samples, latent=True):\n",
    "    if latent_space:\n",
    "        if latent:\n",
    "            return fid.compute_fid(\n",
    "                gen_samples,\n",
    "                dataset_01.encode_batch(torch.tensor(true_samples, device=DEVICE)).cpu().numpy()\n",
    "            )\n",
    "        else:\n",
    "            return fid.compute_fid(\n",
    "                dataset_01.decode_batch(torch.tensor(gen_samples, device=DEVICE)).cpu().numpy(),\n",
    "                true_samples\n",
    "            )\n",
    "    else:\n",
    "        gen_samples[gen_samples < 0] = 0  # Generated values should never be above 0\n",
    "        if latent:\n",
    "            return fid.compute_fid(\n",
    "                dataset_with_ae.encode_batch(torch.tensor(gen_samples, device=DEVICE)).cpu().numpy(),\n",
    "                dataset_with_ae.encode_batch(torch.tensor(true_samples, device=DEVICE)).cpu().numpy()\n",
    "            )\n",
    "        else:\n",
    "            return fid.compute_fid(\n",
    "                dataset_with_ae.decode_batch(dataset_with_ae.encode_batch(torch.tensor(gen_samples, device=DEVICE))).cpu().numpy(),\n",
    "                dataset_with_ae.decode_batch(dataset_with_ae.encode_batch(torch.tensor(true_samples, device=DEVICE))).cpu().numpy()\n",
    "            )"
   ]
  },
  {
   "cell_type": "code",
   "execution_count": 20,
   "id": "3cf09210",
   "metadata": {},
   "outputs": [],
   "source": [
    "branched_before_fids = {}\n",
    "branched_after_fids = {}\n",
    "label_guided_before_fids = {}\n",
    "label_guided_afterone_fids = {}\n",
    "label_guided_afterall_fids = {}\n",
    "\n",
    "latent = True\n",
    "\n",
    "for c in branched_before_samples.keys():\n",
    "    branched_before_fids[c] = compute_fid(branched_before_samples[c], true_samples[c], latent)\n",
    "for c in branched_after_samples.keys():\n",
    "    branched_after_fids[c] = compute_fid(branched_after_samples[c], true_samples[c], latent)\n",
    "for c in label_guided_before_samples.keys():\n",
    "    label_guided_before_fids[c] = compute_fid(label_guided_before_samples[c], true_samples[c], latent)\n",
    "for c in label_guided_afterone_samples.keys():\n",
    "    label_guided_afterone_fids[c] = compute_fid(label_guided_afterone_samples[c], true_samples[c], latent)\n",
    "for c in label_guided_afterall_samples.keys():\n",
    "    label_guided_afterall_fids[c] = compute_fid(label_guided_afterall_samples[c], true_samples[c], latent)"
   ]
  },
  {
   "cell_type": "code",
   "execution_count": 21,
   "id": "c64ee930",
   "metadata": {},
   "outputs": [
    {
     "name": "stdout",
     "output_type": "stream",
     "text": [
      "{0: 17.2739535824701, 1: 20.49201217272837}\n",
      "{0: 17.949118294077465, 1: 20.02476075887448, 5: 23.667188069263155}\n",
      "{0: 20.895702081753146, 1: 21.95368448451966, 5: 27.22452015744281}\n",
      "{0: 24.710472874965525, 1: 27.29852642512873, 5: 31.712231368373526}\n",
      "{0: 18.359188765377848, 1: 20.05407637633136, 5: 27.03074935550749}\n"
     ]
    }
   ],
   "source": [
    "print(branched_before_fids)\n",
    "print(branched_after_fids)\n",
    "print(label_guided_before_fids)\n",
    "print(label_guided_afterone_fids)\n",
    "print(label_guided_afterall_fids)"
   ]
  },
  {
   "cell_type": "code",
   "execution_count": 22,
   "id": "3663d5e5",
   "metadata": {},
   "outputs": [
    {
     "data": {
      "image/png": "[encoded data removed]",
      "text/plain": [
       "<Figure size 720x360 with 2 Axes>"
      ]
     },
     "metadata": {
      "needs_background": "light"
     },
     "output_type": "display_data"
    }
   ],
   "source": [
    "fig, ax = plt.subplots(ncols=2, sharey=True, figsize=(10, 5))\n",
    "\n",
    "bar_width = 0.3\n",
    "x = np.arange(len(branched_after_fids))\n",
    "\n",
    "branched_before_vals = [branched_before_fids[c] for c in classes_01] + [0]\n",
    "branched_after_vals = [branched_after_fids[c] for c in classes_012]\n",
    "ax[0].bar(\n",
    "    x, branched_before_vals, bar_width, label=\"Before training on new class\", color=\"royalblue\"\n",
    ")\n",
    "ax[0].bar(\n",
    "    x + bar_width, branched_after_vals, bar_width, label=\"After training on new class\", color=\"slateblue\"\n",
    ")\n",
    "ax[0].set_title(\"Branched model\")\n",
    "\n",
    "label_guided_before_vals = [label_guided_before_fids[c] for c in classes_01] + [0]\n",
    "label_guided_afterone_vals = [label_guided_afterone_fids[c] for c in classes_012]\n",
    "label_guided_afterall_vals = [label_guided_afterall_fids[c] for c in classes_012]\n",
    "ax[1].bar(\n",
    "    x, label_guided_before_vals, bar_width, label=\"Before training on new class\", color=\"darkorange\"\n",
    ")\n",
    "ax[1].bar(\n",
    "    x + bar_width, label_guided_afterone_vals, bar_width, label=\"After training on new class\", color=\"goldenrod\"\n",
    ")\n",
    "ax[1].bar(\n",
    "    x + (2 * bar_width), label_guided_afterall_vals, bar_width, label=\"After training on all classes\", color=\"firebrick\"\n",
    ")\n",
    "ax[1].set_title(\"Label-guided (linear) model\")\n",
    "for i in range(2):\n",
    "    ax[i].set_xticks(x + bar_width, labels=[c for c in classes_012])\n",
    "    ax[i].set_xlabel(\"Class\")\n",
    "    ax[i].legend()\n",
    "ax[0].set_ylabel(\"FID\")\n",
    "fig.suptitle(\"Fréchet inception distance between true and generated objects\")\n",
    "fig.savefig(\n",
    "    os.path.join(out_path, \"scrna_class_extension_fid.svg\"),\n",
    "    format=\"svg\"\n",
    ")\n",
    "plt.show()"
   ]
  }
 ],
 "metadata": {
  "kernelspec": {
   "display_name": "Python 3 (ipykernel)",
   "language": "python",
   "name": "python3"
  },
  "language_info": {
   "codemirror_mode": {
    "name": "ipython",
    "version": 3
   },
   "file_extension": ".py",
   "mimetype": "text/x-python",
   "name": "python",
   "nbconvert_exporter": "python",
   "pygments_lexer": "ipython3",
   "version": "3.9.12"
  }
 },
 "nbformat": 4,
 "nbformat_minor": 5
}
