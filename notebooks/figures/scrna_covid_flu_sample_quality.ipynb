{
 "cells": [
  {
   "cell_type": "code",
   "execution_count": 1,
   "id": "4ce6f328",
   "metadata": {},
   "outputs": [],
   "source": [
    "%load_ext autoreload\n",
    "%autoreload 2\n",
    "import sys\n",
    "sys.path.append(\"../../src\")\n",
    "import feature.scrna_dataset as scrna_dataset\n",
    "import model.sdes as sdes\n",
    "import model.generate as generate\n",
    "import model.scrna_ae as scrna_ae\n",
    "import model.util as model_util\n",
    "import analysis.fid as fid\n",
    "import torch\n",
    "import numpy as np\n",
    "import scipy.stats\n",
    "import matplotlib.pyplot as plt\n",
    "import matplotlib.font_manager as font_manager\n",
    "import os\n",
    "import h5py\n",
    "import json"
   ]
  },
  {
   "cell_type": "code",
   "execution_count": 2,
   "id": "647469ac",
   "metadata": {},
   "outputs": [],
   "source": [
    "# Plotting defaults\n",
    "font_list = font_manager.findSystemFonts(fontpaths=[\"/gstore/home/tsenga5/modules/fonts\"])\n",
    "for font in font_list:\n",
    "    font_manager.fontManager.addfont(font)\n",
    "plot_params = {\n",
    "    \"figure.titlesize\": 22,\n",
    "    \"axes.titlesize\": 22,\n",
    "    \"axes.labelsize\": 20,\n",
    "    \"legend.fontsize\": 18,\n",
    "    \"font.size\": 13,\n",
    "    \"xtick.labelsize\": 16,\n",
    "    \"ytick.labelsize\": 16,\n",
    "    \"font.family\": \"Roboto\",\n",
    "    \"font.weight\": \"bold\",\n",
    "    \"svg.fonttype\": \"none\"\n",
    "}\n",
    "plt.rcParams.update(plot_params)"
   ]
  },
  {
   "cell_type": "code",
   "execution_count": 3,
   "id": "df22d86f",
   "metadata": {},
   "outputs": [],
   "source": [
    "# Define device\n",
    "if torch.cuda.is_available():\n",
    "    DEVICE = \"cuda\"\n",
    "else:\n",
    "    DEVICE = \"cpu\""
   ]
  },
  {
   "cell_type": "markdown",
   "id": "806f0a68",
   "metadata": {},
   "source": [
    "### Define constants and paths"
   ]
  },
  {
   "cell_type": "code",
   "execution_count": 4,
   "id": "767236f1",
   "metadata": {},
   "outputs": [],
   "source": [
    "models_base_path = \"/gstore/data/resbioai/tsenga5/branched_diffusion/models/trained_models/\"\n",
    "\n",
    "branched_model_path = os.path.join(models_base_path, \"scrna_covid_flu_continuous_branched_9classes_latent_d200/3/last_ckpt.pth\")\n",
    "label_guided_model_path = os.path.join(models_base_path, \"scrna_covid_flu_continuous_labelguided_9classes_latent_d200/3/last_ckpt.pth\")"
   ]
  },
  {
   "cell_type": "code",
   "execution_count": 5,
   "id": "93fc3767",
   "metadata": {},
   "outputs": [],
   "source": [
    "def import_classes_branch_points(json_path):\n",
    "    with open(json_path, \"r\") as f:\n",
    "        d = json.load(f)\n",
    "        return d[\"classes\"], \\\n",
    "            [(tuple(trip[0]), trip[1], trip[2]) for trip in d[\"branches\"]]\n",
    "    \n",
    "classes, branch_defs = import_classes_branch_points(\n",
    "    \"/gstore/home/tsenga5/branched_diffusion/data/config/classes_branch_points/scrna_covid_flu/redset.json\"\n",
    ")"
   ]
  },
  {
   "cell_type": "code",
   "execution_count": 6,
   "id": "c574c65f",
   "metadata": {},
   "outputs": [],
   "source": [
    "latent_space = True\n",
    "latent_dim = 200"
   ]
  },
  {
   "cell_type": "code",
   "execution_count": 7,
   "id": "2efe8729",
   "metadata": {},
   "outputs": [],
   "source": [
    "data_file = \"/gstore/data/resbioai/tsenga5/branched_diffusion/data/scrna/covid_flu/processed/covid_flu_processed_reduced_genes.h5\"\n",
    "autoencoder_path = \"/gstore/data/resbioai/tsenga5/branched_diffusion/models/trained_models/scrna_vaes/covid_flu/covid_flu_processed_reduced_genes_ldvae_d%d/\" % latent_dim"
   ]
  },
  {
   "cell_type": "code",
   "execution_count": 8,
   "id": "79325406",
   "metadata": {},
   "outputs": [],
   "source": [
    "out_path = \"/gstore/home/tsenga5/branched_diffusion/figures/scrna_covid_flu_sample_quality\"\n",
    "\n",
    "os.makedirs(out_path, exist_ok=True)"
   ]
  },
  {
   "cell_type": "markdown",
   "id": "4f058fa4",
   "metadata": {},
   "source": [
    "### Create data loader"
   ]
  },
  {
   "cell_type": "code",
   "execution_count": 9,
   "id": "8ef8d5c7",
   "metadata": {},
   "outputs": [
    {
     "name": "stderr",
     "output_type": "stream",
     "text": [
      "[rank: 0] Global seed set to 0\n"
     ]
    },
    {
     "name": "stdout",
     "output_type": "stream",
     "text": [
      "\u001b[34mINFO    \u001b[0m File                                                                                                      \n",
      "         \u001b[35m/gstore/data/resbioai/tsenga5/branched_diffusion/models/trained_models/scrna_vaes/covid_flu/covid_flu_proc\u001b[0m\n",
      "         \u001b[35messed_reduced_genes_ldvae_d200/\u001b[0m\u001b[95mmodel.pt\u001b[0m already downloaded                                                \n"
     ]
    },
    {
     "name": "stderr",
     "output_type": "stream",
     "text": [
      "No GPU/TPU found, falling back to CPU. (Set TF_CPP_MIN_LOG_LEVEL=0 and rerun for more info.)\n",
      "/gstore/home/tsenga5/miniconda3/envs/scanpy/lib/python3.9/site-packages/scvi/data/fields/_layer_field.py:91: UserWarning: adata.X does not contain unnormalized count data. Are you sure this is what you want?\n",
      "  warnings.warn(\n"
     ]
    }
   ],
   "source": [
    "dataset = scrna_dataset.SingleCellDataset(data_file, autoencoder_path=(autoencoder_path if latent_space else None))\n",
    "\n",
    "# Limit classes\n",
    "inds = np.isin(dataset.cell_cluster, classes)\n",
    "dataset.data = dataset.data[inds]\n",
    "dataset.cell_cluster = dataset.cell_cluster[inds]\n",
    "\n",
    "data_loader = torch.utils.data.DataLoader(dataset, batch_size=128, shuffle=True, num_workers=0)\n",
    "input_shape = next(iter(data_loader))[0].shape[1:]"
   ]
  },
  {
   "cell_type": "code",
   "execution_count": 10,
   "id": "49b23ce6",
   "metadata": {},
   "outputs": [],
   "source": [
    "sde = sdes.VariancePreservingSDE(0.1, 5, input_shape)\n",
    "t_limit = 1"
   ]
  },
  {
   "cell_type": "code",
   "execution_count": 11,
   "id": "51fbc829",
   "metadata": {},
   "outputs": [],
   "source": [
    "# TODO: this is currently rather inefficient; a decision-tree-style structure\n",
    "# would be better\n",
    "\n",
    "def class_time_to_branch(c, t):\n",
    "    \"\"\"\n",
    "    Given a class and a time (both scalars), return the\n",
    "    corresponding branch index.\n",
    "    \"\"\"\n",
    "    for i, branch_def in enumerate(branch_defs):\n",
    "        if c in branch_def[0] and t >= branch_def[1] and t <= branch_def[2]:\n",
    "            return i\n",
    "    raise ValueError(\"Undefined class and time\")\n",
    "        \n",
    "def class_time_to_branch_tensor(c, t):\n",
    "    \"\"\"\n",
    "    Given tensors of classes and a times, return the\n",
    "    corresponding branch indices as a tensor.\n",
    "    \"\"\"\n",
    "    return torch.tensor([\n",
    "        class_time_to_branch(c_i, t_i) for c_i, t_i in zip(c, t)\n",
    "    ], device=DEVICE)\n",
    "\n",
    "def class_to_class_index_tensor(c):\n",
    "    \"\"\"\n",
    "    Given a tensor of classes, return the corresponding class indices\n",
    "    as a tensor.\n",
    "    \"\"\"\n",
    "    return torch.argmax(\n",
    "        (c[:, None] == torch.tensor(classes, device=c.device)).int(), dim=1\n",
    "    ).to(DEVICE)"
   ]
  },
  {
   "cell_type": "markdown",
   "id": "c5f55c8b",
   "metadata": {},
   "source": [
    "### Import models"
   ]
  },
  {
   "cell_type": "code",
   "execution_count": 12,
   "id": "efedd4e4",
   "metadata": {},
   "outputs": [],
   "source": [
    "branched_model = model_util.load_model(\n",
    "    scrna_ae.MultitaskResNet, branched_model_path\n",
    ").to(DEVICE)\n",
    "\n",
    "label_guided_model = model_util.load_model(\n",
    "    scrna_ae.LabelGuidedResNet, label_guided_model_path\n",
    ").to(DEVICE)"
   ]
  },
  {
   "cell_type": "markdown",
   "id": "82bd65a8",
   "metadata": {},
   "source": [
    "### Sample objects"
   ]
  },
  {
   "cell_type": "code",
   "execution_count": 13,
   "id": "1f7c9fb4",
   "metadata": {},
   "outputs": [
    {
     "name": "stdout",
     "output_type": "stream",
     "text": [
      "Sampling class: 0\n"
     ]
    },
    {
     "name": "stderr",
     "output_type": "stream",
     "text": [
      "100%|█████████████████████████████████████████████████████████████████████| 500/500 [00:29<00:00, 16.89it/s]\n"
     ]
    },
    {
     "name": "stdout",
     "output_type": "stream",
     "text": [
      "Sampling class: 1\n"
     ]
    },
    {
     "name": "stderr",
     "output_type": "stream",
     "text": [
      "100%|█████████████████████████████████████████████████████████████████████| 500/500 [00:29<00:00, 16.87it/s]\n"
     ]
    },
    {
     "name": "stdout",
     "output_type": "stream",
     "text": [
      "Sampling class: 2\n"
     ]
    },
    {
     "name": "stderr",
     "output_type": "stream",
     "text": [
      "100%|█████████████████████████████████████████████████████████████████████| 500/500 [00:29<00:00, 16.84it/s]\n"
     ]
    },
    {
     "name": "stdout",
     "output_type": "stream",
     "text": [
      "Sampling class: 3\n"
     ]
    },
    {
     "name": "stderr",
     "output_type": "stream",
     "text": [
      "100%|█████████████████████████████████████████████████████████████████████| 500/500 [00:29<00:00, 16.79it/s]\n"
     ]
    },
    {
     "name": "stdout",
     "output_type": "stream",
     "text": [
      "Sampling class: 4\n"
     ]
    },
    {
     "name": "stderr",
     "output_type": "stream",
     "text": [
      "100%|█████████████████████████████████████████████████████████████████████| 500/500 [00:29<00:00, 16.80it/s]\n"
     ]
    },
    {
     "name": "stdout",
     "output_type": "stream",
     "text": [
      "Sampling class: 5\n"
     ]
    },
    {
     "name": "stderr",
     "output_type": "stream",
     "text": [
      "100%|█████████████████████████████████████████████████████████████████████| 500/500 [00:29<00:00, 16.74it/s]\n"
     ]
    },
    {
     "name": "stdout",
     "output_type": "stream",
     "text": [
      "Sampling class: 7\n"
     ]
    },
    {
     "name": "stderr",
     "output_type": "stream",
     "text": [
      "100%|█████████████████████████████████████████████████████████████████████| 500/500 [00:29<00:00, 16.75it/s]\n"
     ]
    },
    {
     "name": "stdout",
     "output_type": "stream",
     "text": [
      "Sampling class: 10\n"
     ]
    },
    {
     "name": "stderr",
     "output_type": "stream",
     "text": [
      "100%|█████████████████████████████████████████████████████████████████████| 500/500 [00:29<00:00, 16.75it/s]\n"
     ]
    },
    {
     "name": "stdout",
     "output_type": "stream",
     "text": [
      "Sampling class: 12\n"
     ]
    },
    {
     "name": "stderr",
     "output_type": "stream",
     "text": [
      "100%|█████████████████████████████████████████████████████████████████████| 500/500 [00:29<00:00, 16.73it/s]\n"
     ]
    }
   ],
   "source": [
    "# Sample digits of each class from branched model\n",
    "branched_samples = {}\n",
    "for class_to_sample in classes:\n",
    "    print(\"Sampling class: %s\" % class_to_sample)\n",
    "    sample = generate.generate_continuous_branched_samples(\n",
    "        branched_model, sde, class_to_sample, class_time_to_branch_tensor,\n",
    "        sampler=\"pc\", t_limit=t_limit, num_samples=500, verbose=True\n",
    "    )\n",
    "    if latent_space:\n",
    "        branched_samples[class_to_sample] = sample.cpu().numpy()\n",
    "        sample = dataset.decode_batch(sample).cpu().numpy()\n",
    "    branched_samples[class_to_sample] = sample"
   ]
  },
  {
   "cell_type": "code",
   "execution_count": 14,
   "id": "a7395b41",
   "metadata": {},
   "outputs": [
    {
     "name": "stdout",
     "output_type": "stream",
     "text": [
      "Sampling class: 0\n"
     ]
    },
    {
     "name": "stderr",
     "output_type": "stream",
     "text": [
      "100%|█████████████████████████████████████████████████████████████████████| 500/500 [00:28<00:00, 17.34it/s]\n"
     ]
    },
    {
     "name": "stdout",
     "output_type": "stream",
     "text": [
      "Sampling class: 1\n"
     ]
    },
    {
     "name": "stderr",
     "output_type": "stream",
     "text": [
      "100%|█████████████████████████████████████████████████████████████████████| 500/500 [00:28<00:00, 17.33it/s]\n"
     ]
    },
    {
     "name": "stdout",
     "output_type": "stream",
     "text": [
      "Sampling class: 2\n"
     ]
    },
    {
     "name": "stderr",
     "output_type": "stream",
     "text": [
      "100%|█████████████████████████████████████████████████████████████████████| 500/500 [00:28<00:00, 17.34it/s]\n"
     ]
    },
    {
     "name": "stdout",
     "output_type": "stream",
     "text": [
      "Sampling class: 3\n"
     ]
    },
    {
     "name": "stderr",
     "output_type": "stream",
     "text": [
      "100%|█████████████████████████████████████████████████████████████████████| 500/500 [00:28<00:00, 17.34it/s]\n"
     ]
    },
    {
     "name": "stdout",
     "output_type": "stream",
     "text": [
      "Sampling class: 4\n"
     ]
    },
    {
     "name": "stderr",
     "output_type": "stream",
     "text": [
      "100%|█████████████████████████████████████████████████████████████████████| 500/500 [00:28<00:00, 17.34it/s]\n"
     ]
    },
    {
     "name": "stdout",
     "output_type": "stream",
     "text": [
      "Sampling class: 5\n"
     ]
    },
    {
     "name": "stderr",
     "output_type": "stream",
     "text": [
      "100%|█████████████████████████████████████████████████████████████████████| 500/500 [00:28<00:00, 17.34it/s]\n"
     ]
    },
    {
     "name": "stdout",
     "output_type": "stream",
     "text": [
      "Sampling class: 7\n"
     ]
    },
    {
     "name": "stderr",
     "output_type": "stream",
     "text": [
      "100%|█████████████████████████████████████████████████████████████████████| 500/500 [00:28<00:00, 17.34it/s]\n"
     ]
    },
    {
     "name": "stdout",
     "output_type": "stream",
     "text": [
      "Sampling class: 10\n"
     ]
    },
    {
     "name": "stderr",
     "output_type": "stream",
     "text": [
      "100%|█████████████████████████████████████████████████████████████████████| 500/500 [00:28<00:00, 17.33it/s]\n"
     ]
    },
    {
     "name": "stdout",
     "output_type": "stream",
     "text": [
      "Sampling class: 12\n"
     ]
    },
    {
     "name": "stderr",
     "output_type": "stream",
     "text": [
      "100%|█████████████████████████████████████████████████████████████████████| 500/500 [00:28<00:00, 17.34it/s]\n"
     ]
    }
   ],
   "source": [
    "# Sample digits of each class from label-guided model\n",
    "label_guided_samples = {}\n",
    "for class_to_sample in classes:\n",
    "    print(\"Sampling class: %s\" % class_to_sample)\n",
    "    sample = generate.generate_continuous_label_guided_samples(\n",
    "        label_guided_model, sde, class_to_sample, class_to_class_index_tensor,\n",
    "        sampler=\"pc\", t_limit=t_limit, num_samples=500, verbose=True\n",
    "    )\n",
    "    if latent_space:\n",
    "        label_guided_samples[class_to_sample] = sample.cpu().numpy()\n",
    "        sample = dataset.decode_batch(sample).cpu().numpy()\n",
    "    label_guided_samples[class_to_sample] = sample"
   ]
  },
  {
   "cell_type": "code",
   "execution_count": 15,
   "id": "eb232f52",
   "metadata": {},
   "outputs": [
    {
     "name": "stdout",
     "output_type": "stream",
     "text": [
      "Sampling class: 0\n",
      "Sampling class: 1\n",
      "Sampling class: 2\n",
      "Sampling class: 3\n",
      "Sampling class: 4\n",
      "Sampling class: 5\n",
      "Sampling class: 7\n",
      "Sampling class: 10\n",
      "Sampling class: 12\n"
     ]
    }
   ],
   "source": [
    "# Sample objects from the original dataset\n",
    "true_samples = {}\n",
    "if latent_space:\n",
    "    true_latent_samples = {}\n",
    "for class_to_sample in classes:\n",
    "    print(\"Sampling class: %s\" % class_to_sample)\n",
    "    inds = np.where(dataset.cell_cluster == class_to_sample)[0]\n",
    "    sample_inds = np.random.choice(inds, size=min(500, len(inds)), replace=False)\n",
    "    sample = dataset.data[sample_inds]\n",
    "    if latent_space:\n",
    "        true_latent_samples[class_to_sample] = dataset.encode_batch(torch.tensor(sample, device=DEVICE)).cpu().numpy()\n",
    "    true_samples[class_to_sample] = sample"
   ]
  },
  {
   "cell_type": "code",
   "execution_count": 16,
   "id": "0144b5f5",
   "metadata": {},
   "outputs": [],
   "source": [
    "# # Rescale sampled values to match range of true values based on standard deviation\n",
    "# def rescale_samples(samps, samp_class):\n",
    "#     t = true_samples[samp_class]\n",
    "\n",
    "#     s_z = (samps - np.mean(samps, axis=0, keepdims=True)) / np.std(samps, axis=0, keepdims=True)\n",
    "#     s_trans = (s_z * np.std(t, axis=0, keepdims=True)) + np.mean(t, axis=0, keepdims=True)\n",
    "    \n",
    "#     return np.nan_to_num(s_trans)  # Convert NaNs to 0s\n",
    "\n",
    "# if latent_space:\n",
    "#     branched_samples_scaled, label_guided_samples_scaled = {}\n",
    "#     for class_to_sample in classes:\n",
    "#         branched_samples_scaled[class_to_sample] = rescale_samples(branched_samples[class_to_sample], class_to_sample)\n",
    "#         label_guided_samples_scaled[class_to_sample] = rescale_samples(label_guided_samples[class_to_sample], class_to_sample)\n",
    "# else:\n",
    "#     branched_samples_scaled, label_guided_samples_scaled = branched_samples, label_guided_samples"
   ]
  },
  {
   "cell_type": "markdown",
   "id": "5206c88c",
   "metadata": {},
   "source": [
    "### Compute FID"
   ]
  },
  {
   "cell_type": "code",
   "execution_count": 18,
   "id": "ca83ee3e",
   "metadata": {},
   "outputs": [
    {
     "name": "stdout",
     "output_type": "stream",
     "text": [
      "FID of 0\n",
      "Branched FID: 375.3394\n",
      "Label-guided FID: 375.9273\n",
      "FID of 1\n",
      "Branched FID: 162.3776\n",
      "Label-guided FID: 166.3055\n",
      "FID of 2\n",
      "Branched FID: 149.6286\n",
      "Label-guided FID: 153.1675\n",
      "FID of 3\n",
      "Branched FID: 151.0971\n",
      "Label-guided FID: 156.2666\n",
      "FID of 4\n",
      "Branched FID: 64.6149\n",
      "Label-guided FID: 65.1992\n",
      "FID of 5\n",
      "Branched FID: 1604.8071\n",
      "Label-guided FID: 1609.5925\n",
      "FID of 7\n",
      "Branched FID: 84.4859\n",
      "Label-guided FID: 85.2968\n",
      "FID of 10\n",
      "Branched FID: 318.3276\n",
      "Label-guided FID: 316.7784\n",
      "FID of 12\n",
      "Branched FID: 173.8220\n",
      "Label-guided FID: 175.6205\n"
     ]
    }
   ],
   "source": [
    "# Compute FID scores\n",
    "fid_scores = {}\n",
    "for class_to_sample in classes:\n",
    "    print(\"FID of %d\" % class_to_sample)\n",
    "    branched = branched_samples[class_to_sample]\n",
    "    label_guided = label_guided_samples[class_to_sample]\n",
    "    true = true_samples[class_to_sample]\n",
    "    branched_fid = fid.compute_fid(branched, true)\n",
    "    label_guided_fid = fid.compute_fid(label_guided, true)\n",
    "    fid_scores[class_to_sample] = (branched_fid, label_guided_fid)\n",
    "    print(\"Branched FID: %.4f\" % branched_fid)\n",
    "    print(\"Label-guided FID: %.4f\" % label_guided_fid)"
   ]
  },
  {
   "cell_type": "code",
   "execution_count": 21,
   "id": "edc81176",
   "metadata": {},
   "outputs": [
    {
     "data": {
      "image/png": "[encoded data removed]",
      "text/plain": [
       "<Figure size 720x360 with 1 Axes>"
      ]
     },
     "metadata": {
      "needs_background": "light"
     },
     "output_type": "display_data"
    }
   ],
   "source": [
    "fig, ax = plt.subplots(figsize=(10, 5))\n",
    "bar_width = 0.4\n",
    "x = np.arange(len(fid_scores))\n",
    "ax.bar(\n",
    "    x, [fid_scores[c][0] for c in classes], bar_width, label=\"Branched\", color=\"royalblue\"\n",
    ")\n",
    "ax.bar(\n",
    "    x + bar_width, [fid_scores[c][1] for c in classes], bar_width, label=\"Label-guided (linear)\", color=\"darkorange\"\n",
    ")\n",
    "ax.set_xticks(x + (bar_width / 2), labels=[(\"%d\" % c) for c in classes])\n",
    "ax.set_xlabel(\"MNIST class\")\n",
    "ax.set_ylabel(\"FID\")\n",
    "ax.set_title(\"Fréchet inception distance between true and generated digits\")\n",
    "ax.legend()\n",
    "plt.show()\n",
    "fig.savefig(\n",
    "    os.path.join(out_path, \"scrna_covid_flu_fid.svg\"),\n",
    "    format=\"svg\"\n",
    ")"
   ]
  }
 ],
 "metadata": {
  "kernelspec": {
   "display_name": "Python 3 (ipykernel)",
   "language": "python",
   "name": "python3"
  },
  "language_info": {
   "codemirror_mode": {
    "name": "ipython",
    "version": 3
   },
   "file_extension": ".py",
   "mimetype": "text/x-python",
   "name": "python",
   "nbconvert_exporter": "python",
   "pygments_lexer": "ipython3",
   "version": "3.9.12"
  }
 },
 "nbformat": 4,
 "nbformat_minor": 5
}
