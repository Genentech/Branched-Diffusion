{
 "cells": [
  {
   "cell_type": "code",
   "execution_count": 1,
   "id": "4ce6f328",
   "metadata": {},
   "outputs": [],
   "source": [
    "%load_ext autoreload\n",
    "%autoreload 2\n",
    "import sys\n",
    "sys.path.append(\"../../src\")\n",
    "import feature.molecule_dataset as molecule_dataset\n",
    "import model.graph_adj_x_diffusion as graph_adj_x_diffusion\n",
    "import model.graph_net as graph_net\n",
    "import model.util as model_util\n",
    "import torch\n",
    "import numpy as np\n",
    "import scipy.stats\n",
    "import matplotlib.pyplot as plt\n",
    "import matplotlib.font_manager as font_manager\n",
    "import os\n",
    "import rdkit\n",
    "import IPython\n",
    "import importlib"
   ]
  },
  {
   "cell_type": "code",
   "execution_count": 2,
   "id": "af1f6689",
   "metadata": {},
   "outputs": [],
   "source": [
    "class OpenSmiles(object):\n",
    "\n",
    "    def __init__(self):\n",
    "\n",
    "        self.name = 'open_smiles'\n",
    "\n",
    "    @staticmethod\n",
    "    def get_smiles():\n",
    "\n",
    "        smiles = {\n",
    "            \"1,1,1-trifluoroethane\": \"CC(F)(F)F\",\n",
    "            \"1,1'-biphenyl\": \"C1(C2=CC=CC=C2)=CC=CC=C1\",\n",
    "            \"1H-indene\": \"C1(CC=C2)=C2C=CC=C1\",\n",
    "            \"1H-pyrrole\": \"[NH]1CCCC1\",\n",
    "            \"2-butyne\": \"CC#CC\",\n",
    "            \"2-ethyl-1-butanol\": \"CCC(CC)CO\",\n",
    "            \"2-methylpenta-2,3-diene\": \"CC=C=C(C)C\",\n",
    "            \"(E)-1,2-dimethyldiazene\": \"C/N=N/C\",\n",
    "            \"N,N-dimethylacetamide\": \"CC(N(C)C)=O\",\n",
    "            \"N-methylpropan-2-imine\": \"C/C(C)=N/C\",\n",
    "            \"(Z)-N,N,N'-trimethylacetimidamide\": \"C/C(N(C)C)=N/C\",\n",
    "            \"acetic anydride\": \"CC(=O)OC(=O)C\",\n",
    "            \"acyl bromide\": \"C(=O)Br\",\n",
    "            \"acyl chloride\": \"C(=O)Cl\",\n",
    "            \"acyl fluoride\": \"C(=O)F\",\n",
    "            \"acyl iodide\": \"C(=O)I\",\n",
    "            \"aldehyde\": \"CC=O\",\n",
    "            \"amide\": \"C(=O)N\",\n",
    "            \"amino\": \"*N\",\n",
    "            \"anthracene\": \"C12=CC=CC=C1C=C3C(C=CC=C3)=C2\",\n",
    "            \"azide\": \"C([N-][N+]#N)\",\n",
    "            \"benzene\": \"C1=CC=CC=C1\",\n",
    "            \"benzene thiol\": \"C1=CC=C(C=C1)S\",\n",
    "            \"bicyclohexyl\": \"C1CCCCC1C1CCCCC1\",\n",
    "            \"bromine\": \"Br\",\n",
    "            \"but-1-ene\": \"CCC=C\",\n",
    "            \"but-1-yne\": \"CCC#C\",\n",
    "            \"carbon dioxide\": \"O=C=O\",\n",
    "            \"carboxylic acid\": \"C(=O)O\",\n",
    "            \"chlorine\": \"Cl\",\n",
    "            \"chloromethyl methyl ether\": \"COCCl\",\n",
    "            \"cyclobutadiene\": \"C1=CC=C1\",\n",
    "            \"cyclobutane\": \"C1CCC1\",\n",
    "            \"cycloheptane\": \"C1CCCCCC1\",\n",
    "            \"cyclohexane\": \"C1CCCCC1\",\n",
    "            \"cyclohexa-1,3-diene\": \"C1=CCCC=C1\",\n",
    "            \"cyclohexa-1,4-diene\": \"C1=CCC=CC1\",\n",
    "            \"cyclohexene\": \"C=1CCCCC=1\",\n",
    "            \"cyclopentane\": \"C1CCCC1\",\n",
    "            \"cyclopenta-1,3-diene\": \"C1=CCC=C1\",\n",
    "            \"cyclopropane\": \"C1CC1\",\n",
    "            \"cyclopropene\": \"C1=CC1\",\n",
    "            \"deuteroethane\": \"[2H][CH2]C\",\n",
    "            \"dimethyl ether\": \"COC\",\n",
    "            \"diethyl ether\": \"CCOCC\",\n",
    "            \"diisopropyl ether\": \"CC(C)OC(C)C\",\n",
    "            \"diamond\": \"C&1&1&1&1\",\n",
    "            \"diazomethane\": \"C=[N+]=[N-]\",\n",
    "            \"diammonium thiosulfate\": \"[NH4+].[NH4+].[O-]S(=O)(=O)[S-]\",\n",
    "            \"enamine\": \"N\",\n",
    "            \"ethane\": \"CC\",\n",
    "            \"ethanethiol\": \"CCS\",\n",
    "            \"ethanol\": \"CCO\",\n",
    "            \"ethene\": \"C=C\",\n",
    "            \"ether\": \"COC\",\n",
    "            \"ester\": \"C(=O)OC\",\n",
    "            \"fluorine\": \"F\",\n",
    "            \"formaldehyde\": \"C=O\",\n",
    "            \"furan\": \"C1OC=CC=1\",\n",
    "            \"graphite\": \"C&1&1&1\",\n",
    "            \"hydrogen cyanide\": \"C#N\",\n",
    "            \"hydroxide\": \"[OH-]\",\n",
    "            \"hydroxyl amine\": \"NO\",\n",
    "            \"indane\": \"C1=CC=CC(CCC2)=C12\",\n",
    "            \"ketone\": \"CC(=O)C\",\n",
    "            \"methane\": \"C\",\n",
    "            \"methanethiol\": \"CS\",\n",
    "            \"methyl acetate\": \"CC(OC)=O\",\n",
    "            \"methyl pyrrole\": \"CN1CCCC1\",\n",
    "            \"methyl tert-butyl ether\": \"CC(C)(C)OC\",\n",
    "            \"naphthalene\": \"C12=CC=CC=C1C=CC=C2\",\n",
    "            \"nitro\": \"[N+](=O)[O-]\",\n",
    "            \"nitromethane\": \"C[N+]([O-])=O\",\n",
    "            \"pentalene\": \"C12=CC=CC1=CC=C2\",\n",
    "            \"perhydroisoquinoline\": \"N1CC2CCCC2CC1\",\n",
    "            \"phenol\": \"OC1CCCCC1\",\n",
    "            \"phenyl\": \"C=1(C=CC=CC1)\",\n",
    "            \"polystyrene\": \"c1ccccc1C&1&1\",\n",
    "            \"primary alcohol\": \"O\",\n",
    "            \"primary amine\": \"N\",\n",
    "            \"propan-2-one\": \"CC(C)=O\",\n",
    "            \"propanol\": \"CCC=O\",\n",
    "            \"prop-1-ene\": \"CC=C\",\n",
    "            \"prop-1-yne\": \"CC#C\",\n",
    "            \"pyridine\": \"N1CCCCC1\",\n",
    "            \"pyridine-n-oxide\": \"O=N1CCCCC1\",\n",
    "            \"secondary amine\": \"NC\",\n",
    "            \"spiro[5.5]undecane\": \"C12(CCCCC1)CCCCC2\",\n",
    "            \"sulfoxide\": \"S(=O)(=O)\",\n",
    "            \"tetramethylammonium\": \"C[N+](C)(C)C\",\n",
    "            \"thiol\": \"S\",\n",
    "            \"thiosulfate\": \"OS(=O)(=S)O\",\n",
    "            \"trimethylamine\": \"CN(C)C\",\n",
    "            \"triphenylene\": \"C1(C=CC=C2)=C2C(C=CC=C3)=C3C4=C1C=CC=C4\",\n",
    "        }\n",
    "\n",
    "        return smiles\n",
    "\n",
    "    @staticmethod\n",
    "    def get_smarts():\n",
    "\n",
    "        smarts = {\n",
    "            \"acetic anydride\": \"[CX3](=[OX1])[OX2][CX3](=[OX1])\",\n",
    "            \"acetylenic carbon\": \"[$([CX2]#C)]\",\n",
    "            \"acyl bromide\": \"[CX3](=[OX1])[Br]\",\n",
    "            \"acyl chloride\": \"[CX3](=[OX1])[Cl]\",\n",
    "            \"acyl fluoride\": \"[CX3](=[OX1])[F]\",\n",
    "            \"acyl iodide\": \"[CX3](=[OX1])[I]\",\n",
    "            \"aldehyde\": \"[CX3H1](=O)[#6]\",\n",
    "            \"alkane\": \"[CX4]\",\n",
    "            \"allenic carbon\": \"[$([CX2](=C)=C)]\",\n",
    "            \"amide\": \"[NX3][CX3](=[OX1])[#6]\",\n",
    "            \"amidium\": \"[NX3][CX3]=[NX3+]\",\n",
    "            \"amino acid\": \"[$([NX3H2,NX4H3+]),$([NX3H](C)(C))][CX4H]([*])[CX3](=[OX1])[OX2H,OX1-,N]\",\n",
    "            \"azide\": \"[$(-[NX2-]-[NX2+]#[NX1]),$(-[NX2]=[NX2+]=[NX1-])]\",\n",
    "            \"azo nitrogen\": \"[NX2]=N\",\n",
    "            \"azole\": \"[$([nr5]:[nr5,or5,sr5]),$([nr5]:[cr5]:[nr5,or5,sr5])]\",\n",
    "            \"azoxy nitrogen\": \"[$([NX2]=[NX3+]([O-])[#6]),$([NX2]=[NX3+0](=[O])[#6])]\",\n",
    "            \"diazene\": \"[NX2]=[NX2]\",\n",
    "            \"diazo nitrogen\": \"[$([#6]=[N+]=[N-]),$([#6-]-[N+]#[N])]\",\n",
    "            \"bromine\": \"[Br]\",\n",
    "            \"carbamate\": \"[NX3,NX4+][CX3](=[OX1])[OX2,OX1-]\",\n",
    "            \"carbamic ester\": \"[NX3][CX3](=[OX1])[OX2H0]\",\n",
    "            \"carbamic acid\": \"[NX3,NX4+][CX3](=[OX1])[OX2H,OX1-]\",\n",
    "            \"carbo azosulfone\": \"[SX4](C)(C)(=O)=N\",\n",
    "            \"carbo thiocarboxylate\": \"[S-][CX3](=S)[#6]\",\n",
    "            \"carbo thioester\": \"S([#6])[CX3](=O)[#6]\",\n",
    "            \"carboxylate ion\": \"[CX3](=O)[O-]\",\n",
    "            \"carbonic acid\": \"[CX3](=[OX1])(O)O\",\n",
    "            \"carbonic ester\": \"C[OX2][CX3](=[OX1])[OX2]C\",\n",
    "            \"carbonyl group\": \"[$([CX3]=[OX1]),$([CX3+]-[OX1-])]\",\n",
    "            \"carbonyl with carbon\": \"[CX3](=[OX1])C\",\n",
    "            \"carbonyl with nitrogen\": \"[OX1]=CN\",\n",
    "            \"carbonyl with oxygen\": \"[CX3](=[OX1])O\",\n",
    "            \"carboxylic acid\": \"[CX3](=O)[OX1H0-,OX2H1]\",\n",
    "            \"chlorine\": \"[Cl]\",\n",
    "            \"cyanamide\": \"[NX3][CX2]#[NX1]\",\n",
    "            \"di sulfide\": \"[#16X2H0][#16X2H0]\",\n",
    "            \"enamine\": \"[NX3][CX3]=[CX3]\",\n",
    "            \"enol\": \"[OX2H][#6X3]=[#6]\",\n",
    "            \"ester\": \"[#6][CX3](=O)[OX2H0][#6]\",\n",
    "            \"ether\": \"[OD2]([#6])[#6]\",\n",
    "            \"fluorine\": \"[F]\",\n",
    "            \"hydrogen\": \"[H]\",\n",
    "            \"hydrazine\": \"[NX3][NX3]\",\n",
    "            \"hydrazone\": \"[NX3][NX2]=[*]\",\n",
    "            \"hydroxyl\": \"[OX2H]\",\n",
    "            \"hydroxyl in alcohol\": \"[#6][OX2H]\",\n",
    "            \"hydroxyl in carboxylic acid\": \"[OX2H][CX3]=[OX1]\",\n",
    "            \"isonitrile\": \"[CX1-]#[NX2+]\",\n",
    "            \"imide\": \"[CX3](=[OX1])[NX3H][CX3](=[OX1])\",\n",
    "            \"imine\": \"[CX3;$([C]([#6])[#6]),$([CH][#6])]=[NX2][#6]\",\n",
    "            \"iminium\": \"[NX3+]=[CX3]\",\n",
    "            \"ketone\": \"[CX3]=[OX1]\",\n",
    "            \"peroxide\": \"[OX2,OX1-][OX2,OX1-]\",\n",
    "            \"phenol\": \"[OX2H][cX3]:[c]\",\n",
    "            \"phosphoric acid\": \"[$(P(=[OX1])([$([OX2H]),$([OX1-]),$([OX2]P)])([$([OX2H]),$([OX1-]),$([OX2]P)])[$([OX2H]),$([OX1-]),$([OX2]P)]),$([P+]([OX1-])([$([OX2H]),$([OX1-]),$([OX2]P)])([$([OX2H]),$([OX1-]),$([OX2]P)])[$([OX2H]),$([OX1-]),$([OX2]P)])]\",\n",
    "            \"phosphoric ester\": \"[$(P(=[OX1])([OX2][#6])([$([OX2H]),$([OX1-]),$([OX2][#6])])[$([OX2H]),$([OX1-]),$([OX2][#6]),$([OX2]P)]),$([P+]([OX1-])([OX2][#6])([$([OX2H]),$([OX1-]),$([OX2][#6])])[$([OX2H]),$([OX1-]),$([OX2][#6]),$([OX2]P)])]\",\n",
    "            \"primary alcohol\": \"[OX2H]\",\n",
    "            \"primary amine\": \"[NX3;H2;!$(NC=[!#6]);!$(NC#[!#6])][#6]\",\n",
    "            \"proton\": \"[H+]\",\n",
    "            \"mono sulfide\": \"[#16X2H0][!#16]\",\n",
    "            \"nitrate\": \"[$([NX3](=[OX1])(=[OX1])O),$([NX3+]([OX1-])(=[OX1])O)]\",\n",
    "            \"nitrile\": \"[NX1]#[CX2]\",\n",
    "            \"nitro\": \"[$([NX3](=O)=O),$([NX3+](=O)[O-])][!#8]\",\n",
    "            \"nitroso\": \"[NX2]=[OX1]\",\n",
    "            \"n-oxide\": \"[$([#7+][OX1-]),$([#7v5]=[OX1]);!$([#7](~[O])~[O]);!$([#7]=[#7])]\",\n",
    "            \"secondary amine\": \"[NX3;H2,H1;!$(NC=O)]\",\n",
    "            \"sulfate\": \"[$([#16X4](=[OX1])(=[OX1])([OX2H,OX1H0-])[OX2][#6]),$([#16X4+2]([OX1-])([OX1-])([OX2H,OX1H0-])[OX2][#6])]\",\n",
    "            \"sulfamate\": \"[$([#16X4]([NX3])(=[OX1])(=[OX1])[OX2][#6]),$([#16X4+2]([NX3])([OX1-])([OX1-])[OX2][#6])]\",\n",
    "            \"sulfamic acid\": \"[$([#16X4]([NX3])(=[OX1])(=[OX1])[OX2H,OX1H0-]),$([#16X4+2]([NX3])([OX1-])([OX1-])[OX2H,OX1H0-])]\",\n",
    "            \"sulfenic acid\": \"[#16X2][OX2H,OX1H0-]\",\n",
    "            \"sulfenate\": \"[#16X2][OX2H0]\",\n",
    "            \"sulfide\": \"[#16X2H0]\",\n",
    "            \"sulfonate\": \"[$([#16X4](=[OX1])(=[OX1])([#6])[OX2H0]),$([#16X4+2]([OX1-])([OX1-])([#6])[OX2H0])]\",\n",
    "            \"sulfinate\": \"[$([#16X3](=[OX1])[OX2H0]),$([#16X3+]([OX1-])[OX2H0])]\",\n",
    "            \"sulfinic acid\": \"[$([#16X3](=[OX1])[OX2H,OX1H0-]),$([#16X3+]([OX1-])[OX2H,OX1H0-])]\",\n",
    "            \"sulfonamide\": \"[$([#16X4]([NX3])(=[OX1])(=[OX1])[#6]),$([#16X4+2]([NX3])([OX1-])([OX1-])[#6])]\",\n",
    "            \"sulfone\": \"[$([#16X4](=[OX1])(=[OX1])([#6])[#6]),$([#16X4+2]([OX1-])([OX1-])([#6])[#6])]\",\n",
    "            \"sulfonic acid\": \"[$([#16X4](=[OX1])(=[OX1])([#6])[OX2H,OX1H0-]),$([#16X4+2]([OX1-])([OX1-])([#6])[OX2H,OX1H0-])]\",\n",
    "            \"sulfoxide\": \"[$([#16X3](=[OX1])([#6])[#6]),$([#16X3+]([OX1-])([#6])[#6])]\",\n",
    "            \"sulfur\": \"[#16!H0]\",\n",
    "            \"sulfuric acid ester\": \"[$([SX4](=O)(=O)(O)O),$([SX4+2]([O-])([O-])(O)O)]\",\n",
    "            \"sulfuric acid diester\": \"[$([#16X4](=[OX1])(=[OX1])([OX2][#6])[OX2][#6]),$([#16X4](=[OX1])(=[OX1])([OX2][#6])[OX2][#6])]\",\n",
    "            \"thioamide\": \"[NX3][CX3]=[SX1]\",\n",
    "            \"thiol\": \"[#16X2H]\",\n",
    "            \"vinylic carbon\": \"[$([CX3]=[CX3])]\",\n",
    "        }\n",
    "\n",
    "        return smarts"
   ]
  },
  {
   "cell_type": "code",
   "execution_count": 3,
   "id": "733c700c",
   "metadata": {},
   "outputs": [],
   "source": [
    "# Plotting defaults\n",
    "font_list = font_manager.findSystemFonts(fontpaths=[\"/gstore/home/tsenga5/modules/fonts\"])\n",
    "for font in font_list:\n",
    "    font_manager.fontManager.addfont(font)\n",
    "plot_params = {\n",
    "    \"figure.titlesize\": 22,\n",
    "    \"axes.titlesize\": 22,\n",
    "    \"axes.labelsize\": 20,\n",
    "    \"legend.fontsize\": 18,\n",
    "    \"font.size\": 13,\n",
    "    \"xtick.labelsize\": 16,\n",
    "    \"ytick.labelsize\": 16,\n",
    "    \"font.family\": \"Roboto\",\n",
    "    \"font.weight\": \"bold\",\n",
    "    \"svg.fonttype\": \"none\"\n",
    "}\n",
    "plt.rcParams.update(plot_params)"
   ]
  },
  {
   "cell_type": "code",
   "execution_count": 4,
   "id": "df22d86f",
   "metadata": {},
   "outputs": [],
   "source": [
    "# Define device\n",
    "if torch.cuda.is_available():\n",
    "    DEVICE = \"cuda\"\n",
    "else:\n",
    "    DEVICE = \"cpu\""
   ]
  },
  {
   "cell_type": "markdown",
   "id": "dfe528ba",
   "metadata": {},
   "source": [
    "### Define constants and paths"
   ]
  },
  {
   "cell_type": "code",
   "execution_count": 5,
   "id": "ecddf998",
   "metadata": {},
   "outputs": [],
   "source": [
    "models_base_path = \"/gstore/scratch/u/tsenga5/branched_diffusion/models/trained_models/\"\n",
    "\n",
    "# model_path = os.path.join(models_base_path, \"zinc250k_continuous_cycle_0_1/7/last_ckpt.pth\")\n",
    "# model_path = os.path.join(models_base_path, \"zinc250k_continuous_num_cycles_b0.15/2/last_ckpt.pth\")\n",
    "model_path = os.path.join(models_base_path, \"zinc250k_continuous_elements_b0.15/3/last_ckpt.pth\")"
   ]
  },
  {
   "cell_type": "code",
   "execution_count": 6,
   "id": "e395da27",
   "metadata": {},
   "outputs": [],
   "source": [
    "classes = [0, 1]\n",
    "branch_defs = [((0, 1), 0.15, 1), ((0,), 0, 0.15), ((1,), 0, 0.15)]"
   ]
  },
  {
   "cell_type": "code",
   "execution_count": 7,
   "id": "951177e3",
   "metadata": {},
   "outputs": [
    {
     "name": "stderr",
     "output_type": "stream",
     "text": [
      "100%|██████████████████████████████████████████████████████████████████████████████████████████████████████████████| 249455/249455 [00:49<00:00, 5066.78it/s]\n"
     ]
    }
   ],
   "source": [
    "# dataset = molecule_dataset.ZINCDataset(label_method=\"num_cycles\", nums_to_label=[0, 1])\n",
    "dataset = molecule_dataset.ZINCDataset(label_method=\"elements\")\n",
    "\n",
    "# Limit classes\n",
    "inds = np.isin(dataset.target, classes)\n",
    "dataset.all_smiles = dataset.all_smiles[inds]\n",
    "dataset.target = dataset.target[inds]\n",
    "\n",
    "data_loader = torch.utils.data.DataLoader(dataset, batch_size=128, shuffle=True, num_workers=0)\n",
    "input_shape = next(iter(data_loader))[0].shape[1:]"
   ]
  },
  {
   "cell_type": "code",
   "execution_count": 8,
   "id": "bb505c32",
   "metadata": {},
   "outputs": [],
   "source": [
    "sde = graph_adj_x_diffusion.AXJointSDE(0.1, 1, 0.2, 1, input_shape)\n",
    "\n",
    "t_limit = 1"
   ]
  },
  {
   "cell_type": "code",
   "execution_count": 9,
   "id": "2044a3e7",
   "metadata": {},
   "outputs": [],
   "source": [
    "# out_path = \"/gstore/home/tsenga5/branched_diffusion/figures/zinc250k_examples/elements\"\n",
    "\n",
    "# os.makedirs(out_path, exist_ok=True)"
   ]
  },
  {
   "cell_type": "markdown",
   "id": "3c07baf0",
   "metadata": {},
   "source": [
    "### Import the model"
   ]
  },
  {
   "cell_type": "code",
   "execution_count": 10,
   "id": "5b6d3f84",
   "metadata": {},
   "outputs": [],
   "source": [
    "# TODO: this is currently rather inefficient; a decision-tree-style structure\n",
    "# would be better\n",
    "\n",
    "def class_time_to_branch(c, t):\n",
    "    \"\"\"\n",
    "    Given a class and a time (both scalars), return the\n",
    "    corresponding branch index.\n",
    "    \"\"\"\n",
    "    for i, branch_def in enumerate(branch_defs):\n",
    "        if c in branch_def[0] and t >= branch_def[1] and t <= branch_def[2]:\n",
    "            return i\n",
    "    raise ValueError(\"Undefined class and time\")\n",
    "        \n",
    "def class_time_to_branch_tensor(c, t):\n",
    "    \"\"\"\n",
    "    Given tensors of classes and a times, return the\n",
    "    corresponding branch indices as a tensor.\n",
    "    \"\"\"\n",
    "    return torch.tensor([\n",
    "        class_time_to_branch(c_i, t_i) for c_i, t_i in zip(c, t)\n",
    "    ], device=DEVICE)"
   ]
  },
  {
   "cell_type": "code",
   "execution_count": 11,
   "id": "0f1c1981",
   "metadata": {},
   "outputs": [],
   "source": [
    "model = model_util.load_model(\n",
    "    graph_net.GraphJointNetwork,\n",
    "    model_path\n",
    ").to(DEVICE)"
   ]
  },
  {
   "cell_type": "markdown",
   "id": "71f84775",
   "metadata": {},
   "source": [
    "### Sample molecules"
   ]
  },
  {
   "cell_type": "code",
   "execution_count": 12,
   "id": "b66887aa",
   "metadata": {},
   "outputs": [],
   "source": [
    "ATOM_SYMBOLS = [\"C\", \"N\", \"O\", \"F\", \"S\", \"Cl\", \"Br\", \"I\", \"P\"]\n",
    "BOND_TYPES = [rdkit.Chem.rdchem.BondType.SINGLE, rdkit.Chem.rdchem.BondType.DOUBLE, rdkit.Chem.rdchem.BondType.TRIPLE]\n",
    "\n",
    "def samples_to_adj_x(samps):\n",
    "    \"\"\"\n",
    "    Given a B x M x (M + D) array of adjacency matrices and node features,\n",
    "    discretizes them and returns the adjacency matrices (B x M x M) and\n",
    "    node features (B x M x D),\n",
    "    \"\"\"\n",
    "    s = samps.shape[1]\n",
    "    adj, x = samps[:, :, :s], samps[:, :, s:]\n",
    "    \n",
    "    # Discretize\n",
    "    adj[adj < 0.5] = 0\n",
    "    adj[(adj >= 0.5) & (adj < 1.5)] = 1\n",
    "    adj[(adj >= 1.5) & (adj < 2.5)] = 2\n",
    "    adj[adj >= 2.5] = 3\n",
    "    adj = np.triu(adj, k=1)\n",
    "    adj = adj + np.swapaxes(adj, 1, 2)\n",
    "    x[x < 0.5] = 0\n",
    "    x[x >= 0.5] = 1\n",
    "    adj, x = adj.astype(int), x.astype(int)\n",
    "    return adj, x\n",
    "\n",
    "def samples_to_rdkmols(adj, x, flags):\n",
    "    \"\"\"\n",
    "    Given a B x M x M adjacency matrix batch and B x M x D node feature\n",
    "    batch, and a B x M binary array of flags (all NumPy arrays),\n",
    "    converts them to RDKit molecule objects.\n",
    "    \"\"\"\n",
    "    mol_sizes = np.sum(flags, axis=1)\n",
    "    atomic_nums = np.argmax(x, axis=2)\n",
    "    \n",
    "    mols = []\n",
    "    for i in range(len(adj)):\n",
    "        size = mol_sizes[i]\n",
    "        a, atoms = adj[i][:size][:, :size], atomic_nums[i][:size]\n",
    "        mol = rdkit.Chem.RWMol()\n",
    "        \n",
    "        for atom in atoms:\n",
    "            mol.AddAtom(rdkit.Chem.Atom(ATOM_SYMBOLS[atom]))\n",
    "            \n",
    "        for u, v in zip(*np.nonzero(np.triu(a, k=1))):\n",
    "            mol.AddBond(int(u), int(v), BOND_TYPES[a[u, v] - 1])\n",
    "        \n",
    "        mol.UpdatePropertyCache(strict=False)  # Set valences\n",
    "        \n",
    "        mols.append(mol)\n",
    "    return mols\n",
    "\n",
    "def plot_molecule(mol):\n",
    "    mc = rdkit.Chem.Mol(mol.ToBinary())\n",
    "    rdkit.Chem.Kekulize(mc)\n",
    "    \n",
    "    drawer = rdkit.Chem.Draw.rdMolDraw2D.MolDraw2DSVG(450, 150)\n",
    "    drawer.DrawMolecule(mc)\n",
    "    drawer.FinishDrawing()\n",
    "    svg = drawer.GetDrawingText()\n",
    "    return IPython.display.SVG(svg.replace(\"svg:\",\"\"))"
   ]
  },
  {
   "cell_type": "code",
   "execution_count": 13,
   "id": "6726f308",
   "metadata": {},
   "outputs": [],
   "source": [
    "# samples = {}\n",
    "# num_samples_per_class = 32\n",
    "# for class_to_sample in classes:\n",
    "#     # Sample some initial node flags\n",
    "#     inds = np.random.choice(np.where(dataset.target == class_to_sample)[0], size=num_samples_per_class, replace=True)\n",
    "#     batch = torch.stack([dataset[i][0] for i in inds], dim=0)\n",
    "#     adj = batch[:, :, :batch.shape[1]]\n",
    "#     sampled_flags = graph_net.node_flags(adj)\n",
    "    \n",
    "#     sample = graph_adj_x_diffusion.generate_continuous_branched_samples(\n",
    "#         model, sde, class_to_sample, class_time_to_branch_tensor,\n",
    "#         sampled_flags, num_samples=num_samples_per_class, t_limit=t_limit,\n",
    "#         num_steps=1000, verbose=True\n",
    "#     ).cpu().numpy()\n",
    "#     samples[class_to_sample] = sample"
   ]
  },
  {
   "cell_type": "code",
   "execution_count": 14,
   "id": "4be96b21",
   "metadata": {},
   "outputs": [],
   "source": [
    "# # Convert to molecule objects\n",
    "# mol_samples = {}\n",
    "# for class_to_sample in classes:\n",
    "#     samps = samples[class_to_sample]\n",
    "    \n",
    "#     # Separate and discretize\n",
    "#     adj, x = samples_to_adj_x(samps)\n",
    "    \n",
    "#     # Convert\n",
    "#     mol_samples[class_to_sample] = samples_to_rdkmols(adj, x, sampled_flags.cpu().numpy().astype(int))"
   ]
  },
  {
   "cell_type": "code",
   "execution_count": 15,
   "id": "9a8f40fe",
   "metadata": {
    "scrolled": false
   },
   "outputs": [],
   "source": [
    "# for class_to_sample in classes:\n",
    "#     print(class_to_sample)\n",
    "#     for mol in mol_samples[class_to_sample]:\n",
    "#         IPython.display.display(plot_molecule(mol))\n",
    "#         print(rdkit.Chem.MolToSmiles(mol))"
   ]
  },
  {
   "cell_type": "markdown",
   "id": "4dfd4fbb",
   "metadata": {},
   "source": [
    "### Transmutation"
   ]
  },
  {
   "cell_type": "code",
   "execution_count": 16,
   "id": "ba8bcdb5",
   "metadata": {},
   "outputs": [],
   "source": [
    "class_1, class_2 = 0, 1\n",
    "branch_time = branch_defs[min(\n",
    "    range(len(branch_defs)),\n",
    "    key=(lambda i: branch_defs[i][1] if (\n",
    "        class_1 in branch_defs[i][0] and class_2 in branch_defs[i][0]\n",
    "    ) else float(\"inf\"))\n",
    ")][1]\n",
    "\n",
    "orig_1 = torch.stack([\n",
    "    dataset[i][0].to(DEVICE) for i in \n",
    "    np.random.choice(np.where(dataset.target == class_1)[0], size=200, replace=False)\n",
    "])\n",
    "orig_2 = torch.stack([\n",
    "    dataset[i][0].to(DEVICE) for i in \n",
    "    np.random.choice(np.where(dataset.target == class_2)[0], size=200, replace=False)\n",
    "])\n",
    "orig_1_adj = orig_1[:, :, :orig_1.shape[1]]\n",
    "orig_1_flags = graph_net.node_flags(orig_1_adj)\n",
    "orig_2_adj = orig_2[:, :, :orig_2.shape[1]]\n",
    "orig_2_flags = graph_net.node_flags(orig_2_adj)\n",
    "\n",
    "time_steps = 10\n",
    "all_t = np.linspace(0, branch_time, time_steps)\n",
    "forward_1_to_2 = np.empty((len(all_t),) + orig_1.shape)\n",
    "backward_1_to_2 = np.empty((len(all_t) - 1,) + orig_1.shape)\n",
    "forward_2_to_1 = np.empty((len(all_t),) + orig_2.shape)\n",
    "backward_2_to_1 = np.empty((len(all_t) - 1,) + orig_2.shape)\n",
    "for t_i, t in enumerate(all_t):\n",
    "    if t_i == 0:\n",
    "        forward_1_to_2[t_i], forward_2_to_1[t_i] = orig_1.cpu().numpy(), orig_2.cpu().numpy()\n",
    "    else:\n",
    "        forward_1_to_2[t_i] = sde.forward(\n",
    "            orig_1, torch.ones(len(orig_1)).to(DEVICE) * t\n",
    "        )[0].cpu().numpy()\n",
    "        forward_2_to_1[t_i] = sde.forward(\n",
    "            orig_2, torch.ones(len(orig_2)).to(DEVICE) * t\n",
    "        )[0].cpu().numpy()\n",
    "\n",
    "all_t_flip = np.flip(all_t)\n",
    "last_1_to_2 = torch.tensor(forward_1_to_2[-1]).to(DEVICE).float()\n",
    "last_2_to_1 = torch.tensor(forward_2_to_1[-1]).to(DEVICE).float()\n",
    "for t_i in range(len(all_t_flip) - 1):\n",
    "    last_1_to_2 = graph_adj_x_diffusion.generate_continuous_branched_samples(\n",
    "        model, sde, class_2, class_time_to_branch_tensor,\n",
    "        orig_1_flags, t_limit=all_t_flip[t_i], t_start=all_t_flip[t_i + 1],\n",
    "        num_samples=orig_1.shape[0], initial_samples=last_1_to_2,\n",
    "        num_steps=50\n",
    "    )\n",
    "    backward_1_to_2[t_i] = last_1_to_2.cpu().numpy()\n",
    "\n",
    "    last_2_to_1 = graph_adj_x_diffusion.generate_continuous_branched_samples(\n",
    "        model, sde, class_1, class_time_to_branch_tensor,\n",
    "        orig_2_flags, t_limit=all_t_flip[t_i], t_start=all_t_flip[t_i + 1],\n",
    "        num_samples=orig_2.shape[0], initial_samples=last_2_to_1,\n",
    "        num_steps=50\n",
    "    )\n",
    "    backward_2_to_1[t_i] = last_2_to_1.cpu().numpy()\n",
    "\n",
    "orig_1, orig_2 = orig_1.cpu().numpy(), orig_2.cpu().numpy()\n",
    "before_1_to_2, after_1_to_2 = forward_1_to_2[0], backward_1_to_2[-1]\n",
    "before_2_to_1, after_2_to_1 = forward_2_to_1[0], backward_2_to_1[-1]"
   ]
  },
  {
   "cell_type": "code",
   "execution_count": 17,
   "id": "9c91b714",
   "metadata": {},
   "outputs": [],
   "source": [
    "# Convert to molecule objects\n",
    "before_1_to_2_adj, before_1_to_2_x = samples_to_adj_x(before_1_to_2)\n",
    "before_1_to_2_mols = samples_to_rdkmols(before_1_to_2_adj, before_1_to_2_x, orig_1_flags.cpu().numpy().astype(int))\n",
    "after_1_to_2_adj, after_1_to_2_x = samples_to_adj_x(after_1_to_2)\n",
    "after_1_to_2_mols = samples_to_rdkmols(after_1_to_2_adj, after_1_to_2_x, orig_1_flags.cpu().numpy().astype(int))\n",
    "before_2_to_1_adj, before_2_to_1_x = samples_to_adj_x(before_2_to_1)\n",
    "before_2_to_1_mols = samples_to_rdkmols(before_2_to_1_adj, before_2_to_1_x, orig_2_flags.cpu().numpy().astype(int))\n",
    "after_2_to_1_adj, after_2_to_1_x = samples_to_adj_x(after_2_to_1)\n",
    "after_2_to_1_mols = samples_to_rdkmols(after_2_to_1_adj, after_2_to_1_x, orig_2_flags.cpu().numpy().astype(int))"
   ]
  },
  {
   "cell_type": "code",
   "execution_count": 18,
   "id": "afda6e30",
   "metadata": {},
   "outputs": [
    {
     "name": "stdout",
     "output_type": "stream",
     "text": [
      "200 198 199 199\n"
     ]
    }
   ],
   "source": [
    "# Counting rings\n",
    "def count_rings(mol):\n",
    "    rdkit.Chem.rdmolops.FastFindRings(mol)\n",
    "    return len(mol.GetRingInfo().AtomRings())\n",
    "before_1_to_2_rings = sum(count_rings(mol) > 0 for mol in before_1_to_2_mols)\n",
    "after_1_to_2_rings = sum(count_rings(mol) > 0 for mol in after_1_to_2_mols)\n",
    "before_2_to_1_rings = sum(count_rings(mol) > 0 for mol in before_2_to_1_mols)\n",
    "after_2_to_1_rings = sum(count_rings(mol) > 0 for mol in after_2_to_1_mols)\n",
    "\n",
    "print(before_1_to_2_rings, after_1_to_2_rings, before_2_to_1_rings, after_2_to_1_rings)"
   ]
  },
  {
   "cell_type": "code",
   "execution_count": 19,
   "id": "c50b03d8",
   "metadata": {},
   "outputs": [
    {
     "name": "stdout",
     "output_type": "stream",
     "text": [
      "0 20 200 0\n"
     ]
    }
   ],
   "source": [
    "# Counting halogens\n",
    "def count_halogens(mol):\n",
    "    return len({\"F\", \"Cl\", \"Br\", \"I\"} & set([a.GetSymbol() for a in mol.GetAtoms()]))\n",
    "before_1_to_2_hals = sum(count_halogens(mol) > 0 for mol in before_1_to_2_mols)\n",
    "after_1_to_2_hals = sum(count_halogens(mol) > 0 for mol in after_1_to_2_mols)\n",
    "before_2_to_1_hals = sum(count_halogens(mol) > 0 for mol in before_2_to_1_mols)\n",
    "after_2_to_1_hals = sum(count_halogens(mol) > 0 for mol in after_2_to_1_mols)\n",
    "\n",
    "print(before_1_to_2_hals, after_1_to_2_hals, before_2_to_1_hals, after_2_to_1_hals)"
   ]
  },
  {
   "cell_type": "code",
   "execution_count": 20,
   "id": "b9573b09",
   "metadata": {},
   "outputs": [
    {
     "name": "stderr",
     "output_type": "stream",
     "text": [
      "[15:39:32] SMILES Parse Error: syntax error while parsing: C&1&1&1&1\n",
      "[15:39:32] SMILES Parse Error: Failed parsing SMILES 'C&1&1&1&1' for input: 'C&1&1&1&1'\n",
      "[15:39:32] SMILES Parse Error: syntax error while parsing: C&1&1&1\n",
      "[15:39:32] SMILES Parse Error: Failed parsing SMILES 'C&1&1&1' for input: 'C&1&1&1'\n",
      "[15:39:32] SMILES Parse Error: syntax error while parsing: c1ccccc1C&1&1\n",
      "[15:39:32] SMILES Parse Error: Failed parsing SMILES 'c1ccccc1C&1&1' for input: 'c1ccccc1C&1&1'\n",
      "[15:39:32] Explicit valence for atom # 1 N, 4, is greater than permitted\n",
      "[15:39:32] SMARTS Parse Error: syntax error while parsing: [$(-[NX2-]-[NX2+]#[NX1])_100,$(-[NX2]=[NX2+]=[NX1-])_101]\n",
      "[15:39:32] SMARTS Parse Error: Failed parsing SMARTS '[$(-[NX2-]-[NX2+]#[NX1])_100,$(-[NX2]=[NX2+]=[NX1-])_101]' for input: '[$(-[NX2-]-[NX2+]#[NX1]),$(-[NX2]=[NX2+]=[NX1-])]'\n"
     ]
    }
   ],
   "source": [
    "functional_groups = {}\n",
    "open_smiles = OpenSmiles()\n",
    "for key, s in open_smiles.get_smiles().items():\n",
    "    functional_groups[key] = rdkit.Chem.MolFromSmiles(s)\n",
    "for key, s in open_smiles.get_smarts().items():\n",
    "    functional_groups[key] = rdkit.Chem.MolFromSmarts(s)\n",
    "    \n",
    "# Filter for only those with non-None pattern\n",
    "functional_groups = {\n",
    "    key : mol for key, mol in functional_groups.items() if mol #and set([a.GetSymbol() for a in mol.GetAtoms()]) != {\"C\"}\n",
    "}"
   ]
  },
  {
   "cell_type": "code",
   "execution_count": 21,
   "id": "92cee1ac",
   "metadata": {},
   "outputs": [],
   "source": [
    "def quantify_match(mol_1, mol_2):\n",
    "    mol_1_keys, mol_2_keys = set(), set()\n",
    "    for fg_key, fg_pattern in functional_groups.items():\n",
    "        if mol_1.GetSubstructMatches(fg_pattern):\n",
    "            mol_1_keys.add(fg_key)\n",
    "        if mol_2.GetSubstructMatches(fg_pattern):\n",
    "            mol_2_keys.add(fg_key)\n",
    "    return len(mol_1_keys & mol_2_keys) / len(mol_1_keys | mol_2_keys)\n",
    "\n",
    "ious_1_to_2 = [quantify_match(before_1_to_2_mols[i], after_1_to_2_mols[i]) for i in range(len(before_1_to_2_mols))]\n",
    "ious_1_to_2_baseline = [quantify_match(before_1_to_2_mols[i], before_2_to_1_mols[i]) for i in range(len(before_1_to_2_mols))]\n",
    "ious_2_to_1 = [quantify_match(before_2_to_1_mols[i], after_2_to_1_mols[i]) for i in range(len(before_2_to_1_mols))]\n",
    "ious_2_to_1_baseline = [quantify_match(before_2_to_1_mols[i], before_1_to_2_mols[i]) for i in range(len(before_2_to_1_mols))]"
   ]
  },
  {
   "cell_type": "code",
   "execution_count": 22,
   "id": "66a33ae4",
   "metadata": {},
   "outputs": [
    {
     "data": {
      "image/png": "[encoded data removed]",
      "text/plain": [
       "<Figure size 1440x720 with 2 Axes>"
      ]
     },
     "metadata": {
      "needs_background": "light"
     },
     "output_type": "display_data"
    }
   ],
   "source": [
    "fig, ax = plt.subplots(nrows=2, figsize=(20, 10))\n",
    "ax[0].hist(ious_1_to_2, bins=10, density=True, alpha=0.3, color=\"royalblue\")\n",
    "ax[0].hist(ious_1_to_2_baseline, bins=10, density=True, alpha=0.3, color=\"darkorange\")\n",
    "ax[1].hist(ious_2_to_1, bins=10, density=True, alpha=0.3, color=\"royalblue\")\n",
    "ax[1].hist(ious_2_to_1_baseline, bins=10, density=True, alpha=0.3, color=\"darkorange\")\n",
    "plt.show()"
   ]
  },
  {
   "cell_type": "code",
   "execution_count": 23,
   "id": "cabc8d02",
   "metadata": {},
   "outputs": [
    {
     "name": "stdout",
     "output_type": "stream",
     "text": [
      "Ttest_relResult(statistic=8.137885733314302, pvalue=2.1487095620711945e-14)\n",
      "Ttest_relResult(statistic=6.444770143925278, pvalue=4.2770850966889164e-10)\n"
     ]
    }
   ],
   "source": [
    "print(scipy.stats.ttest_rel(ious_1_to_2, ious_1_to_2_baseline, alternative=\"greater\"))\n",
    "print(scipy.stats.ttest_rel(ious_2_to_1, ious_2_to_1_baseline, alternative=\"greater\"))"
   ]
  },
  {
   "cell_type": "code",
   "execution_count": 24,
   "id": "8e043914",
   "metadata": {},
   "outputs": [
    {
     "data": {
      "application/vnd.jupyter.widget-view+json": {
       "model_id": "77207cc2c2ff4d6cb4d7a75ea668bfc7",
       "version_major": 2,
       "version_minor": 0
      },
      "text/plain": [
       "  0%|          | 0/249455 [00:00<?, ?it/s]"
      ]
     },
     "metadata": {},
     "output_type": "display_data"
    }
   ],
   "source": [
    "import tqdm\n",
    "def mol_to_canon_smiles(mol):\n",
    "    return rdkit.Chem.MolToSmiles(mol)\n",
    "\n",
    "all_dataset_smiles = set([\n",
    "    mol_to_canon_smiles(rdkit.Chem.MolFromSmiles(s)) for s in tqdm.notebook.tqdm(dataset.all_smiles)\n",
    "])"
   ]
  },
  {
   "cell_type": "code",
   "execution_count": 25,
   "id": "a0d86f52",
   "metadata": {},
   "outputs": [
    {
     "name": "stdout",
     "output_type": "stream",
     "text": [
      "0 0\n"
     ]
    }
   ],
   "source": [
    "nonunique_1_to_2 = [\n",
    "    mol_to_canon_smiles(mol) in all_dataset_smiles for mol in after_1_to_2_mols\n",
    "]\n",
    "nonunique_2_to_1 = [\n",
    "    mol_to_canon_smiles(mol) in all_dataset_smiles for mol in after_2_to_1_mols\n",
    "]\n",
    "print(sum(nonunique_1_to_2), sum(nonunique_2_to_1))"
   ]
  },
  {
   "cell_type": "code",
   "execution_count": 26,
   "id": "789c22b4",
   "metadata": {},
   "outputs": [],
   "source": [
    "import rdkit.Chem.AllChem\n",
    "def get_fingerprints(mols, radius=2, nBits=2048):\n",
    "    \"\"\"\n",
    "    For N molecule objects, returns an N x D NumPy array of fingerprints.\n",
    "    \"\"\"\n",
    "    fps = [\n",
    "        rdkit.Chem.AllChem.GetMorganFingerprintAsBitVect(m, radius=radius, nBits=nBits)\n",
    "        for m in mols\n",
    "    ]\n",
    "    \n",
    "    fp_arrs = []\n",
    "    for fp in fps:\n",
    "        arr = np.zeros((1,))\n",
    "        rdkit.DataStructs.cDataStructs.ConvertToNumpyArray(fp, arr)\n",
    "        fp_arrs.append(arr)\n",
    "    return np.stack(fp_arrs)\n",
    "\n",
    "import sklearn.metrics\n",
    "def fingerprints_to_distances(fps, metric=\"dice\"):\n",
    "    matrix = sklearn.metrics.pairwise_distances(fps, metric=metric)\n",
    "    return matrix[np.triu_indices(matrix.shape[0], k=1)]"
   ]
  },
  {
   "cell_type": "code",
   "execution_count": 27,
   "id": "d08ada1e",
   "metadata": {},
   "outputs": [],
   "source": [
    "after_1_to_2_fps = get_fingerprints(after_1_to_2_mols)\n",
    "after_2_to_1_fps = get_fingerprints(after_2_to_1_mols)\n",
    "before_1_to_2_fps = get_fingerprints(before_1_to_2_mols)\n",
    "before_2_to_1_fps = get_fingerprints(before_2_to_1_mols)"
   ]
  },
  {
   "cell_type": "code",
   "execution_count": 28,
   "id": "51f3bcaa",
   "metadata": {
    "scrolled": true
   },
   "outputs": [
    {
     "name": "stderr",
     "output_type": "stream",
     "text": [
      "/local/13718025/ipykernel_903/3639525187.py:8: RuntimeWarning: Precision loss occurred in moment calculation due to catastrophic cancellation. This occurs when the data are nearly identical. Results may be unreliable.\n",
      "  p_1_to_2 = scipy.stats.ttest_ind(after_1_to_2_dists, before_2_to_1_dists)[1]\n",
      "/local/13718025/ipykernel_903/3639525187.py:9: RuntimeWarning: Precision loss occurred in moment calculation due to catastrophic cancellation. This occurs when the data are nearly identical. Results may be unreliable.\n",
      "  p_2_to_1 = scipy.stats.ttest_ind(after_2_to_1_dists, before_1_to_2_dists)[1]\n",
      "/gstore/home/tsenga5/miniconda3/envs/graph-diff/lib/python3.8/site-packages/sklearn/metrics/pairwise.py:2008: DataConversionWarning: Data was converted to boolean for metric dice\n",
      "  warnings.warn(msg, DataConversionWarning)\n",
      "/gstore/home/tsenga5/miniconda3/envs/graph-diff/lib/python3.8/site-packages/sklearn/metrics/pairwise.py:2008: DataConversionWarning: Data was converted to boolean for metric dice\n",
      "  warnings.warn(msg, DataConversionWarning)\n",
      "/gstore/home/tsenga5/miniconda3/envs/graph-diff/lib/python3.8/site-packages/sklearn/metrics/pairwise.py:2008: DataConversionWarning: Data was converted to boolean for metric dice\n",
      "  warnings.warn(msg, DataConversionWarning)\n",
      "/gstore/home/tsenga5/miniconda3/envs/graph-diff/lib/python3.8/site-packages/sklearn/metrics/pairwise.py:2008: DataConversionWarning: Data was converted to boolean for metric dice\n",
      "  warnings.warn(msg, DataConversionWarning)\n",
      "/gstore/home/tsenga5/miniconda3/envs/graph-diff/lib/python3.8/site-packages/sklearn/metrics/pairwise.py:2008: DataConversionWarning: Data was converted to boolean for metric jaccard\n",
      "  warnings.warn(msg, DataConversionWarning)\n",
      "/gstore/home/tsenga5/miniconda3/envs/graph-diff/lib/python3.8/site-packages/sklearn/metrics/pairwise.py:2008: DataConversionWarning: Data was converted to boolean for metric jaccard\n",
      "  warnings.warn(msg, DataConversionWarning)\n",
      "/gstore/home/tsenga5/miniconda3/envs/graph-diff/lib/python3.8/site-packages/sklearn/metrics/pairwise.py:2008: DataConversionWarning: Data was converted to boolean for metric jaccard\n",
      "  warnings.warn(msg, DataConversionWarning)\n",
      "/gstore/home/tsenga5/miniconda3/envs/graph-diff/lib/python3.8/site-packages/sklearn/metrics/pairwise.py:2008: DataConversionWarning: Data was converted to boolean for metric jaccard\n",
      "  warnings.warn(msg, DataConversionWarning)\n",
      "/gstore/home/tsenga5/miniconda3/envs/graph-diff/lib/python3.8/site-packages/sklearn/metrics/pairwise.py:2008: DataConversionWarning: Data was converted to boolean for metric kulsinski\n",
      "  warnings.warn(msg, DataConversionWarning)\n",
      "/gstore/home/tsenga5/miniconda3/envs/graph-diff/lib/python3.8/site-packages/sklearn/metrics/pairwise.py:2008: DataConversionWarning: Data was converted to boolean for metric kulsinski\n",
      "  warnings.warn(msg, DataConversionWarning)\n",
      "/gstore/home/tsenga5/miniconda3/envs/graph-diff/lib/python3.8/site-packages/sklearn/metrics/pairwise.py:2008: DataConversionWarning: Data was converted to boolean for metric kulsinski\n",
      "  warnings.warn(msg, DataConversionWarning)\n",
      "/gstore/home/tsenga5/miniconda3/envs/graph-diff/lib/python3.8/site-packages/sklearn/metrics/pairwise.py:2008: DataConversionWarning: Data was converted to boolean for metric kulsinski\n",
      "  warnings.warn(msg, DataConversionWarning)\n"
     ]
    },
    {
     "ename": "LinAlgError",
     "evalue": "Singular matrix",
     "output_type": "error",
     "traceback": [
      "\u001b[0;31m---------------------------------------------------------------------------\u001b[0m",
      "\u001b[0;31mLinAlgError\u001b[0m                               Traceback (most recent call last)",
      "Input \u001b[0;32mIn [28]\u001b[0m, in \u001b[0;36m<cell line: 2>\u001b[0;34m()\u001b[0m\n\u001b[1;32m      1\u001b[0m r \u001b[38;5;241m=\u001b[39m {}\n\u001b[1;32m      2\u001b[0m \u001b[38;5;28;01mfor\u001b[39;00m d \u001b[38;5;129;01min\u001b[39;00m [\u001b[38;5;124m\"\u001b[39m\u001b[38;5;124mcityblock\u001b[39m\u001b[38;5;124m\"\u001b[39m, \u001b[38;5;124m\"\u001b[39m\u001b[38;5;124mcosine\u001b[39m\u001b[38;5;124m\"\u001b[39m, \u001b[38;5;124m\"\u001b[39m\u001b[38;5;124meuclidean\u001b[39m\u001b[38;5;124m\"\u001b[39m, \u001b[38;5;124m\"\u001b[39m\u001b[38;5;124ml1\u001b[39m\u001b[38;5;124m\"\u001b[39m, \u001b[38;5;124m\"\u001b[39m\u001b[38;5;124ml2\u001b[39m\u001b[38;5;124m\"\u001b[39m, \u001b[38;5;124m\"\u001b[39m\u001b[38;5;124mmanhattan\u001b[39m\u001b[38;5;124m\"\u001b[39m, \u001b[38;5;124m\"\u001b[39m\u001b[38;5;124mbraycurtis\u001b[39m\u001b[38;5;124m\"\u001b[39m, \u001b[38;5;124m\"\u001b[39m\u001b[38;5;124mcanberra\u001b[39m\u001b[38;5;124m\"\u001b[39m, \u001b[38;5;124m\"\u001b[39m\u001b[38;5;124mchebyshev\u001b[39m\u001b[38;5;124m\"\u001b[39m, \u001b[38;5;124m\"\u001b[39m\u001b[38;5;124mcorrelation\u001b[39m\u001b[38;5;124m\"\u001b[39m, \u001b[38;5;124m\"\u001b[39m\u001b[38;5;124mdice\u001b[39m\u001b[38;5;124m\"\u001b[39m, \u001b[38;5;124m\"\u001b[39m\u001b[38;5;124mhamming\u001b[39m\u001b[38;5;124m\"\u001b[39m, \u001b[38;5;124m\"\u001b[39m\u001b[38;5;124mjaccard\u001b[39m\u001b[38;5;124m\"\u001b[39m, \u001b[38;5;124m\"\u001b[39m\u001b[38;5;124mkulsinski\u001b[39m\u001b[38;5;124m\"\u001b[39m, \u001b[38;5;124m\"\u001b[39m\u001b[38;5;124mmahalanobis\u001b[39m\u001b[38;5;124m\"\u001b[39m, \u001b[38;5;124m\"\u001b[39m\u001b[38;5;124mminkowski\u001b[39m\u001b[38;5;124m\"\u001b[39m, \u001b[38;5;124m\"\u001b[39m\u001b[38;5;124mrogerstanimoto\u001b[39m\u001b[38;5;124m\"\u001b[39m, \u001b[38;5;124m\"\u001b[39m\u001b[38;5;124mrussellrao\u001b[39m\u001b[38;5;124m\"\u001b[39m, \u001b[38;5;124m\"\u001b[39m\u001b[38;5;124mseuclidean\u001b[39m\u001b[38;5;124m\"\u001b[39m, \u001b[38;5;124m\"\u001b[39m\u001b[38;5;124msokalmichener\u001b[39m\u001b[38;5;124m\"\u001b[39m, \u001b[38;5;124m\"\u001b[39m\u001b[38;5;124msokalsneath\u001b[39m\u001b[38;5;124m\"\u001b[39m, \u001b[38;5;124m\"\u001b[39m\u001b[38;5;124msqeuclidean\u001b[39m\u001b[38;5;124m\"\u001b[39m, \u001b[38;5;124m\"\u001b[39m\u001b[38;5;124myule\u001b[39m\u001b[38;5;124m\"\u001b[39m]:\n\u001b[0;32m----> 3\u001b[0m     after_1_to_2_dists \u001b[38;5;241m=\u001b[39m \u001b[43mfingerprints_to_distances\u001b[49m\u001b[43m(\u001b[49m\u001b[43mafter_1_to_2_fps\u001b[49m\u001b[43m,\u001b[49m\u001b[43m \u001b[49m\u001b[43mmetric\u001b[49m\u001b[38;5;241;43m=\u001b[39;49m\u001b[43md\u001b[49m\u001b[43m)\u001b[49m\n\u001b[1;32m      4\u001b[0m     after_2_to_1_dists \u001b[38;5;241m=\u001b[39m fingerprints_to_distances(after_2_to_1_fps, metric\u001b[38;5;241m=\u001b[39md)\n\u001b[1;32m      5\u001b[0m     before_1_to_2_dists \u001b[38;5;241m=\u001b[39m fingerprints_to_distances(before_1_to_2_fps, metric\u001b[38;5;241m=\u001b[39md)\n",
      "Input \u001b[0;32mIn [26]\u001b[0m, in \u001b[0;36mfingerprints_to_distances\u001b[0;34m(fps, metric)\u001b[0m\n\u001b[1;32m     19\u001b[0m \u001b[38;5;28;01mdef\u001b[39;00m \u001b[38;5;21mfingerprints_to_distances\u001b[39m(fps, metric\u001b[38;5;241m=\u001b[39m\u001b[38;5;124m\"\u001b[39m\u001b[38;5;124mdice\u001b[39m\u001b[38;5;124m\"\u001b[39m):\n\u001b[0;32m---> 20\u001b[0m     matrix \u001b[38;5;241m=\u001b[39m \u001b[43msklearn\u001b[49m\u001b[38;5;241;43m.\u001b[39;49m\u001b[43mmetrics\u001b[49m\u001b[38;5;241;43m.\u001b[39;49m\u001b[43mpairwise_distances\u001b[49m\u001b[43m(\u001b[49m\u001b[43mfps\u001b[49m\u001b[43m,\u001b[49m\u001b[43m \u001b[49m\u001b[43mmetric\u001b[49m\u001b[38;5;241;43m=\u001b[39;49m\u001b[43mmetric\u001b[49m\u001b[43m)\u001b[49m\n\u001b[1;32m     21\u001b[0m     \u001b[38;5;28;01mreturn\u001b[39;00m matrix[np\u001b[38;5;241m.\u001b[39mtriu_indices(matrix\u001b[38;5;241m.\u001b[39mshape[\u001b[38;5;241m0\u001b[39m], k\u001b[38;5;241m=\u001b[39m\u001b[38;5;241m1\u001b[39m)]\n",
      "File \u001b[0;32m~/miniconda3/envs/graph-diff/lib/python3.8/site-packages/sklearn/metrics/pairwise.py:2015\u001b[0m, in \u001b[0;36mpairwise_distances\u001b[0;34m(X, Y, metric, n_jobs, force_all_finite, **kwds)\u001b[0m\n\u001b[1;32m   2010\u001b[0m X, Y \u001b[38;5;241m=\u001b[39m check_pairwise_arrays(\n\u001b[1;32m   2011\u001b[0m     X, Y, dtype\u001b[38;5;241m=\u001b[39mdtype, force_all_finite\u001b[38;5;241m=\u001b[39mforce_all_finite\n\u001b[1;32m   2012\u001b[0m )\n\u001b[1;32m   2014\u001b[0m \u001b[38;5;66;03m# precompute data-derived metric params\u001b[39;00m\n\u001b[0;32m-> 2015\u001b[0m params \u001b[38;5;241m=\u001b[39m \u001b[43m_precompute_metric_params\u001b[49m\u001b[43m(\u001b[49m\u001b[43mX\u001b[49m\u001b[43m,\u001b[49m\u001b[43m \u001b[49m\u001b[43mY\u001b[49m\u001b[43m,\u001b[49m\u001b[43m \u001b[49m\u001b[43mmetric\u001b[49m\u001b[38;5;241;43m=\u001b[39;49m\u001b[43mmetric\u001b[49m\u001b[43m,\u001b[49m\u001b[43m \u001b[49m\u001b[38;5;241;43m*\u001b[39;49m\u001b[38;5;241;43m*\u001b[39;49m\u001b[43mkwds\u001b[49m\u001b[43m)\u001b[49m\n\u001b[1;32m   2016\u001b[0m kwds\u001b[38;5;241m.\u001b[39mupdate(\u001b[38;5;241m*\u001b[39m\u001b[38;5;241m*\u001b[39mparams)\n\u001b[1;32m   2018\u001b[0m \u001b[38;5;28;01mif\u001b[39;00m effective_n_jobs(n_jobs) \u001b[38;5;241m==\u001b[39m \u001b[38;5;241m1\u001b[39m \u001b[38;5;129;01mand\u001b[39;00m X \u001b[38;5;129;01mis\u001b[39;00m Y:\n",
      "File \u001b[0;32m~/miniconda3/envs/graph-diff/lib/python3.8/site-packages/sklearn/metrics/pairwise.py:1682\u001b[0m, in \u001b[0;36m_precompute_metric_params\u001b[0;34m(X, Y, metric, **kwds)\u001b[0m\n\u001b[1;32m   1680\u001b[0m \u001b[38;5;28;01mif\u001b[39;00m metric \u001b[38;5;241m==\u001b[39m \u001b[38;5;124m\"\u001b[39m\u001b[38;5;124mmahalanobis\u001b[39m\u001b[38;5;124m\"\u001b[39m \u001b[38;5;129;01mand\u001b[39;00m \u001b[38;5;124m\"\u001b[39m\u001b[38;5;124mVI\u001b[39m\u001b[38;5;124m\"\u001b[39m \u001b[38;5;129;01mnot\u001b[39;00m \u001b[38;5;129;01min\u001b[39;00m kwds:\n\u001b[1;32m   1681\u001b[0m     \u001b[38;5;28;01mif\u001b[39;00m X \u001b[38;5;129;01mis\u001b[39;00m Y:\n\u001b[0;32m-> 1682\u001b[0m         VI \u001b[38;5;241m=\u001b[39m \u001b[43mnp\u001b[49m\u001b[38;5;241;43m.\u001b[39;49m\u001b[43mlinalg\u001b[49m\u001b[38;5;241;43m.\u001b[39;49m\u001b[43minv\u001b[49m\u001b[43m(\u001b[49m\u001b[43mnp\u001b[49m\u001b[38;5;241;43m.\u001b[39;49m\u001b[43mcov\u001b[49m\u001b[43m(\u001b[49m\u001b[43mX\u001b[49m\u001b[38;5;241;43m.\u001b[39;49m\u001b[43mT\u001b[49m\u001b[43m)\u001b[49m\u001b[43m)\u001b[49m\u001b[38;5;241m.\u001b[39mT\n\u001b[1;32m   1683\u001b[0m     \u001b[38;5;28;01melse\u001b[39;00m:\n\u001b[1;32m   1684\u001b[0m         \u001b[38;5;28;01mraise\u001b[39;00m \u001b[38;5;167;01mValueError\u001b[39;00m(\n\u001b[1;32m   1685\u001b[0m             \u001b[38;5;124m\"\u001b[39m\u001b[38;5;124mThe \u001b[39m\u001b[38;5;124m'\u001b[39m\u001b[38;5;124mVI\u001b[39m\u001b[38;5;124m'\u001b[39m\u001b[38;5;124m parameter is required for the mahalanobis metric \u001b[39m\u001b[38;5;124m\"\u001b[39m\n\u001b[1;32m   1686\u001b[0m             \u001b[38;5;124m\"\u001b[39m\u001b[38;5;124mwhen Y is passed.\u001b[39m\u001b[38;5;124m\"\u001b[39m\n\u001b[1;32m   1687\u001b[0m         )\n",
      "File \u001b[0;32m<__array_function__ internals>:180\u001b[0m, in \u001b[0;36minv\u001b[0;34m(*args, **kwargs)\u001b[0m\n",
      "File \u001b[0;32m~/miniconda3/envs/graph-diff/lib/python3.8/site-packages/numpy/linalg/linalg.py:552\u001b[0m, in \u001b[0;36minv\u001b[0;34m(a)\u001b[0m\n\u001b[1;32m    550\u001b[0m signature \u001b[38;5;241m=\u001b[39m \u001b[38;5;124m'\u001b[39m\u001b[38;5;124mD->D\u001b[39m\u001b[38;5;124m'\u001b[39m \u001b[38;5;28;01mif\u001b[39;00m isComplexType(t) \u001b[38;5;28;01melse\u001b[39;00m \u001b[38;5;124m'\u001b[39m\u001b[38;5;124md->d\u001b[39m\u001b[38;5;124m'\u001b[39m\n\u001b[1;32m    551\u001b[0m extobj \u001b[38;5;241m=\u001b[39m get_linalg_error_extobj(_raise_linalgerror_singular)\n\u001b[0;32m--> 552\u001b[0m ainv \u001b[38;5;241m=\u001b[39m \u001b[43m_umath_linalg\u001b[49m\u001b[38;5;241;43m.\u001b[39;49m\u001b[43minv\u001b[49m\u001b[43m(\u001b[49m\u001b[43ma\u001b[49m\u001b[43m,\u001b[49m\u001b[43m \u001b[49m\u001b[43msignature\u001b[49m\u001b[38;5;241;43m=\u001b[39;49m\u001b[43msignature\u001b[49m\u001b[43m,\u001b[49m\u001b[43m \u001b[49m\u001b[43mextobj\u001b[49m\u001b[38;5;241;43m=\u001b[39;49m\u001b[43mextobj\u001b[49m\u001b[43m)\u001b[49m\n\u001b[1;32m    553\u001b[0m \u001b[38;5;28;01mreturn\u001b[39;00m wrap(ainv\u001b[38;5;241m.\u001b[39mastype(result_t, copy\u001b[38;5;241m=\u001b[39m\u001b[38;5;28;01mFalse\u001b[39;00m))\n",
      "File \u001b[0;32m~/miniconda3/envs/graph-diff/lib/python3.8/site-packages/numpy/linalg/linalg.py:89\u001b[0m, in \u001b[0;36m_raise_linalgerror_singular\u001b[0;34m(err, flag)\u001b[0m\n\u001b[1;32m     88\u001b[0m \u001b[38;5;28;01mdef\u001b[39;00m \u001b[38;5;21m_raise_linalgerror_singular\u001b[39m(err, flag):\n\u001b[0;32m---> 89\u001b[0m     \u001b[38;5;28;01mraise\u001b[39;00m LinAlgError(\u001b[38;5;124m\"\u001b[39m\u001b[38;5;124mSingular matrix\u001b[39m\u001b[38;5;124m\"\u001b[39m)\n",
      "\u001b[0;31mLinAlgError\u001b[0m: Singular matrix"
     ]
    }
   ],
   "source": [
    "r = {}\n",
    "for d in [\"cityblock\", \"cosine\", \"euclidean\", \"l1\", \"l2\", \"manhattan\", \"braycurtis\", \"canberra\", \"chebyshev\", \"correlation\", \"dice\", \"hamming\", \"jaccard\", \"kulsinski\", \"mahalanobis\", \"minkowski\", \"rogerstanimoto\", \"russellrao\", \"seuclidean\", \"sokalmichener\", \"sokalsneath\", \"sqeuclidean\", \"yule\"]:\n",
    "    after_1_to_2_dists = fingerprints_to_distances(after_1_to_2_fps, metric=d)\n",
    "    after_2_to_1_dists = fingerprints_to_distances(after_2_to_1_fps, metric=d)\n",
    "    before_1_to_2_dists = fingerprints_to_distances(before_1_to_2_fps, metric=d)\n",
    "    before_2_to_1_dists = fingerprints_to_distances(before_2_to_1_fps, metric=d)\n",
    "    \n",
    "    p_1_to_2 = scipy.stats.ttest_ind(after_1_to_2_dists, before_2_to_1_dists)[1]\n",
    "    p_2_to_1 = scipy.stats.ttest_ind(after_2_to_1_dists, before_1_to_2_dists)[1]\n",
    "    \n",
    "    r[d] = np.mean(after_2_to_1_dists) - np.mean(before_1_to_2_dists)\n",
    "    r[d] = p_2_to_1"
   ]
  },
  {
   "cell_type": "code",
   "execution_count": 29,
   "id": "1d1c06dd",
   "metadata": {
    "scrolled": true
   },
   "outputs": [
    {
     "data": {
      "application/vnd.jupyter.widget-view+json": {
       "model_id": "51aa62c684d74e78932c9751158ce3a0",
       "version_major": 2,
       "version_minor": 0
      },
      "text/plain": [
       "  0%|          | 0/100 [00:00<?, ?it/s]"
      ]
     },
     "metadata": {},
     "output_type": "display_data"
    },
    {
     "name": "stderr",
     "output_type": "stream",
     "text": [
      "/gstore/home/tsenga5/miniconda3/envs/graph-diff/lib/python3.8/site-packages/sklearn/metrics/pairwise.py:2008: DataConversionWarning: Data was converted to boolean for metric dice\n",
      "  warnings.warn(msg, DataConversionWarning)\n",
      "/gstore/home/tsenga5/miniconda3/envs/graph-diff/lib/python3.8/site-packages/sklearn/metrics/pairwise.py:2008: DataConversionWarning: Data was converted to boolean for metric dice\n",
      "  warnings.warn(msg, DataConversionWarning)\n",
      "/gstore/home/tsenga5/miniconda3/envs/graph-diff/lib/python3.8/site-packages/sklearn/metrics/pairwise.py:2008: DataConversionWarning: Data was converted to boolean for metric dice\n",
      "  warnings.warn(msg, DataConversionWarning)\n",
      "/gstore/home/tsenga5/miniconda3/envs/graph-diff/lib/python3.8/site-packages/sklearn/metrics/pairwise.py:2008: DataConversionWarning: Data was converted to boolean for metric dice\n",
      "  warnings.warn(msg, DataConversionWarning)\n",
      "/gstore/home/tsenga5/miniconda3/envs/graph-diff/lib/python3.8/site-packages/sklearn/metrics/pairwise.py:2008: DataConversionWarning: Data was converted to boolean for metric dice\n",
      "  warnings.warn(msg, DataConversionWarning)\n",
      "/gstore/home/tsenga5/miniconda3/envs/graph-diff/lib/python3.8/site-packages/sklearn/metrics/pairwise.py:2008: DataConversionWarning: Data was converted to boolean for metric dice\n",
      "  warnings.warn(msg, DataConversionWarning)\n",
      "/gstore/home/tsenga5/miniconda3/envs/graph-diff/lib/python3.8/site-packages/sklearn/metrics/pairwise.py:2008: DataConversionWarning: Data was converted to boolean for metric dice\n",
      "  warnings.warn(msg, DataConversionWarning)\n",
      "/gstore/home/tsenga5/miniconda3/envs/graph-diff/lib/python3.8/site-packages/sklearn/metrics/pairwise.py:2008: DataConversionWarning: Data was converted to boolean for metric dice\n",
      "  warnings.warn(msg, DataConversionWarning)\n",
      "/gstore/home/tsenga5/miniconda3/envs/graph-diff/lib/python3.8/site-packages/sklearn/metrics/pairwise.py:2008: DataConversionWarning: Data was converted to boolean for metric dice\n",
      "  warnings.warn(msg, DataConversionWarning)\n",
      "/gstore/home/tsenga5/miniconda3/envs/graph-diff/lib/python3.8/site-packages/sklearn/metrics/pairwise.py:2008: DataConversionWarning: Data was converted to boolean for metric dice\n",
      "  warnings.warn(msg, DataConversionWarning)\n",
      "/gstore/home/tsenga5/miniconda3/envs/graph-diff/lib/python3.8/site-packages/sklearn/metrics/pairwise.py:2008: DataConversionWarning: Data was converted to boolean for metric dice\n",
      "  warnings.warn(msg, DataConversionWarning)\n",
      "/gstore/home/tsenga5/miniconda3/envs/graph-diff/lib/python3.8/site-packages/sklearn/metrics/pairwise.py:2008: DataConversionWarning: Data was converted to boolean for metric dice\n",
      "  warnings.warn(msg, DataConversionWarning)\n",
      "/gstore/home/tsenga5/miniconda3/envs/graph-diff/lib/python3.8/site-packages/sklearn/metrics/pairwise.py:2008: DataConversionWarning: Data was converted to boolean for metric dice\n",
      "  warnings.warn(msg, DataConversionWarning)\n",
      "/gstore/home/tsenga5/miniconda3/envs/graph-diff/lib/python3.8/site-packages/sklearn/metrics/pairwise.py:2008: DataConversionWarning: Data was converted to boolean for metric dice\n",
      "  warnings.warn(msg, DataConversionWarning)\n",
      "/gstore/home/tsenga5/miniconda3/envs/graph-diff/lib/python3.8/site-packages/sklearn/metrics/pairwise.py:2008: DataConversionWarning: Data was converted to boolean for metric dice\n",
      "  warnings.warn(msg, DataConversionWarning)\n",
      "/gstore/home/tsenga5/miniconda3/envs/graph-diff/lib/python3.8/site-packages/sklearn/metrics/pairwise.py:2008: DataConversionWarning: Data was converted to boolean for metric dice\n",
      "  warnings.warn(msg, DataConversionWarning)\n",
      "/gstore/home/tsenga5/miniconda3/envs/graph-diff/lib/python3.8/site-packages/sklearn/metrics/pairwise.py:2008: DataConversionWarning: Data was converted to boolean for metric dice\n",
      "  warnings.warn(msg, DataConversionWarning)\n",
      "/gstore/home/tsenga5/miniconda3/envs/graph-diff/lib/python3.8/site-packages/sklearn/metrics/pairwise.py:2008: DataConversionWarning: Data was converted to boolean for metric dice\n",
      "  warnings.warn(msg, DataConversionWarning)\n",
      "/gstore/home/tsenga5/miniconda3/envs/graph-diff/lib/python3.8/site-packages/sklearn/metrics/pairwise.py:2008: DataConversionWarning: Data was converted to boolean for metric dice\n",
      "  warnings.warn(msg, DataConversionWarning)\n",
      "/gstore/home/tsenga5/miniconda3/envs/graph-diff/lib/python3.8/site-packages/sklearn/metrics/pairwise.py:2008: DataConversionWarning: Data was converted to boolean for metric dice\n",
      "  warnings.warn(msg, DataConversionWarning)\n",
      "/gstore/home/tsenga5/miniconda3/envs/graph-diff/lib/python3.8/site-packages/sklearn/metrics/pairwise.py:2008: DataConversionWarning: Data was converted to boolean for metric dice\n",
      "  warnings.warn(msg, DataConversionWarning)\n",
      "/gstore/home/tsenga5/miniconda3/envs/graph-diff/lib/python3.8/site-packages/sklearn/metrics/pairwise.py:2008: DataConversionWarning: Data was converted to boolean for metric dice\n",
      "  warnings.warn(msg, DataConversionWarning)\n",
      "/gstore/home/tsenga5/miniconda3/envs/graph-diff/lib/python3.8/site-packages/sklearn/metrics/pairwise.py:2008: DataConversionWarning: Data was converted to boolean for metric dice\n",
      "  warnings.warn(msg, DataConversionWarning)\n",
      "/gstore/home/tsenga5/miniconda3/envs/graph-diff/lib/python3.8/site-packages/sklearn/metrics/pairwise.py:2008: DataConversionWarning: Data was converted to boolean for metric dice\n",
      "  warnings.warn(msg, DataConversionWarning)\n",
      "/gstore/home/tsenga5/miniconda3/envs/graph-diff/lib/python3.8/site-packages/sklearn/metrics/pairwise.py:2008: DataConversionWarning: Data was converted to boolean for metric dice\n",
      "  warnings.warn(msg, DataConversionWarning)\n",
      "/gstore/home/tsenga5/miniconda3/envs/graph-diff/lib/python3.8/site-packages/sklearn/metrics/pairwise.py:2008: DataConversionWarning: Data was converted to boolean for metric dice\n",
      "  warnings.warn(msg, DataConversionWarning)\n",
      "/gstore/home/tsenga5/miniconda3/envs/graph-diff/lib/python3.8/site-packages/sklearn/metrics/pairwise.py:2008: DataConversionWarning: Data was converted to boolean for metric dice\n",
      "  warnings.warn(msg, DataConversionWarning)\n",
      "/gstore/home/tsenga5/miniconda3/envs/graph-diff/lib/python3.8/site-packages/sklearn/metrics/pairwise.py:2008: DataConversionWarning: Data was converted to boolean for metric dice\n",
      "  warnings.warn(msg, DataConversionWarning)\n",
      "/gstore/home/tsenga5/miniconda3/envs/graph-diff/lib/python3.8/site-packages/sklearn/metrics/pairwise.py:2008: DataConversionWarning: Data was converted to boolean for metric dice\n",
      "  warnings.warn(msg, DataConversionWarning)\n",
      "/gstore/home/tsenga5/miniconda3/envs/graph-diff/lib/python3.8/site-packages/sklearn/metrics/pairwise.py:2008: DataConversionWarning: Data was converted to boolean for metric dice\n",
      "  warnings.warn(msg, DataConversionWarning)\n",
      "/gstore/home/tsenga5/miniconda3/envs/graph-diff/lib/python3.8/site-packages/sklearn/metrics/pairwise.py:2008: DataConversionWarning: Data was converted to boolean for metric dice\n",
      "  warnings.warn(msg, DataConversionWarning)\n",
      "/gstore/home/tsenga5/miniconda3/envs/graph-diff/lib/python3.8/site-packages/sklearn/metrics/pairwise.py:2008: DataConversionWarning: Data was converted to boolean for metric dice\n",
      "  warnings.warn(msg, DataConversionWarning)\n",
      "/gstore/home/tsenga5/miniconda3/envs/graph-diff/lib/python3.8/site-packages/sklearn/metrics/pairwise.py:2008: DataConversionWarning: Data was converted to boolean for metric dice\n",
      "  warnings.warn(msg, DataConversionWarning)\n",
      "/gstore/home/tsenga5/miniconda3/envs/graph-diff/lib/python3.8/site-packages/sklearn/metrics/pairwise.py:2008: DataConversionWarning: Data was converted to boolean for metric dice\n",
      "  warnings.warn(msg, DataConversionWarning)\n",
      "/gstore/home/tsenga5/miniconda3/envs/graph-diff/lib/python3.8/site-packages/sklearn/metrics/pairwise.py:2008: DataConversionWarning: Data was converted to boolean for metric dice\n",
      "  warnings.warn(msg, DataConversionWarning)\n",
      "/gstore/home/tsenga5/miniconda3/envs/graph-diff/lib/python3.8/site-packages/sklearn/metrics/pairwise.py:2008: DataConversionWarning: Data was converted to boolean for metric dice\n",
      "  warnings.warn(msg, DataConversionWarning)\n",
      "/gstore/home/tsenga5/miniconda3/envs/graph-diff/lib/python3.8/site-packages/sklearn/metrics/pairwise.py:2008: DataConversionWarning: Data was converted to boolean for metric dice\n",
      "  warnings.warn(msg, DataConversionWarning)\n",
      "/gstore/home/tsenga5/miniconda3/envs/graph-diff/lib/python3.8/site-packages/sklearn/metrics/pairwise.py:2008: DataConversionWarning: Data was converted to boolean for metric dice\n",
      "  warnings.warn(msg, DataConversionWarning)\n",
      "/gstore/home/tsenga5/miniconda3/envs/graph-diff/lib/python3.8/site-packages/sklearn/metrics/pairwise.py:2008: DataConversionWarning: Data was converted to boolean for metric dice\n",
      "  warnings.warn(msg, DataConversionWarning)\n"
     ]
    },
    {
     "name": "stderr",
     "output_type": "stream",
     "text": [
      "/gstore/home/tsenga5/miniconda3/envs/graph-diff/lib/python3.8/site-packages/sklearn/metrics/pairwise.py:2008: DataConversionWarning: Data was converted to boolean for metric dice\n",
      "  warnings.warn(msg, DataConversionWarning)\n",
      "/gstore/home/tsenga5/miniconda3/envs/graph-diff/lib/python3.8/site-packages/sklearn/metrics/pairwise.py:2008: DataConversionWarning: Data was converted to boolean for metric dice\n",
      "  warnings.warn(msg, DataConversionWarning)\n",
      "/gstore/home/tsenga5/miniconda3/envs/graph-diff/lib/python3.8/site-packages/sklearn/metrics/pairwise.py:2008: DataConversionWarning: Data was converted to boolean for metric dice\n",
      "  warnings.warn(msg, DataConversionWarning)\n",
      "/gstore/home/tsenga5/miniconda3/envs/graph-diff/lib/python3.8/site-packages/sklearn/metrics/pairwise.py:2008: DataConversionWarning: Data was converted to boolean for metric dice\n",
      "  warnings.warn(msg, DataConversionWarning)\n",
      "/gstore/home/tsenga5/miniconda3/envs/graph-diff/lib/python3.8/site-packages/sklearn/metrics/pairwise.py:2008: DataConversionWarning: Data was converted to boolean for metric dice\n",
      "  warnings.warn(msg, DataConversionWarning)\n",
      "/gstore/home/tsenga5/miniconda3/envs/graph-diff/lib/python3.8/site-packages/sklearn/metrics/pairwise.py:2008: DataConversionWarning: Data was converted to boolean for metric dice\n",
      "  warnings.warn(msg, DataConversionWarning)\n",
      "/gstore/home/tsenga5/miniconda3/envs/graph-diff/lib/python3.8/site-packages/sklearn/metrics/pairwise.py:2008: DataConversionWarning: Data was converted to boolean for metric dice\n",
      "  warnings.warn(msg, DataConversionWarning)\n",
      "/gstore/home/tsenga5/miniconda3/envs/graph-diff/lib/python3.8/site-packages/sklearn/metrics/pairwise.py:2008: DataConversionWarning: Data was converted to boolean for metric dice\n",
      "  warnings.warn(msg, DataConversionWarning)\n",
      "/gstore/home/tsenga5/miniconda3/envs/graph-diff/lib/python3.8/site-packages/sklearn/metrics/pairwise.py:2008: DataConversionWarning: Data was converted to boolean for metric dice\n",
      "  warnings.warn(msg, DataConversionWarning)\n",
      "/gstore/home/tsenga5/miniconda3/envs/graph-diff/lib/python3.8/site-packages/sklearn/metrics/pairwise.py:2008: DataConversionWarning: Data was converted to boolean for metric dice\n",
      "  warnings.warn(msg, DataConversionWarning)\n",
      "/gstore/home/tsenga5/miniconda3/envs/graph-diff/lib/python3.8/site-packages/sklearn/metrics/pairwise.py:2008: DataConversionWarning: Data was converted to boolean for metric dice\n",
      "  warnings.warn(msg, DataConversionWarning)\n",
      "/gstore/home/tsenga5/miniconda3/envs/graph-diff/lib/python3.8/site-packages/sklearn/metrics/pairwise.py:2008: DataConversionWarning: Data was converted to boolean for metric dice\n",
      "  warnings.warn(msg, DataConversionWarning)\n",
      "/gstore/home/tsenga5/miniconda3/envs/graph-diff/lib/python3.8/site-packages/sklearn/metrics/pairwise.py:2008: DataConversionWarning: Data was converted to boolean for metric dice\n",
      "  warnings.warn(msg, DataConversionWarning)\n",
      "/gstore/home/tsenga5/miniconda3/envs/graph-diff/lib/python3.8/site-packages/sklearn/metrics/pairwise.py:2008: DataConversionWarning: Data was converted to boolean for metric dice\n",
      "  warnings.warn(msg, DataConversionWarning)\n",
      "/gstore/home/tsenga5/miniconda3/envs/graph-diff/lib/python3.8/site-packages/sklearn/metrics/pairwise.py:2008: DataConversionWarning: Data was converted to boolean for metric dice\n",
      "  warnings.warn(msg, DataConversionWarning)\n",
      "/gstore/home/tsenga5/miniconda3/envs/graph-diff/lib/python3.8/site-packages/sklearn/metrics/pairwise.py:2008: DataConversionWarning: Data was converted to boolean for metric dice\n",
      "  warnings.warn(msg, DataConversionWarning)\n",
      "/gstore/home/tsenga5/miniconda3/envs/graph-diff/lib/python3.8/site-packages/sklearn/metrics/pairwise.py:2008: DataConversionWarning: Data was converted to boolean for metric dice\n",
      "  warnings.warn(msg, DataConversionWarning)\n",
      "/gstore/home/tsenga5/miniconda3/envs/graph-diff/lib/python3.8/site-packages/sklearn/metrics/pairwise.py:2008: DataConversionWarning: Data was converted to boolean for metric dice\n",
      "  warnings.warn(msg, DataConversionWarning)\n",
      "/gstore/home/tsenga5/miniconda3/envs/graph-diff/lib/python3.8/site-packages/sklearn/metrics/pairwise.py:2008: DataConversionWarning: Data was converted to boolean for metric dice\n",
      "  warnings.warn(msg, DataConversionWarning)\n",
      "/gstore/home/tsenga5/miniconda3/envs/graph-diff/lib/python3.8/site-packages/sklearn/metrics/pairwise.py:2008: DataConversionWarning: Data was converted to boolean for metric dice\n",
      "  warnings.warn(msg, DataConversionWarning)\n",
      "/gstore/home/tsenga5/miniconda3/envs/graph-diff/lib/python3.8/site-packages/sklearn/metrics/pairwise.py:2008: DataConversionWarning: Data was converted to boolean for metric dice\n",
      "  warnings.warn(msg, DataConversionWarning)\n",
      "/gstore/home/tsenga5/miniconda3/envs/graph-diff/lib/python3.8/site-packages/sklearn/metrics/pairwise.py:2008: DataConversionWarning: Data was converted to boolean for metric dice\n",
      "  warnings.warn(msg, DataConversionWarning)\n",
      "/gstore/home/tsenga5/miniconda3/envs/graph-diff/lib/python3.8/site-packages/sklearn/metrics/pairwise.py:2008: DataConversionWarning: Data was converted to boolean for metric dice\n",
      "  warnings.warn(msg, DataConversionWarning)\n",
      "/gstore/home/tsenga5/miniconda3/envs/graph-diff/lib/python3.8/site-packages/sklearn/metrics/pairwise.py:2008: DataConversionWarning: Data was converted to boolean for metric dice\n",
      "  warnings.warn(msg, DataConversionWarning)\n",
      "/gstore/home/tsenga5/miniconda3/envs/graph-diff/lib/python3.8/site-packages/sklearn/metrics/pairwise.py:2008: DataConversionWarning: Data was converted to boolean for metric dice\n",
      "  warnings.warn(msg, DataConversionWarning)\n",
      "/gstore/home/tsenga5/miniconda3/envs/graph-diff/lib/python3.8/site-packages/sklearn/metrics/pairwise.py:2008: DataConversionWarning: Data was converted to boolean for metric dice\n",
      "  warnings.warn(msg, DataConversionWarning)\n",
      "/gstore/home/tsenga5/miniconda3/envs/graph-diff/lib/python3.8/site-packages/sklearn/metrics/pairwise.py:2008: DataConversionWarning: Data was converted to boolean for metric dice\n",
      "  warnings.warn(msg, DataConversionWarning)\n",
      "/gstore/home/tsenga5/miniconda3/envs/graph-diff/lib/python3.8/site-packages/sklearn/metrics/pairwise.py:2008: DataConversionWarning: Data was converted to boolean for metric dice\n",
      "  warnings.warn(msg, DataConversionWarning)\n",
      "/gstore/home/tsenga5/miniconda3/envs/graph-diff/lib/python3.8/site-packages/sklearn/metrics/pairwise.py:2008: DataConversionWarning: Data was converted to boolean for metric dice\n",
      "  warnings.warn(msg, DataConversionWarning)\n",
      "/gstore/home/tsenga5/miniconda3/envs/graph-diff/lib/python3.8/site-packages/sklearn/metrics/pairwise.py:2008: DataConversionWarning: Data was converted to boolean for metric dice\n",
      "  warnings.warn(msg, DataConversionWarning)\n",
      "/gstore/home/tsenga5/miniconda3/envs/graph-diff/lib/python3.8/site-packages/sklearn/metrics/pairwise.py:2008: DataConversionWarning: Data was converted to boolean for metric dice\n",
      "  warnings.warn(msg, DataConversionWarning)\n",
      "/gstore/home/tsenga5/miniconda3/envs/graph-diff/lib/python3.8/site-packages/sklearn/metrics/pairwise.py:2008: DataConversionWarning: Data was converted to boolean for metric dice\n",
      "  warnings.warn(msg, DataConversionWarning)\n",
      "/gstore/home/tsenga5/miniconda3/envs/graph-diff/lib/python3.8/site-packages/sklearn/metrics/pairwise.py:2008: DataConversionWarning: Data was converted to boolean for metric dice\n",
      "  warnings.warn(msg, DataConversionWarning)\n",
      "/gstore/home/tsenga5/miniconda3/envs/graph-diff/lib/python3.8/site-packages/sklearn/metrics/pairwise.py:2008: DataConversionWarning: Data was converted to boolean for metric dice\n",
      "  warnings.warn(msg, DataConversionWarning)\n",
      "/gstore/home/tsenga5/miniconda3/envs/graph-diff/lib/python3.8/site-packages/sklearn/metrics/pairwise.py:2008: DataConversionWarning: Data was converted to boolean for metric dice\n",
      "  warnings.warn(msg, DataConversionWarning)\n",
      "/gstore/home/tsenga5/miniconda3/envs/graph-diff/lib/python3.8/site-packages/sklearn/metrics/pairwise.py:2008: DataConversionWarning: Data was converted to boolean for metric dice\n",
      "  warnings.warn(msg, DataConversionWarning)\n",
      "/gstore/home/tsenga5/miniconda3/envs/graph-diff/lib/python3.8/site-packages/sklearn/metrics/pairwise.py:2008: DataConversionWarning: Data was converted to boolean for metric dice\n",
      "  warnings.warn(msg, DataConversionWarning)\n",
      "/gstore/home/tsenga5/miniconda3/envs/graph-diff/lib/python3.8/site-packages/sklearn/metrics/pairwise.py:2008: DataConversionWarning: Data was converted to boolean for metric dice\n",
      "  warnings.warn(msg, DataConversionWarning)\n",
      "/gstore/home/tsenga5/miniconda3/envs/graph-diff/lib/python3.8/site-packages/sklearn/metrics/pairwise.py:2008: DataConversionWarning: Data was converted to boolean for metric dice\n",
      "  warnings.warn(msg, DataConversionWarning)\n"
     ]
    },
    {
     "name": "stderr",
     "output_type": "stream",
     "text": [
      "/gstore/home/tsenga5/miniconda3/envs/graph-diff/lib/python3.8/site-packages/sklearn/metrics/pairwise.py:2008: DataConversionWarning: Data was converted to boolean for metric dice\n",
      "  warnings.warn(msg, DataConversionWarning)\n",
      "/gstore/home/tsenga5/miniconda3/envs/graph-diff/lib/python3.8/site-packages/sklearn/metrics/pairwise.py:2008: DataConversionWarning: Data was converted to boolean for metric dice\n",
      "  warnings.warn(msg, DataConversionWarning)\n",
      "/gstore/home/tsenga5/miniconda3/envs/graph-diff/lib/python3.8/site-packages/sklearn/metrics/pairwise.py:2008: DataConversionWarning: Data was converted to boolean for metric dice\n",
      "  warnings.warn(msg, DataConversionWarning)\n",
      "/gstore/home/tsenga5/miniconda3/envs/graph-diff/lib/python3.8/site-packages/sklearn/metrics/pairwise.py:2008: DataConversionWarning: Data was converted to boolean for metric dice\n",
      "  warnings.warn(msg, DataConversionWarning)\n",
      "/gstore/home/tsenga5/miniconda3/envs/graph-diff/lib/python3.8/site-packages/sklearn/metrics/pairwise.py:2008: DataConversionWarning: Data was converted to boolean for metric dice\n",
      "  warnings.warn(msg, DataConversionWarning)\n",
      "/gstore/home/tsenga5/miniconda3/envs/graph-diff/lib/python3.8/site-packages/sklearn/metrics/pairwise.py:2008: DataConversionWarning: Data was converted to boolean for metric dice\n",
      "  warnings.warn(msg, DataConversionWarning)\n",
      "/gstore/home/tsenga5/miniconda3/envs/graph-diff/lib/python3.8/site-packages/sklearn/metrics/pairwise.py:2008: DataConversionWarning: Data was converted to boolean for metric dice\n",
      "  warnings.warn(msg, DataConversionWarning)\n",
      "/gstore/home/tsenga5/miniconda3/envs/graph-diff/lib/python3.8/site-packages/sklearn/metrics/pairwise.py:2008: DataConversionWarning: Data was converted to boolean for metric dice\n",
      "  warnings.warn(msg, DataConversionWarning)\n",
      "/gstore/home/tsenga5/miniconda3/envs/graph-diff/lib/python3.8/site-packages/sklearn/metrics/pairwise.py:2008: DataConversionWarning: Data was converted to boolean for metric dice\n",
      "  warnings.warn(msg, DataConversionWarning)\n",
      "/gstore/home/tsenga5/miniconda3/envs/graph-diff/lib/python3.8/site-packages/sklearn/metrics/pairwise.py:2008: DataConversionWarning: Data was converted to boolean for metric dice\n",
      "  warnings.warn(msg, DataConversionWarning)\n",
      "/gstore/home/tsenga5/miniconda3/envs/graph-diff/lib/python3.8/site-packages/sklearn/metrics/pairwise.py:2008: DataConversionWarning: Data was converted to boolean for metric dice\n",
      "  warnings.warn(msg, DataConversionWarning)\n",
      "/gstore/home/tsenga5/miniconda3/envs/graph-diff/lib/python3.8/site-packages/sklearn/metrics/pairwise.py:2008: DataConversionWarning: Data was converted to boolean for metric dice\n",
      "  warnings.warn(msg, DataConversionWarning)\n",
      "/gstore/home/tsenga5/miniconda3/envs/graph-diff/lib/python3.8/site-packages/sklearn/metrics/pairwise.py:2008: DataConversionWarning: Data was converted to boolean for metric dice\n",
      "  warnings.warn(msg, DataConversionWarning)\n",
      "/gstore/home/tsenga5/miniconda3/envs/graph-diff/lib/python3.8/site-packages/sklearn/metrics/pairwise.py:2008: DataConversionWarning: Data was converted to boolean for metric dice\n",
      "  warnings.warn(msg, DataConversionWarning)\n",
      "/gstore/home/tsenga5/miniconda3/envs/graph-diff/lib/python3.8/site-packages/sklearn/metrics/pairwise.py:2008: DataConversionWarning: Data was converted to boolean for metric dice\n",
      "  warnings.warn(msg, DataConversionWarning)\n",
      "/gstore/home/tsenga5/miniconda3/envs/graph-diff/lib/python3.8/site-packages/sklearn/metrics/pairwise.py:2008: DataConversionWarning: Data was converted to boolean for metric dice\n",
      "  warnings.warn(msg, DataConversionWarning)\n",
      "/gstore/home/tsenga5/miniconda3/envs/graph-diff/lib/python3.8/site-packages/sklearn/metrics/pairwise.py:2008: DataConversionWarning: Data was converted to boolean for metric dice\n",
      "  warnings.warn(msg, DataConversionWarning)\n",
      "/gstore/home/tsenga5/miniconda3/envs/graph-diff/lib/python3.8/site-packages/sklearn/metrics/pairwise.py:2008: DataConversionWarning: Data was converted to boolean for metric dice\n",
      "  warnings.warn(msg, DataConversionWarning)\n",
      "/gstore/home/tsenga5/miniconda3/envs/graph-diff/lib/python3.8/site-packages/sklearn/metrics/pairwise.py:2008: DataConversionWarning: Data was converted to boolean for metric dice\n",
      "  warnings.warn(msg, DataConversionWarning)\n",
      "/gstore/home/tsenga5/miniconda3/envs/graph-diff/lib/python3.8/site-packages/sklearn/metrics/pairwise.py:2008: DataConversionWarning: Data was converted to boolean for metric dice\n",
      "  warnings.warn(msg, DataConversionWarning)\n",
      "/gstore/home/tsenga5/miniconda3/envs/graph-diff/lib/python3.8/site-packages/sklearn/metrics/pairwise.py:2008: DataConversionWarning: Data was converted to boolean for metric dice\n",
      "  warnings.warn(msg, DataConversionWarning)\n",
      "/gstore/home/tsenga5/miniconda3/envs/graph-diff/lib/python3.8/site-packages/sklearn/metrics/pairwise.py:2008: DataConversionWarning: Data was converted to boolean for metric dice\n",
      "  warnings.warn(msg, DataConversionWarning)\n"
     ]
    }
   ],
   "source": [
    "smiles_list = dataset.all_smiles[(dataset.target == 1).cpu().numpy()].values\n",
    "\n",
    "vals = []\n",
    "for _ in tqdm.notebook.trange(100):\n",
    "    sample = np.random.choice(smiles_list, size=len(after_1_to_2_mols), replace=False)\n",
    "    mols = [rdkit.Chem.MolFromSmiles(s) for s in sample]\n",
    "    fps = get_fingerprints(mols)\n",
    "    vals.append(fingerprints_to_distances(fps))\n",
    "vals = np.stack(vals)"
   ]
  },
  {
   "cell_type": "code",
   "execution_count": 33,
   "id": "70de2a9c",
   "metadata": {},
   "outputs": [
    {
     "data": {
      "text/plain": [
       "array([0.77335954, 0.77452366, 0.774529  , 0.77384216, 0.7762594 ,\n",
       "       0.77113662, 0.7724027 , 0.76819012, 0.77694891, 0.78016068,\n",
       "       0.77374462, 0.7724833 , 0.76921431, 0.77770092, 0.77601255,\n",
       "       0.77122081, 0.77443393, 0.77510213, 0.76853226, 0.78627755,\n",
       "       0.76655704, 0.78262187, 0.76814697, 0.77217627, 0.77001871,\n",
       "       0.77277472, 0.7808754 , 0.76837458, 0.77185531, 0.77314286,\n",
       "       0.76985556, 0.78133456, 0.76794853, 0.771238  , 0.77034941,\n",
       "       0.77449538, 0.76963021, 0.76452483, 0.77300164, 0.77579595,\n",
       "       0.77177369, 0.78087499, 0.77632381, 0.7715848 , 0.77339671,\n",
       "       0.7704656 , 0.77037665, 0.77204587, 0.77250245, 0.76895731,\n",
       "       0.77282001, 0.76746231, 0.7759742 , 0.77120773, 0.76915236,\n",
       "       0.78428263, 0.76811978, 0.77692031, 0.7760791 , 0.77501551,\n",
       "       0.77597951, 0.7686409 , 0.77214204, 0.77335986, 0.77595469,\n",
       "       0.77378834, 0.78371521, 0.77696992, 0.77940816, 0.76859862,\n",
       "       0.77515905, 0.76905979, 0.77306011, 0.77430553, 0.77981931,\n",
       "       0.76980875, 0.7791893 , 0.77498768, 0.77161317, 0.77997386,\n",
       "       0.77467462, 0.77687164, 0.77197698, 0.77991137, 0.77680454,\n",
       "       0.77542242, 0.77073471, 0.77217066, 0.77225076, 0.77208835,\n",
       "       0.78058808, 0.77806232, 0.7794219 , 0.76812099, 0.76845026,\n",
       "       0.77251789, 0.78154194, 0.76995303, 0.77550038, 0.77329047])"
      ]
     },
     "execution_count": 33,
     "metadata": {},
     "output_type": "execute_result"
    }
   ],
   "source": [
    "np.mean(vals, axis=1)"
   ]
  },
  {
   "cell_type": "code",
   "execution_count": 34,
   "id": "bff3745d",
   "metadata": {},
   "outputs": [
    {
     "name": "stderr",
     "output_type": "stream",
     "text": [
      "/gstore/home/tsenga5/miniconda3/envs/graph-diff/lib/python3.8/site-packages/sklearn/metrics/pairwise.py:2008: DataConversionWarning: Data was converted to boolean for metric dice\n",
      "  warnings.warn(msg, DataConversionWarning)\n",
      "/gstore/home/tsenga5/miniconda3/envs/graph-diff/lib/python3.8/site-packages/sklearn/metrics/pairwise.py:2008: DataConversionWarning: Data was converted to boolean for metric dice\n",
      "  warnings.warn(msg, DataConversionWarning)\n",
      "/gstore/home/tsenga5/miniconda3/envs/graph-diff/lib/python3.8/site-packages/sklearn/metrics/pairwise.py:2008: DataConversionWarning: Data was converted to boolean for metric dice\n",
      "  warnings.warn(msg, DataConversionWarning)\n",
      "/gstore/home/tsenga5/miniconda3/envs/graph-diff/lib/python3.8/site-packages/sklearn/metrics/pairwise.py:2008: DataConversionWarning: Data was converted to boolean for metric dice\n",
      "  warnings.warn(msg, DataConversionWarning)\n"
     ]
    }
   ],
   "source": [
    "after_1_to_2_dists = fingerprints_to_distances(after_1_to_2_fps)\n",
    "after_2_to_1_dists = fingerprints_to_distances(after_2_to_1_fps)\n",
    "before_1_to_2_dists = fingerprints_to_distances(before_1_to_2_fps)\n",
    "before_2_to_1_dists = fingerprints_to_distances(before_2_to_1_fps)"
   ]
  },
  {
   "cell_type": "code",
   "execution_count": null,
   "id": "47a72fce",
   "metadata": {},
   "outputs": [],
   "source": [
    "fig, ax = plt.subplots(nrows=2, figsize=(20, 10))\n",
    "bins = np.linspace(0, 1, 20)\n",
    "ax[0].hist(after_1_to_2_dists, bins=bins, density=True, alpha=0.3, color=\"royalblue\")\n",
    "ax[0].hist(before_2_to_1_dists, bins=bins, density=True, alpha=0.3, color=\"darkorange\")\n",
    "ax[1].hist(after_2_to_1_dists, bins=bins, density=True, alpha=0.3, color=\"royalblue\")\n",
    "ax[1].hist(before_1_to_2_dists, bins=bins, density=True, alpha=0.3, color=\"darkorange\")\n",
    "plt.show()"
   ]
  },
  {
   "cell_type": "code",
   "execution_count": 35,
   "id": "209b6782",
   "metadata": {},
   "outputs": [
    {
     "name": "stdout",
     "output_type": "stream",
     "text": [
      "Ttest_indResult(statistic=79.79023738036634, pvalue=0.0)\n",
      "Ttest_indResult(statistic=50.98532091567242, pvalue=0.0)\n",
      "0.8128261784111488 0.7632093202070084\n",
      "0.8019458763588161 0.7697294705198955\n"
     ]
    }
   ],
   "source": [
    "print(scipy.stats.ttest_ind(after_1_to_2_dists, before_2_to_1_dists))\n",
    "print(scipy.stats.ttest_ind(after_2_to_1_dists, before_1_to_2_dists))\n",
    "print(np.mean(after_1_to_2_dists), np.mean(before_2_to_1_dists))\n",
    "print(np.mean(after_2_to_1_dists), np.mean(before_1_to_2_dists))"
   ]
  },
  {
   "cell_type": "code",
   "execution_count": null,
   "id": "d4fe415c",
   "metadata": {
    "scrolled": false
   },
   "outputs": [],
   "source": [
    "# print(\"%s to %s\" % (class_1, class_2))\n",
    "# for i in range(min(32, len(before_1_to_2_mols))):\n",
    "#     print(i)\n",
    "#     mol = plot_molecule(before_1_to_2_mols[i])\n",
    "#     IPython.display.display(mol)\n",
    "# #     with open(os.path.join(out_path, \"trans_%s_to_%s_ex%d_before.svg\" % (class_1, class_2, i)), \"w\") as f:\n",
    "# #         f.write(mol.data)\n",
    "#     mol = plot_molecule(after_1_to_2_mols[i])\n",
    "#     IPython.display.display(mol)\n",
    "# #     with open(os.path.join(out_path, \"trans_%s_to_%s_ex%d_after.svg\" % (class_1, class_2, i)), \"w\") as f:\n",
    "# #         f.write(mol.data)\n",
    "    \n",
    "print(\"%s to %s\" % (class_2, class_1))\n",
    "for i in range(min(32, len(before_2_to_1_mols))):\n",
    "    print(i)\n",
    "    mol = plot_molecule(before_2_to_1_mols[i])\n",
    "    IPython.display.display(mol)\n",
    "#     with open(os.path.join(out_path, \"trans_%s_to_%s_ex%d_before.svg\" % (class_2, class_1, i)), \"w\") as f:\n",
    "#         f.write(mol.data)\n",
    "    mol = plot_molecule(after_2_to_1_mols[i])\n",
    "    IPython.display.display(mol)\n",
    "#     with open(os.path.join(out_path, \"trans_%s_to_%s_ex%d_after.svg\" % (class_2, class_1, i)), \"w\") as f:\n",
    "#         f.write(mol.data)"
   ]
  }
 ],
 "metadata": {
  "kernelspec": {
   "display_name": "Python 3 (ipykernel)",
   "language": "python",
   "name": "python3"
  },
  "language_info": {
   "codemirror_mode": {
    "name": "ipython",
    "version": 3
   },
   "file_extension": ".py",
   "mimetype": "text/x-python",
   "name": "python",
   "nbconvert_exporter": "python",
   "pygments_lexer": "ipython3",
   "version": "3.8.13"
  }
 },
 "nbformat": 4,
 "nbformat_minor": 5
}
