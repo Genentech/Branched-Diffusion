{
 "cells": [
  {
   "cell_type": "code",
   "execution_count": 1,
   "id": "35b90ab0",
   "metadata": {},
   "outputs": [],
   "source": [
    "import pandas as pd\n",
    "import rdkit\n",
    "import networkx as nx\n",
    "import matplotlib.pyplot as plt\n",
    "import numpy as np\n",
    "import tqdm.notebook\n",
    "import IPython"
   ]
  },
  {
   "cell_type": "code",
   "execution_count": 2,
   "id": "7332facb",
   "metadata": {},
   "outputs": [],
   "source": [
    "zinc_table = pd.read_csv(\n",
    "    \"/gstore/home/tsenga5/discrete_graph_diffusion/data/250k_rndm_zinc_drugs_clean_3.csv\",\n",
    "    sep=\",\", header=0\n",
    ")\n",
    "zinc_table[\"smiles\"] = zinc_table[\"smiles\"].str.strip()\n",
    "all_smiles = zinc_table[\"smiles\"]"
   ]
  },
  {
   "cell_type": "code",
   "execution_count": 3,
   "id": "7d4a5c8d",
   "metadata": {},
   "outputs": [],
   "source": [
    "def smiles_to_networkx(smiles_string):\n",
    "    mol = rdkit.Chem.MolFromSmiles(smiles_string)\n",
    "    g = nx.Graph()\n",
    "    for atom in mol.GetAtoms():\n",
    "        g.add_node(\n",
    "            atom.GetIdx(),\n",
    "            atomic_num=atom.GetAtomicNum(),\n",
    "            is_aromatic=atom.GetIsAromatic(),\n",
    "            atom_symbol=atom.GetSymbol()\n",
    "        )\n",
    "    for bond in mol.GetBonds():\n",
    "        g.add_edge(\n",
    "            bond.GetBeginAtomIdx(),\n",
    "            bond.GetEndAtomIdx(),\n",
    "            bond_type=bond.GetBondType()\n",
    "        )\n",
    "    return g"
   ]
  },
  {
   "cell_type": "code",
   "execution_count": 4,
   "id": "2e9faf39",
   "metadata": {},
   "outputs": [],
   "source": [
    "ATOM_COLORS = {\n",
    "    \"C\": \"gray\",\n",
    "    \"O\": \"lightcoral\",\n",
    "    \"N\": \"royalblue\"\n",
    "}\n",
    "\n",
    "def plot_molecule_nx(mol_nx):\n",
    "    atoms = nx.get_node_attributes(mol_nx, \"atom_symbol\")\n",
    "    colors = []\n",
    "    for node in mol_nx.nodes():\n",
    "        try:\n",
    "            colors.append(ATOM_COLORS[mol_nx.nodes[node][\"atom_symbol\"]])\n",
    "        except KeyError:\n",
    "            colors.append(\"violet\")\n",
    "    nx.draw(\n",
    "        mol_nx,\n",
    "        labels=atoms,\n",
    "        with_labels=True,\n",
    "        node_color=colors,\n",
    "        node_size=500\n",
    "    )\n",
    "    plt.show()\n",
    "    \n",
    "def plot_molecule(mol):\n",
    "    mc = rdkit.Chem.Mol(mol.ToBinary())\n",
    "    rdkit.Chem.Kekulize(mc)\n",
    "    \n",
    "    drawer = rdkit.Chem.Draw.rdMolDraw2D.MolDraw2DSVG(450, 150)\n",
    "    drawer.DrawMolecule(mc)\n",
    "    drawer.FinishDrawing()\n",
    "    svg = drawer.GetDrawingText()\n",
    "    return IPython.display.SVG(svg.replace(\"svg:\",\"\"))"
   ]
  },
  {
   "cell_type": "code",
   "execution_count": 5,
   "id": "8f43320a",
   "metadata": {},
   "outputs": [
    {
     "data": {
      "application/vnd.jupyter.widget-view+json": {
       "model_id": "98e524477d45437e9958574e1236a664",
       "version_major": 2,
       "version_minor": 0
      },
      "text/plain": [
       "  0%|          | 0/249455 [00:00<?, ?it/s]"
      ]
     },
     "metadata": {},
     "output_type": "display_data"
    }
   ],
   "source": [
    "all_graphs = [\n",
    "    smiles_to_networkx(s) for s in tqdm.notebook.tqdm(all_smiles)\n",
    "]"
   ]
  },
  {
   "cell_type": "code",
   "execution_count": 6,
   "id": "24331122",
   "metadata": {},
   "outputs": [
    {
     "data": {
      "application/vnd.jupyter.widget-view+json": {
       "model_id": "66fd09487ac142f9a005f47980409680",
       "version_major": 2,
       "version_minor": 0
      },
      "text/plain": [
       "  0%|          | 0/249455 [00:00<?, ?it/s]"
      ]
     },
     "metadata": {},
     "output_type": "display_data"
    }
   ],
   "source": [
    "all_mols = [\n",
    "    rdkit.Chem.MolFromSmiles(s) for s in tqdm.notebook.tqdm(all_smiles)\n",
    "]"
   ]
  },
  {
   "cell_type": "code",
   "execution_count": 7,
   "id": "ade8729c",
   "metadata": {
    "scrolled": true
   },
   "outputs": [
    {
     "data": {
      "image/svg+xml": [
       "<svg xmlns=\"http://www.w3.org/2000/svg\" xmlns:rdkit=\"http://www.rdkit.org/xml\" xmlns:xlink=\"http://www.w3.org/1999/xlink\" version=\"1.1\" baseProfile=\"full\" xml:space=\"preserve\" width=\"450px\" height=\"150px\" viewBox=\"0 0 450 150\">\n",
       "<!-- END OF HEADER -->\n",
       "<rect style=\"opacity:1.0;fill:#FFFFFF;stroke:none\" width=\"450.0\" height=\"150.0\" x=\"0.0\" y=\"0.0\"> </rect>\n",
       "<path class=\"bond-0 atom-1 atom-0\" d=\"M 142.3,43.2 L 142.8,43.0\" style=\"fill:none;fill-rule:evenodd;stroke:#000000;stroke-width:1.0px;stroke-linecap:butt;stroke-linejoin:miter;stroke-opacity:1\"/>\n",
       "<path class=\"bond-0 atom-1 atom-0\" d=\"M 140.9,40.1 L 141.8,39.7\" style=\"fill:none;fill-rule:evenodd;stroke:#000000;stroke-width:1.0px;stroke-linecap:butt;stroke-linejoin:miter;stroke-opacity:1\"/>\n",
       "<path class=\"bond-0 atom-1 atom-0\" d=\"M 139.4,37.0 L 140.9,36.4\" style=\"fill:none;fill-rule:evenodd;stroke:#000000;stroke-width:1.0px;stroke-linecap:butt;stroke-linejoin:miter;stroke-opacity:1\"/>\n",
       "<path class=\"bond-0 atom-1 atom-0\" d=\"M 138.0,33.8 L 139.9,33.1\" style=\"fill:none;fill-rule:evenodd;stroke:#000000;stroke-width:1.0px;stroke-linecap:butt;stroke-linejoin:miter;stroke-opacity:1\"/>\n",
       "<path class=\"bond-0 atom-1 atom-0\" d=\"M 136.5,30.7 L 138.9,29.8\" style=\"fill:none;fill-rule:evenodd;stroke:#000000;stroke-width:1.0px;stroke-linecap:butt;stroke-linejoin:miter;stroke-opacity:1\"/>\n",
       "<path class=\"bond-0 atom-1 atom-0\" d=\"M 135.1,27.6 L 138.0,26.5\" style=\"fill:none;fill-rule:evenodd;stroke:#000000;stroke-width:1.0px;stroke-linecap:butt;stroke-linejoin:miter;stroke-opacity:1\"/>\n",
       "<path class=\"bond-0 atom-1 atom-0\" d=\"M 133.6,24.5 L 137.0,23.3\" style=\"fill:none;fill-rule:evenodd;stroke:#000000;stroke-width:1.0px;stroke-linecap:butt;stroke-linejoin:miter;stroke-opacity:1\"/>\n",
       "<path class=\"bond-0 atom-1 atom-0\" d=\"M 132.2,21.4 L 136.0,20.0\" style=\"fill:none;fill-rule:evenodd;stroke:#000000;stroke-width:1.0px;stroke-linecap:butt;stroke-linejoin:miter;stroke-opacity:1\"/>\n",
       "<path class=\"bond-0 atom-1 atom-0\" d=\"M 130.8,18.3 L 135.1,16.7\" style=\"fill:none;fill-rule:evenodd;stroke:#000000;stroke-width:1.0px;stroke-linecap:butt;stroke-linejoin:miter;stroke-opacity:1\"/>\n",
       "<path class=\"bond-0 atom-1 atom-0\" d=\"M 129.3,15.2 L 134.1,13.4\" style=\"fill:none;fill-rule:evenodd;stroke:#000000;stroke-width:1.0px;stroke-linecap:butt;stroke-linejoin:miter;stroke-opacity:1\"/>\n",
       "<path class=\"bond-0 atom-1 atom-0\" d=\"M 127.9,12.1 L 133.2,10.1\" style=\"fill:none;fill-rule:evenodd;stroke:#000000;stroke-width:1.0px;stroke-linecap:butt;stroke-linejoin:miter;stroke-opacity:1\"/>\n",
       "<path class=\"bond-0 atom-1 atom-0\" d=\"M 126.4,9.0 L 132.2,6.8\" style=\"fill:none;fill-rule:evenodd;stroke:#000000;stroke-width:1.0px;stroke-linecap:butt;stroke-linejoin:miter;stroke-opacity:1\"/>\n",
       "<path class=\"bond-1 atom-1 atom-2\" d=\"M 143.7,46.3 L 161.1,49.2\" style=\"fill:none;fill-rule:evenodd;stroke:#000000;stroke-width:2.0px;stroke-linecap:butt;stroke-linejoin:miter;stroke-opacity:1\"/>\n",
       "<path class=\"bond-1 atom-1 atom-2\" d=\"M 161.1,49.2 L 178.4,52.0\" style=\"fill:none;fill-rule:evenodd;stroke:#0000FF;stroke-width:2.0px;stroke-linecap:butt;stroke-linejoin:miter;stroke-opacity:1\"/>\n",
       "<path class=\"bond-2 atom-2 atom-3\" d=\"M 186.9,60.2 L 192.7,75.8\" style=\"fill:none;fill-rule:evenodd;stroke:#0000FF;stroke-width:2.0px;stroke-linecap:butt;stroke-linejoin:miter;stroke-opacity:1\"/>\n",
       "<path class=\"bond-2 atom-2 atom-3\" d=\"M 192.7,75.8 L 198.6,91.4\" style=\"fill:none;fill-rule:evenodd;stroke:#000000;stroke-width:2.0px;stroke-linecap:butt;stroke-linejoin:miter;stroke-opacity:1\"/>\n",
       "<path class=\"bond-3 atom-3 atom-4\" d=\"M 198.6,91.4 L 239.0,98.1\" style=\"fill:none;fill-rule:evenodd;stroke:#000000;stroke-width:2.0px;stroke-linecap:butt;stroke-linejoin:miter;stroke-opacity:1\"/>\n",
       "<path class=\"bond-4 atom-4 atom-5\" d=\"M 239.0,98.1 L 253.4,136.5\" style=\"fill:none;fill-rule:evenodd;stroke:#000000;stroke-width:2.0px;stroke-linecap:butt;stroke-linejoin:miter;stroke-opacity:1\"/>\n",
       "<path class=\"bond-4 atom-4 atom-5\" d=\"M 246.0,99.3 L 257.9,131.0\" style=\"fill:none;fill-rule:evenodd;stroke:#000000;stroke-width:2.0px;stroke-linecap:butt;stroke-linejoin:miter;stroke-opacity:1\"/>\n",
       "<path class=\"bond-5 atom-5 atom-6\" d=\"M 253.4,136.5 L 293.9,143.2\" style=\"fill:none;fill-rule:evenodd;stroke:#000000;stroke-width:2.0px;stroke-linecap:butt;stroke-linejoin:miter;stroke-opacity:1\"/>\n",
       "<path class=\"bond-6 atom-6 atom-7\" d=\"M 293.9,143.2 L 319.9,111.5\" style=\"fill:none;fill-rule:evenodd;stroke:#000000;stroke-width:2.0px;stroke-linecap:butt;stroke-linejoin:miter;stroke-opacity:1\"/>\n",
       "<path class=\"bond-6 atom-6 atom-7\" d=\"M 291.4,136.5 L 312.9,110.4\" style=\"fill:none;fill-rule:evenodd;stroke:#000000;stroke-width:2.0px;stroke-linecap:butt;stroke-linejoin:miter;stroke-opacity:1\"/>\n",
       "<path class=\"bond-7 atom-7 atom-8\" d=\"M 319.9,111.5 L 337.7,114.5\" style=\"fill:none;fill-rule:evenodd;stroke:#000000;stroke-width:2.0px;stroke-linecap:butt;stroke-linejoin:miter;stroke-opacity:1\"/>\n",
       "<path class=\"bond-7 atom-7 atom-8\" d=\"M 337.7,114.5 L 355.5,117.4\" style=\"fill:none;fill-rule:evenodd;stroke:#33CCCC;stroke-width:2.0px;stroke-linecap:butt;stroke-linejoin:miter;stroke-opacity:1\"/>\n",
       "<path class=\"bond-8 atom-7 atom-9\" d=\"M 319.9,111.5 L 305.5,73.1\" style=\"fill:none;fill-rule:evenodd;stroke:#000000;stroke-width:2.0px;stroke-linecap:butt;stroke-linejoin:miter;stroke-opacity:1\"/>\n",
       "<path class=\"bond-9 atom-9 atom-10\" d=\"M 305.5,73.1 L 331.5,41.5\" style=\"fill:none;fill-rule:evenodd;stroke:#000000;stroke-width:2.0px;stroke-linecap:butt;stroke-linejoin:miter;stroke-opacity:1\"/>\n",
       "<path class=\"bond-10 atom-10 atom-11\" d=\"M 331.5,41.5 L 348.4,44.3\" style=\"fill:none;fill-rule:evenodd;stroke:#000000;stroke-width:2.0px;stroke-linecap:butt;stroke-linejoin:miter;stroke-opacity:1\"/>\n",
       "<path class=\"bond-10 atom-10 atom-11\" d=\"M 348.4,44.3 L 365.3,47.1\" style=\"fill:none;fill-rule:evenodd;stroke:#FF0000;stroke-width:2.0px;stroke-linecap:butt;stroke-linejoin:miter;stroke-opacity:1\"/>\n",
       "<path class=\"bond-11 atom-9 atom-12\" d=\"M 305.5,73.1 L 265.1,66.4\" style=\"fill:none;fill-rule:evenodd;stroke:#000000;stroke-width:2.0px;stroke-linecap:butt;stroke-linejoin:miter;stroke-opacity:1\"/>\n",
       "<path class=\"bond-11 atom-9 atom-12\" d=\"M 301.0,78.6 L 267.6,73.1\" style=\"fill:none;fill-rule:evenodd;stroke:#000000;stroke-width:2.0px;stroke-linecap:butt;stroke-linejoin:miter;stroke-opacity:1\"/>\n",
       "<path class=\"bond-12 atom-1 atom-13\" d=\"M 143.7,46.3 L 117.7,77.9\" style=\"fill:none;fill-rule:evenodd;stroke:#000000;stroke-width:2.0px;stroke-linecap:butt;stroke-linejoin:miter;stroke-opacity:1\"/>\n",
       "<path class=\"bond-13 atom-13 atom-14\" d=\"M 117.7,77.9 L 121.9,94.2\" style=\"fill:none;fill-rule:evenodd;stroke:#000000;stroke-width:2.0px;stroke-linecap:butt;stroke-linejoin:miter;stroke-opacity:1\"/>\n",
       "<path class=\"bond-13 atom-13 atom-14\" d=\"M 121.9,94.2 L 126.2,110.5\" style=\"fill:none;fill-rule:evenodd;stroke:#0000FF;stroke-width:2.0px;stroke-linecap:butt;stroke-linejoin:miter;stroke-opacity:1\"/>\n",
       "<path class=\"bond-13 atom-13 atom-14\" d=\"M 112.9,83.8 L 116.5,97.9\" style=\"fill:none;fill-rule:evenodd;stroke:#000000;stroke-width:2.0px;stroke-linecap:butt;stroke-linejoin:miter;stroke-opacity:1\"/>\n",
       "<path class=\"bond-13 atom-13 atom-14\" d=\"M 116.5,97.9 L 120.2,112.0\" style=\"fill:none;fill-rule:evenodd;stroke:#0000FF;stroke-width:2.0px;stroke-linecap:butt;stroke-linejoin:miter;stroke-opacity:1\"/>\n",
       "<path class=\"bond-14 atom-14 atom-15\" d=\"M 122.3,121.3 L 107.9,130.5\" style=\"fill:none;fill-rule:evenodd;stroke:#0000FF;stroke-width:2.0px;stroke-linecap:butt;stroke-linejoin:miter;stroke-opacity:1\"/>\n",
       "<path class=\"bond-14 atom-14 atom-15\" d=\"M 107.9,130.5 L 93.5,139.7\" style=\"fill:none;fill-rule:evenodd;stroke:#000000;stroke-width:2.0px;stroke-linecap:butt;stroke-linejoin:miter;stroke-opacity:1\"/>\n",
       "<path class=\"bond-15 atom-15 atom-16\" d=\"M 93.5,139.7 L 61.8,113.7\" style=\"fill:none;fill-rule:evenodd;stroke:#000000;stroke-width:2.0px;stroke-linecap:butt;stroke-linejoin:miter;stroke-opacity:1\"/>\n",
       "<path class=\"bond-15 atom-15 atom-16\" d=\"M 93.9,132.1 L 69.2,111.7\" style=\"fill:none;fill-rule:evenodd;stroke:#000000;stroke-width:2.0px;stroke-linecap:butt;stroke-linejoin:miter;stroke-opacity:1\"/>\n",
       "<path class=\"bond-16 atom-16 atom-17\" d=\"M 61.8,113.7 L 67.8,98.3\" style=\"fill:none;fill-rule:evenodd;stroke:#000000;stroke-width:2.0px;stroke-linecap:butt;stroke-linejoin:miter;stroke-opacity:1\"/>\n",
       "<path class=\"bond-16 atom-16 atom-17\" d=\"M 67.8,98.3 L 73.9,83.0\" style=\"fill:none;fill-rule:evenodd;stroke:#CCCC00;stroke-width:2.0px;stroke-linecap:butt;stroke-linejoin:miter;stroke-opacity:1\"/>\n",
       "<path class=\"bond-17 atom-12 atom-4\" d=\"M 265.1,66.4 L 239.0,98.1\" style=\"fill:none;fill-rule:evenodd;stroke:#000000;stroke-width:2.0px;stroke-linecap:butt;stroke-linejoin:miter;stroke-opacity:1\"/>\n",
       "<path class=\"bond-18 atom-17 atom-13\" d=\"M 81.9,75.8 L 99.8,76.9\" style=\"fill:none;fill-rule:evenodd;stroke:#CCCC00;stroke-width:2.0px;stroke-linecap:butt;stroke-linejoin:miter;stroke-opacity:1\"/>\n",
       "<path class=\"bond-18 atom-17 atom-13\" d=\"M 99.8,76.9 L 117.7,77.9\" style=\"fill:none;fill-rule:evenodd;stroke:#000000;stroke-width:2.0px;stroke-linecap:butt;stroke-linejoin:miter;stroke-opacity:1\"/>\n",
       "<path d=\"M 144.6,46.4 L 143.7,46.3 L 142.4,47.9\" style=\"fill:none;stroke:#000000;stroke-width:2.0px;stroke-linecap:butt;stroke-linejoin:miter;stroke-opacity:1;\"/>\n",
       "<path d=\"M 198.3,90.6 L 198.6,91.4 L 200.6,91.7\" style=\"fill:none;stroke:#000000;stroke-width:2.0px;stroke-linecap:butt;stroke-linejoin:miter;stroke-opacity:1;\"/>\n",
       "<path d=\"M 252.7,134.5 L 253.4,136.5 L 255.5,136.8\" style=\"fill:none;stroke:#000000;stroke-width:2.0px;stroke-linecap:butt;stroke-linejoin:miter;stroke-opacity:1;\"/>\n",
       "<path d=\"M 291.9,142.8 L 293.9,143.2 L 295.2,141.6\" style=\"fill:none;stroke:#000000;stroke-width:2.0px;stroke-linecap:butt;stroke-linejoin:miter;stroke-opacity:1;\"/>\n",
       "<path d=\"M 330.2,43.1 L 331.5,41.5 L 332.4,41.6\" style=\"fill:none;stroke:#000000;stroke-width:2.0px;stroke-linecap:butt;stroke-linejoin:miter;stroke-opacity:1;\"/>\n",
       "<path d=\"M 267.1,66.8 L 265.1,66.4 L 263.8,68.0\" style=\"fill:none;stroke:#000000;stroke-width:2.0px;stroke-linecap:butt;stroke-linejoin:miter;stroke-opacity:1;\"/>\n",
       "<path d=\"M 94.2,139.2 L 93.5,139.7 L 91.9,138.4\" style=\"fill:none;stroke:#000000;stroke-width:2.0px;stroke-linecap:butt;stroke-linejoin:miter;stroke-opacity:1;\"/>\n",
       "<path d=\"M 63.4,115.0 L 61.8,113.7 L 62.1,112.9\" style=\"fill:none;stroke:#000000;stroke-width:2.0px;stroke-linecap:butt;stroke-linejoin:miter;stroke-opacity:1;\"/>\n",
       "<path class=\"atom-2\" d=\"M 181.6 47.2 L 185.4 53.3 Q 185.8 53.9, 186.4 55.0 Q 187.0 56.1, 187.0 56.2 L 187.0 47.2 L 188.6 47.2 L 188.6 58.8 L 187.0 58.8 L 182.9 52.1 Q 182.4 51.3, 181.9 50.4 Q 181.4 49.5, 181.3 49.2 L 181.3 58.8 L 179.8 58.8 L 179.8 47.2 L 181.6 47.2 \" fill=\"#0000FF\"/>\n",
       "<path class=\"atom-2\" d=\"M 190.8 47.2 L 192.4 47.2 L 192.4 52.1 L 198.3 52.1 L 198.3 47.2 L 199.9 47.2 L 199.9 58.8 L 198.3 58.8 L 198.3 53.4 L 192.4 53.4 L 192.4 58.8 L 190.8 58.8 L 190.8 47.2 \" fill=\"#0000FF\"/>\n",
       "<path class=\"atom-8\" d=\"M 356.9 112.4 L 363.8 112.4 L 363.8 113.8 L 358.5 113.8 L 358.5 117.3 L 363.2 117.3 L 363.2 118.6 L 358.5 118.6 L 358.5 124.0 L 356.9 124.0 L 356.9 112.4 \" fill=\"#33CCCC\"/>\n",
       "<path class=\"atom-11\" d=\"M 366.6 48.2 Q 366.6 45.4, 368.0 43.9 Q 369.4 42.3, 372.0 42.3 Q 374.6 42.3, 375.9 43.9 Q 377.3 45.4, 377.3 48.2 Q 377.3 51.0, 375.9 52.6 Q 374.5 54.2, 372.0 54.2 Q 369.4 54.2, 368.0 52.6 Q 366.6 51.1, 366.6 48.2 M 372.0 52.9 Q 373.7 52.9, 374.7 51.7 Q 375.7 50.5, 375.7 48.2 Q 375.7 45.9, 374.7 44.8 Q 373.7 43.6, 372.0 43.6 Q 370.2 43.6, 369.2 44.8 Q 368.3 45.9, 368.3 48.2 Q 368.3 50.6, 369.2 51.7 Q 370.2 52.9, 372.0 52.9 \" fill=\"#FF0000\"/>\n",
       "<path class=\"atom-11\" d=\"M 379.1 42.4 L 380.7 42.4 L 380.7 47.4 L 386.6 47.4 L 386.6 42.4 L 388.2 42.4 L 388.2 54.1 L 386.6 54.1 L 386.6 48.7 L 380.7 48.7 L 380.7 54.1 L 379.1 54.1 L 379.1 42.4 \" fill=\"#FF0000\"/>\n",
       "<path class=\"atom-14\" d=\"M 125.4 111.8 L 129.3 118.0 Q 129.6 118.6, 130.2 119.7 Q 130.8 120.8, 130.9 120.8 L 130.9 111.8 L 132.4 111.8 L 132.4 123.4 L 130.8 123.4 L 126.7 116.7 Q 126.3 115.9, 125.8 115.0 Q 125.3 114.1, 125.1 113.8 L 125.1 123.4 L 123.6 123.4 L 123.6 111.8 L 125.4 111.8 \" fill=\"#0000FF\"/>\n",
       "<path class=\"atom-17\" d=\"M 73.5 79.5 Q 73.6 79.5, 74.2 79.8 Q 74.7 80.0, 75.3 80.1 Q 75.9 80.3, 76.5 80.3 Q 77.6 80.3, 78.2 79.7 Q 78.9 79.2, 78.9 78.3 Q 78.9 77.6, 78.5 77.2 Q 78.2 76.8, 77.7 76.6 Q 77.3 76.4, 76.4 76.2 Q 75.4 75.9, 74.8 75.6 Q 74.2 75.3, 73.7 74.6 Q 73.3 74.0, 73.3 73.0 Q 73.3 71.5, 74.3 70.6 Q 75.3 69.7, 77.3 69.7 Q 78.6 69.7, 80.1 70.3 L 79.7 71.6 Q 78.3 71.0, 77.3 71.0 Q 76.2 71.0, 75.5 71.5 Q 74.9 72.0, 74.9 72.8 Q 74.9 73.4, 75.3 73.8 Q 75.6 74.2, 76.0 74.4 Q 76.5 74.6, 77.3 74.8 Q 78.3 75.2, 79.0 75.5 Q 79.6 75.8, 80.0 76.5 Q 80.5 77.1, 80.5 78.3 Q 80.5 79.9, 79.4 80.7 Q 78.3 81.6, 76.6 81.6 Q 75.5 81.6, 74.7 81.4 Q 74.0 81.2, 73.1 80.8 L 73.5 79.5 \" fill=\"#CCCC00\"/>\n",
       "</svg>"
      ],
      "text/plain": [
       "<IPython.core.display.SVG object>"
      ]
     },
     "metadata": {},
     "output_type": "display_data"
    },
    {
     "data": {
      "image/svg+xml": [
       "<svg xmlns=\"http://www.w3.org/2000/svg\" xmlns:rdkit=\"http://www.rdkit.org/xml\" xmlns:xlink=\"http://www.w3.org/1999/xlink\" version=\"1.1\" baseProfile=\"full\" xml:space=\"preserve\" width=\"450px\" height=\"150px\" viewBox=\"0 0 450 150\">\n",
       "<!-- END OF HEADER -->\n",
       "<rect style=\"opacity:1.0;fill:#FFFFFF;stroke:none\" width=\"450.0\" height=\"150.0\" x=\"0.0\" y=\"0.0\"> </rect>\n",
       "<path class=\"bond-0 atom-0 atom-1\" d=\"M 118.1,59.2 L 127.2,67.3\" style=\"fill:none;fill-rule:evenodd;stroke:#000000;stroke-width:2.0px;stroke-linecap:butt;stroke-linejoin:miter;stroke-opacity:1\"/>\n",
       "<path class=\"bond-0 atom-0 atom-1\" d=\"M 127.2,67.3 L 136.2,75.5\" style=\"fill:none;fill-rule:evenodd;stroke:#FF0000;stroke-width:2.0px;stroke-linecap:butt;stroke-linejoin:miter;stroke-opacity:1\"/>\n",
       "<path class=\"bond-1 atom-1 atom-2\" d=\"M 146.4,78.5 L 158.8,74.5\" style=\"fill:none;fill-rule:evenodd;stroke:#FF0000;stroke-width:2.0px;stroke-linecap:butt;stroke-linejoin:miter;stroke-opacity:1\"/>\n",
       "<path class=\"bond-1 atom-1 atom-2\" d=\"M 158.8,74.5 L 171.1,70.6\" style=\"fill:none;fill-rule:evenodd;stroke:#000000;stroke-width:2.0px;stroke-linecap:butt;stroke-linejoin:miter;stroke-opacity:1\"/>\n",
       "<path class=\"bond-2 atom-2 atom-3\" d=\"M 171.1,70.6 L 177.7,40.0\" style=\"fill:none;fill-rule:evenodd;stroke:#000000;stroke-width:2.0px;stroke-linecap:butt;stroke-linejoin:miter;stroke-opacity:1\"/>\n",
       "<path class=\"bond-2 atom-2 atom-3\" d=\"M 176.3,68.9 L 181.7,43.6\" style=\"fill:none;fill-rule:evenodd;stroke:#000000;stroke-width:2.0px;stroke-linecap:butt;stroke-linejoin:miter;stroke-opacity:1\"/>\n",
       "<path class=\"bond-3 atom-3 atom-4\" d=\"M 177.7,40.0 L 207.5,30.4\" style=\"fill:none;fill-rule:evenodd;stroke:#000000;stroke-width:2.0px;stroke-linecap:butt;stroke-linejoin:miter;stroke-opacity:1\"/>\n",
       "<path class=\"bond-4 atom-4 atom-5\" d=\"M 207.5,30.4 L 230.7,51.4\" style=\"fill:none;fill-rule:evenodd;stroke:#000000;stroke-width:2.0px;stroke-linecap:butt;stroke-linejoin:miter;stroke-opacity:1\"/>\n",
       "<path class=\"bond-4 atom-4 atom-5\" d=\"M 206.4,35.7 L 225.5,53.1\" style=\"fill:none;fill-rule:evenodd;stroke:#000000;stroke-width:2.0px;stroke-linecap:butt;stroke-linejoin:miter;stroke-opacity:1\"/>\n",
       "<path class=\"bond-5 atom-5 atom-6\" d=\"M 230.7,51.4 L 260.5,41.8\" style=\"fill:none;fill-rule:evenodd;stroke:#000000;stroke-width:2.0px;stroke-linecap:butt;stroke-linejoin:miter;stroke-opacity:1\"/>\n",
       "<path class=\"bond-6 atom-6 atom-7\" d=\"M 260.9,38.3 L 261.6,38.5\" style=\"fill:none;fill-rule:evenodd;stroke:#000000;stroke-width:1.0px;stroke-linecap:butt;stroke-linejoin:miter;stroke-opacity:1\"/>\n",
       "<path class=\"bond-6 atom-6 atom-7\" d=\"M 261.3,34.8 L 262.6,35.1\" style=\"fill:none;fill-rule:evenodd;stroke:#000000;stroke-width:1.0px;stroke-linecap:butt;stroke-linejoin:miter;stroke-opacity:1\"/>\n",
       "<path class=\"bond-6 atom-6 atom-7\" d=\"M 261.7,31.3 L 263.7,31.7\" style=\"fill:none;fill-rule:evenodd;stroke:#000000;stroke-width:1.0px;stroke-linecap:butt;stroke-linejoin:miter;stroke-opacity:1\"/>\n",
       "<path class=\"bond-6 atom-6 atom-7\" d=\"M 262.1,27.8 L 264.8,28.4\" style=\"fill:none;fill-rule:evenodd;stroke:#0000FF;stroke-width:1.0px;stroke-linecap:butt;stroke-linejoin:miter;stroke-opacity:1\"/>\n",
       "<path class=\"bond-6 atom-6 atom-7\" d=\"M 262.6,24.3 L 265.8,25.0\" style=\"fill:none;fill-rule:evenodd;stroke:#0000FF;stroke-width:1.0px;stroke-linecap:butt;stroke-linejoin:miter;stroke-opacity:1\"/>\n",
       "<path class=\"bond-6 atom-6 atom-7\" d=\"M 263.0,20.8 L 266.9,21.6\" style=\"fill:none;fill-rule:evenodd;stroke:#0000FF;stroke-width:1.0px;stroke-linecap:butt;stroke-linejoin:miter;stroke-opacity:1\"/>\n",
       "<path class=\"bond-6 atom-6 atom-7\" d=\"M 263.4,17.3 L 268.0,18.2\" style=\"fill:none;fill-rule:evenodd;stroke:#0000FF;stroke-width:1.0px;stroke-linecap:butt;stroke-linejoin:miter;stroke-opacity:1\"/>\n",
       "<path class=\"bond-7 atom-6 atom-8\" d=\"M 260.5,41.8 L 283.7,62.8\" style=\"fill:none;fill-rule:evenodd;stroke:#000000;stroke-width:2.0px;stroke-linecap:butt;stroke-linejoin:miter;stroke-opacity:1\"/>\n",
       "<path class=\"bond-8 atom-8 atom-9\" d=\"M 283.7,62.8 L 296.8,60.1\" style=\"fill:none;fill-rule:evenodd;stroke:#000000;stroke-width:2.0px;stroke-linecap:butt;stroke-linejoin:miter;stroke-opacity:1\"/>\n",
       "<path class=\"bond-8 atom-8 atom-9\" d=\"M 296.8,60.1 L 309.9,57.4\" style=\"fill:none;fill-rule:evenodd;stroke:#0000FF;stroke-width:2.0px;stroke-linecap:butt;stroke-linejoin:miter;stroke-opacity:1\"/>\n",
       "<path class=\"bond-8 atom-8 atom-9\" d=\"M 288.0,66.7 L 299.4,64.3\" style=\"fill:none;fill-rule:evenodd;stroke:#000000;stroke-width:2.0px;stroke-linecap:butt;stroke-linejoin:miter;stroke-opacity:1\"/>\n",
       "<path class=\"bond-8 atom-8 atom-9\" d=\"M 299.4,64.3 L 310.9,61.9\" style=\"fill:none;fill-rule:evenodd;stroke:#0000FF;stroke-width:2.0px;stroke-linecap:butt;stroke-linejoin:miter;stroke-opacity:1\"/>\n",
       "<path class=\"bond-9 atom-9 atom-10\" d=\"M 317.4,61.9 L 323.7,72.7\" style=\"fill:none;fill-rule:evenodd;stroke:#0000FF;stroke-width:2.0px;stroke-linecap:butt;stroke-linejoin:miter;stroke-opacity:1\"/>\n",
       "<path class=\"bond-9 atom-9 atom-10\" d=\"M 323.7,72.7 L 329.9,83.6\" style=\"fill:none;fill-rule:evenodd;stroke:#000000;stroke-width:2.0px;stroke-linecap:butt;stroke-linejoin:miter;stroke-opacity:1\"/>\n",
       "<path class=\"bond-10 atom-10 atom-11\" d=\"M 329.9,83.6 L 308.9,106.8\" style=\"fill:none;fill-rule:evenodd;stroke:#000000;stroke-width:2.0px;stroke-linecap:butt;stroke-linejoin:miter;stroke-opacity:1\"/>\n",
       "<path class=\"bond-10 atom-10 atom-11\" d=\"M 324.1,83.0 L 307.7,101.1\" style=\"fill:none;fill-rule:evenodd;stroke:#000000;stroke-width:2.0px;stroke-linecap:butt;stroke-linejoin:miter;stroke-opacity:1\"/>\n",
       "<path class=\"bond-11 atom-11 atom-12\" d=\"M 308.9,106.8 L 296.8,101.3\" style=\"fill:none;fill-rule:evenodd;stroke:#000000;stroke-width:2.0px;stroke-linecap:butt;stroke-linejoin:miter;stroke-opacity:1\"/>\n",
       "<path class=\"bond-11 atom-11 atom-12\" d=\"M 296.8,101.3 L 284.7,95.9\" style=\"fill:none;fill-rule:evenodd;stroke:#0000FF;stroke-width:2.0px;stroke-linecap:butt;stroke-linejoin:miter;stroke-opacity:1\"/>\n",
       "<path class=\"bond-12 atom-12 atom-13\" d=\"M 275.9,96.5 L 264.5,103.0\" style=\"fill:none;fill-rule:evenodd;stroke:#0000FF;stroke-width:2.0px;stroke-linecap:butt;stroke-linejoin:miter;stroke-opacity:1\"/>\n",
       "<path class=\"bond-12 atom-12 atom-13\" d=\"M 264.5,103.0 L 253.2,109.5\" style=\"fill:none;fill-rule:evenodd;stroke:#000000;stroke-width:2.0px;stroke-linecap:butt;stroke-linejoin:miter;stroke-opacity:1\"/>\n",
       "<path class=\"bond-13 atom-5 atom-14\" d=\"M 230.7,51.4 L 224.1,82.0\" style=\"fill:none;fill-rule:evenodd;stroke:#000000;stroke-width:2.0px;stroke-linecap:butt;stroke-linejoin:miter;stroke-opacity:1\"/>\n",
       "<path class=\"bond-14 atom-14 atom-15\" d=\"M 224.1,82.0 L 194.3,91.6\" style=\"fill:none;fill-rule:evenodd;stroke:#000000;stroke-width:2.0px;stroke-linecap:butt;stroke-linejoin:miter;stroke-opacity:1\"/>\n",
       "<path class=\"bond-14 atom-14 atom-15\" d=\"M 220.1,78.4 L 195.5,86.3\" style=\"fill:none;fill-rule:evenodd;stroke:#000000;stroke-width:2.0px;stroke-linecap:butt;stroke-linejoin:miter;stroke-opacity:1\"/>\n",
       "<path class=\"bond-15 atom-15 atom-16\" d=\"M 194.3,91.6 L 191.6,104.1\" style=\"fill:none;fill-rule:evenodd;stroke:#000000;stroke-width:2.0px;stroke-linecap:butt;stroke-linejoin:miter;stroke-opacity:1\"/>\n",
       "<path class=\"bond-15 atom-15 atom-16\" d=\"M 191.6,104.1 L 188.9,116.7\" style=\"fill:none;fill-rule:evenodd;stroke:#FF0000;stroke-width:2.0px;stroke-linecap:butt;stroke-linejoin:miter;stroke-opacity:1\"/>\n",
       "<path class=\"bond-16 atom-16 atom-17\" d=\"M 192.8,126.8 L 201.9,135.0\" style=\"fill:none;fill-rule:evenodd;stroke:#FF0000;stroke-width:2.0px;stroke-linecap:butt;stroke-linejoin:miter;stroke-opacity:1\"/>\n",
       "<path class=\"bond-16 atom-16 atom-17\" d=\"M 201.9,135.0 L 210.9,143.2\" style=\"fill:none;fill-rule:evenodd;stroke:#000000;stroke-width:2.0px;stroke-linecap:butt;stroke-linejoin:miter;stroke-opacity:1\"/>\n",
       "<path class=\"bond-17 atom-15 atom-2\" d=\"M 194.3,91.6 L 171.1,70.6\" style=\"fill:none;fill-rule:evenodd;stroke:#000000;stroke-width:2.0px;stroke-linecap:butt;stroke-linejoin:miter;stroke-opacity:1\"/>\n",
       "<path class=\"bond-18 atom-12 atom-8\" d=\"M 280.9,88.5 L 282.3,75.7\" style=\"fill:none;fill-rule:evenodd;stroke:#0000FF;stroke-width:2.0px;stroke-linecap:butt;stroke-linejoin:miter;stroke-opacity:1\"/>\n",
       "<path class=\"bond-18 atom-12 atom-8\" d=\"M 282.3,75.7 L 283.7,62.8\" style=\"fill:none;fill-rule:evenodd;stroke:#000000;stroke-width:2.0px;stroke-linecap:butt;stroke-linejoin:miter;stroke-opacity:1\"/>\n",
       "<path d=\"M 177.4,41.5 L 177.7,40.0 L 179.2,39.5\" style=\"fill:none;stroke:#000000;stroke-width:2.0px;stroke-linecap:butt;stroke-linejoin:miter;stroke-opacity:1;\"/>\n",
       "<path d=\"M 206.0,30.9 L 207.5,30.4 L 208.7,31.5\" style=\"fill:none;stroke:#000000;stroke-width:2.0px;stroke-linecap:butt;stroke-linejoin:miter;stroke-opacity:1;\"/>\n",
       "<path d=\"M 259.0,42.3 L 260.5,41.8 L 261.6,42.9\" style=\"fill:none;stroke:#000000;stroke-width:2.0px;stroke-linecap:butt;stroke-linejoin:miter;stroke-opacity:1;\"/>\n",
       "<path d=\"M 329.6,83.0 L 329.9,83.6 L 328.8,84.7\" style=\"fill:none;stroke:#000000;stroke-width:2.0px;stroke-linecap:butt;stroke-linejoin:miter;stroke-opacity:1;\"/>\n",
       "<path d=\"M 309.9,105.6 L 308.9,106.8 L 308.3,106.5\" style=\"fill:none;stroke:#000000;stroke-width:2.0px;stroke-linecap:butt;stroke-linejoin:miter;stroke-opacity:1;\"/>\n",
       "<path d=\"M 224.4,80.5 L 224.1,82.0 L 222.6,82.5\" style=\"fill:none;stroke:#000000;stroke-width:2.0px;stroke-linecap:butt;stroke-linejoin:miter;stroke-opacity:1;\"/>\n",
       "<path class=\"atom-1\" d=\"M 137.3 80.2 Q 137.3 78.1, 138.3 76.9 Q 139.4 75.7, 141.3 75.7 Q 143.3 75.7, 144.3 76.9 Q 145.4 78.1, 145.4 80.2 Q 145.4 82.3, 144.3 83.6 Q 143.3 84.8, 141.3 84.8 Q 139.4 84.8, 138.3 83.6 Q 137.3 82.4, 137.3 80.2 M 141.3 83.8 Q 142.7 83.8, 143.4 82.9 Q 144.1 82.0, 144.1 80.2 Q 144.1 78.4, 143.4 77.6 Q 142.7 76.7, 141.3 76.7 Q 140.0 76.7, 139.2 77.6 Q 138.5 78.4, 138.5 80.2 Q 138.5 82.0, 139.2 82.9 Q 140.0 83.8, 141.3 83.8 \" fill=\"#FF0000\"/>\n",
       "<path class=\"atom-7\" d=\"M 265.1 6.8 L 268.0 11.5 Q 268.3 12.0, 268.8 12.8 Q 269.2 13.7, 269.3 13.7 L 269.3 6.8 L 270.4 6.8 L 270.4 15.7 L 269.2 15.7 L 266.1 10.5 Q 265.8 9.9, 265.4 9.3 Q 265.0 8.6, 264.9 8.4 L 264.9 15.7 L 263.7 15.7 L 263.7 6.8 L 265.1 6.8 \" fill=\"#0000FF\"/>\n",
       "<path class=\"atom-7\" d=\"M 272.1 6.8 L 273.3 6.8 L 273.3 10.6 L 277.9 10.6 L 277.9 6.8 L 279.1 6.8 L 279.1 15.7 L 277.9 15.7 L 277.9 11.6 L 273.3 11.6 L 273.3 15.7 L 272.1 15.7 L 272.1 6.8 \" fill=\"#0000FF\"/>\n",
       "<path class=\"atom-7\" d=\"M 280.8 15.4 Q 281.0 14.8, 281.5 14.5 Q 282.0 14.2, 282.8 14.2 Q 283.6 14.2, 284.1 14.7 Q 284.6 15.2, 284.6 16.0 Q 284.6 16.9, 284.0 17.7 Q 283.4 18.5, 282.0 19.4 L 284.7 19.4 L 284.7 20.1 L 280.8 20.1 L 280.8 19.6 Q 281.9 18.8, 282.5 18.2 Q 283.2 17.6, 283.5 17.1 Q 283.8 16.6, 283.8 16.0 Q 283.8 15.5, 283.5 15.2 Q 283.2 14.9, 282.8 14.9 Q 282.3 14.9, 282.0 15.0 Q 281.7 15.2, 281.4 15.7 L 280.8 15.4 \" fill=\"#0000FF\"/>\n",
       "<path class=\"atom-9\" d=\"M 312.3 52.0 L 315.2 56.7 Q 315.5 57.2, 316.0 58.0 Q 316.5 58.8, 316.5 58.9 L 316.5 52.0 L 317.7 52.0 L 317.7 60.9 L 316.5 60.9 L 313.3 55.7 Q 313.0 55.1, 312.6 54.4 Q 312.2 53.8, 312.1 53.5 L 312.1 60.9 L 310.9 60.9 L 310.9 52.0 L 312.3 52.0 \" fill=\"#0000FF\"/>\n",
       "<path class=\"atom-9\" d=\"M 319.4 52.0 L 320.6 52.0 L 320.6 55.8 L 325.1 55.8 L 325.1 52.0 L 326.3 52.0 L 326.3 60.9 L 325.1 60.9 L 325.1 56.8 L 320.6 56.8 L 320.6 60.9 L 319.4 60.9 L 319.4 52.0 \" fill=\"#0000FF\"/>\n",
       "<path class=\"atom-9\" d=\"M 328.0 53.6 L 329.6 53.6 L 329.6 52.0 L 330.3 52.0 L 330.3 53.6 L 331.9 53.6 L 331.9 54.2 L 330.3 54.2 L 330.3 55.8 L 329.6 55.8 L 329.6 54.2 L 328.0 54.2 L 328.0 53.6 \" fill=\"#0000FF\"/>\n",
       "<path class=\"atom-12\" d=\"M 278.4 89.5 L 281.3 94.2 Q 281.5 94.7, 282.0 95.5 Q 282.5 96.4, 282.5 96.4 L 282.5 89.5 L 283.7 89.5 L 283.7 98.4 L 282.5 98.4 L 279.3 93.3 Q 279.0 92.7, 278.6 92.0 Q 278.2 91.3, 278.1 91.1 L 278.1 98.4 L 277.0 98.4 L 277.0 89.5 L 278.4 89.5 \" fill=\"#0000FF\"/>\n",
       "<path class=\"atom-16\" d=\"M 183.6 122.2 Q 183.6 120.1, 184.7 118.9 Q 185.7 117.7, 187.7 117.7 Q 189.7 117.7, 190.7 118.9 Q 191.8 120.1, 191.8 122.2 Q 191.8 124.4, 190.7 125.6 Q 189.7 126.8, 187.7 126.8 Q 185.8 126.8, 184.7 125.6 Q 183.6 124.4, 183.6 122.2 M 187.7 125.8 Q 189.1 125.8, 189.8 124.9 Q 190.5 124.0, 190.5 122.2 Q 190.5 120.5, 189.8 119.6 Q 189.1 118.7, 187.7 118.7 Q 186.4 118.7, 185.6 119.6 Q 184.9 120.4, 184.9 122.2 Q 184.9 124.0, 185.6 124.9 Q 186.4 125.8, 187.7 125.8 \" fill=\"#FF0000\"/>\n",
       "</svg>"
      ],
      "text/plain": [
       "<IPython.core.display.SVG object>"
      ]
     },
     "metadata": {},
     "output_type": "display_data"
    },
    {
     "data": {
      "image/svg+xml": [
       "<svg xmlns=\"http://www.w3.org/2000/svg\" xmlns:rdkit=\"http://www.rdkit.org/xml\" xmlns:xlink=\"http://www.w3.org/1999/xlink\" version=\"1.1\" baseProfile=\"full\" xml:space=\"preserve\" width=\"450px\" height=\"150px\" viewBox=\"0 0 450 150\">\n",
       "<!-- END OF HEADER -->\n",
       "<rect style=\"opacity:1.0;fill:#FFFFFF;stroke:none\" width=\"450.0\" height=\"150.0\" x=\"0.0\" y=\"0.0\"> </rect>\n",
       "<path class=\"bond-0 atom-0 atom-1\" d=\"M 200.7,130.1 L 208.0,116.6\" style=\"fill:none;fill-rule:evenodd;stroke:#FF0000;stroke-width:2.0px;stroke-linecap:butt;stroke-linejoin:miter;stroke-opacity:1\"/>\n",
       "<path class=\"bond-0 atom-0 atom-1\" d=\"M 208.0,116.6 L 215.2,103.1\" style=\"fill:none;fill-rule:evenodd;stroke:#000000;stroke-width:2.0px;stroke-linecap:butt;stroke-linejoin:miter;stroke-opacity:1\"/>\n",
       "<path class=\"bond-0 atom-0 atom-1\" d=\"M 205.5,132.7 L 212.8,119.2\" style=\"fill:none;fill-rule:evenodd;stroke:#FF0000;stroke-width:2.0px;stroke-linecap:butt;stroke-linejoin:miter;stroke-opacity:1\"/>\n",
       "<path class=\"bond-0 atom-0 atom-1\" d=\"M 212.8,119.2 L 220.0,105.7\" style=\"fill:none;fill-rule:evenodd;stroke:#000000;stroke-width:2.0px;stroke-linecap:butt;stroke-linejoin:miter;stroke-opacity:1\"/>\n",
       "<path class=\"bond-1 atom-1 atom-2\" d=\"M 216.9,105.8 L 253.2,104.7\" style=\"fill:none;fill-rule:evenodd;stroke:#000000;stroke-width:2.0px;stroke-linecap:butt;stroke-linejoin:miter;stroke-opacity:1\"/>\n",
       "<path class=\"bond-2 atom-2 atom-3\" d=\"M 253.2,104.7 L 272.3,135.6\" style=\"fill:none;fill-rule:evenodd;stroke:#000000;stroke-width:2.0px;stroke-linecap:butt;stroke-linejoin:miter;stroke-opacity:1\"/>\n",
       "<path class=\"bond-3 atom-3 atom-4\" d=\"M 272.3,135.6 L 308.7,134.4\" style=\"fill:none;fill-rule:evenodd;stroke:#000000;stroke-width:2.0px;stroke-linecap:butt;stroke-linejoin:miter;stroke-opacity:1\"/>\n",
       "<path class=\"bond-3 atom-3 atom-4\" d=\"M 275.3,130.0 L 305.3,129.1\" style=\"fill:none;fill-rule:evenodd;stroke:#000000;stroke-width:2.0px;stroke-linecap:butt;stroke-linejoin:miter;stroke-opacity:1\"/>\n",
       "<path class=\"bond-4 atom-4 atom-5\" d=\"M 308.7,134.4 L 325.8,102.4\" style=\"fill:none;fill-rule:evenodd;stroke:#000000;stroke-width:2.0px;stroke-linecap:butt;stroke-linejoin:miter;stroke-opacity:1\"/>\n",
       "<path class=\"bond-5 atom-5 atom-6\" d=\"M 325.8,102.4 L 306.7,71.5\" style=\"fill:none;fill-rule:evenodd;stroke:#000000;stroke-width:2.0px;stroke-linecap:butt;stroke-linejoin:miter;stroke-opacity:1\"/>\n",
       "<path class=\"bond-5 atom-5 atom-6\" d=\"M 319.5,102.6 L 303.7,77.1\" style=\"fill:none;fill-rule:evenodd;stroke:#000000;stroke-width:2.0px;stroke-linecap:butt;stroke-linejoin:miter;stroke-opacity:1\"/>\n",
       "<path class=\"bond-6 atom-6 atom-7\" d=\"M 306.7,71.5 L 323.9,39.5\" style=\"fill:none;fill-rule:evenodd;stroke:#000000;stroke-width:2.0px;stroke-linecap:butt;stroke-linejoin:miter;stroke-opacity:1\"/>\n",
       "<path class=\"bond-7 atom-7 atom-8\" d=\"M 323.9,39.5 L 339.5,39.0\" style=\"fill:none;fill-rule:evenodd;stroke:#000000;stroke-width:2.0px;stroke-linecap:butt;stroke-linejoin:miter;stroke-opacity:1\"/>\n",
       "<path class=\"bond-7 atom-7 atom-8\" d=\"M 339.5,39.0 L 355.1,38.5\" style=\"fill:none;fill-rule:evenodd;stroke:#0000FF;stroke-width:2.0px;stroke-linecap:butt;stroke-linejoin:miter;stroke-opacity:1\"/>\n",
       "<path class=\"bond-8 atom-8 atom-9\" d=\"M 364.5,32.0 L 372.6,20.2\" style=\"fill:none;fill-rule:evenodd;stroke:#0000FF;stroke-width:2.0px;stroke-linecap:butt;stroke-linejoin:miter;stroke-opacity:1\"/>\n",
       "<path class=\"bond-8 atom-8 atom-9\" d=\"M 372.6,20.2 L 380.6,8.3\" style=\"fill:none;fill-rule:evenodd;stroke:#000000;stroke-width:2.0px;stroke-linecap:butt;stroke-linejoin:miter;stroke-opacity:1\"/>\n",
       "<path class=\"bond-9 atom-9 atom-10\" d=\"M 380.6,8.3 L 415.5,18.5\" style=\"fill:none;fill-rule:evenodd;stroke:#000000;stroke-width:2.0px;stroke-linecap:butt;stroke-linejoin:miter;stroke-opacity:1\"/>\n",
       "<path class=\"bond-10 atom-10 atom-11\" d=\"M 415.5,18.5 L 416.6,54.8\" style=\"fill:none;fill-rule:evenodd;stroke:#000000;stroke-width:2.0px;stroke-linecap:butt;stroke-linejoin:miter;stroke-opacity:1\"/>\n",
       "<path class=\"bond-11 atom-11 atom-12\" d=\"M 416.6,54.8 L 382.5,67.1\" style=\"fill:none;fill-rule:evenodd;stroke:#000000;stroke-width:2.0px;stroke-linecap:butt;stroke-linejoin:miter;stroke-opacity:1\"/>\n",
       "<path class=\"bond-12 atom-7 atom-13\" d=\"M 323.9,39.5 L 304.7,8.6\" style=\"fill:none;fill-rule:evenodd;stroke:#000000;stroke-width:2.0px;stroke-linecap:butt;stroke-linejoin:miter;stroke-opacity:1\"/>\n",
       "<path class=\"bond-12 atom-7 atom-13\" d=\"M 317.6,39.7 L 301.8,14.2\" style=\"fill:none;fill-rule:evenodd;stroke:#000000;stroke-width:2.0px;stroke-linecap:butt;stroke-linejoin:miter;stroke-opacity:1\"/>\n",
       "<path class=\"bond-13 atom-13 atom-14\" d=\"M 304.7,8.6 L 268.4,9.8\" style=\"fill:none;fill-rule:evenodd;stroke:#000000;stroke-width:2.0px;stroke-linecap:butt;stroke-linejoin:miter;stroke-opacity:1\"/>\n",
       "<path class=\"bond-14 atom-14 atom-15\" d=\"M 268.4,9.8 L 251.2,41.8\" style=\"fill:none;fill-rule:evenodd;stroke:#000000;stroke-width:2.0px;stroke-linecap:butt;stroke-linejoin:miter;stroke-opacity:1\"/>\n",
       "<path class=\"bond-14 atom-14 atom-15\" d=\"M 271.7,15.1 L 257.5,41.6\" style=\"fill:none;fill-rule:evenodd;stroke:#000000;stroke-width:2.0px;stroke-linecap:butt;stroke-linejoin:miter;stroke-opacity:1\"/>\n",
       "<path class=\"bond-15 atom-15 atom-16\" d=\"M 251.2,41.8 L 270.4,72.7\" style=\"fill:none;fill-rule:evenodd;stroke:#000000;stroke-width:2.0px;stroke-linecap:butt;stroke-linejoin:miter;stroke-opacity:1\"/>\n",
       "<path class=\"bond-16 atom-15 atom-17\" d=\"M 251.2,41.8 L 214.9,42.9\" style=\"fill:none;fill-rule:evenodd;stroke:#000000;stroke-width:2.0px;stroke-linecap:butt;stroke-linejoin:miter;stroke-opacity:1\"/>\n",
       "<path class=\"bond-17 atom-17 atom-18\" d=\"M 218.1,42.8 L 210.1,30.0\" style=\"fill:none;fill-rule:evenodd;stroke:#000000;stroke-width:2.0px;stroke-linecap:butt;stroke-linejoin:miter;stroke-opacity:1\"/>\n",
       "<path class=\"bond-17 atom-17 atom-18\" d=\"M 210.1,30.0 L 202.2,17.1\" style=\"fill:none;fill-rule:evenodd;stroke:#FF0000;stroke-width:2.0px;stroke-linecap:butt;stroke-linejoin:miter;stroke-opacity:1\"/>\n",
       "<path class=\"bond-17 atom-17 atom-18\" d=\"M 213.4,45.7 L 205.5,32.8\" style=\"fill:none;fill-rule:evenodd;stroke:#000000;stroke-width:2.0px;stroke-linecap:butt;stroke-linejoin:miter;stroke-opacity:1\"/>\n",
       "<path class=\"bond-17 atom-17 atom-18\" d=\"M 205.5,32.8 L 197.5,20.0\" style=\"fill:none;fill-rule:evenodd;stroke:#FF0000;stroke-width:2.0px;stroke-linecap:butt;stroke-linejoin:miter;stroke-opacity:1\"/>\n",
       "<path class=\"bond-18 atom-17 atom-19\" d=\"M 214.9,42.9 L 208.0,55.7\" style=\"fill:none;fill-rule:evenodd;stroke:#000000;stroke-width:2.0px;stroke-linecap:butt;stroke-linejoin:miter;stroke-opacity:1\"/>\n",
       "<path class=\"bond-18 atom-17 atom-19\" d=\"M 208.0,55.7 L 201.2,68.6\" style=\"fill:none;fill-rule:evenodd;stroke:#0000FF;stroke-width:2.0px;stroke-linecap:butt;stroke-linejoin:miter;stroke-opacity:1\"/>\n",
       "<path class=\"bond-19 atom-19 atom-20\" d=\"M 192.7,75.1 L 177.0,75.6\" style=\"fill:none;fill-rule:evenodd;stroke:#0000FF;stroke-width:2.0px;stroke-linecap:butt;stroke-linejoin:miter;stroke-opacity:1\"/>\n",
       "<path class=\"bond-19 atom-19 atom-20\" d=\"M 177.0,75.6 L 161.4,76.1\" style=\"fill:none;fill-rule:evenodd;stroke:#000000;stroke-width:2.0px;stroke-linecap:butt;stroke-linejoin:miter;stroke-opacity:1\"/>\n",
       "<path class=\"bond-20 atom-20 atom-21\" d=\"M 161.4,76.1 L 142.3,45.2\" style=\"fill:none;fill-rule:evenodd;stroke:#000000;stroke-width:2.0px;stroke-linecap:butt;stroke-linejoin:miter;stroke-opacity:1\"/>\n",
       "<path class=\"bond-21 atom-21 atom-22\" d=\"M 142.3,45.2 L 106.0,46.3\" style=\"fill:none;fill-rule:evenodd;stroke:#000000;stroke-width:2.0px;stroke-linecap:butt;stroke-linejoin:miter;stroke-opacity:1\"/>\n",
       "<path class=\"bond-22 atom-22 atom-23\" d=\"M 106.0,46.3 L 86.9,15.4\" style=\"fill:none;fill-rule:evenodd;stroke:#000000;stroke-width:2.0px;stroke-linecap:butt;stroke-linejoin:miter;stroke-opacity:1\"/>\n",
       "<path class=\"bond-22 atom-22 atom-23\" d=\"M 99.7,46.5 L 83.9,21.0\" style=\"fill:none;fill-rule:evenodd;stroke:#000000;stroke-width:2.0px;stroke-linecap:butt;stroke-linejoin:miter;stroke-opacity:1\"/>\n",
       "<path class=\"bond-23 atom-23 atom-24\" d=\"M 86.9,15.4 L 50.5,16.5\" style=\"fill:none;fill-rule:evenodd;stroke:#000000;stroke-width:2.0px;stroke-linecap:butt;stroke-linejoin:miter;stroke-opacity:1\"/>\n",
       "<path class=\"bond-24 atom-24 atom-25\" d=\"M 50.5,16.5 L 33.4,48.6\" style=\"fill:none;fill-rule:evenodd;stroke:#000000;stroke-width:2.0px;stroke-linecap:butt;stroke-linejoin:miter;stroke-opacity:1\"/>\n",
       "<path class=\"bond-24 atom-24 atom-25\" d=\"M 53.9,21.9 L 39.6,48.4\" style=\"fill:none;fill-rule:evenodd;stroke:#000000;stroke-width:2.0px;stroke-linecap:butt;stroke-linejoin:miter;stroke-opacity:1\"/>\n",
       "<path class=\"bond-25 atom-25 atom-26\" d=\"M 33.4,48.6 L 52.5,79.4\" style=\"fill:none;fill-rule:evenodd;stroke:#000000;stroke-width:2.0px;stroke-linecap:butt;stroke-linejoin:miter;stroke-opacity:1\"/>\n",
       "<path class=\"bond-26 atom-26 atom-27\" d=\"M 52.5,79.4 L 88.8,78.3\" style=\"fill:none;fill-rule:evenodd;stroke:#000000;stroke-width:2.0px;stroke-linecap:butt;stroke-linejoin:miter;stroke-opacity:1\"/>\n",
       "<path class=\"bond-26 atom-26 atom-27\" d=\"M 55.5,73.9 L 85.5,73.0\" style=\"fill:none;fill-rule:evenodd;stroke:#000000;stroke-width:2.0px;stroke-linecap:butt;stroke-linejoin:miter;stroke-opacity:1\"/>\n",
       "<path class=\"bond-27 atom-19 atom-1\" d=\"M 201.7,81.3 L 209.3,93.5\" style=\"fill:none;fill-rule:evenodd;stroke:#0000FF;stroke-width:2.0px;stroke-linecap:butt;stroke-linejoin:miter;stroke-opacity:1\"/>\n",
       "<path class=\"bond-27 atom-19 atom-1\" d=\"M 209.3,93.5 L 216.9,105.8\" style=\"fill:none;fill-rule:evenodd;stroke:#000000;stroke-width:2.0px;stroke-linecap:butt;stroke-linejoin:miter;stroke-opacity:1\"/>\n",
       "<path class=\"bond-28 atom-27 atom-22\" d=\"M 88.8,78.3 L 106.0,46.3\" style=\"fill:none;fill-rule:evenodd;stroke:#000000;stroke-width:2.0px;stroke-linecap:butt;stroke-linejoin:miter;stroke-opacity:1\"/>\n",
       "<path class=\"bond-29 atom-16 atom-2\" d=\"M 270.4,72.7 L 253.2,104.7\" style=\"fill:none;fill-rule:evenodd;stroke:#000000;stroke-width:2.0px;stroke-linecap:butt;stroke-linejoin:miter;stroke-opacity:1\"/>\n",
       "<path class=\"bond-29 atom-16 atom-2\" d=\"M 273.7,78.0 L 259.5,104.5\" style=\"fill:none;fill-rule:evenodd;stroke:#000000;stroke-width:2.0px;stroke-linecap:butt;stroke-linejoin:miter;stroke-opacity:1\"/>\n",
       "<path class=\"bond-30 atom-16 atom-6\" d=\"M 270.4,72.7 L 306.7,71.5\" style=\"fill:none;fill-rule:evenodd;stroke:#000000;stroke-width:2.0px;stroke-linecap:butt;stroke-linejoin:miter;stroke-opacity:1\"/>\n",
       "<path class=\"bond-31 atom-12 atom-8\" d=\"M 382.5,67.1 L 373.8,55.9\" style=\"fill:none;fill-rule:evenodd;stroke:#000000;stroke-width:2.0px;stroke-linecap:butt;stroke-linejoin:miter;stroke-opacity:1\"/>\n",
       "<path class=\"bond-31 atom-12 atom-8\" d=\"M 373.8,55.9 L 365.1,44.7\" style=\"fill:none;fill-rule:evenodd;stroke:#0000FF;stroke-width:2.0px;stroke-linecap:butt;stroke-linejoin:miter;stroke-opacity:1\"/>\n",
       "<path d=\"M 218.7,105.7 L 216.9,105.8 L 216.5,105.2\" style=\"fill:none;stroke:#000000;stroke-width:2.0px;stroke-linecap:butt;stroke-linejoin:miter;stroke-opacity:1;\"/>\n",
       "<path d=\"M 271.4,134.0 L 272.3,135.6 L 274.2,135.5\" style=\"fill:none;stroke:#000000;stroke-width:2.0px;stroke-linecap:butt;stroke-linejoin:miter;stroke-opacity:1;\"/>\n",
       "<path d=\"M 306.8,134.5 L 308.7,134.4 L 309.5,132.8\" style=\"fill:none;stroke:#000000;stroke-width:2.0px;stroke-linecap:butt;stroke-linejoin:miter;stroke-opacity:1;\"/>\n",
       "<path d=\"M 325.0,104.0 L 325.8,102.4 L 324.9,100.9\" style=\"fill:none;stroke:#000000;stroke-width:2.0px;stroke-linecap:butt;stroke-linejoin:miter;stroke-opacity:1;\"/>\n",
       "<path d=\"M 380.2,8.9 L 380.6,8.3 L 382.4,8.8\" style=\"fill:none;stroke:#000000;stroke-width:2.0px;stroke-linecap:butt;stroke-linejoin:miter;stroke-opacity:1;\"/>\n",
       "<path d=\"M 413.8,18.0 L 415.5,18.5 L 415.6,20.3\" style=\"fill:none;stroke:#000000;stroke-width:2.0px;stroke-linecap:butt;stroke-linejoin:miter;stroke-opacity:1;\"/>\n",
       "<path d=\"M 416.6,53.0 L 416.6,54.8 L 414.9,55.4\" style=\"fill:none;stroke:#000000;stroke-width:2.0px;stroke-linecap:butt;stroke-linejoin:miter;stroke-opacity:1;\"/>\n",
       "<path d=\"M 384.2,66.5 L 382.5,67.1 L 382.0,66.5\" style=\"fill:none;stroke:#000000;stroke-width:2.0px;stroke-linecap:butt;stroke-linejoin:miter;stroke-opacity:1;\"/>\n",
       "<path d=\"M 305.7,10.2 L 304.7,8.6 L 302.9,8.7\" style=\"fill:none;stroke:#000000;stroke-width:2.0px;stroke-linecap:butt;stroke-linejoin:miter;stroke-opacity:1;\"/>\n",
       "<path d=\"M 270.2,9.7 L 268.4,9.8 L 267.6,11.4\" style=\"fill:none;stroke:#000000;stroke-width:2.0px;stroke-linecap:butt;stroke-linejoin:miter;stroke-opacity:1;\"/>\n",
       "<path d=\"M 216.7,42.8 L 214.9,42.9 L 214.6,43.5\" style=\"fill:none;stroke:#000000;stroke-width:2.0px;stroke-linecap:butt;stroke-linejoin:miter;stroke-opacity:1;\"/>\n",
       "<path d=\"M 162.2,76.0 L 161.4,76.1 L 160.5,74.5\" style=\"fill:none;stroke:#000000;stroke-width:2.0px;stroke-linecap:butt;stroke-linejoin:miter;stroke-opacity:1;\"/>\n",
       "<path d=\"M 143.3,46.7 L 142.3,45.2 L 140.5,45.2\" style=\"fill:none;stroke:#000000;stroke-width:2.0px;stroke-linecap:butt;stroke-linejoin:miter;stroke-opacity:1;\"/>\n",
       "<path d=\"M 87.8,17.0 L 86.9,15.4 L 85.0,15.5\" style=\"fill:none;stroke:#000000;stroke-width:2.0px;stroke-linecap:butt;stroke-linejoin:miter;stroke-opacity:1;\"/>\n",
       "<path d=\"M 52.4,16.5 L 50.5,16.5 L 49.7,18.1\" style=\"fill:none;stroke:#000000;stroke-width:2.0px;stroke-linecap:butt;stroke-linejoin:miter;stroke-opacity:1;\"/>\n",
       "<path d=\"M 34.2,47.0 L 33.4,48.6 L 34.3,50.1\" style=\"fill:none;stroke:#000000;stroke-width:2.0px;stroke-linecap:butt;stroke-linejoin:miter;stroke-opacity:1;\"/>\n",
       "<path d=\"M 51.5,77.9 L 52.5,79.4 L 54.3,79.4\" style=\"fill:none;stroke:#000000;stroke-width:2.0px;stroke-linecap:butt;stroke-linejoin:miter;stroke-opacity:1;\"/>\n",
       "<path d=\"M 87.0,78.4 L 88.8,78.3 L 89.7,76.7\" style=\"fill:none;stroke:#000000;stroke-width:2.0px;stroke-linecap:butt;stroke-linejoin:miter;stroke-opacity:1;\"/>\n",
       "<path class=\"atom-0\" d=\"M 195.0 137.8 Q 195.0 135.4, 196.2 134.0 Q 197.4 132.6, 199.7 132.6 Q 202.0 132.6, 203.2 134.0 Q 204.4 135.4, 204.4 137.8 Q 204.4 140.3, 203.2 141.8 Q 202.0 143.2, 199.7 143.2 Q 197.4 143.2, 196.2 141.8 Q 195.0 140.4, 195.0 137.8 M 199.7 142.0 Q 201.3 142.0, 202.1 141.0 Q 203.0 139.9, 203.0 137.8 Q 203.0 135.8, 202.1 134.8 Q 201.3 133.8, 199.7 133.8 Q 198.1 133.8, 197.3 134.8 Q 196.4 135.8, 196.4 137.8 Q 196.4 139.9, 197.3 141.0 Q 198.1 142.0, 199.7 142.0 \" fill=\"#FF0000\"/>\n",
       "<path class=\"atom-8\" d=\"M 357.9 33.2 L 361.3 38.7 Q 361.6 39.2, 362.2 40.2 Q 362.7 41.2, 362.7 41.2 L 362.7 33.2 L 364.1 33.2 L 364.1 43.5 L 362.7 43.5 L 359.1 37.6 Q 358.6 36.9, 358.2 36.1 Q 357.8 35.3, 357.6 35.0 L 357.6 43.5 L 356.3 43.5 L 356.3 33.2 L 357.9 33.2 \" fill=\"#0000FF\"/>\n",
       "<path class=\"atom-18\" d=\"M 191.1 12.1 Q 191.1 9.6, 192.3 8.2 Q 193.5 6.8, 195.8 6.8 Q 198.1 6.8, 199.3 8.2 Q 200.5 9.6, 200.5 12.1 Q 200.5 14.5, 199.3 16.0 Q 198.0 17.4, 195.8 17.4 Q 193.5 17.4, 192.3 16.0 Q 191.1 14.6, 191.1 12.1 M 195.8 16.2 Q 197.4 16.2, 198.2 15.2 Q 199.1 14.1, 199.1 12.1 Q 199.1 10.0, 198.2 9.0 Q 197.4 8.0, 195.8 8.0 Q 194.2 8.0, 193.4 9.0 Q 192.5 10.0, 192.5 12.1 Q 192.5 14.1, 193.4 15.2 Q 194.2 16.2, 195.8 16.2 \" fill=\"#FF0000\"/>\n",
       "<path class=\"atom-19\" d=\"M 195.5 69.8 L 198.9 75.2 Q 199.2 75.8, 199.7 76.7 Q 200.3 77.7, 200.3 77.8 L 200.3 69.8 L 201.7 69.8 L 201.7 80.1 L 200.2 80.1 L 196.6 74.1 Q 196.2 73.4, 195.8 72.6 Q 195.3 71.8, 195.2 71.6 L 195.2 80.1 L 193.9 80.1 L 193.9 69.8 L 195.5 69.8 \" fill=\"#0000FF\"/>\n",
       "</svg>"
      ],
      "text/plain": [
       "<IPython.core.display.SVG object>"
      ]
     },
     "metadata": {},
     "output_type": "display_data"
    },
    {
     "data": {
      "image/svg+xml": [
       "<svg xmlns=\"http://www.w3.org/2000/svg\" xmlns:rdkit=\"http://www.rdkit.org/xml\" xmlns:xlink=\"http://www.w3.org/1999/xlink\" version=\"1.1\" baseProfile=\"full\" xml:space=\"preserve\" width=\"450px\" height=\"150px\" viewBox=\"0 0 450 150\">\n",
       "<!-- END OF HEADER -->\n",
       "<rect style=\"opacity:1.0;fill:#FFFFFF;stroke:none\" width=\"450.0\" height=\"150.0\" x=\"0.0\" y=\"0.0\"> </rect>\n",
       "<path class=\"bond-0 atom-0 atom-1\" d=\"M 121.6,109.5 L 131.2,111.7\" style=\"fill:none;fill-rule:evenodd;stroke:#000000;stroke-width:2.0px;stroke-linecap:butt;stroke-linejoin:miter;stroke-opacity:1\"/>\n",
       "<path class=\"bond-0 atom-0 atom-1\" d=\"M 131.2,111.7 L 140.9,113.9\" style=\"fill:none;fill-rule:evenodd;stroke:#FF0000;stroke-width:2.0px;stroke-linecap:butt;stroke-linejoin:miter;stroke-opacity:1\"/>\n",
       "<path class=\"bond-1 atom-1 atom-2\" d=\"M 148.6,110.6 L 154.8,104.0\" style=\"fill:none;fill-rule:evenodd;stroke:#FF0000;stroke-width:2.0px;stroke-linecap:butt;stroke-linejoin:miter;stroke-opacity:1\"/>\n",
       "<path class=\"bond-1 atom-1 atom-2\" d=\"M 154.8,104.0 L 160.9,97.3\" style=\"fill:none;fill-rule:evenodd;stroke:#000000;stroke-width:2.0px;stroke-linecap:butt;stroke-linejoin:miter;stroke-opacity:1\"/>\n",
       "<path class=\"bond-2 atom-2 atom-3\" d=\"M 160.9,97.3 L 153.9,74.6\" style=\"fill:none;fill-rule:evenodd;stroke:#000000;stroke-width:2.0px;stroke-linecap:butt;stroke-linejoin:miter;stroke-opacity:1\"/>\n",
       "<path class=\"bond-2 atom-2 atom-3\" d=\"M 163.7,94.3 L 157.9,75.6\" style=\"fill:none;fill-rule:evenodd;stroke:#000000;stroke-width:2.0px;stroke-linecap:butt;stroke-linejoin:miter;stroke-opacity:1\"/>\n",
       "<path class=\"bond-3 atom-3 atom-4\" d=\"M 153.9,74.6 L 170.0,57.2\" style=\"fill:none;fill-rule:evenodd;stroke:#000000;stroke-width:2.0px;stroke-linecap:butt;stroke-linejoin:miter;stroke-opacity:1\"/>\n",
       "<path class=\"bond-4 atom-4 atom-5\" d=\"M 170.0,57.2 L 193.2,62.5\" style=\"fill:none;fill-rule:evenodd;stroke:#000000;stroke-width:2.0px;stroke-linecap:butt;stroke-linejoin:miter;stroke-opacity:1\"/>\n",
       "<path class=\"bond-4 atom-4 atom-5\" d=\"M 171.2,61.1 L 190.4,65.5\" style=\"fill:none;fill-rule:evenodd;stroke:#000000;stroke-width:2.0px;stroke-linecap:butt;stroke-linejoin:miter;stroke-opacity:1\"/>\n",
       "<path class=\"bond-5 atom-5 atom-6\" d=\"M 193.2,62.5 L 199.6,55.6\" style=\"fill:none;fill-rule:evenodd;stroke:#000000;stroke-width:2.0px;stroke-linecap:butt;stroke-linejoin:miter;stroke-opacity:1\"/>\n",
       "<path class=\"bond-5 atom-5 atom-6\" d=\"M 199.6,55.6 L 206.0,48.7\" style=\"fill:none;fill-rule:evenodd;stroke:#0000FF;stroke-width:2.0px;stroke-linecap:butt;stroke-linejoin:miter;stroke-opacity:1\"/>\n",
       "<path class=\"bond-6 atom-6 atom-7\" d=\"M 212.7,45.8 L 222.6,48.1\" style=\"fill:none;fill-rule:evenodd;stroke:#0000FF;stroke-width:2.0px;stroke-linecap:butt;stroke-linejoin:miter;stroke-opacity:1\"/>\n",
       "<path class=\"bond-6 atom-6 atom-7\" d=\"M 222.6,48.1 L 232.5,50.3\" style=\"fill:none;fill-rule:evenodd;stroke:#000000;stroke-width:2.0px;stroke-linecap:butt;stroke-linejoin:miter;stroke-opacity:1\"/>\n",
       "<path class=\"bond-6 atom-6 atom-7\" d=\"M 211.9,49.3 L 220.8,51.3\" style=\"fill:none;fill-rule:evenodd;stroke:#0000FF;stroke-width:2.0px;stroke-linecap:butt;stroke-linejoin:miter;stroke-opacity:1\"/>\n",
       "<path class=\"bond-6 atom-6 atom-7\" d=\"M 220.8,51.3 L 229.7,53.3\" style=\"fill:none;fill-rule:evenodd;stroke:#000000;stroke-width:2.0px;stroke-linecap:butt;stroke-linejoin:miter;stroke-opacity:1\"/>\n",
       "<path class=\"bond-7 atom-7 atom-8\" d=\"M 232.5,50.3 L 248.6,32.9\" style=\"fill:none;fill-rule:evenodd;stroke:#000000;stroke-width:2.0px;stroke-linecap:butt;stroke-linejoin:miter;stroke-opacity:1\"/>\n",
       "<path class=\"bond-8 atom-8 atom-9\" d=\"M 250.6,33.4 L 247.6,23.7\" style=\"fill:none;fill-rule:evenodd;stroke:#000000;stroke-width:2.0px;stroke-linecap:butt;stroke-linejoin:miter;stroke-opacity:1\"/>\n",
       "<path class=\"bond-8 atom-8 atom-9\" d=\"M 247.6,23.7 L 244.6,14.0\" style=\"fill:none;fill-rule:evenodd;stroke:#FF0000;stroke-width:2.0px;stroke-linecap:butt;stroke-linejoin:miter;stroke-opacity:1\"/>\n",
       "<path class=\"bond-8 atom-8 atom-9\" d=\"M 247.2,34.4 L 244.2,24.7\" style=\"fill:none;fill-rule:evenodd;stroke:#000000;stroke-width:2.0px;stroke-linecap:butt;stroke-linejoin:miter;stroke-opacity:1\"/>\n",
       "<path class=\"bond-8 atom-8 atom-9\" d=\"M 244.2,24.7 L 241.2,15.0\" style=\"fill:none;fill-rule:evenodd;stroke:#FF0000;stroke-width:2.0px;stroke-linecap:butt;stroke-linejoin:miter;stroke-opacity:1\"/>\n",
       "<path class=\"bond-9 atom-8 atom-10\" d=\"M 248.6,32.9 L 258.5,35.2\" style=\"fill:none;fill-rule:evenodd;stroke:#000000;stroke-width:2.0px;stroke-linecap:butt;stroke-linejoin:miter;stroke-opacity:1\"/>\n",
       "<path class=\"bond-9 atom-8 atom-10\" d=\"M 258.5,35.2 L 268.4,37.4\" style=\"fill:none;fill-rule:evenodd;stroke:#0000FF;stroke-width:2.0px;stroke-linecap:butt;stroke-linejoin:miter;stroke-opacity:1\"/>\n",
       "<path class=\"bond-10 atom-10 atom-11\" d=\"M 275.1,35.3 L 282.4,28.9\" style=\"fill:none;fill-rule:evenodd;stroke:#0000FF;stroke-width:2.0px;stroke-linecap:butt;stroke-linejoin:miter;stroke-opacity:1\"/>\n",
       "<path class=\"bond-10 atom-10 atom-11\" d=\"M 282.4,28.9 L 289.7,22.5\" style=\"fill:none;fill-rule:evenodd;stroke:#000000;stroke-width:2.0px;stroke-linecap:butt;stroke-linejoin:miter;stroke-opacity:1\"/>\n",
       "<path class=\"bond-11 atom-11 atom-12\" d=\"M 289.7,22.5 L 310.1,34.7\" style=\"fill:none;fill-rule:evenodd;stroke:#000000;stroke-width:2.0px;stroke-linecap:butt;stroke-linejoin:miter;stroke-opacity:1\"/>\n",
       "<path class=\"bond-12 atom-12 atom-13\" d=\"M 310.1,34.7 L 304.8,57.9\" style=\"fill:none;fill-rule:evenodd;stroke:#000000;stroke-width:2.0px;stroke-linecap:butt;stroke-linejoin:miter;stroke-opacity:1\"/>\n",
       "<path class=\"bond-13 atom-13 atom-14\" d=\"M 306.8,60.6 L 307.2,60.2\" style=\"fill:none;fill-rule:evenodd;stroke:#000000;stroke-width:1.0px;stroke-linecap:butt;stroke-linejoin:miter;stroke-opacity:1\"/>\n",
       "<path class=\"bond-13 atom-13 atom-14\" d=\"M 308.8,63.4 L 309.7,62.6\" style=\"fill:none;fill-rule:evenodd;stroke:#000000;stroke-width:1.0px;stroke-linecap:butt;stroke-linejoin:miter;stroke-opacity:1\"/>\n",
       "<path class=\"bond-13 atom-13 atom-14\" d=\"M 310.8,66.1 L 312.2,64.9\" style=\"fill:none;fill-rule:evenodd;stroke:#000000;stroke-width:1.0px;stroke-linecap:butt;stroke-linejoin:miter;stroke-opacity:1\"/>\n",
       "<path class=\"bond-13 atom-13 atom-14\" d=\"M 312.8,68.8 L 314.6,67.3\" style=\"fill:none;fill-rule:evenodd;stroke:#000000;stroke-width:1.0px;stroke-linecap:butt;stroke-linejoin:miter;stroke-opacity:1\"/>\n",
       "<path class=\"bond-13 atom-13 atom-14\" d=\"M 314.8,71.6 L 317.1,69.6\" style=\"fill:none;fill-rule:evenodd;stroke:#000000;stroke-width:1.0px;stroke-linecap:butt;stroke-linejoin:miter;stroke-opacity:1\"/>\n",
       "<path class=\"bond-13 atom-13 atom-14\" d=\"M 316.8,74.3 L 319.5,72.0\" style=\"fill:none;fill-rule:evenodd;stroke:#000000;stroke-width:1.0px;stroke-linecap:butt;stroke-linejoin:miter;stroke-opacity:1\"/>\n",
       "<path class=\"bond-14 atom-14 atom-15\" d=\"M 320.4,75.7 L 312.8,98.2\" style=\"fill:none;fill-rule:evenodd;stroke:#000000;stroke-width:2.0px;stroke-linecap:butt;stroke-linejoin:miter;stroke-opacity:1\"/>\n",
       "<path class=\"bond-15 atom-15 atom-16\" d=\"M 312.8,98.2 L 289.5,102.8\" style=\"fill:none;fill-rule:evenodd;stroke:#000000;stroke-width:2.0px;stroke-linecap:butt;stroke-linejoin:miter;stroke-opacity:1\"/>\n",
       "<path class=\"bond-15 atom-15 atom-16\" d=\"M 311.4,102.1 L 292.2,105.9\" style=\"fill:none;fill-rule:evenodd;stroke:#000000;stroke-width:2.0px;stroke-linecap:butt;stroke-linejoin:miter;stroke-opacity:1\"/>\n",
       "<path class=\"bond-16 atom-16 atom-17\" d=\"M 289.5,102.8 L 281.8,125.3\" style=\"fill:none;fill-rule:evenodd;stroke:#000000;stroke-width:2.0px;stroke-linecap:butt;stroke-linejoin:miter;stroke-opacity:1\"/>\n",
       "<path class=\"bond-17 atom-17 atom-18\" d=\"M 281.8,125.3 L 297.4,143.2\" style=\"fill:none;fill-rule:evenodd;stroke:#000000;stroke-width:2.0px;stroke-linecap:butt;stroke-linejoin:miter;stroke-opacity:1\"/>\n",
       "<path class=\"bond-17 atom-17 atom-18\" d=\"M 285.8,124.5 L 298.8,139.3\" style=\"fill:none;fill-rule:evenodd;stroke:#000000;stroke-width:2.0px;stroke-linecap:butt;stroke-linejoin:miter;stroke-opacity:1\"/>\n",
       "<path class=\"bond-18 atom-18 atom-19\" d=\"M 297.4,143.2 L 320.7,138.6\" style=\"fill:none;fill-rule:evenodd;stroke:#000000;stroke-width:2.0px;stroke-linecap:butt;stroke-linejoin:miter;stroke-opacity:1\"/>\n",
       "<path class=\"bond-19 atom-19 atom-20\" d=\"M 320.7,138.6 L 328.4,116.1\" style=\"fill:none;fill-rule:evenodd;stroke:#000000;stroke-width:2.0px;stroke-linecap:butt;stroke-linejoin:miter;stroke-opacity:1\"/>\n",
       "<path class=\"bond-19 atom-19 atom-20\" d=\"M 318.0,135.5 L 324.4,116.9\" style=\"fill:none;fill-rule:evenodd;stroke:#000000;stroke-width:2.0px;stroke-linecap:butt;stroke-linejoin:miter;stroke-opacity:1\"/>\n",
       "<path class=\"bond-20 atom-13 atom-21\" d=\"M 304.8,57.9 L 281.1,60.0\" style=\"fill:none;fill-rule:evenodd;stroke:#000000;stroke-width:2.0px;stroke-linecap:butt;stroke-linejoin:miter;stroke-opacity:1\"/>\n",
       "<path class=\"bond-21 atom-7 atom-22\" d=\"M 232.5,50.3 L 239.5,73.0\" style=\"fill:none;fill-rule:evenodd;stroke:#000000;stroke-width:2.0px;stroke-linecap:butt;stroke-linejoin:miter;stroke-opacity:1\"/>\n",
       "<path class=\"bond-22 atom-22 atom-23\" d=\"M 239.5,73.0 L 223.4,90.4\" style=\"fill:none;fill-rule:evenodd;stroke:#000000;stroke-width:2.0px;stroke-linecap:butt;stroke-linejoin:miter;stroke-opacity:1\"/>\n",
       "<path class=\"bond-22 atom-22 atom-23\" d=\"M 235.5,72.1 L 222.1,86.5\" style=\"fill:none;fill-rule:evenodd;stroke:#000000;stroke-width:2.0px;stroke-linecap:butt;stroke-linejoin:miter;stroke-opacity:1\"/>\n",
       "<path class=\"bond-23 atom-23 atom-24\" d=\"M 223.4,90.4 L 200.2,85.2\" style=\"fill:none;fill-rule:evenodd;stroke:#000000;stroke-width:2.0px;stroke-linecap:butt;stroke-linejoin:miter;stroke-opacity:1\"/>\n",
       "<path class=\"bond-24 atom-24 atom-25\" d=\"M 200.2,85.2 L 184.1,102.6\" style=\"fill:none;fill-rule:evenodd;stroke:#000000;stroke-width:2.0px;stroke-linecap:butt;stroke-linejoin:miter;stroke-opacity:1\"/>\n",
       "<path class=\"bond-24 atom-24 atom-25\" d=\"M 196.2,84.3 L 182.8,98.7\" style=\"fill:none;fill-rule:evenodd;stroke:#000000;stroke-width:2.0px;stroke-linecap:butt;stroke-linejoin:miter;stroke-opacity:1\"/>\n",
       "<path class=\"bond-25 atom-25 atom-2\" d=\"M 184.1,102.6 L 160.9,97.3\" style=\"fill:none;fill-rule:evenodd;stroke:#000000;stroke-width:2.0px;stroke-linecap:butt;stroke-linejoin:miter;stroke-opacity:1\"/>\n",
       "<path class=\"bond-26 atom-24 atom-5\" d=\"M 200.2,85.2 L 193.2,62.5\" style=\"fill:none;fill-rule:evenodd;stroke:#000000;stroke-width:2.0px;stroke-linecap:butt;stroke-linejoin:miter;stroke-opacity:1\"/>\n",
       "<path class=\"bond-27 atom-21 atom-10\" d=\"M 281.1,60.0 L 277.3,51.2\" style=\"fill:none;fill-rule:evenodd;stroke:#000000;stroke-width:2.0px;stroke-linecap:butt;stroke-linejoin:miter;stroke-opacity:1\"/>\n",
       "<path class=\"bond-27 atom-21 atom-10\" d=\"M 277.3,51.2 L 273.6,42.3\" style=\"fill:none;fill-rule:evenodd;stroke:#0000FF;stroke-width:2.0px;stroke-linecap:butt;stroke-linejoin:miter;stroke-opacity:1\"/>\n",
       "<path class=\"bond-28 atom-20 atom-15\" d=\"M 328.4,116.1 L 312.8,98.2\" style=\"fill:none;fill-rule:evenodd;stroke:#000000;stroke-width:2.0px;stroke-linecap:butt;stroke-linejoin:miter;stroke-opacity:1\"/>\n",
       "<path d=\"M 154.2,75.8 L 153.9,74.6 L 154.7,73.8\" style=\"fill:none;stroke:#000000;stroke-width:2.0px;stroke-linecap:butt;stroke-linejoin:miter;stroke-opacity:1;\"/>\n",
       "<path d=\"M 169.2,58.1 L 170.0,57.2 L 171.2,57.5\" style=\"fill:none;stroke:#000000;stroke-width:2.0px;stroke-linecap:butt;stroke-linejoin:miter;stroke-opacity:1;\"/>\n",
       "<path d=\"M 247.8,33.8 L 248.6,32.9 L 249.1,33.0\" style=\"fill:none;stroke:#000000;stroke-width:2.0px;stroke-linecap:butt;stroke-linejoin:miter;stroke-opacity:1;\"/>\n",
       "<path d=\"M 289.3,22.9 L 289.7,22.5 L 290.7,23.1\" style=\"fill:none;stroke:#000000;stroke-width:2.0px;stroke-linecap:butt;stroke-linejoin:miter;stroke-opacity:1;\"/>\n",
       "<path d=\"M 309.0,34.1 L 310.1,34.7 L 309.8,35.9\" style=\"fill:none;stroke:#000000;stroke-width:2.0px;stroke-linecap:butt;stroke-linejoin:miter;stroke-opacity:1;\"/>\n",
       "<path d=\"M 305.0,56.7 L 304.8,57.9 L 303.6,58.0\" style=\"fill:none;stroke:#000000;stroke-width:2.0px;stroke-linecap:butt;stroke-linejoin:miter;stroke-opacity:1;\"/>\n",
       "<path d=\"M 290.6,102.6 L 289.5,102.8 L 289.1,104.0\" style=\"fill:none;stroke:#000000;stroke-width:2.0px;stroke-linecap:butt;stroke-linejoin:miter;stroke-opacity:1;\"/>\n",
       "<path d=\"M 282.2,124.2 L 281.8,125.3 L 282.6,126.2\" style=\"fill:none;stroke:#000000;stroke-width:2.0px;stroke-linecap:butt;stroke-linejoin:miter;stroke-opacity:1;\"/>\n",
       "<path d=\"M 296.7,142.3 L 297.4,143.2 L 298.6,143.0\" style=\"fill:none;stroke:#000000;stroke-width:2.0px;stroke-linecap:butt;stroke-linejoin:miter;stroke-opacity:1;\"/>\n",
       "<path d=\"M 319.6,138.8 L 320.7,138.6 L 321.1,137.5\" style=\"fill:none;stroke:#000000;stroke-width:2.0px;stroke-linecap:butt;stroke-linejoin:miter;stroke-opacity:1;\"/>\n",
       "<path d=\"M 328.0,117.2 L 328.4,116.1 L 327.6,115.2\" style=\"fill:none;stroke:#000000;stroke-width:2.0px;stroke-linecap:butt;stroke-linejoin:miter;stroke-opacity:1;\"/>\n",
       "<path d=\"M 282.3,59.9 L 281.1,60.0 L 280.9,59.6\" style=\"fill:none;stroke:#000000;stroke-width:2.0px;stroke-linecap:butt;stroke-linejoin:miter;stroke-opacity:1;\"/>\n",
       "<path d=\"M 239.1,71.9 L 239.5,73.0 L 238.7,73.9\" style=\"fill:none;stroke:#000000;stroke-width:2.0px;stroke-linecap:butt;stroke-linejoin:miter;stroke-opacity:1;\"/>\n",
       "<path d=\"M 224.2,89.6 L 223.4,90.4 L 222.2,90.2\" style=\"fill:none;stroke:#000000;stroke-width:2.0px;stroke-linecap:butt;stroke-linejoin:miter;stroke-opacity:1;\"/>\n",
       "<path d=\"M 184.9,101.7 L 184.1,102.6 L 182.9,102.3\" style=\"fill:none;stroke:#000000;stroke-width:2.0px;stroke-linecap:butt;stroke-linejoin:miter;stroke-opacity:1;\"/>\n",
       "<path class=\"atom-1\" d=\"M 141.7 114.8 Q 141.7 113.2, 142.5 112.3 Q 143.3 111.4, 144.8 111.4 Q 146.2 111.4, 147.0 112.3 Q 147.8 113.2, 147.8 114.8 Q 147.8 116.4, 147.0 117.3 Q 146.2 118.3, 144.8 118.3 Q 143.3 118.3, 142.5 117.3 Q 141.7 116.4, 141.7 114.8 M 144.8 117.5 Q 145.8 117.5, 146.3 116.8 Q 146.9 116.1, 146.9 114.8 Q 146.9 113.5, 146.3 112.8 Q 145.8 112.1, 144.8 112.1 Q 143.7 112.1, 143.2 112.8 Q 142.6 113.4, 142.6 114.8 Q 142.6 116.1, 143.2 116.8 Q 143.7 117.5, 144.8 117.5 \" fill=\"#FF0000\"/>\n",
       "<path class=\"atom-6\" d=\"M 207.8 41.7 L 210.0 45.3 Q 210.3 45.6, 210.6 46.3 Q 211.0 46.9, 211.0 46.9 L 211.0 41.7 L 211.9 41.7 L 211.9 48.4 L 211.0 48.4 L 208.6 44.5 Q 208.3 44.1, 208.0 43.6 Q 207.7 43.0, 207.6 42.9 L 207.6 48.4 L 206.8 48.4 L 206.8 41.7 L 207.8 41.7 \" fill=\"#0000FF\"/>\n",
       "<path class=\"atom-9\" d=\"M 238.5 10.2 Q 238.5 8.6, 239.3 7.7 Q 240.1 6.8, 241.6 6.8 Q 243.1 6.8, 243.9 7.7 Q 244.7 8.6, 244.7 10.2 Q 244.7 11.9, 243.9 12.8 Q 243.1 13.7, 241.6 13.7 Q 240.1 13.7, 239.3 12.8 Q 238.5 11.9, 238.5 10.2 M 241.6 13.0 Q 242.6 13.0, 243.2 12.3 Q 243.7 11.6, 243.7 10.2 Q 243.7 8.9, 243.2 8.3 Q 242.6 7.6, 241.6 7.6 Q 240.6 7.6, 240.0 8.2 Q 239.5 8.9, 239.5 10.2 Q 239.5 11.6, 240.0 12.3 Q 240.6 13.0, 241.6 13.0 \" fill=\"#FF0000\"/>\n",
       "<path class=\"atom-10\" d=\"M 270.3 34.8 L 272.5 38.4 Q 272.7 38.7, 273.1 39.4 Q 273.4 40.0, 273.4 40.0 L 273.4 34.8 L 274.3 34.8 L 274.3 41.5 L 273.4 41.5 L 271.0 37.6 Q 270.8 37.2, 270.5 36.7 Q 270.2 36.1, 270.1 36.0 L 270.1 41.5 L 269.2 41.5 L 269.2 34.8 L 270.3 34.8 \" fill=\"#0000FF\"/>\n",
       "</svg>"
      ],
      "text/plain": [
       "<IPython.core.display.SVG object>"
      ]
     },
     "metadata": {},
     "output_type": "display_data"
    },
    {
     "data": {
      "image/svg+xml": [
       "<svg xmlns=\"http://www.w3.org/2000/svg\" xmlns:rdkit=\"http://www.rdkit.org/xml\" xmlns:xlink=\"http://www.w3.org/1999/xlink\" version=\"1.1\" baseProfile=\"full\" xml:space=\"preserve\" width=\"450px\" height=\"150px\" viewBox=\"0 0 450 150\">\n",
       "<!-- END OF HEADER -->\n",
       "<rect style=\"opacity:1.0;fill:#FFFFFF;stroke:none\" width=\"450.0\" height=\"150.0\" x=\"0.0\" y=\"0.0\"> </rect>\n",
       "<path class=\"bond-0 atom-0 atom-1\" d=\"M 43.4,27.9 L 74.3,51.7\" style=\"fill:none;fill-rule:evenodd;stroke:#000000;stroke-width:2.0px;stroke-linecap:butt;stroke-linejoin:miter;stroke-opacity:1\"/>\n",
       "<path class=\"bond-1 atom-1 atom-2\" d=\"M 74.3,51.7 L 73.2,90.7\" style=\"fill:none;fill-rule:evenodd;stroke:#000000;stroke-width:2.0px;stroke-linecap:butt;stroke-linejoin:miter;stroke-opacity:1\"/>\n",
       "<path class=\"bond-1 atom-1 atom-2\" d=\"M 80.0,56.2 L 79.1,86.6\" style=\"fill:none;fill-rule:evenodd;stroke:#000000;stroke-width:2.0px;stroke-linecap:butt;stroke-linejoin:miter;stroke-opacity:1\"/>\n",
       "<path class=\"bond-2 atom-2 atom-3\" d=\"M 73.2,90.7 L 109.9,103.9\" style=\"fill:none;fill-rule:evenodd;stroke:#000000;stroke-width:2.0px;stroke-linecap:butt;stroke-linejoin:miter;stroke-opacity:1\"/>\n",
       "<path class=\"bond-3 atom-3 atom-4\" d=\"M 109.9,103.9 L 133.7,73.0\" style=\"fill:none;fill-rule:evenodd;stroke:#000000;stroke-width:2.0px;stroke-linecap:butt;stroke-linejoin:miter;stroke-opacity:1\"/>\n",
       "<path class=\"bond-3 atom-3 atom-4\" d=\"M 107.8,96.9 L 126.5,72.8\" style=\"fill:none;fill-rule:evenodd;stroke:#000000;stroke-width:2.0px;stroke-linecap:butt;stroke-linejoin:miter;stroke-opacity:1\"/>\n",
       "<path class=\"bond-4 atom-4 atom-5\" d=\"M 133.7,73.0 L 172.7,74.1\" style=\"fill:none;fill-rule:evenodd;stroke:#000000;stroke-width:2.0px;stroke-linecap:butt;stroke-linejoin:miter;stroke-opacity:1\"/>\n",
       "<path class=\"bond-5 atom-5 atom-6\" d=\"M 172.7,74.1 L 191.2,108.5\" style=\"fill:none;fill-rule:evenodd;stroke:#000000;stroke-width:2.0px;stroke-linecap:butt;stroke-linejoin:miter;stroke-opacity:1\"/>\n",
       "<path class=\"bond-6 atom-6 atom-7\" d=\"M 189.6,111.6 L 189.1,111.3\" style=\"fill:none;fill-rule:evenodd;stroke:#000000;stroke-width:1.0px;stroke-linecap:butt;stroke-linejoin:miter;stroke-opacity:1\"/>\n",
       "<path class=\"bond-6 atom-6 atom-7\" d=\"M 187.9,114.8 L 187.0,114.2\" style=\"fill:none;fill-rule:evenodd;stroke:#000000;stroke-width:1.0px;stroke-linecap:butt;stroke-linejoin:miter;stroke-opacity:1\"/>\n",
       "<path class=\"bond-6 atom-6 atom-7\" d=\"M 186.3,117.9 L 184.9,117.1\" style=\"fill:none;fill-rule:evenodd;stroke:#000000;stroke-width:1.0px;stroke-linecap:butt;stroke-linejoin:miter;stroke-opacity:1\"/>\n",
       "<path class=\"bond-6 atom-6 atom-7\" d=\"M 184.6,121.1 L 182.8,120.0\" style=\"fill:none;fill-rule:evenodd;stroke:#000000;stroke-width:1.0px;stroke-linecap:butt;stroke-linejoin:miter;stroke-opacity:1\"/>\n",
       "<path class=\"bond-6 atom-6 atom-7\" d=\"M 183.0,124.2 L 180.8,122.8\" style=\"fill:none;fill-rule:evenodd;stroke:#000000;stroke-width:1.0px;stroke-linecap:butt;stroke-linejoin:miter;stroke-opacity:1\"/>\n",
       "<path class=\"bond-6 atom-6 atom-7\" d=\"M 181.4,127.4 L 178.7,125.7\" style=\"fill:none;fill-rule:evenodd;stroke:#000000;stroke-width:1.0px;stroke-linecap:butt;stroke-linejoin:miter;stroke-opacity:1\"/>\n",
       "<path class=\"bond-6 atom-6 atom-7\" d=\"M 179.7,130.6 L 176.6,128.6\" style=\"fill:none;fill-rule:evenodd;stroke:#000000;stroke-width:1.0px;stroke-linecap:butt;stroke-linejoin:miter;stroke-opacity:1\"/>\n",
       "<path class=\"bond-6 atom-6 atom-7\" d=\"M 178.1,133.7 L 174.5,131.5\" style=\"fill:none;fill-rule:evenodd;stroke:#000000;stroke-width:1.0px;stroke-linecap:butt;stroke-linejoin:miter;stroke-opacity:1\"/>\n",
       "<path class=\"bond-6 atom-6 atom-7\" d=\"M 176.5,136.9 L 172.4,134.4\" style=\"fill:none;fill-rule:evenodd;stroke:#000000;stroke-width:1.0px;stroke-linecap:butt;stroke-linejoin:miter;stroke-opacity:1\"/>\n",
       "<path class=\"bond-6 atom-6 atom-7\" d=\"M 174.8,140.0 L 170.3,137.2\" style=\"fill:none;fill-rule:evenodd;stroke:#000000;stroke-width:1.0px;stroke-linecap:butt;stroke-linejoin:miter;stroke-opacity:1\"/>\n",
       "<path class=\"bond-6 atom-6 atom-7\" d=\"M 173.2,143.2 L 168.2,140.1\" style=\"fill:none;fill-rule:evenodd;stroke:#000000;stroke-width:1.0px;stroke-linecap:butt;stroke-linejoin:miter;stroke-opacity:1\"/>\n",
       "<path class=\"bond-7 atom-6 atom-8\" d=\"M 191.2,108.5 L 207.9,109.0\" style=\"fill:none;fill-rule:evenodd;stroke:#000000;stroke-width:2.0px;stroke-linecap:butt;stroke-linejoin:miter;stroke-opacity:1\"/>\n",
       "<path class=\"bond-7 atom-6 atom-8\" d=\"M 207.9,109.0 L 224.7,109.4\" style=\"fill:none;fill-rule:evenodd;stroke:#0000FF;stroke-width:2.0px;stroke-linecap:butt;stroke-linejoin:miter;stroke-opacity:1\"/>\n",
       "<path class=\"bond-8 atom-8 atom-9\" d=\"M 234.4,102.8 L 242.5,89.6\" style=\"fill:none;fill-rule:evenodd;stroke:#0000FF;stroke-width:2.0px;stroke-linecap:butt;stroke-linejoin:miter;stroke-opacity:1\"/>\n",
       "<path class=\"bond-8 atom-8 atom-9\" d=\"M 242.5,89.6 L 250.6,76.4\" style=\"fill:none;fill-rule:evenodd;stroke:#000000;stroke-width:2.0px;stroke-linecap:butt;stroke-linejoin:miter;stroke-opacity:1\"/>\n",
       "<path class=\"bond-9 atom-9 atom-10\" d=\"M 248.7,73.4 L 249.2,73.2\" style=\"fill:none;fill-rule:evenodd;stroke:#000000;stroke-width:1.0px;stroke-linecap:butt;stroke-linejoin:miter;stroke-opacity:1\"/>\n",
       "<path class=\"bond-9 atom-9 atom-10\" d=\"M 246.8,70.4 L 247.8,69.9\" style=\"fill:none;fill-rule:evenodd;stroke:#000000;stroke-width:1.0px;stroke-linecap:butt;stroke-linejoin:miter;stroke-opacity:1\"/>\n",
       "<path class=\"bond-9 atom-9 atom-10\" d=\"M 244.9,67.4 L 246.3,66.7\" style=\"fill:none;fill-rule:evenodd;stroke:#000000;stroke-width:1.0px;stroke-linecap:butt;stroke-linejoin:miter;stroke-opacity:1\"/>\n",
       "<path class=\"bond-9 atom-9 atom-10\" d=\"M 243.0,64.4 L 244.9,63.4\" style=\"fill:none;fill-rule:evenodd;stroke:#000000;stroke-width:1.0px;stroke-linecap:butt;stroke-linejoin:miter;stroke-opacity:1\"/>\n",
       "<path class=\"bond-9 atom-9 atom-10\" d=\"M 241.1,61.4 L 243.4,60.2\" style=\"fill:none;fill-rule:evenodd;stroke:#000000;stroke-width:1.0px;stroke-linecap:butt;stroke-linejoin:miter;stroke-opacity:1\"/>\n",
       "<path class=\"bond-9 atom-9 atom-10\" d=\"M 239.2,58.5 L 242.0,56.9\" style=\"fill:none;fill-rule:evenodd;stroke:#000000;stroke-width:1.0px;stroke-linecap:butt;stroke-linejoin:miter;stroke-opacity:1\"/>\n",
       "<path class=\"bond-9 atom-9 atom-10\" d=\"M 237.2,55.5 L 240.5,53.7\" style=\"fill:none;fill-rule:evenodd;stroke:#000000;stroke-width:1.0px;stroke-linecap:butt;stroke-linejoin:miter;stroke-opacity:1\"/>\n",
       "<path class=\"bond-9 atom-9 atom-10\" d=\"M 235.3,52.5 L 239.1,50.4\" style=\"fill:none;fill-rule:evenodd;stroke:#000000;stroke-width:1.0px;stroke-linecap:butt;stroke-linejoin:miter;stroke-opacity:1\"/>\n",
       "<path class=\"bond-9 atom-9 atom-10\" d=\"M 233.4,49.5 L 237.6,47.2\" style=\"fill:none;fill-rule:evenodd;stroke:#000000;stroke-width:1.0px;stroke-linecap:butt;stroke-linejoin:miter;stroke-opacity:1\"/>\n",
       "<path class=\"bond-9 atom-9 atom-10\" d=\"M 231.5,46.5 L 236.2,44.0\" style=\"fill:none;fill-rule:evenodd;stroke:#000000;stroke-width:1.0px;stroke-linecap:butt;stroke-linejoin:miter;stroke-opacity:1\"/>\n",
       "<path class=\"bond-9 atom-9 atom-10\" d=\"M 229.6,43.5 L 234.7,40.7\" style=\"fill:none;fill-rule:evenodd;stroke:#000000;stroke-width:1.0px;stroke-linecap:butt;stroke-linejoin:miter;stroke-opacity:1\"/>\n",
       "<path class=\"bond-10 atom-9 atom-11\" d=\"M 250.6,76.4 L 289.6,77.6\" style=\"fill:none;fill-rule:evenodd;stroke:#000000;stroke-width:2.0px;stroke-linecap:butt;stroke-linejoin:miter;stroke-opacity:1\"/>\n",
       "<path class=\"bond-11 atom-11 atom-12\" d=\"M 289.6,77.6 L 308.1,111.9\" style=\"fill:none;fill-rule:evenodd;stroke:#000000;stroke-width:2.0px;stroke-linecap:butt;stroke-linejoin:miter;stroke-opacity:1\"/>\n",
       "<path class=\"bond-11 atom-11 atom-12\" d=\"M 296.4,77.8 L 311.7,106.1\" style=\"fill:none;fill-rule:evenodd;stroke:#000000;stroke-width:2.0px;stroke-linecap:butt;stroke-linejoin:miter;stroke-opacity:1\"/>\n",
       "<path class=\"bond-12 atom-12 atom-13\" d=\"M 308.1,111.9 L 347.1,113.0\" style=\"fill:none;fill-rule:evenodd;stroke:#000000;stroke-width:2.0px;stroke-linecap:butt;stroke-linejoin:miter;stroke-opacity:1\"/>\n",
       "<path class=\"bond-13 atom-13 atom-14\" d=\"M 347.1,113.0 L 367.6,79.8\" style=\"fill:none;fill-rule:evenodd;stroke:#000000;stroke-width:2.0px;stroke-linecap:butt;stroke-linejoin:miter;stroke-opacity:1\"/>\n",
       "<path class=\"bond-13 atom-13 atom-14\" d=\"M 343.9,107.1 L 360.8,79.7\" style=\"fill:none;fill-rule:evenodd;stroke:#000000;stroke-width:2.0px;stroke-linecap:butt;stroke-linejoin:miter;stroke-opacity:1\"/>\n",
       "<path class=\"bond-14 atom-14 atom-15\" d=\"M 367.6,79.8 L 406.6,81.0\" style=\"fill:none;fill-rule:evenodd;stroke:#000000;stroke-width:2.0px;stroke-linecap:butt;stroke-linejoin:miter;stroke-opacity:1\"/>\n",
       "<path class=\"bond-15 atom-14 atom-16\" d=\"M 367.6,79.8 L 349.1,45.5\" style=\"fill:none;fill-rule:evenodd;stroke:#000000;stroke-width:2.0px;stroke-linecap:butt;stroke-linejoin:miter;stroke-opacity:1\"/>\n",
       "<path class=\"bond-16 atom-16 atom-17\" d=\"M 349.1,45.5 L 357.2,32.3\" style=\"fill:none;fill-rule:evenodd;stroke:#000000;stroke-width:2.0px;stroke-linecap:butt;stroke-linejoin:miter;stroke-opacity:1\"/>\n",
       "<path class=\"bond-16 atom-16 atom-17\" d=\"M 357.2,32.3 L 365.4,19.1\" style=\"fill:none;fill-rule:evenodd;stroke:#33CCCC;stroke-width:2.0px;stroke-linecap:butt;stroke-linejoin:miter;stroke-opacity:1\"/>\n",
       "<path class=\"bond-17 atom-16 atom-18\" d=\"M 349.1,45.5 L 310.1,44.4\" style=\"fill:none;fill-rule:evenodd;stroke:#000000;stroke-width:2.0px;stroke-linecap:butt;stroke-linejoin:miter;stroke-opacity:1\"/>\n",
       "<path class=\"bond-17 atom-16 atom-18\" d=\"M 345.5,51.3 L 313.3,50.3\" style=\"fill:none;fill-rule:evenodd;stroke:#000000;stroke-width:2.0px;stroke-linecap:butt;stroke-linejoin:miter;stroke-opacity:1\"/>\n",
       "<path class=\"bond-18 atom-4 atom-19\" d=\"M 133.7,73.0 L 125.1,60.4\" style=\"fill:none;fill-rule:evenodd;stroke:#000000;stroke-width:2.0px;stroke-linecap:butt;stroke-linejoin:miter;stroke-opacity:1\"/>\n",
       "<path class=\"bond-18 atom-4 atom-19\" d=\"M 125.1,60.4 L 116.6,47.9\" style=\"fill:none;fill-rule:evenodd;stroke:#CCCC00;stroke-width:2.0px;stroke-linecap:butt;stroke-linejoin:miter;stroke-opacity:1\"/>\n",
       "<path class=\"bond-19 atom-19 atom-1\" d=\"M 106.9,42.2 L 90.6,47.0\" style=\"fill:none;fill-rule:evenodd;stroke:#CCCC00;stroke-width:2.0px;stroke-linecap:butt;stroke-linejoin:miter;stroke-opacity:1\"/>\n",
       "<path class=\"bond-19 atom-19 atom-1\" d=\"M 90.6,47.0 L 74.3,51.7\" style=\"fill:none;fill-rule:evenodd;stroke:#000000;stroke-width:2.0px;stroke-linecap:butt;stroke-linejoin:miter;stroke-opacity:1\"/>\n",
       "<path class=\"bond-20 atom-18 atom-11\" d=\"M 310.1,44.4 L 289.6,77.6\" style=\"fill:none;fill-rule:evenodd;stroke:#000000;stroke-width:2.0px;stroke-linecap:butt;stroke-linejoin:miter;stroke-opacity:1\"/>\n",
       "<path d=\"M 73.2,88.8 L 73.2,90.7 L 75.0,91.4\" style=\"fill:none;stroke:#000000;stroke-width:2.0px;stroke-linecap:butt;stroke-linejoin:miter;stroke-opacity:1;\"/>\n",
       "<path d=\"M 108.0,103.2 L 109.9,103.9 L 111.1,102.3\" style=\"fill:none;stroke:#000000;stroke-width:2.0px;stroke-linecap:butt;stroke-linejoin:miter;stroke-opacity:1;\"/>\n",
       "<path d=\"M 170.7,74.1 L 172.7,74.1 L 173.6,75.9\" style=\"fill:none;stroke:#000000;stroke-width:2.0px;stroke-linecap:butt;stroke-linejoin:miter;stroke-opacity:1;\"/>\n",
       "<path d=\"M 190.3,106.7 L 191.2,108.5 L 192.0,108.5\" style=\"fill:none;stroke:#000000;stroke-width:2.0px;stroke-linecap:butt;stroke-linejoin:miter;stroke-opacity:1;\"/>\n",
       "<path d=\"M 250.2,77.1 L 250.6,76.4 L 252.6,76.5\" style=\"fill:none;stroke:#000000;stroke-width:2.0px;stroke-linecap:butt;stroke-linejoin:miter;stroke-opacity:1;\"/>\n",
       "<path d=\"M 307.2,110.2 L 308.1,111.9 L 310.1,111.9\" style=\"fill:none;stroke:#000000;stroke-width:2.0px;stroke-linecap:butt;stroke-linejoin:miter;stroke-opacity:1;\"/>\n",
       "<path d=\"M 345.1,113.0 L 347.1,113.0 L 348.1,111.4\" style=\"fill:none;stroke:#000000;stroke-width:2.0px;stroke-linecap:butt;stroke-linejoin:miter;stroke-opacity:1;\"/>\n",
       "<path d=\"M 312.0,44.4 L 310.1,44.4 L 309.1,46.0\" style=\"fill:none;stroke:#000000;stroke-width:2.0px;stroke-linecap:butt;stroke-linejoin:miter;stroke-opacity:1;\"/>\n",
       "<path class=\"atom-8\" d=\"M 227.7 104.1 L 231.3 109.9 Q 231.7 110.5, 232.3 111.6 Q 232.9 112.6, 232.9 112.7 L 232.9 104.1 L 234.4 104.1 L 234.4 115.1 L 232.8 115.1 L 229.0 108.7 Q 228.5 108.0, 228.0 107.1 Q 227.6 106.3, 227.4 106.0 L 227.4 115.1 L 226.0 115.1 L 226.0 104.1 L 227.7 104.1 \" fill=\"#0000FF\"/>\n",
       "<path class=\"atom-8\" d=\"M 236.4 104.1 L 237.9 104.1 L 237.9 108.8 L 243.6 108.8 L 243.6 104.1 L 245.1 104.1 L 245.1 115.1 L 243.6 115.1 L 243.6 110.0 L 237.9 110.0 L 237.9 115.1 L 236.4 115.1 L 236.4 104.1 \" fill=\"#0000FF\"/>\n",
       "<path class=\"atom-8\" d=\"M 247.2 114.7 Q 247.5 114.0, 248.1 113.7 Q 248.8 113.3, 249.7 113.3 Q 250.8 113.3, 251.4 113.9 Q 252.0 114.5, 252.0 115.5 Q 252.0 116.6, 251.2 117.6 Q 250.4 118.6, 248.7 119.8 L 252.1 119.8 L 252.1 120.6 L 247.2 120.6 L 247.2 120.0 Q 248.6 119.0, 249.4 118.3 Q 250.2 117.5, 250.6 116.9 Q 251.0 116.3, 251.0 115.6 Q 251.0 114.9, 250.6 114.5 Q 250.3 114.1, 249.7 114.1 Q 249.1 114.1, 248.7 114.3 Q 248.3 114.6, 248.0 115.1 L 247.2 114.7 \" fill=\"#0000FF\"/>\n",
       "<path class=\"atom-8\" d=\"M 247.3 106.1 L 249.2 106.1 L 249.2 104.0 L 250.1 104.0 L 250.1 106.1 L 252.1 106.1 L 252.1 106.8 L 250.1 106.8 L 250.1 108.9 L 249.2 108.9 L 249.2 106.8 L 247.3 106.8 L 247.3 106.1 \" fill=\"#0000FF\"/>\n",
       "<path class=\"atom-17\" d=\"M 366.3 6.8 L 372.8 6.8 L 372.8 8.1 L 367.8 8.1 L 367.8 11.4 L 372.3 11.4 L 372.3 12.7 L 367.8 12.7 L 367.8 17.9 L 366.3 17.9 L 366.3 6.8 \" fill=\"#33CCCC\"/>\n",
       "<path class=\"atom-19\" d=\"M 108.6 44.6 Q 108.7 44.6, 109.3 44.8 Q 109.8 45.1, 110.3 45.2 Q 110.9 45.3, 111.5 45.3 Q 112.5 45.3, 113.1 44.8 Q 113.7 44.3, 113.7 43.4 Q 113.7 42.8, 113.4 42.4 Q 113.1 42.1, 112.7 41.9 Q 112.2 41.7, 111.4 41.4 Q 110.4 41.1, 109.8 40.9 Q 109.3 40.6, 108.8 40.0 Q 108.4 39.4, 108.4 38.4 Q 108.4 37.0, 109.4 36.1 Q 110.3 35.3, 112.2 35.3 Q 113.5 35.3, 114.9 35.9 L 114.6 37.1 Q 113.2 36.5, 112.2 36.5 Q 111.2 36.5, 110.6 37.0 Q 110.0 37.4, 110.0 38.2 Q 110.0 38.8, 110.3 39.2 Q 110.6 39.5, 111.0 39.7 Q 111.5 39.9, 112.2 40.1 Q 113.2 40.5, 113.8 40.8 Q 114.4 41.1, 114.8 41.7 Q 115.3 42.3, 115.3 43.4 Q 115.3 45.0, 114.2 45.8 Q 113.2 46.6, 111.5 46.6 Q 110.5 46.6, 109.8 46.4 Q 109.1 46.2, 108.2 45.8 L 108.6 44.6 \" fill=\"#CCCC00\"/>\n",
       "</svg>"
      ],
      "text/plain": [
       "<IPython.core.display.SVG object>"
      ]
     },
     "metadata": {},
     "output_type": "display_data"
    },
    {
     "data": {
      "image/svg+xml": [
       "<svg xmlns=\"http://www.w3.org/2000/svg\" xmlns:rdkit=\"http://www.rdkit.org/xml\" xmlns:xlink=\"http://www.w3.org/1999/xlink\" version=\"1.1\" baseProfile=\"full\" xml:space=\"preserve\" width=\"450px\" height=\"150px\" viewBox=\"0 0 450 150\">\n",
       "<!-- END OF HEADER -->\n",
       "<rect style=\"opacity:1.0;fill:#FFFFFF;stroke:none\" width=\"450.0\" height=\"150.0\" x=\"0.0\" y=\"0.0\"> </rect>\n",
       "<path class=\"bond-0 atom-0 atom-1\" d=\"M 263.6,128.1 L 243.7,126.7\" style=\"fill:none;fill-rule:evenodd;stroke:#000000;stroke-width:2.0px;stroke-linecap:butt;stroke-linejoin:miter;stroke-opacity:1\"/>\n",
       "<path class=\"bond-1 atom-1 atom-2\" d=\"M 243.7,126.7 L 232.5,143.2\" style=\"fill:none;fill-rule:evenodd;stroke:#000000;stroke-width:2.0px;stroke-linecap:butt;stroke-linejoin:miter;stroke-opacity:1\"/>\n",
       "<path class=\"bond-1 atom-1 atom-2\" d=\"M 240.3,126.4 L 231.0,140.1\" style=\"fill:none;fill-rule:evenodd;stroke:#000000;stroke-width:2.0px;stroke-linecap:butt;stroke-linejoin:miter;stroke-opacity:1\"/>\n",
       "<path class=\"bond-2 atom-2 atom-3\" d=\"M 232.5,143.2 L 212.7,141.8\" style=\"fill:none;fill-rule:evenodd;stroke:#000000;stroke-width:2.0px;stroke-linecap:butt;stroke-linejoin:miter;stroke-opacity:1\"/>\n",
       "<path class=\"bond-3 atom-3 atom-4\" d=\"M 212.7,141.8 L 204.0,123.9\" style=\"fill:none;fill-rule:evenodd;stroke:#000000;stroke-width:2.0px;stroke-linecap:butt;stroke-linejoin:miter;stroke-opacity:1\"/>\n",
       "<path class=\"bond-3 atom-3 atom-4\" d=\"M 214.6,138.9 L 207.4,124.1\" style=\"fill:none;fill-rule:evenodd;stroke:#000000;stroke-width:2.0px;stroke-linecap:butt;stroke-linejoin:miter;stroke-opacity:1\"/>\n",
       "<path class=\"bond-4 atom-4 atom-5\" d=\"M 204.0,123.9 L 215.1,107.4\" style=\"fill:none;fill-rule:evenodd;stroke:#000000;stroke-width:2.0px;stroke-linecap:butt;stroke-linejoin:miter;stroke-opacity:1\"/>\n",
       "<path class=\"bond-5 atom-5 atom-6\" d=\"M 215.1,107.4 L 235.0,108.8\" style=\"fill:none;fill-rule:evenodd;stroke:#000000;stroke-width:2.0px;stroke-linecap:butt;stroke-linejoin:miter;stroke-opacity:1\"/>\n",
       "<path class=\"bond-5 atom-5 atom-6\" d=\"M 216.6,110.5 L 233.1,111.6\" style=\"fill:none;fill-rule:evenodd;stroke:#000000;stroke-width:2.0px;stroke-linecap:butt;stroke-linejoin:miter;stroke-opacity:1\"/>\n",
       "<path class=\"bond-6 atom-6 atom-7\" d=\"M 235.0,108.8 L 239.4,102.3\" style=\"fill:none;fill-rule:evenodd;stroke:#000000;stroke-width:2.0px;stroke-linecap:butt;stroke-linejoin:miter;stroke-opacity:1\"/>\n",
       "<path class=\"bond-6 atom-6 atom-7\" d=\"M 239.4,102.3 L 243.8,95.7\" style=\"fill:none;fill-rule:evenodd;stroke:#0000FF;stroke-width:2.0px;stroke-linecap:butt;stroke-linejoin:miter;stroke-opacity:1\"/>\n",
       "<path class=\"bond-7 atom-7 atom-8\" d=\"M 244.9,88.8 L 242.1,81.2\" style=\"fill:none;fill-rule:evenodd;stroke:#0000FF;stroke-width:2.0px;stroke-linecap:butt;stroke-linejoin:miter;stroke-opacity:1\"/>\n",
       "<path class=\"bond-7 atom-7 atom-8\" d=\"M 242.1,81.2 L 239.4,73.5\" style=\"fill:none;fill-rule:evenodd;stroke:#000000;stroke-width:2.0px;stroke-linecap:butt;stroke-linejoin:miter;stroke-opacity:1\"/>\n",
       "<path class=\"bond-8 atom-8 atom-9\" d=\"M 240.8,72.4 L 232.1,69.9\" style=\"fill:none;fill-rule:evenodd;stroke:#000000;stroke-width:2.0px;stroke-linecap:butt;stroke-linejoin:miter;stroke-opacity:1\"/>\n",
       "<path class=\"bond-8 atom-8 atom-9\" d=\"M 232.1,69.9 L 223.4,67.4\" style=\"fill:none;fill-rule:evenodd;stroke:#0000FF;stroke-width:2.0px;stroke-linecap:butt;stroke-linejoin:miter;stroke-opacity:1\"/>\n",
       "<path class=\"bond-8 atom-8 atom-9\" d=\"M 240.0,75.3 L 231.3,72.8\" style=\"fill:none;fill-rule:evenodd;stroke:#000000;stroke-width:2.0px;stroke-linecap:butt;stroke-linejoin:miter;stroke-opacity:1\"/>\n",
       "<path class=\"bond-8 atom-8 atom-9\" d=\"M 231.3,72.8 L 222.6,70.3\" style=\"fill:none;fill-rule:evenodd;stroke:#0000FF;stroke-width:2.0px;stroke-linecap:butt;stroke-linejoin:miter;stroke-opacity:1\"/>\n",
       "<path class=\"bond-9 atom-8 atom-10\" d=\"M 239.4,73.5 L 246.0,68.4\" style=\"fill:none;fill-rule:evenodd;stroke:#000000;stroke-width:2.0px;stroke-linecap:butt;stroke-linejoin:miter;stroke-opacity:1\"/>\n",
       "<path class=\"bond-9 atom-8 atom-10\" d=\"M 246.0,68.4 L 252.6,63.2\" style=\"fill:none;fill-rule:evenodd;stroke:#CCCC00;stroke-width:2.0px;stroke-linecap:butt;stroke-linejoin:miter;stroke-opacity:1\"/>\n",
       "<path class=\"bond-10 atom-10 atom-11\" d=\"M 257.5,63.0 L 264.6,67.7\" style=\"fill:none;fill-rule:evenodd;stroke:#CCCC00;stroke-width:2.0px;stroke-linecap:butt;stroke-linejoin:miter;stroke-opacity:1\"/>\n",
       "<path class=\"bond-10 atom-10 atom-11\" d=\"M 264.6,67.7 L 271.6,72.5\" style=\"fill:none;fill-rule:evenodd;stroke:#000000;stroke-width:2.0px;stroke-linecap:butt;stroke-linejoin:miter;stroke-opacity:1\"/>\n",
       "<path class=\"bond-11 atom-11 atom-12\" d=\"M 271.6,72.5 L 290.3,65.7\" style=\"fill:none;fill-rule:evenodd;stroke:#000000;stroke-width:2.0px;stroke-linecap:butt;stroke-linejoin:miter;stroke-opacity:1\"/>\n",
       "<path class=\"bond-11 atom-11 atom-12\" d=\"M 272.0,69.1 L 287.7,63.4\" style=\"fill:none;fill-rule:evenodd;stroke:#000000;stroke-width:2.0px;stroke-linecap:butt;stroke-linejoin:miter;stroke-opacity:1\"/>\n",
       "<path class=\"bond-12 atom-12 atom-13\" d=\"M 290.3,65.7 L 293.8,46.0\" style=\"fill:none;fill-rule:evenodd;stroke:#000000;stroke-width:2.0px;stroke-linecap:butt;stroke-linejoin:miter;stroke-opacity:1\"/>\n",
       "<path class=\"bond-13 atom-13 atom-14\" d=\"M 293.8,46.0 L 312.5,39.3\" style=\"fill:none;fill-rule:evenodd;stroke:#000000;stroke-width:2.0px;stroke-linecap:butt;stroke-linejoin:miter;stroke-opacity:1\"/>\n",
       "<path class=\"bond-13 atom-13 atom-14\" d=\"M 294.4,42.6 L 309.9,37.0\" style=\"fill:none;fill-rule:evenodd;stroke:#000000;stroke-width:2.0px;stroke-linecap:butt;stroke-linejoin:miter;stroke-opacity:1\"/>\n",
       "<path class=\"bond-14 atom-14 atom-15\" d=\"M 312.5,39.3 L 316.0,19.6\" style=\"fill:none;fill-rule:evenodd;stroke:#000000;stroke-width:2.0px;stroke-linecap:butt;stroke-linejoin:miter;stroke-opacity:1\"/>\n",
       "<path class=\"bond-15 atom-15 atom-16\" d=\"M 316.0,19.6 L 300.7,6.8\" style=\"fill:none;fill-rule:evenodd;stroke:#000000;stroke-width:2.0px;stroke-linecap:butt;stroke-linejoin:miter;stroke-opacity:1\"/>\n",
       "<path class=\"bond-15 atom-15 atom-16\" d=\"M 312.8,20.8 L 300.1,10.2\" style=\"fill:none;fill-rule:evenodd;stroke:#000000;stroke-width:2.0px;stroke-linecap:butt;stroke-linejoin:miter;stroke-opacity:1\"/>\n",
       "<path class=\"bond-16 atom-16 atom-17\" d=\"M 300.7,6.8 L 282.0,13.6\" style=\"fill:none;fill-rule:evenodd;stroke:#000000;stroke-width:2.0px;stroke-linecap:butt;stroke-linejoin:miter;stroke-opacity:1\"/>\n",
       "<path class=\"bond-17 atom-17 atom-18\" d=\"M 282.0,13.6 L 278.5,33.2\" style=\"fill:none;fill-rule:evenodd;stroke:#000000;stroke-width:2.0px;stroke-linecap:butt;stroke-linejoin:miter;stroke-opacity:1\"/>\n",
       "<path class=\"bond-17 atom-17 atom-18\" d=\"M 284.7,15.8 L 281.8,32.0\" style=\"fill:none;fill-rule:evenodd;stroke:#000000;stroke-width:2.0px;stroke-linecap:butt;stroke-linejoin:miter;stroke-opacity:1\"/>\n",
       "<path class=\"bond-18 atom-18 atom-19\" d=\"M 278.5,33.2 L 270.8,36.0\" style=\"fill:none;fill-rule:evenodd;stroke:#000000;stroke-width:2.0px;stroke-linecap:butt;stroke-linejoin:miter;stroke-opacity:1\"/>\n",
       "<path class=\"bond-18 atom-18 atom-19\" d=\"M 270.8,36.0 L 263.1,38.8\" style=\"fill:none;fill-rule:evenodd;stroke:#FF0000;stroke-width:2.0px;stroke-linecap:butt;stroke-linejoin:miter;stroke-opacity:1\"/>\n",
       "<path class=\"bond-19 atom-19 atom-20\" d=\"M 256.6,37.3 L 250.6,32.2\" style=\"fill:none;fill-rule:evenodd;stroke:#FF0000;stroke-width:2.0px;stroke-linecap:butt;stroke-linejoin:miter;stroke-opacity:1\"/>\n",
       "<path class=\"bond-19 atom-19 atom-20\" d=\"M 250.6,32.2 L 244.6,27.2\" style=\"fill:none;fill-rule:evenodd;stroke:#000000;stroke-width:2.0px;stroke-linecap:butt;stroke-linejoin:miter;stroke-opacity:1\"/>\n",
       "<path class=\"bond-20 atom-20 atom-21\" d=\"M 244.6,27.2 L 225.8,34.0\" style=\"fill:none;fill-rule:evenodd;stroke:#000000;stroke-width:2.0px;stroke-linecap:butt;stroke-linejoin:miter;stroke-opacity:1\"/>\n",
       "<path class=\"bond-21 atom-21 atom-22\" d=\"M 224.5,32.9 L 223.0,41.3\" style=\"fill:none;fill-rule:evenodd;stroke:#000000;stroke-width:2.0px;stroke-linecap:butt;stroke-linejoin:miter;stroke-opacity:1\"/>\n",
       "<path class=\"bond-21 atom-21 atom-22\" d=\"M 223.0,41.3 L 221.5,49.8\" style=\"fill:none;fill-rule:evenodd;stroke:#FF0000;stroke-width:2.0px;stroke-linecap:butt;stroke-linejoin:miter;stroke-opacity:1\"/>\n",
       "<path class=\"bond-21 atom-21 atom-22\" d=\"M 227.5,33.4 L 226.0,41.9\" style=\"fill:none;fill-rule:evenodd;stroke:#000000;stroke-width:2.0px;stroke-linecap:butt;stroke-linejoin:miter;stroke-opacity:1\"/>\n",
       "<path class=\"bond-21 atom-21 atom-22\" d=\"M 226.0,41.9 L 224.4,50.3\" style=\"fill:none;fill-rule:evenodd;stroke:#FF0000;stroke-width:2.0px;stroke-linecap:butt;stroke-linejoin:miter;stroke-opacity:1\"/>\n",
       "<path class=\"bond-22 atom-21 atom-23\" d=\"M 225.8,34.0 L 219.6,28.7\" style=\"fill:none;fill-rule:evenodd;stroke:#000000;stroke-width:2.0px;stroke-linecap:butt;stroke-linejoin:miter;stroke-opacity:1\"/>\n",
       "<path class=\"bond-22 atom-21 atom-23\" d=\"M 219.6,28.7 L 213.4,23.5\" style=\"fill:none;fill-rule:evenodd;stroke:#0000FF;stroke-width:2.0px;stroke-linecap:butt;stroke-linejoin:miter;stroke-opacity:1\"/>\n",
       "<path class=\"bond-23 atom-23 atom-24\" d=\"M 207.8,22.2 L 199.8,25.1\" style=\"fill:none;fill-rule:evenodd;stroke:#0000FF;stroke-width:2.0px;stroke-linecap:butt;stroke-linejoin:miter;stroke-opacity:1\"/>\n",
       "<path class=\"bond-23 atom-23 atom-24\" d=\"M 199.8,25.1 L 191.9,27.9\" style=\"fill:none;fill-rule:evenodd;stroke:#000000;stroke-width:2.0px;stroke-linecap:butt;stroke-linejoin:miter;stroke-opacity:1\"/>\n",
       "<path class=\"bond-24 atom-24 atom-25\" d=\"M 191.9,27.9 L 176.6,15.1\" style=\"fill:none;fill-rule:evenodd;stroke:#000000;stroke-width:2.0px;stroke-linecap:butt;stroke-linejoin:miter;stroke-opacity:1\"/>\n",
       "<path class=\"bond-24 atom-24 atom-25\" d=\"M 188.6,29.1 L 176.0,18.5\" style=\"fill:none;fill-rule:evenodd;stroke:#000000;stroke-width:2.0px;stroke-linecap:butt;stroke-linejoin:miter;stroke-opacity:1\"/>\n",
       "<path class=\"bond-25 atom-25 atom-26\" d=\"M 176.6,15.1 L 157.9,21.9\" style=\"fill:none;fill-rule:evenodd;stroke:#000000;stroke-width:2.0px;stroke-linecap:butt;stroke-linejoin:miter;stroke-opacity:1\"/>\n",
       "<path class=\"bond-26 atom-26 atom-27\" d=\"M 157.9,21.9 L 154.4,41.5\" style=\"fill:none;fill-rule:evenodd;stroke:#000000;stroke-width:2.0px;stroke-linecap:butt;stroke-linejoin:miter;stroke-opacity:1\"/>\n",
       "<path class=\"bond-26 atom-26 atom-27\" d=\"M 160.5,24.1 L 157.7,40.4\" style=\"fill:none;fill-rule:evenodd;stroke:#000000;stroke-width:2.0px;stroke-linecap:butt;stroke-linejoin:miter;stroke-opacity:1\"/>\n",
       "<path class=\"bond-27 atom-27 atom-28\" d=\"M 154.4,41.5 L 146.2,44.5\" style=\"fill:none;fill-rule:evenodd;stroke:#000000;stroke-width:2.0px;stroke-linecap:butt;stroke-linejoin:miter;stroke-opacity:1\"/>\n",
       "<path class=\"bond-27 atom-27 atom-28\" d=\"M 146.2,44.5 L 138.0,47.5\" style=\"fill:none;fill-rule:evenodd;stroke:#33CCCC;stroke-width:2.0px;stroke-linecap:butt;stroke-linejoin:miter;stroke-opacity:1\"/>\n",
       "<path class=\"bond-28 atom-27 atom-29\" d=\"M 154.4,41.5 L 169.7,54.4\" style=\"fill:none;fill-rule:evenodd;stroke:#000000;stroke-width:2.0px;stroke-linecap:butt;stroke-linejoin:miter;stroke-opacity:1\"/>\n",
       "<path class=\"bond-29 atom-29 atom-30\" d=\"M 169.7,54.4 L 188.4,47.6\" style=\"fill:none;fill-rule:evenodd;stroke:#000000;stroke-width:2.0px;stroke-linecap:butt;stroke-linejoin:miter;stroke-opacity:1\"/>\n",
       "<path class=\"bond-29 atom-29 atom-30\" d=\"M 170.3,51.0 L 185.7,45.3\" style=\"fill:none;fill-rule:evenodd;stroke:#000000;stroke-width:2.0px;stroke-linecap:butt;stroke-linejoin:miter;stroke-opacity:1\"/>\n",
       "<path class=\"bond-30 atom-11 atom-31\" d=\"M 271.6,72.5 L 266.1,91.6\" style=\"fill:none;fill-rule:evenodd;stroke:#000000;stroke-width:2.0px;stroke-linecap:butt;stroke-linejoin:miter;stroke-opacity:1\"/>\n",
       "<path class=\"bond-31 atom-31 atom-32\" d=\"M 264.2,91.7 L 269.3,98.2\" style=\"fill:none;fill-rule:evenodd;stroke:#000000;stroke-width:2.0px;stroke-linecap:butt;stroke-linejoin:miter;stroke-opacity:1\"/>\n",
       "<path class=\"bond-31 atom-31 atom-32\" d=\"M 269.3,98.2 L 274.4,104.7\" style=\"fill:none;fill-rule:evenodd;stroke:#FF0000;stroke-width:2.0px;stroke-linecap:butt;stroke-linejoin:miter;stroke-opacity:1\"/>\n",
       "<path class=\"bond-31 atom-31 atom-32\" d=\"M 266.6,89.8 L 271.7,96.3\" style=\"fill:none;fill-rule:evenodd;stroke:#000000;stroke-width:2.0px;stroke-linecap:butt;stroke-linejoin:miter;stroke-opacity:1\"/>\n",
       "<path class=\"bond-31 atom-31 atom-32\" d=\"M 271.7,96.3 L 276.7,102.9\" style=\"fill:none;fill-rule:evenodd;stroke:#FF0000;stroke-width:2.0px;stroke-linecap:butt;stroke-linejoin:miter;stroke-opacity:1\"/>\n",
       "<path class=\"bond-32 atom-6 atom-1\" d=\"M 235.0,108.8 L 243.7,126.7\" style=\"fill:none;fill-rule:evenodd;stroke:#000000;stroke-width:2.0px;stroke-linecap:butt;stroke-linejoin:miter;stroke-opacity:1\"/>\n",
       "<path class=\"bond-33 atom-31 atom-7\" d=\"M 266.1,91.6 L 257.5,91.9\" style=\"fill:none;fill-rule:evenodd;stroke:#000000;stroke-width:2.0px;stroke-linecap:butt;stroke-linejoin:miter;stroke-opacity:1\"/>\n",
       "<path class=\"bond-33 atom-31 atom-7\" d=\"M 257.5,91.9 L 248.9,92.2\" style=\"fill:none;fill-rule:evenodd;stroke:#0000FF;stroke-width:2.0px;stroke-linecap:butt;stroke-linejoin:miter;stroke-opacity:1\"/>\n",
       "<path class=\"bond-34 atom-18 atom-13\" d=\"M 278.5,33.2 L 293.8,46.0\" style=\"fill:none;fill-rule:evenodd;stroke:#000000;stroke-width:2.0px;stroke-linecap:butt;stroke-linejoin:miter;stroke-opacity:1\"/>\n",
       "<path class=\"bond-35 atom-30 atom-24\" d=\"M 188.4,47.6 L 191.9,27.9\" style=\"fill:none;fill-rule:evenodd;stroke:#000000;stroke-width:2.0px;stroke-linecap:butt;stroke-linejoin:miter;stroke-opacity:1\"/>\n",
       "<path d=\"M 233.1,142.4 L 232.5,143.2 L 231.5,143.1\" style=\"fill:none;stroke:#000000;stroke-width:2.0px;stroke-linecap:butt;stroke-linejoin:miter;stroke-opacity:1;\"/>\n",
       "<path d=\"M 213.7,141.8 L 212.7,141.8 L 212.2,140.9\" style=\"fill:none;stroke:#000000;stroke-width:2.0px;stroke-linecap:butt;stroke-linejoin:miter;stroke-opacity:1;\"/>\n",
       "<path d=\"M 204.4,124.7 L 204.0,123.9 L 204.5,123.0\" style=\"fill:none;stroke:#000000;stroke-width:2.0px;stroke-linecap:butt;stroke-linejoin:miter;stroke-opacity:1;\"/>\n",
       "<path d=\"M 214.6,108.2 L 215.1,107.4 L 216.1,107.4\" style=\"fill:none;stroke:#000000;stroke-width:2.0px;stroke-linecap:butt;stroke-linejoin:miter;stroke-opacity:1;\"/>\n",
       "<path d=\"M 239.5,73.9 L 239.4,73.5 L 239.7,73.3\" style=\"fill:none;stroke:#000000;stroke-width:2.0px;stroke-linecap:butt;stroke-linejoin:miter;stroke-opacity:1;\"/>\n",
       "<path d=\"M 289.4,66.0 L 290.3,65.7 L 290.5,64.7\" style=\"fill:none;stroke:#000000;stroke-width:2.0px;stroke-linecap:butt;stroke-linejoin:miter;stroke-opacity:1;\"/>\n",
       "<path d=\"M 311.6,39.6 L 312.5,39.3 L 312.7,38.3\" style=\"fill:none;stroke:#000000;stroke-width:2.0px;stroke-linecap:butt;stroke-linejoin:miter;stroke-opacity:1;\"/>\n",
       "<path d=\"M 315.8,20.6 L 316.0,19.6 L 315.2,19.0\" style=\"fill:none;stroke:#000000;stroke-width:2.0px;stroke-linecap:butt;stroke-linejoin:miter;stroke-opacity:1;\"/>\n",
       "<path d=\"M 301.5,7.5 L 300.7,6.8 L 299.8,7.2\" style=\"fill:none;stroke:#000000;stroke-width:2.0px;stroke-linecap:butt;stroke-linejoin:miter;stroke-opacity:1;\"/>\n",
       "<path d=\"M 283.0,13.3 L 282.0,13.6 L 281.8,14.6\" style=\"fill:none;stroke:#000000;stroke-width:2.0px;stroke-linecap:butt;stroke-linejoin:miter;stroke-opacity:1;\"/>\n",
       "<path d=\"M 244.9,27.4 L 244.6,27.2 L 243.6,27.5\" style=\"fill:none;stroke:#000000;stroke-width:2.0px;stroke-linecap:butt;stroke-linejoin:miter;stroke-opacity:1;\"/>\n",
       "<path d=\"M 226.8,33.6 L 225.8,34.0 L 225.5,33.7\" style=\"fill:none;stroke:#000000;stroke-width:2.0px;stroke-linecap:butt;stroke-linejoin:miter;stroke-opacity:1;\"/>\n",
       "<path d=\"M 177.4,15.8 L 176.6,15.1 L 175.7,15.5\" style=\"fill:none;stroke:#000000;stroke-width:2.0px;stroke-linecap:butt;stroke-linejoin:miter;stroke-opacity:1;\"/>\n",
       "<path d=\"M 158.8,21.6 L 157.9,21.9 L 157.7,22.9\" style=\"fill:none;stroke:#000000;stroke-width:2.0px;stroke-linecap:butt;stroke-linejoin:miter;stroke-opacity:1;\"/>\n",
       "<path d=\"M 168.9,53.7 L 169.7,54.4 L 170.6,54.0\" style=\"fill:none;stroke:#000000;stroke-width:2.0px;stroke-linecap:butt;stroke-linejoin:miter;stroke-opacity:1;\"/>\n",
       "<path d=\"M 187.4,47.9 L 188.4,47.6 L 188.6,46.6\" style=\"fill:none;stroke:#000000;stroke-width:2.0px;stroke-linecap:butt;stroke-linejoin:miter;stroke-opacity:1;\"/>\n",
       "<path d=\"M 266.3,90.6 L 266.1,91.6 L 265.6,91.6\" style=\"fill:none;stroke:#000000;stroke-width:2.0px;stroke-linecap:butt;stroke-linejoin:miter;stroke-opacity:1;\"/>\n",
       "<path class=\"atom-7\" d=\"M 244.9 89.4 L 246.7 92.4 Q 246.9 92.7, 247.2 93.3 Q 247.5 93.8, 247.5 93.8 L 247.5 89.4 L 248.3 89.4 L 248.3 95.1 L 247.5 95.1 L 245.5 91.8 Q 245.3 91.4, 245.1 91.0 Q 244.8 90.6, 244.7 90.4 L 244.7 95.1 L 244.0 95.1 L 244.0 89.4 L 244.9 89.4 \" fill=\"#0000FF\"/>\n",
       "<path class=\"atom-9\" d=\"M 212.5 65.2 L 213.3 65.2 L 213.3 67.6 L 216.2 67.6 L 216.2 65.2 L 217.0 65.2 L 217.0 70.8 L 216.2 70.8 L 216.2 68.2 L 213.3 68.2 L 213.3 70.8 L 212.5 70.8 L 212.5 65.2 \" fill=\"#0000FF\"/>\n",
       "<path class=\"atom-9\" d=\"M 219.0 65.2 L 220.8 68.2 Q 221.0 68.5, 221.3 69.0 Q 221.6 69.6, 221.6 69.6 L 221.6 65.2 L 222.4 65.2 L 222.4 70.8 L 221.6 70.8 L 219.6 67.6 Q 219.4 67.2, 219.1 66.8 Q 218.9 66.3, 218.8 66.2 L 218.8 70.8 L 218.1 70.8 L 218.1 65.2 L 219.0 65.2 \" fill=\"#0000FF\"/>\n",
       "<path class=\"atom-10\" d=\"M 253.5 63.2 Q 253.5 63.3, 253.8 63.4 Q 254.1 63.5, 254.4 63.5 Q 254.6 63.6, 254.9 63.6 Q 255.5 63.6, 255.8 63.4 Q 256.1 63.1, 256.1 62.6 Q 256.1 62.3, 255.9 62.1 Q 255.8 61.9, 255.5 61.8 Q 255.3 61.7, 254.9 61.6 Q 254.4 61.5, 254.1 61.3 Q 253.8 61.2, 253.6 60.9 Q 253.4 60.6, 253.4 60.1 Q 253.4 59.4, 253.9 58.9 Q 254.3 58.5, 255.3 58.5 Q 256.0 58.5, 256.7 58.8 L 256.5 59.4 Q 255.8 59.1, 255.3 59.1 Q 254.8 59.1, 254.5 59.4 Q 254.2 59.6, 254.2 60.0 Q 254.2 60.3, 254.3 60.5 Q 254.5 60.6, 254.7 60.7 Q 254.9 60.8, 255.3 61.0 Q 255.8 61.1, 256.1 61.3 Q 256.4 61.4, 256.7 61.8 Q 256.9 62.1, 256.9 62.6 Q 256.9 63.4, 256.4 63.8 Q 255.8 64.3, 255.0 64.3 Q 254.5 64.3, 254.1 64.1 Q 253.7 64.0, 253.3 63.9 L 253.5 63.2 \" fill=\"#CCCC00\"/>\n",
       "<path class=\"atom-19\" d=\"M 257.2 40.0 Q 257.2 38.7, 257.9 37.9 Q 258.6 37.2, 259.8 37.2 Q 261.1 37.2, 261.7 37.9 Q 262.4 38.7, 262.4 40.0 Q 262.4 41.4, 261.7 42.2 Q 261.0 43.0, 259.8 43.0 Q 258.6 43.0, 257.9 42.2 Q 257.2 41.4, 257.2 40.0 M 259.8 42.3 Q 260.7 42.3, 261.1 41.7 Q 261.6 41.2, 261.6 40.0 Q 261.6 38.9, 261.1 38.4 Q 260.7 37.8, 259.8 37.8 Q 259.0 37.8, 258.5 38.4 Q 258.0 38.9, 258.0 40.0 Q 258.0 41.2, 258.5 41.7 Q 259.0 42.3, 259.8 42.3 \" fill=\"#FF0000\"/>\n",
       "<path class=\"atom-22\" d=\"M 219.8 53.6 Q 219.8 52.3, 220.4 51.5 Q 221.1 50.7, 222.4 50.7 Q 223.6 50.7, 224.3 51.5 Q 224.9 52.3, 224.9 53.6 Q 224.9 55.0, 224.3 55.8 Q 223.6 56.5, 222.4 56.5 Q 221.1 56.5, 220.4 55.8 Q 219.8 55.0, 219.8 53.6 M 222.4 55.9 Q 223.2 55.9, 223.7 55.3 Q 224.1 54.7, 224.1 53.6 Q 224.1 52.5, 223.7 51.9 Q 223.2 51.4, 222.4 51.4 Q 221.5 51.4, 221.0 51.9 Q 220.6 52.5, 220.6 53.6 Q 220.6 54.7, 221.0 55.3 Q 221.5 55.9, 222.4 55.9 \" fill=\"#FF0000\"/>\n",
       "<path class=\"atom-23\" d=\"M 209.3 18.3 L 211.2 21.3 Q 211.4 21.6, 211.7 22.2 Q 212.0 22.7, 212.0 22.7 L 212.0 18.3 L 212.7 18.3 L 212.7 24.0 L 212.0 24.0 L 210.0 20.7 Q 209.7 20.3, 209.5 19.9 Q 209.3 19.5, 209.2 19.3 L 209.2 24.0 L 208.5 24.0 L 208.5 18.3 L 209.3 18.3 \" fill=\"#0000FF\"/>\n",
       "<path class=\"atom-23\" d=\"M 208.4 12.1 L 209.2 12.1 L 209.2 14.5 L 212.0 14.5 L 212.0 12.1 L 212.8 12.1 L 212.8 17.8 L 212.0 17.8 L 212.0 15.2 L 209.2 15.2 L 209.2 17.8 L 208.4 17.8 L 208.4 12.1 \" fill=\"#0000FF\"/>\n",
       "<path class=\"atom-28\" d=\"M 134.0 45.5 L 137.4 45.5 L 137.4 46.1 L 134.8 46.1 L 134.8 47.9 L 137.1 47.9 L 137.1 48.5 L 134.8 48.5 L 134.8 51.1 L 134.0 51.1 L 134.0 45.5 \" fill=\"#33CCCC\"/>\n",
       "<path class=\"atom-32\" d=\"M 275.7 107.3 Q 275.7 106.0, 276.4 105.2 Q 277.1 104.5, 278.3 104.5 Q 279.6 104.5, 280.2 105.2 Q 280.9 106.0, 280.9 107.3 Q 280.9 108.7, 280.2 109.5 Q 279.5 110.2, 278.3 110.2 Q 277.1 110.2, 276.4 109.5 Q 275.7 108.7, 275.7 107.3 M 278.3 109.6 Q 279.2 109.6, 279.6 109.0 Q 280.1 108.5, 280.1 107.3 Q 280.1 106.2, 279.6 105.7 Q 279.2 105.1, 278.3 105.1 Q 277.4 105.1, 277.0 105.6 Q 276.5 106.2, 276.5 107.3 Q 276.5 108.5, 277.0 109.0 Q 277.4 109.6, 278.3 109.6 \" fill=\"#FF0000\"/>\n",
       "</svg>"
      ],
      "text/plain": [
       "<IPython.core.display.SVG object>"
      ]
     },
     "metadata": {},
     "output_type": "display_data"
    },
    {
     "data": {
      "image/svg+xml": [
       "<svg xmlns=\"http://www.w3.org/2000/svg\" xmlns:rdkit=\"http://www.rdkit.org/xml\" xmlns:xlink=\"http://www.w3.org/1999/xlink\" version=\"1.1\" baseProfile=\"full\" xml:space=\"preserve\" width=\"450px\" height=\"150px\" viewBox=\"0 0 450 150\">\n",
       "<!-- END OF HEADER -->\n",
       "<rect style=\"opacity:1.0;fill:#FFFFFF;stroke:none\" width=\"450.0\" height=\"150.0\" x=\"0.0\" y=\"0.0\"> </rect>\n",
       "<path class=\"bond-0 atom-1 atom-0\" d=\"M 207.6,70.1 L 208.2,70.3\" style=\"fill:none;fill-rule:evenodd;stroke:#000000;stroke-width:1.0px;stroke-linecap:butt;stroke-linejoin:miter;stroke-opacity:1\"/>\n",
       "<path class=\"bond-0 atom-1 atom-0\" d=\"M 208.7,66.6 L 210.0,67.1\" style=\"fill:none;fill-rule:evenodd;stroke:#000000;stroke-width:1.0px;stroke-linecap:butt;stroke-linejoin:miter;stroke-opacity:1\"/>\n",
       "<path class=\"bond-0 atom-1 atom-0\" d=\"M 209.8,63.1 L 211.7,63.9\" style=\"fill:none;fill-rule:evenodd;stroke:#000000;stroke-width:1.0px;stroke-linecap:butt;stroke-linejoin:miter;stroke-opacity:1\"/>\n",
       "<path class=\"bond-0 atom-1 atom-0\" d=\"M 210.9,59.6 L 213.5,60.7\" style=\"fill:none;fill-rule:evenodd;stroke:#000000;stroke-width:1.0px;stroke-linecap:butt;stroke-linejoin:miter;stroke-opacity:1\"/>\n",
       "<path class=\"bond-0 atom-1 atom-0\" d=\"M 212.0,56.1 L 215.2,57.5\" style=\"fill:none;fill-rule:evenodd;stroke:#000000;stroke-width:1.0px;stroke-linecap:butt;stroke-linejoin:miter;stroke-opacity:1\"/>\n",
       "<path class=\"bond-0 atom-1 atom-0\" d=\"M 213.1,52.6 L 217.0,54.3\" style=\"fill:none;fill-rule:evenodd;stroke:#0000FF;stroke-width:1.0px;stroke-linecap:butt;stroke-linejoin:miter;stroke-opacity:1\"/>\n",
       "<path class=\"bond-0 atom-1 atom-0\" d=\"M 214.2,49.2 L 218.7,51.1\" style=\"fill:none;fill-rule:evenodd;stroke:#0000FF;stroke-width:1.0px;stroke-linecap:butt;stroke-linejoin:miter;stroke-opacity:1\"/>\n",
       "<path class=\"bond-0 atom-1 atom-0\" d=\"M 215.3,45.7 L 220.5,47.9\" style=\"fill:none;fill-rule:evenodd;stroke:#0000FF;stroke-width:1.0px;stroke-linecap:butt;stroke-linejoin:miter;stroke-opacity:1\"/>\n",
       "<path class=\"bond-0 atom-1 atom-0\" d=\"M 216.4,42.2 L 222.3,44.7\" style=\"fill:none;fill-rule:evenodd;stroke:#0000FF;stroke-width:1.0px;stroke-linecap:butt;stroke-linejoin:miter;stroke-opacity:1\"/>\n",
       "<path class=\"bond-0 atom-1 atom-0\" d=\"M 217.5,38.7 L 224.0,41.5\" style=\"fill:none;fill-rule:evenodd;stroke:#0000FF;stroke-width:1.0px;stroke-linecap:butt;stroke-linejoin:miter;stroke-opacity:1\"/>\n",
       "<path class=\"bond-1 atom-1 atom-2\" d=\"M 206.5,73.6 L 234.6,111.2\" style=\"fill:none;fill-rule:evenodd;stroke:#000000;stroke-width:2.0px;stroke-linecap:butt;stroke-linejoin:miter;stroke-opacity:1\"/>\n",
       "<path class=\"bond-2 atom-2 atom-3\" d=\"M 234.6,111.2 L 281.3,105.6\" style=\"fill:none;fill-rule:evenodd;stroke:#000000;stroke-width:2.0px;stroke-linecap:butt;stroke-linejoin:miter;stroke-opacity:1\"/>\n",
       "<path class=\"bond-3 atom-3 atom-4\" d=\"M 281.3,105.6 L 309.5,143.2\" style=\"fill:none;fill-rule:evenodd;stroke:#000000;stroke-width:2.0px;stroke-linecap:butt;stroke-linejoin:miter;stroke-opacity:1\"/>\n",
       "<path class=\"bond-3 atom-3 atom-4\" d=\"M 289.4,104.6 L 312.7,135.7\" style=\"fill:none;fill-rule:evenodd;stroke:#000000;stroke-width:2.0px;stroke-linecap:butt;stroke-linejoin:miter;stroke-opacity:1\"/>\n",
       "<path class=\"bond-4 atom-4 atom-5\" d=\"M 309.5,143.2 L 356.1,137.6\" style=\"fill:none;fill-rule:evenodd;stroke:#000000;stroke-width:2.0px;stroke-linecap:butt;stroke-linejoin:miter;stroke-opacity:1\"/>\n",
       "<path class=\"bond-5 atom-5 atom-6\" d=\"M 356.1,137.6 L 374.6,94.4\" style=\"fill:none;fill-rule:evenodd;stroke:#000000;stroke-width:2.0px;stroke-linecap:butt;stroke-linejoin:miter;stroke-opacity:1\"/>\n",
       "<path class=\"bond-5 atom-5 atom-6\" d=\"M 351.3,131.1 L 366.5,95.3\" style=\"fill:none;fill-rule:evenodd;stroke:#000000;stroke-width:2.0px;stroke-linecap:butt;stroke-linejoin:miter;stroke-opacity:1\"/>\n",
       "<path class=\"bond-6 atom-6 atom-7\" d=\"M 374.6,94.4 L 346.5,56.8\" style=\"fill:none;fill-rule:evenodd;stroke:#000000;stroke-width:2.0px;stroke-linecap:butt;stroke-linejoin:miter;stroke-opacity:1\"/>\n",
       "<path class=\"bond-7 atom-7 atom-8\" d=\"M 346.5,56.8 L 353.9,39.4\" style=\"fill:none;fill-rule:evenodd;stroke:#000000;stroke-width:2.0px;stroke-linecap:butt;stroke-linejoin:miter;stroke-opacity:1\"/>\n",
       "<path class=\"bond-7 atom-7 atom-8\" d=\"M 353.9,39.4 L 361.3,22.0\" style=\"fill:none;fill-rule:evenodd;stroke:#FF0000;stroke-width:2.0px;stroke-linecap:butt;stroke-linejoin:miter;stroke-opacity:1\"/>\n",
       "<path class=\"bond-8 atom-7 atom-9\" d=\"M 346.5,56.8 L 299.8,62.4\" style=\"fill:none;fill-rule:evenodd;stroke:#000000;stroke-width:2.0px;stroke-linecap:butt;stroke-linejoin:miter;stroke-opacity:1\"/>\n",
       "<path class=\"bond-8 atom-7 atom-9\" d=\"M 343.3,64.2 L 304.7,68.9\" style=\"fill:none;fill-rule:evenodd;stroke:#000000;stroke-width:2.0px;stroke-linecap:butt;stroke-linejoin:miter;stroke-opacity:1\"/>\n",
       "<path class=\"bond-9 atom-1 atom-10\" d=\"M 206.5,73.6 L 159.8,79.1\" style=\"fill:none;fill-rule:evenodd;stroke:#000000;stroke-width:2.0px;stroke-linecap:butt;stroke-linejoin:miter;stroke-opacity:1\"/>\n",
       "<path class=\"bond-10 atom-10 atom-11\" d=\"M 159.8,79.1 L 131.6,41.5\" style=\"fill:none;fill-rule:evenodd;stroke:#000000;stroke-width:2.0px;stroke-linecap:butt;stroke-linejoin:miter;stroke-opacity:1\"/>\n",
       "<path class=\"bond-10 atom-10 atom-11\" d=\"M 151.7,80.1 L 128.4,49.0\" style=\"fill:none;fill-rule:evenodd;stroke:#000000;stroke-width:2.0px;stroke-linecap:butt;stroke-linejoin:miter;stroke-opacity:1\"/>\n",
       "<path class=\"bond-11 atom-11 atom-12\" d=\"M 131.6,41.5 L 85.0,47.1\" style=\"fill:none;fill-rule:evenodd;stroke:#000000;stroke-width:2.0px;stroke-linecap:butt;stroke-linejoin:miter;stroke-opacity:1\"/>\n",
       "<path class=\"bond-12 atom-12 atom-13\" d=\"M 85.0,47.1 L 66.5,90.3\" style=\"fill:none;fill-rule:evenodd;stroke:#000000;stroke-width:2.0px;stroke-linecap:butt;stroke-linejoin:miter;stroke-opacity:1\"/>\n",
       "<path class=\"bond-12 atom-12 atom-13\" d=\"M 89.8,53.6 L 74.5,89.4\" style=\"fill:none;fill-rule:evenodd;stroke:#000000;stroke-width:2.0px;stroke-linecap:butt;stroke-linejoin:miter;stroke-opacity:1\"/>\n",
       "<path class=\"bond-13 atom-13 atom-14\" d=\"M 66.5,90.3 L 94.6,128.0\" style=\"fill:none;fill-rule:evenodd;stroke:#000000;stroke-width:2.0px;stroke-linecap:butt;stroke-linejoin:miter;stroke-opacity:1\"/>\n",
       "<path class=\"bond-14 atom-14 atom-15\" d=\"M 94.6,128.0 L 114.7,125.6\" style=\"fill:none;fill-rule:evenodd;stroke:#000000;stroke-width:2.0px;stroke-linecap:butt;stroke-linejoin:miter;stroke-opacity:1\"/>\n",
       "<path class=\"bond-14 atom-14 atom-15\" d=\"M 114.7,125.6 L 134.7,123.2\" style=\"fill:none;fill-rule:evenodd;stroke:#0000FF;stroke-width:2.0px;stroke-linecap:butt;stroke-linejoin:miter;stroke-opacity:1\"/>\n",
       "<path class=\"bond-14 atom-14 atom-15\" d=\"M 97.8,120.5 L 115.9,118.3\" style=\"fill:none;fill-rule:evenodd;stroke:#000000;stroke-width:2.0px;stroke-linecap:butt;stroke-linejoin:miter;stroke-opacity:1\"/>\n",
       "<path class=\"bond-14 atom-14 atom-15\" d=\"M 115.9,118.3 L 133.9,116.2\" style=\"fill:none;fill-rule:evenodd;stroke:#0000FF;stroke-width:2.0px;stroke-linecap:butt;stroke-linejoin:miter;stroke-opacity:1\"/>\n",
       "<path class=\"bond-15 atom-9 atom-3\" d=\"M 299.8,62.4 L 281.3,105.6\" style=\"fill:none;fill-rule:evenodd;stroke:#000000;stroke-width:2.0px;stroke-linecap:butt;stroke-linejoin:miter;stroke-opacity:1\"/>\n",
       "<path class=\"bond-16 atom-15 atom-10\" d=\"M 144.8,114.2 L 152.3,96.7\" style=\"fill:none;fill-rule:evenodd;stroke:#0000FF;stroke-width:2.0px;stroke-linecap:butt;stroke-linejoin:miter;stroke-opacity:1\"/>\n",
       "<path class=\"bond-16 atom-15 atom-10\" d=\"M 152.3,96.7 L 159.8,79.1\" style=\"fill:none;fill-rule:evenodd;stroke:#000000;stroke-width:2.0px;stroke-linecap:butt;stroke-linejoin:miter;stroke-opacity:1\"/>\n",
       "<path d=\"M 207.9,75.4 L 206.5,73.6 L 204.1,73.8\" style=\"fill:none;stroke:#000000;stroke-width:2.0px;stroke-linecap:butt;stroke-linejoin:miter;stroke-opacity:1;\"/>\n",
       "<path d=\"M 233.2,109.3 L 234.6,111.2 L 237.0,110.9\" style=\"fill:none;stroke:#000000;stroke-width:2.0px;stroke-linecap:butt;stroke-linejoin:miter;stroke-opacity:1;\"/>\n",
       "<path d=\"M 308.1,141.3 L 309.5,143.2 L 311.8,142.9\" style=\"fill:none;stroke:#000000;stroke-width:2.0px;stroke-linecap:butt;stroke-linejoin:miter;stroke-opacity:1;\"/>\n",
       "<path d=\"M 353.8,137.9 L 356.1,137.6 L 357.1,135.4\" style=\"fill:none;stroke:#000000;stroke-width:2.0px;stroke-linecap:butt;stroke-linejoin:miter;stroke-opacity:1;\"/>\n",
       "<path d=\"M 373.7,96.5 L 374.6,94.4 L 373.2,92.5\" style=\"fill:none;stroke:#000000;stroke-width:2.0px;stroke-linecap:butt;stroke-linejoin:miter;stroke-opacity:1;\"/>\n",
       "<path d=\"M 302.1,62.1 L 299.8,62.4 L 298.9,64.5\" style=\"fill:none;stroke:#000000;stroke-width:2.0px;stroke-linecap:butt;stroke-linejoin:miter;stroke-opacity:1;\"/>\n",
       "<path d=\"M 133.0,43.4 L 131.6,41.5 L 129.3,41.8\" style=\"fill:none;stroke:#000000;stroke-width:2.0px;stroke-linecap:butt;stroke-linejoin:miter;stroke-opacity:1;\"/>\n",
       "<path d=\"M 87.3,46.9 L 85.0,47.1 L 84.0,49.3\" style=\"fill:none;stroke:#000000;stroke-width:2.0px;stroke-linecap:butt;stroke-linejoin:miter;stroke-opacity:1;\"/>\n",
       "<path d=\"M 67.4,88.2 L 66.5,90.3 L 67.9,92.2\" style=\"fill:none;stroke:#000000;stroke-width:2.0px;stroke-linecap:butt;stroke-linejoin:miter;stroke-opacity:1;\"/>\n",
       "<path d=\"M 93.2,126.1 L 94.6,128.0 L 95.6,127.8\" style=\"fill:none;stroke:#000000;stroke-width:2.0px;stroke-linecap:butt;stroke-linejoin:miter;stroke-opacity:1;\"/>\n",
       "<path class=\"atom-0\" d=\"M 222.0 23.7 L 226.4 30.7 Q 226.8 31.4, 227.5 32.7 Q 228.2 33.9, 228.2 34.0 L 228.2 23.7 L 230.0 23.7 L 230.0 37.0 L 228.2 37.0 L 223.5 29.3 Q 222.9 28.4, 222.4 27.4 Q 221.8 26.3, 221.6 26.0 L 221.6 37.0 L 219.9 37.0 L 219.9 23.7 L 222.0 23.7 \" fill=\"#0000FF\"/>\n",
       "<path class=\"atom-0\" d=\"M 232.5 23.7 L 234.3 23.7 L 234.3 29.3 L 241.1 29.3 L 241.1 23.7 L 242.9 23.7 L 242.9 37.0 L 241.1 37.0 L 241.1 30.8 L 234.3 30.8 L 234.3 37.0 L 232.5 37.0 L 232.5 23.7 \" fill=\"#0000FF\"/>\n",
       "<path class=\"atom-0\" d=\"M 249.7 39.0 Q 250.6 39.3, 251.0 39.8 Q 251.4 40.4, 251.4 41.2 Q 251.4 42.0, 251.0 42.6 Q 250.6 43.1, 250.0 43.5 Q 249.3 43.8, 248.4 43.8 Q 247.4 43.8, 246.7 43.5 Q 246.0 43.1, 245.5 42.4 L 246.2 41.7 Q 246.7 42.3, 247.2 42.6 Q 247.6 42.8, 248.4 42.8 Q 249.2 42.8, 249.7 42.4 Q 250.1 41.9, 250.1 41.2 Q 250.1 40.3, 249.6 39.9 Q 249.1 39.5, 248.1 39.5 L 247.4 39.5 L 247.4 38.6 L 248.0 38.6 Q 248.9 38.6, 249.4 38.2 Q 250.0 37.8, 250.0 37.0 Q 250.0 36.4, 249.5 36.1 Q 249.1 35.8, 248.4 35.8 Q 247.7 35.8, 247.2 36.0 Q 246.8 36.3, 246.4 36.9 L 245.6 36.5 Q 245.9 35.7, 246.6 35.3 Q 247.4 34.8, 248.4 34.8 Q 249.7 34.8, 250.4 35.4 Q 251.2 36.0, 251.2 37.0 Q 251.2 37.7, 250.8 38.2 Q 250.4 38.7, 249.7 39.0 \" fill=\"#0000FF\"/>\n",
       "<path class=\"atom-0\" d=\"M 245.5 26.1 L 247.9 26.1 L 247.9 23.6 L 248.9 23.6 L 248.9 26.1 L 251.3 26.1 L 251.3 27.0 L 248.9 27.0 L 248.9 29.5 L 247.9 29.5 L 247.9 27.0 L 245.5 27.0 L 245.5 26.1 \" fill=\"#0000FF\"/>\n",
       "<path class=\"atom-8\" d=\"M 358.8 13.6 Q 358.8 10.4, 360.4 8.6 Q 362.0 6.8, 364.9 6.8 Q 367.9 6.8, 369.5 8.6 Q 371.0 10.4, 371.0 13.6 Q 371.0 16.8, 369.4 18.7 Q 367.9 20.5, 364.9 20.5 Q 362.0 20.5, 360.4 18.7 Q 358.8 16.8, 358.8 13.6 M 364.9 19.0 Q 367.0 19.0, 368.1 17.6 Q 369.2 16.3, 369.2 13.6 Q 369.2 11.0, 368.1 9.7 Q 367.0 8.3, 364.9 8.3 Q 362.9 8.3, 361.8 9.6 Q 360.7 11.0, 360.7 13.6 Q 360.7 16.3, 361.8 17.6 Q 362.9 19.0, 364.9 19.0 \" fill=\"#FF0000\"/>\n",
       "<path class=\"atom-8\" d=\"M 373.1 7.0 L 374.9 7.0 L 374.9 12.6 L 381.7 12.6 L 381.7 7.0 L 383.5 7.0 L 383.5 20.3 L 381.7 20.3 L 381.7 14.1 L 374.9 14.1 L 374.9 20.3 L 373.1 20.3 L 373.1 7.0 \" fill=\"#FF0000\"/>\n",
       "<path class=\"atom-15\" d=\"M 138.4 115.7 L 142.7 122.8 Q 143.2 123.5, 143.9 124.7 Q 144.6 126.0, 144.6 126.0 L 144.6 115.7 L 146.4 115.7 L 146.4 129.0 L 144.5 129.0 L 139.9 121.3 Q 139.3 120.4, 138.7 119.4 Q 138.2 118.3, 138.0 118.0 L 138.0 129.0 L 136.3 129.0 L 136.3 115.7 L 138.4 115.7 \" fill=\"#0000FF\"/>\n",
       "</svg>"
      ],
      "text/plain": [
       "<IPython.core.display.SVG object>"
      ]
     },
     "metadata": {},
     "output_type": "display_data"
    },
    {
     "data": {
      "image/svg+xml": [
       "<svg xmlns=\"http://www.w3.org/2000/svg\" xmlns:rdkit=\"http://www.rdkit.org/xml\" xmlns:xlink=\"http://www.w3.org/1999/xlink\" version=\"1.1\" baseProfile=\"full\" xml:space=\"preserve\" width=\"450px\" height=\"150px\" viewBox=\"0 0 450 150\">\n",
       "<!-- END OF HEADER -->\n",
       "<rect style=\"opacity:1.0;fill:#FFFFFF;stroke:none\" width=\"450.0\" height=\"150.0\" x=\"0.0\" y=\"0.0\"> </rect>\n",
       "<path class=\"bond-0 atom-0 atom-1\" d=\"M 20.5,10.2 L 23.5,64.7\" style=\"fill:none;fill-rule:evenodd;stroke:#000000;stroke-width:2.0px;stroke-linecap:butt;stroke-linejoin:miter;stroke-opacity:1\"/>\n",
       "<path class=\"bond-1 atom-2 atom-1\" d=\"M 68.2,83.3 L 23.5,64.7 L 23.0,56.0 Z\" style=\"fill:#000000;fill-rule:evenodd;fill-opacity:1;stroke:#000000;stroke-width:0.5px;stroke-linecap:butt;stroke-linejoin:miter;stroke-opacity:1;\"/>\n",
       "<path class=\"bond-2 atom-2 atom-3\" d=\"M 68.2,83.3 L 76.3,133.0\" style=\"fill:none;fill-rule:evenodd;stroke:#000000;stroke-width:2.0px;stroke-linecap:butt;stroke-linejoin:miter;stroke-opacity:1\"/>\n",
       "<path class=\"bond-3 atom-3 atom-4\" d=\"M 76.3,133.0 L 126.1,140.8\" style=\"fill:none;fill-rule:evenodd;stroke:#000000;stroke-width:2.0px;stroke-linecap:butt;stroke-linejoin:miter;stroke-opacity:1\"/>\n",
       "<path class=\"bond-4 atom-4 atom-5\" d=\"M 126.1,140.8 L 148.9,95.8\" style=\"fill:none;fill-rule:evenodd;stroke:#000000;stroke-width:2.0px;stroke-linecap:butt;stroke-linejoin:miter;stroke-opacity:1\"/>\n",
       "<path class=\"bond-5 atom-5 atom-6\" d=\"M 148.9,95.8 L 169.1,90.6 L 169.7,94.3 Z\" style=\"fill:#000000;fill-rule:evenodd;fill-opacity:1;stroke:#000000;stroke-width:0.5px;stroke-linecap:butt;stroke-linejoin:miter;stroke-opacity:1;\"/>\n",
       "<path class=\"bond-5 atom-5 atom-6\" d=\"M 169.1,90.6 L 190.5,92.9 L 189.3,85.4 Z\" style=\"fill:#0000FF;fill-rule:evenodd;fill-opacity:1;stroke:#0000FF;stroke-width:0.5px;stroke-linecap:butt;stroke-linejoin:miter;stroke-opacity:1;\"/>\n",
       "<path class=\"bond-5 atom-5 atom-6\" d=\"M 169.1,90.6 L 169.7,94.3 L 190.5,92.9 Z\" style=\"fill:#0000FF;fill-rule:evenodd;fill-opacity:1;stroke:#0000FF;stroke-width:0.5px;stroke-linecap:butt;stroke-linejoin:miter;stroke-opacity:1;\"/>\n",
       "<path class=\"bond-6 atom-6 atom-7\" d=\"M 205.7,96.4 L 218.1,111.6\" style=\"fill:none;fill-rule:evenodd;stroke:#0000FF;stroke-width:2.0px;stroke-linecap:butt;stroke-linejoin:miter;stroke-opacity:1\"/>\n",
       "<path class=\"bond-6 atom-6 atom-7\" d=\"M 218.1,111.6 L 230.5,126.8\" style=\"fill:none;fill-rule:evenodd;stroke:#000000;stroke-width:2.0px;stroke-linecap:butt;stroke-linejoin:miter;stroke-opacity:1\"/>\n",
       "<path class=\"bond-7 atom-7 atom-8\" d=\"M 230.5,126.8 L 280.2,118.8\" style=\"fill:none;fill-rule:evenodd;stroke:#000000;stroke-width:2.0px;stroke-linecap:butt;stroke-linejoin:miter;stroke-opacity:1\"/>\n",
       "<path class=\"bond-8 atom-8 atom-9\" d=\"M 280.2,118.8 L 298.2,71.6\" style=\"fill:none;fill-rule:evenodd;stroke:#000000;stroke-width:2.0px;stroke-linecap:butt;stroke-linejoin:miter;stroke-opacity:1\"/>\n",
       "<path class=\"bond-9 atom-9 atom-10\" d=\"M 298.2,71.6 L 347.9,63.6\" style=\"fill:none;fill-rule:evenodd;stroke:#000000;stroke-width:2.0px;stroke-linecap:butt;stroke-linejoin:miter;stroke-opacity:1\"/>\n",
       "<path class=\"bond-10 atom-10 atom-11\" d=\"M 350.7,67.0 L 358.3,46.9\" style=\"fill:none;fill-rule:evenodd;stroke:#000000;stroke-width:2.0px;stroke-linecap:butt;stroke-linejoin:miter;stroke-opacity:1\"/>\n",
       "<path class=\"bond-10 atom-10 atom-11\" d=\"M 358.3,46.9 L 365.9,26.9\" style=\"fill:none;fill-rule:evenodd;stroke:#FF0000;stroke-width:2.0px;stroke-linecap:butt;stroke-linejoin:miter;stroke-opacity:1\"/>\n",
       "<path class=\"bond-10 atom-10 atom-11\" d=\"M 343.6,64.3 L 351.2,44.2\" style=\"fill:none;fill-rule:evenodd;stroke:#000000;stroke-width:2.0px;stroke-linecap:butt;stroke-linejoin:miter;stroke-opacity:1\"/>\n",
       "<path class=\"bond-10 atom-10 atom-11\" d=\"M 351.2,44.2 L 358.8,24.2\" style=\"fill:none;fill-rule:evenodd;stroke:#FF0000;stroke-width:2.0px;stroke-linecap:butt;stroke-linejoin:miter;stroke-opacity:1\"/>\n",
       "<path class=\"bond-11 atom-10 atom-12\" d=\"M 347.9,63.6 L 360.2,78.7\" style=\"fill:none;fill-rule:evenodd;stroke:#000000;stroke-width:2.0px;stroke-linecap:butt;stroke-linejoin:miter;stroke-opacity:1\"/>\n",
       "<path class=\"bond-11 atom-10 atom-12\" d=\"M 360.2,78.7 L 372.5,93.8\" style=\"fill:none;fill-rule:evenodd;stroke:#FF0000;stroke-width:2.0px;stroke-linecap:butt;stroke-linejoin:miter;stroke-opacity:1\"/>\n",
       "<path class=\"bond-12 atom-12 atom-13\" d=\"M 388.0,101.3 L 408.8,98.0\" style=\"fill:none;fill-rule:evenodd;stroke:#FF0000;stroke-width:2.0px;stroke-linecap:butt;stroke-linejoin:miter;stroke-opacity:1\"/>\n",
       "<path class=\"bond-12 atom-12 atom-13\" d=\"M 408.8,98.0 L 429.5,94.6\" style=\"fill:none;fill-rule:evenodd;stroke:#000000;stroke-width:2.0px;stroke-linecap:butt;stroke-linejoin:miter;stroke-opacity:1\"/>\n",
       "<path class=\"bond-13 atom-9 atom-14\" d=\"M 298.2,71.6 L 266.3,32.6\" style=\"fill:none;fill-rule:evenodd;stroke:#000000;stroke-width:2.0px;stroke-linecap:butt;stroke-linejoin:miter;stroke-opacity:1\"/>\n",
       "<path class=\"bond-14 atom-14 atom-15\" d=\"M 266.3,32.6 L 216.5,40.6\" style=\"fill:none;fill-rule:evenodd;stroke:#000000;stroke-width:2.0px;stroke-linecap:butt;stroke-linejoin:miter;stroke-opacity:1\"/>\n",
       "<path class=\"bond-15 atom-5 atom-16\" d=\"M 148.9,95.8 L 113.1,60.2\" style=\"fill:none;fill-rule:evenodd;stroke:#000000;stroke-width:2.0px;stroke-linecap:butt;stroke-linejoin:miter;stroke-opacity:1\"/>\n",
       "<path class=\"bond-16 atom-16 atom-2\" d=\"M 113.1,60.2 L 68.2,83.3\" style=\"fill:none;fill-rule:evenodd;stroke:#000000;stroke-width:2.0px;stroke-linecap:butt;stroke-linejoin:miter;stroke-opacity:1\"/>\n",
       "<path class=\"bond-17 atom-15 atom-6\" d=\"M 216.5,40.6 L 212.3,51.9\" style=\"fill:none;fill-rule:evenodd;stroke:#000000;stroke-width:2.0px;stroke-linecap:butt;stroke-linejoin:miter;stroke-opacity:1\"/>\n",
       "<path class=\"bond-17 atom-15 atom-6\" d=\"M 212.3,51.9 L 208.0,63.1\" style=\"fill:none;fill-rule:evenodd;stroke:#0000FF;stroke-width:2.0px;stroke-linecap:butt;stroke-linejoin:miter;stroke-opacity:1\"/>\n",
       "<path d=\"M 68.7,85.8 L 68.2,83.3 L 70.5,82.1\" style=\"fill:none;stroke:#000000;stroke-width:2.0px;stroke-linecap:butt;stroke-linejoin:miter;stroke-opacity:1;\"/>\n",
       "<path d=\"M 75.9,130.6 L 76.3,133.0 L 78.8,133.4\" style=\"fill:none;stroke:#000000;stroke-width:2.0px;stroke-linecap:butt;stroke-linejoin:miter;stroke-opacity:1;\"/>\n",
       "<path d=\"M 123.6,140.4 L 126.1,140.8 L 127.3,138.5\" style=\"fill:none;stroke:#000000;stroke-width:2.0px;stroke-linecap:butt;stroke-linejoin:miter;stroke-opacity:1;\"/>\n",
       "<path d=\"M 147.7,98.0 L 148.9,95.8 L 147.1,94.0\" style=\"fill:none;stroke:#000000;stroke-width:2.0px;stroke-linecap:butt;stroke-linejoin:miter;stroke-opacity:1;\"/>\n",
       "<path d=\"M 229.9,126.0 L 230.5,126.8 L 233.0,126.4\" style=\"fill:none;stroke:#000000;stroke-width:2.0px;stroke-linecap:butt;stroke-linejoin:miter;stroke-opacity:1;\"/>\n",
       "<path d=\"M 277.8,119.2 L 280.2,118.8 L 281.1,116.4\" style=\"fill:none;stroke:#000000;stroke-width:2.0px;stroke-linecap:butt;stroke-linejoin:miter;stroke-opacity:1;\"/>\n",
       "<path d=\"M 345.4,64.0 L 347.9,63.6 L 348.5,64.3\" style=\"fill:none;stroke:#000000;stroke-width:2.0px;stroke-linecap:butt;stroke-linejoin:miter;stroke-opacity:1;\"/>\n",
       "<path d=\"M 267.9,34.5 L 266.3,32.6 L 263.8,33.0\" style=\"fill:none;stroke:#000000;stroke-width:2.0px;stroke-linecap:butt;stroke-linejoin:miter;stroke-opacity:1;\"/>\n",
       "<path d=\"M 219.0,40.2 L 216.5,40.6 L 216.3,41.2\" style=\"fill:none;stroke:#000000;stroke-width:2.0px;stroke-linecap:butt;stroke-linejoin:miter;stroke-opacity:1;\"/>\n",
       "<path d=\"M 114.9,62.0 L 113.1,60.2 L 110.9,61.4\" style=\"fill:none;stroke:#000000;stroke-width:2.0px;stroke-linecap:butt;stroke-linejoin:miter;stroke-opacity:1;\"/>\n",
       "<path class=\"atom-6\" d=\"M 195.5 80.6 L 200.1 88.1 Q 200.6 88.9, 201.4 90.2 Q 202.1 91.6, 202.1 91.7 L 202.1 80.6 L 204.0 80.6 L 204.0 94.9 L 202.1 94.9 L 197.1 86.6 Q 196.5 85.6, 195.9 84.5 Q 195.2 83.4, 195.1 83.1 L 195.1 94.9 L 193.2 94.9 L 193.2 80.6 L 195.5 80.6 \" fill=\"#0000FF\"/>\n",
       "<path class=\"atom-6\" d=\"M 193.0 64.9 L 195.0 64.9 L 195.0 70.9 L 202.3 70.9 L 202.3 64.9 L 204.2 64.9 L 204.2 79.2 L 202.3 79.2 L 202.3 72.6 L 195.0 72.6 L 195.0 79.2 L 193.0 79.2 L 193.0 64.9 \" fill=\"#0000FF\"/>\n",
       "<path class=\"atom-6\" d=\"M 207.0 67.5 L 209.5 67.5 L 209.5 64.8 L 210.6 64.8 L 210.6 67.5 L 213.2 67.5 L 213.2 68.4 L 210.6 68.4 L 210.6 71.1 L 209.5 71.1 L 209.5 68.4 L 207.0 68.4 L 207.0 67.5 \" fill=\"#0000FF\"/>\n",
       "<path class=\"atom-11\" d=\"M 359.3 16.5 Q 359.3 13.1, 361.0 11.2 Q 362.7 9.2, 365.8 9.2 Q 369.0 9.2, 370.7 11.2 Q 372.4 13.1, 372.4 16.5 Q 372.4 20.0, 370.7 21.9 Q 369.0 23.9, 365.8 23.9 Q 362.7 23.9, 361.0 21.9 Q 359.3 20.0, 359.3 16.5 M 365.8 22.3 Q 368.0 22.3, 369.2 20.8 Q 370.4 19.4, 370.4 16.5 Q 370.4 13.7, 369.2 12.3 Q 368.0 10.8, 365.8 10.8 Q 363.7 10.8, 362.5 12.3 Q 361.3 13.7, 361.3 16.5 Q 361.3 19.4, 362.5 20.8 Q 363.7 22.3, 365.8 22.3 \" fill=\"#FF0000\"/>\n",
       "<path class=\"atom-12\" d=\"M 373.2 102.7 Q 373.2 99.3, 374.9 97.4 Q 376.6 95.4, 379.8 95.4 Q 382.9 95.4, 384.6 97.4 Q 386.3 99.3, 386.3 102.7 Q 386.3 106.2, 384.6 108.1 Q 382.9 110.1, 379.8 110.1 Q 376.6 110.1, 374.9 108.1 Q 373.2 106.2, 373.2 102.7 M 379.8 108.5 Q 382.0 108.5, 383.1 107.0 Q 384.3 105.6, 384.3 102.7 Q 384.3 99.9, 383.1 98.5 Q 382.0 97.0, 379.8 97.0 Q 377.6 97.0, 376.4 98.5 Q 375.2 99.9, 375.2 102.7 Q 375.2 105.6, 376.4 107.0 Q 377.6 108.5, 379.8 108.5 \" fill=\"#FF0000\"/>\n",
       "</svg>"
      ],
      "text/plain": [
       "<IPython.core.display.SVG object>"
      ]
     },
     "metadata": {},
     "output_type": "display_data"
    },
    {
     "data": {
      "image/svg+xml": [
       "<svg xmlns=\"http://www.w3.org/2000/svg\" xmlns:rdkit=\"http://www.rdkit.org/xml\" xmlns:xlink=\"http://www.w3.org/1999/xlink\" version=\"1.1\" baseProfile=\"full\" xml:space=\"preserve\" width=\"450px\" height=\"150px\" viewBox=\"0 0 450 150\">\n",
       "<!-- END OF HEADER -->\n",
       "<rect style=\"opacity:1.0;fill:#FFFFFF;stroke:none\" width=\"450.0\" height=\"150.0\" x=\"0.0\" y=\"0.0\"> </rect>\n",
       "<path class=\"bond-0 atom-0 atom-1\" d=\"M 48.5,29.8 L 65.6,63.5\" style=\"fill:none;fill-rule:evenodd;stroke:#000000;stroke-width:2.0px;stroke-linecap:butt;stroke-linejoin:miter;stroke-opacity:1\"/>\n",
       "<path class=\"bond-1 atom-1 atom-2\" d=\"M 65.6,63.5 L 45.0,95.1\" style=\"fill:none;fill-rule:evenodd;stroke:#000000;stroke-width:2.0px;stroke-linecap:butt;stroke-linejoin:miter;stroke-opacity:1\"/>\n",
       "<path class=\"bond-2 atom-1 atom-3\" d=\"M 65.6,63.5 L 103.3,65.6\" style=\"fill:none;fill-rule:evenodd;stroke:#000000;stroke-width:2.0px;stroke-linecap:butt;stroke-linejoin:miter;stroke-opacity:1\"/>\n",
       "<path class=\"bond-3 atom-3 atom-4\" d=\"M 103.3,65.6 L 120.4,99.2\" style=\"fill:none;fill-rule:evenodd;stroke:#000000;stroke-width:2.0px;stroke-linecap:butt;stroke-linejoin:miter;stroke-opacity:1\"/>\n",
       "<path class=\"bond-4 atom-4 atom-5\" d=\"M 120.4,99.2 L 113.9,111.9 L 111.5,110.3 Z\" style=\"fill:#000000;fill-rule:evenodd;fill-opacity:1;stroke:#000000;stroke-width:0.5px;stroke-linecap:butt;stroke-linejoin:miter;stroke-opacity:1;\"/>\n",
       "<path class=\"bond-4 atom-4 atom-5\" d=\"M 113.9,111.9 L 102.6,121.4 L 107.3,124.5 Z\" style=\"fill:#FF0000;fill-rule:evenodd;fill-opacity:1;stroke:#FF0000;stroke-width:0.5px;stroke-linecap:butt;stroke-linejoin:miter;stroke-opacity:1;\"/>\n",
       "<path class=\"bond-4 atom-4 atom-5\" d=\"M 113.9,111.9 L 111.5,110.3 L 102.6,121.4 Z\" style=\"fill:#FF0000;fill-rule:evenodd;fill-opacity:1;stroke:#FF0000;stroke-width:0.5px;stroke-linecap:butt;stroke-linejoin:miter;stroke-opacity:1;\"/>\n",
       "<path class=\"bond-5 atom-4 atom-6\" d=\"M 120.4,99.2 L 158.1,101.3\" style=\"fill:none;fill-rule:evenodd;stroke:#000000;stroke-width:2.0px;stroke-linecap:butt;stroke-linejoin:miter;stroke-opacity:1\"/>\n",
       "<path class=\"bond-6 atom-6 atom-7\" d=\"M 158.1,101.3 L 178.8,69.7\" style=\"fill:none;fill-rule:evenodd;stroke:#000000;stroke-width:2.0px;stroke-linecap:butt;stroke-linejoin:miter;stroke-opacity:1\"/>\n",
       "<path class=\"bond-7 atom-7 atom-8\" d=\"M 178.8,69.7 L 216.5,71.7\" style=\"fill:none;fill-rule:evenodd;stroke:#000000;stroke-width:2.0px;stroke-linecap:butt;stroke-linejoin:miter;stroke-opacity:1\"/>\n",
       "<path class=\"bond-8 atom-8 atom-9\" d=\"M 216.5,71.7 L 223.3,85.3\" style=\"fill:none;fill-rule:evenodd;stroke:#000000;stroke-width:2.0px;stroke-linecap:butt;stroke-linejoin:miter;stroke-opacity:1\"/>\n",
       "<path class=\"bond-8 atom-8 atom-9\" d=\"M 223.3,85.3 L 230.2,98.8\" style=\"fill:none;fill-rule:evenodd;stroke:#0000FF;stroke-width:2.0px;stroke-linecap:butt;stroke-linejoin:miter;stroke-opacity:1\"/>\n",
       "<path class=\"bond-9 atom-9 atom-10\" d=\"M 238.8,105.7 L 255.0,106.6\" style=\"fill:none;fill-rule:evenodd;stroke:#0000FF;stroke-width:2.0px;stroke-linecap:butt;stroke-linejoin:miter;stroke-opacity:1\"/>\n",
       "<path class=\"bond-9 atom-9 atom-10\" d=\"M 255.0,106.6 L 271.2,107.4\" style=\"fill:none;fill-rule:evenodd;stroke:#000000;stroke-width:2.0px;stroke-linecap:butt;stroke-linejoin:miter;stroke-opacity:1\"/>\n",
       "<path class=\"bond-10 atom-10 atom-11\" d=\"M 271.2,107.4 L 288.3,141.1\" style=\"fill:none;fill-rule:evenodd;stroke:#000000;stroke-width:2.0px;stroke-linecap:butt;stroke-linejoin:miter;stroke-opacity:1\"/>\n",
       "<path class=\"bond-10 atom-10 atom-11\" d=\"M 277.8,107.8 L 291.9,135.7\" style=\"fill:none;fill-rule:evenodd;stroke:#000000;stroke-width:2.0px;stroke-linecap:butt;stroke-linejoin:miter;stroke-opacity:1\"/>\n",
       "<path class=\"bond-11 atom-11 atom-12\" d=\"M 288.3,141.1 L 326.0,143.2\" style=\"fill:none;fill-rule:evenodd;stroke:#000000;stroke-width:2.0px;stroke-linecap:butt;stroke-linejoin:miter;stroke-opacity:1\"/>\n",
       "<path class=\"bond-12 atom-12 atom-13\" d=\"M 326.0,143.2 L 346.7,111.5\" style=\"fill:none;fill-rule:evenodd;stroke:#000000;stroke-width:2.0px;stroke-linecap:butt;stroke-linejoin:miter;stroke-opacity:1\"/>\n",
       "<path class=\"bond-12 atom-12 atom-13\" d=\"M 323.1,137.3 L 340.1,111.2\" style=\"fill:none;fill-rule:evenodd;stroke:#000000;stroke-width:2.0px;stroke-linecap:butt;stroke-linejoin:miter;stroke-opacity:1\"/>\n",
       "<path class=\"bond-13 atom-13 atom-14\" d=\"M 346.7,111.5 L 384.4,113.6\" style=\"fill:none;fill-rule:evenodd;stroke:#000000;stroke-width:2.0px;stroke-linecap:butt;stroke-linejoin:miter;stroke-opacity:1\"/>\n",
       "<path class=\"bond-14 atom-14 atom-15\" d=\"M 384.4,113.6 L 405.0,82.0\" style=\"fill:none;fill-rule:evenodd;stroke:#000000;stroke-width:2.0px;stroke-linecap:butt;stroke-linejoin:miter;stroke-opacity:1\"/>\n",
       "<path class=\"bond-14 atom-14 atom-15\" d=\"M 381.4,107.8 L 398.5,81.6\" style=\"fill:none;fill-rule:evenodd;stroke:#000000;stroke-width:2.0px;stroke-linecap:butt;stroke-linejoin:miter;stroke-opacity:1\"/>\n",
       "<path class=\"bond-15 atom-15 atom-16\" d=\"M 405.0,82.0 L 387.9,48.3\" style=\"fill:none;fill-rule:evenodd;stroke:#000000;stroke-width:2.0px;stroke-linecap:butt;stroke-linejoin:miter;stroke-opacity:1\"/>\n",
       "<path class=\"bond-16 atom-16 atom-17\" d=\"M 387.9,48.3 L 350.2,46.2\" style=\"fill:none;fill-rule:evenodd;stroke:#000000;stroke-width:2.0px;stroke-linecap:butt;stroke-linejoin:miter;stroke-opacity:1\"/>\n",
       "<path class=\"bond-16 atom-16 atom-17\" d=\"M 384.4,53.8 L 353.2,52.1\" style=\"fill:none;fill-rule:evenodd;stroke:#000000;stroke-width:2.0px;stroke-linecap:butt;stroke-linejoin:miter;stroke-opacity:1\"/>\n",
       "<path class=\"bond-17 atom-17 atom-18\" d=\"M 350.2,46.2 L 342.7,31.3\" style=\"fill:none;fill-rule:evenodd;stroke:#000000;stroke-width:2.0px;stroke-linecap:butt;stroke-linejoin:miter;stroke-opacity:1\"/>\n",
       "<path class=\"bond-17 atom-17 atom-18\" d=\"M 342.7,31.3 L 335.1,16.4\" style=\"fill:none;fill-rule:evenodd;stroke:#00CC00;stroke-width:2.0px;stroke-linecap:butt;stroke-linejoin:miter;stroke-opacity:1\"/>\n",
       "<path class=\"bond-18 atom-17 atom-19\" d=\"M 350.2,46.2 L 329.6,77.9\" style=\"fill:none;fill-rule:evenodd;stroke:#000000;stroke-width:2.0px;stroke-linecap:butt;stroke-linejoin:miter;stroke-opacity:1\"/>\n",
       "<path class=\"bond-19 atom-19 atom-20\" d=\"M 329.6,77.9 L 313.4,77.0\" style=\"fill:none;fill-rule:evenodd;stroke:#000000;stroke-width:2.0px;stroke-linecap:butt;stroke-linejoin:miter;stroke-opacity:1\"/>\n",
       "<path class=\"bond-19 atom-19 atom-20\" d=\"M 313.4,77.0 L 297.2,76.1\" style=\"fill:none;fill-rule:evenodd;stroke:#0000FF;stroke-width:2.0px;stroke-linecap:butt;stroke-linejoin:miter;stroke-opacity:1\"/>\n",
       "<path class=\"bond-19 atom-19 atom-20\" d=\"M 326.0,83.3 L 311.4,82.6\" style=\"fill:none;fill-rule:evenodd;stroke:#000000;stroke-width:2.0px;stroke-linecap:butt;stroke-linejoin:miter;stroke-opacity:1\"/>\n",
       "<path class=\"bond-19 atom-19 atom-20\" d=\"M 311.4,82.6 L 296.9,81.8\" style=\"fill:none;fill-rule:evenodd;stroke:#0000FF;stroke-width:2.0px;stroke-linecap:butt;stroke-linejoin:miter;stroke-opacity:1\"/>\n",
       "<path class=\"bond-20 atom-9 atom-21\" d=\"M 229.2,112.0 L 221.1,124.5\" style=\"fill:none;fill-rule:evenodd;stroke:#0000FF;stroke-width:2.0px;stroke-linecap:butt;stroke-linejoin:miter;stroke-opacity:1\"/>\n",
       "<path class=\"bond-20 atom-9 atom-21\" d=\"M 221.1,124.5 L 212.9,137.0\" style=\"fill:none;fill-rule:evenodd;stroke:#000000;stroke-width:2.0px;stroke-linecap:butt;stroke-linejoin:miter;stroke-opacity:1\"/>\n",
       "<path class=\"bond-21 atom-21 atom-22\" d=\"M 212.9,137.0 L 175.2,135.0\" style=\"fill:none;fill-rule:evenodd;stroke:#000000;stroke-width:2.0px;stroke-linecap:butt;stroke-linejoin:miter;stroke-opacity:1\"/>\n",
       "<path class=\"bond-22 atom-22 atom-6\" d=\"M 175.2,135.0 L 158.1,101.3\" style=\"fill:none;fill-rule:evenodd;stroke:#000000;stroke-width:2.0px;stroke-linecap:butt;stroke-linejoin:miter;stroke-opacity:1\"/>\n",
       "<path class=\"bond-23 atom-20 atom-10\" d=\"M 287.6,82.4 L 279.4,94.9\" style=\"fill:none;fill-rule:evenodd;stroke:#0000FF;stroke-width:2.0px;stroke-linecap:butt;stroke-linejoin:miter;stroke-opacity:1\"/>\n",
       "<path class=\"bond-23 atom-20 atom-10\" d=\"M 279.4,94.9 L 271.2,107.4\" style=\"fill:none;fill-rule:evenodd;stroke:#000000;stroke-width:2.0px;stroke-linecap:butt;stroke-linejoin:miter;stroke-opacity:1\"/>\n",
       "<path class=\"bond-24 atom-19 atom-13\" d=\"M 329.6,77.9 L 346.7,111.5\" style=\"fill:none;fill-rule:evenodd;stroke:#000000;stroke-width:2.0px;stroke-linecap:butt;stroke-linejoin:miter;stroke-opacity:1\"/>\n",
       "<path d=\"M 101.4,65.5 L 103.3,65.6 L 104.2,67.2\" style=\"fill:none;stroke:#000000;stroke-width:2.0px;stroke-linecap:butt;stroke-linejoin:miter;stroke-opacity:1;\"/>\n",
       "<path d=\"M 119.6,97.6 L 120.4,99.2 L 122.3,99.4\" style=\"fill:none;stroke:#000000;stroke-width:2.0px;stroke-linecap:butt;stroke-linejoin:miter;stroke-opacity:1;\"/>\n",
       "<path d=\"M 177.7,71.2 L 178.8,69.7 L 180.6,69.8\" style=\"fill:none;stroke:#000000;stroke-width:2.0px;stroke-linecap:butt;stroke-linejoin:miter;stroke-opacity:1;\"/>\n",
       "<path d=\"M 214.6,71.6 L 216.5,71.7 L 216.8,72.4\" style=\"fill:none;stroke:#000000;stroke-width:2.0px;stroke-linecap:butt;stroke-linejoin:miter;stroke-opacity:1;\"/>\n",
       "<path d=\"M 287.5,139.4 L 288.3,141.1 L 290.2,141.2\" style=\"fill:none;stroke:#000000;stroke-width:2.0px;stroke-linecap:butt;stroke-linejoin:miter;stroke-opacity:1;\"/>\n",
       "<path d=\"M 324.2,143.1 L 326.0,143.2 L 327.1,141.6\" style=\"fill:none;stroke:#000000;stroke-width:2.0px;stroke-linecap:butt;stroke-linejoin:miter;stroke-opacity:1;\"/>\n",
       "<path d=\"M 382.5,113.5 L 384.4,113.6 L 385.4,112.0\" style=\"fill:none;stroke:#000000;stroke-width:2.0px;stroke-linecap:butt;stroke-linejoin:miter;stroke-opacity:1;\"/>\n",
       "<path d=\"M 404.0,83.5 L 405.0,82.0 L 404.2,80.3\" style=\"fill:none;stroke:#000000;stroke-width:2.0px;stroke-linecap:butt;stroke-linejoin:miter;stroke-opacity:1;\"/>\n",
       "<path d=\"M 388.8,50.0 L 387.9,48.3 L 386.0,48.2\" style=\"fill:none;stroke:#000000;stroke-width:2.0px;stroke-linecap:butt;stroke-linejoin:miter;stroke-opacity:1;\"/>\n",
       "<path d=\"M 213.3,136.4 L 212.9,137.0 L 211.0,136.9\" style=\"fill:none;stroke:#000000;stroke-width:2.0px;stroke-linecap:butt;stroke-linejoin:miter;stroke-opacity:1;\"/>\n",
       "<path d=\"M 177.1,135.1 L 175.2,135.0 L 174.3,133.3\" style=\"fill:none;stroke:#000000;stroke-width:2.0px;stroke-linecap:butt;stroke-linejoin:miter;stroke-opacity:1;\"/>\n",
       "<path class=\"atom-5\" d=\"M 84.3 125.6 L 85.8 125.6 L 85.8 130.1 L 91.2 130.1 L 91.2 125.6 L 92.7 125.6 L 92.7 136.3 L 91.2 136.3 L 91.2 131.3 L 85.8 131.3 L 85.8 136.3 L 84.3 136.3 L 84.3 125.6 \" fill=\"#FF0000\"/>\n",
       "<path class=\"atom-5\" d=\"M 94.9 130.9 Q 94.9 128.3, 96.1 126.9 Q 97.4 125.5, 99.8 125.5 Q 102.2 125.5, 103.4 126.9 Q 104.7 128.3, 104.7 130.9 Q 104.7 133.5, 103.4 135.0 Q 102.1 136.5, 99.8 136.5 Q 97.4 136.5, 96.1 135.0 Q 94.9 133.5, 94.9 130.9 M 99.8 135.2 Q 101.4 135.2, 102.3 134.2 Q 103.2 133.1, 103.2 130.9 Q 103.2 128.8, 102.3 127.8 Q 101.4 126.7, 99.8 126.7 Q 98.1 126.7, 97.3 127.7 Q 96.4 128.8, 96.4 130.9 Q 96.4 133.1, 97.3 134.2 Q 98.1 135.2, 99.8 135.2 \" fill=\"#FF0000\"/>\n",
       "<path class=\"atom-9\" d=\"M 231.2 100.1 L 234.7 105.7 Q 235.0 106.3, 235.6 107.3 Q 236.1 108.3, 236.2 108.4 L 236.2 100.1 L 237.6 100.1 L 237.6 110.7 L 236.1 110.7 L 232.4 104.6 Q 231.9 103.8, 231.5 103.0 Q 231.0 102.2, 230.9 101.9 L 230.9 110.7 L 229.5 110.7 L 229.5 100.1 L 231.2 100.1 \" fill=\"#0000FF\"/>\n",
       "<path class=\"atom-18\" d=\"M 323.1 12.9 Q 323.1 10.3, 324.4 8.9 Q 325.6 7.5, 328.0 7.5 Q 330.2 7.5, 331.4 9.0 L 330.4 9.8 Q 329.5 8.7, 328.0 8.7 Q 326.4 8.7, 325.5 9.8 Q 324.7 10.9, 324.7 12.9 Q 324.7 15.0, 325.5 16.1 Q 326.4 17.2, 328.1 17.2 Q 329.3 17.2, 330.7 16.5 L 331.1 17.6 Q 330.6 18.0, 329.7 18.2 Q 328.9 18.4, 327.9 18.4 Q 325.6 18.4, 324.4 17.0 Q 323.1 15.6, 323.1 12.9 \" fill=\"#00CC00\"/>\n",
       "<path class=\"atom-18\" d=\"M 332.4 6.8 L 333.8 6.8 L 333.8 18.3 L 332.4 18.3 L 332.4 6.8 \" fill=\"#00CC00\"/>\n",
       "<path class=\"atom-20\" d=\"M 289.5 70.5 L 293.0 76.1 Q 293.4 76.7, 293.9 77.7 Q 294.5 78.7, 294.5 78.8 L 294.5 70.5 L 295.9 70.5 L 295.9 81.2 L 294.5 81.2 L 290.7 75.0 Q 290.3 74.2, 289.8 73.4 Q 289.3 72.6, 289.2 72.3 L 289.2 81.2 L 287.8 81.2 L 287.8 70.5 L 289.5 70.5 \" fill=\"#0000FF\"/>\n",
       "</svg>"
      ],
      "text/plain": [
       "<IPython.core.display.SVG object>"
      ]
     },
     "metadata": {},
     "output_type": "display_data"
    },
    {
     "data": {
      "image/svg+xml": [
       "<svg xmlns=\"http://www.w3.org/2000/svg\" xmlns:rdkit=\"http://www.rdkit.org/xml\" xmlns:xlink=\"http://www.w3.org/1999/xlink\" version=\"1.1\" baseProfile=\"full\" xml:space=\"preserve\" width=\"450px\" height=\"150px\" viewBox=\"0 0 450 150\">\n",
       "<!-- END OF HEADER -->\n",
       "<rect style=\"opacity:1.0;fill:#FFFFFF;stroke:none\" width=\"450.0\" height=\"150.0\" x=\"0.0\" y=\"0.0\"> </rect>\n",
       "<path class=\"bond-0 atom-0 atom-1\" d=\"M 205.8,134.5 L 211.4,126.5\" style=\"fill:none;fill-rule:evenodd;stroke:#FF0000;stroke-width:2.0px;stroke-linecap:butt;stroke-linejoin:miter;stroke-opacity:1\"/>\n",
       "<path class=\"bond-0 atom-0 atom-1\" d=\"M 211.4,126.5 L 217.0,118.6\" style=\"fill:none;fill-rule:evenodd;stroke:#000000;stroke-width:2.0px;stroke-linecap:butt;stroke-linejoin:miter;stroke-opacity:1\"/>\n",
       "<path class=\"bond-0 atom-0 atom-1\" d=\"M 208.7,136.5 L 214.3,128.6\" style=\"fill:none;fill-rule:evenodd;stroke:#FF0000;stroke-width:2.0px;stroke-linecap:butt;stroke-linejoin:miter;stroke-opacity:1\"/>\n",
       "<path class=\"bond-0 atom-0 atom-1\" d=\"M 214.3,128.6 L 219.9,120.6\" style=\"fill:none;fill-rule:evenodd;stroke:#000000;stroke-width:2.0px;stroke-linecap:butt;stroke-linejoin:miter;stroke-opacity:1\"/>\n",
       "<path class=\"bond-1 atom-1 atom-2\" d=\"M 218.0,120.3 L 241.3,124.2\" style=\"fill:none;fill-rule:evenodd;stroke:#000000;stroke-width:2.0px;stroke-linecap:butt;stroke-linejoin:miter;stroke-opacity:1\"/>\n",
       "<path class=\"bond-2 atom-2 atom-3\" d=\"M 241.3,124.2 L 259.0,108.4\" style=\"fill:none;fill-rule:evenodd;stroke:#000000;stroke-width:2.0px;stroke-linecap:butt;stroke-linejoin:miter;stroke-opacity:1\"/>\n",
       "<path class=\"bond-3 atom-3 atom-4\" d=\"M 259.0,108.4 L 258.4,98.6\" style=\"fill:none;fill-rule:evenodd;stroke:#000000;stroke-width:2.0px;stroke-linecap:butt;stroke-linejoin:miter;stroke-opacity:1\"/>\n",
       "<path class=\"bond-3 atom-3 atom-4\" d=\"M 258.4,98.6 L 257.8,88.9\" style=\"fill:none;fill-rule:evenodd;stroke:#0000FF;stroke-width:2.0px;stroke-linecap:butt;stroke-linejoin:miter;stroke-opacity:1\"/>\n",
       "<path class=\"bond-4 atom-4 atom-5\" d=\"M 265.1,80.6 L 271.7,76.9\" style=\"fill:none;fill-rule:evenodd;stroke:#0000FF;stroke-width:2.0px;stroke-linecap:butt;stroke-linejoin:miter;stroke-opacity:1\"/>\n",
       "<path class=\"bond-4 atom-4 atom-5\" d=\"M 271.7,76.9 L 278.3,73.2\" style=\"fill:none;fill-rule:evenodd;stroke:#000000;stroke-width:2.0px;stroke-linecap:butt;stroke-linejoin:miter;stroke-opacity:1\"/>\n",
       "<path class=\"bond-5 atom-5 atom-6\" d=\"M 278.3,73.2 L 298.6,85.4\" style=\"fill:none;fill-rule:evenodd;stroke:#000000;stroke-width:2.0px;stroke-linecap:butt;stroke-linejoin:miter;stroke-opacity:1\"/>\n",
       "<path class=\"bond-6 atom-6 atom-7\" d=\"M 298.6,85.4 L 300.7,109.0\" style=\"fill:none;fill-rule:evenodd;stroke:#000000;stroke-width:2.0px;stroke-linecap:butt;stroke-linejoin:miter;stroke-opacity:1\"/>\n",
       "<path class=\"bond-6 atom-6 atom-7\" d=\"M 302.4,87.6 L 304.0,106.1\" style=\"fill:none;fill-rule:evenodd;stroke:#000000;stroke-width:2.0px;stroke-linecap:butt;stroke-linejoin:miter;stroke-opacity:1\"/>\n",
       "<path class=\"bond-7 atom-7 atom-8\" d=\"M 300.7,109.0 L 323.8,114.3\" style=\"fill:none;fill-rule:evenodd;stroke:#000000;stroke-width:2.0px;stroke-linecap:butt;stroke-linejoin:miter;stroke-opacity:1\"/>\n",
       "<path class=\"bond-8 atom-8 atom-9\" d=\"M 323.8,114.3 L 335.9,93.9\" style=\"fill:none;fill-rule:evenodd;stroke:#000000;stroke-width:2.0px;stroke-linecap:butt;stroke-linejoin:miter;stroke-opacity:1\"/>\n",
       "<path class=\"bond-8 atom-8 atom-9\" d=\"M 322.1,110.2 L 331.6,94.3\" style=\"fill:none;fill-rule:evenodd;stroke:#000000;stroke-width:2.0px;stroke-linecap:butt;stroke-linejoin:miter;stroke-opacity:1\"/>\n",
       "<path class=\"bond-9 atom-9 atom-10\" d=\"M 335.9,93.9 L 329.8,86.9\" style=\"fill:none;fill-rule:evenodd;stroke:#000000;stroke-width:2.0px;stroke-linecap:butt;stroke-linejoin:miter;stroke-opacity:1\"/>\n",
       "<path class=\"bond-9 atom-9 atom-10\" d=\"M 329.8,86.9 L 323.7,79.9\" style=\"fill:none;fill-rule:evenodd;stroke:#0000FF;stroke-width:2.0px;stroke-linecap:butt;stroke-linejoin:miter;stroke-opacity:1\"/>\n",
       "<path class=\"bond-10 atom-10 atom-11\" d=\"M 321.3,72.0 L 323.5,62.5\" style=\"fill:none;fill-rule:evenodd;stroke:#0000FF;stroke-width:2.0px;stroke-linecap:butt;stroke-linejoin:miter;stroke-opacity:1\"/>\n",
       "<path class=\"bond-10 atom-10 atom-11\" d=\"M 323.5,62.5 L 325.7,53.0\" style=\"fill:none;fill-rule:evenodd;stroke:#000000;stroke-width:2.0px;stroke-linecap:butt;stroke-linejoin:miter;stroke-opacity:1\"/>\n",
       "<path class=\"bond-11 atom-11 atom-12\" d=\"M 325.7,53.0 L 308.3,36.9\" style=\"fill:none;fill-rule:evenodd;stroke:#000000;stroke-width:2.0px;stroke-linecap:butt;stroke-linejoin:miter;stroke-opacity:1\"/>\n",
       "<path class=\"bond-11 atom-11 atom-12\" d=\"M 326.6,49.0 L 312.2,35.7\" style=\"fill:none;fill-rule:evenodd;stroke:#000000;stroke-width:2.0px;stroke-linecap:butt;stroke-linejoin:miter;stroke-opacity:1\"/>\n",
       "<path class=\"bond-12 atom-12 atom-13\" d=\"M 308.3,36.9 L 313.6,13.8\" style=\"fill:none;fill-rule:evenodd;stroke:#000000;stroke-width:2.0px;stroke-linecap:butt;stroke-linejoin:miter;stroke-opacity:1\"/>\n",
       "<path class=\"bond-13 atom-13 atom-14\" d=\"M 313.6,13.8 L 336.2,6.8\" style=\"fill:none;fill-rule:evenodd;stroke:#000000;stroke-width:2.0px;stroke-linecap:butt;stroke-linejoin:miter;stroke-opacity:1\"/>\n",
       "<path class=\"bond-13 atom-13 atom-14\" d=\"M 316.6,16.6 L 335.3,10.8\" style=\"fill:none;fill-rule:evenodd;stroke:#000000;stroke-width:2.0px;stroke-linecap:butt;stroke-linejoin:miter;stroke-opacity:1\"/>\n",
       "<path class=\"bond-14 atom-14 atom-15\" d=\"M 336.2,6.8 L 353.6,22.9\" style=\"fill:none;fill-rule:evenodd;stroke:#000000;stroke-width:2.0px;stroke-linecap:butt;stroke-linejoin:miter;stroke-opacity:1\"/>\n",
       "<path class=\"bond-15 atom-15 atom-16\" d=\"M 353.6,22.9 L 351.4,32.4\" style=\"fill:none;fill-rule:evenodd;stroke:#000000;stroke-width:2.0px;stroke-linecap:butt;stroke-linejoin:miter;stroke-opacity:1\"/>\n",
       "<path class=\"bond-15 atom-15 atom-16\" d=\"M 351.4,32.4 L 349.2,41.9\" style=\"fill:none;fill-rule:evenodd;stroke:#0000FF;stroke-width:2.0px;stroke-linecap:butt;stroke-linejoin:miter;stroke-opacity:1\"/>\n",
       "<path class=\"bond-15 atom-15 atom-16\" d=\"M 349.7,24.1 L 347.7,32.6\" style=\"fill:none;fill-rule:evenodd;stroke:#000000;stroke-width:2.0px;stroke-linecap:butt;stroke-linejoin:miter;stroke-opacity:1\"/>\n",
       "<path class=\"bond-15 atom-15 atom-16\" d=\"M 347.7,32.6 L 345.8,41.1\" style=\"fill:none;fill-rule:evenodd;stroke:#0000FF;stroke-width:2.0px;stroke-linecap:butt;stroke-linejoin:miter;stroke-opacity:1\"/>\n",
       "<path class=\"bond-16 atom-4 atom-17\" d=\"M 251.7,80.6 L 244.9,75.8\" style=\"fill:none;fill-rule:evenodd;stroke:#0000FF;stroke-width:2.0px;stroke-linecap:butt;stroke-linejoin:miter;stroke-opacity:1\"/>\n",
       "<path class=\"bond-16 atom-4 atom-17\" d=\"M 244.9,75.8 L 238.2,71.1\" style=\"fill:none;fill-rule:evenodd;stroke:#000000;stroke-width:2.0px;stroke-linecap:butt;stroke-linejoin:miter;stroke-opacity:1\"/>\n",
       "<path class=\"bond-17 atom-17 atom-18\" d=\"M 238.2,71.1 L 215.5,77.7\" style=\"fill:none;fill-rule:evenodd;stroke:#000000;stroke-width:2.0px;stroke-linecap:butt;stroke-linejoin:miter;stroke-opacity:1\"/>\n",
       "<path class=\"bond-18 atom-18 atom-19\" d=\"M 215.5,77.7 L 211.8,86.6\" style=\"fill:none;fill-rule:evenodd;stroke:#000000;stroke-width:2.0px;stroke-linecap:butt;stroke-linejoin:miter;stroke-opacity:1\"/>\n",
       "<path class=\"bond-18 atom-18 atom-19\" d=\"M 211.8,86.6 L 208.2,95.5\" style=\"fill:none;fill-rule:evenodd;stroke:#0000FF;stroke-width:2.0px;stroke-linecap:butt;stroke-linejoin:miter;stroke-opacity:1\"/>\n",
       "<path class=\"bond-19 atom-19 atom-20\" d=\"M 203.1,99.8 L 193.0,100.4\" style=\"fill:none;fill-rule:evenodd;stroke:#0000FF;stroke-width:2.0px;stroke-linecap:butt;stroke-linejoin:miter;stroke-opacity:1\"/>\n",
       "<path class=\"bond-19 atom-19 atom-20\" d=\"M 193.0,100.4 L 182.8,101.0\" style=\"fill:none;fill-rule:evenodd;stroke:#000000;stroke-width:2.0px;stroke-linecap:butt;stroke-linejoin:miter;stroke-opacity:1\"/>\n",
       "<path class=\"bond-20 atom-20 atom-21\" d=\"M 182.8,101.0 L 169.8,81.2\" style=\"fill:none;fill-rule:evenodd;stroke:#000000;stroke-width:2.0px;stroke-linecap:butt;stroke-linejoin:miter;stroke-opacity:1\"/>\n",
       "<path class=\"bond-21 atom-21 atom-22\" d=\"M 169.8,81.2 L 159.9,81.8\" style=\"fill:none;fill-rule:evenodd;stroke:#000000;stroke-width:2.0px;stroke-linecap:butt;stroke-linejoin:miter;stroke-opacity:1\"/>\n",
       "<path class=\"bond-21 atom-21 atom-22\" d=\"M 159.9,81.8 L 150.0,82.4\" style=\"fill:none;fill-rule:evenodd;stroke:#FF0000;stroke-width:2.0px;stroke-linecap:butt;stroke-linejoin:miter;stroke-opacity:1\"/>\n",
       "<path class=\"bond-22 atom-22 atom-23\" d=\"M 143.4,78.5 L 138.2,70.7\" style=\"fill:none;fill-rule:evenodd;stroke:#FF0000;stroke-width:2.0px;stroke-linecap:butt;stroke-linejoin:miter;stroke-opacity:1\"/>\n",
       "<path class=\"bond-22 atom-22 atom-23\" d=\"M 138.2,70.7 L 133.1,62.9\" style=\"fill:none;fill-rule:evenodd;stroke:#000000;stroke-width:2.0px;stroke-linecap:butt;stroke-linejoin:miter;stroke-opacity:1\"/>\n",
       "<path class=\"bond-23 atom-23 atom-24\" d=\"M 133.1,62.9 L 143.7,41.7\" style=\"fill:none;fill-rule:evenodd;stroke:#000000;stroke-width:2.0px;stroke-linecap:butt;stroke-linejoin:miter;stroke-opacity:1\"/>\n",
       "<path class=\"bond-23 atom-23 atom-24\" d=\"M 130.8,59.4 L 139.6,41.9\" style=\"fill:none;fill-rule:evenodd;stroke:#000000;stroke-width:2.0px;stroke-linecap:butt;stroke-linejoin:miter;stroke-opacity:1\"/>\n",
       "<path class=\"bond-24 atom-24 atom-25\" d=\"M 143.7,41.7 L 130.7,21.9\" style=\"fill:none;fill-rule:evenodd;stroke:#000000;stroke-width:2.0px;stroke-linecap:butt;stroke-linejoin:miter;stroke-opacity:1\"/>\n",
       "<path class=\"bond-25 atom-25 atom-26\" d=\"M 130.7,21.9 L 107.0,23.3\" style=\"fill:none;fill-rule:evenodd;stroke:#000000;stroke-width:2.0px;stroke-linecap:butt;stroke-linejoin:miter;stroke-opacity:1\"/>\n",
       "<path class=\"bond-25 atom-25 atom-26\" d=\"M 128.8,25.6 L 109.3,26.7\" style=\"fill:none;fill-rule:evenodd;stroke:#000000;stroke-width:2.0px;stroke-linecap:butt;stroke-linejoin:miter;stroke-opacity:1\"/>\n",
       "<path class=\"bond-26 atom-26 atom-27\" d=\"M 107.0,23.3 L 96.4,44.5\" style=\"fill:none;fill-rule:evenodd;stroke:#000000;stroke-width:2.0px;stroke-linecap:butt;stroke-linejoin:miter;stroke-opacity:1\"/>\n",
       "<path class=\"bond-27 atom-27 atom-28\" d=\"M 96.4,44.5 L 109.4,64.3\" style=\"fill:none;fill-rule:evenodd;stroke:#000000;stroke-width:2.0px;stroke-linecap:butt;stroke-linejoin:miter;stroke-opacity:1\"/>\n",
       "<path class=\"bond-27 atom-27 atom-28\" d=\"M 100.5,44.2 L 111.3,60.6\" style=\"fill:none;fill-rule:evenodd;stroke:#000000;stroke-width:2.0px;stroke-linecap:butt;stroke-linejoin:miter;stroke-opacity:1\"/>\n",
       "<path class=\"bond-28 atom-19 atom-1\" d=\"M 208.8,103.8 L 213.4,112.0\" style=\"fill:none;fill-rule:evenodd;stroke:#0000FF;stroke-width:2.0px;stroke-linecap:butt;stroke-linejoin:miter;stroke-opacity:1\"/>\n",
       "<path class=\"bond-28 atom-19 atom-1\" d=\"M 213.4,112.0 L 218.0,120.3\" style=\"fill:none;fill-rule:evenodd;stroke:#000000;stroke-width:2.0px;stroke-linecap:butt;stroke-linejoin:miter;stroke-opacity:1\"/>\n",
       "<path class=\"bond-29 atom-28 atom-23\" d=\"M 109.4,64.3 L 133.1,62.9\" style=\"fill:none;fill-rule:evenodd;stroke:#000000;stroke-width:2.0px;stroke-linecap:butt;stroke-linejoin:miter;stroke-opacity:1\"/>\n",
       "<path class=\"bond-30 atom-10 atom-6\" d=\"M 317.0,77.5 L 307.8,81.4\" style=\"fill:none;fill-rule:evenodd;stroke:#0000FF;stroke-width:2.0px;stroke-linecap:butt;stroke-linejoin:miter;stroke-opacity:1\"/>\n",
       "<path class=\"bond-30 atom-10 atom-6\" d=\"M 307.8,81.4 L 298.6,85.4\" style=\"fill:none;fill-rule:evenodd;stroke:#000000;stroke-width:2.0px;stroke-linecap:butt;stroke-linejoin:miter;stroke-opacity:1\"/>\n",
       "<path class=\"bond-31 atom-16 atom-11\" d=\"M 345.0,47.1 L 335.3,50.0\" style=\"fill:none;fill-rule:evenodd;stroke:#0000FF;stroke-width:2.0px;stroke-linecap:butt;stroke-linejoin:miter;stroke-opacity:1\"/>\n",
       "<path class=\"bond-31 atom-16 atom-11\" d=\"M 335.3,50.0 L 325.7,53.0\" style=\"fill:none;fill-rule:evenodd;stroke:#000000;stroke-width:2.0px;stroke-linecap:butt;stroke-linejoin:miter;stroke-opacity:1\"/>\n",
       "<path d=\"M 219.1,120.5 L 218.0,120.3 L 217.7,119.9\" style=\"fill:none;stroke:#000000;stroke-width:2.0px;stroke-linecap:butt;stroke-linejoin:miter;stroke-opacity:1;\"/>\n",
       "<path d=\"M 240.2,124.0 L 241.3,124.2 L 242.2,123.4\" style=\"fill:none;stroke:#000000;stroke-width:2.0px;stroke-linecap:butt;stroke-linejoin:miter;stroke-opacity:1;\"/>\n",
       "<path d=\"M 258.1,109.2 L 259.0,108.4 L 258.9,107.9\" style=\"fill:none;stroke:#000000;stroke-width:2.0px;stroke-linecap:butt;stroke-linejoin:miter;stroke-opacity:1;\"/>\n",
       "<path d=\"M 277.9,73.4 L 278.3,73.2 L 279.3,73.8\" style=\"fill:none;stroke:#000000;stroke-width:2.0px;stroke-linecap:butt;stroke-linejoin:miter;stroke-opacity:1;\"/>\n",
       "<path d=\"M 300.6,107.8 L 300.7,109.0 L 301.8,109.2\" style=\"fill:none;stroke:#000000;stroke-width:2.0px;stroke-linecap:butt;stroke-linejoin:miter;stroke-opacity:1;\"/>\n",
       "<path d=\"M 322.6,114.0 L 323.8,114.3 L 324.4,113.2\" style=\"fill:none;stroke:#000000;stroke-width:2.0px;stroke-linecap:butt;stroke-linejoin:miter;stroke-opacity:1;\"/>\n",
       "<path d=\"M 335.3,95.0 L 335.9,93.9 L 335.6,93.6\" style=\"fill:none;stroke:#000000;stroke-width:2.0px;stroke-linecap:butt;stroke-linejoin:miter;stroke-opacity:1;\"/>\n",
       "<path d=\"M 309.2,37.7 L 308.3,36.9 L 308.6,35.7\" style=\"fill:none;stroke:#000000;stroke-width:2.0px;stroke-linecap:butt;stroke-linejoin:miter;stroke-opacity:1;\"/>\n",
       "<path d=\"M 313.3,14.9 L 313.6,13.8 L 314.7,13.4\" style=\"fill:none;stroke:#000000;stroke-width:2.0px;stroke-linecap:butt;stroke-linejoin:miter;stroke-opacity:1;\"/>\n",
       "<path d=\"M 335.1,7.2 L 336.2,6.8 L 337.1,7.6\" style=\"fill:none;stroke:#000000;stroke-width:2.0px;stroke-linecap:butt;stroke-linejoin:miter;stroke-opacity:1;\"/>\n",
       "<path d=\"M 352.7,22.1 L 353.6,22.9 L 353.5,23.4\" style=\"fill:none;stroke:#000000;stroke-width:2.0px;stroke-linecap:butt;stroke-linejoin:miter;stroke-opacity:1;\"/>\n",
       "<path d=\"M 238.5,71.3 L 238.2,71.1 L 237.1,71.4\" style=\"fill:none;stroke:#000000;stroke-width:2.0px;stroke-linecap:butt;stroke-linejoin:miter;stroke-opacity:1;\"/>\n",
       "<path d=\"M 216.6,77.4 L 215.5,77.7 L 215.3,78.2\" style=\"fill:none;stroke:#000000;stroke-width:2.0px;stroke-linecap:butt;stroke-linejoin:miter;stroke-opacity:1;\"/>\n",
       "<path d=\"M 183.3,101.0 L 182.8,101.0 L 182.2,100.0\" style=\"fill:none;stroke:#000000;stroke-width:2.0px;stroke-linecap:butt;stroke-linejoin:miter;stroke-opacity:1;\"/>\n",
       "<path d=\"M 170.4,82.2 L 169.8,81.2 L 169.3,81.3\" style=\"fill:none;stroke:#000000;stroke-width:2.0px;stroke-linecap:butt;stroke-linejoin:miter;stroke-opacity:1;\"/>\n",
       "<path d=\"M 143.2,42.8 L 143.7,41.7 L 143.1,40.7\" style=\"fill:none;stroke:#000000;stroke-width:2.0px;stroke-linecap:butt;stroke-linejoin:miter;stroke-opacity:1;\"/>\n",
       "<path d=\"M 131.3,22.9 L 130.7,21.9 L 129.5,22.0\" style=\"fill:none;stroke:#000000;stroke-width:2.0px;stroke-linecap:butt;stroke-linejoin:miter;stroke-opacity:1;\"/>\n",
       "<path d=\"M 108.2,23.2 L 107.0,23.3 L 106.5,24.4\" style=\"fill:none;stroke:#000000;stroke-width:2.0px;stroke-linecap:butt;stroke-linejoin:miter;stroke-opacity:1;\"/>\n",
       "<path d=\"M 96.9,43.4 L 96.4,44.5 L 97.1,45.5\" style=\"fill:none;stroke:#000000;stroke-width:2.0px;stroke-linecap:butt;stroke-linejoin:miter;stroke-opacity:1;\"/>\n",
       "<path d=\"M 108.8,63.3 L 109.4,64.3 L 110.6,64.2\" style=\"fill:none;stroke:#000000;stroke-width:2.0px;stroke-linecap:butt;stroke-linejoin:miter;stroke-opacity:1;\"/>\n",
       "<path class=\"atom-0\" d=\"M 201.3 139.7 Q 201.3 138.1, 202.0 137.2 Q 202.8 136.3, 204.3 136.3 Q 205.8 136.3, 206.6 137.2 Q 207.4 138.1, 207.4 139.7 Q 207.4 141.3, 206.6 142.3 Q 205.8 143.2, 204.3 143.2 Q 202.9 143.2, 202.0 142.3 Q 201.3 141.3, 201.3 139.7 M 204.3 142.4 Q 205.4 142.4, 205.9 141.7 Q 206.5 141.0, 206.5 139.7 Q 206.5 138.4, 205.9 137.7 Q 205.4 137.1, 204.3 137.1 Q 203.3 137.1, 202.7 137.7 Q 202.2 138.4, 202.2 139.7 Q 202.2 141.1, 202.7 141.7 Q 203.3 142.4, 204.3 142.4 \" fill=\"#FF0000\"/>\n",
       "<path class=\"atom-4\" d=\"M 248.5 81.4 L 249.4 81.4 L 249.4 84.2 L 252.8 84.2 L 252.8 81.4 L 253.7 81.4 L 253.7 88.1 L 252.8 88.1 L 252.8 85.0 L 249.4 85.0 L 249.4 88.1 L 248.5 88.1 L 248.5 81.4 \" fill=\"#0000FF\"/>\n",
       "<path class=\"atom-4\" d=\"M 256.1 81.4 L 258.3 84.9 Q 258.5 85.3, 258.8 85.9 Q 259.2 86.6, 259.2 86.6 L 259.2 81.4 L 260.1 81.4 L 260.1 88.1 L 259.2 88.1 L 256.8 84.2 Q 256.6 83.8, 256.3 83.2 Q 256.0 82.7, 255.9 82.6 L 255.9 88.1 L 255.0 88.1 L 255.0 81.4 L 256.1 81.4 \" fill=\"#0000FF\"/>\n",
       "<path class=\"atom-4\" d=\"M 261.4 82.6 L 262.6 82.6 L 262.6 81.3 L 263.1 81.3 L 263.1 82.6 L 264.3 82.6 L 264.3 83.0 L 263.1 83.0 L 263.1 84.3 L 262.6 84.3 L 262.6 83.0 L 261.4 83.0 L 261.4 82.6 \" fill=\"#0000FF\"/>\n",
       "<path class=\"atom-10\" d=\"M 318.9 72.7 L 321.1 76.3 Q 321.3 76.6, 321.7 77.3 Q 322.0 77.9, 322.0 77.9 L 322.0 72.7 L 322.9 72.7 L 322.9 79.4 L 322.0 79.4 L 319.6 75.6 Q 319.4 75.1, 319.1 74.6 Q 318.8 74.1, 318.7 73.9 L 318.7 79.4 L 317.8 79.4 L 317.8 72.7 L 318.9 72.7 \" fill=\"#0000FF\"/>\n",
       "<path class=\"atom-16\" d=\"M 346.8 42.7 L 349.0 46.2 Q 349.2 46.6, 349.6 47.2 Q 349.9 47.9, 350.0 47.9 L 350.0 42.7 L 350.8 42.7 L 350.8 49.4 L 349.9 49.4 L 347.6 45.5 Q 347.3 45.0, 347.0 44.5 Q 346.7 44.0, 346.6 43.8 L 346.6 49.4 L 345.8 49.4 L 345.8 42.7 L 346.8 42.7 \" fill=\"#0000FF\"/>\n",
       "<path class=\"atom-19\" d=\"M 205.0 96.3 L 207.2 99.8 Q 207.4 100.2, 207.7 100.8 Q 208.1 101.4, 208.1 101.5 L 208.1 96.3 L 209.0 96.3 L 209.0 103.0 L 208.1 103.0 L 205.7 99.1 Q 205.4 98.6, 205.2 98.1 Q 204.9 97.6, 204.8 97.4 L 204.8 103.0 L 203.9 103.0 L 203.9 96.3 L 205.0 96.3 \" fill=\"#0000FF\"/>\n",
       "<path class=\"atom-22\" d=\"M 143.1 82.7 Q 143.1 81.1, 143.8 80.2 Q 144.6 79.3, 146.1 79.3 Q 147.6 79.3, 148.4 80.2 Q 149.2 81.1, 149.2 82.7 Q 149.2 84.3, 148.4 85.2 Q 147.6 86.1, 146.1 86.1 Q 144.7 86.1, 143.8 85.2 Q 143.1 84.3, 143.1 82.7 M 146.1 85.4 Q 147.2 85.4, 147.7 84.7 Q 148.3 84.0, 148.3 82.7 Q 148.3 81.4, 147.7 80.7 Q 147.2 80.0, 146.1 80.0 Q 145.1 80.0, 144.5 80.7 Q 144.0 81.3, 144.0 82.7 Q 144.0 84.0, 144.5 84.7 Q 145.1 85.4, 146.1 85.4 \" fill=\"#FF0000\"/>\n",
       "</svg>"
      ],
      "text/plain": [
       "<IPython.core.display.SVG object>"
      ]
     },
     "metadata": {},
     "output_type": "display_data"
    }
   ],
   "source": [
    "for m in np.random.choice(all_mols, size=10, replace=False):\n",
    "    IPython.display.display(plot_molecule(m))"
   ]
  },
  {
   "cell_type": "markdown",
   "id": "527d8a8e",
   "metadata": {},
   "source": [
    "### Quantify different attributes"
   ]
  },
  {
   "cell_type": "markdown",
   "id": "1ef093bd",
   "metadata": {},
   "source": [
    "**Aromaticity**"
   ]
  },
  {
   "cell_type": "code",
   "execution_count": 8,
   "id": "6d5db56c",
   "metadata": {},
   "outputs": [
    {
     "data": {
      "application/vnd.jupyter.widget-view+json": {
       "model_id": "e29aa05ad9ed4b7daee34821dc070485",
       "version_major": 2,
       "version_minor": 0
      },
      "text/plain": [
       "  0%|          | 0/249455 [00:00<?, ?it/s]"
      ]
     },
     "metadata": {},
     "output_type": "display_data"
    }
   ],
   "source": [
    "aro = [any(a.GetIsAromatic() for a in m.GetAtoms()) for m in tqdm.notebook.tqdm(all_mols)]"
   ]
  },
  {
   "cell_type": "code",
   "execution_count": 9,
   "id": "9a20ea49",
   "metadata": {},
   "outputs": [
    {
     "data": {
      "text/plain": [
       "0.9333907919263995"
      ]
     },
     "execution_count": 9,
     "metadata": {},
     "output_type": "execute_result"
    }
   ],
   "source": [
    "np.sum(aro) / len(aro)"
   ]
  },
  {
   "cell_type": "markdown",
   "id": "3cd15586",
   "metadata": {},
   "source": [
    "**Cyclicity**"
   ]
  },
  {
   "cell_type": "code",
   "execution_count": 10,
   "id": "015a5ef3",
   "metadata": {},
   "outputs": [
    {
     "data": {
      "application/vnd.jupyter.widget-view+json": {
       "model_id": "8e8e5c26149a43539028be4c54986201",
       "version_major": 2,
       "version_minor": 0
      },
      "text/plain": [
       "  0%|          | 0/249455 [00:00<?, ?it/s]"
      ]
     },
     "metadata": {},
     "output_type": "display_data"
    }
   ],
   "source": [
    "cyc_num = np.zeros(len(all_graphs), dtype=int)\n",
    "bicyc = np.tile(False, len(all_graphs))\n",
    "for g_i, g in tqdm.notebook.tqdm(enumerate(all_graphs), total=len(all_graphs)):\n",
    "    cycles = nx.cycle_basis(g)\n",
    "    cyc_num[g_i] = len(cycles)\n",
    "    if len(cycles) < 2:\n",
    "        continue\n",
    "    cycles = [set(x) for x in cycles]\n",
    "    for i in range(len(cycles)):\n",
    "        for j in range(i):\n",
    "            if cycles[i] & cycles[j]:\n",
    "                bicyc[g_i] = True"
   ]
  },
  {
   "cell_type": "code",
   "execution_count": 11,
   "id": "63dcba9a",
   "metadata": {},
   "outputs": [
    {
     "data": {
      "text/plain": [
       "(array([0, 1, 2, 3, 4, 5, 6, 7, 8]),\n",
       " array([ 1109, 20544, 83075, 90871, 43435,  9415,   951,    52,     3]))"
      ]
     },
     "execution_count": 11,
     "metadata": {},
     "output_type": "execute_result"
    }
   ],
   "source": [
    "np.unique(cyc_num, return_counts=True)"
   ]
  },
  {
   "cell_type": "code",
   "execution_count": 12,
   "id": "07f32603",
   "metadata": {},
   "outputs": [
    {
     "name": "stdout",
     "output_type": "stream",
     "text": [
      "86198\n",
      "579474\n"
     ]
    }
   ],
   "source": [
    "print(np.sum(bicyc))\n",
    "print(np.sum(cyc_num[cyc_num >= 2]) - np.sum(bicyc))"
   ]
  },
  {
   "cell_type": "markdown",
   "id": "df650e49",
   "metadata": {},
   "source": [
    "**Halogens**"
   ]
  },
  {
   "cell_type": "code",
   "execution_count": 13,
   "id": "5fef2260",
   "metadata": {},
   "outputs": [
    {
     "data": {
      "application/vnd.jupyter.widget-view+json": {
       "model_id": "540f1ad37dfb4549afbcc5fd6aba0511",
       "version_major": 2,
       "version_minor": 0
      },
      "text/plain": [
       "  0%|          | 0/249455 [00:00<?, ?it/s]"
      ]
     },
     "metadata": {},
     "output_type": "display_data"
    }
   ],
   "source": [
    "has_halogen = [any(a.GetAtomicNum() in (9, 17, 35, 53) for a in m.GetAtoms()) for m in tqdm.notebook.tqdm(all_mols)]"
   ]
  },
  {
   "cell_type": "code",
   "execution_count": 14,
   "id": "889a5a46",
   "metadata": {},
   "outputs": [
    {
     "data": {
      "text/plain": [
       "0.35135395161451966"
      ]
     },
     "execution_count": 14,
     "metadata": {},
     "output_type": "execute_result"
    }
   ],
   "source": [
    "np.sum(has_halogen) / len(has_halogen)"
   ]
  },
  {
   "cell_type": "markdown",
   "id": "84c3e02a",
   "metadata": {},
   "source": [
    "**Macrocyclicity**"
   ]
  },
  {
   "cell_type": "code",
   "execution_count": 15,
   "id": "c61872ba",
   "metadata": {},
   "outputs": [
    {
     "data": {
      "application/vnd.jupyter.widget-view+json": {
       "model_id": "a4aca98307b8478d99dcc98455eee09f",
       "version_major": 2,
       "version_minor": 0
      },
      "text/plain": [
       "  0%|          | 0/249455 [00:00<?, ?it/s]"
      ]
     },
     "metadata": {},
     "output_type": "display_data"
    }
   ],
   "source": [
    "has_macrocycle = np.zeros(len(all_mols)).astype(bool)\n",
    "for i, mol in tqdm.notebook.tqdm(enumerate(all_mols), total=len(all_mols)):\n",
    "    for ring in mol.GetRingInfo().AtomRings():\n",
    "        aromatic = all(\n",
    "            mol.GetAtomWithIdx(atom_ind).GetIsAromatic() for atom_ind in ring\n",
    "        )\n",
    "        if not aromatic:\n",
    "            has_macrocycle[i] = True\n",
    "            break"
   ]
  },
  {
   "cell_type": "code",
   "execution_count": 16,
   "id": "7a4c0295",
   "metadata": {},
   "outputs": [
    {
     "data": {
      "text/plain": [
       "0.6488865727285482"
      ]
     },
     "execution_count": 16,
     "metadata": {},
     "output_type": "execute_result"
    }
   ],
   "source": [
    "np.sum(has_macrocycle) / len(has_macrocycle)"
   ]
  },
  {
   "cell_type": "markdown",
   "id": "743faae6",
   "metadata": {},
   "source": [
    "**Heteroaromaticity**"
   ]
  },
  {
   "cell_type": "code",
   "execution_count": 17,
   "id": "9c34b587",
   "metadata": {},
   "outputs": [
    {
     "data": {
      "application/vnd.jupyter.widget-view+json": {
       "model_id": "c317c1479347472bab77b20dd38ef4c8",
       "version_major": 2,
       "version_minor": 0
      },
      "text/plain": [
       "  0%|          | 0/249455 [00:00<?, ?it/s]"
      ]
     },
     "metadata": {},
     "output_type": "display_data"
    }
   ],
   "source": [
    "heteroaromaticity = np.zeros(len(all_mols))\n",
    "for i, mol in tqdm.notebook.tqdm(enumerate(all_mols), total=len(all_mols)):\n",
    "    found_aromatic = False\n",
    "    found_heteroaromatic = False\n",
    "    for ring in mol.GetRingInfo().AtomRings():\n",
    "        aromatic = all(\n",
    "            mol.GetAtomWithIdx(atom_ind).GetIsAromatic() for atom_ind in ring\n",
    "        )\n",
    "        if aromatic:\n",
    "            heteroaromatic = any(\n",
    "                mol.GetAtomWithIdx(atom_ind).GetAtomicNum() != 6 for atom_ind in ring\n",
    "            )\n",
    "            if heteroaromatic:\n",
    "                found_heteroaromatic = True\n",
    "                break\n",
    "            found_aromatic = True\n",
    "    if found_heteroaromatic:\n",
    "        heteroaromaticity[i] = 1\n",
    "    elif found_aromatic:\n",
    "        heteroaromaticity[i] = 0\n",
    "    else:\n",
    "        heteroaromaticity[i] = -1"
   ]
  },
  {
   "cell_type": "code",
   "execution_count": 18,
   "id": "15abcaa5",
   "metadata": {},
   "outputs": [
    {
     "data": {
      "text/plain": [
       "232839"
      ]
     },
     "execution_count": 18,
     "metadata": {},
     "output_type": "execute_result"
    }
   ],
   "source": [
    "np.sum(heteroaromaticity != -1)"
   ]
  },
  {
   "cell_type": "code",
   "execution_count": 19,
   "id": "19bfc39e",
   "metadata": {},
   "outputs": [
    {
     "data": {
      "text/plain": [
       "0.62183740696361"
      ]
     },
     "execution_count": 19,
     "metadata": {},
     "output_type": "execute_result"
    }
   ],
   "source": [
    "np.sum(heteroaromaticity == 1) / np.sum(heteroaromaticity != -1)"
   ]
  }
 ],
 "metadata": {
  "kernelspec": {
   "display_name": "Python 3 (ipykernel)",
   "language": "python",
   "name": "python3"
  },
  "language_info": {
   "codemirror_mode": {
    "name": "ipython",
    "version": 3
   },
   "file_extension": ".py",
   "mimetype": "text/x-python",
   "name": "python",
   "nbconvert_exporter": "python",
   "pygments_lexer": "ipython3",
   "version": "3.8.13"
  }
 },
 "nbformat": 4,
 "nbformat_minor": 5
}
