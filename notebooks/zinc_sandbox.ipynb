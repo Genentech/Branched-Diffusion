{
 "cells": [
  {
   "cell_type": "code",
   "execution_count": 16,
   "id": "35b90ab0",
   "metadata": {},
   "outputs": [],
   "source": [
    "import pandas as pd\n",
    "import rdkit\n",
    "import networkx as nx\n",
    "import matplotlib.pyplot as plt\n",
    "import numpy as np\n",
    "import tqdm.notebook\n",
    "import IPython"
   ]
  },
  {
   "cell_type": "code",
   "execution_count": 2,
   "id": "7332facb",
   "metadata": {},
   "outputs": [],
   "source": [
    "zinc_table = pd.read_csv(\n",
    "    \"/gstore/home/tsenga5/discrete_graph_diffusion/data/250k_rndm_zinc_drugs_clean_3.csv\",\n",
    "    sep=\",\", header=0\n",
    ")\n",
    "zinc_table[\"smiles\"] = zinc_table[\"smiles\"].str.strip()\n",
    "all_smiles = zinc_table[\"smiles\"]"
   ]
  },
  {
   "cell_type": "code",
   "execution_count": 3,
   "id": "7d4a5c8d",
   "metadata": {},
   "outputs": [],
   "source": [
    "def smiles_to_networkx(smiles_string):\n",
    "    mol = rdkit.Chem.MolFromSmiles(smiles_string)\n",
    "    g = nx.Graph()\n",
    "    for atom in mol.GetAtoms():\n",
    "        g.add_node(\n",
    "            atom.GetIdx(),\n",
    "            atomic_num=atom.GetAtomicNum(),\n",
    "            is_aromatic=atom.GetIsAromatic(),\n",
    "            atom_symbol=atom.GetSymbol()\n",
    "        )\n",
    "    for bond in mol.GetBonds():\n",
    "        g.add_edge(\n",
    "            bond.GetBeginAtomIdx(),\n",
    "            bond.GetEndAtomIdx(),\n",
    "            bond_type=bond.GetBondType()\n",
    "        )\n",
    "    return g"
   ]
  },
  {
   "cell_type": "code",
   "execution_count": 14,
   "id": "2e9faf39",
   "metadata": {},
   "outputs": [],
   "source": [
    "ATOM_COLORS = {\n",
    "    \"C\": \"gray\",\n",
    "    \"O\": \"lightcoral\",\n",
    "    \"N\": \"royalblue\"\n",
    "}\n",
    "\n",
    "def plot_molecule_nx(mol_nx):\n",
    "    atoms = nx.get_node_attributes(mol_nx, \"atom_symbol\")\n",
    "    colors = []\n",
    "    for node in mol_nx.nodes():\n",
    "        try:\n",
    "            colors.append(ATOM_COLORS[mol_nx.nodes[node][\"atom_symbol\"]])\n",
    "        except KeyError:\n",
    "            colors.append(\"violet\")\n",
    "    nx.draw(\n",
    "        mol_nx,\n",
    "        labels=atoms,\n",
    "        with_labels=True,\n",
    "        node_color=colors,\n",
    "        node_size=500\n",
    "    )\n",
    "    plt.show()\n",
    "    \n",
    "def plot_molecule(mol):\n",
    "    mc = rdkit.Chem.Mol(mol.ToBinary())\n",
    "    rdkit.Chem.Kekulize(mc)\n",
    "    \n",
    "    drawer = rdkit.Chem.Draw.rdMolDraw2D.MolDraw2DSVG(450, 150)\n",
    "    drawer.DrawMolecule(mc)\n",
    "    drawer.FinishDrawing()\n",
    "    svg = drawer.GetDrawingText()\n",
    "    return IPython.display.SVG(svg.replace(\"svg:\",\"\"))"
   ]
  },
  {
   "cell_type": "code",
   "execution_count": 6,
   "id": "8f43320a",
   "metadata": {},
   "outputs": [
    {
     "data": {
      "application/vnd.jupyter.widget-view+json": {
       "model_id": "f45b5efd7e2f4bcdbb19ea7bfb3cb46c",
       "version_major": 2,
       "version_minor": 0
      },
      "text/plain": [
       "  0%|          | 0/249455 [00:00<?, ?it/s]"
      ]
     },
     "metadata": {},
     "output_type": "display_data"
    }
   ],
   "source": [
    "all_graphs = [\n",
    "    smiles_to_networkx(s) for s in tqdm.notebook.tqdm(all_smiles)\n",
    "]"
   ]
  },
  {
   "cell_type": "code",
   "execution_count": 7,
   "id": "24331122",
   "metadata": {},
   "outputs": [
    {
     "data": {
      "application/vnd.jupyter.widget-view+json": {
       "model_id": "81df3ef3df0b4efcb146343791dafbab",
       "version_major": 2,
       "version_minor": 0
      },
      "text/plain": [
       "  0%|          | 0/249455 [00:00<?, ?it/s]"
      ]
     },
     "metadata": {},
     "output_type": "display_data"
    }
   ],
   "source": [
    "all_mols = [\n",
    "    rdkit.Chem.MolFromSmiles(s) for s in tqdm.notebook.tqdm(all_smiles)\n",
    "]"
   ]
  },
  {
   "cell_type": "code",
   "execution_count": 18,
   "id": "ade8729c",
   "metadata": {
    "scrolled": true
   },
   "outputs": [
    {
     "data": {
      "image/svg+xml": [
       "<svg xmlns=\"http://www.w3.org/2000/svg\" xmlns:rdkit=\"http://www.rdkit.org/xml\" xmlns:xlink=\"http://www.w3.org/1999/xlink\" version=\"1.1\" baseProfile=\"full\" xml:space=\"preserve\" width=\"450px\" height=\"150px\" viewBox=\"0 0 450 150\">\n",
       "<!-- END OF HEADER -->\n",
       "<rect style=\"opacity:1.0;fill:#FFFFFF;stroke:none\" width=\"450.0\" height=\"150.0\" x=\"0.0\" y=\"0.0\"> </rect>\n",
       "<path class=\"bond-0 atom-0 atom-1\" d=\"M 241.8,6.8 L 238.1,36.6\" style=\"fill:none;fill-rule:evenodd;stroke:#000000;stroke-width:2.0px;stroke-linecap:butt;stroke-linejoin:miter;stroke-opacity:1\"/>\n",
       "<path class=\"bond-1 atom-1 atom-2\" d=\"M 238.1,36.6 L 262.9,47.1\" style=\"fill:none;fill-rule:evenodd;stroke:#000000;stroke-width:2.0px;stroke-linecap:butt;stroke-linejoin:miter;stroke-opacity:1\"/>\n",
       "<path class=\"bond-2 atom-1 atom-3\" d=\"M 238.1,36.6 L 210.5,48.2\" style=\"fill:none;fill-rule:evenodd;stroke:#000000;stroke-width:2.0px;stroke-linecap:butt;stroke-linejoin:miter;stroke-opacity:1\"/>\n",
       "<path class=\"bond-3 atom-4 atom-3\" d=\"M 207.5,74.7 L 206.9,74.6\" style=\"fill:none;fill-rule:evenodd;stroke:#000000;stroke-width:1.0px;stroke-linecap:butt;stroke-linejoin:miter;stroke-opacity:1\"/>\n",
       "<path class=\"bond-3 atom-4 atom-3\" d=\"M 208.2,71.4 L 207.1,71.3\" style=\"fill:none;fill-rule:evenodd;stroke:#000000;stroke-width:1.0px;stroke-linecap:butt;stroke-linejoin:miter;stroke-opacity:1\"/>\n",
       "<path class=\"bond-3 atom-4 atom-3\" d=\"M 208.9,68.2 L 207.2,68.0\" style=\"fill:none;fill-rule:evenodd;stroke:#000000;stroke-width:1.0px;stroke-linecap:butt;stroke-linejoin:miter;stroke-opacity:1\"/>\n",
       "<path class=\"bond-3 atom-4 atom-3\" d=\"M 209.5,64.9 L 207.3,64.6\" style=\"fill:none;fill-rule:evenodd;stroke:#000000;stroke-width:1.0px;stroke-linecap:butt;stroke-linejoin:miter;stroke-opacity:1\"/>\n",
       "<path class=\"bond-3 atom-4 atom-3\" d=\"M 210.2,61.6 L 207.5,61.3\" style=\"fill:none;fill-rule:evenodd;stroke:#000000;stroke-width:1.0px;stroke-linecap:butt;stroke-linejoin:miter;stroke-opacity:1\"/>\n",
       "<path class=\"bond-3 atom-4 atom-3\" d=\"M 210.9,58.4 L 207.6,58.0\" style=\"fill:none;fill-rule:evenodd;stroke:#000000;stroke-width:1.0px;stroke-linecap:butt;stroke-linejoin:miter;stroke-opacity:1\"/>\n",
       "<path class=\"bond-3 atom-4 atom-3\" d=\"M 211.6,55.1 L 207.7,54.6\" style=\"fill:none;fill-rule:evenodd;stroke:#000000;stroke-width:1.0px;stroke-linecap:butt;stroke-linejoin:miter;stroke-opacity:1\"/>\n",
       "<path class=\"bond-3 atom-4 atom-3\" d=\"M 212.3,51.8 L 207.9,51.3\" style=\"fill:none;fill-rule:evenodd;stroke:#000000;stroke-width:1.0px;stroke-linecap:butt;stroke-linejoin:miter;stroke-opacity:1\"/>\n",
       "<path class=\"bond-4 atom-4 atom-5\" d=\"M 206.8,78.0 L 179.2,89.6\" style=\"fill:none;fill-rule:evenodd;stroke:#000000;stroke-width:2.0px;stroke-linecap:butt;stroke-linejoin:miter;stroke-opacity:1\"/>\n",
       "<path class=\"bond-5 atom-5 atom-6\" d=\"M 179.2,89.6 L 169.3,82.2\" style=\"fill:none;fill-rule:evenodd;stroke:#000000;stroke-width:2.0px;stroke-linecap:butt;stroke-linejoin:miter;stroke-opacity:1\"/>\n",
       "<path class=\"bond-5 atom-5 atom-6\" d=\"M 169.3,82.2 L 159.5,74.7\" style=\"fill:none;fill-rule:evenodd;stroke:#0000FF;stroke-width:2.0px;stroke-linecap:butt;stroke-linejoin:miter;stroke-opacity:1\"/>\n",
       "<path class=\"bond-6 atom-6 atom-7\" d=\"M 151.1,73.3 L 139.4,78.3\" style=\"fill:none;fill-rule:evenodd;stroke:#0000FF;stroke-width:2.0px;stroke-linecap:butt;stroke-linejoin:miter;stroke-opacity:1\"/>\n",
       "<path class=\"bond-6 atom-6 atom-7\" d=\"M 139.4,78.3 L 127.7,83.2\" style=\"fill:none;fill-rule:evenodd;stroke:#000000;stroke-width:2.0px;stroke-linecap:butt;stroke-linejoin:miter;stroke-opacity:1\"/>\n",
       "<path class=\"bond-7 atom-6 atom-8\" d=\"M 157.1,57.0 L 158.0,49.4\" style=\"fill:none;fill-rule:evenodd;stroke:#0000FF;stroke-width:2.0px;stroke-linecap:butt;stroke-linejoin:miter;stroke-opacity:1\"/>\n",
       "<path class=\"bond-7 atom-6 atom-8\" d=\"M 158.0,49.4 L 159.0,41.8\" style=\"fill:none;fill-rule:evenodd;stroke:#000000;stroke-width:2.0px;stroke-linecap:butt;stroke-linejoin:miter;stroke-opacity:1\"/>\n",
       "<path class=\"bond-8 atom-4 atom-9\" d=\"M 206.8,78.0 L 216.6,85.4\" style=\"fill:none;fill-rule:evenodd;stroke:#000000;stroke-width:2.0px;stroke-linecap:butt;stroke-linejoin:miter;stroke-opacity:1\"/>\n",
       "<path class=\"bond-8 atom-4 atom-9\" d=\"M 216.6,85.4 L 226.5,92.9\" style=\"fill:none;fill-rule:evenodd;stroke:#0000FF;stroke-width:2.0px;stroke-linecap:butt;stroke-linejoin:miter;stroke-opacity:1\"/>\n",
       "<path class=\"bond-9 atom-9 atom-10\" d=\"M 230.6,101.3 L 230.4,113.7\" style=\"fill:none;fill-rule:evenodd;stroke:#0000FF;stroke-width:2.0px;stroke-linecap:butt;stroke-linejoin:miter;stroke-opacity:1\"/>\n",
       "<path class=\"bond-9 atom-9 atom-10\" d=\"M 230.4,113.7 L 230.1,126.0\" style=\"fill:none;fill-rule:evenodd;stroke:#000000;stroke-width:2.0px;stroke-linecap:butt;stroke-linejoin:miter;stroke-opacity:1\"/>\n",
       "<path class=\"bond-10 atom-10 atom-11\" d=\"M 230.1,126.0 L 205.6,143.2\" style=\"fill:none;fill-rule:evenodd;stroke:#000000;stroke-width:2.0px;stroke-linecap:butt;stroke-linejoin:miter;stroke-opacity:1\"/>\n",
       "<path class=\"bond-11 atom-11 atom-12\" d=\"M 205.6,143.2 L 192.7,137.2\" style=\"fill:none;fill-rule:evenodd;stroke:#000000;stroke-width:2.0px;stroke-linecap:butt;stroke-linejoin:miter;stroke-opacity:1\"/>\n",
       "<path class=\"bond-11 atom-11 atom-12\" d=\"M 192.7,137.2 L 179.9,131.2\" style=\"fill:none;fill-rule:evenodd;stroke:#00CC00;stroke-width:2.0px;stroke-linecap:butt;stroke-linejoin:miter;stroke-opacity:1\"/>\n",
       "<path class=\"bond-12 atom-10 atom-13\" d=\"M 230.1,126.0 L 242.2,130.2\" style=\"fill:none;fill-rule:evenodd;stroke:#000000;stroke-width:2.0px;stroke-linecap:butt;stroke-linejoin:miter;stroke-opacity:1\"/>\n",
       "<path class=\"bond-12 atom-10 atom-13\" d=\"M 242.2,130.2 L 254.3,134.4\" style=\"fill:none;fill-rule:evenodd;stroke:#0000FF;stroke-width:2.0px;stroke-linecap:butt;stroke-linejoin:miter;stroke-opacity:1\"/>\n",
       "<path class=\"bond-12 atom-10 atom-13\" d=\"M 234.7,122.9 L 245.2,126.5\" style=\"fill:none;fill-rule:evenodd;stroke:#000000;stroke-width:2.0px;stroke-linecap:butt;stroke-linejoin:miter;stroke-opacity:1\"/>\n",
       "<path class=\"bond-12 atom-10 atom-13\" d=\"M 245.2,126.5 L 255.7,130.1\" style=\"fill:none;fill-rule:evenodd;stroke:#0000FF;stroke-width:2.0px;stroke-linecap:butt;stroke-linejoin:miter;stroke-opacity:1\"/>\n",
       "<path class=\"bond-13 atom-13 atom-14\" d=\"M 262.4,130.6 L 269.5,121.3\" style=\"fill:none;fill-rule:evenodd;stroke:#0000FF;stroke-width:2.0px;stroke-linecap:butt;stroke-linejoin:miter;stroke-opacity:1\"/>\n",
       "<path class=\"bond-13 atom-13 atom-14\" d=\"M 269.5,121.3 L 276.5,111.9\" style=\"fill:none;fill-rule:evenodd;stroke:#000000;stroke-width:2.0px;stroke-linecap:butt;stroke-linejoin:miter;stroke-opacity:1\"/>\n",
       "<path class=\"bond-14 atom-14 atom-15\" d=\"M 276.5,111.9 L 306.4,109.4\" style=\"fill:none;fill-rule:evenodd;stroke:#000000;stroke-width:2.0px;stroke-linecap:butt;stroke-linejoin:miter;stroke-opacity:1\"/>\n",
       "<path class=\"bond-14 atom-14 atom-15\" d=\"M 278.7,107.2 L 303.4,105.1\" style=\"fill:none;fill-rule:evenodd;stroke:#000000;stroke-width:2.0px;stroke-linecap:butt;stroke-linejoin:miter;stroke-opacity:1\"/>\n",
       "<path class=\"bond-15 atom-15 atom-16\" d=\"M 306.4,109.4 L 311.5,98.4\" style=\"fill:none;fill-rule:evenodd;stroke:#000000;stroke-width:2.0px;stroke-linecap:butt;stroke-linejoin:miter;stroke-opacity:1\"/>\n",
       "<path class=\"bond-15 atom-15 atom-16\" d=\"M 311.5,98.4 L 316.7,87.4\" style=\"fill:none;fill-rule:evenodd;stroke:#0000FF;stroke-width:2.0px;stroke-linecap:butt;stroke-linejoin:miter;stroke-opacity:1\"/>\n",
       "<path class=\"bond-16 atom-16 atom-17\" d=\"M 315.5,77.0 L 308.7,67.3\" style=\"fill:none;fill-rule:evenodd;stroke:#0000FF;stroke-width:2.0px;stroke-linecap:butt;stroke-linejoin:miter;stroke-opacity:1\"/>\n",
       "<path class=\"bond-16 atom-16 atom-17\" d=\"M 308.7,67.3 L 302.0,57.6\" style=\"fill:none;fill-rule:evenodd;stroke:#000000;stroke-width:2.0px;stroke-linecap:butt;stroke-linejoin:miter;stroke-opacity:1\"/>\n",
       "<path class=\"bond-16 atom-16 atom-17\" d=\"M 311.8,79.5 L 305.8,70.9\" style=\"fill:none;fill-rule:evenodd;stroke:#0000FF;stroke-width:2.0px;stroke-linecap:butt;stroke-linejoin:miter;stroke-opacity:1\"/>\n",
       "<path class=\"bond-16 atom-16 atom-17\" d=\"M 305.8,70.9 L 299.8,62.3\" style=\"fill:none;fill-rule:evenodd;stroke:#000000;stroke-width:2.0px;stroke-linecap:butt;stroke-linejoin:miter;stroke-opacity:1\"/>\n",
       "<path class=\"bond-17 atom-17 atom-18\" d=\"M 302.0,57.6 L 272.1,60.2\" style=\"fill:none;fill-rule:evenodd;stroke:#000000;stroke-width:2.0px;stroke-linecap:butt;stroke-linejoin:miter;stroke-opacity:1\"/>\n",
       "<path class=\"bond-18 atom-18 atom-19\" d=\"M 272.1,60.2 L 259.4,87.3\" style=\"fill:none;fill-rule:evenodd;stroke:#000000;stroke-width:2.0px;stroke-linecap:butt;stroke-linejoin:miter;stroke-opacity:1\"/>\n",
       "<path class=\"bond-18 atom-18 atom-19\" d=\"M 275.1,64.4 L 264.5,86.9\" style=\"fill:none;fill-rule:evenodd;stroke:#000000;stroke-width:2.0px;stroke-linecap:butt;stroke-linejoin:miter;stroke-opacity:1\"/>\n",
       "<path class=\"bond-19 atom-19 atom-9\" d=\"M 259.4,87.3 L 247.1,91.1\" style=\"fill:none;fill-rule:evenodd;stroke:#000000;stroke-width:2.0px;stroke-linecap:butt;stroke-linejoin:miter;stroke-opacity:1\"/>\n",
       "<path class=\"bond-19 atom-19 atom-9\" d=\"M 247.1,91.1 L 234.9,94.8\" style=\"fill:none;fill-rule:evenodd;stroke:#0000FF;stroke-width:2.0px;stroke-linecap:butt;stroke-linejoin:miter;stroke-opacity:1\"/>\n",
       "<path class=\"bond-20 atom-19 atom-14\" d=\"M 259.4,87.3 L 276.5,111.9\" style=\"fill:none;fill-rule:evenodd;stroke:#000000;stroke-width:2.0px;stroke-linecap:butt;stroke-linejoin:miter;stroke-opacity:1\"/>\n",
       "<path d=\"M 205.4,78.6 L 206.8,78.0 L 207.3,78.4\" style=\"fill:none;stroke:#000000;stroke-width:2.0px;stroke-linecap:butt;stroke-linejoin:miter;stroke-opacity:1;\"/>\n",
       "<path d=\"M 180.6,89.1 L 179.2,89.6 L 178.7,89.3\" style=\"fill:none;stroke:#000000;stroke-width:2.0px;stroke-linecap:butt;stroke-linejoin:miter;stroke-opacity:1;\"/>\n",
       "<path d=\"M 206.8,142.3 L 205.6,143.2 L 204.9,142.9\" style=\"fill:none;stroke:#000000;stroke-width:2.0px;stroke-linecap:butt;stroke-linejoin:miter;stroke-opacity:1;\"/>\n",
       "<path d=\"M 304.9,109.5 L 306.4,109.4 L 306.7,108.8\" style=\"fill:none;stroke:#000000;stroke-width:2.0px;stroke-linecap:butt;stroke-linejoin:miter;stroke-opacity:1;\"/>\n",
       "<path d=\"M 302.3,58.1 L 302.0,57.6 L 300.5,57.8\" style=\"fill:none;stroke:#000000;stroke-width:2.0px;stroke-linecap:butt;stroke-linejoin:miter;stroke-opacity:1;\"/>\n",
       "<path d=\"M 273.6,60.1 L 272.1,60.2 L 271.5,61.5\" style=\"fill:none;stroke:#000000;stroke-width:2.0px;stroke-linecap:butt;stroke-linejoin:miter;stroke-opacity:1;\"/>\n",
       "<path class=\"atom-6\" d=\"M 153.4 67.3 L 156.2 71.8 Q 156.5 72.3, 156.9 73.1 Q 157.3 73.9, 157.4 73.9 L 157.4 67.3 L 158.5 67.3 L 158.5 75.8 L 157.3 75.8 L 154.3 70.9 Q 154.0 70.3, 153.6 69.7 Q 153.3 69.0, 153.2 68.8 L 153.2 75.8 L 152.1 75.8 L 152.1 67.3 L 153.4 67.3 \" fill=\"#0000FF\"/>\n",
       "<path class=\"atom-6\" d=\"M 152.0 58.0 L 153.1 58.0 L 153.1 61.6 L 157.4 61.6 L 157.4 58.0 L 158.6 58.0 L 158.6 66.5 L 157.4 66.5 L 157.4 62.6 L 153.1 62.6 L 153.1 66.5 L 152.0 66.5 L 152.0 58.0 \" fill=\"#0000FF\"/>\n",
       "<path class=\"atom-6\" d=\"M 160.2 59.5 L 161.7 59.5 L 161.7 57.9 L 162.4 57.9 L 162.4 59.5 L 163.9 59.5 L 163.9 60.1 L 162.4 60.1 L 162.4 61.7 L 161.7 61.7 L 161.7 60.1 L 160.2 60.1 L 160.2 59.5 \" fill=\"#0000FF\"/>\n",
       "<path class=\"atom-9\" d=\"M 228.8 91.8 L 231.6 96.3 Q 231.9 96.8, 232.3 97.6 Q 232.8 98.4, 232.8 98.4 L 232.8 91.8 L 233.9 91.8 L 233.9 100.3 L 232.8 100.3 L 229.8 95.4 Q 229.4 94.8, 229.1 94.2 Q 228.7 93.5, 228.6 93.3 L 228.6 100.3 L 227.5 100.3 L 227.5 91.8 L 228.8 91.8 \" fill=\"#0000FF\"/>\n",
       "<path class=\"atom-12\" d=\"M 170.4 130.8 Q 170.4 128.7, 171.4 127.6 Q 172.4 126.4, 174.3 126.4 Q 176.1 126.4, 177.0 127.7 L 176.2 128.3 Q 175.5 127.4, 174.3 127.4 Q 173.0 127.4, 172.3 128.3 Q 171.7 129.1, 171.7 130.8 Q 171.7 132.4, 172.4 133.3 Q 173.1 134.2, 174.4 134.2 Q 175.4 134.2, 176.5 133.6 L 176.8 134.5 Q 176.4 134.8, 175.7 135.0 Q 175.0 135.1, 174.3 135.1 Q 172.4 135.1, 171.4 134.0 Q 170.4 132.9, 170.4 130.8 \" fill=\"#00CC00\"/>\n",
       "<path class=\"atom-12\" d=\"M 177.9 125.9 L 179.0 125.9 L 179.0 135.0 L 177.9 135.0 L 177.9 125.9 \" fill=\"#00CC00\"/>\n",
       "<path class=\"atom-13\" d=\"M 256.6 131.6 L 259.4 136.1 Q 259.6 136.5, 260.1 137.3 Q 260.5 138.1, 260.6 138.2 L 260.6 131.6 L 261.7 131.6 L 261.7 140.1 L 260.5 140.1 L 257.5 135.2 Q 257.2 134.6, 256.8 133.9 Q 256.5 133.3, 256.3 133.1 L 256.3 140.1 L 255.2 140.1 L 255.2 131.6 L 256.6 131.6 \" fill=\"#0000FF\"/>\n",
       "<path class=\"atom-16\" d=\"M 317.2 78.0 L 320.0 82.5 Q 320.3 82.9, 320.7 83.7 Q 321.2 84.5, 321.2 84.6 L 321.2 78.0 L 322.3 78.0 L 322.3 86.5 L 321.2 86.5 L 318.2 81.5 Q 317.8 81.0, 317.5 80.3 Q 317.1 79.6, 317.0 79.4 L 317.0 86.5 L 315.9 86.5 L 315.9 78.0 L 317.2 78.0 \" fill=\"#0000FF\"/>\n",
       "</svg>"
      ],
      "text/plain": [
       "<IPython.core.display.SVG object>"
      ]
     },
     "metadata": {},
     "output_type": "display_data"
    },
    {
     "data": {
      "image/svg+xml": [
       "<svg xmlns=\"http://www.w3.org/2000/svg\" xmlns:rdkit=\"http://www.rdkit.org/xml\" xmlns:xlink=\"http://www.w3.org/1999/xlink\" version=\"1.1\" baseProfile=\"full\" xml:space=\"preserve\" width=\"450px\" height=\"150px\" viewBox=\"0 0 450 150\">\n",
       "<!-- END OF HEADER -->\n",
       "<rect style=\"opacity:1.0;fill:#FFFFFF;stroke:none\" width=\"450.0\" height=\"150.0\" x=\"0.0\" y=\"0.0\"> </rect>\n",
       "<path class=\"bond-0 atom-0 atom-1\" d=\"M 364.4,93.7 L 350.7,88.4\" style=\"fill:none;fill-rule:evenodd;stroke:#000000;stroke-width:2.0px;stroke-linecap:butt;stroke-linejoin:miter;stroke-opacity:1\"/>\n",
       "<path class=\"bond-0 atom-0 atom-1\" d=\"M 350.7,88.4 L 337.1,83.0\" style=\"fill:none;fill-rule:evenodd;stroke:#FF0000;stroke-width:2.0px;stroke-linecap:butt;stroke-linejoin:miter;stroke-opacity:1\"/>\n",
       "<path class=\"bond-1 atom-1 atom-2\" d=\"M 325.5,85.4 L 314.6,94.1\" style=\"fill:none;fill-rule:evenodd;stroke:#FF0000;stroke-width:2.0px;stroke-linecap:butt;stroke-linejoin:miter;stroke-opacity:1\"/>\n",
       "<path class=\"bond-1 atom-1 atom-2\" d=\"M 314.6,94.1 L 303.6,102.9\" style=\"fill:none;fill-rule:evenodd;stroke:#000000;stroke-width:2.0px;stroke-linecap:butt;stroke-linejoin:miter;stroke-opacity:1\"/>\n",
       "<path class=\"bond-2 atom-2 atom-3\" d=\"M 300.7,101.8 L 303.0,116.9\" style=\"fill:none;fill-rule:evenodd;stroke:#000000;stroke-width:2.0px;stroke-linecap:butt;stroke-linejoin:miter;stroke-opacity:1\"/>\n",
       "<path class=\"bond-2 atom-2 atom-3\" d=\"M 303.0,116.9 L 305.3,132.1\" style=\"fill:none;fill-rule:evenodd;stroke:#FF0000;stroke-width:2.0px;stroke-linecap:butt;stroke-linejoin:miter;stroke-opacity:1\"/>\n",
       "<path class=\"bond-2 atom-2 atom-3\" d=\"M 306.0,101.0 L 308.3,116.1\" style=\"fill:none;fill-rule:evenodd;stroke:#000000;stroke-width:2.0px;stroke-linecap:butt;stroke-linejoin:miter;stroke-opacity:1\"/>\n",
       "<path class=\"bond-2 atom-2 atom-3\" d=\"M 308.3,116.1 L 310.6,131.3\" style=\"fill:none;fill-rule:evenodd;stroke:#FF0000;stroke-width:2.0px;stroke-linecap:butt;stroke-linejoin:miter;stroke-opacity:1\"/>\n",
       "<path class=\"bond-3 atom-2 atom-4\" d=\"M 303.6,102.9 L 270.6,89.9\" style=\"fill:none;fill-rule:evenodd;stroke:#000000;stroke-width:2.0px;stroke-linecap:butt;stroke-linejoin:miter;stroke-opacity:1\"/>\n",
       "<path class=\"bond-4 atom-4 atom-5\" d=\"M 270.6,89.9 L 242.9,112.0\" style=\"fill:none;fill-rule:evenodd;stroke:#000000;stroke-width:2.0px;stroke-linecap:butt;stroke-linejoin:miter;stroke-opacity:1\"/>\n",
       "<path class=\"bond-4 atom-4 atom-5\" d=\"M 264.9,87.7 L 241.9,106.0\" style=\"fill:none;fill-rule:evenodd;stroke:#000000;stroke-width:2.0px;stroke-linecap:butt;stroke-linejoin:miter;stroke-opacity:1\"/>\n",
       "<path class=\"bond-5 atom-5 atom-6\" d=\"M 242.9,112.0 L 209.8,99.1\" style=\"fill:none;fill-rule:evenodd;stroke:#000000;stroke-width:2.0px;stroke-linecap:butt;stroke-linejoin:miter;stroke-opacity:1\"/>\n",
       "<path class=\"bond-6 atom-6 atom-7\" d=\"M 209.8,99.1 L 198.5,108.2\" style=\"fill:none;fill-rule:evenodd;stroke:#000000;stroke-width:2.0px;stroke-linecap:butt;stroke-linejoin:miter;stroke-opacity:1\"/>\n",
       "<path class=\"bond-6 atom-6 atom-7\" d=\"M 198.5,108.2 L 187.1,117.2\" style=\"fill:none;fill-rule:evenodd;stroke:#0000FF;stroke-width:2.0px;stroke-linecap:butt;stroke-linejoin:miter;stroke-opacity:1\"/>\n",
       "<path class=\"bond-7 atom-7 atom-8\" d=\"M 177.1,119.2 L 163.1,113.7\" style=\"fill:none;fill-rule:evenodd;stroke:#0000FF;stroke-width:2.0px;stroke-linecap:butt;stroke-linejoin:miter;stroke-opacity:1\"/>\n",
       "<path class=\"bond-7 atom-7 atom-8\" d=\"M 163.1,113.7 L 149.1,108.2\" style=\"fill:none;fill-rule:evenodd;stroke:#000000;stroke-width:2.0px;stroke-linecap:butt;stroke-linejoin:miter;stroke-opacity:1\"/>\n",
       "<path class=\"bond-8 atom-8 atom-9\" d=\"M 149.1,108.2 L 119.2,127.3\" style=\"fill:none;fill-rule:evenodd;stroke:#000000;stroke-width:2.0px;stroke-linecap:butt;stroke-linejoin:miter;stroke-opacity:1\"/>\n",
       "<path class=\"bond-9 atom-9 atom-10\" d=\"M 119.2,127.3 L 91.8,104.8\" style=\"fill:none;fill-rule:evenodd;stroke:#000000;stroke-width:2.0px;stroke-linecap:butt;stroke-linejoin:miter;stroke-opacity:1\"/>\n",
       "<path class=\"bond-9 atom-9 atom-10\" d=\"M 119.6,120.8 L 98.2,103.2\" style=\"fill:none;fill-rule:evenodd;stroke:#000000;stroke-width:2.0px;stroke-linecap:butt;stroke-linejoin:miter;stroke-opacity:1\"/>\n",
       "<path class=\"bond-10 atom-10 atom-11\" d=\"M 91.8,104.8 L 97.1,91.4\" style=\"fill:none;fill-rule:evenodd;stroke:#000000;stroke-width:2.0px;stroke-linecap:butt;stroke-linejoin:miter;stroke-opacity:1\"/>\n",
       "<path class=\"bond-10 atom-10 atom-11\" d=\"M 97.1,91.4 L 102.3,78.0\" style=\"fill:none;fill-rule:evenodd;stroke:#0000FF;stroke-width:2.0px;stroke-linecap:butt;stroke-linejoin:miter;stroke-opacity:1\"/>\n",
       "<path class=\"bond-11 atom-11 atom-12\" d=\"M 100.8,65.6 L 93.2,53.8\" style=\"fill:none;fill-rule:evenodd;stroke:#0000FF;stroke-width:2.0px;stroke-linecap:butt;stroke-linejoin:miter;stroke-opacity:1\"/>\n",
       "<path class=\"bond-11 atom-11 atom-12\" d=\"M 93.2,53.8 L 85.6,41.9\" style=\"fill:none;fill-rule:evenodd;stroke:#000000;stroke-width:2.0px;stroke-linecap:butt;stroke-linejoin:miter;stroke-opacity:1\"/>\n",
       "<path class=\"bond-12 atom-11 atom-13\" d=\"M 109.7,72.1 L 135.2,73.6\" style=\"fill:none;fill-rule:evenodd;stroke:#0000FF;stroke-width:2.0px;stroke-linecap:butt;stroke-linejoin:miter;stroke-opacity:1\"/>\n",
       "<path class=\"bond-13 atom-6 atom-14\" d=\"M 209.8,99.1 L 204.5,64.0\" style=\"fill:none;fill-rule:evenodd;stroke:#000000;stroke-width:2.0px;stroke-linecap:butt;stroke-linejoin:miter;stroke-opacity:1\"/>\n",
       "<path class=\"bond-13 atom-6 atom-14\" d=\"M 214.6,95.3 L 210.3,66.3\" style=\"fill:none;fill-rule:evenodd;stroke:#000000;stroke-width:2.0px;stroke-linecap:butt;stroke-linejoin:miter;stroke-opacity:1\"/>\n",
       "<path class=\"bond-14 atom-14 atom-15\" d=\"M 204.5,64.0 L 232.3,41.9\" style=\"fill:none;fill-rule:evenodd;stroke:#000000;stroke-width:2.0px;stroke-linecap:butt;stroke-linejoin:miter;stroke-opacity:1\"/>\n",
       "<path class=\"bond-15 atom-15 atom-16\" d=\"M 232.3,41.9 L 227.0,6.8\" style=\"fill:none;fill-rule:evenodd;stroke:#000000;stroke-width:2.0px;stroke-linecap:butt;stroke-linejoin:miter;stroke-opacity:1\"/>\n",
       "<path class=\"bond-16 atom-15 atom-17\" d=\"M 232.3,41.9 L 265.3,54.8\" style=\"fill:none;fill-rule:evenodd;stroke:#000000;stroke-width:2.0px;stroke-linecap:butt;stroke-linejoin:miter;stroke-opacity:1\"/>\n",
       "<path class=\"bond-16 atom-15 atom-17\" d=\"M 233.2,48.0 L 260.5,58.7\" style=\"fill:none;fill-rule:evenodd;stroke:#000000;stroke-width:2.0px;stroke-linecap:butt;stroke-linejoin:miter;stroke-opacity:1\"/>\n",
       "<path class=\"bond-17 atom-17 atom-18\" d=\"M 265.3,54.8 L 276.7,45.8\" style=\"fill:none;fill-rule:evenodd;stroke:#000000;stroke-width:2.0px;stroke-linecap:butt;stroke-linejoin:miter;stroke-opacity:1\"/>\n",
       "<path class=\"bond-17 atom-17 atom-18\" d=\"M 276.7,45.8 L 288.0,36.7\" style=\"fill:none;fill-rule:evenodd;stroke:#0000FF;stroke-width:2.0px;stroke-linecap:butt;stroke-linejoin:miter;stroke-opacity:1\"/>\n",
       "<path class=\"bond-18 atom-17 atom-4\" d=\"M 265.3,54.8 L 270.6,89.9\" style=\"fill:none;fill-rule:evenodd;stroke:#000000;stroke-width:2.0px;stroke-linecap:butt;stroke-linejoin:miter;stroke-opacity:1\"/>\n",
       "<path class=\"bond-19 atom-13 atom-8\" d=\"M 141.8,80.1 L 145.4,94.2\" style=\"fill:none;fill-rule:evenodd;stroke:#0000FF;stroke-width:2.0px;stroke-linecap:butt;stroke-linejoin:miter;stroke-opacity:1\"/>\n",
       "<path class=\"bond-19 atom-13 atom-8\" d=\"M 145.4,94.2 L 149.1,108.2\" style=\"fill:none;fill-rule:evenodd;stroke:#000000;stroke-width:2.0px;stroke-linecap:butt;stroke-linejoin:miter;stroke-opacity:1\"/>\n",
       "<path class=\"bond-19 atom-13 atom-8\" d=\"M 136.6,81.5 L 139.8,93.6\" style=\"fill:none;fill-rule:evenodd;stroke:#0000FF;stroke-width:2.0px;stroke-linecap:butt;stroke-linejoin:miter;stroke-opacity:1\"/>\n",
       "<path class=\"bond-19 atom-13 atom-8\" d=\"M 139.8,93.6 L 143.0,105.8\" style=\"fill:none;fill-rule:evenodd;stroke:#000000;stroke-width:2.0px;stroke-linecap:butt;stroke-linejoin:miter;stroke-opacity:1\"/>\n",
       "<path d=\"M 304.2,102.4 L 303.6,102.9 L 302.0,102.2\" style=\"fill:none;stroke:#000000;stroke-width:2.0px;stroke-linecap:butt;stroke-linejoin:miter;stroke-opacity:1;\"/>\n",
       "<path d=\"M 244.2,110.9 L 242.9,112.0 L 241.2,111.4\" style=\"fill:none;stroke:#000000;stroke-width:2.0px;stroke-linecap:butt;stroke-linejoin:miter;stroke-opacity:1;\"/>\n",
       "<path d=\"M 120.7,126.4 L 119.2,127.3 L 117.8,126.2\" style=\"fill:none;stroke:#000000;stroke-width:2.0px;stroke-linecap:butt;stroke-linejoin:miter;stroke-opacity:1;\"/>\n",
       "<path d=\"M 93.2,106.0 L 91.8,104.8 L 92.1,104.2\" style=\"fill:none;stroke:#000000;stroke-width:2.0px;stroke-linecap:butt;stroke-linejoin:miter;stroke-opacity:1;\"/>\n",
       "<path d=\"M 204.8,65.8 L 204.5,64.0 L 205.9,62.9\" style=\"fill:none;stroke:#000000;stroke-width:2.0px;stroke-linecap:butt;stroke-linejoin:miter;stroke-opacity:1;\"/>\n",
       "<path class=\"atom-1\" d=\"M 326.7 80.8 Q 326.7 78.4, 327.9 77.0 Q 329.1 75.7, 331.3 75.7 Q 333.6 75.7, 334.7 77.0 Q 335.9 78.4, 335.9 80.8 Q 335.9 83.2, 334.7 84.6 Q 333.5 86.0, 331.3 86.0 Q 329.1 86.0, 327.9 84.6 Q 326.7 83.2, 326.7 80.8 M 331.3 84.9 Q 332.9 84.9, 333.7 83.8 Q 334.5 82.8, 334.5 80.8 Q 334.5 78.8, 333.7 77.8 Q 332.9 76.8, 331.3 76.8 Q 329.8 76.8, 329.0 77.8 Q 328.1 78.8, 328.1 80.8 Q 328.1 82.8, 329.0 83.8 Q 329.8 84.9, 331.3 84.9 \" fill=\"#FF0000\"/>\n",
       "<path class=\"atom-3\" d=\"M 304.3 138.0 Q 304.3 135.6, 305.5 134.2 Q 306.7 132.9, 308.9 132.9 Q 311.1 132.9, 312.3 134.2 Q 313.5 135.6, 313.5 138.0 Q 313.5 140.4, 312.3 141.8 Q 311.1 143.2, 308.9 143.2 Q 306.7 143.2, 305.5 141.8 Q 304.3 140.4, 304.3 138.0 M 308.9 142.0 Q 310.4 142.0, 311.2 141.0 Q 312.1 140.0, 312.1 138.0 Q 312.1 136.0, 311.2 135.0 Q 310.4 134.0, 308.9 134.0 Q 307.4 134.0, 306.5 135.0 Q 305.7 136.0, 305.7 138.0 Q 305.7 140.0, 306.5 141.0 Q 307.4 142.0, 308.9 142.0 \" fill=\"#FF0000\"/>\n",
       "<path class=\"atom-7\" d=\"M 179.9 116.2 L 183.2 121.5 Q 183.5 122.0, 184.0 123.0 Q 184.6 123.9, 184.6 124.0 L 184.6 116.2 L 185.9 116.2 L 185.9 126.2 L 184.5 126.2 L 181.0 120.4 Q 180.6 119.7, 180.2 118.9 Q 179.7 118.2, 179.6 117.9 L 179.6 126.2 L 178.3 126.2 L 178.3 116.2 L 179.9 116.2 \" fill=\"#0000FF\"/>\n",
       "<path class=\"atom-7\" d=\"M 178.2 127.2 L 179.5 127.2 L 179.5 131.5 L 184.7 131.5 L 184.7 127.2 L 186.0 127.2 L 186.0 137.3 L 184.7 137.3 L 184.7 132.6 L 179.5 132.6 L 179.5 137.3 L 178.2 137.3 L 178.2 127.2 \" fill=\"#0000FF\"/>\n",
       "<path class=\"atom-11\" d=\"M 102.5 66.8 L 105.8 72.1 Q 106.1 72.6, 106.7 73.6 Q 107.2 74.5, 107.2 74.6 L 107.2 66.8 L 108.6 66.8 L 108.6 76.8 L 107.2 76.8 L 103.6 71.0 Q 103.2 70.3, 102.8 69.5 Q 102.4 68.8, 102.2 68.5 L 102.2 76.8 L 100.9 76.8 L 100.9 66.8 L 102.5 66.8 \" fill=\"#0000FF\"/>\n",
       "<path class=\"atom-13\" d=\"M 137.9 68.9 L 141.2 74.2 Q 141.6 74.7, 142.1 75.7 Q 142.6 76.6, 142.6 76.7 L 142.6 68.9 L 144.0 68.9 L 144.0 78.9 L 142.6 78.9 L 139.1 73.1 Q 138.6 72.4, 138.2 71.7 Q 137.8 70.9, 137.7 70.6 L 137.7 78.9 L 136.3 78.9 L 136.3 68.9 L 137.9 68.9 \" fill=\"#0000FF\"/>\n",
       "<path class=\"atom-18\" d=\"M 290.8 27.7 L 294.1 33.0 Q 294.4 33.5, 294.9 34.5 Q 295.5 35.5, 295.5 35.5 L 295.5 27.7 L 296.8 27.7 L 296.8 37.7 L 295.5 37.7 L 291.9 31.9 Q 291.5 31.3, 291.1 30.5 Q 290.6 29.7, 290.5 29.4 L 290.5 37.7 L 289.2 37.7 L 289.2 27.7 L 290.8 27.7 \" fill=\"#0000FF\"/>\n",
       "<path class=\"atom-18\" d=\"M 298.7 27.7 L 300.1 27.7 L 300.1 32.0 L 305.2 32.0 L 305.2 27.7 L 306.6 27.7 L 306.6 37.7 L 305.2 37.7 L 305.2 33.1 L 300.1 33.1 L 300.1 37.7 L 298.7 37.7 L 298.7 27.7 \" fill=\"#0000FF\"/>\n",
       "<path class=\"atom-18\" d=\"M 308.6 37.4 Q 308.8 36.8, 309.4 36.4 Q 310.0 36.1, 310.8 36.1 Q 311.8 36.1, 312.3 36.6 Q 312.9 37.2, 312.9 38.1 Q 312.9 39.1, 312.2 40.0 Q 311.5 40.9, 310.0 42.0 L 313.0 42.0 L 313.0 42.8 L 308.6 42.8 L 308.6 42.1 Q 309.8 41.3, 310.5 40.6 Q 311.3 40.0, 311.6 39.4 Q 312.0 38.8, 312.0 38.2 Q 312.0 37.5, 311.7 37.2 Q 311.3 36.8, 310.8 36.8 Q 310.3 36.8, 309.9 37.0 Q 309.5 37.2, 309.3 37.7 L 308.6 37.4 \" fill=\"#0000FF\"/>\n",
       "</svg>"
      ],
      "text/plain": [
       "<IPython.core.display.SVG object>"
      ]
     },
     "metadata": {},
     "output_type": "display_data"
    },
    {
     "data": {
      "image/svg+xml": [
       "<svg xmlns=\"http://www.w3.org/2000/svg\" xmlns:rdkit=\"http://www.rdkit.org/xml\" xmlns:xlink=\"http://www.w3.org/1999/xlink\" version=\"1.1\" baseProfile=\"full\" xml:space=\"preserve\" width=\"450px\" height=\"150px\" viewBox=\"0 0 450 150\">\n",
       "<!-- END OF HEADER -->\n",
       "<rect style=\"opacity:1.0;fill:#FFFFFF;stroke:none\" width=\"450.0\" height=\"150.0\" x=\"0.0\" y=\"0.0\"> </rect>\n",
       "<path class=\"bond-0 atom-1 atom-0\" d=\"M 214.7,66.0 L 215.4,65.8\" style=\"fill:none;fill-rule:evenodd;stroke:#000000;stroke-width:1.0px;stroke-linecap:butt;stroke-linejoin:miter;stroke-opacity:1\"/>\n",
       "<path class=\"bond-0 atom-1 atom-0\" d=\"M 213.6,62.6 L 214.9,62.4\" style=\"fill:none;fill-rule:evenodd;stroke:#000000;stroke-width:1.0px;stroke-linecap:butt;stroke-linejoin:miter;stroke-opacity:1\"/>\n",
       "<path class=\"bond-0 atom-1 atom-0\" d=\"M 212.6,59.3 L 214.5,58.9\" style=\"fill:none;fill-rule:evenodd;stroke:#000000;stroke-width:1.0px;stroke-linecap:butt;stroke-linejoin:miter;stroke-opacity:1\"/>\n",
       "<path class=\"bond-0 atom-1 atom-0\" d=\"M 211.5,56.0 L 214.1,55.5\" style=\"fill:none;fill-rule:evenodd;stroke:#000000;stroke-width:1.0px;stroke-linecap:butt;stroke-linejoin:miter;stroke-opacity:1\"/>\n",
       "<path class=\"bond-0 atom-1 atom-0\" d=\"M 210.5,52.7 L 213.7,52.0\" style=\"fill:none;fill-rule:evenodd;stroke:#FF0000;stroke-width:1.0px;stroke-linecap:butt;stroke-linejoin:miter;stroke-opacity:1\"/>\n",
       "<path class=\"bond-0 atom-1 atom-0\" d=\"M 209.4,49.4 L 213.3,48.5\" style=\"fill:none;fill-rule:evenodd;stroke:#FF0000;stroke-width:1.0px;stroke-linecap:butt;stroke-linejoin:miter;stroke-opacity:1\"/>\n",
       "<path class=\"bond-0 atom-1 atom-0\" d=\"M 208.4,46.1 L 212.9,45.1\" style=\"fill:none;fill-rule:evenodd;stroke:#FF0000;stroke-width:1.0px;stroke-linecap:butt;stroke-linejoin:miter;stroke-opacity:1\"/>\n",
       "<path class=\"bond-0 atom-1 atom-0\" d=\"M 207.3,42.8 L 212.5,41.6\" style=\"fill:none;fill-rule:evenodd;stroke:#FF0000;stroke-width:1.0px;stroke-linecap:butt;stroke-linejoin:miter;stroke-opacity:1\"/>\n",
       "<path class=\"bond-1 atom-1 atom-2\" d=\"M 215.8,69.3 L 249.5,80.1\" style=\"fill:none;fill-rule:evenodd;stroke:#000000;stroke-width:2.0px;stroke-linecap:butt;stroke-linejoin:miter;stroke-opacity:1\"/>\n",
       "<path class=\"bond-2 atom-2 atom-3\" d=\"M 250.3,83.6 L 250.9,83.4\" style=\"fill:none;fill-rule:evenodd;stroke:#000000;stroke-width:1.0px;stroke-linecap:butt;stroke-linejoin:miter;stroke-opacity:1\"/>\n",
       "<path class=\"bond-2 atom-2 atom-3\" d=\"M 251.2,87.0 L 252.3,86.7\" style=\"fill:none;fill-rule:evenodd;stroke:#000000;stroke-width:1.0px;stroke-linecap:butt;stroke-linejoin:miter;stroke-opacity:1\"/>\n",
       "<path class=\"bond-2 atom-2 atom-3\" d=\"M 252.0,90.5 L 253.7,89.9\" style=\"fill:none;fill-rule:evenodd;stroke:#000000;stroke-width:1.0px;stroke-linecap:butt;stroke-linejoin:miter;stroke-opacity:1\"/>\n",
       "<path class=\"bond-2 atom-2 atom-3\" d=\"M 252.8,93.9 L 255.1,93.2\" style=\"fill:none;fill-rule:evenodd;stroke:#000000;stroke-width:1.0px;stroke-linecap:butt;stroke-linejoin:miter;stroke-opacity:1\"/>\n",
       "<path class=\"bond-2 atom-2 atom-3\" d=\"M 253.7,97.4 L 256.5,96.5\" style=\"fill:none;fill-rule:evenodd;stroke:#000000;stroke-width:1.0px;stroke-linecap:butt;stroke-linejoin:miter;stroke-opacity:1\"/>\n",
       "<path class=\"bond-2 atom-2 atom-3\" d=\"M 254.5,100.9 L 257.8,99.7\" style=\"fill:none;fill-rule:evenodd;stroke:#000000;stroke-width:1.0px;stroke-linecap:butt;stroke-linejoin:miter;stroke-opacity:1\"/>\n",
       "<path class=\"bond-2 atom-2 atom-3\" d=\"M 255.3,104.3 L 259.2,103.0\" style=\"fill:none;fill-rule:evenodd;stroke:#000000;stroke-width:1.0px;stroke-linecap:butt;stroke-linejoin:miter;stroke-opacity:1\"/>\n",
       "<path class=\"bond-2 atom-2 atom-3\" d=\"M 256.1,107.8 L 260.6,106.3\" style=\"fill:none;fill-rule:evenodd;stroke:#000000;stroke-width:1.0px;stroke-linecap:butt;stroke-linejoin:miter;stroke-opacity:1\"/>\n",
       "<path class=\"bond-2 atom-2 atom-3\" d=\"M 257.0,111.2 L 262.0,109.6\" style=\"fill:none;fill-rule:evenodd;stroke:#000000;stroke-width:1.0px;stroke-linecap:butt;stroke-linejoin:miter;stroke-opacity:1\"/>\n",
       "<path class=\"bond-3 atom-3 atom-4\" d=\"M 260.6,113.8 L 296.1,113.7\" style=\"fill:none;fill-rule:evenodd;stroke:#000000;stroke-width:2.0px;stroke-linecap:butt;stroke-linejoin:miter;stroke-opacity:1\"/>\n",
       "<path class=\"bond-4 atom-4 atom-5\" d=\"M 296.1,113.7 L 306.9,79.9\" style=\"fill:none;fill-rule:evenodd;stroke:#000000;stroke-width:2.0px;stroke-linecap:butt;stroke-linejoin:miter;stroke-opacity:1\"/>\n",
       "<path class=\"bond-5 atom-5 atom-6\" d=\"M 306.9,79.9 L 339.2,65.4\" style=\"fill:none;fill-rule:evenodd;stroke:#000000;stroke-width:2.0px;stroke-linecap:butt;stroke-linejoin:miter;stroke-opacity:1\"/>\n",
       "<path class=\"bond-5 atom-5 atom-6\" d=\"M 307.5,73.8 L 334.2,61.8\" style=\"fill:none;fill-rule:evenodd;stroke:#000000;stroke-width:2.0px;stroke-linecap:butt;stroke-linejoin:miter;stroke-opacity:1\"/>\n",
       "<path class=\"bond-6 atom-6 atom-7\" d=\"M 339.2,65.4 L 342.8,30.1\" style=\"fill:none;fill-rule:evenodd;stroke:#000000;stroke-width:2.0px;stroke-linecap:butt;stroke-linejoin:miter;stroke-opacity:1\"/>\n",
       "<path class=\"bond-7 atom-7 atom-8\" d=\"M 342.8,30.1 L 314.0,9.3\" style=\"fill:none;fill-rule:evenodd;stroke:#000000;stroke-width:2.0px;stroke-linecap:butt;stroke-linejoin:miter;stroke-opacity:1\"/>\n",
       "<path class=\"bond-7 atom-7 atom-8\" d=\"M 337.2,32.6 L 313.4,15.5\" style=\"fill:none;fill-rule:evenodd;stroke:#000000;stroke-width:2.0px;stroke-linecap:butt;stroke-linejoin:miter;stroke-opacity:1\"/>\n",
       "<path class=\"bond-8 atom-8 atom-9\" d=\"M 314.0,9.3 L 300.4,15.5\" style=\"fill:none;fill-rule:evenodd;stroke:#000000;stroke-width:2.0px;stroke-linecap:butt;stroke-linejoin:miter;stroke-opacity:1\"/>\n",
       "<path class=\"bond-8 atom-8 atom-9\" d=\"M 300.4,15.5 L 286.7,21.6\" style=\"fill:none;fill-rule:evenodd;stroke:#0000FF;stroke-width:2.0px;stroke-linecap:butt;stroke-linejoin:miter;stroke-opacity:1\"/>\n",
       "<path class=\"bond-9 atom-9 atom-10\" d=\"M 281.1,30.1 L 279.6,44.6\" style=\"fill:none;fill-rule:evenodd;stroke:#0000FF;stroke-width:2.0px;stroke-linecap:butt;stroke-linejoin:miter;stroke-opacity:1\"/>\n",
       "<path class=\"bond-9 atom-9 atom-10\" d=\"M 279.6,44.6 L 278.1,59.2\" style=\"fill:none;fill-rule:evenodd;stroke:#000000;stroke-width:2.0px;stroke-linecap:butt;stroke-linejoin:miter;stroke-opacity:1\"/>\n",
       "<path class=\"bond-9 atom-9 atom-10\" d=\"M 286.4,30.6 L 285.0,43.6\" style=\"fill:none;fill-rule:evenodd;stroke:#0000FF;stroke-width:2.0px;stroke-linecap:butt;stroke-linejoin:miter;stroke-opacity:1\"/>\n",
       "<path class=\"bond-9 atom-9 atom-10\" d=\"M 285.0,43.6 L 283.7,56.6\" style=\"fill:none;fill-rule:evenodd;stroke:#000000;stroke-width:2.0px;stroke-linecap:butt;stroke-linejoin:miter;stroke-opacity:1\"/>\n",
       "<path class=\"bond-10 atom-1 atom-11\" d=\"M 215.8,69.3 L 189.5,93.1\" style=\"fill:none;fill-rule:evenodd;stroke:#000000;stroke-width:2.0px;stroke-linecap:butt;stroke-linejoin:miter;stroke-opacity:1\"/>\n",
       "<path class=\"bond-11 atom-11 atom-12\" d=\"M 189.5,93.1 L 165.7,66.8\" style=\"fill:none;fill-rule:evenodd;stroke:#000000;stroke-width:2.0px;stroke-linecap:butt;stroke-linejoin:miter;stroke-opacity:1\"/>\n",
       "<path class=\"bond-12 atom-12 atom-13\" d=\"M 165.7,66.8 L 131.0,74.3\" style=\"fill:none;fill-rule:evenodd;stroke:#000000;stroke-width:2.0px;stroke-linecap:butt;stroke-linejoin:miter;stroke-opacity:1\"/>\n",
       "<path class=\"bond-12 atom-12 atom-13\" d=\"M 161.6,62.3 L 132.9,68.5\" style=\"fill:none;fill-rule:evenodd;stroke:#000000;stroke-width:2.0px;stroke-linecap:butt;stroke-linejoin:miter;stroke-opacity:1\"/>\n",
       "<path class=\"bond-13 atom-13 atom-14\" d=\"M 131.0,74.3 L 107.2,48.1\" style=\"fill:none;fill-rule:evenodd;stroke:#000000;stroke-width:2.0px;stroke-linecap:butt;stroke-linejoin:miter;stroke-opacity:1\"/>\n",
       "<path class=\"bond-14 atom-14 atom-15\" d=\"M 107.2,48.1 L 118.0,14.3\" style=\"fill:none;fill-rule:evenodd;stroke:#000000;stroke-width:2.0px;stroke-linecap:butt;stroke-linejoin:miter;stroke-opacity:1\"/>\n",
       "<path class=\"bond-14 atom-14 atom-15\" d=\"M 113.2,46.8 L 122.2,18.9\" style=\"fill:none;fill-rule:evenodd;stroke:#000000;stroke-width:2.0px;stroke-linecap:butt;stroke-linejoin:miter;stroke-opacity:1\"/>\n",
       "<path class=\"bond-15 atom-15 atom-16\" d=\"M 118.0,14.3 L 152.7,6.8\" style=\"fill:none;fill-rule:evenodd;stroke:#000000;stroke-width:2.0px;stroke-linecap:butt;stroke-linejoin:miter;stroke-opacity:1\"/>\n",
       "<path class=\"bond-16 atom-16 atom-17\" d=\"M 152.7,6.8 L 176.5,33.1\" style=\"fill:none;fill-rule:evenodd;stroke:#000000;stroke-width:2.0px;stroke-linecap:butt;stroke-linejoin:miter;stroke-opacity:1\"/>\n",
       "<path class=\"bond-16 atom-16 atom-17\" d=\"M 150.8,12.7 L 170.5,34.4\" style=\"fill:none;fill-rule:evenodd;stroke:#000000;stroke-width:2.0px;stroke-linecap:butt;stroke-linejoin:miter;stroke-opacity:1\"/>\n",
       "<path class=\"bond-17 atom-11 atom-18\" d=\"M 189.5,93.1 L 213.3,119.4\" style=\"fill:none;fill-rule:evenodd;stroke:#000000;stroke-width:2.0px;stroke-linecap:butt;stroke-linejoin:miter;stroke-opacity:1\"/>\n",
       "<path class=\"bond-18 atom-18 atom-19\" d=\"M 213.3,119.4 L 187.1,143.2\" style=\"fill:none;fill-rule:evenodd;stroke:#000000;stroke-width:2.0px;stroke-linecap:butt;stroke-linejoin:miter;stroke-opacity:1\"/>\n",
       "<path class=\"bond-19 atom-19 atom-20\" d=\"M 187.1,143.2 L 163.2,116.9\" style=\"fill:none;fill-rule:evenodd;stroke:#000000;stroke-width:2.0px;stroke-linecap:butt;stroke-linejoin:miter;stroke-opacity:1\"/>\n",
       "<path class=\"bond-20 atom-10 atom-2\" d=\"M 278.1,59.2 L 249.5,80.1\" style=\"fill:none;fill-rule:evenodd;stroke:#000000;stroke-width:2.0px;stroke-linecap:butt;stroke-linejoin:miter;stroke-opacity:1\"/>\n",
       "<path class=\"bond-21 atom-20 atom-11\" d=\"M 163.2,116.9 L 189.5,93.1\" style=\"fill:none;fill-rule:evenodd;stroke:#000000;stroke-width:2.0px;stroke-linecap:butt;stroke-linejoin:miter;stroke-opacity:1\"/>\n",
       "<path class=\"bond-22 atom-10 atom-5\" d=\"M 278.1,59.2 L 306.9,79.9\" style=\"fill:none;fill-rule:evenodd;stroke:#000000;stroke-width:2.0px;stroke-linecap:butt;stroke-linejoin:miter;stroke-opacity:1\"/>\n",
       "<path class=\"bond-23 atom-17 atom-12\" d=\"M 176.5,33.1 L 165.7,66.8\" style=\"fill:none;fill-rule:evenodd;stroke:#000000;stroke-width:2.0px;stroke-linecap:butt;stroke-linejoin:miter;stroke-opacity:1\"/>\n",
       "<path d=\"M 217.4,69.8 L 215.8,69.3 L 214.4,70.5\" style=\"fill:none;stroke:#000000;stroke-width:2.0px;stroke-linecap:butt;stroke-linejoin:miter;stroke-opacity:1;\"/>\n",
       "<path d=\"M 247.8,79.6 L 249.5,80.1 L 251.0,79.1\" style=\"fill:none;stroke:#000000;stroke-width:2.0px;stroke-linecap:butt;stroke-linejoin:miter;stroke-opacity:1;\"/>\n",
       "<path d=\"M 294.3,113.7 L 296.1,113.7 L 296.6,112.0\" style=\"fill:none;stroke:#000000;stroke-width:2.0px;stroke-linecap:butt;stroke-linejoin:miter;stroke-opacity:1;\"/>\n",
       "<path d=\"M 337.6,66.1 L 339.2,65.4 L 339.4,63.6\" style=\"fill:none;stroke:#000000;stroke-width:2.0px;stroke-linecap:butt;stroke-linejoin:miter;stroke-opacity:1;\"/>\n",
       "<path d=\"M 342.6,31.8 L 342.8,30.1 L 341.4,29.0\" style=\"fill:none;stroke:#000000;stroke-width:2.0px;stroke-linecap:butt;stroke-linejoin:miter;stroke-opacity:1;\"/>\n",
       "<path d=\"M 315.5,10.4 L 314.0,9.3 L 313.4,9.7\" style=\"fill:none;stroke:#000000;stroke-width:2.0px;stroke-linecap:butt;stroke-linejoin:miter;stroke-opacity:1;\"/>\n",
       "<path d=\"M 132.8,74.0 L 131.0,74.3 L 129.8,73.0\" style=\"fill:none;stroke:#000000;stroke-width:2.0px;stroke-linecap:butt;stroke-linejoin:miter;stroke-opacity:1;\"/>\n",
       "<path d=\"M 108.4,49.4 L 107.2,48.1 L 107.7,46.4\" style=\"fill:none;stroke:#000000;stroke-width:2.0px;stroke-linecap:butt;stroke-linejoin:miter;stroke-opacity:1;\"/>\n",
       "<path d=\"M 117.5,16.0 L 118.0,14.3 L 119.8,13.9\" style=\"fill:none;stroke:#000000;stroke-width:2.0px;stroke-linecap:butt;stroke-linejoin:miter;stroke-opacity:1;\"/>\n",
       "<path d=\"M 151.0,7.2 L 152.7,6.8 L 153.9,8.1\" style=\"fill:none;stroke:#000000;stroke-width:2.0px;stroke-linecap:butt;stroke-linejoin:miter;stroke-opacity:1;\"/>\n",
       "<path d=\"M 175.3,31.8 L 176.5,33.1 L 176.0,34.8\" style=\"fill:none;stroke:#000000;stroke-width:2.0px;stroke-linecap:butt;stroke-linejoin:miter;stroke-opacity:1;\"/>\n",
       "<path d=\"M 212.1,118.0 L 213.3,119.4 L 212.0,120.6\" style=\"fill:none;stroke:#000000;stroke-width:2.0px;stroke-linecap:butt;stroke-linejoin:miter;stroke-opacity:1;\"/>\n",
       "<path d=\"M 188.4,142.0 L 187.1,143.2 L 185.9,141.9\" style=\"fill:none;stroke:#000000;stroke-width:2.0px;stroke-linecap:butt;stroke-linejoin:miter;stroke-opacity:1;\"/>\n",
       "<path d=\"M 164.4,118.2 L 163.2,116.9 L 164.6,115.7\" style=\"fill:none;stroke:#000000;stroke-width:2.0px;stroke-linecap:butt;stroke-linejoin:miter;stroke-opacity:1;\"/>\n",
       "<path class=\"atom-0\" d=\"M 203.6 34.7 Q 203.6 32.2, 204.8 30.9 Q 206.0 29.5, 208.3 29.5 Q 210.5 29.5, 211.7 30.9 Q 212.9 32.2, 212.9 34.7 Q 212.9 37.1, 211.7 38.5 Q 210.5 39.9, 208.3 39.9 Q 206.0 39.9, 204.8 38.5 Q 203.6 37.1, 203.6 34.7 M 208.3 38.7 Q 209.8 38.7, 210.6 37.7 Q 211.4 36.7, 211.4 34.7 Q 211.4 32.7, 210.6 31.7 Q 209.8 30.7, 208.3 30.7 Q 206.7 30.7, 205.9 31.7 Q 205.1 32.7, 205.1 34.7 Q 205.1 36.7, 205.9 37.7 Q 206.7 38.7, 208.3 38.7 \" fill=\"#FF0000\"/>\n",
       "<path class=\"atom-0\" d=\"M 214.4 29.7 L 215.8 29.7 L 215.8 33.9 L 220.9 33.9 L 220.9 29.7 L 222.3 29.7 L 222.3 39.7 L 220.9 39.7 L 220.9 35.1 L 215.8 35.1 L 215.8 39.7 L 214.4 39.7 L 214.4 29.7 \" fill=\"#FF0000\"/>\n",
       "<path class=\"atom-9\" d=\"M 279.5 18.9 L 282.8 24.2 Q 283.1 24.7, 283.6 25.7 Q 284.1 26.6, 284.2 26.7 L 284.2 18.9 L 285.5 18.9 L 285.5 28.9 L 284.1 28.9 L 280.6 23.1 Q 280.2 22.4, 279.8 21.6 Q 279.3 20.8, 279.2 20.6 L 279.2 28.9 L 277.9 28.9 L 277.9 18.9 L 279.5 18.9 \" fill=\"#0000FF\"/>\n",
       "</svg>"
      ],
      "text/plain": [
       "<IPython.core.display.SVG object>"
      ]
     },
     "metadata": {},
     "output_type": "display_data"
    },
    {
     "data": {
      "image/svg+xml": [
       "<svg xmlns=\"http://www.w3.org/2000/svg\" xmlns:rdkit=\"http://www.rdkit.org/xml\" xmlns:xlink=\"http://www.w3.org/1999/xlink\" version=\"1.1\" baseProfile=\"full\" xml:space=\"preserve\" width=\"450px\" height=\"150px\" viewBox=\"0 0 450 150\">\n",
       "<!-- END OF HEADER -->\n",
       "<rect style=\"opacity:1.0;fill:#FFFFFF;stroke:none\" width=\"450.0\" height=\"150.0\" x=\"0.0\" y=\"0.0\"> </rect>\n",
       "<path class=\"bond-0 atom-0 atom-1\" d=\"M 90.4,143.2 L 104.5,140.7\" style=\"fill:none;fill-rule:evenodd;stroke:#000000;stroke-width:2.0px;stroke-linecap:butt;stroke-linejoin:miter;stroke-opacity:1\"/>\n",
       "<path class=\"bond-0 atom-0 atom-1\" d=\"M 104.5,140.7 L 118.5,138.2\" style=\"fill:none;fill-rule:evenodd;stroke:#0000FF;stroke-width:2.0px;stroke-linecap:butt;stroke-linejoin:miter;stroke-opacity:1\"/>\n",
       "<path class=\"bond-1 atom-1 atom-2\" d=\"M 125.3,131.6 L 129.9,118.9\" style=\"fill:none;fill-rule:evenodd;stroke:#0000FF;stroke-width:2.0px;stroke-linecap:butt;stroke-linejoin:miter;stroke-opacity:1\"/>\n",
       "<path class=\"bond-1 atom-1 atom-2\" d=\"M 129.9,118.9 L 134.5,106.2\" style=\"fill:none;fill-rule:evenodd;stroke:#000000;stroke-width:2.0px;stroke-linecap:butt;stroke-linejoin:miter;stroke-opacity:1\"/>\n",
       "<path class=\"bond-2 atom-2 atom-3\" d=\"M 137.4,105.7 L 128.8,95.4\" style=\"fill:none;fill-rule:evenodd;stroke:#000000;stroke-width:2.0px;stroke-linecap:butt;stroke-linejoin:miter;stroke-opacity:1\"/>\n",
       "<path class=\"bond-2 atom-2 atom-3\" d=\"M 128.8,95.4 L 120.1,85.2\" style=\"fill:none;fill-rule:evenodd;stroke:#FF0000;stroke-width:2.0px;stroke-linecap:butt;stroke-linejoin:miter;stroke-opacity:1\"/>\n",
       "<path class=\"bond-2 atom-2 atom-3\" d=\"M 133.6,108.9 L 124.9,98.6\" style=\"fill:none;fill-rule:evenodd;stroke:#000000;stroke-width:2.0px;stroke-linecap:butt;stroke-linejoin:miter;stroke-opacity:1\"/>\n",
       "<path class=\"bond-2 atom-2 atom-3\" d=\"M 124.9,98.6 L 116.3,88.4\" style=\"fill:none;fill-rule:evenodd;stroke:#FF0000;stroke-width:2.0px;stroke-linecap:butt;stroke-linejoin:miter;stroke-opacity:1\"/>\n",
       "<path class=\"bond-3 atom-2 atom-4\" d=\"M 134.5,106.2 L 148.6,103.7\" style=\"fill:none;fill-rule:evenodd;stroke:#000000;stroke-width:2.0px;stroke-linecap:butt;stroke-linejoin:miter;stroke-opacity:1\"/>\n",
       "<path class=\"bond-3 atom-2 atom-4\" d=\"M 148.6,103.7 L 162.6,101.3\" style=\"fill:none;fill-rule:evenodd;stroke:#0000FF;stroke-width:2.0px;stroke-linecap:butt;stroke-linejoin:miter;stroke-opacity:1\"/>\n",
       "<path class=\"bond-4 atom-4 atom-5\" d=\"M 169.4,94.7 L 174.0,81.9\" style=\"fill:none;fill-rule:evenodd;stroke:#0000FF;stroke-width:2.0px;stroke-linecap:butt;stroke-linejoin:miter;stroke-opacity:1\"/>\n",
       "<path class=\"bond-4 atom-4 atom-5\" d=\"M 174.0,81.9 L 178.6,69.2\" style=\"fill:none;fill-rule:evenodd;stroke:#000000;stroke-width:2.0px;stroke-linecap:butt;stroke-linejoin:miter;stroke-opacity:1\"/>\n",
       "<path class=\"bond-5 atom-5 atom-6\" d=\"M 178.6,69.2 L 157.3,43.8\" style=\"fill:none;fill-rule:evenodd;stroke:#000000;stroke-width:2.0px;stroke-linecap:butt;stroke-linejoin:miter;stroke-opacity:1\"/>\n",
       "<path class=\"bond-5 atom-5 atom-6\" d=\"M 180.6,63.8 L 163.0,42.8\" style=\"fill:none;fill-rule:evenodd;stroke:#000000;stroke-width:2.0px;stroke-linecap:butt;stroke-linejoin:miter;stroke-opacity:1\"/>\n",
       "<path class=\"bond-6 atom-6 atom-7\" d=\"M 157.3,43.8 L 168.7,12.6\" style=\"fill:none;fill-rule:evenodd;stroke:#000000;stroke-width:2.0px;stroke-linecap:butt;stroke-linejoin:miter;stroke-opacity:1\"/>\n",
       "<path class=\"bond-7 atom-7 atom-8\" d=\"M 168.7,12.6 L 201.4,6.8\" style=\"fill:none;fill-rule:evenodd;stroke:#000000;stroke-width:2.0px;stroke-linecap:butt;stroke-linejoin:miter;stroke-opacity:1\"/>\n",
       "<path class=\"bond-7 atom-7 atom-8\" d=\"M 172.4,17.0 L 199.4,12.2\" style=\"fill:none;fill-rule:evenodd;stroke:#000000;stroke-width:2.0px;stroke-linecap:butt;stroke-linejoin:miter;stroke-opacity:1\"/>\n",
       "<path class=\"bond-8 atom-8 atom-9\" d=\"M 201.4,6.8 L 222.7,32.3\" style=\"fill:none;fill-rule:evenodd;stroke:#000000;stroke-width:2.0px;stroke-linecap:butt;stroke-linejoin:miter;stroke-opacity:1\"/>\n",
       "<path class=\"bond-9 atom-9 atom-10\" d=\"M 222.7,32.3 L 211.3,63.5\" style=\"fill:none;fill-rule:evenodd;stroke:#000000;stroke-width:2.0px;stroke-linecap:butt;stroke-linejoin:miter;stroke-opacity:1\"/>\n",
       "<path class=\"bond-9 atom-9 atom-10\" d=\"M 217.1,33.3 L 207.7,59.1\" style=\"fill:none;fill-rule:evenodd;stroke:#000000;stroke-width:2.0px;stroke-linecap:butt;stroke-linejoin:miter;stroke-opacity:1\"/>\n",
       "<path class=\"bond-10 atom-10 atom-11\" d=\"M 211.3,63.5 L 219.6,73.3\" style=\"fill:none;fill-rule:evenodd;stroke:#000000;stroke-width:2.0px;stroke-linecap:butt;stroke-linejoin:miter;stroke-opacity:1\"/>\n",
       "<path class=\"bond-10 atom-10 atom-11\" d=\"M 219.6,73.3 L 227.8,83.1\" style=\"fill:none;fill-rule:evenodd;stroke:#FF0000;stroke-width:2.0px;stroke-linecap:butt;stroke-linejoin:miter;stroke-opacity:1\"/>\n",
       "<path class=\"bond-11 atom-11 atom-12\" d=\"M 238.1,88.0 L 251.8,85.6\" style=\"fill:none;fill-rule:evenodd;stroke:#FF0000;stroke-width:2.0px;stroke-linecap:butt;stroke-linejoin:miter;stroke-opacity:1\"/>\n",
       "<path class=\"bond-11 atom-11 atom-12\" d=\"M 251.8,85.6 L 265.4,83.2\" style=\"fill:none;fill-rule:evenodd;stroke:#000000;stroke-width:2.0px;stroke-linecap:butt;stroke-linejoin:miter;stroke-opacity:1\"/>\n",
       "<path class=\"bond-12 atom-12 atom-13\" d=\"M 265.4,83.2 L 286.8,108.6\" style=\"fill:none;fill-rule:evenodd;stroke:#000000;stroke-width:2.0px;stroke-linecap:butt;stroke-linejoin:miter;stroke-opacity:1\"/>\n",
       "<path class=\"bond-13 atom-13 atom-14\" d=\"M 286.8,108.6 L 319.5,102.9\" style=\"fill:none;fill-rule:evenodd;stroke:#000000;stroke-width:2.0px;stroke-linecap:butt;stroke-linejoin:miter;stroke-opacity:1\"/>\n",
       "<path class=\"bond-14 atom-14 atom-15\" d=\"M 319.5,102.9 L 327.8,112.8\" style=\"fill:none;fill-rule:evenodd;stroke:#000000;stroke-width:2.0px;stroke-linecap:butt;stroke-linejoin:miter;stroke-opacity:1\"/>\n",
       "<path class=\"bond-14 atom-14 atom-15\" d=\"M 327.8,112.8 L 336.2,122.8\" style=\"fill:none;fill-rule:evenodd;stroke:#0000FF;stroke-width:2.0px;stroke-linecap:butt;stroke-linejoin:miter;stroke-opacity:1\"/>\n",
       "<path class=\"bond-15 atom-14 atom-16\" d=\"M 321.3,105.1 L 326.2,91.8\" style=\"fill:none;fill-rule:evenodd;stroke:#000000;stroke-width:2.0px;stroke-linecap:butt;stroke-linejoin:miter;stroke-opacity:1\"/>\n",
       "<path class=\"bond-15 atom-14 atom-16\" d=\"M 326.2,91.8 L 331.0,78.5\" style=\"fill:none;fill-rule:evenodd;stroke:#FF0000;stroke-width:2.0px;stroke-linecap:butt;stroke-linejoin:miter;stroke-opacity:1\"/>\n",
       "<path class=\"bond-15 atom-14 atom-16\" d=\"M 316.6,103.4 L 321.5,90.1\" style=\"fill:none;fill-rule:evenodd;stroke:#000000;stroke-width:2.0px;stroke-linecap:butt;stroke-linejoin:miter;stroke-opacity:1\"/>\n",
       "<path class=\"bond-15 atom-14 atom-16\" d=\"M 321.5,90.1 L 326.3,76.8\" style=\"fill:none;fill-rule:evenodd;stroke:#FF0000;stroke-width:2.0px;stroke-linecap:butt;stroke-linejoin:miter;stroke-opacity:1\"/>\n",
       "<path class=\"bond-16 atom-10 atom-5\" d=\"M 211.3,63.5 L 178.6,69.2\" style=\"fill:none;fill-rule:evenodd;stroke:#000000;stroke-width:2.0px;stroke-linecap:butt;stroke-linejoin:miter;stroke-opacity:1\"/>\n",
       "<path d=\"M 134.3,106.8 L 134.5,106.2 L 135.2,106.1\" style=\"fill:none;stroke:#000000;stroke-width:2.0px;stroke-linecap:butt;stroke-linejoin:miter;stroke-opacity:1;\"/>\n",
       "<path d=\"M 158.4,45.1 L 157.3,43.8 L 157.9,42.2\" style=\"fill:none;stroke:#000000;stroke-width:2.0px;stroke-linecap:butt;stroke-linejoin:miter;stroke-opacity:1;\"/>\n",
       "<path d=\"M 168.1,14.1 L 168.7,12.6 L 170.3,12.3\" style=\"fill:none;stroke:#000000;stroke-width:2.0px;stroke-linecap:butt;stroke-linejoin:miter;stroke-opacity:1;\"/>\n",
       "<path d=\"M 199.7,7.1 L 201.4,6.8 L 202.4,8.1\" style=\"fill:none;stroke:#000000;stroke-width:2.0px;stroke-linecap:butt;stroke-linejoin:miter;stroke-opacity:1;\"/>\n",
       "<path d=\"M 221.7,31.0 L 222.7,32.3 L 222.2,33.8\" style=\"fill:none;stroke:#000000;stroke-width:2.0px;stroke-linecap:butt;stroke-linejoin:miter;stroke-opacity:1;\"/>\n",
       "<path d=\"M 264.7,83.3 L 265.4,83.2 L 266.5,84.5\" style=\"fill:none;stroke:#000000;stroke-width:2.0px;stroke-linecap:butt;stroke-linejoin:miter;stroke-opacity:1;\"/>\n",
       "<path d=\"M 285.7,107.4 L 286.8,108.6 L 288.4,108.4\" style=\"fill:none;stroke:#000000;stroke-width:2.0px;stroke-linecap:butt;stroke-linejoin:miter;stroke-opacity:1;\"/>\n",
       "<path d=\"M 317.8,103.2 L 319.5,102.9 L 319.9,103.4\" style=\"fill:none;stroke:#000000;stroke-width:2.0px;stroke-linecap:butt;stroke-linejoin:miter;stroke-opacity:1;\"/>\n",
       "<path class=\"atom-1\" d=\"M 121.1 132.7 L 124.2 137.7 Q 124.5 138.2, 125.0 139.1 Q 125.5 140.0, 125.5 140.0 L 125.5 132.7 L 126.7 132.7 L 126.7 142.1 L 125.4 142.1 L 122.1 136.7 Q 121.8 136.0, 121.3 135.3 Q 120.9 134.6, 120.8 134.4 L 120.8 142.1 L 119.6 142.1 L 119.6 132.7 L 121.1 132.7 \" fill=\"#0000FF\"/>\n",
       "<path class=\"atom-1\" d=\"M 128.6 132.7 L 129.8 132.7 L 129.8 136.7 L 134.6 136.7 L 134.6 132.7 L 135.9 132.7 L 135.9 142.1 L 134.6 142.1 L 134.6 137.8 L 129.8 137.8 L 129.8 142.1 L 128.6 142.1 L 128.6 132.7 \" fill=\"#0000FF\"/>\n",
       "<path class=\"atom-3\" d=\"M 108.9 80.8 Q 108.9 78.5, 110.0 77.3 Q 111.1 76.0, 113.2 76.0 Q 115.3 76.0, 116.4 77.3 Q 117.5 78.5, 117.5 80.8 Q 117.5 83.1, 116.4 84.4 Q 115.3 85.7, 113.2 85.7 Q 111.1 85.7, 110.0 84.4 Q 108.9 83.1, 108.9 80.8 M 113.2 84.6 Q 114.6 84.6, 115.4 83.6 Q 116.2 82.7, 116.2 80.8 Q 116.2 78.9, 115.4 78.0 Q 114.6 77.1, 113.2 77.1 Q 111.8 77.1, 111.0 78.0 Q 110.2 78.9, 110.2 80.8 Q 110.2 82.7, 111.0 83.6 Q 111.8 84.6, 113.2 84.6 \" fill=\"#FF0000\"/>\n",
       "<path class=\"atom-4\" d=\"M 165.2 95.8 L 168.3 100.7 Q 168.6 101.2, 169.1 102.1 Q 169.6 103.0, 169.6 103.1 L 169.6 95.8 L 170.8 95.8 L 170.8 105.2 L 169.5 105.2 L 166.2 99.7 Q 165.8 99.1, 165.4 98.3 Q 165.0 97.6, 164.9 97.4 L 164.9 105.2 L 163.7 105.2 L 163.7 95.8 L 165.2 95.8 \" fill=\"#0000FF\"/>\n",
       "<path class=\"atom-4\" d=\"M 172.7 95.8 L 173.9 95.8 L 173.9 99.8 L 178.7 99.8 L 178.7 95.8 L 180.0 95.8 L 180.0 105.2 L 178.7 105.2 L 178.7 100.8 L 173.9 100.8 L 173.9 105.2 L 172.7 105.2 L 172.7 95.8 \" fill=\"#0000FF\"/>\n",
       "<path class=\"atom-11\" d=\"M 228.4 89.0 Q 228.4 86.7, 229.5 85.4 Q 230.6 84.2, 232.7 84.2 Q 234.8 84.2, 235.9 85.4 Q 237.0 86.7, 237.0 89.0 Q 237.0 91.3, 235.9 92.6 Q 234.8 93.8, 232.7 93.8 Q 230.6 93.8, 229.5 92.6 Q 228.4 91.3, 228.4 89.0 M 232.7 92.8 Q 234.1 92.8, 234.9 91.8 Q 235.7 90.9, 235.7 89.0 Q 235.7 87.1, 234.9 86.2 Q 234.1 85.2, 232.7 85.2 Q 231.3 85.2, 230.5 86.2 Q 229.7 87.1, 229.7 89.0 Q 229.7 90.9, 230.5 91.8 Q 231.3 92.8, 232.7 92.8 \" fill=\"#FF0000\"/>\n",
       "<path class=\"atom-15\" d=\"M 338.7 123.6 L 341.8 128.6 Q 342.1 129.1, 342.6 130.0 Q 343.1 130.9, 343.1 130.9 L 343.1 123.6 L 344.4 123.6 L 344.4 133.0 L 343.1 133.0 L 339.8 127.6 Q 339.4 127.0, 339.0 126.2 Q 338.6 125.5, 338.5 125.3 L 338.5 133.0 L 337.2 133.0 L 337.2 123.6 L 338.7 123.6 \" fill=\"#0000FF\"/>\n",
       "<path class=\"atom-15\" d=\"M 346.2 123.6 L 347.5 123.6 L 347.5 127.6 L 352.3 127.6 L 352.3 123.6 L 353.5 123.6 L 353.5 133.0 L 352.3 133.0 L 352.3 128.7 L 347.5 128.7 L 347.5 133.0 L 346.2 133.0 L 346.2 123.6 \" fill=\"#0000FF\"/>\n",
       "<path class=\"atom-15\" d=\"M 355.4 132.7 Q 355.6 132.1, 356.2 131.8 Q 356.7 131.5, 357.5 131.5 Q 358.4 131.5, 358.9 132.0 Q 359.4 132.5, 359.4 133.4 Q 359.4 134.3, 358.8 135.2 Q 358.1 136.0, 356.7 137.0 L 359.6 137.0 L 359.6 137.7 L 355.4 137.7 L 355.4 137.2 Q 356.5 136.3, 357.2 135.7 Q 357.9 135.1, 358.2 134.6 Q 358.6 134.0, 358.6 133.4 Q 358.6 132.8, 358.3 132.5 Q 358.0 132.2, 357.5 132.2 Q 357.0 132.2, 356.6 132.4 Q 356.3 132.6, 356.1 133.0 L 355.4 132.7 \" fill=\"#0000FF\"/>\n",
       "<path class=\"atom-16\" d=\"M 326.5 71.7 Q 326.5 69.4, 327.6 68.2 Q 328.8 66.9, 330.8 66.9 Q 332.9 66.9, 334.0 68.2 Q 335.2 69.4, 335.2 71.7 Q 335.2 74.0, 334.0 75.3 Q 332.9 76.6, 330.8 76.6 Q 328.8 76.6, 327.6 75.3 Q 326.5 74.0, 326.5 71.7 M 330.8 75.5 Q 332.3 75.5, 333.1 74.6 Q 333.8 73.6, 333.8 71.7 Q 333.8 69.9, 333.1 68.9 Q 332.3 68.0, 330.8 68.0 Q 329.4 68.0, 328.6 68.9 Q 327.9 69.8, 327.9 71.7 Q 327.9 73.6, 328.6 74.6 Q 329.4 75.5, 330.8 75.5 \" fill=\"#FF0000\"/>\n",
       "</svg>"
      ],
      "text/plain": [
       "<IPython.core.display.SVG object>"
      ]
     },
     "metadata": {},
     "output_type": "display_data"
    },
    {
     "data": {
      "image/svg+xml": [
       "<svg xmlns=\"http://www.w3.org/2000/svg\" xmlns:rdkit=\"http://www.rdkit.org/xml\" xmlns:xlink=\"http://www.w3.org/1999/xlink\" version=\"1.1\" baseProfile=\"full\" xml:space=\"preserve\" width=\"450px\" height=\"150px\" viewBox=\"0 0 450 150\">\n",
       "<!-- END OF HEADER -->\n",
       "<rect style=\"opacity:1.0;fill:#FFFFFF;stroke:none\" width=\"450.0\" height=\"150.0\" x=\"0.0\" y=\"0.0\"> </rect>\n",
       "<path class=\"bond-0 atom-0 atom-1\" d=\"M 235.9,132.3 L 228.1,121.1\" style=\"fill:none;fill-rule:evenodd;stroke:#000000;stroke-width:2.0px;stroke-linecap:butt;stroke-linejoin:miter;stroke-opacity:1\"/>\n",
       "<path class=\"bond-0 atom-0 atom-1\" d=\"M 228.1,121.1 L 220.4,109.9\" style=\"fill:none;fill-rule:evenodd;stroke:#FF0000;stroke-width:2.0px;stroke-linecap:butt;stroke-linejoin:miter;stroke-opacity:1\"/>\n",
       "<path class=\"bond-1 atom-1 atom-2\" d=\"M 210.3,104.0 L 195.7,105.2\" style=\"fill:none;fill-rule:evenodd;stroke:#FF0000;stroke-width:2.0px;stroke-linecap:butt;stroke-linejoin:miter;stroke-opacity:1\"/>\n",
       "<path class=\"bond-1 atom-1 atom-2\" d=\"M 195.7,105.2 L 181.1,106.4\" style=\"fill:none;fill-rule:evenodd;stroke:#000000;stroke-width:2.0px;stroke-linecap:butt;stroke-linejoin:miter;stroke-opacity:1\"/>\n",
       "<path class=\"bond-2 atom-2 atom-3\" d=\"M 179.4,103.9 L 173.0,117.3\" style=\"fill:none;fill-rule:evenodd;stroke:#000000;stroke-width:2.0px;stroke-linecap:butt;stroke-linejoin:miter;stroke-opacity:1\"/>\n",
       "<path class=\"bond-2 atom-2 atom-3\" d=\"M 173.0,117.3 L 166.6,130.7\" style=\"fill:none;fill-rule:evenodd;stroke:#FF0000;stroke-width:2.0px;stroke-linecap:butt;stroke-linejoin:miter;stroke-opacity:1\"/>\n",
       "<path class=\"bond-2 atom-2 atom-3\" d=\"M 184.1,106.1 L 177.8,119.5\" style=\"fill:none;fill-rule:evenodd;stroke:#000000;stroke-width:2.0px;stroke-linecap:butt;stroke-linejoin:miter;stroke-opacity:1\"/>\n",
       "<path class=\"bond-2 atom-2 atom-3\" d=\"M 177.8,119.5 L 171.4,133.0\" style=\"fill:none;fill-rule:evenodd;stroke:#FF0000;stroke-width:2.0px;stroke-linecap:butt;stroke-linejoin:miter;stroke-opacity:1\"/>\n",
       "<path class=\"bond-3 atom-2 atom-4\" d=\"M 181.1,106.4 L 161.2,77.6\" style=\"fill:none;fill-rule:evenodd;stroke:#000000;stroke-width:2.0px;stroke-linecap:butt;stroke-linejoin:miter;stroke-opacity:1\"/>\n",
       "<path class=\"bond-4 atom-4 atom-5\" d=\"M 161.2,77.6 L 126.3,80.4\" style=\"fill:none;fill-rule:evenodd;stroke:#000000;stroke-width:2.0px;stroke-linecap:butt;stroke-linejoin:miter;stroke-opacity:1\"/>\n",
       "<path class=\"bond-4 atom-4 atom-5\" d=\"M 157.7,72.6 L 128.9,74.9\" style=\"fill:none;fill-rule:evenodd;stroke:#000000;stroke-width:2.0px;stroke-linecap:butt;stroke-linejoin:miter;stroke-opacity:1\"/>\n",
       "<path class=\"bond-5 atom-5 atom-6\" d=\"M 126.3,80.4 L 106.4,51.6\" style=\"fill:none;fill-rule:evenodd;stroke:#000000;stroke-width:2.0px;stroke-linecap:butt;stroke-linejoin:miter;stroke-opacity:1\"/>\n",
       "<path class=\"bond-6 atom-6 atom-7\" d=\"M 106.4,51.6 L 91.0,52.8\" style=\"fill:none;fill-rule:evenodd;stroke:#000000;stroke-width:2.0px;stroke-linecap:butt;stroke-linejoin:miter;stroke-opacity:1\"/>\n",
       "<path class=\"bond-6 atom-6 atom-7\" d=\"M 91.0,52.8 L 75.6,54.1\" style=\"fill:none;fill-rule:evenodd;stroke:#33CCCC;stroke-width:2.0px;stroke-linecap:butt;stroke-linejoin:miter;stroke-opacity:1\"/>\n",
       "<path class=\"bond-7 atom-6 atom-8\" d=\"M 106.4,51.6 L 121.4,19.9\" style=\"fill:none;fill-rule:evenodd;stroke:#000000;stroke-width:2.0px;stroke-linecap:butt;stroke-linejoin:miter;stroke-opacity:1\"/>\n",
       "<path class=\"bond-7 atom-6 atom-8\" d=\"M 112.4,51.1 L 124.8,24.9\" style=\"fill:none;fill-rule:evenodd;stroke:#000000;stroke-width:2.0px;stroke-linecap:butt;stroke-linejoin:miter;stroke-opacity:1\"/>\n",
       "<path class=\"bond-8 atom-8 atom-9\" d=\"M 121.4,19.9 L 156.3,17.1\" style=\"fill:none;fill-rule:evenodd;stroke:#000000;stroke-width:2.0px;stroke-linecap:butt;stroke-linejoin:miter;stroke-opacity:1\"/>\n",
       "<path class=\"bond-9 atom-9 atom-10\" d=\"M 156.3,17.1 L 176.2,45.9\" style=\"fill:none;fill-rule:evenodd;stroke:#000000;stroke-width:2.0px;stroke-linecap:butt;stroke-linejoin:miter;stroke-opacity:1\"/>\n",
       "<path class=\"bond-9 atom-9 atom-10\" d=\"M 153.7,22.6 L 170.1,46.4\" style=\"fill:none;fill-rule:evenodd;stroke:#000000;stroke-width:2.0px;stroke-linecap:butt;stroke-linejoin:miter;stroke-opacity:1\"/>\n",
       "<path class=\"bond-10 atom-10 atom-11\" d=\"M 176.2,45.9 L 211.1,43.1\" style=\"fill:none;fill-rule:evenodd;stroke:#000000;stroke-width:2.0px;stroke-linecap:butt;stroke-linejoin:miter;stroke-opacity:1\"/>\n",
       "<path class=\"bond-11 atom-11 atom-12\" d=\"M 211.1,43.1 L 218.9,54.4\" style=\"fill:none;fill-rule:evenodd;stroke:#000000;stroke-width:2.0px;stroke-linecap:butt;stroke-linejoin:miter;stroke-opacity:1\"/>\n",
       "<path class=\"bond-11 atom-11 atom-12\" d=\"M 218.9,54.4 L 226.8,65.8\" style=\"fill:none;fill-rule:evenodd;stroke:#CCCC00;stroke-width:2.0px;stroke-linecap:butt;stroke-linejoin:miter;stroke-opacity:1\"/>\n",
       "<path class=\"bond-12 atom-12 atom-13\" d=\"M 235.3,71.5 L 250.6,70.3\" style=\"fill:none;fill-rule:evenodd;stroke:#CCCC00;stroke-width:2.0px;stroke-linecap:butt;stroke-linejoin:miter;stroke-opacity:1\"/>\n",
       "<path class=\"bond-12 atom-12 atom-13\" d=\"M 250.6,70.3 L 265.9,69.0\" style=\"fill:none;fill-rule:evenodd;stroke:#000000;stroke-width:2.0px;stroke-linecap:butt;stroke-linejoin:miter;stroke-opacity:1\"/>\n",
       "<path class=\"bond-13 atom-13 atom-14\" d=\"M 265.9,69.0 L 274.8,79.5\" style=\"fill:none;fill-rule:evenodd;stroke:#000000;stroke-width:2.0px;stroke-linecap:butt;stroke-linejoin:miter;stroke-opacity:1\"/>\n",
       "<path class=\"bond-13 atom-13 atom-14\" d=\"M 274.8,79.5 L 283.8,89.9\" style=\"fill:none;fill-rule:evenodd;stroke:#0000FF;stroke-width:2.0px;stroke-linecap:butt;stroke-linejoin:miter;stroke-opacity:1\"/>\n",
       "<path class=\"bond-13 atom-13 atom-14\" d=\"M 272.4,68.5 L 280.1,77.5\" style=\"fill:none;fill-rule:evenodd;stroke:#000000;stroke-width:2.0px;stroke-linecap:butt;stroke-linejoin:miter;stroke-opacity:1\"/>\n",
       "<path class=\"bond-13 atom-13 atom-14\" d=\"M 280.1,77.5 L 287.8,86.5\" style=\"fill:none;fill-rule:evenodd;stroke:#0000FF;stroke-width:2.0px;stroke-linecap:butt;stroke-linejoin:miter;stroke-opacity:1\"/>\n",
       "<path class=\"bond-14 atom-14 atom-15\" d=\"M 293.6,93.6 L 307.3,87.8\" style=\"fill:none;fill-rule:evenodd;stroke:#0000FF;stroke-width:2.0px;stroke-linecap:butt;stroke-linejoin:miter;stroke-opacity:1\"/>\n",
       "<path class=\"bond-14 atom-14 atom-15\" d=\"M 307.3,87.8 L 321.0,82.1\" style=\"fill:none;fill-rule:evenodd;stroke:#000000;stroke-width:2.0px;stroke-linecap:butt;stroke-linejoin:miter;stroke-opacity:1\"/>\n",
       "<path class=\"bond-15 atom-15 atom-16\" d=\"M 321.0,82.1 L 352.7,97.1\" style=\"fill:none;fill-rule:evenodd;stroke:#000000;stroke-width:2.0px;stroke-linecap:butt;stroke-linejoin:miter;stroke-opacity:1\"/>\n",
       "<path class=\"bond-15 atom-15 atom-16\" d=\"M 326.0,78.7 L 352.2,91.1\" style=\"fill:none;fill-rule:evenodd;stroke:#000000;stroke-width:2.0px;stroke-linecap:butt;stroke-linejoin:miter;stroke-opacity:1\"/>\n",
       "<path class=\"bond-16 atom-16 atom-17\" d=\"M 352.7,97.1 L 381.5,77.2\" style=\"fill:none;fill-rule:evenodd;stroke:#000000;stroke-width:2.0px;stroke-linecap:butt;stroke-linejoin:miter;stroke-opacity:1\"/>\n",
       "<path class=\"bond-17 atom-17 atom-18\" d=\"M 381.5,77.2 L 378.7,42.3\" style=\"fill:none;fill-rule:evenodd;stroke:#000000;stroke-width:2.0px;stroke-linecap:butt;stroke-linejoin:miter;stroke-opacity:1\"/>\n",
       "<path class=\"bond-17 atom-17 atom-18\" d=\"M 376.0,74.6 L 373.7,45.8\" style=\"fill:none;fill-rule:evenodd;stroke:#000000;stroke-width:2.0px;stroke-linecap:butt;stroke-linejoin:miter;stroke-opacity:1\"/>\n",
       "<path class=\"bond-18 atom-18 atom-19\" d=\"M 378.7,42.3 L 347.0,27.3\" style=\"fill:none;fill-rule:evenodd;stroke:#000000;stroke-width:2.0px;stroke-linecap:butt;stroke-linejoin:miter;stroke-opacity:1\"/>\n",
       "<path class=\"bond-19 atom-19 atom-20\" d=\"M 347.0,27.3 L 318.2,47.2\" style=\"fill:none;fill-rule:evenodd;stroke:#000000;stroke-width:2.0px;stroke-linecap:butt;stroke-linejoin:miter;stroke-opacity:1\"/>\n",
       "<path class=\"bond-19 atom-19 atom-20\" d=\"M 347.5,33.4 L 323.7,49.8\" style=\"fill:none;fill-rule:evenodd;stroke:#000000;stroke-width:2.0px;stroke-linecap:butt;stroke-linejoin:miter;stroke-opacity:1\"/>\n",
       "<path class=\"bond-20 atom-20 atom-21\" d=\"M 318.2,47.2 L 303.6,43.8\" style=\"fill:none;fill-rule:evenodd;stroke:#000000;stroke-width:2.0px;stroke-linecap:butt;stroke-linejoin:miter;stroke-opacity:1\"/>\n",
       "<path class=\"bond-20 atom-20 atom-21\" d=\"M 303.6,43.8 L 289.0,40.3\" style=\"fill:none;fill-rule:evenodd;stroke:#0000FF;stroke-width:2.0px;stroke-linecap:butt;stroke-linejoin:miter;stroke-opacity:1\"/>\n",
       "<path class=\"bond-21 atom-21 atom-22\" d=\"M 281.6,33.0 L 276.1,19.9\" style=\"fill:none;fill-rule:evenodd;stroke:#0000FF;stroke-width:2.0px;stroke-linecap:butt;stroke-linejoin:miter;stroke-opacity:1\"/>\n",
       "<path class=\"bond-21 atom-21 atom-22\" d=\"M 276.1,19.9 L 270.6,6.8\" style=\"fill:none;fill-rule:evenodd;stroke:#000000;stroke-width:2.0px;stroke-linecap:butt;stroke-linejoin:miter;stroke-opacity:1\"/>\n",
       "<path class=\"bond-22 atom-10 atom-4\" d=\"M 176.2,45.9 L 161.2,77.6\" style=\"fill:none;fill-rule:evenodd;stroke:#000000;stroke-width:2.0px;stroke-linecap:butt;stroke-linejoin:miter;stroke-opacity:1\"/>\n",
       "<path class=\"bond-23 atom-21 atom-13\" d=\"M 280.4,45.3 L 273.1,57.1\" style=\"fill:none;fill-rule:evenodd;stroke:#0000FF;stroke-width:2.0px;stroke-linecap:butt;stroke-linejoin:miter;stroke-opacity:1\"/>\n",
       "<path class=\"bond-23 atom-21 atom-13\" d=\"M 273.1,57.1 L 265.9,69.0\" style=\"fill:none;fill-rule:evenodd;stroke:#000000;stroke-width:2.0px;stroke-linecap:butt;stroke-linejoin:miter;stroke-opacity:1\"/>\n",
       "<path class=\"bond-24 atom-20 atom-15\" d=\"M 318.2,47.2 L 321.0,82.1\" style=\"fill:none;fill-rule:evenodd;stroke:#000000;stroke-width:2.0px;stroke-linecap:butt;stroke-linejoin:miter;stroke-opacity:1\"/>\n",
       "<path d=\"M 181.8,106.3 L 181.1,106.4 L 180.1,104.9\" style=\"fill:none;stroke:#000000;stroke-width:2.0px;stroke-linecap:butt;stroke-linejoin:miter;stroke-opacity:1;\"/>\n",
       "<path d=\"M 128.0,80.2 L 126.3,80.4 L 125.3,79.0\" style=\"fill:none;stroke:#000000;stroke-width:2.0px;stroke-linecap:butt;stroke-linejoin:miter;stroke-opacity:1;\"/>\n",
       "<path d=\"M 120.6,21.5 L 121.4,19.9 L 123.1,19.8\" style=\"fill:none;stroke:#000000;stroke-width:2.0px;stroke-linecap:butt;stroke-linejoin:miter;stroke-opacity:1;\"/>\n",
       "<path d=\"M 154.5,17.2 L 156.3,17.1 L 157.3,18.5\" style=\"fill:none;stroke:#000000;stroke-width:2.0px;stroke-linecap:butt;stroke-linejoin:miter;stroke-opacity:1;\"/>\n",
       "<path d=\"M 209.3,43.2 L 211.1,43.1 L 211.5,43.6\" style=\"fill:none;stroke:#000000;stroke-width:2.0px;stroke-linecap:butt;stroke-linejoin:miter;stroke-opacity:1;\"/>\n",
       "<path d=\"M 351.1,96.4 L 352.7,97.1 L 354.1,96.1\" style=\"fill:none;stroke:#000000;stroke-width:2.0px;stroke-linecap:butt;stroke-linejoin:miter;stroke-opacity:1;\"/>\n",
       "<path d=\"M 380.0,78.2 L 381.5,77.2 L 381.3,75.5\" style=\"fill:none;stroke:#000000;stroke-width:2.0px;stroke-linecap:butt;stroke-linejoin:miter;stroke-opacity:1;\"/>\n",
       "<path d=\"M 378.8,44.1 L 378.7,42.3 L 377.1,41.6\" style=\"fill:none;stroke:#000000;stroke-width:2.0px;stroke-linecap:butt;stroke-linejoin:miter;stroke-opacity:1;\"/>\n",
       "<path d=\"M 348.6,28.1 L 347.0,27.3 L 345.6,28.3\" style=\"fill:none;stroke:#000000;stroke-width:2.0px;stroke-linecap:butt;stroke-linejoin:miter;stroke-opacity:1;\"/>\n",
       "<path class=\"atom-1\" d=\"M 211.4 103.6 Q 211.4 101.2, 212.6 99.8 Q 213.8 98.5, 216.0 98.5 Q 218.2 98.5, 219.4 99.8 Q 220.5 101.2, 220.5 103.6 Q 220.5 106.0, 219.4 107.3 Q 218.2 108.7, 216.0 108.7 Q 213.8 108.7, 212.6 107.3 Q 211.4 106.0, 211.4 103.6 M 216.0 107.6 Q 217.5 107.6, 218.3 106.6 Q 219.1 105.5, 219.1 103.6 Q 219.1 101.6, 218.3 100.6 Q 217.5 99.6, 216.0 99.6 Q 214.5 99.6, 213.7 100.6 Q 212.8 101.6, 212.8 103.6 Q 212.8 105.6, 213.7 106.6 Q 214.5 107.6, 216.0 107.6 \" fill=\"#FF0000\"/>\n",
       "<path class=\"atom-3\" d=\"M 161.5 138.0 Q 161.5 135.7, 162.7 134.3 Q 163.9 133.0, 166.1 133.0 Q 168.3 133.0, 169.5 134.3 Q 170.6 135.7, 170.6 138.0 Q 170.6 140.5, 169.5 141.8 Q 168.3 143.2, 166.1 143.2 Q 163.9 143.2, 162.7 141.8 Q 161.5 140.5, 161.5 138.0 M 166.1 142.1 Q 167.6 142.1, 168.4 141.1 Q 169.2 140.0, 169.2 138.0 Q 169.2 136.1, 168.4 135.1 Q 167.6 134.1, 166.1 134.1 Q 164.6 134.1, 163.8 135.1 Q 162.9 136.1, 162.9 138.0 Q 162.9 140.0, 163.8 141.1 Q 164.6 142.1, 166.1 142.1 \" fill=\"#FF0000\"/>\n",
       "<path class=\"atom-7\" d=\"M 68.5 49.5 L 74.4 49.5 L 74.4 50.6 L 69.8 50.6 L 69.8 53.6 L 73.9 53.6 L 73.9 54.8 L 69.8 54.8 L 69.8 59.4 L 68.5 59.4 L 68.5 49.5 \" fill=\"#33CCCC\"/>\n",
       "<path class=\"atom-12\" d=\"M 228.2 75.3 Q 228.3 75.3, 228.8 75.5 Q 229.2 75.7, 229.7 75.8 Q 230.2 76.0, 230.8 76.0 Q 231.7 76.0, 232.2 75.5 Q 232.8 75.0, 232.8 74.2 Q 232.8 73.7, 232.5 73.4 Q 232.2 73.0, 231.8 72.8 Q 231.4 72.7, 230.7 72.5 Q 229.8 72.2, 229.3 71.9 Q 228.8 71.7, 228.4 71.2 Q 228.0 70.6, 228.0 69.7 Q 228.0 68.5, 228.9 67.7 Q 229.7 66.9, 231.4 66.9 Q 232.5 66.9, 233.8 67.5 L 233.5 68.6 Q 232.3 68.1, 231.4 68.1 Q 230.5 68.1, 229.9 68.5 Q 229.4 68.9, 229.4 69.6 Q 229.4 70.1, 229.7 70.4 Q 230.0 70.7, 230.4 70.9 Q 230.8 71.1, 231.4 71.3 Q 232.3 71.6, 232.9 71.9 Q 233.4 72.1, 233.8 72.7 Q 234.2 73.3, 234.2 74.2 Q 234.2 75.6, 233.2 76.4 Q 232.3 77.1, 230.8 77.1 Q 229.9 77.1, 229.3 76.9 Q 228.6 76.7, 227.8 76.4 L 228.2 75.3 \" fill=\"#CCCC00\"/>\n",
       "<path class=\"atom-14\" d=\"M 286.5 90.7 L 289.8 95.9 Q 290.1 96.4, 290.6 97.4 Q 291.1 98.3, 291.2 98.4 L 291.2 90.7 L 292.5 90.7 L 292.5 100.6 L 291.1 100.6 L 287.6 94.8 Q 287.2 94.2, 286.8 93.4 Q 286.4 92.6, 286.2 92.4 L 286.2 100.6 L 284.9 100.6 L 284.9 90.7 L 286.5 90.7 \" fill=\"#0000FF\"/>\n",
       "<path class=\"atom-21\" d=\"M 281.9 34.2 L 285.2 39.4 Q 285.5 40.0, 286.0 40.9 Q 286.5 41.8, 286.6 41.9 L 286.6 34.2 L 287.9 34.2 L 287.9 44.1 L 286.5 44.1 L 283.0 38.4 Q 282.6 37.7, 282.2 36.9 Q 281.8 36.1, 281.6 35.9 L 281.6 44.1 L 280.4 44.1 L 280.4 34.2 L 281.9 34.2 \" fill=\"#0000FF\"/>\n",
       "</svg>"
      ],
      "text/plain": [
       "<IPython.core.display.SVG object>"
      ]
     },
     "metadata": {},
     "output_type": "display_data"
    },
    {
     "data": {
      "image/svg+xml": [
       "<svg xmlns=\"http://www.w3.org/2000/svg\" xmlns:rdkit=\"http://www.rdkit.org/xml\" xmlns:xlink=\"http://www.w3.org/1999/xlink\" version=\"1.1\" baseProfile=\"full\" xml:space=\"preserve\" width=\"450px\" height=\"150px\" viewBox=\"0 0 450 150\">\n",
       "<!-- END OF HEADER -->\n",
       "<rect style=\"opacity:1.0;fill:#FFFFFF;stroke:none\" width=\"450.0\" height=\"150.0\" x=\"0.0\" y=\"0.0\"> </rect>\n",
       "<path class=\"bond-0 atom-0 atom-1\" d=\"M 389.5,143.2 L 391.5,132.3\" style=\"fill:none;fill-rule:evenodd;stroke:#000000;stroke-width:2.0px;stroke-linecap:butt;stroke-linejoin:miter;stroke-opacity:1\"/>\n",
       "<path class=\"bond-0 atom-0 atom-1\" d=\"M 391.5,132.3 L 393.4,121.4\" style=\"fill:none;fill-rule:evenodd;stroke:#FF0000;stroke-width:2.0px;stroke-linecap:butt;stroke-linejoin:miter;stroke-opacity:1\"/>\n",
       "<path class=\"bond-1 atom-1 atom-2\" d=\"M 389.9,112.7 L 381.7,105.8\" style=\"fill:none;fill-rule:evenodd;stroke:#FF0000;stroke-width:2.0px;stroke-linecap:butt;stroke-linejoin:miter;stroke-opacity:1\"/>\n",
       "<path class=\"bond-1 atom-1 atom-2\" d=\"M 381.7,105.8 L 373.6,98.9\" style=\"fill:none;fill-rule:evenodd;stroke:#000000;stroke-width:2.0px;stroke-linecap:butt;stroke-linejoin:miter;stroke-opacity:1\"/>\n",
       "<path class=\"bond-2 atom-2 atom-3\" d=\"M 373.6,98.9 L 348.0,108.1\" style=\"fill:none;fill-rule:evenodd;stroke:#000000;stroke-width:2.0px;stroke-linecap:butt;stroke-linejoin:miter;stroke-opacity:1\"/>\n",
       "<path class=\"bond-2 atom-2 atom-3\" d=\"M 370.0,95.9 L 348.8,103.5\" style=\"fill:none;fill-rule:evenodd;stroke:#000000;stroke-width:2.0px;stroke-linecap:butt;stroke-linejoin:miter;stroke-opacity:1\"/>\n",
       "<path class=\"bond-3 atom-3 atom-4\" d=\"M 348.0,108.1 L 327.3,90.5\" style=\"fill:none;fill-rule:evenodd;stroke:#000000;stroke-width:2.0px;stroke-linecap:butt;stroke-linejoin:miter;stroke-opacity:1\"/>\n",
       "<path class=\"bond-4 atom-4 atom-5\" d=\"M 327.3,90.5 L 332.1,63.8\" style=\"fill:none;fill-rule:evenodd;stroke:#000000;stroke-width:2.0px;stroke-linecap:butt;stroke-linejoin:miter;stroke-opacity:1\"/>\n",
       "<path class=\"bond-4 atom-4 atom-5\" d=\"M 331.7,89.0 L 335.7,66.9\" style=\"fill:none;fill-rule:evenodd;stroke:#000000;stroke-width:2.0px;stroke-linecap:butt;stroke-linejoin:miter;stroke-opacity:1\"/>\n",
       "<path class=\"bond-5 atom-5 atom-6\" d=\"M 332.1,63.8 L 311.4,46.3\" style=\"fill:none;fill-rule:evenodd;stroke:#000000;stroke-width:2.0px;stroke-linecap:butt;stroke-linejoin:miter;stroke-opacity:1\"/>\n",
       "<path class=\"bond-6 atom-6 atom-7\" d=\"M 311.4,46.3 L 300.5,50.2\" style=\"fill:none;fill-rule:evenodd;stroke:#000000;stroke-width:2.0px;stroke-linecap:butt;stroke-linejoin:miter;stroke-opacity:1\"/>\n",
       "<path class=\"bond-6 atom-6 atom-7\" d=\"M 300.5,50.2 L 289.6,54.1\" style=\"fill:none;fill-rule:evenodd;stroke:#0000FF;stroke-width:2.0px;stroke-linecap:butt;stroke-linejoin:miter;stroke-opacity:1\"/>\n",
       "<path class=\"bond-7 atom-7 atom-8\" d=\"M 285.3,60.2 L 284.2,71.3\" style=\"fill:none;fill-rule:evenodd;stroke:#0000FF;stroke-width:2.0px;stroke-linecap:butt;stroke-linejoin:miter;stroke-opacity:1\"/>\n",
       "<path class=\"bond-7 atom-7 atom-8\" d=\"M 284.2,71.3 L 283.0,82.5\" style=\"fill:none;fill-rule:evenodd;stroke:#000000;stroke-width:2.0px;stroke-linecap:butt;stroke-linejoin:miter;stroke-opacity:1\"/>\n",
       "<path class=\"bond-8 atom-8 atom-9\" d=\"M 283.0,82.5 L 260.1,97.1\" style=\"fill:none;fill-rule:evenodd;stroke:#000000;stroke-width:2.0px;stroke-linecap:butt;stroke-linejoin:miter;stroke-opacity:1\"/>\n",
       "<path class=\"bond-9 atom-9 atom-10\" d=\"M 260.1,97.1 L 252.9,94.7\" style=\"fill:none;fill-rule:evenodd;stroke:#000000;stroke-width:2.0px;stroke-linecap:butt;stroke-linejoin:miter;stroke-opacity:1\"/>\n",
       "<path class=\"bond-9 atom-9 atom-10\" d=\"M 252.9,94.7 L 245.7,92.2\" style=\"fill:none;fill-rule:evenodd;stroke:#0000FF;stroke-width:2.0px;stroke-linecap:butt;stroke-linejoin:miter;stroke-opacity:1\"/>\n",
       "<path class=\"bond-10 atom-10 atom-11\" d=\"M 230.6,92.2 L 223.0,100.0\" style=\"fill:none;fill-rule:evenodd;stroke:#0000FF;stroke-width:2.0px;stroke-linecap:butt;stroke-linejoin:miter;stroke-opacity:1\"/>\n",
       "<path class=\"bond-10 atom-10 atom-11\" d=\"M 223.0,100.0 L 215.4,107.7\" style=\"fill:none;fill-rule:evenodd;stroke:#000000;stroke-width:2.0px;stroke-linecap:butt;stroke-linejoin:miter;stroke-opacity:1\"/>\n",
       "<path class=\"bond-11 atom-11 atom-12\" d=\"M 215.4,107.7 L 189.1,100.9\" style=\"fill:none;fill-rule:evenodd;stroke:#000000;stroke-width:2.0px;stroke-linecap:butt;stroke-linejoin:miter;stroke-opacity:1\"/>\n",
       "<path class=\"bond-12 atom-12 atom-13\" d=\"M 189.1,100.9 L 168.1,118.2\" style=\"fill:none;fill-rule:evenodd;stroke:#000000;stroke-width:2.0px;stroke-linecap:butt;stroke-linejoin:miter;stroke-opacity:1\"/>\n",
       "<path class=\"bond-12 atom-12 atom-13\" d=\"M 184.2,99.7 L 167.8,113.2\" style=\"fill:none;fill-rule:evenodd;stroke:#000000;stroke-width:2.0px;stroke-linecap:butt;stroke-linejoin:miter;stroke-opacity:1\"/>\n",
       "<path class=\"bond-13 atom-13 atom-14\" d=\"M 168.1,118.2 L 145.2,103.6\" style=\"fill:none;fill-rule:evenodd;stroke:#000000;stroke-width:2.0px;stroke-linecap:butt;stroke-linejoin:miter;stroke-opacity:1\"/>\n",
       "<path class=\"bond-14 atom-14 atom-15\" d=\"M 145.2,103.6 L 119.9,113.5\" style=\"fill:none;fill-rule:evenodd;stroke:#000000;stroke-width:2.0px;stroke-linecap:butt;stroke-linejoin:miter;stroke-opacity:1\"/>\n",
       "<path class=\"bond-15 atom-15 atom-16\" d=\"M 119.9,113.5 L 111.2,106.6\" style=\"fill:none;fill-rule:evenodd;stroke:#000000;stroke-width:2.0px;stroke-linecap:butt;stroke-linejoin:miter;stroke-opacity:1\"/>\n",
       "<path class=\"bond-15 atom-15 atom-16\" d=\"M 111.2,106.6 L 102.5,99.6\" style=\"fill:none;fill-rule:evenodd;stroke:#0000FF;stroke-width:2.0px;stroke-linecap:butt;stroke-linejoin:miter;stroke-opacity:1\"/>\n",
       "<path class=\"bond-16 atom-16 atom-17\" d=\"M 99.4,91.9 L 101.1,80.8\" style=\"fill:none;fill-rule:evenodd;stroke:#0000FF;stroke-width:2.0px;stroke-linecap:butt;stroke-linejoin:miter;stroke-opacity:1\"/>\n",
       "<path class=\"bond-16 atom-16 atom-17\" d=\"M 101.1,80.8 L 102.7,69.7\" style=\"fill:none;fill-rule:evenodd;stroke:#000000;stroke-width:2.0px;stroke-linecap:butt;stroke-linejoin:miter;stroke-opacity:1\"/>\n",
       "<path class=\"bond-17 atom-17 atom-18\" d=\"M 102.7,69.7 L 81.5,52.8\" style=\"fill:none;fill-rule:evenodd;stroke:#000000;stroke-width:2.0px;stroke-linecap:butt;stroke-linejoin:miter;stroke-opacity:1\"/>\n",
       "<path class=\"bond-18 atom-18 atom-19\" d=\"M 81.5,52.8 L 56.2,62.8\" style=\"fill:none;fill-rule:evenodd;stroke:#000000;stroke-width:2.0px;stroke-linecap:butt;stroke-linejoin:miter;stroke-opacity:1\"/>\n",
       "<path class=\"bond-19 atom-19 atom-20\" d=\"M 56.2,62.8 L 52.2,89.6\" style=\"fill:none;fill-rule:evenodd;stroke:#000000;stroke-width:2.0px;stroke-linecap:butt;stroke-linejoin:miter;stroke-opacity:1\"/>\n",
       "<path class=\"bond-20 atom-20 atom-21\" d=\"M 52.2,89.6 L 73.4,106.6\" style=\"fill:none;fill-rule:evenodd;stroke:#000000;stroke-width:2.0px;stroke-linecap:butt;stroke-linejoin:miter;stroke-opacity:1\"/>\n",
       "<path class=\"bond-21 atom-14 atom-22\" d=\"M 145.2,103.6 L 152.0,77.3\" style=\"fill:none;fill-rule:evenodd;stroke:#000000;stroke-width:2.0px;stroke-linecap:butt;stroke-linejoin:miter;stroke-opacity:1\"/>\n",
       "<path class=\"bond-21 atom-14 atom-22\" d=\"M 149.9,101.7 L 155.2,81.2\" style=\"fill:none;fill-rule:evenodd;stroke:#000000;stroke-width:2.0px;stroke-linecap:butt;stroke-linejoin:miter;stroke-opacity:1\"/>\n",
       "<path class=\"bond-22 atom-22 atom-23\" d=\"M 152.0,77.3 L 163.9,76.6\" style=\"fill:none;fill-rule:evenodd;stroke:#000000;stroke-width:2.0px;stroke-linecap:butt;stroke-linejoin:miter;stroke-opacity:1\"/>\n",
       "<path class=\"bond-22 atom-22 atom-23\" d=\"M 163.9,76.6 L 175.8,75.8\" style=\"fill:none;fill-rule:evenodd;stroke:#CCCC00;stroke-width:2.0px;stroke-linecap:butt;stroke-linejoin:miter;stroke-opacity:1\"/>\n",
       "<path class=\"bond-23 atom-10 atom-24\" d=\"M 232.7,83.6 L 229.0,73.2\" style=\"fill:none;fill-rule:evenodd;stroke:#0000FF;stroke-width:2.0px;stroke-linecap:butt;stroke-linejoin:miter;stroke-opacity:1\"/>\n",
       "<path class=\"bond-23 atom-10 atom-24\" d=\"M 229.0,73.2 L 225.2,62.8\" style=\"fill:none;fill-rule:evenodd;stroke:#000000;stroke-width:2.0px;stroke-linecap:butt;stroke-linejoin:miter;stroke-opacity:1\"/>\n",
       "<path class=\"bond-24 atom-24 atom-25\" d=\"M 225.2,62.8 L 239.5,39.7\" style=\"fill:none;fill-rule:evenodd;stroke:#000000;stroke-width:2.0px;stroke-linecap:butt;stroke-linejoin:miter;stroke-opacity:1\"/>\n",
       "<path class=\"bond-25 atom-25 atom-26\" d=\"M 239.5,39.7 L 266.4,36.4\" style=\"fill:none;fill-rule:evenodd;stroke:#000000;stroke-width:2.0px;stroke-linecap:butt;stroke-linejoin:miter;stroke-opacity:1\"/>\n",
       "<path class=\"bond-26 atom-26 atom-27\" d=\"M 268.1,38.0 L 271.8,27.1\" style=\"fill:none;fill-rule:evenodd;stroke:#000000;stroke-width:2.0px;stroke-linecap:butt;stroke-linejoin:miter;stroke-opacity:1\"/>\n",
       "<path class=\"bond-26 atom-26 atom-27\" d=\"M 271.8,27.1 L 275.5,16.3\" style=\"fill:none;fill-rule:evenodd;stroke:#FF0000;stroke-width:2.0px;stroke-linecap:butt;stroke-linejoin:miter;stroke-opacity:1\"/>\n",
       "<path class=\"bond-26 atom-26 atom-27\" d=\"M 264.2,36.7 L 267.9,25.8\" style=\"fill:none;fill-rule:evenodd;stroke:#000000;stroke-width:2.0px;stroke-linecap:butt;stroke-linejoin:miter;stroke-opacity:1\"/>\n",
       "<path class=\"bond-26 atom-26 atom-27\" d=\"M 267.9,25.8 L 271.6,15.0\" style=\"fill:none;fill-rule:evenodd;stroke:#FF0000;stroke-width:2.0px;stroke-linecap:butt;stroke-linejoin:miter;stroke-opacity:1\"/>\n",
       "<path class=\"bond-27 atom-5 atom-28\" d=\"M 332.1,63.8 L 357.7,54.6\" style=\"fill:none;fill-rule:evenodd;stroke:#000000;stroke-width:2.0px;stroke-linecap:butt;stroke-linejoin:miter;stroke-opacity:1\"/>\n",
       "<path class=\"bond-28 atom-28 atom-29\" d=\"M 357.7,54.6 L 378.4,72.2\" style=\"fill:none;fill-rule:evenodd;stroke:#000000;stroke-width:2.0px;stroke-linecap:butt;stroke-linejoin:miter;stroke-opacity:1\"/>\n",
       "<path class=\"bond-28 atom-28 atom-29\" d=\"M 356.8,59.3 L 374.0,73.8\" style=\"fill:none;fill-rule:evenodd;stroke:#000000;stroke-width:2.0px;stroke-linecap:butt;stroke-linejoin:miter;stroke-opacity:1\"/>\n",
       "<path class=\"bond-29 atom-29 atom-2\" d=\"M 378.4,72.2 L 373.6,98.9\" style=\"fill:none;fill-rule:evenodd;stroke:#000000;stroke-width:2.0px;stroke-linecap:butt;stroke-linejoin:miter;stroke-opacity:1\"/>\n",
       "<path class=\"bond-30 atom-26 atom-7\" d=\"M 266.4,36.4 L 274.2,44.1\" style=\"fill:none;fill-rule:evenodd;stroke:#000000;stroke-width:2.0px;stroke-linecap:butt;stroke-linejoin:miter;stroke-opacity:1\"/>\n",
       "<path class=\"bond-30 atom-26 atom-7\" d=\"M 274.2,44.1 L 282.0,51.7\" style=\"fill:none;fill-rule:evenodd;stroke:#0000FF;stroke-width:2.0px;stroke-linecap:butt;stroke-linejoin:miter;stroke-opacity:1\"/>\n",
       "<path class=\"bond-31 atom-23 atom-12\" d=\"M 181.1,80.6 L 185.1,90.7\" style=\"fill:none;fill-rule:evenodd;stroke:#CCCC00;stroke-width:2.0px;stroke-linecap:butt;stroke-linejoin:miter;stroke-opacity:1\"/>\n",
       "<path class=\"bond-31 atom-23 atom-12\" d=\"M 185.1,90.7 L 189.1,100.9\" style=\"fill:none;fill-rule:evenodd;stroke:#000000;stroke-width:2.0px;stroke-linecap:butt;stroke-linejoin:miter;stroke-opacity:1\"/>\n",
       "<path class=\"bond-32 atom-21 atom-16\" d=\"M 73.4,106.6 L 84.1,102.3\" style=\"fill:none;fill-rule:evenodd;stroke:#000000;stroke-width:2.0px;stroke-linecap:butt;stroke-linejoin:miter;stroke-opacity:1\"/>\n",
       "<path class=\"bond-32 atom-21 atom-16\" d=\"M 84.1,102.3 L 94.9,98.1\" style=\"fill:none;fill-rule:evenodd;stroke:#0000FF;stroke-width:2.0px;stroke-linecap:butt;stroke-linejoin:miter;stroke-opacity:1\"/>\n",
       "<path d=\"M 349.3,107.6 L 348.0,108.1 L 347.0,107.2\" style=\"fill:none;stroke:#000000;stroke-width:2.0px;stroke-linecap:butt;stroke-linejoin:miter;stroke-opacity:1;\"/>\n",
       "<path d=\"M 328.3,91.4 L 327.3,90.5 L 327.5,89.2\" style=\"fill:none;stroke:#000000;stroke-width:2.0px;stroke-linecap:butt;stroke-linejoin:miter;stroke-opacity:1;\"/>\n",
       "<path d=\"M 312.4,47.2 L 311.4,46.3 L 310.8,46.5\" style=\"fill:none;stroke:#000000;stroke-width:2.0px;stroke-linecap:butt;stroke-linejoin:miter;stroke-opacity:1;\"/>\n",
       "<path d=\"M 283.1,81.9 L 283.0,82.5 L 281.9,83.2\" style=\"fill:none;stroke:#000000;stroke-width:2.0px;stroke-linecap:butt;stroke-linejoin:miter;stroke-opacity:1;\"/>\n",
       "<path d=\"M 261.3,96.4 L 260.1,97.1 L 259.8,97.0\" style=\"fill:none;stroke:#000000;stroke-width:2.0px;stroke-linecap:butt;stroke-linejoin:miter;stroke-opacity:1;\"/>\n",
       "<path d=\"M 215.7,107.3 L 215.4,107.7 L 214.1,107.4\" style=\"fill:none;stroke:#000000;stroke-width:2.0px;stroke-linecap:butt;stroke-linejoin:miter;stroke-opacity:1;\"/>\n",
       "<path d=\"M 169.2,117.3 L 168.1,118.2 L 167.0,117.5\" style=\"fill:none;stroke:#000000;stroke-width:2.0px;stroke-linecap:butt;stroke-linejoin:miter;stroke-opacity:1;\"/>\n",
       "<path d=\"M 121.2,113.0 L 119.9,113.5 L 119.5,113.2\" style=\"fill:none;stroke:#000000;stroke-width:2.0px;stroke-linecap:butt;stroke-linejoin:miter;stroke-opacity:1;\"/>\n",
       "<path d=\"M 102.6,70.3 L 102.7,69.7 L 101.6,68.9\" style=\"fill:none;stroke:#000000;stroke-width:2.0px;stroke-linecap:butt;stroke-linejoin:miter;stroke-opacity:1;\"/>\n",
       "<path d=\"M 82.5,53.7 L 81.5,52.8 L 80.2,53.3\" style=\"fill:none;stroke:#000000;stroke-width:2.0px;stroke-linecap:butt;stroke-linejoin:miter;stroke-opacity:1;\"/>\n",
       "<path d=\"M 57.5,62.3 L 56.2,62.8 L 56.0,64.1\" style=\"fill:none;stroke:#000000;stroke-width:2.0px;stroke-linecap:butt;stroke-linejoin:miter;stroke-opacity:1;\"/>\n",
       "<path d=\"M 52.4,88.3 L 52.2,89.6 L 53.2,90.5\" style=\"fill:none;stroke:#000000;stroke-width:2.0px;stroke-linecap:butt;stroke-linejoin:miter;stroke-opacity:1;\"/>\n",
       "<path d=\"M 72.3,105.7 L 73.4,106.6 L 73.9,106.3\" style=\"fill:none;stroke:#000000;stroke-width:2.0px;stroke-linecap:butt;stroke-linejoin:miter;stroke-opacity:1;\"/>\n",
       "<path d=\"M 151.7,78.6 L 152.0,77.3 L 152.6,77.3\" style=\"fill:none;stroke:#000000;stroke-width:2.0px;stroke-linecap:butt;stroke-linejoin:miter;stroke-opacity:1;\"/>\n",
       "<path d=\"M 225.4,63.3 L 225.2,62.8 L 225.9,61.6\" style=\"fill:none;stroke:#000000;stroke-width:2.0px;stroke-linecap:butt;stroke-linejoin:miter;stroke-opacity:1;\"/>\n",
       "<path d=\"M 238.8,40.8 L 239.5,39.7 L 240.8,39.5\" style=\"fill:none;stroke:#000000;stroke-width:2.0px;stroke-linecap:butt;stroke-linejoin:miter;stroke-opacity:1;\"/>\n",
       "<path d=\"M 265.1,36.6 L 266.4,36.4 L 266.8,36.8\" style=\"fill:none;stroke:#000000;stroke-width:2.0px;stroke-linecap:butt;stroke-linejoin:miter;stroke-opacity:1;\"/>\n",
       "<path d=\"M 356.4,55.1 L 357.7,54.6 L 358.7,55.5\" style=\"fill:none;stroke:#000000;stroke-width:2.0px;stroke-linecap:butt;stroke-linejoin:miter;stroke-opacity:1;\"/>\n",
       "<path d=\"M 377.4,71.3 L 378.4,72.2 L 378.2,73.5\" style=\"fill:none;stroke:#000000;stroke-width:2.0px;stroke-linecap:butt;stroke-linejoin:miter;stroke-opacity:1;\"/>\n",
       "<path class=\"atom-1\" d=\"M 390.8 116.5 Q 390.8 114.6, 391.7 113.6 Q 392.6 112.6, 394.3 112.6 Q 396.0 112.6, 396.9 113.6 Q 397.8 114.6, 397.8 116.5 Q 397.8 118.3, 396.9 119.4 Q 396.0 120.5, 394.3 120.5 Q 392.6 120.5, 391.7 119.4 Q 390.8 118.4, 390.8 116.5 M 394.3 119.6 Q 395.5 119.6, 396.1 118.8 Q 396.8 118.0, 396.8 116.5 Q 396.8 115.0, 396.1 114.2 Q 395.5 113.4, 394.3 113.4 Q 393.1 113.4, 392.5 114.2 Q 391.9 115.0, 391.9 116.5 Q 391.9 118.0, 392.5 118.8 Q 393.1 119.6, 394.3 119.6 \" fill=\"#FF0000\"/>\n",
       "<path class=\"atom-7\" d=\"M 284.1 51.6 L 286.6 55.7 Q 286.9 56.1, 287.3 56.8 Q 287.7 57.5, 287.7 57.6 L 287.7 51.6 L 288.7 51.6 L 288.7 59.3 L 287.7 59.3 L 285.0 54.9 Q 284.7 54.3, 284.3 53.7 Q 284.0 53.1, 283.9 53.0 L 283.9 59.3 L 282.9 59.3 L 282.9 51.6 L 284.1 51.6 \" fill=\"#0000FF\"/>\n",
       "<path class=\"atom-10\" d=\"M 232.7 84.5 L 235.2 88.6 Q 235.5 89.0, 235.9 89.7 Q 236.3 90.4, 236.3 90.5 L 236.3 84.5 L 237.3 84.5 L 237.3 92.2 L 236.3 92.2 L 233.6 87.8 Q 233.3 87.2, 232.9 86.6 Q 232.6 86.0, 232.5 85.9 L 232.5 92.2 L 231.5 92.2 L 231.5 84.5 L 232.7 84.5 \" fill=\"#0000FF\"/>\n",
       "<path class=\"atom-10\" d=\"M 238.8 84.5 L 239.8 84.5 L 239.8 87.8 L 243.8 87.8 L 243.8 84.5 L 244.8 84.5 L 244.8 92.2 L 243.8 92.2 L 243.8 88.7 L 239.8 88.7 L 239.8 92.2 L 238.8 92.2 L 238.8 84.5 \" fill=\"#0000FF\"/>\n",
       "<path class=\"atom-10\" d=\"M 246.3 85.9 L 247.7 85.9 L 247.7 84.5 L 248.3 84.5 L 248.3 85.9 L 249.6 85.9 L 249.6 86.4 L 248.3 86.4 L 248.3 87.9 L 247.7 87.9 L 247.7 86.4 L 246.3 86.4 L 246.3 85.9 \" fill=\"#0000FF\"/>\n",
       "<path class=\"atom-16\" d=\"M 97.0 92.8 L 99.5 96.8 Q 99.8 97.2, 100.2 98.0 Q 100.6 98.7, 100.6 98.7 L 100.6 92.8 L 101.6 92.8 L 101.6 100.5 L 100.5 100.5 L 97.8 96.0 Q 97.5 95.5, 97.2 94.9 Q 96.9 94.3, 96.8 94.1 L 96.8 100.5 L 95.8 100.5 L 95.8 92.8 L 97.0 92.8 \" fill=\"#0000FF\"/>\n",
       "<path class=\"atom-16\" d=\"M 103.0 94.1 L 104.4 94.1 L 104.4 92.7 L 105.0 92.7 L 105.0 94.1 L 106.4 94.1 L 106.4 94.7 L 105.0 94.7 L 105.0 96.1 L 104.4 96.1 L 104.4 94.7 L 103.0 94.7 L 103.0 94.1 \" fill=\"#0000FF\"/>\n",
       "<path class=\"atom-16\" d=\"M 95.7 101.2 L 96.7 101.2 L 96.7 104.5 L 100.7 104.5 L 100.7 101.2 L 101.7 101.2 L 101.7 108.9 L 100.7 108.9 L 100.7 105.4 L 96.7 105.4 L 96.7 108.9 L 95.7 108.9 L 95.7 101.2 \" fill=\"#0000FF\"/>\n",
       "<path class=\"atom-23\" d=\"M 177.0 78.3 Q 177.0 78.3, 177.4 78.5 Q 177.8 78.6, 178.2 78.7 Q 178.6 78.8, 178.9 78.8 Q 179.7 78.8, 180.1 78.5 Q 180.5 78.1, 180.5 77.5 Q 180.5 77.1, 180.3 76.8 Q 180.1 76.5, 179.8 76.4 Q 179.4 76.2, 178.9 76.1 Q 178.2 75.9, 177.8 75.7 Q 177.4 75.5, 177.1 75.1 Q 176.8 74.7, 176.8 74.0 Q 176.8 73.0, 177.5 72.4 Q 178.1 71.8, 179.4 71.8 Q 180.3 71.8, 181.3 72.2 L 181.1 73.1 Q 180.2 72.7, 179.5 72.7 Q 178.7 72.7, 178.3 73.0 Q 177.9 73.3, 177.9 73.8 Q 177.9 74.2, 178.1 74.5 Q 178.3 74.7, 178.6 74.9 Q 179.0 75.0, 179.5 75.2 Q 180.2 75.4, 180.6 75.6 Q 181.0 75.8, 181.3 76.3 Q 181.6 76.7, 181.6 77.5 Q 181.6 78.5, 180.9 79.1 Q 180.2 79.7, 179.0 79.7 Q 178.3 79.7, 177.8 79.5 Q 177.3 79.4, 176.7 79.1 L 177.0 78.3 \" fill=\"#CCCC00\"/>\n",
       "<path class=\"atom-27\" d=\"M 271.7 10.7 Q 271.7 8.9, 272.6 7.9 Q 273.5 6.8, 275.2 6.8 Q 276.9 6.8, 277.8 7.9 Q 278.7 8.9, 278.7 10.7 Q 278.7 12.6, 277.8 13.7 Q 276.9 14.7, 275.2 14.7 Q 273.5 14.7, 272.6 13.7 Q 271.7 12.6, 271.7 10.7 M 275.2 13.8 Q 276.4 13.8, 277.0 13.1 Q 277.6 12.3, 277.6 10.7 Q 277.6 9.2, 277.0 8.5 Q 276.4 7.7, 275.2 7.7 Q 274.0 7.7, 273.4 8.4 Q 272.8 9.2, 272.8 10.7 Q 272.8 12.3, 273.4 13.1 Q 274.0 13.8, 275.2 13.8 \" fill=\"#FF0000\"/>\n",
       "</svg>"
      ],
      "text/plain": [
       "<IPython.core.display.SVG object>"
      ]
     },
     "metadata": {},
     "output_type": "display_data"
    },
    {
     "data": {
      "image/svg+xml": [
       "<svg xmlns=\"http://www.w3.org/2000/svg\" xmlns:rdkit=\"http://www.rdkit.org/xml\" xmlns:xlink=\"http://www.w3.org/1999/xlink\" version=\"1.1\" baseProfile=\"full\" xml:space=\"preserve\" width=\"450px\" height=\"150px\" viewBox=\"0 0 450 150\">\n",
       "<!-- END OF HEADER -->\n",
       "<rect style=\"opacity:1.0;fill:#FFFFFF;stroke:none\" width=\"450.0\" height=\"150.0\" x=\"0.0\" y=\"0.0\"> </rect>\n",
       "<path class=\"bond-0 atom-0 atom-1\" d=\"M 335.8,109.7 L 304.7,112.0\" style=\"fill:none;fill-rule:evenodd;stroke:#000000;stroke-width:2.0px;stroke-linecap:butt;stroke-linejoin:miter;stroke-opacity:1\"/>\n",
       "<path class=\"bond-1 atom-1 atom-2\" d=\"M 304.7,112.0 L 287.3,86.2\" style=\"fill:none;fill-rule:evenodd;stroke:#000000;stroke-width:2.0px;stroke-linecap:butt;stroke-linejoin:miter;stroke-opacity:1\"/>\n",
       "<path class=\"bond-2 atom-2 atom-3\" d=\"M 287.3,86.2 L 291.6,74.3\" style=\"fill:none;fill-rule:evenodd;stroke:#000000;stroke-width:2.0px;stroke-linecap:butt;stroke-linejoin:miter;stroke-opacity:1\"/>\n",
       "<path class=\"bond-2 atom-2 atom-3\" d=\"M 291.6,74.3 L 295.9,62.4\" style=\"fill:none;fill-rule:evenodd;stroke:#0000FF;stroke-width:2.0px;stroke-linecap:butt;stroke-linejoin:miter;stroke-opacity:1\"/>\n",
       "<path class=\"bond-2 atom-2 atom-3\" d=\"M 284.1,81.5 L 287.8,71.2\" style=\"fill:none;fill-rule:evenodd;stroke:#000000;stroke-width:2.0px;stroke-linecap:butt;stroke-linejoin:miter;stroke-opacity:1\"/>\n",
       "<path class=\"bond-2 atom-2 atom-3\" d=\"M 287.8,71.2 L 291.5,60.8\" style=\"fill:none;fill-rule:evenodd;stroke:#0000FF;stroke-width:2.0px;stroke-linecap:butt;stroke-linejoin:miter;stroke-opacity:1\"/>\n",
       "<path class=\"bond-3 atom-3 atom-4\" d=\"M 293.5,53.6 L 277.7,41.3\" style=\"fill:none;fill-rule:evenodd;stroke:#0000FF;stroke-width:2.0px;stroke-linecap:butt;stroke-linejoin:miter;stroke-opacity:1\"/>\n",
       "<path class=\"bond-4 atom-4 atom-5\" d=\"M 273.5,32.5 L 273.9,19.6\" style=\"fill:none;fill-rule:evenodd;stroke:#0000FF;stroke-width:2.0px;stroke-linecap:butt;stroke-linejoin:miter;stroke-opacity:1\"/>\n",
       "<path class=\"bond-4 atom-4 atom-5\" d=\"M 273.9,19.6 L 274.3,6.8\" style=\"fill:none;fill-rule:evenodd;stroke:#000000;stroke-width:2.0px;stroke-linecap:butt;stroke-linejoin:miter;stroke-opacity:1\"/>\n",
       "<path class=\"bond-5 atom-4 atom-6\" d=\"M 268.9,40.9 L 258.2,48.1\" style=\"fill:none;fill-rule:evenodd;stroke:#0000FF;stroke-width:2.0px;stroke-linecap:butt;stroke-linejoin:miter;stroke-opacity:1\"/>\n",
       "<path class=\"bond-5 atom-4 atom-6\" d=\"M 258.2,48.1 L 247.6,55.4\" style=\"fill:none;fill-rule:evenodd;stroke:#000000;stroke-width:2.0px;stroke-linecap:butt;stroke-linejoin:miter;stroke-opacity:1\"/>\n",
       "<path class=\"bond-6 atom-6 atom-7\" d=\"M 247.6,55.4 L 256.2,85.2\" style=\"fill:none;fill-rule:evenodd;stroke:#000000;stroke-width:2.0px;stroke-linecap:butt;stroke-linejoin:miter;stroke-opacity:1\"/>\n",
       "<path class=\"bond-6 atom-6 atom-7\" d=\"M 253.0,57.3 L 259.7,80.7\" style=\"fill:none;fill-rule:evenodd;stroke:#000000;stroke-width:2.0px;stroke-linecap:butt;stroke-linejoin:miter;stroke-opacity:1\"/>\n",
       "<path class=\"bond-7 atom-7 atom-8\" d=\"M 256.2,85.2 L 237.1,109.8\" style=\"fill:none;fill-rule:evenodd;stroke:#000000;stroke-width:2.0px;stroke-linecap:butt;stroke-linejoin:miter;stroke-opacity:1\"/>\n",
       "<path class=\"bond-8 atom-8 atom-9\" d=\"M 234.4,109.4 L 239.4,121.7\" style=\"fill:none;fill-rule:evenodd;stroke:#000000;stroke-width:2.0px;stroke-linecap:butt;stroke-linejoin:miter;stroke-opacity:1\"/>\n",
       "<path class=\"bond-8 atom-8 atom-9\" d=\"M 239.4,121.7 L 244.4,134.0\" style=\"fill:none;fill-rule:evenodd;stroke:#FF0000;stroke-width:2.0px;stroke-linecap:butt;stroke-linejoin:miter;stroke-opacity:1\"/>\n",
       "<path class=\"bond-8 atom-8 atom-9\" d=\"M 238.8,107.7 L 243.8,119.9\" style=\"fill:none;fill-rule:evenodd;stroke:#000000;stroke-width:2.0px;stroke-linecap:butt;stroke-linejoin:miter;stroke-opacity:1\"/>\n",
       "<path class=\"bond-8 atom-8 atom-9\" d=\"M 243.8,119.9 L 248.8,132.2\" style=\"fill:none;fill-rule:evenodd;stroke:#FF0000;stroke-width:2.0px;stroke-linecap:butt;stroke-linejoin:miter;stroke-opacity:1\"/>\n",
       "<path class=\"bond-9 atom-8 atom-10\" d=\"M 237.1,109.8 L 223.9,108.0\" style=\"fill:none;fill-rule:evenodd;stroke:#000000;stroke-width:2.0px;stroke-linecap:butt;stroke-linejoin:miter;stroke-opacity:1\"/>\n",
       "<path class=\"bond-9 atom-8 atom-10\" d=\"M 223.9,108.0 L 210.7,106.1\" style=\"fill:none;fill-rule:evenodd;stroke:#0000FF;stroke-width:2.0px;stroke-linecap:butt;stroke-linejoin:miter;stroke-opacity:1\"/>\n",
       "<path class=\"bond-10 atom-10 atom-11\" d=\"M 202.1,111.0 L 194.6,120.5\" style=\"fill:none;fill-rule:evenodd;stroke:#0000FF;stroke-width:2.0px;stroke-linecap:butt;stroke-linejoin:miter;stroke-opacity:1\"/>\n",
       "<path class=\"bond-10 atom-10 atom-11\" d=\"M 194.6,120.5 L 187.2,130.1\" style=\"fill:none;fill-rule:evenodd;stroke:#000000;stroke-width:2.0px;stroke-linecap:butt;stroke-linejoin:miter;stroke-opacity:1\"/>\n",
       "<path class=\"bond-11 atom-11 atom-12\" d=\"M 187.2,130.1 L 156.4,125.8\" style=\"fill:none;fill-rule:evenodd;stroke:#000000;stroke-width:2.0px;stroke-linecap:butt;stroke-linejoin:miter;stroke-opacity:1\"/>\n",
       "<path class=\"bond-12 atom-10 atom-13\" d=\"M 204.1,100.1 L 199.3,88.4\" style=\"fill:none;fill-rule:evenodd;stroke:#0000FF;stroke-width:2.0px;stroke-linecap:butt;stroke-linejoin:miter;stroke-opacity:1\"/>\n",
       "<path class=\"bond-12 atom-10 atom-13\" d=\"M 199.3,88.4 L 194.6,76.7\" style=\"fill:none;fill-rule:evenodd;stroke:#000000;stroke-width:2.0px;stroke-linecap:butt;stroke-linejoin:miter;stroke-opacity:1\"/>\n",
       "<path class=\"bond-13 atom-14 atom-13\" d=\"M 167.2,73.2 L 167.2,72.6\" style=\"fill:none;fill-rule:evenodd;stroke:#000000;stroke-width:1.0px;stroke-linecap:butt;stroke-linejoin:miter;stroke-opacity:1\"/>\n",
       "<path class=\"bond-13 atom-14 atom-13\" d=\"M 170.5,74.0 L 170.7,72.8\" style=\"fill:none;fill-rule:evenodd;stroke:#000000;stroke-width:1.0px;stroke-linecap:butt;stroke-linejoin:miter;stroke-opacity:1\"/>\n",
       "<path class=\"bond-13 atom-14 atom-13\" d=\"M 173.9,74.7 L 174.2,73.0\" style=\"fill:none;fill-rule:evenodd;stroke:#000000;stroke-width:1.0px;stroke-linecap:butt;stroke-linejoin:miter;stroke-opacity:1\"/>\n",
       "<path class=\"bond-13 atom-14 atom-13\" d=\"M 177.3,75.5 L 177.6,73.2\" style=\"fill:none;fill-rule:evenodd;stroke:#000000;stroke-width:1.0px;stroke-linecap:butt;stroke-linejoin:miter;stroke-opacity:1\"/>\n",
       "<path class=\"bond-13 atom-14 atom-13\" d=\"M 180.7,76.3 L 181.1,73.4\" style=\"fill:none;fill-rule:evenodd;stroke:#000000;stroke-width:1.0px;stroke-linecap:butt;stroke-linejoin:miter;stroke-opacity:1\"/>\n",
       "<path class=\"bond-13 atom-14 atom-13\" d=\"M 184.1,77.0 L 184.5,73.6\" style=\"fill:none;fill-rule:evenodd;stroke:#000000;stroke-width:1.0px;stroke-linecap:butt;stroke-linejoin:miter;stroke-opacity:1\"/>\n",
       "<path class=\"bond-13 atom-14 atom-13\" d=\"M 187.4,77.8 L 188.0,73.7\" style=\"fill:none;fill-rule:evenodd;stroke:#000000;stroke-width:1.0px;stroke-linecap:butt;stroke-linejoin:miter;stroke-opacity:1\"/>\n",
       "<path class=\"bond-13 atom-14 atom-13\" d=\"M 190.8,78.6 L 191.5,73.9\" style=\"fill:none;fill-rule:evenodd;stroke:#000000;stroke-width:1.0px;stroke-linecap:butt;stroke-linejoin:miter;stroke-opacity:1\"/>\n",
       "<path class=\"bond-14 atom-14 atom-15\" d=\"M 163.8,72.5 L 142.2,94.9\" style=\"fill:none;fill-rule:evenodd;stroke:#000000;stroke-width:2.0px;stroke-linecap:butt;stroke-linejoin:miter;stroke-opacity:1\"/>\n",
       "<path class=\"bond-15 atom-15 atom-16\" d=\"M 142.2,94.9 L 114.2,81.3\" style=\"fill:none;fill-rule:evenodd;stroke:#000000;stroke-width:2.0px;stroke-linecap:butt;stroke-linejoin:miter;stroke-opacity:1\"/>\n",
       "<path class=\"bond-16 atom-16 atom-17\" d=\"M 114.2,81.3 L 118.5,50.5\" style=\"fill:none;fill-rule:evenodd;stroke:#000000;stroke-width:2.0px;stroke-linecap:butt;stroke-linejoin:miter;stroke-opacity:1\"/>\n",
       "<path class=\"bond-17 atom-17 atom-18\" d=\"M 118.5,50.5 L 131.3,48.2\" style=\"fill:none;fill-rule:evenodd;stroke:#000000;stroke-width:2.0px;stroke-linecap:butt;stroke-linejoin:miter;stroke-opacity:1\"/>\n",
       "<path class=\"bond-17 atom-17 atom-18\" d=\"M 131.3,48.2 L 144.0,45.9\" style=\"fill:none;fill-rule:evenodd;stroke:#FF0000;stroke-width:2.0px;stroke-linecap:butt;stroke-linejoin:miter;stroke-opacity:1\"/>\n",
       "<path class=\"bond-18 atom-7 atom-2\" d=\"M 256.2,85.2 L 287.3,86.2\" style=\"fill:none;fill-rule:evenodd;stroke:#000000;stroke-width:2.0px;stroke-linecap:butt;stroke-linejoin:miter;stroke-opacity:1\"/>\n",
       "<path class=\"bond-19 atom-18 atom-14\" d=\"M 152.1,50.7 L 157.9,61.6\" style=\"fill:none;fill-rule:evenodd;stroke:#FF0000;stroke-width:2.0px;stroke-linecap:butt;stroke-linejoin:miter;stroke-opacity:1\"/>\n",
       "<path class=\"bond-19 atom-18 atom-14\" d=\"M 157.9,61.6 L 163.8,72.5\" style=\"fill:none;fill-rule:evenodd;stroke:#000000;stroke-width:2.0px;stroke-linecap:butt;stroke-linejoin:miter;stroke-opacity:1\"/>\n",
       "<path d=\"M 306.3,111.9 L 304.7,112.0 L 303.9,110.7\" style=\"fill:none;stroke:#000000;stroke-width:2.0px;stroke-linecap:butt;stroke-linejoin:miter;stroke-opacity:1;\"/>\n",
       "<path d=\"M 248.1,55.0 L 247.6,55.4 L 248.0,56.8\" style=\"fill:none;stroke:#000000;stroke-width:2.0px;stroke-linecap:butt;stroke-linejoin:miter;stroke-opacity:1;\"/>\n",
       "<path d=\"M 238.1,108.6 L 237.1,109.8 L 236.5,109.7\" style=\"fill:none;stroke:#000000;stroke-width:2.0px;stroke-linecap:butt;stroke-linejoin:miter;stroke-opacity:1;\"/>\n",
       "<path d=\"M 187.6,129.6 L 187.2,130.1 L 185.7,129.9\" style=\"fill:none;stroke:#000000;stroke-width:2.0px;stroke-linecap:butt;stroke-linejoin:miter;stroke-opacity:1;\"/>\n",
       "<path d=\"M 162.7,73.6 L 163.8,72.5 L 163.5,71.9\" style=\"fill:none;stroke:#000000;stroke-width:2.0px;stroke-linecap:butt;stroke-linejoin:miter;stroke-opacity:1;\"/>\n",
       "<path d=\"M 143.3,93.8 L 142.2,94.9 L 140.8,94.2\" style=\"fill:none;stroke:#000000;stroke-width:2.0px;stroke-linecap:butt;stroke-linejoin:miter;stroke-opacity:1;\"/>\n",
       "<path d=\"M 115.6,82.0 L 114.2,81.3 L 114.5,79.8\" style=\"fill:none;stroke:#000000;stroke-width:2.0px;stroke-linecap:butt;stroke-linejoin:miter;stroke-opacity:1;\"/>\n",
       "<path d=\"M 118.3,52.0 L 118.5,50.5 L 119.1,50.4\" style=\"fill:none;stroke:#000000;stroke-width:2.0px;stroke-linecap:butt;stroke-linejoin:miter;stroke-opacity:1;\"/>\n",
       "<path class=\"atom-3\" d=\"M 295.9 52.6 L 298.8 57.3 Q 299.1 57.7, 299.5 58.5 Q 300.0 59.4, 300.0 59.4 L 300.0 52.6 L 301.2 52.6 L 301.2 61.4 L 300.0 61.4 L 296.9 56.3 Q 296.5 55.7, 296.1 55.0 Q 295.8 54.3, 295.7 54.1 L 295.7 61.4 L 294.5 61.4 L 294.5 52.6 L 295.9 52.6 \" fill=\"#0000FF\"/>\n",
       "<path class=\"atom-4\" d=\"M 271.4 33.5 L 274.2 38.2 Q 274.5 38.6, 275.0 39.5 Q 275.4 40.3, 275.5 40.3 L 275.5 33.5 L 276.6 33.5 L 276.6 42.3 L 275.4 42.3 L 272.3 37.2 Q 272.0 36.6, 271.6 35.9 Q 271.2 35.2, 271.1 35.0 L 271.1 42.3 L 270.0 42.3 L 270.0 33.5 L 271.4 33.5 \" fill=\"#0000FF\"/>\n",
       "<path class=\"atom-9\" d=\"M 244.8 138.6 Q 244.8 136.5, 245.8 135.3 Q 246.9 134.1, 248.8 134.1 Q 250.8 134.1, 251.8 135.3 Q 252.9 136.5, 252.9 138.6 Q 252.9 140.8, 251.8 142.0 Q 250.8 143.2, 248.8 143.2 Q 246.9 143.2, 245.8 142.0 Q 244.8 140.8, 244.8 138.6 M 248.8 142.2 Q 250.2 142.2, 250.9 141.3 Q 251.6 140.4, 251.6 138.6 Q 251.6 136.9, 250.9 136.0 Q 250.2 135.1, 248.8 135.1 Q 247.5 135.1, 246.8 136.0 Q 246.0 136.9, 246.0 138.6 Q 246.0 140.4, 246.8 141.3 Q 247.5 142.2, 248.8 142.2 \" fill=\"#FF0000\"/>\n",
       "<path class=\"atom-10\" d=\"M 204.4 101.1 L 207.2 105.8 Q 207.5 106.2, 208.0 107.1 Q 208.5 107.9, 208.5 108.0 L 208.5 101.1 L 209.6 101.1 L 209.6 109.9 L 208.4 109.9 L 205.3 104.8 Q 205.0 104.2, 204.6 103.5 Q 204.2 102.9, 204.1 102.7 L 204.1 109.9 L 203.0 109.9 L 203.0 101.1 L 204.4 101.1 \" fill=\"#0000FF\"/>\n",
       "<path class=\"atom-18\" d=\"M 145.1 45.1 Q 145.1 42.9, 146.1 41.8 Q 147.2 40.6, 149.1 40.6 Q 151.1 40.6, 152.1 41.8 Q 153.2 42.9, 153.2 45.1 Q 153.2 47.2, 152.1 48.4 Q 151.0 49.6, 149.1 49.6 Q 147.2 49.6, 146.1 48.4 Q 145.1 47.2, 145.1 45.1 M 149.1 48.6 Q 150.5 48.6, 151.2 47.7 Q 151.9 46.8, 151.9 45.1 Q 151.9 43.3, 151.2 42.5 Q 150.5 41.6, 149.1 41.6 Q 147.8 41.6, 147.0 42.4 Q 146.3 43.3, 146.3 45.1 Q 146.3 46.8, 147.0 47.7 Q 147.8 48.6, 149.1 48.6 \" fill=\"#FF0000\"/>\n",
       "</svg>"
      ],
      "text/plain": [
       "<IPython.core.display.SVG object>"
      ]
     },
     "metadata": {},
     "output_type": "display_data"
    },
    {
     "data": {
      "image/svg+xml": [
       "<svg xmlns=\"http://www.w3.org/2000/svg\" xmlns:rdkit=\"http://www.rdkit.org/xml\" xmlns:xlink=\"http://www.w3.org/1999/xlink\" version=\"1.1\" baseProfile=\"full\" xml:space=\"preserve\" width=\"450px\" height=\"150px\" viewBox=\"0 0 450 150\">\n",
       "<!-- END OF HEADER -->\n",
       "<rect style=\"opacity:1.0;fill:#FFFFFF;stroke:none\" width=\"450.0\" height=\"150.0\" x=\"0.0\" y=\"0.0\"> </rect>\n",
       "<path class=\"bond-0 atom-0 atom-1\" d=\"M 101.5,100.0 L 124.1,82.9\" style=\"fill:none;fill-rule:evenodd;stroke:#000000;stroke-width:2.0px;stroke-linecap:butt;stroke-linejoin:miter;stroke-opacity:1\"/>\n",
       "<path class=\"bond-1 atom-1 atom-2\" d=\"M 126.4,83.9 L 124.9,71.7\" style=\"fill:none;fill-rule:evenodd;stroke:#000000;stroke-width:2.0px;stroke-linecap:butt;stroke-linejoin:miter;stroke-opacity:1\"/>\n",
       "<path class=\"bond-1 atom-1 atom-2\" d=\"M 124.9,71.7 L 123.4,59.6\" style=\"fill:none;fill-rule:evenodd;stroke:#FF0000;stroke-width:2.0px;stroke-linecap:butt;stroke-linejoin:miter;stroke-opacity:1\"/>\n",
       "<path class=\"bond-1 atom-1 atom-2\" d=\"M 122.2,84.4 L 120.7,72.3\" style=\"fill:none;fill-rule:evenodd;stroke:#000000;stroke-width:2.0px;stroke-linecap:butt;stroke-linejoin:miter;stroke-opacity:1\"/>\n",
       "<path class=\"bond-1 atom-1 atom-2\" d=\"M 120.7,72.3 L 119.2,60.2\" style=\"fill:none;fill-rule:evenodd;stroke:#FF0000;stroke-width:2.0px;stroke-linecap:butt;stroke-linejoin:miter;stroke-opacity:1\"/>\n",
       "<path class=\"bond-2 atom-1 atom-3\" d=\"M 124.1,82.9 L 135.2,87.6\" style=\"fill:none;fill-rule:evenodd;stroke:#000000;stroke-width:2.0px;stroke-linecap:butt;stroke-linejoin:miter;stroke-opacity:1\"/>\n",
       "<path class=\"bond-2 atom-1 atom-3\" d=\"M 135.2,87.6 L 146.2,92.3\" style=\"fill:none;fill-rule:evenodd;stroke:#0000FF;stroke-width:2.0px;stroke-linecap:butt;stroke-linejoin:miter;stroke-opacity:1\"/>\n",
       "<path class=\"bond-3 atom-3 atom-4\" d=\"M 154.2,90.9 L 163.5,83.9\" style=\"fill:none;fill-rule:evenodd;stroke:#0000FF;stroke-width:2.0px;stroke-linecap:butt;stroke-linejoin:miter;stroke-opacity:1\"/>\n",
       "<path class=\"bond-3 atom-3 atom-4\" d=\"M 163.5,83.9 L 172.8,76.9\" style=\"fill:none;fill-rule:evenodd;stroke:#000000;stroke-width:2.0px;stroke-linecap:butt;stroke-linejoin:miter;stroke-opacity:1\"/>\n",
       "<path class=\"bond-4 atom-4 atom-5\" d=\"M 172.8,76.9 L 169.3,48.8\" style=\"fill:none;fill-rule:evenodd;stroke:#000000;stroke-width:2.0px;stroke-linecap:butt;stroke-linejoin:miter;stroke-opacity:1\"/>\n",
       "<path class=\"bond-4 atom-4 atom-5\" d=\"M 176.7,73.9 L 173.9,50.7\" style=\"fill:none;fill-rule:evenodd;stroke:#000000;stroke-width:2.0px;stroke-linecap:butt;stroke-linejoin:miter;stroke-opacity:1\"/>\n",
       "<path class=\"bond-5 atom-5 atom-6\" d=\"M 169.3,48.8 L 192.0,31.7\" style=\"fill:none;fill-rule:evenodd;stroke:#000000;stroke-width:2.0px;stroke-linecap:butt;stroke-linejoin:miter;stroke-opacity:1\"/>\n",
       "<path class=\"bond-6 atom-6 atom-7\" d=\"M 192.0,31.7 L 218.0,42.7\" style=\"fill:none;fill-rule:evenodd;stroke:#000000;stroke-width:2.0px;stroke-linecap:butt;stroke-linejoin:miter;stroke-opacity:1\"/>\n",
       "<path class=\"bond-6 atom-6 atom-7\" d=\"M 192.6,36.6 L 214.1,45.7\" style=\"fill:none;fill-rule:evenodd;stroke:#000000;stroke-width:2.0px;stroke-linecap:butt;stroke-linejoin:miter;stroke-opacity:1\"/>\n",
       "<path class=\"bond-7 atom-7 atom-8\" d=\"M 218.0,42.7 L 227.4,35.7\" style=\"fill:none;fill-rule:evenodd;stroke:#000000;stroke-width:2.0px;stroke-linecap:butt;stroke-linejoin:miter;stroke-opacity:1\"/>\n",
       "<path class=\"bond-7 atom-7 atom-8\" d=\"M 227.4,35.7 L 236.7,28.7\" style=\"fill:none;fill-rule:evenodd;stroke:#0000FF;stroke-width:2.0px;stroke-linecap:butt;stroke-linejoin:miter;stroke-opacity:1\"/>\n",
       "<path class=\"bond-8 atom-8 atom-9\" d=\"M 244.6,27.4 L 255.7,32.0\" style=\"fill:none;fill-rule:evenodd;stroke:#0000FF;stroke-width:2.0px;stroke-linecap:butt;stroke-linejoin:miter;stroke-opacity:1\"/>\n",
       "<path class=\"bond-8 atom-8 atom-9\" d=\"M 255.7,32.0 L 266.8,36.7\" style=\"fill:none;fill-rule:evenodd;stroke:#000000;stroke-width:2.0px;stroke-linecap:butt;stroke-linejoin:miter;stroke-opacity:1\"/>\n",
       "<path class=\"bond-9 atom-9 atom-10\" d=\"M 264.5,35.8 L 266.0,47.9\" style=\"fill:none;fill-rule:evenodd;stroke:#000000;stroke-width:2.0px;stroke-linecap:butt;stroke-linejoin:miter;stroke-opacity:1\"/>\n",
       "<path class=\"bond-9 atom-9 atom-10\" d=\"M 266.0,47.9 L 267.5,60.1\" style=\"fill:none;fill-rule:evenodd;stroke:#FF0000;stroke-width:2.0px;stroke-linecap:butt;stroke-linejoin:miter;stroke-opacity:1\"/>\n",
       "<path class=\"bond-9 atom-9 atom-10\" d=\"M 268.7,35.2 L 270.2,47.4\" style=\"fill:none;fill-rule:evenodd;stroke:#000000;stroke-width:2.0px;stroke-linecap:butt;stroke-linejoin:miter;stroke-opacity:1\"/>\n",
       "<path class=\"bond-9 atom-9 atom-10\" d=\"M 270.2,47.4 L 271.7,59.6\" style=\"fill:none;fill-rule:evenodd;stroke:#FF0000;stroke-width:2.0px;stroke-linecap:butt;stroke-linejoin:miter;stroke-opacity:1\"/>\n",
       "<path class=\"bond-10 atom-9 atom-11\" d=\"M 266.8,36.7 L 276.1,29.7\" style=\"fill:none;fill-rule:evenodd;stroke:#000000;stroke-width:2.0px;stroke-linecap:butt;stroke-linejoin:miter;stroke-opacity:1\"/>\n",
       "<path class=\"bond-10 atom-9 atom-11\" d=\"M 276.1,29.7 L 285.4,22.7\" style=\"fill:none;fill-rule:evenodd;stroke:#0000FF;stroke-width:2.0px;stroke-linecap:butt;stroke-linejoin:miter;stroke-opacity:1\"/>\n",
       "<path class=\"bond-11 atom-11 atom-12\" d=\"M 293.3,21.3 L 304.4,26.0\" style=\"fill:none;fill-rule:evenodd;stroke:#0000FF;stroke-width:2.0px;stroke-linecap:butt;stroke-linejoin:miter;stroke-opacity:1\"/>\n",
       "<path class=\"bond-11 atom-11 atom-12\" d=\"M 304.4,26.0 L 315.5,30.7\" style=\"fill:none;fill-rule:evenodd;stroke:#000000;stroke-width:2.0px;stroke-linecap:butt;stroke-linejoin:miter;stroke-opacity:1\"/>\n",
       "<path class=\"bond-12 atom-12 atom-13\" d=\"M 315.5,30.7 L 336.8,11.9 L 339.4,15.3 Z\" style=\"fill:#000000;fill-rule:evenodd;fill-opacity:1;stroke:#000000;stroke-width:0.5px;stroke-linecap:butt;stroke-linejoin:miter;stroke-opacity:1;\"/>\n",
       "<path class=\"bond-13 atom-12 atom-14\" d=\"M 315.5,30.7 L 318.9,58.8\" style=\"fill:none;fill-rule:evenodd;stroke:#000000;stroke-width:2.0px;stroke-linecap:butt;stroke-linejoin:miter;stroke-opacity:1\"/>\n",
       "<path class=\"bond-14 atom-14 atom-15\" d=\"M 318.9,58.8 L 296.3,75.9\" style=\"fill:none;fill-rule:evenodd;stroke:#000000;stroke-width:2.0px;stroke-linecap:butt;stroke-linejoin:miter;stroke-opacity:1\"/>\n",
       "<path class=\"bond-14 atom-14 atom-15\" d=\"M 319.5,63.7 L 300.8,77.8\" style=\"fill:none;fill-rule:evenodd;stroke:#000000;stroke-width:2.0px;stroke-linecap:butt;stroke-linejoin:miter;stroke-opacity:1\"/>\n",
       "<path class=\"bond-15 atom-15 atom-16\" d=\"M 296.3,75.9 L 299.8,104.0\" style=\"fill:none;fill-rule:evenodd;stroke:#000000;stroke-width:2.0px;stroke-linecap:butt;stroke-linejoin:miter;stroke-opacity:1\"/>\n",
       "<path class=\"bond-16 atom-16 atom-17\" d=\"M 299.8,104.0 L 325.9,115.1\" style=\"fill:none;fill-rule:evenodd;stroke:#000000;stroke-width:2.0px;stroke-linecap:butt;stroke-linejoin:miter;stroke-opacity:1\"/>\n",
       "<path class=\"bond-16 atom-16 atom-17\" d=\"M 303.7,101.1 L 325.3,110.2\" style=\"fill:none;fill-rule:evenodd;stroke:#000000;stroke-width:2.0px;stroke-linecap:butt;stroke-linejoin:miter;stroke-opacity:1\"/>\n",
       "<path class=\"bond-17 atom-17 atom-18\" d=\"M 325.9,115.1 L 329.4,143.2\" style=\"fill:none;fill-rule:evenodd;stroke:#000000;stroke-width:2.0px;stroke-linecap:butt;stroke-linejoin:miter;stroke-opacity:1\"/>\n",
       "<path class=\"bond-18 atom-17 atom-19\" d=\"M 325.9,115.1 L 348.5,98.0\" style=\"fill:none;fill-rule:evenodd;stroke:#000000;stroke-width:2.0px;stroke-linecap:butt;stroke-linejoin:miter;stroke-opacity:1\"/>\n",
       "<path class=\"bond-19 atom-19 atom-20\" d=\"M 348.5,98.0 L 345.0,69.9\" style=\"fill:none;fill-rule:evenodd;stroke:#000000;stroke-width:2.0px;stroke-linecap:butt;stroke-linejoin:miter;stroke-opacity:1\"/>\n",
       "<path class=\"bond-19 atom-19 atom-20\" d=\"M 344.0,96.1 L 341.1,72.8\" style=\"fill:none;fill-rule:evenodd;stroke:#000000;stroke-width:2.0px;stroke-linecap:butt;stroke-linejoin:miter;stroke-opacity:1\"/>\n",
       "<path class=\"bond-20 atom-7 atom-21\" d=\"M 218.0,42.7 L 221.5,70.9\" style=\"fill:none;fill-rule:evenodd;stroke:#000000;stroke-width:2.0px;stroke-linecap:butt;stroke-linejoin:miter;stroke-opacity:1\"/>\n",
       "<path class=\"bond-21 atom-21 atom-22\" d=\"M 221.5,70.9 L 232.6,75.5\" style=\"fill:none;fill-rule:evenodd;stroke:#000000;stroke-width:2.0px;stroke-linecap:butt;stroke-linejoin:miter;stroke-opacity:1\"/>\n",
       "<path class=\"bond-21 atom-21 atom-22\" d=\"M 232.6,75.5 L 243.6,80.2\" style=\"fill:none;fill-rule:evenodd;stroke:#00CC00;stroke-width:2.0px;stroke-linecap:butt;stroke-linejoin:miter;stroke-opacity:1\"/>\n",
       "<path class=\"bond-22 atom-21 atom-23\" d=\"M 221.5,70.9 L 198.9,87.9\" style=\"fill:none;fill-rule:evenodd;stroke:#000000;stroke-width:2.0px;stroke-linecap:butt;stroke-linejoin:miter;stroke-opacity:1\"/>\n",
       "<path class=\"bond-22 atom-21 atom-23\" d=\"M 217.0,69.0 L 198.3,83.1\" style=\"fill:none;fill-rule:evenodd;stroke:#000000;stroke-width:2.0px;stroke-linecap:butt;stroke-linejoin:miter;stroke-opacity:1\"/>\n",
       "<path class=\"bond-23 atom-23 atom-4\" d=\"M 198.9,87.9 L 172.8,76.9\" style=\"fill:none;fill-rule:evenodd;stroke:#000000;stroke-width:2.0px;stroke-linecap:butt;stroke-linejoin:miter;stroke-opacity:1\"/>\n",
       "<path class=\"bond-24 atom-20 atom-14\" d=\"M 345.0,69.9 L 318.9,58.8\" style=\"fill:none;fill-rule:evenodd;stroke:#000000;stroke-width:2.0px;stroke-linecap:butt;stroke-linejoin:miter;stroke-opacity:1\"/>\n",
       "<path d=\"M 123.0,83.8 L 124.1,82.9 L 124.7,83.1\" style=\"fill:none;stroke:#000000;stroke-width:2.0px;stroke-linecap:butt;stroke-linejoin:miter;stroke-opacity:1;\"/>\n",
       "<path d=\"M 169.5,50.2 L 169.3,48.8 L 170.5,47.9\" style=\"fill:none;stroke:#000000;stroke-width:2.0px;stroke-linecap:butt;stroke-linejoin:miter;stroke-opacity:1;\"/>\n",
       "<path d=\"M 190.8,32.5 L 192.0,31.7 L 193.3,32.2\" style=\"fill:none;stroke:#000000;stroke-width:2.0px;stroke-linecap:butt;stroke-linejoin:miter;stroke-opacity:1;\"/>\n",
       "<path d=\"M 266.2,36.5 L 266.8,36.7 L 267.2,36.4\" style=\"fill:none;stroke:#000000;stroke-width:2.0px;stroke-linecap:butt;stroke-linejoin:miter;stroke-opacity:1;\"/>\n",
       "<path d=\"M 314.9,30.5 L 315.5,30.7 L 315.6,32.1\" style=\"fill:none;stroke:#000000;stroke-width:2.0px;stroke-linecap:butt;stroke-linejoin:miter;stroke-opacity:1;\"/>\n",
       "<path d=\"M 297.4,75.0 L 296.3,75.9 L 296.5,77.3\" style=\"fill:none;stroke:#000000;stroke-width:2.0px;stroke-linecap:butt;stroke-linejoin:miter;stroke-opacity:1;\"/>\n",
       "<path d=\"M 299.6,102.6 L 299.8,104.0 L 301.1,104.6\" style=\"fill:none;stroke:#000000;stroke-width:2.0px;stroke-linecap:butt;stroke-linejoin:miter;stroke-opacity:1;\"/>\n",
       "<path d=\"M 347.4,98.8 L 348.5,98.0 L 348.3,96.6\" style=\"fill:none;stroke:#000000;stroke-width:2.0px;stroke-linecap:butt;stroke-linejoin:miter;stroke-opacity:1;\"/>\n",
       "<path d=\"M 345.2,71.3 L 345.0,69.9 L 343.7,69.3\" style=\"fill:none;stroke:#000000;stroke-width:2.0px;stroke-linecap:butt;stroke-linejoin:miter;stroke-opacity:1;\"/>\n",
       "<path d=\"M 200.0,87.1 L 198.9,87.9 L 197.6,87.4\" style=\"fill:none;stroke:#000000;stroke-width:2.0px;stroke-linecap:butt;stroke-linejoin:miter;stroke-opacity:1;\"/>\n",
       "<path class=\"atom-2\" d=\"M 117.0 54.8 Q 117.0 52.9, 117.9 51.8 Q 118.9 50.7, 120.6 50.7 Q 122.4 50.7, 123.4 51.8 Q 124.3 52.9, 124.3 54.8 Q 124.3 56.8, 123.4 57.9 Q 122.4 59.0, 120.6 59.0 Q 118.9 59.0, 117.9 57.9 Q 117.0 56.8, 117.0 54.8 M 120.6 58.1 Q 121.9 58.1, 122.5 57.2 Q 123.2 56.4, 123.2 54.8 Q 123.2 53.2, 122.5 52.4 Q 121.9 51.6, 120.6 51.6 Q 119.4 51.6, 118.7 52.4 Q 118.1 53.2, 118.1 54.8 Q 118.1 56.4, 118.7 57.2 Q 119.4 58.1, 120.6 58.1 \" fill=\"#FF0000\"/>\n",
       "<path class=\"atom-3\" d=\"M 148.4 89.9 L 151.1 94.2 Q 151.3 94.6, 151.7 95.4 Q 152.2 96.1, 152.2 96.2 L 152.2 89.9 L 153.3 89.9 L 153.3 98.0 L 152.2 98.0 L 149.3 93.3 Q 149.0 92.8, 148.6 92.2 Q 148.3 91.5, 148.2 91.3 L 148.2 98.0 L 147.2 98.0 L 147.2 89.9 L 148.4 89.9 \" fill=\"#0000FF\"/>\n",
       "<path class=\"atom-3\" d=\"M 147.1 98.8 L 148.2 98.8 L 148.2 102.2 L 152.3 102.2 L 152.3 98.8 L 153.3 98.8 L 153.3 106.8 L 152.3 106.8 L 152.3 103.1 L 148.2 103.1 L 148.2 106.8 L 147.1 106.8 L 147.1 98.8 \" fill=\"#0000FF\"/>\n",
       "<path class=\"atom-8\" d=\"M 238.9 21.7 L 241.5 25.9 Q 241.8 26.3, 242.2 27.1 Q 242.6 27.9, 242.6 27.9 L 242.6 21.7 L 243.7 21.7 L 243.7 29.7 L 242.6 29.7 L 239.8 25.0 Q 239.5 24.5, 239.1 23.9 Q 238.8 23.3, 238.7 23.1 L 238.7 29.7 L 237.6 29.7 L 237.6 21.7 L 238.9 21.7 \" fill=\"#0000FF\"/>\n",
       "<path class=\"atom-8\" d=\"M 237.5 12.8 L 238.6 12.8 L 238.6 16.2 L 242.7 16.2 L 242.7 12.8 L 243.8 12.8 L 243.8 20.9 L 242.7 20.9 L 242.7 17.2 L 238.6 17.2 L 238.6 20.9 L 237.5 20.9 L 237.5 12.8 \" fill=\"#0000FF\"/>\n",
       "<path class=\"atom-10\" d=\"M 266.5 64.9 Q 266.5 62.9, 267.5 61.9 Q 268.4 60.8, 270.2 60.8 Q 272.0 60.8, 273.0 61.9 Q 273.9 62.9, 273.9 64.9 Q 273.9 66.8, 272.9 67.9 Q 272.0 69.0, 270.2 69.0 Q 268.5 69.0, 267.5 67.9 Q 266.5 66.8, 266.5 64.9 M 270.2 68.1 Q 271.5 68.1, 272.1 67.3 Q 272.8 66.5, 272.8 64.9 Q 272.8 63.3, 272.1 62.5 Q 271.5 61.7, 270.2 61.7 Q 269.0 61.7, 268.3 62.5 Q 267.7 63.3, 267.7 64.9 Q 267.7 66.5, 268.3 67.3 Q 269.0 68.1, 270.2 68.1 \" fill=\"#FF0000\"/>\n",
       "<path class=\"atom-11\" d=\"M 287.6 15.6 L 290.2 19.9 Q 290.5 20.3, 290.9 21.1 Q 291.3 21.8, 291.3 21.9 L 291.3 15.6 L 292.4 15.6 L 292.4 23.7 L 291.3 23.7 L 288.5 19.0 Q 288.2 18.5, 287.8 17.9 Q 287.5 17.2, 287.4 17.0 L 287.4 23.7 L 286.3 23.7 L 286.3 15.6 L 287.6 15.6 \" fill=\"#0000FF\"/>\n",
       "<path class=\"atom-11\" d=\"M 286.2 6.8 L 287.3 6.8 L 287.3 10.2 L 291.4 10.2 L 291.4 6.8 L 292.5 6.8 L 292.5 14.8 L 291.4 14.8 L 291.4 11.1 L 287.3 11.1 L 287.3 14.8 L 286.2 14.8 L 286.2 6.8 \" fill=\"#0000FF\"/>\n",
       "<path class=\"atom-22\" d=\"M 244.5 82.2 Q 244.5 80.2, 245.4 79.2 Q 246.4 78.1, 248.2 78.1 Q 249.8 78.1, 250.7 79.3 L 250.0 79.9 Q 249.3 79.0, 248.2 79.0 Q 247.0 79.0, 246.3 79.8 Q 245.7 80.7, 245.7 82.2 Q 245.7 83.8, 246.3 84.6 Q 247.0 85.4, 248.3 85.4 Q 249.2 85.4, 250.2 84.9 L 250.5 85.7 Q 250.1 86.0, 249.5 86.2 Q 248.8 86.3, 248.1 86.3 Q 246.4 86.3, 245.4 85.3 Q 244.5 84.2, 244.5 82.2 \" fill=\"#00CC00\"/>\n",
       "<path class=\"atom-22\" d=\"M 251.5 77.6 L 252.6 77.6 L 252.6 86.2 L 251.5 86.2 L 251.5 77.6 \" fill=\"#00CC00\"/>\n",
       "</svg>"
      ],
      "text/plain": [
       "<IPython.core.display.SVG object>"
      ]
     },
     "metadata": {},
     "output_type": "display_data"
    },
    {
     "data": {
      "image/svg+xml": [
       "<svg xmlns=\"http://www.w3.org/2000/svg\" xmlns:rdkit=\"http://www.rdkit.org/xml\" xmlns:xlink=\"http://www.w3.org/1999/xlink\" version=\"1.1\" baseProfile=\"full\" xml:space=\"preserve\" width=\"450px\" height=\"150px\" viewBox=\"0 0 450 150\">\n",
       "<!-- END OF HEADER -->\n",
       "<rect style=\"opacity:1.0;fill:#FFFFFF;stroke:none\" width=\"450.0\" height=\"150.0\" x=\"0.0\" y=\"0.0\"> </rect>\n",
       "<path class=\"bond-0 atom-0 atom-1\" d=\"M 342.1,6.8 L 337.1,33.8\" style=\"fill:none;fill-rule:evenodd;stroke:#000000;stroke-width:2.0px;stroke-linecap:butt;stroke-linejoin:miter;stroke-opacity:1\"/>\n",
       "<path class=\"bond-1 atom-1 atom-2\" d=\"M 337.1,33.8 L 358.1,51.6\" style=\"fill:none;fill-rule:evenodd;stroke:#000000;stroke-width:2.0px;stroke-linecap:butt;stroke-linejoin:miter;stroke-opacity:1\"/>\n",
       "<path class=\"bond-1 atom-1 atom-2\" d=\"M 336.3,38.5 L 353.6,53.2\" style=\"fill:none;fill-rule:evenodd;stroke:#000000;stroke-width:2.0px;stroke-linecap:butt;stroke-linejoin:miter;stroke-opacity:1\"/>\n",
       "<path class=\"bond-2 atom-2 atom-3\" d=\"M 358.1,51.6 L 353.1,78.6\" style=\"fill:none;fill-rule:evenodd;stroke:#000000;stroke-width:2.0px;stroke-linecap:butt;stroke-linejoin:miter;stroke-opacity:1\"/>\n",
       "<path class=\"bond-3 atom-3 atom-4\" d=\"M 353.1,78.6 L 327.3,87.8\" style=\"fill:none;fill-rule:evenodd;stroke:#000000;stroke-width:2.0px;stroke-linecap:butt;stroke-linejoin:miter;stroke-opacity:1\"/>\n",
       "<path class=\"bond-3 atom-3 atom-4\" d=\"M 349.5,75.5 L 328.1,83.1\" style=\"fill:none;fill-rule:evenodd;stroke:#000000;stroke-width:2.0px;stroke-linecap:butt;stroke-linejoin:miter;stroke-opacity:1\"/>\n",
       "<path class=\"bond-4 atom-4 atom-5\" d=\"M 327.3,87.8 L 306.4,70.0\" style=\"fill:none;fill-rule:evenodd;stroke:#000000;stroke-width:2.0px;stroke-linecap:butt;stroke-linejoin:miter;stroke-opacity:1\"/>\n",
       "<path class=\"bond-5 atom-5 atom-6\" d=\"M 306.4,70.0 L 280.5,79.2\" style=\"fill:none;fill-rule:evenodd;stroke:#000000;stroke-width:2.0px;stroke-linecap:butt;stroke-linejoin:miter;stroke-opacity:1\"/>\n",
       "<path class=\"bond-6 atom-6 atom-7\" d=\"M 280.5,79.2 L 277.3,90.0\" style=\"fill:none;fill-rule:evenodd;stroke:#000000;stroke-width:2.0px;stroke-linecap:butt;stroke-linejoin:miter;stroke-opacity:1\"/>\n",
       "<path class=\"bond-6 atom-6 atom-7\" d=\"M 277.3,90.0 L 274.2,100.8\" style=\"fill:none;fill-rule:evenodd;stroke:#0000FF;stroke-width:2.0px;stroke-linecap:butt;stroke-linejoin:miter;stroke-opacity:1\"/>\n",
       "<path class=\"bond-7 atom-7 atom-8\" d=\"M 268.9,105.7 L 257.1,106.0\" style=\"fill:none;fill-rule:evenodd;stroke:#0000FF;stroke-width:2.0px;stroke-linecap:butt;stroke-linejoin:miter;stroke-opacity:1\"/>\n",
       "<path class=\"bond-7 atom-7 atom-8\" d=\"M 257.1,106.0 L 245.3,106.3\" style=\"fill:none;fill-rule:evenodd;stroke:#000000;stroke-width:2.0px;stroke-linecap:butt;stroke-linejoin:miter;stroke-opacity:1\"/>\n",
       "<path class=\"bond-7 atom-7 atom-8\" d=\"M 268.8,101.5 L 258.5,101.8\" style=\"fill:none;fill-rule:evenodd;stroke:#0000FF;stroke-width:2.0px;stroke-linecap:butt;stroke-linejoin:miter;stroke-opacity:1\"/>\n",
       "<path class=\"bond-7 atom-7 atom-8\" d=\"M 258.5,101.8 L 248.2,102.1\" style=\"fill:none;fill-rule:evenodd;stroke:#000000;stroke-width:2.0px;stroke-linecap:butt;stroke-linejoin:miter;stroke-opacity:1\"/>\n",
       "<path class=\"bond-8 atom-8 atom-9\" d=\"M 245.3,106.3 L 238.4,114.5\" style=\"fill:none;fill-rule:evenodd;stroke:#000000;stroke-width:2.0px;stroke-linecap:butt;stroke-linejoin:miter;stroke-opacity:1\"/>\n",
       "<path class=\"bond-8 atom-8 atom-9\" d=\"M 238.4,114.5 L 231.4,122.7\" style=\"fill:none;fill-rule:evenodd;stroke:#0000FF;stroke-width:2.0px;stroke-linecap:butt;stroke-linejoin:miter;stroke-opacity:1\"/>\n",
       "<path class=\"bond-9 atom-9 atom-10\" d=\"M 223.7,126.5 L 212.1,124.4\" style=\"fill:none;fill-rule:evenodd;stroke:#0000FF;stroke-width:2.0px;stroke-linecap:butt;stroke-linejoin:miter;stroke-opacity:1\"/>\n",
       "<path class=\"bond-9 atom-9 atom-10\" d=\"M 212.1,124.4 L 200.6,122.3\" style=\"fill:none;fill-rule:evenodd;stroke:#000000;stroke-width:2.0px;stroke-linecap:butt;stroke-linejoin:miter;stroke-opacity:1\"/>\n",
       "<path class=\"bond-9 atom-9 atom-10\" d=\"M 224.4,122.5 L 214.0,120.6\" style=\"fill:none;fill-rule:evenodd;stroke:#0000FF;stroke-width:2.0px;stroke-linecap:butt;stroke-linejoin:miter;stroke-opacity:1\"/>\n",
       "<path class=\"bond-9 atom-9 atom-10\" d=\"M 214.0,120.6 L 203.6,118.7\" style=\"fill:none;fill-rule:evenodd;stroke:#000000;stroke-width:2.0px;stroke-linecap:butt;stroke-linejoin:miter;stroke-opacity:1\"/>\n",
       "<path class=\"bond-10 atom-10 atom-11\" d=\"M 200.6,122.3 L 182.8,143.2\" style=\"fill:none;fill-rule:evenodd;stroke:#000000;stroke-width:2.0px;stroke-linecap:butt;stroke-linejoin:miter;stroke-opacity:1\"/>\n",
       "<path class=\"bond-11 atom-10 atom-12\" d=\"M 200.6,122.3 L 191.3,96.4\" style=\"fill:none;fill-rule:evenodd;stroke:#000000;stroke-width:2.0px;stroke-linecap:butt;stroke-linejoin:miter;stroke-opacity:1\"/>\n",
       "<path class=\"bond-12 atom-12 atom-13\" d=\"M 191.3,96.4 L 164.4,91.5\" style=\"fill:none;fill-rule:evenodd;stroke:#000000;stroke-width:2.0px;stroke-linecap:butt;stroke-linejoin:miter;stroke-opacity:1\"/>\n",
       "<path class=\"bond-13 atom-13 atom-14\" d=\"M 164.4,91.5 L 155.1,65.6\" style=\"fill:none;fill-rule:evenodd;stroke:#000000;stroke-width:2.0px;stroke-linecap:butt;stroke-linejoin:miter;stroke-opacity:1\"/>\n",
       "<path class=\"bond-14 atom-14 atom-15\" d=\"M 155.9,67.9 L 163.1,59.4\" style=\"fill:none;fill-rule:evenodd;stroke:#000000;stroke-width:2.0px;stroke-linecap:butt;stroke-linejoin:miter;stroke-opacity:1\"/>\n",
       "<path class=\"bond-14 atom-14 atom-15\" d=\"M 163.1,59.4 L 170.3,51.0\" style=\"fill:none;fill-rule:evenodd;stroke:#FF0000;stroke-width:2.0px;stroke-linecap:butt;stroke-linejoin:miter;stroke-opacity:1\"/>\n",
       "<path class=\"bond-14 atom-14 atom-15\" d=\"M 152.8,65.2 L 160.0,56.8\" style=\"fill:none;fill-rule:evenodd;stroke:#000000;stroke-width:2.0px;stroke-linecap:butt;stroke-linejoin:miter;stroke-opacity:1\"/>\n",
       "<path class=\"bond-14 atom-14 atom-15\" d=\"M 160.0,56.8 L 167.1,48.4\" style=\"fill:none;fill-rule:evenodd;stroke:#FF0000;stroke-width:2.0px;stroke-linecap:butt;stroke-linejoin:miter;stroke-opacity:1\"/>\n",
       "<path class=\"bond-15 atom-14 atom-16\" d=\"M 155.1,65.6 L 143.6,63.5\" style=\"fill:none;fill-rule:evenodd;stroke:#000000;stroke-width:2.0px;stroke-linecap:butt;stroke-linejoin:miter;stroke-opacity:1\"/>\n",
       "<path class=\"bond-15 atom-14 atom-16\" d=\"M 143.6,63.5 L 132.0,61.4\" style=\"fill:none;fill-rule:evenodd;stroke:#0000FF;stroke-width:2.0px;stroke-linecap:butt;stroke-linejoin:miter;stroke-opacity:1\"/>\n",
       "<path class=\"bond-16 atom-16 atom-17\" d=\"M 126.4,55.9 L 122.7,45.4\" style=\"fill:none;fill-rule:evenodd;stroke:#0000FF;stroke-width:2.0px;stroke-linecap:butt;stroke-linejoin:miter;stroke-opacity:1\"/>\n",
       "<path class=\"bond-16 atom-16 atom-17\" d=\"M 122.7,45.4 L 118.9,34.8\" style=\"fill:none;fill-rule:evenodd;stroke:#000000;stroke-width:2.0px;stroke-linecap:butt;stroke-linejoin:miter;stroke-opacity:1\"/>\n",
       "<path class=\"bond-17 atom-17 atom-18\" d=\"M 118.9,34.8 L 91.9,29.9\" style=\"fill:none;fill-rule:evenodd;stroke:#000000;stroke-width:2.0px;stroke-linecap:butt;stroke-linejoin:miter;stroke-opacity:1\"/>\n",
       "<path class=\"bond-18 atom-17 atom-19\" d=\"M 118.9,34.8 L 136.7,13.9\" style=\"fill:none;fill-rule:evenodd;stroke:#000000;stroke-width:2.0px;stroke-linecap:butt;stroke-linejoin:miter;stroke-opacity:1\"/>\n",
       "<path class=\"bond-19 atom-12 atom-20\" d=\"M 191.3,96.4 L 209.1,75.5\" style=\"fill:none;fill-rule:evenodd;stroke:#000000;stroke-width:2.0px;stroke-linecap:butt;stroke-linejoin:miter;stroke-opacity:1\"/>\n",
       "<path class=\"bond-19 atom-12 atom-20\" d=\"M 196.0,97.3 L 210.7,80.0\" style=\"fill:none;fill-rule:evenodd;stroke:#000000;stroke-width:2.0px;stroke-linecap:butt;stroke-linejoin:miter;stroke-opacity:1\"/>\n",
       "<path class=\"bond-20 atom-20 atom-21\" d=\"M 209.1,75.5 L 199.9,49.7\" style=\"fill:none;fill-rule:evenodd;stroke:#000000;stroke-width:2.0px;stroke-linecap:butt;stroke-linejoin:miter;stroke-opacity:1\"/>\n",
       "<path class=\"bond-21 atom-20 atom-22\" d=\"M 209.1,75.5 L 220.7,77.6\" style=\"fill:none;fill-rule:evenodd;stroke:#000000;stroke-width:2.0px;stroke-linecap:butt;stroke-linejoin:miter;stroke-opacity:1\"/>\n",
       "<path class=\"bond-21 atom-20 atom-22\" d=\"M 220.7,77.6 L 232.3,79.8\" style=\"fill:none;fill-rule:evenodd;stroke:#0000FF;stroke-width:2.0px;stroke-linecap:butt;stroke-linejoin:miter;stroke-opacity:1\"/>\n",
       "<path class=\"bond-22 atom-22 atom-23\" d=\"M 240.0,77.5 L 254.0,66.7\" style=\"fill:none;fill-rule:evenodd;stroke:#0000FF;stroke-width:2.0px;stroke-linecap:butt;stroke-linejoin:miter;stroke-opacity:1\"/>\n",
       "<path class=\"bond-23 atom-5 atom-24\" d=\"M 306.4,70.0 L 311.3,43.0\" style=\"fill:none;fill-rule:evenodd;stroke:#000000;stroke-width:2.0px;stroke-linecap:butt;stroke-linejoin:miter;stroke-opacity:1\"/>\n",
       "<path class=\"bond-23 atom-5 atom-24\" d=\"M 310.8,68.4 L 314.9,46.1\" style=\"fill:none;fill-rule:evenodd;stroke:#000000;stroke-width:2.0px;stroke-linecap:butt;stroke-linejoin:miter;stroke-opacity:1\"/>\n",
       "<path class=\"bond-24 atom-24 atom-1\" d=\"M 311.3,43.0 L 337.1,33.8\" style=\"fill:none;fill-rule:evenodd;stroke:#000000;stroke-width:2.0px;stroke-linecap:butt;stroke-linejoin:miter;stroke-opacity:1\"/>\n",
       "<path class=\"bond-25 atom-23 atom-6\" d=\"M 261.7,66.4 L 271.1,72.8\" style=\"fill:none;fill-rule:evenodd;stroke:#0000FF;stroke-width:2.0px;stroke-linecap:butt;stroke-linejoin:miter;stroke-opacity:1\"/>\n",
       "<path class=\"bond-25 atom-23 atom-6\" d=\"M 271.1,72.8 L 280.5,79.2\" style=\"fill:none;fill-rule:evenodd;stroke:#000000;stroke-width:2.0px;stroke-linecap:butt;stroke-linejoin:miter;stroke-opacity:1\"/>\n",
       "<path class=\"bond-25 atom-23 atom-6\" d=\"M 259.4,69.8 L 267.5,75.3\" style=\"fill:none;fill-rule:evenodd;stroke:#0000FF;stroke-width:2.0px;stroke-linecap:butt;stroke-linejoin:miter;stroke-opacity:1\"/>\n",
       "<path class=\"bond-25 atom-23 atom-6\" d=\"M 267.5,75.3 L 275.7,80.9\" style=\"fill:none;fill-rule:evenodd;stroke:#000000;stroke-width:2.0px;stroke-linecap:butt;stroke-linejoin:miter;stroke-opacity:1\"/>\n",
       "<path class=\"bond-26 atom-22 atom-8\" d=\"M 237.8,85.3 L 241.6,95.8\" style=\"fill:none;fill-rule:evenodd;stroke:#0000FF;stroke-width:2.0px;stroke-linecap:butt;stroke-linejoin:miter;stroke-opacity:1\"/>\n",
       "<path class=\"bond-26 atom-22 atom-8\" d=\"M 241.6,95.8 L 245.3,106.3\" style=\"fill:none;fill-rule:evenodd;stroke:#000000;stroke-width:2.0px;stroke-linecap:butt;stroke-linejoin:miter;stroke-opacity:1\"/>\n",
       "<path d=\"M 357.0,50.7 L 358.1,51.6 L 357.8,52.9\" style=\"fill:none;stroke:#000000;stroke-width:2.0px;stroke-linecap:butt;stroke-linejoin:miter;stroke-opacity:1;\"/>\n",
       "<path d=\"M 353.4,77.2 L 353.1,78.6 L 351.8,79.0\" style=\"fill:none;stroke:#000000;stroke-width:2.0px;stroke-linecap:butt;stroke-linejoin:miter;stroke-opacity:1;\"/>\n",
       "<path d=\"M 328.5,87.3 L 327.3,87.8 L 326.2,86.9\" style=\"fill:none;stroke:#000000;stroke-width:2.0px;stroke-linecap:butt;stroke-linejoin:miter;stroke-opacity:1;\"/>\n",
       "<path d=\"M 165.7,91.7 L 164.4,91.5 L 163.9,90.2\" style=\"fill:none;stroke:#000000;stroke-width:2.0px;stroke-linecap:butt;stroke-linejoin:miter;stroke-opacity:1;\"/>\n",
       "<path d=\"M 155.6,66.9 L 155.1,65.6 L 154.6,65.5\" style=\"fill:none;stroke:#000000;stroke-width:2.0px;stroke-linecap:butt;stroke-linejoin:miter;stroke-opacity:1;\"/>\n",
       "<path d=\"M 311.1,44.4 L 311.3,43.0 L 312.6,42.6\" style=\"fill:none;stroke:#000000;stroke-width:2.0px;stroke-linecap:butt;stroke-linejoin:miter;stroke-opacity:1;\"/>\n",
       "<path class=\"atom-7\" d=\"M 271.0 101.7 L 273.6 105.8 Q 273.8 106.2, 274.2 106.9 Q 274.7 107.7, 274.7 107.7 L 274.7 101.7 L 275.7 101.7 L 275.7 109.4 L 274.6 109.4 L 271.9 104.9 Q 271.6 104.4, 271.3 103.8 Q 270.9 103.2, 270.8 103.0 L 270.8 109.4 L 269.8 109.4 L 269.8 101.7 L 271.0 101.7 \" fill=\"#0000FF\"/>\n",
       "<path class=\"atom-9\" d=\"M 225.8 123.3 L 228.4 127.5 Q 228.6 127.9, 229.0 128.6 Q 229.4 129.3, 229.5 129.4 L 229.5 123.3 L 230.5 123.3 L 230.5 131.1 L 229.4 131.1 L 226.7 126.6 Q 226.4 126.1, 226.0 125.5 Q 225.7 124.9, 225.6 124.7 L 225.6 131.1 L 224.6 131.1 L 224.6 123.3 L 225.8 123.3 \" fill=\"#0000FF\"/>\n",
       "<path class=\"atom-15\" d=\"M 169.4 44.8 Q 169.4 42.9, 170.3 41.8 Q 171.2 40.8, 172.9 40.8 Q 174.6 40.8, 175.6 41.8 Q 176.5 42.9, 176.5 44.8 Q 176.5 46.6, 175.6 47.7 Q 174.6 48.8, 172.9 48.8 Q 171.2 48.8, 170.3 47.7 Q 169.4 46.7, 169.4 44.8 M 172.9 47.9 Q 174.1 47.9, 174.7 47.1 Q 175.4 46.3, 175.4 44.8 Q 175.4 43.2, 174.7 42.5 Q 174.1 41.7, 172.9 41.7 Q 171.7 41.7, 171.1 42.4 Q 170.5 43.2, 170.5 44.8 Q 170.5 46.3, 171.1 47.1 Q 171.7 47.9, 172.9 47.9 \" fill=\"#FF0000\"/>\n",
       "<path class=\"atom-16\" d=\"M 117.6 56.8 L 118.6 56.8 L 118.6 60.1 L 122.6 60.1 L 122.6 56.8 L 123.7 56.8 L 123.7 64.6 L 122.6 64.6 L 122.6 61.0 L 118.6 61.0 L 118.6 64.6 L 117.6 64.6 L 117.6 56.8 \" fill=\"#0000FF\"/>\n",
       "<path class=\"atom-16\" d=\"M 126.4 56.8 L 129.0 60.9 Q 129.2 61.3, 129.6 62.1 Q 130.0 62.8, 130.1 62.8 L 130.1 56.8 L 131.1 56.8 L 131.1 64.6 L 130.0 64.6 L 127.3 60.1 Q 127.0 59.5, 126.6 58.9 Q 126.3 58.3, 126.2 58.2 L 126.2 64.6 L 125.2 64.6 L 125.2 56.8 L 126.4 56.8 \" fill=\"#0000FF\"/>\n",
       "<path class=\"atom-22\" d=\"M 234.4 76.6 L 236.9 80.7 Q 237.2 81.1, 237.6 81.8 Q 238.0 82.6, 238.0 82.6 L 238.0 76.6 L 239.1 76.6 L 239.1 84.4 L 238.0 84.4 L 235.3 79.9 Q 235.0 79.3, 234.6 78.7 Q 234.3 78.1, 234.2 77.9 L 234.2 84.4 L 233.2 84.4 L 233.2 76.6 L 234.4 76.6 \" fill=\"#0000FF\"/>\n",
       "<path class=\"atom-23\" d=\"M 256.1 59.8 L 258.7 64.0 Q 258.9 64.4, 259.3 65.1 Q 259.8 65.8, 259.8 65.9 L 259.8 59.8 L 260.8 59.8 L 260.8 67.6 L 259.7 67.6 L 257.0 63.1 Q 256.7 62.6, 256.3 62.0 Q 256.0 61.4, 255.9 61.2 L 255.9 67.6 L 254.9 67.6 L 254.9 59.8 L 256.1 59.8 \" fill=\"#0000FF\"/>\n",
       "</svg>"
      ],
      "text/plain": [
       "<IPython.core.display.SVG object>"
      ]
     },
     "metadata": {},
     "output_type": "display_data"
    },
    {
     "data": {
      "image/svg+xml": [
       "<svg xmlns=\"http://www.w3.org/2000/svg\" xmlns:rdkit=\"http://www.rdkit.org/xml\" xmlns:xlink=\"http://www.w3.org/1999/xlink\" version=\"1.1\" baseProfile=\"full\" xml:space=\"preserve\" width=\"450px\" height=\"150px\" viewBox=\"0 0 450 150\">\n",
       "<!-- END OF HEADER -->\n",
       "<rect style=\"opacity:1.0;fill:#FFFFFF;stroke:none\" width=\"450.0\" height=\"150.0\" x=\"0.0\" y=\"0.0\"> </rect>\n",
       "<path class=\"bond-0 atom-0 atom-1\" d=\"M 250.8,86.5 L 214.8,68.0\" style=\"fill:none;fill-rule:evenodd;stroke:#000000;stroke-width:2.0px;stroke-linecap:butt;stroke-linejoin:miter;stroke-opacity:1\"/>\n",
       "<path class=\"bond-1 atom-1 atom-2\" d=\"M 214.8,68.0 L 190.3,100.3\" style=\"fill:none;fill-rule:evenodd;stroke:#000000;stroke-width:2.0px;stroke-linecap:butt;stroke-linejoin:miter;stroke-opacity:1\"/>\n",
       "<path class=\"bond-2 atom-2 atom-3\" d=\"M 190.3,100.3 L 168.2,134.4 L 163.3,130.8 Z\" style=\"fill:#000000;fill-rule:evenodd;fill-opacity:1;stroke:#000000;stroke-width:0.5px;stroke-linecap:butt;stroke-linejoin:miter;stroke-opacity:1;\"/>\n",
       "<path class=\"bond-3 atom-2 atom-4\" d=\"M 190.3,100.3 L 203.6,110.4\" style=\"fill:none;fill-rule:evenodd;stroke:#000000;stroke-width:2.0px;stroke-linecap:butt;stroke-linejoin:miter;stroke-opacity:1\"/>\n",
       "<path class=\"bond-3 atom-2 atom-4\" d=\"M 203.6,110.4 L 216.9,120.5\" style=\"fill:none;fill-rule:evenodd;stroke:#0000FF;stroke-width:2.0px;stroke-linecap:butt;stroke-linejoin:miter;stroke-opacity:1\"/>\n",
       "<path class=\"bond-4 atom-4 atom-5\" d=\"M 228.2,122.4 L 244.1,115.8\" style=\"fill:none;fill-rule:evenodd;stroke:#0000FF;stroke-width:2.0px;stroke-linecap:butt;stroke-linejoin:miter;stroke-opacity:1\"/>\n",
       "<path class=\"bond-4 atom-4 atom-5\" d=\"M 244.1,115.8 L 259.9,109.1\" style=\"fill:none;fill-rule:evenodd;stroke:#000000;stroke-width:2.0px;stroke-linecap:butt;stroke-linejoin:miter;stroke-opacity:1\"/>\n",
       "<path class=\"bond-5 atom-5 atom-6\" d=\"M 259.9,109.1 L 292.2,133.6\" style=\"fill:none;fill-rule:evenodd;stroke:#000000;stroke-width:2.0px;stroke-linecap:butt;stroke-linejoin:miter;stroke-opacity:1\"/>\n",
       "<path class=\"bond-5 atom-5 atom-6\" d=\"M 266.4,106.4 L 293.1,126.6\" style=\"fill:none;fill-rule:evenodd;stroke:#000000;stroke-width:2.0px;stroke-linecap:butt;stroke-linejoin:miter;stroke-opacity:1\"/>\n",
       "<path class=\"bond-6 atom-6 atom-7\" d=\"M 292.2,133.6 L 329.6,117.9\" style=\"fill:none;fill-rule:evenodd;stroke:#000000;stroke-width:2.0px;stroke-linecap:butt;stroke-linejoin:miter;stroke-opacity:1\"/>\n",
       "<path class=\"bond-7 atom-7 atom-8\" d=\"M 329.6,117.9 L 334.7,77.7\" style=\"fill:none;fill-rule:evenodd;stroke:#000000;stroke-width:2.0px;stroke-linecap:butt;stroke-linejoin:miter;stroke-opacity:1\"/>\n",
       "<path class=\"bond-7 atom-7 atom-8\" d=\"M 324.0,113.7 L 328.2,80.4\" style=\"fill:none;fill-rule:evenodd;stroke:#000000;stroke-width:2.0px;stroke-linecap:butt;stroke-linejoin:miter;stroke-opacity:1\"/>\n",
       "<path class=\"bond-8 atom-8 atom-9\" d=\"M 334.7,77.7 L 302.4,53.2\" style=\"fill:none;fill-rule:evenodd;stroke:#000000;stroke-width:2.0px;stroke-linecap:butt;stroke-linejoin:miter;stroke-opacity:1\"/>\n",
       "<path class=\"bond-9 atom-9 atom-10\" d=\"M 302.4,53.2 L 304.4,36.9\" style=\"fill:none;fill-rule:evenodd;stroke:#000000;stroke-width:2.0px;stroke-linecap:butt;stroke-linejoin:miter;stroke-opacity:1\"/>\n",
       "<path class=\"bond-9 atom-9 atom-10\" d=\"M 304.4,36.9 L 306.5,20.6\" style=\"fill:none;fill-rule:evenodd;stroke:#00CC00;stroke-width:2.0px;stroke-linecap:butt;stroke-linejoin:miter;stroke-opacity:1\"/>\n",
       "<path class=\"bond-10 atom-9 atom-11\" d=\"M 302.4,53.2 L 265.0,68.9\" style=\"fill:none;fill-rule:evenodd;stroke:#000000;stroke-width:2.0px;stroke-linecap:butt;stroke-linejoin:miter;stroke-opacity:1\"/>\n",
       "<path class=\"bond-10 atom-9 atom-11\" d=\"M 301.5,60.2 L 270.6,73.1\" style=\"fill:none;fill-rule:evenodd;stroke:#000000;stroke-width:2.0px;stroke-linecap:butt;stroke-linejoin:miter;stroke-opacity:1\"/>\n",
       "<path class=\"bond-11 atom-2 atom-12\" d=\"M 190.3,100.3 L 158.0,75.8\" style=\"fill:none;fill-rule:evenodd;stroke:#000000;stroke-width:2.0px;stroke-linecap:butt;stroke-linejoin:miter;stroke-opacity:1\"/>\n",
       "<path class=\"bond-12 atom-12 atom-13\" d=\"M 158.4,72.3 L 142.2,79.1\" style=\"fill:none;fill-rule:evenodd;stroke:#000000;stroke-width:2.0px;stroke-linecap:butt;stroke-linejoin:miter;stroke-opacity:1\"/>\n",
       "<path class=\"bond-12 atom-12 atom-13\" d=\"M 142.2,79.1 L 126.0,85.9\" style=\"fill:none;fill-rule:evenodd;stroke:#FF0000;stroke-width:2.0px;stroke-linecap:butt;stroke-linejoin:miter;stroke-opacity:1\"/>\n",
       "<path class=\"bond-12 atom-12 atom-13\" d=\"M 160.8,77.9 L 144.6,84.7\" style=\"fill:none;fill-rule:evenodd;stroke:#000000;stroke-width:2.0px;stroke-linecap:butt;stroke-linejoin:miter;stroke-opacity:1\"/>\n",
       "<path class=\"bond-12 atom-12 atom-13\" d=\"M 144.6,84.7 L 128.4,91.5\" style=\"fill:none;fill-rule:evenodd;stroke:#FF0000;stroke-width:2.0px;stroke-linecap:butt;stroke-linejoin:miter;stroke-opacity:1\"/>\n",
       "<path class=\"bond-13 atom-12 atom-14\" d=\"M 158.0,75.8 L 160.1,59.4\" style=\"fill:none;fill-rule:evenodd;stroke:#000000;stroke-width:2.0px;stroke-linecap:butt;stroke-linejoin:miter;stroke-opacity:1\"/>\n",
       "<path class=\"bond-13 atom-12 atom-14\" d=\"M 160.1,59.4 L 162.1,42.9\" style=\"fill:none;fill-rule:evenodd;stroke:#FF0000;stroke-width:2.0px;stroke-linecap:butt;stroke-linejoin:miter;stroke-opacity:1\"/>\n",
       "<path class=\"bond-14 atom-1 atom-15\" d=\"M 214.8,68.0 L 226.8,29.3\" style=\"fill:none;fill-rule:evenodd;stroke:#000000;stroke-width:2.0px;stroke-linecap:butt;stroke-linejoin:miter;stroke-opacity:1\"/>\n",
       "<path class=\"bond-15 atom-15 atom-16\" d=\"M 226.8,29.3 L 187.2,38.3\" style=\"fill:none;fill-rule:evenodd;stroke:#000000;stroke-width:2.0px;stroke-linecap:butt;stroke-linejoin:miter;stroke-opacity:1\"/>\n",
       "<path class=\"bond-16 atom-16 atom-1\" d=\"M 187.2,38.3 L 214.8,68.0\" style=\"fill:none;fill-rule:evenodd;stroke:#000000;stroke-width:2.0px;stroke-linecap:butt;stroke-linejoin:miter;stroke-opacity:1\"/>\n",
       "<path class=\"bond-17 atom-11 atom-5\" d=\"M 265.0,68.9 L 259.9,109.1\" style=\"fill:none;fill-rule:evenodd;stroke:#000000;stroke-width:2.0px;stroke-linecap:butt;stroke-linejoin:miter;stroke-opacity:1\"/>\n",
       "<path d=\"M 290.6,132.4 L 292.2,133.6 L 294.1,132.8\" style=\"fill:none;stroke:#000000;stroke-width:2.0px;stroke-linecap:butt;stroke-linejoin:miter;stroke-opacity:1;\"/>\n",
       "<path d=\"M 327.7,118.7 L 329.6,117.9 L 329.8,115.9\" style=\"fill:none;stroke:#000000;stroke-width:2.0px;stroke-linecap:butt;stroke-linejoin:miter;stroke-opacity:1;\"/>\n",
       "<path d=\"M 334.4,79.7 L 334.7,77.7 L 333.0,76.5\" style=\"fill:none;stroke:#000000;stroke-width:2.0px;stroke-linecap:butt;stroke-linejoin:miter;stroke-opacity:1;\"/>\n",
       "<path d=\"M 266.9,68.1 L 265.0,68.9 L 264.7,70.9\" style=\"fill:none;stroke:#000000;stroke-width:2.0px;stroke-linecap:butt;stroke-linejoin:miter;stroke-opacity:1;\"/>\n",
       "<path d=\"M 159.6,77.0 L 158.0,75.8 L 158.1,75.0\" style=\"fill:none;stroke:#000000;stroke-width:2.0px;stroke-linecap:butt;stroke-linejoin:miter;stroke-opacity:1;\"/>\n",
       "<path d=\"M 226.2,31.2 L 226.8,29.3 L 224.8,29.8\" style=\"fill:none;stroke:#000000;stroke-width:2.0px;stroke-linecap:butt;stroke-linejoin:miter;stroke-opacity:1;\"/>\n",
       "<path d=\"M 189.2,37.8 L 187.2,38.3 L 188.6,39.8\" style=\"fill:none;stroke:#000000;stroke-width:2.0px;stroke-linecap:butt;stroke-linejoin:miter;stroke-opacity:1;\"/>\n",
       "<path class=\"atom-4\" d=\"M 220.0 119.1 L 223.8 125.2 Q 224.2 125.8, 224.8 126.8 Q 225.4 127.9, 225.4 128.0 L 225.4 119.1 L 226.9 119.1 L 226.9 130.6 L 225.3 130.6 L 221.3 123.9 Q 220.8 123.1, 220.3 122.2 Q 219.8 121.3, 219.7 121.1 L 219.7 130.6 L 218.2 130.6 L 218.2 119.1 L 220.0 119.1 \" fill=\"#0000FF\"/>\n",
       "<path class=\"atom-4\" d=\"M 218.1 131.7 L 219.6 131.7 L 219.6 136.6 L 225.5 136.6 L 225.5 131.7 L 227.0 131.7 L 227.0 143.2 L 225.5 143.2 L 225.5 137.9 L 219.6 137.9 L 219.6 143.2 L 218.1 143.2 L 218.1 131.7 \" fill=\"#0000FF\"/>\n",
       "<path class=\"atom-10\" d=\"M 303.0 13.4 Q 303.0 10.5, 304.3 9.0 Q 305.7 7.5, 308.2 7.5 Q 310.6 7.5, 311.9 9.2 L 310.8 10.1 Q 309.9 8.8, 308.2 8.8 Q 306.5 8.8, 305.6 10.0 Q 304.7 11.2, 304.7 13.4 Q 304.7 15.6, 305.6 16.8 Q 306.6 18.0, 308.4 18.0 Q 309.7 18.0, 311.2 17.2 L 311.6 18.4 Q 311.0 18.8, 310.1 19.0 Q 309.2 19.3, 308.2 19.3 Q 305.7 19.3, 304.3 17.7 Q 303.0 16.2, 303.0 13.4 \" fill=\"#00CC00\"/>\n",
       "<path class=\"atom-10\" d=\"M 313.0 6.8 L 314.5 6.8 L 314.5 19.1 L 313.0 19.1 L 313.0 6.8 \" fill=\"#00CC00\"/>\n",
       "<path class=\"atom-13\" d=\"M 115.3 91.5 Q 115.3 88.8, 116.7 87.2 Q 118.1 85.7, 120.6 85.7 Q 123.2 85.7, 124.5 87.2 Q 125.9 88.8, 125.9 91.5 Q 125.9 94.3, 124.5 95.9 Q 123.1 97.5, 120.6 97.5 Q 118.1 97.5, 116.7 95.9 Q 115.3 94.4, 115.3 91.5 M 120.6 96.2 Q 122.4 96.2, 123.3 95.0 Q 124.3 93.8, 124.3 91.5 Q 124.3 89.3, 123.3 88.2 Q 122.4 87.0, 120.6 87.0 Q 118.9 87.0, 117.9 88.1 Q 117.0 89.3, 117.0 91.5 Q 117.0 93.9, 117.9 95.0 Q 118.9 96.2, 120.6 96.2 \" fill=\"#FF0000\"/>\n",
       "<path class=\"atom-14\" d=\"M 157.8 35.6 Q 157.8 32.9, 159.2 31.3 Q 160.5 29.8, 163.1 29.8 Q 165.6 29.8, 167.0 31.3 Q 168.3 32.9, 168.3 35.6 Q 168.3 38.4, 167.0 40.0 Q 165.6 41.6, 163.1 41.6 Q 160.5 41.6, 159.2 40.0 Q 157.8 38.4, 157.8 35.6 M 163.1 40.3 Q 164.8 40.3, 165.8 39.1 Q 166.7 37.9, 166.7 35.6 Q 166.7 33.4, 165.8 32.2 Q 164.8 31.1, 163.1 31.1 Q 161.3 31.1, 160.4 32.2 Q 159.4 33.4, 159.4 35.6 Q 159.4 37.9, 160.4 39.1 Q 161.3 40.3, 163.1 40.3 \" fill=\"#FF0000\"/>\n",
       "<path class=\"atom-14\" d=\"M 170.0 31.7 L 173.9 31.7 L 173.9 32.5 L 170.0 32.5 L 170.0 31.7 \" fill=\"#FF0000\"/>\n",
       "</svg>"
      ],
      "text/plain": [
       "<IPython.core.display.SVG object>"
      ]
     },
     "metadata": {},
     "output_type": "display_data"
    }
   ],
   "source": [
    "for m in np.random.choice(all_mols, size=10, replace=False):\n",
    "    IPython.display.display(plot_molecule(m))"
   ]
  },
  {
   "cell_type": "markdown",
   "id": "527d8a8e",
   "metadata": {},
   "source": [
    "### Quantify different attributes"
   ]
  },
  {
   "cell_type": "markdown",
   "id": "1ef093bd",
   "metadata": {},
   "source": [
    "**Aromaticity**"
   ]
  },
  {
   "cell_type": "code",
   "execution_count": 8,
   "id": "6d5db56c",
   "metadata": {},
   "outputs": [
    {
     "data": {
      "application/vnd.jupyter.widget-view+json": {
       "model_id": "cdef519bd1b541a28f4d15780f4a525f",
       "version_major": 2,
       "version_minor": 0
      },
      "text/plain": [
       "  0%|          | 0/249455 [00:00<?, ?it/s]"
      ]
     },
     "metadata": {},
     "output_type": "display_data"
    }
   ],
   "source": [
    "aro = [any(a.GetIsAromatic() for a in m.GetAtoms()) for m in tqdm.notebook.tqdm(all_mols)]"
   ]
  },
  {
   "cell_type": "code",
   "execution_count": 9,
   "id": "9a20ea49",
   "metadata": {},
   "outputs": [
    {
     "data": {
      "text/plain": [
       "0.9333907919263995"
      ]
     },
     "execution_count": 9,
     "metadata": {},
     "output_type": "execute_result"
    }
   ],
   "source": [
    "np.sum(aro) / len(aro)"
   ]
  },
  {
   "cell_type": "markdown",
   "id": "3cd15586",
   "metadata": {},
   "source": [
    "**Cyclicity**"
   ]
  },
  {
   "cell_type": "code",
   "execution_count": 10,
   "id": "015a5ef3",
   "metadata": {},
   "outputs": [
    {
     "data": {
      "application/vnd.jupyter.widget-view+json": {
       "model_id": "6d7d8c4949d64fa28380bf2c8b54ff3f",
       "version_major": 2,
       "version_minor": 0
      },
      "text/plain": [
       "  0%|          | 0/249455 [00:00<?, ?it/s]"
      ]
     },
     "metadata": {},
     "output_type": "display_data"
    }
   ],
   "source": [
    "cyc_num = np.zeros(len(all_graphs), dtype=int)\n",
    "bicyc = np.tile(False, len(all_graphs))\n",
    "for g_i, g in tqdm.notebook.tqdm(enumerate(all_graphs), total=len(all_graphs)):\n",
    "    cycles = nx.cycle_basis(g)\n",
    "    cyc_num[g_i] = len(cycles)\n",
    "    if len(cycles) < 2:\n",
    "        continue\n",
    "    cycles = [set(x) for x in cycles]\n",
    "    for i in range(len(cycles)):\n",
    "        for j in range(i):\n",
    "            if cycles[i] & cycles[j]:\n",
    "                bicyc[g_i] = True"
   ]
  },
  {
   "cell_type": "code",
   "execution_count": 11,
   "id": "63dcba9a",
   "metadata": {},
   "outputs": [
    {
     "data": {
      "text/plain": [
       "(array([0, 1, 2, 3, 4, 5, 6, 7, 8]),\n",
       " array([ 1109, 20544, 83075, 90871, 43435,  9415,   951,    52,     3]))"
      ]
     },
     "execution_count": 11,
     "metadata": {},
     "output_type": "execute_result"
    }
   ],
   "source": [
    "np.unique(cyc_num, return_counts=True)"
   ]
  },
  {
   "cell_type": "code",
   "execution_count": 12,
   "id": "07f32603",
   "metadata": {},
   "outputs": [
    {
     "name": "stdout",
     "output_type": "stream",
     "text": [
      "86198\n",
      "579474\n"
     ]
    }
   ],
   "source": [
    "print(np.sum(bicyc))\n",
    "print(np.sum(cyc_num[cyc_num >= 2]) - np.sum(bicyc))"
   ]
  },
  {
   "cell_type": "markdown",
   "id": "df650e49",
   "metadata": {},
   "source": [
    "**Halogens**"
   ]
  },
  {
   "cell_type": "code",
   "execution_count": 27,
   "id": "5fef2260",
   "metadata": {},
   "outputs": [
    {
     "data": {
      "application/vnd.jupyter.widget-view+json": {
       "model_id": "b9c583d54bb840e083672f8b1e9b38bd",
       "version_major": 2,
       "version_minor": 0
      },
      "text/plain": [
       "  0%|          | 0/249455 [00:00<?, ?it/s]"
      ]
     },
     "metadata": {},
     "output_type": "display_data"
    }
   ],
   "source": [
    "has_halogen = [any(a.GetAtomicNum() in (9, 17, 35, 53) for a in m.GetAtoms()) for m in tqdm.notebook.tqdm(all_mols)]"
   ]
  },
  {
   "cell_type": "code",
   "execution_count": 28,
   "id": "889a5a46",
   "metadata": {},
   "outputs": [
    {
     "data": {
      "text/plain": [
       "0.35135395161451966"
      ]
     },
     "execution_count": 28,
     "metadata": {},
     "output_type": "execute_result"
    }
   ],
   "source": [
    "np.sum(has_halogen) / len(has_halogen)"
   ]
  }
 ],
 "metadata": {
  "kernelspec": {
   "display_name": "Python 3 (ipykernel)",
   "language": "python",
   "name": "python3"
  },
  "language_info": {
   "codemirror_mode": {
    "name": "ipython",
    "version": 3
   },
   "file_extension": ".py",
   "mimetype": "text/x-python",
   "name": "python",
   "nbconvert_exporter": "python",
   "pygments_lexer": "ipython3",
   "version": "3.8.13"
  }
 },
 "nbformat": 4,
 "nbformat_minor": 5
}
